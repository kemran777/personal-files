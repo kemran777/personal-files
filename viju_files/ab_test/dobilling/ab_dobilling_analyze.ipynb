{
 "cells": [
  {
   "cell_type": "code",
   "execution_count": 1,
   "id": "54ad4751-63f3-43e2-a96d-7c1f195174a3",
   "metadata": {
    "tags": []
   },
   "outputs": [],
   "source": [
    "import pandas as pd\n",
    "import psycopg2\n",
    "import matplotlib.pyplot as plt\n",
    "import matplotlib.ticker as ticker\n",
    "import numpy as np\n",
    "import seaborn as sns \n",
    "import statsmodels.stats.proportion as proportion\n",
    "from statsmodels.stats.proportion import proportions_ztest\n",
    "from scipy.stats import ttest_ind,mannwhitneyu,shapiro,norm\n",
    "from statsmodels.stats.weightstats import ztest\n",
    "from tqdm import tqdm\n",
    "import timeit\n",
    "from scipy import stats\n",
    "import math\n",
    "from datetime import date, datetime, timedelta\n",
    "import time\n",
    "from sqlalchemy import create_engine, text\n",
    "from sqlalchemy.orm import sessionmaker\n",
    "import warnings\n",
    "warnings.filterwarnings(\"ignore\")\n",
    "import clickhouse_connect  \n",
    "\n",
    "\n",
    "sys.path.append('/Users/kemran/Desktop/work_files/python_files') \n",
    "from credential import postgres_secret,clickhouse_dwh_secret\n",
    "\n",
    "def get_engine(user):\n",
    "    if user == postgres_secret['user']:\n",
    "        db_name = postgres_secret['db_name']\n",
    "        password = postgres_secret['password']\n",
    "        host = postgres_secret['host']\n",
    "        engine = create_engine(f'postgresql://{user}:{password}@{host}:6432/{db_name}')\n",
    "    elif user == clickhouse_dwh_secret['user']:\n",
    "            db_name = clickhouse_dwh_secret['db_name'] \n",
    "            password = clickhouse_dwh_secret['password']\n",
    "            host = clickhouse_dwh_secret['host']\n",
    "            engine = create_engine(f'clickhouse://{user}:{password}@{host}:8123/{db_name}')\n",
    "    return engine\n",
    "    \n",
    "connection_clickhouse = clickhouse_connect.get_client(\n",
    "    host = clickhouse_dwh_secret['host'],\n",
    "    port= '8123',\n",
    "    username = clickhouse_dwh_secret['user'],\n",
    "    password = clickhouse_dwh_secret['password'],\n",
    "    database='datamarts'\n",
    "    )\n",
    "\n",
    "    \n",
    "def execute(SQL, user):\n",
    "    start_time = time.time()  # запоминаем время начала выполнения функции\n",
    "    engine = get_engine(user)\n",
    "    Session = sessionmaker(bind=engine)  # sessions factory ()\n",
    "    with Session() as session: # open session\n",
    "        result = session.execute(text(SQL))\n",
    "        df = pd.DataFrame(result.fetchall(), columns=result.keys())\n",
    "        \n",
    "    end_time = time.time()  # запоминаем время окончания выполнения функции\n",
    "    execution_time = round(end_time - start_time,4) # вычисляем время выполнения   \n",
    "    \n",
    "    print(f\"Время выполнения функции: {execution_time} секунд\")\n",
    "    print()\n",
    "    return df"
   ]
  },
  {
   "cell_type": "code",
   "execution_count": 96,
   "id": "18910f2e-dafb-4e75-ac42-5d956e49a88e",
   "metadata": {
    "tags": []
   },
   "outputs": [
    {
     "name": "stdout",
     "output_type": "stream",
     "text": [
      "Время выполнения функции: 7.4345 секунд\n",
      "\n"
     ]
    }
   ],
   "source": [
    "query = f'''\n",
    "WITH all_info AS (SELECT  \n",
    "        s.user_id AS user_id,\n",
    "        t3.created_at::date as trial_start,\n",
    "        s.id AS id,\n",
    "       -- leadInFrame(id) OVER (PARTITION BY user_id ORDER BY invoice_created_at  ROWS BETWEEN UNBOUNDED PRECEDING AND UNBOUNDED FOLLOWING) AS next_id,\n",
    "        i.state as invoice_state,\n",
    "        --leadInFrame(invoice_state) OVER (PARTITION BY user_id ORDER BY invoice_created_at  ROWS BETWEEN UNBOUNDED PRECEDING AND UNBOUNDED FOLLOWING) AS next_invoice_state,\n",
    "        i.id as invoice_id,\n",
    "        i.created_at as invoice_created_at,\n",
    "        --leadInFrame(invoice_created_at) OVER (PARTITION BY user_id ORDER BY invoice_created_at  ROWS BETWEEN UNBOUNDED PRECEDING AND UNBOUNDED FOLLOWING) AS next_invoice_created_at,  \n",
    "      --  next_invoice_created_at::date - invoice_created_at::date delta_date,\n",
    "        i.price_cents AS price_cents,\n",
    "        i.price_currency AS price_currency,\n",
    "        i.refund_amount_cents AS refund_amount_cents,\n",
    "        t4.bonus_title_new AS bonus_title_new,\n",
    "        ROW_NUMBER() OVER (PARTITION BY user_id,id,user_type,invoice_state ORDER BY invoice_created_at) AS rn_num,\n",
    "        CASE WHEN price_cents<=100 AND invoice_state='success' THEN 'trial'\n",
    "             WHEN price_cents<=100 AND invoice_state IN ('failure','initial') THEN 'not_success_trial'\n",
    "             ELSE 'subs'\n",
    "             END user_type,\n",
    "        leadInFrame(user_type) OVER (PARTITION BY user_id ORDER BY invoice_created_at  ROWS BETWEEN UNBOUNDED PRECEDING AND UNBOUNDED FOLLOWING) AS next_user_type, \n",
    "        t2.renewal_off_date AS renewal_off_date,\n",
    "        CASE WHEN renewal_off_date!='1970-01-01' THEN 1 ELSE 0 END unsubscribe_type,\n",
    "        t3.free_days AS free_days,\n",
    "        t3.offer_duration AS offer_duration,\n",
    "        t3.promo_type,\n",
    "        i.paid_at AS paid_at,\n",
    "        --i.period_end,\n",
    "        s.platform AS platform,\n",
    "       -- i.payment_target,\n",
    "        i.deleted_at,\n",
    "        i.refunded_at\n",
    "    FROM raw.viju__product_x__public__invoices i\n",
    "    LEFT JOIN raw.viju__product_x__public__subscriptions s \n",
    "        ON i.subscription_id = s.id  \n",
    "    LEFT JOIN (SELECT\n",
    "                subscription_id,\n",
    "                max(created_at) as renewal_off_date\n",
    "                FROM raw.viju__product_x__public__subscription_cancel_reasons\n",
    "                WHERE created_at >= '2022-03-01'\n",
    "                 --AND subscription_id='74bcff94-4ada-40ef-85de-25074d615d57'\n",
    "                GROUP by 1\n",
    "                ) AS t2 ON i.subscription_id=t2.subscription_id\n",
    "    INNER JOIN datamarts.marketing_dash AS t3 ON s.user_id=t3.user_id\n",
    "    LEFT JOIN datamarts.mekhtiev_bonus_distr AS t4 ON t3.bonus_title=t4.bonus_title_old\n",
    "    WHERE s.platform != 'api'\n",
    "    ORDER BY s.user_id, invoice_created_at \n",
    "    )\n",
    "--    \n",
    "SELECT * FROM all_info\n",
    "WHERE invoice_created_at::date BETWEEN '2025-03-25' AND '2025-04-07'\n",
    "--AND user_type!='not_success_trial'\n",
    "-- platform!='payture'\n",
    "AND free_days!='28'\n",
    "--AND invoice_state!='initial'\n",
    "'''\n",
    "df = execute(query,user='kmekhtiev')"
   ]
  },
  {
   "cell_type": "markdown",
   "id": "76ef9f61-0471-4f44-b9b8-b1fc8e9e29a1",
   "metadata": {},
   "source": [
    "# Расчитем целевую метрику - конверсия в оплату"
   ]
  },
  {
   "cell_type": "code",
   "execution_count": 98,
   "id": "ad828e6f-fa66-4bbc-acea-cf5b9c96549f",
   "metadata": {
    "tags": []
   },
   "outputs": [],
   "source": [
    "df_test = pd.read_csv('group_b_test_ids.csv')\n",
    "df_control = pd.read_csv('group_a_control_ids.csv')"
   ]
  },
  {
   "cell_type": "code",
   "execution_count": 99,
   "id": "99f0690c-b11e-45cf-ac8e-370590f58e09",
   "metadata": {},
   "outputs": [],
   "source": [
    "df_merge_test = pd.merge(df,df_test,how='inner',on='user_id',indicator='group')\n",
    "\n",
    "df_merge_control = pd.merge(df,df_control,how='inner',on='user_id',indicator='group')\n",
    "\n",
    "df_merge_test['group'] = df_merge_test['group'].apply(lambda x:'test' if x=='both' else 'control')\n",
    "df_merge_control['group'] = df_merge_control['group'].apply(lambda x:'control' if x=='both' else 'control')"
   ]
  },
  {
   "cell_type": "code",
   "execution_count": 103,
   "id": "f7a415d5-6d12-4267-a01c-d7b68da5ba12",
   "metadata": {
    "tags": []
   },
   "outputs": [
    {
     "data": {
      "text/plain": [
       "2259"
      ]
     },
     "execution_count": 103,
     "metadata": {},
     "output_type": "execute_result"
    }
   ],
   "source": [
    "df_merge_test['user_id'].nunique()"
   ]
  },
  {
   "cell_type": "code",
   "execution_count": 105,
   "id": "e5039dd8-009d-4887-8fed-a1bea31db3c0",
   "metadata": {
    "tags": []
   },
   "outputs": [
    {
     "data": {
      "text/plain": [
       "2246"
      ]
     },
     "execution_count": 105,
     "metadata": {},
     "output_type": "execute_result"
    }
   ],
   "source": [
    "df_merge_control['user_id'].nunique()"
   ]
  },
  {
   "cell_type": "code",
   "execution_count": 107,
   "id": "2b0d47c5-aef4-4e5a-9de7-ffbcdfaaa7be",
   "metadata": {
    "tags": []
   },
   "outputs": [
    {
     "data": {
      "text/plain": [
       "invoice_state\n",
       "failure    932\n",
       "initial      2\n",
       "success      1\n",
       "Name: user_id, dtype: int64"
      ]
     },
     "execution_count": 107,
     "metadata": {},
     "output_type": "execute_result"
    }
   ],
   "source": [
    "# Тестовая группа\n",
    "df_merge_test['rn_num_2'] = df_merge_test.groupby(['user_id','invoice_state']).cumcount()+1\n",
    "df_merge_test[df_merge_test['rn_num_2']>1].groupby('invoice_state')['user_id'].nunique()"
   ]
  },
  {
   "cell_type": "code",
   "execution_count": 109,
   "id": "08bb8c9c-e71f-462c-a023-c41b249dfd86",
   "metadata": {
    "tags": []
   },
   "outputs": [
    {
     "data": {
      "text/plain": [
       "rn_num_2\n",
       "1     1056\n",
       "2      932\n",
       "3      828\n",
       "4      748\n",
       "5      690\n",
       "6      528\n",
       "7        1\n",
       "8        1\n",
       "9        1\n",
       "10       1\n",
       "11       1\n",
       "12       1\n",
       "13       1\n",
       "14       1\n",
       "15       1\n",
       "16       1\n",
       "17       1\n",
       "Name: user_id, dtype: int64"
      ]
     },
     "execution_count": 109,
     "metadata": {},
     "output_type": "execute_result"
    }
   ],
   "source": [
    "# Тестовая группа\n",
    "df_merge_test[(df_merge_test['rn_num_2']>=1) & (df_merge_test['invoice_state']=='failure')].groupby('rn_num_2')['user_id'].nunique()"
   ]
  },
  {
   "cell_type": "code",
   "execution_count": 111,
   "id": "6a94935f-1a02-496f-ac49-67eba9a023a4",
   "metadata": {
    "tags": []
   },
   "outputs": [
    {
     "data": {
      "text/plain": [
       "invoice_state\n",
       "failure    979\n",
       "initial      2\n",
       "Name: user_id, dtype: int64"
      ]
     },
     "execution_count": 111,
     "metadata": {},
     "output_type": "execute_result"
    }
   ],
   "source": [
    "# Контрольная группа\n",
    "df_merge_control['rn_num_2'] = df_merge_control.groupby(['user_id','invoice_state']).cumcount()+1\n",
    "df_merge_control[df_merge_control['rn_num_2']>1].groupby('invoice_state')['user_id'].nunique()"
   ]
  },
  {
   "cell_type": "code",
   "execution_count": 113,
   "id": "0297146f-9b33-4554-b97f-e93bc0444382",
   "metadata": {
    "tags": []
   },
   "outputs": [
    {
     "data": {
      "text/plain": [
       "rn_num_2\n",
       "1    1051\n",
       "2     979\n",
       "3     936\n",
       "4     876\n",
       "5       6\n",
       "6       4\n",
       "Name: user_id, dtype: int64"
      ]
     },
     "execution_count": 113,
     "metadata": {},
     "output_type": "execute_result"
    }
   ],
   "source": [
    "# Контрольная группа\n",
    "df_merge_control[(df_merge_control['rn_num_2']>=1) & (df_merge_control['invoice_state']=='failure')].groupby('rn_num_2')['user_id'].nunique()"
   ]
  },
  {
   "cell_type": "code",
   "execution_count": 115,
   "id": "57b70f60-cf5d-496f-b77d-bf23ff9f0d35",
   "metadata": {
    "tags": []
   },
   "outputs": [
    {
     "data": {
      "text/plain": [
       "0.5302760463045414"
      ]
     },
     "execution_count": 115,
     "metadata": {},
     "output_type": "execute_result"
    }
   ],
   "source": [
    "df_merge_control[df_merge_control['invoice_state']=='success']['user_id'].nunique()/df_merge_control['user_id'].nunique()"
   ]
  },
  {
   "cell_type": "code",
   "execution_count": 117,
   "id": "1b799751-ffe7-475f-9bda-ca1e7419f3c0",
   "metadata": {
    "tags": []
   },
   "outputs": [
    {
     "data": {
      "text/plain": [
       "invoice_state\n",
       "failure     1051\n",
       "initial       36\n",
       "refunded      25\n",
       "success     1191\n",
       "Name: user_id, dtype: int64"
      ]
     },
     "execution_count": 117,
     "metadata": {},
     "output_type": "execute_result"
    }
   ],
   "source": [
    "df_merge_control.groupby('invoice_state')['user_id'].nunique()"
   ]
  },
  {
   "cell_type": "code",
   "execution_count": 119,
   "id": "a85851bd-a08a-477c-928a-1e8c89b21fae",
   "metadata": {
    "tags": []
   },
   "outputs": [
    {
     "data": {
      "text/plain": [
       "0.5489154493138557"
      ]
     },
     "execution_count": 119,
     "metadata": {},
     "output_type": "execute_result"
    }
   ],
   "source": [
    "df_merge_test[df_merge_test['invoice_state']=='success']['user_id'].nunique()/df_merge_test['user_id'].nunique()"
   ]
  },
  {
   "cell_type": "code",
   "execution_count": 121,
   "id": "6850c612-13e8-4478-99a2-5514c7615063",
   "metadata": {
    "tags": []
   },
   "outputs": [
    {
     "data": {
      "text/plain": [
       "invoice_state\n",
       "failure     1056\n",
       "initial       38\n",
       "refunded      32\n",
       "success     1240\n",
       "Name: user_id, dtype: int64"
      ]
     },
     "execution_count": 121,
     "metadata": {},
     "output_type": "execute_result"
    }
   ],
   "source": [
    "df_merge_test.groupby('invoice_state')['user_id'].nunique()"
   ]
  },
  {
   "cell_type": "code",
   "execution_count": 123,
   "id": "d67b92fb-6062-4edf-aa2f-e643492b3b70",
   "metadata": {
    "tags": []
   },
   "outputs": [
    {
     "data": {
      "text/plain": [
       "0.5305947796320069"
      ]
     },
     "execution_count": 123,
     "metadata": {},
     "output_type": "execute_result"
    }
   ],
   "source": [
    "df_merge_test['payment'] = df_merge_test['invoice_state'].apply(lambda x:1 if x=='success' else 0)\n",
    "df_merge_test_wo_duplic = df_merge_test[['user_id','free_days','payment']].drop_duplicates()\n",
    "df_merge_test_wo_duplic['group'] = 'test'\n",
    "\n",
    "df_merge_test_wo_duplic[df_merge_test_wo_duplic['payment']==1]['user_id'].count()/df_merge_test_wo_duplic['user_id'].count()"
   ]
  },
  {
   "cell_type": "code",
   "execution_count": 125,
   "id": "c8296ba7-6057-44e4-b8b1-c39e3f045626",
   "metadata": {
    "tags": []
   },
   "outputs": [
    {
     "data": {
      "text/plain": [
       "0.5228270412642669"
      ]
     },
     "execution_count": 125,
     "metadata": {},
     "output_type": "execute_result"
    }
   ],
   "source": [
    "df_merge_control['payment'] = df_merge_control['invoice_state'].apply(lambda x:1 if x=='success' else 0)\n",
    "df_merge_control_wo_duplic = df_merge_control[['user_id','free_days','payment']].drop_duplicates()\n",
    "df_merge_control_wo_duplic['group'] = 'control'\n",
    "\n",
    "\n",
    "df_merge_control_wo_duplic[df_merge_control_wo_duplic['payment']==1]['user_id'].count()/df_merge_control_wo_duplic['user_id'].count()"
   ]
  },
  {
   "cell_type": "code",
   "execution_count": 127,
   "id": "d6b8c19d-924a-4f5a-b6ab-1c03ffad8442",
   "metadata": {
    "tags": []
   },
   "outputs": [],
   "source": [
    "df_all = pd.concat([df_merge_test_wo_duplic,df_merge_control_wo_duplic],ignore_index=True)"
   ]
  },
  {
   "cell_type": "markdown",
   "id": "aa3b277b-2783-4d39-84e6-f3b976e248c0",
   "metadata": {},
   "source": [
    "## Функции для стратификации"
   ]
  },
  {
   "cell_type": "code",
   "execution_count": 130,
   "id": "55517a0f-c115-46d3-b0b9-e5cce28b3539",
   "metadata": {
    "tags": []
   },
   "outputs": [],
   "source": [
    "def calculate_stratified_mean(df, weights,parameter):\n",
    "    strat_mean = df.groupby('free_days')[parameter].mean()\n",
    "    df_means_weights = pd.merge(\n",
    "        strat_mean,\n",
    "        pd.Series(weights, name='weight'),\n",
    "        how='inner',\n",
    "        left_index=True,\n",
    "        right_index=True\n",
    "    )\n",
    "    # если в данных df не было каких-то страт, то часть weights затрётся и сумма весов будет меньше 1\n",
    "    df_means_weights['weight'] = df_means_weights['weight'] / df_means_weights['weight'].sum()\n",
    "    mean_strat = (df_means_weights['weight'] * df_means_weights[parameter]).sum()\n",
    "    return mean_strat"
   ]
  },
  {
   "cell_type": "code",
   "execution_count": 132,
   "id": "54a8f1ca-62a1-4012-8f8d-d21b76614f25",
   "metadata": {
    "tags": []
   },
   "outputs": [],
   "source": [
    "def calculate_strat_var(df, weights, parameter):\n",
    "    \"\"\"Вычисляет стратифицированную дисперсию.\"\"\"\n",
    "    \"\"\" Parametr - поле конверсии \"\"\"\n",
    "    strat_vars = df.groupby('free_days')[parameter].var()\n",
    "    df_vars_weights = pd.merge(\n",
    "        strat_vars,\n",
    "        pd.Series(weights, name='weight'),\n",
    "        how='inner',\n",
    "        left_index=True,\n",
    "        right_index=True\n",
    "    )\n",
    "    # если в данных df не было каких-то страт, то часть weights затрётся и сумма весов будет меньше 1\n",
    "    df_vars_weights['weight'] = df_vars_weights['weight'] / df_vars_weights['weight'].sum()\n",
    "    var_strat = (df_vars_weights['weight'] * df_vars_weights[parameter]).sum()\n",
    "    return var_strat"
   ]
  },
  {
   "cell_type": "code",
   "execution_count": 134,
   "id": "8e5ecb86-8bce-4680-952a-40855f28f931",
   "metadata": {
    "tags": []
   },
   "outputs": [],
   "source": [
    "def check_stratified_test(df_control, df_pilot, weights, parameter):\n",
    "    \"\"\"Проверяет гипотезу о равенстве средних для стратифицированного среднего.\"\"\"\n",
    "    mean_strat_control = calculate_stratified_mean(df_control, weights, parameter)\n",
    "    mean_strat_pilot = calculate_stratified_mean(df_pilot, weights, parameter)\n",
    "    var_strat_control = calculate_strat_var(df_control, weights, parameter)\n",
    "    var_strat_pilot = calculate_strat_var(df_pilot, weights, parameter)\n",
    "    delta_mean_strat = mean_strat_pilot - mean_strat_control\n",
    "    std_mean_strat = (var_strat_pilot / len(df_pilot) + var_strat_control / len(df_control)) ** 0.5\n",
    "    t = delta_mean_strat / std_mean_strat\n",
    "    pvalue = (1 - stats.norm.cdf(np.abs(t))) * 2\n",
    "    return pvalue"
   ]
  },
  {
   "cell_type": "code",
   "execution_count": 136,
   "id": "cc85cfa6-1d63-44e9-94ce-f170547e5db7",
   "metadata": {
    "tags": []
   },
   "outputs": [
    {
     "name": "stdout",
     "output_type": "stream",
     "text": [
      "0.23486227446858682\n",
      "0.24933789996155442\n"
     ]
    }
   ],
   "source": [
    "weights = df_all['free_days'].value_counts(normalize=True).to_dict()\n",
    "\n",
    "print(calculate_strat_var(df_all,weights,'payment'))\n",
    "print(df_all['payment'].var())"
   ]
  },
  {
   "cell_type": "markdown",
   "id": "0df09d4a-8593-42cb-8f3a-9bd6378b7bf4",
   "metadata": {
    "tags": []
   },
   "source": [
    "## Симмуляция Монте-Карло"
   ]
  },
  {
   "cell_type": "code",
   "execution_count": 139,
   "id": "304324b1-9e45-4c2c-9102-a89b8c717dcd",
   "metadata": {
    "tags": []
   },
   "outputs": [],
   "source": [
    "num_of_bucket = 2\n",
    "\n",
    "control = df_all[df_all['group']=='control']\n",
    "test_1 = df_all[df_all['group']=='test']\n",
    "\n",
    "BOLD = \"\\033[1m\"  \n",
    "END = \"\\033[0m\" "
   ]
  },
  {
   "cell_type": "code",
   "execution_count": 141,
   "id": "ecb8feb8-d810-4ed3-b25c-ffd937d13694",
   "metadata": {
    "tags": []
   },
   "outputs": [],
   "source": [
    "def mde_estimated_absolute (ttl_users,var,alpha,beta):\n",
    "    \"\"\" Учитываем поправку на множественное тестирование и снижаем альфу по методу Бонферрони \"\"\"\n",
    "    t_alpha = stats.norm.ppf(1 - alpha /(num_of_bucket - 1) / 2, loc=0, scale=1)\n",
    "    t_beta = stats.norm.ppf(1 - beta, loc=0, scale=1)\n",
    "    var = var * 2\n",
    "    MDE=(t_alpha+t_beta) * np.sqrt(var / ttl_users)\n",
    "    return MDE"
   ]
  },
  {
   "cell_type": "code",
   "execution_count": 143,
   "id": "663580d1-f37b-48b6-bebd-e02a0767a773",
   "metadata": {
    "tags": []
   },
   "outputs": [
    {
     "name": "stdout",
     "output_type": "stream",
     "text": [
      "\u001b[1mПериод(дни) - 7 \u001b[0m\n",
      "MDE абсолютный: 0.0412\n",
      "MDE относительный: 0.0782\n",
      "Среднияя конверсия в отписку: 0.5268\n",
      "Дисперсия: 0.2493\n",
      "Число пользователей в группе: 2308\n"
     ]
    }
   ],
   "source": [
    "num_of_bucket=2\n",
    "ttl_users = math.ceil(df_all['user_id'].count() / num_of_bucket)\n",
    "var = df_all['payment'].var()\n",
    "mean = df_all['payment'].mean()\n",
    "\n",
    "mde_absolute = mde_estimated_absolute(ttl_users,var,0.05,0.2)\n",
    "MDE = mde_absolute / mean\n",
    "print(f\"{BOLD}Период(дни) - 7 {END}\") \n",
    "print('MDE абсолютный:',round(mde_absolute,4))\n",
    "print('MDE относительный:',round(MDE,4))\n",
    "print('Среднияя конверсия в отписку:',round(mean,4))\n",
    "print('Дисперсия:',round(var,4))\n",
    "print('Число пользователей в группе:',math.ceil(ttl_users))"
   ]
  },
  {
   "cell_type": "code",
   "execution_count": 145,
   "id": "d10b7d9e-04d4-48cd-8d48-bec1b37f4dea",
   "metadata": {
    "tags": []
   },
   "outputs": [
    {
     "name": "stderr",
     "output_type": "stream",
     "text": [
      "100%|██████████| 10000/10000 [00:04<00:00, 2320.85it/s]\n",
      "100%|██████████| 10000/10000 [00:04<00:00, 2319.91it/s]\n"
     ]
    },
    {
     "name": "stdout",
     "output_type": "stream",
     "text": [
      "\n",
      "Эффект = 0\n",
      "Период (дни) - 7 дней\n",
      "Итераций с p_value < 0.05: 547\n",
      "Число пользователей всего: 4506\n",
      "\n",
      "Эффект = 0.0782\n",
      "Период (дни) - 7 дней\n",
      "Итераций с p_value < 0.05: 7546\n",
      "Число пользователей всего: 4506\n"
     ]
    },
    {
     "data": {
      "image/png": "[encoded data removed]",
      "text/plain": [
       "<Figure size 1500x800 with 1 Axes>"
      ]
     },
     "metadata": {},
     "output_type": "display_data"
    }
   ],
   "source": [
    "effects = [0,0.0782]\n",
    "\n",
    "# Хранение p-values для каждого значения эффекта\n",
    "pvalues_dict = {}\n",
    "\n",
    "\n",
    "for effect in effects:\n",
    "    ttl_users = math.ceil(df_all['user_id'].nunique() / num_of_bucket)\n",
    "    pvalues_ttest = []\n",
    "    for i in tqdm(range(10000)):\n",
    "    \n",
    "        df_control = df_all.sample(n=ttl_users, replace=True)\n",
    "        df_pilot = df_all.sample(n=ttl_users, replace=True)\n",
    "        df_pilot = df_pilot['payment'] * (1 + effect)\n",
    "\n",
    "        # Проведение t-теста\n",
    "        _,p_value = ttest_ind(df_control['payment'], df_pilot)\n",
    "        pvalues_ttest.append(p_value)\n",
    "        \n",
    "    pvalues_dict[effect] = pvalues_ttest  # Сохраняем p-values для текущего эффекта\n",
    "        \n",
    "\n",
    "# Визуализация результатов\n",
    "plt.figure(figsize=(15, 8))\n",
    "X = np.linspace(0, 1, 1000)\n",
    "\n",
    "for effect, pvalues in pvalues_dict.items():\n",
    "    pvalues = np.array(pvalues)\n",
    "    Y = [np.mean(pvalues < x) for x in X]\n",
    "    plt.plot(X, Y, alpha=0.5, linewidth=3, label=f'effect = {effect}')\n",
    "    print()\n",
    "    print(f\"Эффект = {effect}\")\n",
    "    print(f\"Период (дни) - 7 дней\")\n",
    "    print(f'Итераций с p_value < 0.05:', len([p for p in pvalues if p < 0.05]))\n",
    "    print(f'Число пользователей всего:', ttl_users * 2)\n",
    "\n",
    "plt.xlabel('p-value', size=14)\n",
    "x_values = [0.05]\n",
    "plt.vlines(x_values, ymin=0, ymax=1, linestyles='dotted', colors='gray')\n",
    "plt.axhline(y=0.8, color='gray', linestyle='dotted')\n",
    "plt.xlim([-0.05, 1])\n",
    "plt.ylabel('Probability', size=14)\n",
    "plt.plot([0, 1], [0, 1], 'k')\n",
    "plt.legend(loc=5)\n",
    "plt.show()"
   ]
  },
  {
   "cell_type": "markdown",
   "id": "e22b45e3-1864-41b2-8a0d-50c6087f8d4b",
   "metadata": {},
   "source": [
    "## Подсчет метрики конверсия в оплату"
   ]
  },
  {
   "cell_type": "code",
   "execution_count": 147,
   "id": "24fc37bf-0ed0-41b3-9d97-b2e2d319e7b8",
   "metadata": {
    "tags": []
   },
   "outputs": [],
   "source": [
    "weights = df_all['free_days'].value_counts(normalize=True).to_dict()\n",
    "\n",
    "cr_control = calculate_stratified_mean(control, weights, 'payment')\n",
    "cr_test = calculate_stratified_mean(test_1, weights, 'payment')\n",
    "cr_test = test_1['payment'].mean()\n",
    "test_to_control = check_stratified_test(control, test_1, weights, 'payment')"
   ]
  },
  {
   "cell_type": "code",
   "execution_count": 148,
   "id": "08082e85-0f17-42f7-9f72-7398164ed5bd",
   "metadata": {
    "tags": []
   },
   "outputs": [
    {
     "data": {
      "text/plain": [
       "0.5305947796320069"
      ]
     },
     "execution_count": 148,
     "metadata": {},
     "output_type": "execute_result"
    }
   ],
   "source": [
    "test_1['payment'].mean()"
   ]
  },
  {
   "cell_type": "code",
   "execution_count": 149,
   "id": "08d04409-24fa-4bfc-a537-5558f9bbc94f",
   "metadata": {
    "tags": []
   },
   "outputs": [
    {
     "data": {
      "text/plain": [
       "0.5228270412642669"
      ]
     },
     "execution_count": 149,
     "metadata": {},
     "output_type": "execute_result"
    }
   ],
   "source": [
    "control['payment'].mean()"
   ]
  },
  {
   "cell_type": "code",
   "execution_count": 154,
   "id": "0a1c1c09-31c3-4d95-8b35-9889f40d021d",
   "metadata": {
    "tags": []
   },
   "outputs": [
    {
     "data": {
      "text/html": [
       "<div>\n",
       "<style scoped>\n",
       "    .dataframe tbody tr th:only-of-type {\n",
       "        vertical-align: middle;\n",
       "    }\n",
       "\n",
       "    .dataframe tbody tr th {\n",
       "        vertical-align: top;\n",
       "    }\n",
       "\n",
       "    .dataframe thead th {\n",
       "        text-align: right;\n",
       "    }\n",
       "</style>\n",
       "<table border=\"1\" class=\"dataframe\">\n",
       "  <thead>\n",
       "    <tr style=\"text-align: right;\">\n",
       "      <th></th>\n",
       "      <th>Контроль</th>\n",
       "      <th>Тест</th>\n",
       "      <th>p_value</th>\n",
       "      <th>Тест к контролю (%)</th>\n",
       "      <th>Тест к контролю (п.п.)</th>\n",
       "    </tr>\n",
       "  </thead>\n",
       "  <tbody>\n",
       "    <tr>\n",
       "      <th>Конверсия в оплату</th>\n",
       "      <td>0.523</td>\n",
       "      <td>0.531</td>\n",
       "      <td>0.713873</td>\n",
       "      <td>Нет различия</td>\n",
       "      <td>Нет различия</td>\n",
       "    </tr>\n",
       "  </tbody>\n",
       "</table>\n",
       "</div>"
      ],
      "text/plain": [
       "                   Контроль   Тест   p_value Тест к контролю (%)  \\\n",
       "Конверсия в оплату    0.523  0.531  0.713873        Нет различия   \n",
       "\n",
       "                   Тест к контролю (п.п.)  \n",
       "Конверсия в оплату           Нет различия  "
      ]
     },
     "execution_count": 154,
     "metadata": {},
     "output_type": "execute_result"
    }
   ],
   "source": [
    "final_table_register = []\n",
    "\n",
    "row1 = [cr_control, cr_test, test_to_control]\n",
    "\n",
    "final_table_register.append(row1)\n",
    "\n",
    "\n",
    "\n",
    "final_table_register = pd.DataFrame(final_table_register, index=['Конверсия в оплату'], columns=['Контроль', 'Тест', 'p_value'])\n",
    "final_table_register['Тест к контролю (%)'] = np.where(final_table_register['p_value'].isna(), 0, np.where(final_table_register['p_value']<0.05/num_of_bucket, round((final_table_register['Тест'] / final_table_register['Контроль'] - 1) * 100,3), 'Нет различия'))\n",
    "final_table_register['Тест к контролю (п.п.)'] = np.where(final_table_register['p_value'].isna(), 0, np.where(final_table_register['p_value']<0.05/num_of_bucket, round((final_table_register['Тест'] - final_table_register['Контроль']),3), 'Нет различия'))\n",
    "final_table_register[['Контроль','Тест']] = final_table_register[['Контроль','Тест']].round(3).astype('str')\n",
    "\n",
    "final_table_register"
   ]
  },
  {
   "cell_type": "markdown",
   "id": "37328609-91f7-4444-be3e-e6bc19062fb3",
   "metadata": {},
   "source": [
    "# Исследуем сегмент пользователей,у которых было неудачное списание "
   ]
  },
  {
   "cell_type": "code",
   "execution_count": 157,
   "id": "d621a491-1cb6-4783-b8cf-17d17a0f0718",
   "metadata": {
    "tags": []
   },
   "outputs": [
    {
     "data": {
      "text/plain": [
       "0.07991803278688525"
      ]
     },
     "execution_count": 157,
     "metadata": {},
     "output_type": "execute_result"
    }
   ],
   "source": [
    "df_merge_test['rn_num3'] = df_merge_test.groupby('user_id').cumcount()+1\n",
    "df_merge_test[(df_merge_test['rn_num3']>1) & (df_merge_test['invoice_state']=='success')]['user_id'].nunique() / df_merge_test[(df_merge_test['rn_num3']>1)]['user_id'].nunique()"
   ]
  },
  {
   "cell_type": "code",
   "execution_count": 159,
   "id": "dc36ec70-8ecb-4760-b31b-a4ec2c30b660",
   "metadata": {
    "tags": []
   },
   "outputs": [
    {
     "data": {
      "text/plain": [
       "0.03229061553985873"
      ]
     },
     "execution_count": 159,
     "metadata": {},
     "output_type": "execute_result"
    }
   ],
   "source": [
    "df_merge_control['rn_num3'] = df_merge_control.groupby('user_id').cumcount()+1\n",
    "df_merge_control[(df_merge_control['rn_num3']>1) & (df_merge_control['invoice_state']=='success')]['user_id'].nunique() / df_merge_control[(df_merge_control['rn_num3']>1)]['user_id'].nunique()"
   ]
  },
  {
   "cell_type": "code",
   "execution_count": 161,
   "id": "ea756343-2107-46e2-82f4-604a614a6a61",
   "metadata": {
    "tags": []
   },
   "outputs": [],
   "source": [
    "condition_test = (df_merge_test['rn_num3'] > 1) & (df_merge_test['invoice_state'] == 'success')  \n",
    "df_merge_test['after_failure'] = np.where(condition_test, 1, 0)\n",
    "\n",
    "\n",
    "condition_control = (df_merge_control['rn_num3'] > 1) & (df_merge_control['invoice_state'] == 'success')  \n",
    "df_merge_control['after_failure'] = np.where(condition_control, 1, 0)"
   ]
  },
  {
   "cell_type": "code",
   "execution_count": 163,
   "id": "777f7941-7b6a-4f18-a0b4-80c9ce0c3841",
   "metadata": {
    "tags": []
   },
   "outputs": [],
   "source": [
    "c = df_merge_control[(df_merge_control['rn_num3']>1)]\n",
    "t = df_merge_test[(df_merge_test['rn_num3']>1)]\n",
    "\n",
    "df_concat_after_failure = pd.concat([t,c],ignore_index=True)"
   ]
  },
  {
   "cell_type": "code",
   "execution_count": 165,
   "id": "c9a840e4-1eec-438e-9244-8c1d2ea5de16",
   "metadata": {
    "tags": []
   },
   "outputs": [
    {
     "data": {
      "text/html": [
       "<div>\n",
       "<style scoped>\n",
       "    .dataframe tbody tr th:only-of-type {\n",
       "        vertical-align: middle;\n",
       "    }\n",
       "\n",
       "    .dataframe tbody tr th {\n",
       "        vertical-align: top;\n",
       "    }\n",
       "\n",
       "    .dataframe thead th {\n",
       "        text-align: right;\n",
       "    }\n",
       "</style>\n",
       "<table border=\"1\" class=\"dataframe\">\n",
       "  <thead>\n",
       "    <tr style=\"text-align: right;\">\n",
       "      <th></th>\n",
       "      <th>user_id</th>\n",
       "      <th>trial_start</th>\n",
       "      <th>id</th>\n",
       "      <th>invoice_state</th>\n",
       "      <th>invoice_id</th>\n",
       "      <th>invoice_created_at</th>\n",
       "      <th>price_cents</th>\n",
       "      <th>price_currency</th>\n",
       "      <th>refund_amount_cents</th>\n",
       "      <th>bonus_title_new</th>\n",
       "      <th>...</th>\n",
       "      <th>t3.promo_type</th>\n",
       "      <th>paid_at</th>\n",
       "      <th>platform</th>\n",
       "      <th>i.deleted_at</th>\n",
       "      <th>i.refunded_at</th>\n",
       "      <th>group</th>\n",
       "      <th>rn_num_2</th>\n",
       "      <th>payment</th>\n",
       "      <th>rn_num3</th>\n",
       "      <th>after_failure</th>\n",
       "    </tr>\n",
       "  </thead>\n",
       "  <tbody>\n",
       "    <tr>\n",
       "      <th>1</th>\n",
       "      <td>ffba2d95-0a88-440e-8009-946227d87457</td>\n",
       "      <td>2025-02-26</td>\n",
       "      <td>5c82242b-ef75-43de-8869-7b6cf9dee772</td>\n",
       "      <td>failure</td>\n",
       "      <td>2c63155a-b8ef-4ee4-920a-0ec75ed80e0d</td>\n",
       "      <td>2025-04-02 15:00:47.947</td>\n",
       "      <td>39900</td>\n",
       "      <td>RUB</td>\n",
       "      <td>0</td>\n",
       "      <td></td>\n",
       "      <td>...</td>\n",
       "      <td>promo</td>\n",
       "      <td>NaT</td>\n",
       "      <td>cloudpayments</td>\n",
       "      <td>NaT</td>\n",
       "      <td>NaT</td>\n",
       "      <td>control</td>\n",
       "      <td>2</td>\n",
       "      <td>0</td>\n",
       "      <td>2</td>\n",
       "      <td>0</td>\n",
       "    </tr>\n",
       "    <tr>\n",
       "      <th>2</th>\n",
       "      <td>ffba2d95-0a88-440e-8009-946227d87457</td>\n",
       "      <td>2025-02-26</td>\n",
       "      <td>5c82242b-ef75-43de-8869-7b6cf9dee772</td>\n",
       "      <td>failure</td>\n",
       "      <td>bd80c0b6-4bc6-44c0-9364-6e497b188809</td>\n",
       "      <td>2025-04-02 16:00:32.148</td>\n",
       "      <td>39900</td>\n",
       "      <td>RUB</td>\n",
       "      <td>0</td>\n",
       "      <td></td>\n",
       "      <td>...</td>\n",
       "      <td>promo</td>\n",
       "      <td>NaT</td>\n",
       "      <td>cloudpayments</td>\n",
       "      <td>NaT</td>\n",
       "      <td>NaT</td>\n",
       "      <td>control</td>\n",
       "      <td>3</td>\n",
       "      <td>0</td>\n",
       "      <td>3</td>\n",
       "      <td>0</td>\n",
       "    </tr>\n",
       "    <tr>\n",
       "      <th>3</th>\n",
       "      <td>ffba2d95-0a88-440e-8009-946227d87457</td>\n",
       "      <td>2025-02-26</td>\n",
       "      <td>5c82242b-ef75-43de-8869-7b6cf9dee772</td>\n",
       "      <td>failure</td>\n",
       "      <td>8e46686b-5049-4097-8e55-d0b1717d0a0a</td>\n",
       "      <td>2025-04-02 17:00:23.945</td>\n",
       "      <td>39900</td>\n",
       "      <td>RUB</td>\n",
       "      <td>0</td>\n",
       "      <td></td>\n",
       "      <td>...</td>\n",
       "      <td>promo</td>\n",
       "      <td>NaT</td>\n",
       "      <td>cloudpayments</td>\n",
       "      <td>NaT</td>\n",
       "      <td>NaT</td>\n",
       "      <td>control</td>\n",
       "      <td>4</td>\n",
       "      <td>0</td>\n",
       "      <td>4</td>\n",
       "      <td>0</td>\n",
       "    </tr>\n",
       "    <tr>\n",
       "      <th>8</th>\n",
       "      <td>c8b8e709-8020-499f-803d-755115a4ca07</td>\n",
       "      <td>2025-03-01</td>\n",
       "      <td>317a30a6-b411-4561-b780-68c45289c652</td>\n",
       "      <td>failure</td>\n",
       "      <td>31cff7b0-7d49-4cfc-acb3-919c69cf261b</td>\n",
       "      <td>2025-04-05 01:00:32.949</td>\n",
       "      <td>39900</td>\n",
       "      <td>RUB</td>\n",
       "      <td>0</td>\n",
       "      <td>RIS</td>\n",
       "      <td>...</td>\n",
       "      <td>promo</td>\n",
       "      <td>NaT</td>\n",
       "      <td>cloudpayments</td>\n",
       "      <td>NaT</td>\n",
       "      <td>NaT</td>\n",
       "      <td>control</td>\n",
       "      <td>2</td>\n",
       "      <td>0</td>\n",
       "      <td>2</td>\n",
       "      <td>0</td>\n",
       "    </tr>\n",
       "    <tr>\n",
       "      <th>9</th>\n",
       "      <td>c8b8e709-8020-499f-803d-755115a4ca07</td>\n",
       "      <td>2025-03-01</td>\n",
       "      <td>317a30a6-b411-4561-b780-68c45289c652</td>\n",
       "      <td>failure</td>\n",
       "      <td>1a7b2eb5-4724-4dae-8b87-3288e5c60bce</td>\n",
       "      <td>2025-04-05 02:00:39.058</td>\n",
       "      <td>39900</td>\n",
       "      <td>RUB</td>\n",
       "      <td>0</td>\n",
       "      <td>RIS</td>\n",
       "      <td>...</td>\n",
       "      <td>promo</td>\n",
       "      <td>NaT</td>\n",
       "      <td>cloudpayments</td>\n",
       "      <td>NaT</td>\n",
       "      <td>NaT</td>\n",
       "      <td>control</td>\n",
       "      <td>3</td>\n",
       "      <td>0</td>\n",
       "      <td>3</td>\n",
       "      <td>0</td>\n",
       "    </tr>\n",
       "    <tr>\n",
       "      <th>...</th>\n",
       "      <td>...</td>\n",
       "      <td>...</td>\n",
       "      <td>...</td>\n",
       "      <td>...</td>\n",
       "      <td>...</td>\n",
       "      <td>...</td>\n",
       "      <td>...</td>\n",
       "      <td>...</td>\n",
       "      <td>...</td>\n",
       "      <td>...</td>\n",
       "      <td>...</td>\n",
       "      <td>...</td>\n",
       "      <td>...</td>\n",
       "      <td>...</td>\n",
       "      <td>...</td>\n",
       "      <td>...</td>\n",
       "      <td>...</td>\n",
       "      <td>...</td>\n",
       "      <td>...</td>\n",
       "      <td>...</td>\n",
       "      <td>...</td>\n",
       "    </tr>\n",
       "    <tr>\n",
       "      <th>5092</th>\n",
       "      <td>186c8b35-0238-4472-bfc5-31894b5431fd</td>\n",
       "      <td>2025-03-14</td>\n",
       "      <td>c0e4cc43-4b75-44e0-aaf8-46182a995bb2</td>\n",
       "      <td>failure</td>\n",
       "      <td>1ca088ca-c9b7-454c-bd65-026a652f8ebd</td>\n",
       "      <td>2025-03-28 12:01:13.977</td>\n",
       "      <td>29900</td>\n",
       "      <td>RUB</td>\n",
       "      <td>0</td>\n",
       "      <td></td>\n",
       "      <td>...</td>\n",
       "      <td>no_promo</td>\n",
       "      <td>NaT</td>\n",
       "      <td>cloudpayments</td>\n",
       "      <td>NaT</td>\n",
       "      <td>NaT</td>\n",
       "      <td>control</td>\n",
       "      <td>3</td>\n",
       "      <td>0</td>\n",
       "      <td>3</td>\n",
       "      <td>0</td>\n",
       "    </tr>\n",
       "    <tr>\n",
       "      <th>5093</th>\n",
       "      <td>186c8b35-0238-4472-bfc5-31894b5431fd</td>\n",
       "      <td>2025-03-14</td>\n",
       "      <td>c0e4cc43-4b75-44e0-aaf8-46182a995bb2</td>\n",
       "      <td>failure</td>\n",
       "      <td>fdf99533-0264-42c4-8936-0359661abe7a</td>\n",
       "      <td>2025-03-28 13:01:14.112</td>\n",
       "      <td>29900</td>\n",
       "      <td>RUB</td>\n",
       "      <td>0</td>\n",
       "      <td></td>\n",
       "      <td>...</td>\n",
       "      <td>no_promo</td>\n",
       "      <td>NaT</td>\n",
       "      <td>cloudpayments</td>\n",
       "      <td>NaT</td>\n",
       "      <td>NaT</td>\n",
       "      <td>control</td>\n",
       "      <td>4</td>\n",
       "      <td>0</td>\n",
       "      <td>4</td>\n",
       "      <td>0</td>\n",
       "    </tr>\n",
       "    <tr>\n",
       "      <th>5100</th>\n",
       "      <td>936dc396-2a7d-491a-bfe5-b13b03a95765</td>\n",
       "      <td>2025-03-05</td>\n",
       "      <td>d3514dfd-f643-475f-b170-32f7f85a40d7</td>\n",
       "      <td>failure</td>\n",
       "      <td>a86ce7be-1eee-431f-8813-d168714eb52c</td>\n",
       "      <td>2025-04-04 21:01:00.361</td>\n",
       "      <td>29900</td>\n",
       "      <td>RUB</td>\n",
       "      <td>0</td>\n",
       "      <td>Яндекс Директ. 1 месяц за 1 рубль.</td>\n",
       "      <td>...</td>\n",
       "      <td>promo</td>\n",
       "      <td>NaT</td>\n",
       "      <td>cloudpayments</td>\n",
       "      <td>NaT</td>\n",
       "      <td>NaT</td>\n",
       "      <td>control</td>\n",
       "      <td>2</td>\n",
       "      <td>0</td>\n",
       "      <td>2</td>\n",
       "      <td>0</td>\n",
       "    </tr>\n",
       "    <tr>\n",
       "      <th>5101</th>\n",
       "      <td>936dc396-2a7d-491a-bfe5-b13b03a95765</td>\n",
       "      <td>2025-03-05</td>\n",
       "      <td>d3514dfd-f643-475f-b170-32f7f85a40d7</td>\n",
       "      <td>failure</td>\n",
       "      <td>2ad45898-2af5-4fa8-9b13-3404517283b5</td>\n",
       "      <td>2025-04-04 22:01:00.076</td>\n",
       "      <td>29900</td>\n",
       "      <td>RUB</td>\n",
       "      <td>0</td>\n",
       "      <td>Яндекс Директ. 1 месяц за 1 рубль.</td>\n",
       "      <td>...</td>\n",
       "      <td>promo</td>\n",
       "      <td>NaT</td>\n",
       "      <td>cloudpayments</td>\n",
       "      <td>NaT</td>\n",
       "      <td>NaT</td>\n",
       "      <td>control</td>\n",
       "      <td>3</td>\n",
       "      <td>0</td>\n",
       "      <td>3</td>\n",
       "      <td>0</td>\n",
       "    </tr>\n",
       "    <tr>\n",
       "      <th>5102</th>\n",
       "      <td>936dc396-2a7d-491a-bfe5-b13b03a95765</td>\n",
       "      <td>2025-03-05</td>\n",
       "      <td>d3514dfd-f643-475f-b170-32f7f85a40d7</td>\n",
       "      <td>failure</td>\n",
       "      <td>b2078db2-0cd3-4da4-a3df-c96f0a04dbec</td>\n",
       "      <td>2025-04-04 23:00:50.396</td>\n",
       "      <td>29900</td>\n",
       "      <td>RUB</td>\n",
       "      <td>0</td>\n",
       "      <td>Яндекс Директ. 1 месяц за 1 рубль.</td>\n",
       "      <td>...</td>\n",
       "      <td>promo</td>\n",
       "      <td>NaT</td>\n",
       "      <td>cloudpayments</td>\n",
       "      <td>NaT</td>\n",
       "      <td>NaT</td>\n",
       "      <td>control</td>\n",
       "      <td>4</td>\n",
       "      <td>0</td>\n",
       "      <td>4</td>\n",
       "      <td>0</td>\n",
       "    </tr>\n",
       "  </tbody>\n",
       "</table>\n",
       "<p>2860 rows × 27 columns</p>\n",
       "</div>"
      ],
      "text/plain": [
       "                                   user_id trial_start  \\\n",
       "1     ffba2d95-0a88-440e-8009-946227d87457  2025-02-26   \n",
       "2     ffba2d95-0a88-440e-8009-946227d87457  2025-02-26   \n",
       "3     ffba2d95-0a88-440e-8009-946227d87457  2025-02-26   \n",
       "8     c8b8e709-8020-499f-803d-755115a4ca07  2025-03-01   \n",
       "9     c8b8e709-8020-499f-803d-755115a4ca07  2025-03-01   \n",
       "...                                    ...         ...   \n",
       "5092  186c8b35-0238-4472-bfc5-31894b5431fd  2025-03-14   \n",
       "5093  186c8b35-0238-4472-bfc5-31894b5431fd  2025-03-14   \n",
       "5100  936dc396-2a7d-491a-bfe5-b13b03a95765  2025-03-05   \n",
       "5101  936dc396-2a7d-491a-bfe5-b13b03a95765  2025-03-05   \n",
       "5102  936dc396-2a7d-491a-bfe5-b13b03a95765  2025-03-05   \n",
       "\n",
       "                                        id invoice_state  \\\n",
       "1     5c82242b-ef75-43de-8869-7b6cf9dee772       failure   \n",
       "2     5c82242b-ef75-43de-8869-7b6cf9dee772       failure   \n",
       "3     5c82242b-ef75-43de-8869-7b6cf9dee772       failure   \n",
       "8     317a30a6-b411-4561-b780-68c45289c652       failure   \n",
       "9     317a30a6-b411-4561-b780-68c45289c652       failure   \n",
       "...                                    ...           ...   \n",
       "5092  c0e4cc43-4b75-44e0-aaf8-46182a995bb2       failure   \n",
       "5093  c0e4cc43-4b75-44e0-aaf8-46182a995bb2       failure   \n",
       "5100  d3514dfd-f643-475f-b170-32f7f85a40d7       failure   \n",
       "5101  d3514dfd-f643-475f-b170-32f7f85a40d7       failure   \n",
       "5102  d3514dfd-f643-475f-b170-32f7f85a40d7       failure   \n",
       "\n",
       "                                invoice_id      invoice_created_at  \\\n",
       "1     2c63155a-b8ef-4ee4-920a-0ec75ed80e0d 2025-04-02 15:00:47.947   \n",
       "2     bd80c0b6-4bc6-44c0-9364-6e497b188809 2025-04-02 16:00:32.148   \n",
       "3     8e46686b-5049-4097-8e55-d0b1717d0a0a 2025-04-02 17:00:23.945   \n",
       "8     31cff7b0-7d49-4cfc-acb3-919c69cf261b 2025-04-05 01:00:32.949   \n",
       "9     1a7b2eb5-4724-4dae-8b87-3288e5c60bce 2025-04-05 02:00:39.058   \n",
       "...                                    ...                     ...   \n",
       "5092  1ca088ca-c9b7-454c-bd65-026a652f8ebd 2025-03-28 12:01:13.977   \n",
       "5093  fdf99533-0264-42c4-8936-0359661abe7a 2025-03-28 13:01:14.112   \n",
       "5100  a86ce7be-1eee-431f-8813-d168714eb52c 2025-04-04 21:01:00.361   \n",
       "5101  2ad45898-2af5-4fa8-9b13-3404517283b5 2025-04-04 22:01:00.076   \n",
       "5102  b2078db2-0cd3-4da4-a3df-c96f0a04dbec 2025-04-04 23:00:50.396   \n",
       "\n",
       "      price_cents price_currency  refund_amount_cents  \\\n",
       "1           39900            RUB                    0   \n",
       "2           39900            RUB                    0   \n",
       "3           39900            RUB                    0   \n",
       "8           39900            RUB                    0   \n",
       "9           39900            RUB                    0   \n",
       "...           ...            ...                  ...   \n",
       "5092        29900            RUB                    0   \n",
       "5093        29900            RUB                    0   \n",
       "5100        29900            RUB                    0   \n",
       "5101        29900            RUB                    0   \n",
       "5102        29900            RUB                    0   \n",
       "\n",
       "                         bonus_title_new  ...  t3.promo_type paid_at  \\\n",
       "1                                         ...          promo     NaT   \n",
       "2                                         ...          promo     NaT   \n",
       "3                                         ...          promo     NaT   \n",
       "8                                    RIS  ...          promo     NaT   \n",
       "9                                    RIS  ...          promo     NaT   \n",
       "...                                  ...  ...            ...     ...   \n",
       "5092                                      ...       no_promo     NaT   \n",
       "5093                                      ...       no_promo     NaT   \n",
       "5100  Яндекс Директ. 1 месяц за 1 рубль.  ...          promo     NaT   \n",
       "5101  Яндекс Директ. 1 месяц за 1 рубль.  ...          promo     NaT   \n",
       "5102  Яндекс Директ. 1 месяц за 1 рубль.  ...          promo     NaT   \n",
       "\n",
       "           platform i.deleted_at  i.refunded_at    group rn_num_2 payment  \\\n",
       "1     cloudpayments          NaT            NaT  control        2       0   \n",
       "2     cloudpayments          NaT            NaT  control        3       0   \n",
       "3     cloudpayments          NaT            NaT  control        4       0   \n",
       "8     cloudpayments          NaT            NaT  control        2       0   \n",
       "9     cloudpayments          NaT            NaT  control        3       0   \n",
       "...             ...          ...            ...      ...      ...     ...   \n",
       "5092  cloudpayments          NaT            NaT  control        3       0   \n",
       "5093  cloudpayments          NaT            NaT  control        4       0   \n",
       "5100  cloudpayments          NaT            NaT  control        2       0   \n",
       "5101  cloudpayments          NaT            NaT  control        3       0   \n",
       "5102  cloudpayments          NaT            NaT  control        4       0   \n",
       "\n",
       "     rn_num3 after_failure  \n",
       "1          2             0  \n",
       "2          3             0  \n",
       "3          4             0  \n",
       "8          2             0  \n",
       "9          3             0  \n",
       "...      ...           ...  \n",
       "5092       3             0  \n",
       "5093       4             0  \n",
       "5100       2             0  \n",
       "5101       3             0  \n",
       "5102       4             0  \n",
       "\n",
       "[2860 rows x 27 columns]"
      ]
     },
     "execution_count": 165,
     "metadata": {},
     "output_type": "execute_result"
    }
   ],
   "source": [
    "df_merge_control[(df_merge_control['rn_num3']>1)]"
   ]
  },
  {
   "cell_type": "code",
   "execution_count": 171,
   "id": "dfe01dea-9554-42d9-86ae-0f0d58c2a2eb",
   "metadata": {
    "tags": []
   },
   "outputs": [
    {
     "data": {
      "text/plain": [
       "0.0769990128331688"
      ]
     },
     "execution_count": 171,
     "metadata": {},
     "output_type": "execute_result"
    }
   ],
   "source": [
    "df_concat_after_failure = df_concat_after_failure[['user_id','free_days','after_failure','group']].drop_duplicates()\n",
    "\n",
    "df_concat_after_failure[df_concat_after_failure['group']=='test']['after_failure'].mean()"
   ]
  },
  {
   "cell_type": "code",
   "execution_count": 173,
   "id": "35e9a49b-0681-454c-8700-a7cf753ed985",
   "metadata": {
    "tags": []
   },
   "outputs": [
    {
     "name": "stdout",
     "output_type": "stream",
     "text": [
      "\u001b[1mПериод(дни) - 7 \u001b[0m\n",
      "MDE абсолютный: 0.0282\n",
      "MDE относительный: 0.5195\n",
      "Среднияя конверсия в отписку: 0.0543\n",
      "Дисперсия: 0.0514\n",
      "Число пользователей в группе: 1013\n"
     ]
    }
   ],
   "source": [
    "num_of_bucket=2\n",
    "ttl_users = math.ceil(df_concat_after_failure['user_id'].count() / num_of_bucket)\n",
    "var = df_concat_after_failure['after_failure'].var()\n",
    "mean = df_concat_after_failure['after_failure'].mean()\n",
    "\n",
    "mde_absolute = mde_estimated_absolute(ttl_users,var,0.05,0.2)\n",
    "MDE = mde_absolute / mean\n",
    "print(f\"{BOLD}Период(дни) - 7 {END}\") \n",
    "print('MDE абсолютный:',round(mde_absolute,4))\n",
    "print('MDE относительный:',round(MDE,4))\n",
    "print('Среднияя конверсия в отписку:',round(mean,4))\n",
    "print('Дисперсия:',round(var,4))\n",
    "print('Число пользователей в группе:',math.ceil(ttl_users))"
   ]
  },
  {
   "cell_type": "code",
   "execution_count": 219,
   "id": "69449725-3b0d-448c-b984-e536c6779ca5",
   "metadata": {
    "tags": []
   },
   "outputs": [
    {
     "data": {
      "text/html": [
       "<div>\n",
       "<style scoped>\n",
       "    .dataframe tbody tr th:only-of-type {\n",
       "        vertical-align: middle;\n",
       "    }\n",
       "\n",
       "    .dataframe tbody tr th {\n",
       "        vertical-align: top;\n",
       "    }\n",
       "\n",
       "    .dataframe thead th {\n",
       "        text-align: right;\n",
       "    }\n",
       "</style>\n",
       "<table border=\"1\" class=\"dataframe\">\n",
       "  <thead>\n",
       "    <tr style=\"text-align: right;\">\n",
       "      <th></th>\n",
       "      <th>Контроль</th>\n",
       "      <th>Тест</th>\n",
       "      <th>p_value</th>\n",
       "      <th>Тест к контролю (%)</th>\n",
       "      <th>Тест к контролю (п.п.)</th>\n",
       "    </tr>\n",
       "  </thead>\n",
       "  <tbody>\n",
       "    <tr>\n",
       "      <th>Конверсия в оплату</th>\n",
       "      <td>0.032</td>\n",
       "      <td>0.077</td>\n",
       "      <td>0.000006</td>\n",
       "      <td>+143.509</td>\n",
       "      <td>+0.045</td>\n",
       "    </tr>\n",
       "  </tbody>\n",
       "</table>\n",
       "</div>"
      ],
      "text/plain": [
       "                   Контроль   Тест   p_value Тест к контролю (%)  \\\n",
       "Конверсия в оплату    0.032  0.077  0.000006            +143.509   \n",
       "\n",
       "                   Тест к контролю (п.п.)  \n",
       "Конверсия в оплату                 +0.045  "
      ]
     },
     "execution_count": 219,
     "metadata": {},
     "output_type": "execute_result"
    }
   ],
   "source": [
    "control = df_concat_after_failure[df_concat_after_failure['group']=='control']\n",
    "test_1 = df_concat_after_failure[df_concat_after_failure['group']=='test']\n",
    "\n",
    "\n",
    "final_table_register = []\n",
    "\n",
    "_,p_val = ttest_ind(control['after_failure'],test_1['after_failure'],equal_var=False)\n",
    "\n",
    "row1 = [control['after_failure'].mean(), test_1['after_failure'].mean(), p_val]\n",
    "\n",
    "final_table_register.append(row1)\n",
    "\n",
    "\n",
    "\n",
    "final_table_register = pd.DataFrame(final_table_register, index=['Конверсия в оплату'], columns=['Контроль', 'Тест', 'p_value'])\n",
    "final_table_register['Тест к контролю (%)'] = np.where(final_table_register['p_value'].isna(), 0, np.where(final_table_register['p_value']<0.05/num_of_bucket, round((final_table_register['Тест'] / final_table_register['Контроль'] - 1) * 100,3), 'Нет различия'))\n",
    "final_table_register['Тест к контролю (п.п.)'] = np.where(final_table_register['p_value'].isna(), 0, np.where(final_table_register['p_value']<0.05/num_of_bucket, round((final_table_register['Тест'] - final_table_register['Контроль']),3), 'Нет различия'))\n",
    "final_table_register[['Контроль','Тест']] = final_table_register[['Контроль','Тест']].round(3).astype('str')\n",
    "\n",
    "def format_with_sign(x):\n",
    "    try:\n",
    "        val = float(x)\n",
    "        return f\"{val:+.3f}\"\n",
    "    except:\n",
    "        return x\n",
    "\n",
    "final_table_register['Тест к контролю (%)'] = final_table_register['Тест к контролю (%)'].apply(format_with_sign)\n",
    "final_table_register['Тест к контролю (п.п.)'] = final_table_register['Тест к контролю (п.п.)'].apply(format_with_sign)\n",
    "\n",
    "final_table_register"
   ]
  },
  {
   "cell_type": "code",
   "execution_count": 221,
   "id": "fbfbdde2-8ad9-4681-a9a4-892d878f9e3b",
   "metadata": {
    "tags": []
   },
   "outputs": [],
   "source": [
    "def color_cell(val):\n",
    "    if val == 'Нет различия':\n",
    "        return ''\n",
    "    elif '+' in val:\n",
    "        return 'background-color: lightgreen'\n",
    "    else:\n",
    "        return 'background-color:  #FFCCCB'"
   ]
  },
  {
   "cell_type": "code",
   "execution_count": 223,
   "id": "6e832c0d-19e7-4c44-859b-4e4cb53269ab",
   "metadata": {
    "tags": []
   },
   "outputs": [
    {
     "data": {
      "text/html": [
       "<style type=\"text/css\">\n",
       "#T_0d0cb_row0_col2, #T_0d0cb_row0_col3 {\n",
       "  background-color: lightgreen;\n",
       "}\n",
       "</style>\n",
       "<table id=\"T_0d0cb\">\n",
       "  <thead>\n",
       "    <tr>\n",
       "      <th class=\"blank level0\" >&nbsp;</th>\n",
       "      <th id=\"T_0d0cb_level0_col0\" class=\"col_heading level0 col0\" >Контроль</th>\n",
       "      <th id=\"T_0d0cb_level0_col1\" class=\"col_heading level0 col1\" >Тест</th>\n",
       "      <th id=\"T_0d0cb_level0_col2\" class=\"col_heading level0 col2\" >Тест к контролю (%)</th>\n",
       "      <th id=\"T_0d0cb_level0_col3\" class=\"col_heading level0 col3\" >Тест к контролю (п.п.)</th>\n",
       "    </tr>\n",
       "  </thead>\n",
       "  <tbody>\n",
       "    <tr>\n",
       "      <th id=\"T_0d0cb_level0_row0\" class=\"row_heading level0 row0\" >Конверсия в оплату</th>\n",
       "      <td id=\"T_0d0cb_row0_col0\" class=\"data row0 col0\" >0.032</td>\n",
       "      <td id=\"T_0d0cb_row0_col1\" class=\"data row0 col1\" >0.077</td>\n",
       "      <td id=\"T_0d0cb_row0_col2\" class=\"data row0 col2\" >+143.509</td>\n",
       "      <td id=\"T_0d0cb_row0_col3\" class=\"data row0 col3\" >+0.045</td>\n",
       "    </tr>\n",
       "  </tbody>\n",
       "</table>\n"
      ],
      "text/plain": [
       "<pandas.io.formats.style.Styler at 0x16a5f88d0>"
      ]
     },
     "execution_count": 223,
     "metadata": {},
     "output_type": "execute_result"
    }
   ],
   "source": [
    "final_table_register[['Контроль', 'Тест','Тест к контролю (%)', 'Тест к контролю (п.п.)']].style.applymap(color_cell, subset=['Тест к контролю (%)','Тест к контролю (п.п.)'])"
   ]
  },
  {
   "cell_type": "code",
   "execution_count": 197,
   "id": "5c9fb26b-a312-4683-8dcc-f4e969be4408",
   "metadata": {
    "tags": []
   },
   "outputs": [
    {
     "data": {
      "image/png": "[encoded data removed]",
      "text/plain": [
       "<Figure size 1000x500 with 1 Axes>"
      ]
     },
     "metadata": {},
     "output_type": "display_data"
    }
   ],
   "source": [
    "n = 2000\n",
    "scale = 10\n",
    "s = np.random.exponential(scale = scale,size = n)\n",
    "cum_avg = np.cumsum(s) / np.arange(1,n + 1)\n",
    "\n",
    "plt.figure(figsize=(10,5))\n",
    "sns.lineplot(data = cum_avg,label = 'Выборочное среднее')\n",
    "plt.axhline(y = s.mean(),color='r',linewidth=1,linestyle = '--',label = f'Истинное среднее - {round(s.mean(),2)}')\n",
    "plt.grid(visible = True)\n",
    "plt.title('Закон больших чисел')\n",
    "plt.legend()\n",
    "plt.show()"
   ]
  },
  {
   "cell_type": "code",
   "execution_count": null,
   "id": "2fea4a51-2329-4d17-ba89-8ccb32bf26a0",
   "metadata": {},
   "outputs": [],
   "source": []
  },
  {
   "cell_type": "code",
   "execution_count": null,
   "id": "5647a81d-d3a2-414d-8991-c6a7850a4736",
   "metadata": {},
   "outputs": [],
   "source": []
  },
  {
   "cell_type": "code",
   "execution_count": null,
   "id": "1c165aff-0cb9-4475-9125-54eef6161d1c",
   "metadata": {},
   "outputs": [],
   "source": []
  }
 ],
 "metadata": {
  "kernelspec": {
   "display_name": "Python 3 (ipykernel)",
   "language": "python",
   "name": "python3"
  },
  "language_info": {
   "codemirror_mode": {
    "name": "ipython",
    "version": 3
   },
   "file_extension": ".py",
   "mimetype": "text/x-python",
   "name": "python",
   "nbconvert_exporter": "python",
   "pygments_lexer": "ipython3",
   "version": "3.11.7"
  }
 },
 "nbformat": 4,
 "nbformat_minor": 5
}
