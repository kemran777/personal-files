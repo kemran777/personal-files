{
 "cells": [
  {
   "cell_type": "code",
   "execution_count": 1,
   "id": "1a97fa79-1106-470c-87b3-e4fc2b1d95aa",
   "metadata": {
    "tags": []
   },
   "outputs": [],
   "source": [
    "import pandas as pd\n",
    "import psycopg2\n",
    "import matplotlib.pyplot as plt\n",
    "import matplotlib.ticker as ticker\n",
    "import numpy as np\n",
    "import seaborn as sns \n",
    "import statsmodels.stats.proportion as proportion\n",
    "from statsmodels.stats.proportion import proportions_ztest\n",
    "from scipy.stats import ttest_ind,mannwhitneyu,shapiro,norm\n",
    "from statsmodels.stats.weightstats import ztest\n",
    "from tqdm import tqdm\n",
    "import timeit\n",
    "from scipy import stats\n",
    "import math\n",
    "from datetime import date, datetime, timedelta\n",
    "import time\n",
    "from sqlalchemy import create_engine, text\n",
    "from sqlalchemy.orm import sessionmaker\n",
    "import warnings\n",
    "warnings.filterwarnings(\"ignore\")\n",
    "import clickhouse_connect  \n",
    "\n",
    "\n",
    "sys.path.append('/Users/kemran/Desktop/work_files/python_files') \n",
    "from credential import postgres_secret,clickhouse_dwh_secret\n",
    "\n",
    "def get_engine(user):\n",
    "    if user == postgres_secret['user']:\n",
    "        db_name = postgres_secret['db_name']\n",
    "        password = postgres_secret['password']\n",
    "        host = postgres_secret['host']\n",
    "        engine = create_engine(f'postgresql://{user}:{password}@{host}:6432/{db_name}')\n",
    "    elif user == clickhouse_dwh_secret['user']:\n",
    "            db_name = clickhouse_dwh_secret['db_name'] \n",
    "            password = clickhouse_dwh_secret['password']\n",
    "            host = clickhouse_dwh_secret['host']\n",
    "            engine = create_engine(f'clickhouse://{user}:{password}@{host}:8123/{db_name}')\n",
    "    return engine\n",
    "    \n",
    "connection_clickhouse = clickhouse_connect.get_client(\n",
    "    host = clickhouse_dwh_secret['host'],\n",
    "    port= '8123',\n",
    "    username = clickhouse_dwh_secret['user'],\n",
    "    password = clickhouse_dwh_secret['password'],\n",
    "    database='datamarts'\n",
    "    )\n",
    "\n",
    "    \n",
    "def execute(SQL, user):\n",
    "    start_time = time.time()  # запоминаем время начала выполнения функции\n",
    "    engine = get_engine(user)\n",
    "    Session = sessionmaker(bind=engine)  # sessions factory ()\n",
    "    with Session() as session: # open session\n",
    "        result = session.execute(text(SQL))\n",
    "        df = pd.DataFrame(result.fetchall(), columns=result.keys())\n",
    "        \n",
    "    end_time = time.time()  # запоминаем время окончания выполнения функции\n",
    "    execution_time = round(end_time - start_time,4) # вычисляем время выполнения   \n",
    "    \n",
    "    print(f\"Время выполнения функции: {execution_time} секунд\")\n",
    "    print()\n",
    "    return df"
   ]
  },
  {
   "cell_type": "code",
   "execution_count": 74,
   "id": "e7bccf61-f6c4-44bb-b21a-3478f2e67f52",
   "metadata": {
    "tags": []
   },
   "outputs": [
    {
     "name": "stdout",
     "output_type": "stream",
     "text": [
      "Время выполнения функции: 9.3642 секунд\n",
      "\n"
     ]
    }
   ],
   "source": [
    "query = '''WITH all_info AS (SELECT  \n",
    "        s.user_id AS user_id,\n",
    "        t3.created_at::date as trial_start,\n",
    "        s.id AS id,\n",
    "       -- leadInFrame(id) OVER (PARTITION BY user_id ORDER BY invoice_created_at  ROWS BETWEEN UNBOUNDED PRECEDING AND UNBOUNDED FOLLOWING) AS next_id,\n",
    "        i.state as invoice_state,\n",
    "        --leadInFrame(invoice_state) OVER (PARTITION BY user_id ORDER BY invoice_created_at  ROWS BETWEEN UNBOUNDED PRECEDING AND UNBOUNDED FOLLOWING) AS next_invoice_state,\n",
    "        i.id as invoice_id,\n",
    "        i.created_at as invoice_created_at,\n",
    "        --leadInFrame(invoice_created_at) OVER (PARTITION BY user_id ORDER BY invoice_created_at  ROWS BETWEEN UNBOUNDED PRECEDING AND UNBOUNDED FOLLOWING) AS next_invoice_created_at,  \n",
    "      --  next_invoice_created_at::date - invoice_created_at::date delta_date,\n",
    "        i.price_cents AS price_cents,\n",
    "        i.price_currency AS price_currency,\n",
    "        i.refund_amount_cents AS refund_amount_cents,\n",
    "        t4.bonus_title_new AS bonus_title_new,\n",
    "        ROW_NUMBER() OVER (PARTITION BY user_id,id,user_type,invoice_state ORDER BY invoice_created_at) AS rn_num,\n",
    "        CASE WHEN price_cents<=100 AND invoice_state='success' THEN 'trial'\n",
    "             WHEN price_cents<=100 AND invoice_state IN ('failure','initial') THEN 'not_success_trial'\n",
    "             ELSE 'subs'\n",
    "             END user_type,\n",
    "        leadInFrame(user_type) OVER (PARTITION BY user_id ORDER BY invoice_created_at  ROWS BETWEEN UNBOUNDED PRECEDING AND UNBOUNDED FOLLOWING) AS next_user_type, \n",
    "        t2.renewal_off_date AS renewal_off_date,\n",
    "        CASE WHEN renewal_off_date!='1970-01-01' THEN 1 ELSE 0 END unsubscribe_type,\n",
    "        t3.free_days AS free_days,\n",
    "        t3.offer_duration AS offer_duration,\n",
    "        t3.promo_type,\n",
    "        i.paid_at AS paid_at,\n",
    "        --i.period_end,\n",
    "        s.platform AS platform,\n",
    "       -- i.payment_target,\n",
    "        i.deleted_at,\n",
    "        i.refunded_at\n",
    "    FROM raw.viju__product_x__public__invoices i\n",
    "    LEFT JOIN raw.viju__product_x__public__subscriptions s \n",
    "        ON i.subscription_id = s.id  \n",
    "    LEFT JOIN (SELECT\n",
    "                subscription_id,\n",
    "                max(created_at) as renewal_off_date\n",
    "                FROM raw.viju__product_x__public__subscription_cancel_reasons\n",
    "                WHERE created_at >= '2022-03-01'\n",
    "                 --AND subscription_id='74bcff94-4ada-40ef-85de-25074d615d57'\n",
    "                GROUP by 1\n",
    "                ) AS t2 ON i.subscription_id=t2.subscription_id\n",
    "    INNER JOIN datamarts.marketing_dash AS t3 ON s.user_id=t3.user_id\n",
    "    LEFT JOIN datamarts.mekhtiev_bonus_distr AS t4 ON t3.bonus_title=t4.bonus_title_old\n",
    "    WHERE s.platform != 'api'\n",
    "    ORDER BY s.user_id, invoice_created_at \n",
    "    )\n",
    "--    \n",
    "SELECT * FROM all_info\n",
    "WHERE invoice_created_at::date BETWEEN '2025-03-10' AND '2025-03-23'\n",
    "--AND user_type!='not_success_trial'\n",
    "AND platform!='payture'\n",
    "AND free_days!='28'\n",
    "'''\n",
    "df = execute(query,user='kmekhtiev')\n",
    "\n",
    "#df['ends_at'] = pd.to_datetime(df['ends_at'])\n",
    "#df['trial_date'] = pd.to_datetime(df['trial_date'])"
   ]
  },
  {
   "cell_type": "code",
   "execution_count": 306,
   "id": "9290120f-7800-4902-9f4d-27b4f40902c5",
   "metadata": {
    "tags": []
   },
   "outputs": [
    {
     "data": {
      "text/html": [
       "<div>\n",
       "<style scoped>\n",
       "    .dataframe tbody tr th:only-of-type {\n",
       "        vertical-align: middle;\n",
       "    }\n",
       "\n",
       "    .dataframe tbody tr th {\n",
       "        vertical-align: top;\n",
       "    }\n",
       "\n",
       "    .dataframe thead th {\n",
       "        text-align: right;\n",
       "    }\n",
       "</style>\n",
       "<table border=\"1\" class=\"dataframe\">\n",
       "  <thead>\n",
       "    <tr style=\"text-align: right;\">\n",
       "      <th></th>\n",
       "      <th>user_id</th>\n",
       "      <th>trial_start</th>\n",
       "      <th>id</th>\n",
       "      <th>invoice_state</th>\n",
       "      <th>invoice_id</th>\n",
       "      <th>invoice_created_at</th>\n",
       "      <th>price_cents</th>\n",
       "      <th>price_currency</th>\n",
       "      <th>refund_amount_cents</th>\n",
       "      <th>bonus_title_new</th>\n",
       "      <th>...</th>\n",
       "      <th>free_days</th>\n",
       "      <th>offer_duration</th>\n",
       "      <th>t3.promo_type</th>\n",
       "      <th>paid_at</th>\n",
       "      <th>platform</th>\n",
       "      <th>i.deleted_at</th>\n",
       "      <th>i.refunded_at</th>\n",
       "      <th>invoice_created_month</th>\n",
       "      <th>rn_num_2</th>\n",
       "      <th>max_rn</th>\n",
       "    </tr>\n",
       "  </thead>\n",
       "  <tbody>\n",
       "    <tr>\n",
       "      <th>0</th>\n",
       "      <td>6989c5d9-7e7d-4e35-8000-6d6b6ede8fd8</td>\n",
       "      <td>2025-02-15</td>\n",
       "      <td>eb76bade-4304-481b-a2eb-0e7b356418de</td>\n",
       "      <td>success</td>\n",
       "      <td>5f7e47d9-f3fc-43b9-ae59-a686c061ebeb</td>\n",
       "      <td>2025-03-22</td>\n",
       "      <td>39900</td>\n",
       "      <td>RUB</td>\n",
       "      <td>0</td>\n",
       "      <td></td>\n",
       "      <td>...</td>\n",
       "      <td>35</td>\n",
       "      <td>3 month</td>\n",
       "      <td>promo</td>\n",
       "      <td>2025-03-22 00:01:34.289</td>\n",
       "      <td>cloudpayments</td>\n",
       "      <td>NaT</td>\n",
       "      <td>NaT</td>\n",
       "      <td>2025-03</td>\n",
       "      <td>1</td>\n",
       "      <td>1</td>\n",
       "    </tr>\n",
       "    <tr>\n",
       "      <th>1</th>\n",
       "      <td>ae756ed1-6181-46dc-8002-1f44df95e8f8</td>\n",
       "      <td>2025-03-14</td>\n",
       "      <td>d01388e5-e420-499a-8c9d-1ca1b673406e</td>\n",
       "      <td>success</td>\n",
       "      <td>2217114b-c70b-4423-b295-06177db5213f</td>\n",
       "      <td>2025-03-14</td>\n",
       "      <td>0</td>\n",
       "      <td>RUB</td>\n",
       "      <td>0</td>\n",
       "      <td>Sharry 3 мес 399 \\ 45 дней</td>\n",
       "      <td>...</td>\n",
       "      <td>45</td>\n",
       "      <td>3 month</td>\n",
       "      <td>promo</td>\n",
       "      <td>2025-03-14 14:30:55.189</td>\n",
       "      <td>cloudpayments</td>\n",
       "      <td>NaT</td>\n",
       "      <td>NaT</td>\n",
       "      <td>2025-03</td>\n",
       "      <td>1</td>\n",
       "      <td>1</td>\n",
       "    </tr>\n",
       "    <tr>\n",
       "      <th>2</th>\n",
       "      <td>10dab0eb-8c30-4c44-8002-7d95359601de</td>\n",
       "      <td>2025-02-09</td>\n",
       "      <td>bd0fbfa9-0ffd-42e1-bd06-27c63939a45d</td>\n",
       "      <td>failure</td>\n",
       "      <td>94334457-0a57-4c8e-8623-ec0b4883aa6b</td>\n",
       "      <td>2025-03-16</td>\n",
       "      <td>39900</td>\n",
       "      <td>RUB</td>\n",
       "      <td>0</td>\n",
       "      <td></td>\n",
       "      <td>...</td>\n",
       "      <td>35</td>\n",
       "      <td>3 month</td>\n",
       "      <td>promo</td>\n",
       "      <td>NaT</td>\n",
       "      <td>cloudpayments</td>\n",
       "      <td>NaT</td>\n",
       "      <td>NaT</td>\n",
       "      <td>2025-03</td>\n",
       "      <td>1</td>\n",
       "      <td>4</td>\n",
       "    </tr>\n",
       "    <tr>\n",
       "      <th>3</th>\n",
       "      <td>10dab0eb-8c30-4c44-8002-7d95359601de</td>\n",
       "      <td>2025-02-09</td>\n",
       "      <td>bd0fbfa9-0ffd-42e1-bd06-27c63939a45d</td>\n",
       "      <td>failure</td>\n",
       "      <td>d90a0ce6-9aef-4eec-b1f2-baedea954702</td>\n",
       "      <td>2025-03-16</td>\n",
       "      <td>39900</td>\n",
       "      <td>RUB</td>\n",
       "      <td>0</td>\n",
       "      <td></td>\n",
       "      <td>...</td>\n",
       "      <td>35</td>\n",
       "      <td>3 month</td>\n",
       "      <td>promo</td>\n",
       "      <td>NaT</td>\n",
       "      <td>cloudpayments</td>\n",
       "      <td>NaT</td>\n",
       "      <td>NaT</td>\n",
       "      <td>2025-03</td>\n",
       "      <td>2</td>\n",
       "      <td>4</td>\n",
       "    </tr>\n",
       "    <tr>\n",
       "      <th>4</th>\n",
       "      <td>10dab0eb-8c30-4c44-8002-7d95359601de</td>\n",
       "      <td>2025-02-09</td>\n",
       "      <td>bd0fbfa9-0ffd-42e1-bd06-27c63939a45d</td>\n",
       "      <td>failure</td>\n",
       "      <td>bd84bdbd-73d2-4444-8256-64ebb036f2d0</td>\n",
       "      <td>2025-03-16</td>\n",
       "      <td>39900</td>\n",
       "      <td>RUB</td>\n",
       "      <td>0</td>\n",
       "      <td></td>\n",
       "      <td>...</td>\n",
       "      <td>35</td>\n",
       "      <td>3 month</td>\n",
       "      <td>promo</td>\n",
       "      <td>NaT</td>\n",
       "      <td>cloudpayments</td>\n",
       "      <td>NaT</td>\n",
       "      <td>NaT</td>\n",
       "      <td>2025-03</td>\n",
       "      <td>3</td>\n",
       "      <td>4</td>\n",
       "    </tr>\n",
       "    <tr>\n",
       "      <th>...</th>\n",
       "      <td>...</td>\n",
       "      <td>...</td>\n",
       "      <td>...</td>\n",
       "      <td>...</td>\n",
       "      <td>...</td>\n",
       "      <td>...</td>\n",
       "      <td>...</td>\n",
       "      <td>...</td>\n",
       "      <td>...</td>\n",
       "      <td>...</td>\n",
       "      <td>...</td>\n",
       "      <td>...</td>\n",
       "      <td>...</td>\n",
       "      <td>...</td>\n",
       "      <td>...</td>\n",
       "      <td>...</td>\n",
       "      <td>...</td>\n",
       "      <td>...</td>\n",
       "      <td>...</td>\n",
       "      <td>...</td>\n",
       "      <td>...</td>\n",
       "    </tr>\n",
       "    <tr>\n",
       "      <th>20354</th>\n",
       "      <td>c99b154f-a4e3-488c-bffe-044fc3d0d9fc</td>\n",
       "      <td>1970-01-01</td>\n",
       "      <td>04dd243b-8fc4-46d8-89dd-2df17edfb235</td>\n",
       "      <td>initial</td>\n",
       "      <td>b20d9c59-56cd-46d7-b693-ee6d178ee82b</td>\n",
       "      <td>2025-03-23</td>\n",
       "      <td>5000</td>\n",
       "      <td>RUB</td>\n",
       "      <td>0</td>\n",
       "      <td></td>\n",
       "      <td>...</td>\n",
       "      <td>0</td>\n",
       "      <td></td>\n",
       "      <td>no_promo</td>\n",
       "      <td>NaT</td>\n",
       "      <td>cloudpayments</td>\n",
       "      <td>2025-03-23 17:55:56.689</td>\n",
       "      <td>NaT</td>\n",
       "      <td>2025-03</td>\n",
       "      <td>1</td>\n",
       "      <td>1</td>\n",
       "    </tr>\n",
       "    <tr>\n",
       "      <th>20355</th>\n",
       "      <td>c99b154f-a4e3-488c-bffe-044fc3d0d9fc</td>\n",
       "      <td>1970-01-01</td>\n",
       "      <td>0e9e8141-b44f-41cd-9b7f-764f28290e7a</td>\n",
       "      <td>initial</td>\n",
       "      <td>5efde9df-56f5-4f9a-ad2b-fbf8321036a9</td>\n",
       "      <td>2025-03-23</td>\n",
       "      <td>0</td>\n",
       "      <td>RUB</td>\n",
       "      <td>0</td>\n",
       "      <td></td>\n",
       "      <td>...</td>\n",
       "      <td>0</td>\n",
       "      <td></td>\n",
       "      <td>no_promo</td>\n",
       "      <td>NaT</td>\n",
       "      <td>cloudpayments</td>\n",
       "      <td>NaT</td>\n",
       "      <td>NaT</td>\n",
       "      <td>2025-03</td>\n",
       "      <td>1</td>\n",
       "      <td>1</td>\n",
       "    </tr>\n",
       "    <tr>\n",
       "      <th>20356</th>\n",
       "      <td>c99b154f-a4e3-488c-bffe-044fc3d0d9fc</td>\n",
       "      <td>1970-01-01</td>\n",
       "      <td>b4d16df0-1a91-4321-9238-cc096d39f5db</td>\n",
       "      <td>initial</td>\n",
       "      <td>04c276af-11ae-4837-b811-8a6018f2f7f9</td>\n",
       "      <td>2025-03-23</td>\n",
       "      <td>5000</td>\n",
       "      <td>RUB</td>\n",
       "      <td>0</td>\n",
       "      <td></td>\n",
       "      <td>...</td>\n",
       "      <td>0</td>\n",
       "      <td></td>\n",
       "      <td>no_promo</td>\n",
       "      <td>NaT</td>\n",
       "      <td>cloudpayments</td>\n",
       "      <td>NaT</td>\n",
       "      <td>NaT</td>\n",
       "      <td>2025-03</td>\n",
       "      <td>1</td>\n",
       "      <td>1</td>\n",
       "    </tr>\n",
       "    <tr>\n",
       "      <th>20357</th>\n",
       "      <td>2b1fb60a-3123-4e38-bfff-b6be48c5e0b0</td>\n",
       "      <td>2025-02-10</td>\n",
       "      <td>5d5c5175-2347-489c-a75b-628067ac87fc</td>\n",
       "      <td>failure</td>\n",
       "      <td>0cd37d7a-16b4-4174-818c-7dfce93902a5</td>\n",
       "      <td>2025-03-10</td>\n",
       "      <td>29900</td>\n",
       "      <td>RUB</td>\n",
       "      <td>0</td>\n",
       "      <td>Яндекс Директ. 1 месяц за 1 рубль.</td>\n",
       "      <td>...</td>\n",
       "      <td>30</td>\n",
       "      <td>1 month</td>\n",
       "      <td>promo</td>\n",
       "      <td>NaT</td>\n",
       "      <td>cloudpayments</td>\n",
       "      <td>NaT</td>\n",
       "      <td>NaT</td>\n",
       "      <td>2025-03</td>\n",
       "      <td>1</td>\n",
       "      <td>2</td>\n",
       "    </tr>\n",
       "    <tr>\n",
       "      <th>20358</th>\n",
       "      <td>2b1fb60a-3123-4e38-bfff-b6be48c5e0b0</td>\n",
       "      <td>2025-02-10</td>\n",
       "      <td>5d5c5175-2347-489c-a75b-628067ac87fc</td>\n",
       "      <td>failure</td>\n",
       "      <td>cdc2ba80-38fb-4437-8159-c6fd10a702ca</td>\n",
       "      <td>2025-03-10</td>\n",
       "      <td>29900</td>\n",
       "      <td>RUB</td>\n",
       "      <td>0</td>\n",
       "      <td>Яндекс Директ. 1 месяц за 1 рубль.</td>\n",
       "      <td>...</td>\n",
       "      <td>30</td>\n",
       "      <td>1 month</td>\n",
       "      <td>promo</td>\n",
       "      <td>NaT</td>\n",
       "      <td>cloudpayments</td>\n",
       "      <td>NaT</td>\n",
       "      <td>NaT</td>\n",
       "      <td>2025-03</td>\n",
       "      <td>2</td>\n",
       "      <td>2</td>\n",
       "    </tr>\n",
       "  </tbody>\n",
       "</table>\n",
       "<p>20359 rows × 25 columns</p>\n",
       "</div>"
      ],
      "text/plain": [
       "                                    user_id trial_start  \\\n",
       "0      6989c5d9-7e7d-4e35-8000-6d6b6ede8fd8  2025-02-15   \n",
       "1      ae756ed1-6181-46dc-8002-1f44df95e8f8  2025-03-14   \n",
       "2      10dab0eb-8c30-4c44-8002-7d95359601de  2025-02-09   \n",
       "3      10dab0eb-8c30-4c44-8002-7d95359601de  2025-02-09   \n",
       "4      10dab0eb-8c30-4c44-8002-7d95359601de  2025-02-09   \n",
       "...                                     ...         ...   \n",
       "20354  c99b154f-a4e3-488c-bffe-044fc3d0d9fc  1970-01-01   \n",
       "20355  c99b154f-a4e3-488c-bffe-044fc3d0d9fc  1970-01-01   \n",
       "20356  c99b154f-a4e3-488c-bffe-044fc3d0d9fc  1970-01-01   \n",
       "20357  2b1fb60a-3123-4e38-bfff-b6be48c5e0b0  2025-02-10   \n",
       "20358  2b1fb60a-3123-4e38-bfff-b6be48c5e0b0  2025-02-10   \n",
       "\n",
       "                                         id invoice_state  \\\n",
       "0      eb76bade-4304-481b-a2eb-0e7b356418de       success   \n",
       "1      d01388e5-e420-499a-8c9d-1ca1b673406e       success   \n",
       "2      bd0fbfa9-0ffd-42e1-bd06-27c63939a45d       failure   \n",
       "3      bd0fbfa9-0ffd-42e1-bd06-27c63939a45d       failure   \n",
       "4      bd0fbfa9-0ffd-42e1-bd06-27c63939a45d       failure   \n",
       "...                                     ...           ...   \n",
       "20354  04dd243b-8fc4-46d8-89dd-2df17edfb235       initial   \n",
       "20355  0e9e8141-b44f-41cd-9b7f-764f28290e7a       initial   \n",
       "20356  b4d16df0-1a91-4321-9238-cc096d39f5db       initial   \n",
       "20357  5d5c5175-2347-489c-a75b-628067ac87fc       failure   \n",
       "20358  5d5c5175-2347-489c-a75b-628067ac87fc       failure   \n",
       "\n",
       "                                 invoice_id invoice_created_at  price_cents  \\\n",
       "0      5f7e47d9-f3fc-43b9-ae59-a686c061ebeb         2025-03-22        39900   \n",
       "1      2217114b-c70b-4423-b295-06177db5213f         2025-03-14            0   \n",
       "2      94334457-0a57-4c8e-8623-ec0b4883aa6b         2025-03-16        39900   \n",
       "3      d90a0ce6-9aef-4eec-b1f2-baedea954702         2025-03-16        39900   \n",
       "4      bd84bdbd-73d2-4444-8256-64ebb036f2d0         2025-03-16        39900   \n",
       "...                                     ...                ...          ...   \n",
       "20354  b20d9c59-56cd-46d7-b693-ee6d178ee82b         2025-03-23         5000   \n",
       "20355  5efde9df-56f5-4f9a-ad2b-fbf8321036a9         2025-03-23            0   \n",
       "20356  04c276af-11ae-4837-b811-8a6018f2f7f9         2025-03-23         5000   \n",
       "20357  0cd37d7a-16b4-4174-818c-7dfce93902a5         2025-03-10        29900   \n",
       "20358  cdc2ba80-38fb-4437-8159-c6fd10a702ca         2025-03-10        29900   \n",
       "\n",
       "      price_currency  refund_amount_cents                     bonus_title_new  \\\n",
       "0                RUB                    0                                       \n",
       "1                RUB                    0          Sharry 3 мес 399 \\ 45 дней   \n",
       "2                RUB                    0                                       \n",
       "3                RUB                    0                                       \n",
       "4                RUB                    0                                       \n",
       "...              ...                  ...                                 ...   \n",
       "20354            RUB                    0                                       \n",
       "20355            RUB                    0                                       \n",
       "20356            RUB                    0                                       \n",
       "20357            RUB                    0  Яндекс Директ. 1 месяц за 1 рубль.   \n",
       "20358            RUB                    0  Яндекс Директ. 1 месяц за 1 рубль.   \n",
       "\n",
       "       ...  free_days offer_duration t3.promo_type                 paid_at  \\\n",
       "0      ...         35        3 month         promo 2025-03-22 00:01:34.289   \n",
       "1      ...         45        3 month         promo 2025-03-14 14:30:55.189   \n",
       "2      ...         35        3 month         promo                     NaT   \n",
       "3      ...         35        3 month         promo                     NaT   \n",
       "4      ...         35        3 month         promo                     NaT   \n",
       "...    ...        ...            ...           ...                     ...   \n",
       "20354  ...          0                     no_promo                     NaT   \n",
       "20355  ...          0                     no_promo                     NaT   \n",
       "20356  ...          0                     no_promo                     NaT   \n",
       "20357  ...         30        1 month         promo                     NaT   \n",
       "20358  ...         30        1 month         promo                     NaT   \n",
       "\n",
       "            platform            i.deleted_at i.refunded_at  \\\n",
       "0      cloudpayments                     NaT           NaT   \n",
       "1      cloudpayments                     NaT           NaT   \n",
       "2      cloudpayments                     NaT           NaT   \n",
       "3      cloudpayments                     NaT           NaT   \n",
       "4      cloudpayments                     NaT           NaT   \n",
       "...              ...                     ...           ...   \n",
       "20354  cloudpayments 2025-03-23 17:55:56.689           NaT   \n",
       "20355  cloudpayments                     NaT           NaT   \n",
       "20356  cloudpayments                     NaT           NaT   \n",
       "20357  cloudpayments                     NaT           NaT   \n",
       "20358  cloudpayments                     NaT           NaT   \n",
       "\n",
       "      invoice_created_month rn_num_2 max_rn  \n",
       "0                   2025-03        1      1  \n",
       "1                   2025-03        1      1  \n",
       "2                   2025-03        1      4  \n",
       "3                   2025-03        2      4  \n",
       "4                   2025-03        3      4  \n",
       "...                     ...      ...    ...  \n",
       "20354               2025-03        1      1  \n",
       "20355               2025-03        1      1  \n",
       "20356               2025-03        1      1  \n",
       "20357               2025-03        1      2  \n",
       "20358               2025-03        2      2  \n",
       "\n",
       "[20359 rows x 25 columns]"
      ]
     },
     "execution_count": 306,
     "metadata": {},
     "output_type": "execute_result"
    }
   ],
   "source": [
    "pd.read_csv('"
   ]
  },
  {
   "cell_type": "code",
   "execution_count": 78,
   "id": "aedc8318-eb56-4817-b778-05c3ace4a487",
   "metadata": {
    "tags": []
   },
   "outputs": [],
   "source": [
    "df['invoice_created_at'] =  df['invoice_created_at'].dt.strftime(\"%Y-%m-%d\")\n",
    "df['invoice_created_at'] =  pd.to_datetime(df['invoice_created_at'])\n",
    "df['invoice_created_month'] = df['invoice_created_at'].dt.to_period('M')\n",
    "\n",
    "\n",
    "df['trial_start'] =  pd.to_datetime(df['trial_start'])\n",
    "#df['next_invoice_created_at'] =  df['next_invoice_created_at'].dt.strftime(\"%Y-%m-%d\")\n",
    "#df['next_invoice_created_at'] =  pd.to_datetime(df['next_invoice_created_at'])"
   ]
  },
  {
   "cell_type": "code",
   "execution_count": 80,
   "id": "c4b52b0f-7902-4ee1-9e0e-7bb02500c9b9",
   "metadata": {
    "tags": []
   },
   "outputs": [],
   "source": [
    "df['rn_num_2'] = df.groupby(['user_id','id']).cumcount() + 1\n",
    "df['max_rn'] = df.groupby(['user_id'])['rn_num_2'].transform('max')"
   ]
  },
  {
   "cell_type": "code",
   "execution_count": null,
   "id": "8cab3c2f-e14f-4cb6-a68f-2ff5720696ac",
   "metadata": {
    "tags": []
   },
   "outputs": [],
   "source": [
    "# df['trial_end'] = df['trial_start'] + + pd.to_timedelta(df['free_days'], unit='D')\n",
    "# df['trial_end'] =  pd.to_datetime(df['trial_end'])\n",
    "\n",
    "# df['rn_num_2'] = df.groupby(['user_id','id','invoice_created_at']).cumcount() + 1\n",
    "# df['max_rn'] = df.groupby(['user_id'])['rn_num_2'].transform('max')\n",
    "\n",
    "# df['next_invoice_state'] = df['next_invoice_state'].apply(lambda x: 'unsubscribe' if x == ''  else \n",
    "#                                                                'other' if x in ['initial','refunded','processing']\n",
    "#                                                                else x)\n",
    "\n",
    "\n",
    "# df[(df['max_rn']==df['rn_num_2']) & \\\n",
    "#    (df['trial_end']>='2025-03-03')\\\n",
    "#     & (df['trial_end']<='2025-03-23')].\\\n",
    "#     groupby('next_invoice_state')['user_id'].count()\n",
    "\n",
    "# df_trial = df[(df['max_rn']==df['rn_num_2']) & (df['trial_end']>='2025-03-03') & (df['trial_end']<='2025-03-20')]\n",
    "\n",
    "# df_trial.groupby('invoice_state')['user_id'].nunique()"
   ]
  },
  {
   "cell_type": "code",
   "execution_count": null,
   "id": "72e729eb-1c16-48f4-be17-cdfedb8a1884",
   "metadata": {
    "tags": []
   },
   "outputs": [],
   "source": [
    "#df_trial_succes_failure = df_trial[~df_trial['invoice_state'].isin(['other','unsubscribe'])]"
   ]
  },
  {
   "cell_type": "code",
   "execution_count": null,
   "id": "4cc78c0c-203f-42b1-ac71-d80806417a6e",
   "metadata": {
    "tags": []
   },
   "outputs": [],
   "source": [
    "#df_trial[~df_trial['invoice_state'].isin(['other','unsubscribe'])].groupby('invoice_state')['user_id'].nunique()"
   ]
  },
  {
   "cell_type": "code",
   "execution_count": 183,
   "id": "24f0fcf1-c17e-47dd-a072-5406663653b0",
   "metadata": {
    "tags": []
   },
   "outputs": [],
   "source": [
    "# Все пользователи у которых должно было быть списание\n",
    "df_success_failure = df[(df['invoice_created_at']>='2025-03-10') & \n",
    "                        (df['invoice_created_at']<='2025-03-23') &\n",
    "                        (df['max_rn'] == df['rn_num_2']) & \n",
    "                        (df['invoice_state'].isin(['success','failure'])) &\n",
    "                        (df['trial_start']<'2025-03-10')]\n",
    "                        #(df['free_days'].isin([3,30,35,14,45]))] # Убираем тех, кто стал триальщиком в этот период"
   ]
  },
  {
   "cell_type": "code",
   "execution_count": 185,
   "id": "f8d7a78e-7c0a-4aab-893a-16f429a97425",
   "metadata": {
    "tags": []
   },
   "outputs": [
    {
     "data": {
      "text/plain": [
       "invoice_state\n",
       "failure    2047\n",
       "success    2234\n",
       "Name: user_id, dtype: int64"
      ]
     },
     "execution_count": 185,
     "metadata": {},
     "output_type": "execute_result"
    }
   ],
   "source": [
    "df_success_failure.groupby('invoice_state')['user_id'].count()"
   ]
  },
  {
   "cell_type": "code",
   "execution_count": 187,
   "id": "552840e4-0343-4a22-8fe9-4a1988d026fa",
   "metadata": {
    "tags": []
   },
   "outputs": [],
   "source": [
    "# df_subs_trial = pd.merge(df_all,df_trial_succes_failure['user_id'],how='left',on='user_id',indicator=True)\n",
    "# df_subs_trial = df_subs_trial.rename(columns={'_merge': 'trial_subs'})\n",
    "\n",
    "# df_subs_trial['trial_subs'] = df_subs_trial['trial_subs'].apply(lambda x:'subs' if x=='both' else 'trial')\n",
    "# df_subs_trial = df_subs_trial[df_subs_trial['invoice_state'].isin(['failure','success'])]"
   ]
  },
  {
   "cell_type": "code",
   "execution_count": 189,
   "id": "9ed91eba-2b8d-471e-aac2-c31e95fd24c9",
   "metadata": {
    "tags": []
   },
   "outputs": [],
   "source": [
    "# Дедупликация \n",
    "t = df_success_failure['user_id'].value_counts().reset_index()\n",
    "t=t[t['count']>1]\n",
    "\n",
    "df_subs_trial_wo_dubl = pd.merge(df_success_failure,t['user_id'],how='left',on='user_id',indicator='duplicate')\n",
    "df_subs_trial_wo_dubl = df_subs_trial_wo_dubl[df_subs_trial_wo_dubl['duplicate']=='left_only']\n",
    "\n",
    "df_subs_trial_wo_dubl['success_type'] = df_subs_trial_wo_dubl['invoice_state'].apply(lambda x:0 if x=='failure' else 1)"
   ]
  },
  {
   "cell_type": "code",
   "execution_count": 191,
   "id": "c1bc7865-6db9-4333-854e-bd3d59801e35",
   "metadata": {
    "tags": []
   },
   "outputs": [
    {
     "data": {
      "text/plain": [
       "user_id\n",
       "6989c5d9-7e7d-4e35-8000-6d6b6ede8fd8    1\n",
       "fd2f0ecf-3e50-4c14-aa35-7f5748b622ad    1\n",
       "7f21cbcf-d2fc-4ef1-a9f9-d1360594e042    1\n",
       "1e0bcf7d-0583-40b4-a9fd-0ddad0a5b767    1\n",
       "2a951b53-dce0-4fcb-a9fe-4aa0fa38726a    1\n",
       "                                       ..\n",
       "60b9c591-345e-4ff8-949d-6734862340f1    1\n",
       "45556746-ce84-4e3c-94a5-b1303d99b095    1\n",
       "9e6ca9f5-7020-431a-94a7-d780366bd722    1\n",
       "c6b3a2ff-51d3-4a70-94a9-2a5b97eacb8c    1\n",
       "2b1fb60a-3123-4e38-bfff-b6be48c5e0b0    1\n",
       "Name: count, Length: 4275, dtype: int64"
      ]
     },
     "execution_count": 191,
     "metadata": {},
     "output_type": "execute_result"
    }
   ],
   "source": [
    "df_subs_trial_wo_dubl['user_id'].value_counts()"
   ]
  },
  {
   "cell_type": "code",
   "execution_count": 193,
   "id": "0d948d1d-b2e4-4cb1-9131-78c058ff1c1c",
   "metadata": {
    "tags": []
   },
   "outputs": [
    {
     "data": {
      "text/plain": [
       "invoice_state\n",
       "failure    2043\n",
       "success    2232\n",
       "Name: user_id, dtype: int64"
      ]
     },
     "execution_count": 193,
     "metadata": {},
     "output_type": "execute_result"
    }
   ],
   "source": [
    "df_subs_trial_wo_dubl.groupby(['invoice_state'])['user_id'].count()"
   ]
  },
  {
   "cell_type": "markdown",
   "id": "f6505be5-2f2e-42ba-a670-367597d1b003",
   "metadata": {},
   "source": [
    "# Основные вводные"
   ]
  },
  {
   "cell_type": "code",
   "execution_count": 196,
   "id": "f8965585-5aed-4dea-b42b-955af58dc654",
   "metadata": {
    "tags": []
   },
   "outputs": [],
   "source": [
    "num_of_bucket = 2"
   ]
  },
  {
   "cell_type": "markdown",
   "id": "767defcb-b432-4ead-a3b4-011422258a1e",
   "metadata": {},
   "source": [
    "## Функция расчета абсолютного и относительного MDE конверсинной метрики"
   ]
  },
  {
   "cell_type": "code",
   "execution_count": 199,
   "id": "2aedc84a-d87b-4661-a149-8bd360c41486",
   "metadata": {
    "tags": []
   },
   "outputs": [],
   "source": [
    "def mde_estimated_absolute (ttl_users,var,alpha,beta):\n",
    "        t_alpha = stats.norm.ppf(1 - alpha /(num_of_bucket - 1) / 2, loc=0, scale=1)\n",
    "        t_beta = stats.norm.ppf(1 - beta, loc=0, scale=1)\n",
    "        var = var * 2\n",
    "        MDE=(t_alpha+t_beta) * np.sqrt(var  / ttl_users)\n",
    "        return MDE"
   ]
  },
  {
   "cell_type": "code",
   "execution_count": 201,
   "id": "767e5321-0cd5-4401-8d39-391ee48a54a3",
   "metadata": {
    "tags": []
   },
   "outputs": [
    {
     "data": {
      "text/plain": [
       "4275"
      ]
     },
     "execution_count": 201,
     "metadata": {},
     "output_type": "execute_result"
    }
   ],
   "source": [
    "math.ceil(df_subs_trial_wo_dubl['user_id'].nunique())"
   ]
  },
  {
   "cell_type": "code",
   "execution_count": 203,
   "id": "19516263-1b55-4256-9f76-4cfd22c59fe4",
   "metadata": {
    "tags": []
   },
   "outputs": [
    {
     "name": "stdout",
     "output_type": "stream",
     "text": [
      "\u001b[1mПериод - 2 недели\u001b[0m\n",
      "MDE абсолютный: 0.0428\n",
      "MDE относительный: 0.082\n",
      "Среднияя конверсия в оплату: 0.5221\n",
      "Дисперсия: 0.2496\n",
      "Число пользователей в группе: 2138\n",
      "==================================================\n"
     ]
    }
   ],
   "source": [
    "BOLD = \"\\033[1m\"  \n",
    "END = \"\\033[0m\"  \n",
    "ttl_users = math.ceil(df_subs_trial_wo_dubl['user_id'].nunique() / num_of_bucket)\n",
    "var = df_subs_trial_wo_dubl['success_type'].var()\n",
    "mean = df_subs_trial_wo_dubl['success_type'].mean()\n",
    "\n",
    "mde_absolute=mde_estimated_absolute(ttl_users,var,0.05,0.2)\n",
    "MDE = mde_absolute / mean\n",
    "\n",
    "print(f\"{BOLD}Период - {'2 недели'}{END}\") \n",
    "print('MDE абсолютный:',round(mde_absolute,4))\n",
    "print('MDE относительный:',round(MDE,4))\n",
    "print('Среднияя конверсия в оплату:',round(mean,4))\n",
    "print('Дисперсия:',round(var,4))\n",
    "print('Число пользователей в группе:',math.ceil(ttl_users))\n",
    "print(\"=\"*50)"
   ]
  },
  {
   "cell_type": "markdown",
   "id": "994f74fa-fcfc-42e4-bcd4-ac246990ada8",
   "metadata": {},
   "source": [
    "# Удаление выбросов"
   ]
  },
  {
   "cell_type": "markdown",
   "id": "20a7e5a0-648a-4cd0-9d80-a71c014d4db2",
   "metadata": {},
   "source": [
    "## Квантильный анализ"
   ]
  },
  {
   "cell_type": "markdown",
   "id": "e4fa8b84-989c-4a1e-b2a4-39039a52bc7b",
   "metadata": {},
   "source": [
    "# Постстратификация"
   ]
  },
  {
   "cell_type": "code",
   "execution_count": 238,
   "id": "a6c9c7e8-edb7-4fe2-b08e-4fb3aa040eaf",
   "metadata": {
    "tags": []
   },
   "outputs": [
    {
     "data": {
      "text/plain": [
       "{35: 0.5141520467836257,\n",
       " 14: 0.22339181286549709,\n",
       " 30: 0.12,\n",
       " 45: 0.057777777777777775,\n",
       " 0: 0.03695906432748538,\n",
       " 3: 0.022690058479532163,\n",
       " 59: 0.011695906432748537,\n",
       " 121: 0.002105263157894737,\n",
       " 90: 0.0016374269005847953,\n",
       " 151: 0.0014035087719298245,\n",
       " 182: 0.0009356725146198831,\n",
       " 81: 0.00046783625730994154,\n",
       " 80: 0.00046783625730994154,\n",
       " 243: 0.00046783625730994154,\n",
       " 335: 0.00046783625730994154,\n",
       " 358: 0.00023391812865497077,\n",
       " 50: 0.00023391812865497077,\n",
       " 52: 0.00023391812865497077,\n",
       " 142: 0.00023391812865497077,\n",
       " 120: 0.00023391812865497077,\n",
       " 112: 0.00023391812865497077,\n",
       " 549: 0.00023391812865497077,\n",
       " 304: 0.00023391812865497077,\n",
       " 318: 0.00023391812865497077,\n",
       " 212: 0.00023391812865497077,\n",
       " 58: 0.00023391812865497077,\n",
       " 236: 0.00023391812865497077,\n",
       " 51: 0.00023391812865497077,\n",
       " 233: 0.00023391812865497077,\n",
       " 309: 0.00023391812865497077,\n",
       " 49: 0.00023391812865497077,\n",
       " 196: 0.00023391812865497077,\n",
       " 296: 0.00023391812865497077,\n",
       " 143: 0.00023391812865497077,\n",
       " 517: 0.00023391812865497077,\n",
       " 83: 0.00023391812865497077,\n",
       " 73: 0.00023391812865497077,\n",
       " 425: 0.00023391812865497077}"
      ]
     },
     "execution_count": 238,
     "metadata": {},
     "output_type": "execute_result"
    }
   ],
   "source": [
    "weights = df_subs_trial_wo_dubl['free_days'].value_counts(normalize=True).to_dict()\n",
    "weights"
   ]
  },
  {
   "cell_type": "markdown",
   "id": "a22c5970-b196-4e91-b15a-ac0a8d54aac5",
   "metadata": {},
   "source": [
    "## Функции для вычисления стратифицированного среднего"
   ]
  },
  {
   "cell_type": "code",
   "execution_count": 241,
   "id": "f1137966-10db-4c31-9f17-9a83fa6e84d6",
   "metadata": {
    "tags": []
   },
   "outputs": [],
   "source": [
    "def calculate_stratified_mean(df, weights,parameter):\n",
    "    strat_mean = df.groupby('free_days')[parameter].mean()\n",
    "    df_means_weights = pd.merge(\n",
    "        strat_mean,\n",
    "        pd.Series(weights, name='weight'),\n",
    "        how='inner',\n",
    "        left_index=True,\n",
    "        right_index=True\n",
    "    )\n",
    "    # если в данных df не было каких-то страт, то часть weights затрётся и сумма весов будет меньше 1\n",
    "    df_means_weights['weight'] = df_means_weights['weight'] / df_means_weights['weight'].sum()\n",
    "    mean_strat = (df_means_weights['weight'] * df_means_weights[parameter]).sum()\n",
    "    return mean_strat"
   ]
  },
  {
   "cell_type": "markdown",
   "id": "23f0fed9-3063-44bf-b4ee-1d648ef7ca88",
   "metadata": {},
   "source": [
    "## Функция для вычисления стратифицированной дисперсии"
   ]
  },
  {
   "cell_type": "code",
   "execution_count": 244,
   "id": "3c3345c3-3e2d-4dda-9e8c-35b83495441d",
   "metadata": {
    "tags": []
   },
   "outputs": [],
   "source": [
    "def calculate_strat_var(df, weights, parameter):\n",
    "    \"\"\"Вычисляет стратифицированную дисперсию.\"\"\"\n",
    "    strat_vars = df.groupby('free_days')[parameter].var()\n",
    "    df_vars_weights = pd.merge(\n",
    "        strat_vars,\n",
    "        pd.Series(weights, name='weight'),\n",
    "        how='inner',\n",
    "        left_index=True,\n",
    "        right_index=True\n",
    "    )\n",
    "    # если в данных df не было каких-то страт, то часть weights затрётся и сумма весов будет меньше 1\n",
    "    df_vars_weights['weight'] = df_vars_weights['weight'] / df_vars_weights['weight'].sum()\n",
    "    var_strat = (df_vars_weights['weight'] * df_vars_weights[parameter]).sum()\n",
    "    return var_strat"
   ]
  },
  {
   "cell_type": "markdown",
   "id": "4397a9c3-cfe8-432b-a4f6-cecebd4a60a8",
   "metadata": {},
   "source": [
    "## Функция для вычисления p_value"
   ]
  },
  {
   "cell_type": "code",
   "execution_count": 247,
   "id": "f06de821-95e0-4bcc-94a4-58d530714f3d",
   "metadata": {
    "tags": []
   },
   "outputs": [],
   "source": [
    "def check_stratified_test(df_control, df_pilot, weights, parameter):\n",
    "    \"\"\"Проверяет гипотезу о равенстве средних для стратифицированного среднего.\"\"\"\n",
    "    mean_strat_control = calculate_stratified_mean(df_control, weights, parameter)\n",
    "    mean_strat_pilot = calculate_stratified_mean(df_pilot, weights, parameter)\n",
    "    var_strat_control = calculate_strat_var(df_control, weights, parameter)\n",
    "    var_strat_pilot = calculate_strat_var(df_pilot, weights, parameter)\n",
    "    delta_mean_strat = mean_strat_pilot - mean_strat_control\n",
    "    std_mean_strat = (var_strat_pilot / len(df_pilot) + var_strat_control / len(df_control)) ** 0.5\n",
    "    t = delta_mean_strat / std_mean_strat\n",
    "    pvalue = (1 - stats.norm.cdf(np.abs(t))) * 2\n",
    "    return pvalue"
   ]
  },
  {
   "cell_type": "code",
   "execution_count": 249,
   "id": "bcb8a7e0-bf4c-4a6e-8de6-9d01c1f7d06e",
   "metadata": {
    "tags": []
   },
   "outputs": [
    {
     "name": "stdout",
     "output_type": "stream",
     "text": [
      "\u001b[1mПериод - 2 недели\u001b[0m\n",
      "MDE абсолютный: 0.0405\n",
      "MDE относительный: 0.0776\n",
      "Среднияя конверсия в отписку за неделю: 0.5221\n",
      "Дисперсия: 0.2236\n",
      "Число пользователей в группе: 2138\n",
      "==================================================\n"
     ]
    }
   ],
   "source": [
    "BOLD = \"\\033[1m\"  \n",
    "END = \"\\033[0m\"  \n",
    "        \n",
    "ttl_users = math.ceil(df_subs_trial_wo_dubl['user_id'].count() / num_of_bucket)\n",
    "var = calculate_strat_var(df_subs_trial_wo_dubl, weights,'success_type')\n",
    "mean = calculate_stratified_mean(df_subs_trial_wo_dubl, weights, 'success_type')\n",
    "\n",
    "mde_absolute=mde_estimated_absolute(ttl_users,var,0.05,0.2)\n",
    "MDE = mde_absolute / mean\n",
    "print(f\"{BOLD}Период - {'2 недели'}{END}\") \n",
    "print('MDE абсолютный:',round(mde_absolute,4))\n",
    "print('MDE относительный:',round(MDE,4))\n",
    "print('Среднияя конверсия в отписку за неделю:',round(mean,4))\n",
    "print('Дисперсия:',round(var,4)) \n",
    "print('Число пользователей в группе:',math.ceil(ttl_users))\n",
    "print(\"=\"*50)"
   ]
  },
  {
   "cell_type": "markdown",
   "id": "ce9c50d4-4d1a-45be-8b1f-ea98d2a88d99",
   "metadata": {},
   "source": [
    "# CUPED"
   ]
  },
  {
   "cell_type": "markdown",
   "id": "c4fa8b62-a49c-4b1b-ab95-1f659bc9a61e",
   "metadata": {},
   "source": [
    "# Симмуляция Монте-Карло АА-теста "
   ]
  },
  {
   "cell_type": "markdown",
   "id": "c76dc3aa-def8-45af-8d03-621b8b8fef5a",
   "metadata": {},
   "source": [
    "## Критерий  z-test "
   ]
  },
  {
   "cell_type": "code",
   "execution_count": 257,
   "id": "5c84b09f-09b3-4504-a19f-aecb317762ae",
   "metadata": {
    "tags": []
   },
   "outputs": [
    {
     "name": "stderr",
     "output_type": "stream",
     "text": [
      "100%|██████████| 1000/1000 [00:00<00:00, 1429.16it/s]\n",
      "100%|██████████| 1000/1000 [00:00<00:00, 1560.35it/s]\n"
     ]
    },
    {
     "name": "stdout",
     "output_type": "stream",
     "text": [
      "\n",
      "Эффект = 0\n",
      "Период - 2 недели дней\n",
      "Итераций с p_value < 0.05: 57\n",
      "Число пользователей всего: 4276\n",
      "\n",
      "Эффект = 0.082\n",
      "Период - 2 недели дней\n",
      "Итераций с p_value < 0.05: 785\n",
      "Число пользователей всего: 4276\n"
     ]
    },
    {
     "data": {
      "image/png": "[encoded data removed]",
      "text/plain": [
       "<Figure size 1500x800 with 1 Axes>"
      ]
     },
     "metadata": {},
     "output_type": "display_data"
    }
   ],
   "source": [
    "effects = [0, 0.082]\n",
    "\n",
    "# Хранение p-values для каждого значения эффекта\n",
    "pvalues_dict = {}\n",
    "\n",
    "for effect in effects:\n",
    "    ttl_users = math.ceil(df_subs_trial_wo_dubl['user_id'].nunique() / num_of_bucket)\n",
    "    pvalues_ttest = []\n",
    "\n",
    "        n_control = len(df_control)\n",
    "        n_pilot = len(df_pilot)\n",
    "\n",
    "        # Рассчитываем p-value через z-тест\n",
    "        _, p_value = proportions_ztest([success_control, success_pilot], [n_control, n_pilot])\n",
    "        pvalues_ttest.append(p_value)\n",
    "\n",
    "    pvalues_dict[effect] = pvalues_ttest  # Сохраняем p-values для текущего эффекта\n",
    "\n",
    "# Визуализация результатов\n",
    "plt.figure(figsize=(15, 8))\n",
    "X = np.linspace(0, 1, 1000)\n",
    "\n",
    "for effect, pvalues in pvalues_dict.items():\n",
    "    pvalues = np.array(pvalues)\n",
    "    Y = [np.mean(pvalues < x) for x in X]\n",
    "    plt.plot(X, Y, alpha=0.5, linewidth=3, label=f'effect = {effect}')\n",
    "    print()\n",
    "    print(f\"Эффект = {effect}\")\n",
    "    print(f\"Период - {'2 недели'} дней\")\n",
    "    print(f'Итераций с p_value < 0.05:', len([p for p in pvalues if p < 0.05]))\n",
    "    print(f'Число пользователей всего:', ttl_users * 2)\n",
    "\n",
    "plt.xlabel('p-value', size=14)\n",
    "x_values = [0.05]\n",
    "plt.vlines(x_values, ymin=0, ymax=1, linestyles='dotted', colors='gray')\n",
    "plt.axhline(y=0.8, color='gray', linestyle='dotted')\n",
    "plt.xlim([-0.05, 1])\n",
    "plt.ylabel('Probability', size=14)\n",
    "plt.plot([0, 1], [0, 1], 'k')\n",
    "plt.legend(loc=5)\n",
    "plt.show()"
   ]
  },
  {
   "cell_type": "markdown",
   "id": "11cb56c5-6a39-46ae-8670-c9a52d171d14",
   "metadata": {
    "tags": []
   },
   "source": [
    "## Критерий  t-test"
   ]
  },
  {
   "cell_type": "code",
   "execution_count": 259,
   "id": "e1696403-1e4a-42ac-8ddf-627359bd87ac",
   "metadata": {
    "tags": []
   },
   "outputs": [
    {
     "name": "stderr",
     "output_type": "stream",
     "text": [
      "100%|██████████| 1000/1000 [00:00<00:00, 1242.50it/s]\n",
      "100%|██████████| 1000/1000 [00:00<00:00, 1338.91it/s]\n"
     ]
    },
    {
     "name": "stdout",
     "output_type": "stream",
     "text": [
      "\n",
      "Эффект = 0\n",
      "Период - 2 недели\n",
      "Итераций с p_value < 0.05: 47\n",
      "Число пользователей всего: 4276\n",
      "\n",
      "Эффект = 0.082\n",
      "Период - 2 недели\n",
      "Итераций с p_value < 0.05: 778\n",
      "Число пользователей всего: 4276\n"
     ]
    },
    {
     "data": {
      "image/png": "[encoded data removed]",
      "text/plain": [
       "<Figure size 1500x800 with 1 Axes>"
      ]
     },
     "metadata": {},
     "output_type": "display_data"
    }
   ],
   "source": [
    "effects = [0, 0.082]\n",
    "\n",
    "# Хранение p-values для каждого значения эффекта\n",
    "pvalues_dict = {}\n",
    "\n",
    "\n",
    "for effect in effects:\n",
    "    ttl_users = math.ceil(df_subs_trial_wo_dubl['user_id'].nunique() / num_of_bucket)\n",
    "    pvalues_ttest = []\n",
    "    for i in tqdm(range(1000)):\n",
    "    \n",
    "        df_control = df_subs_trial_wo_dubl.sample(n=ttl_users, replace=True)\n",
    "        df_pilot = df_subs_trial_wo_dubl.sample(n=ttl_users, replace=True)\n",
    "        df_pilot = df_pilot['success_type'] * (1 + effect)\n",
    "\n",
    "        # Проведение t-теста\n",
    "        _,p_value = ttest_ind(df_control['success_type'], df_pilot)\n",
    "        pvalues_ttest.append(p_value)\n",
    "        \n",
    "    pvalues_dict[effect] = pvalues_ttest  # Сохраняем p-values для текущего эффекта\n",
    "        \n",
    "\n",
    "# Визуализация результатов\n",
    "plt.figure(figsize=(15, 8))\n",
    "X = np.linspace(0, 1, 1000)\n",
    "\n",
    "for effect, pvalues in pvalues_dict.items():\n",
    "    pvalues = np.array(pvalues)\n",
    "    Y = [np.mean(pvalues < x) for x in X]\n",
    "    plt.plot(X, Y, alpha=0.5, linewidth=3, label=f'effect = {effect}')\n",
    "    print()\n",
    "    print(f\"Эффект = {effect}\")\n",
    "    print(f\"Период - {'2 недели'}\")\n",
    "    print(f'Итераций с p_value < 0.05:', len([p for p in pvalues if p < 0.05]))\n",
    "    print(f'Число пользователей всего:', ttl_users * 2)\n",
    "\n",
    "plt.xlabel('p-value', size=14)\n",
    "x_values = [0.05]\n",
    "plt.vlines(x_values, ymin=0, ymax=1, linestyles='dotted', colors='gray')\n",
    "plt.axhline(y=0.8, color='gray', linestyle='dotted')\n",
    "plt.xlim([-0.05, 1])\n",
    "plt.ylabel('Probability', size=14)\n",
    "plt.plot([0, 1], [0, 1], 'k')\n",
    "plt.legend(loc=5)\n",
    "plt.show()\n"
   ]
  },
  {
   "cell_type": "markdown",
   "id": "af4fba05-6c62-4c13-8396-96d937f0b3c9",
   "metadata": {},
   "source": [
    "## t-тест с применением постстратификации"
   ]
  },
  {
   "cell_type": "code",
   "execution_count": 269,
   "id": "10130453-18e5-4b6b-ab3e-579e464ac147",
   "metadata": {
    "tags": []
   },
   "outputs": [
    {
     "name": "stderr",
     "output_type": "stream",
     "text": [
      "100%|██████████| 1000/1000 [00:04<00:00, 221.66it/s]\n",
      "100%|██████████| 1000/1000 [00:04<00:00, 237.60it/s]\n"
     ]
    },
    {
     "name": "stdout",
     "output_type": "stream",
     "text": [
      "\n",
      "\u001b[1mЭффект = 0\u001b[0m\n",
      "==================================================\n",
      "Период - 2 недели дней\n",
      "Итераций с p_value < 0.05: 61\n",
      "Число пользователей всего: 4276\n",
      "----------------------------------------------------------------------------------------------------\n",
      "Среднее значение выборочных дисперсий: 0.24951157782628966\n",
      "Среднее значение выборочных дисперсий с применением постратификации: 0.22394346714974053\n",
      "Среднее значение выборочных средних: 0.5218676333021515\n",
      "Среднее значение выборочных средних с применением постратификации: 0.5213180927618492\n",
      "\n",
      "\u001b[1mЭффект = 0.082\u001b[0m\n",
      "==================================================\n",
      "Период - 2 недели дней\n",
      "Итераций с p_value < 0.05: 764\n",
      "Число пользователей всего: 4276\n",
      "----------------------------------------------------------------------------------------------------\n",
      "Среднее значение выборочных дисперсий: 0.29208531855642744\n",
      "Среднее значение выборочных дисперсий с применением постратификации: 0.26227366104696176\n",
      "Среднее значение выборочных средних: 0.5654062357343311\n",
      "Среднее значение выборочных средних с применением постратификации: 0.5641050919464935\n"
     ]
    },
    {
     "data": {
      "image/png": "[encoded data removed]",
      "text/plain": [
       "<Figure size 1500x800 with 1 Axes>"
      ]
     },
     "metadata": {},
     "output_type": "display_data"
    }
   ],
   "source": [
    "effects = [0, 0.082]\n",
    "\n",
    "# Хранение результатов для каждого значения эффекта\n",
    "results_dict = {effect: {'pvalues_ttest': [], 'pvalues_ttest_strat': [],\n",
    "                         'var_initial': [], 'var_strat': [],\n",
    "                         'mean_initial': [], 'mean_strat': []} for effect in effects}\n",
    "\n",
    "\n",
    "ttl_users = math.ceil(df_subs_trial_wo_dubl['user_id'].nunique() / num_of_bucket)\n",
    "\n",
    "for effect in effects:\n",
    "    for _ in tqdm(range(1000)):\n",
    "        \n",
    "        # AA/AB тест без стратификации\n",
    "        df_control = df_subs_trial_wo_dubl.sample(n=ttl_users, replace=True)\n",
    "        df_pilot = df_subs_trial_wo_dubl.sample(n=ttl_users, replace=True)\n",
    "        df_pilot['success_type'] *= (1 + effect)\n",
    "        mean = df_pilot['success_type'].mean()\n",
    "        var = df_pilot['success_type'].var()\n",
    "        pvalue = ttest_ind(df_control['success_type'], df_pilot['success_type'])[1]\n",
    "\n",
    "        # AA/AB тест с постстратификацией\n",
    "        df_control = df_subs_trial_wo_dubl.sample(n=ttl_users, replace=True)\n",
    "        df_pilot = df_subs_trial_wo_dubl.sample(n=ttl_users, replace=True)\n",
    "        df_pilot['success_type'] *= (1 + effect)\n",
    "        \n",
    "        mean2 = calculate_stratified_mean(df_pilot, weights, 'success_type')\n",
    "        var2 = calculate_strat_var(df_pilot, weights, 'success_type')\n",
    "        pvalue_strat = check_stratified_test(df_control, df_pilot, weights, 'success_type')\n",
    "        \n",
    "        # Сохраняем результаты для текущего эффекта\n",
    "        results_dict[effect]['pvalues_ttest'].append(pvalue)\n",
    "        results_dict[effect]['pvalues_ttest_strat'].append(pvalue_strat)\n",
    "        results_dict[effect]['var_initial'].append(var)\n",
    "        results_dict[effect]['var_strat'].append(var2)\n",
    "        results_dict[effect]['mean_initial'].append(mean)\n",
    "        results_dict[effect]['mean_strat'].append(mean2)\n",
    "\n",
    "# Вывод и визуализация результатов\n",
    "plt.figure(figsize=(15, 8))\n",
    "X = np.linspace(0, 1, 1000)\n",
    "\n",
    "\n",
    "for effect in effects:\n",
    "    pvalues_ttest = np.array(results_dict[effect]['pvalues_ttest'])\n",
    "    pvalues_ttest_strat = np.array(results_dict[effect]['pvalues_ttest_strat'])\n",
    "    var_initial = np.mean(results_dict[effect]['var_initial'])\n",
    "    var_strat = np.mean(results_dict[effect]['var_strat'])\n",
    "    mean_initial = np.mean(results_dict[effect]['mean_initial'])\n",
    "    mean_strat = np.mean(results_dict[effect]['mean_strat'])\n",
    "    \n",
    "    # График для каждого эффекта\n",
    "    for pvalues, title in zip([pvalues_ttest, pvalues_ttest_strat],\n",
    "                              [f'ttest_initial (effect={effect})', f'ttest with strat (effect={effect})']):\n",
    "        Y = [np.mean(pvalues < x) for x in X]\n",
    "        plt.plot(X, Y, alpha=0.5, linewidth=3, label=title)\n",
    "    \n",
    "    print(f\"\\n{BOLD}Эффект = {effect}{END}\")\n",
    "    print('='*50)\n",
    "    print(f\"Период - {'2 недели'} дней\")\n",
    "    print(f'Итераций с p_value < 0.05:', len([p for p in pvalues_ttest if p < 0.05]))\n",
    "    print(f'Число пользователей всего:', ttl_users * 2)\n",
    "    print('--'*50)\n",
    "    print(\"Среднее значение выборочных дисперсий:\", var_initial)\n",
    "    print(\"Среднее значение выборочных дисперсий с применением постратификации:\", var_strat)  \n",
    "    print(\"Среднее значение выборочных средних:\", mean_initial)\n",
    "    print(\"Среднее значение выборочных средних с применением постратификации:\", mean_strat)\n",
    "\n",
    "plt.xlabel('p-value', size=14)\n",
    "x_values = [0.05]\n",
    "plt.vlines(x_values, ymin=0, ymax=1, linestyles='dotted', colors='gray')\n",
    "plt.axhline(y=0.8, color='gray', linestyle='dotted')\n",
    "plt.xlim([-0.05, 1])\n",
    "plt.ylabel('Probability', size=14)\n",
    "plt.plot([0, 1], [0, 1], 'k')\n",
    "plt.legend(loc=5)\n",
    "plt.show()\n"
   ]
  },
  {
   "cell_type": "code",
   "execution_count": 271,
   "id": "83066ce2-d63c-4eb8-ac51-2242d7b0806d",
   "metadata": {
    "tags": []
   },
   "outputs": [],
   "source": [
    "def zip_(list_1,list_2):\n",
    "    list_3 = []\n",
    "    if len(list_1)>=len(list_2):\n",
    "        for i in range(len(list_2)):\n",
    "            pair_tuple = (list_1[i],list_2[i])\n",
    "            list_3.append(pair_tuple)\n",
    "    else:\n",
    "        for i in range(len(list_1)):\n",
    "            pair_tuple = (list_1[i],list_2[i])\n",
    "            list_3.append(pair_tuple)\n",
    "    return list_3\n",
    "    "
   ]
  },
  {
   "cell_type": "code",
   "execution_count": 273,
   "id": "57bb1c0a-064a-4def-b402-5218f8528c92",
   "metadata": {
    "tags": []
   },
   "outputs": [
    {
     "data": {
      "text/plain": [
       "[(1, 1), (5, 5), (3, 9), (8, 10), (35, 40)]"
      ]
     },
     "execution_count": 273,
     "metadata": {},
     "output_type": "execute_result"
    }
   ],
   "source": [
    "list_1 = [1, 5, 3, 8, 35]\n",
    "list_2 = [1, 5, 9, 10, 40, 1, 40]\n",
    "zip_(list_1,list_2)"
   ]
  },
  {
   "cell_type": "code",
   "execution_count": 275,
   "id": "3df9a582-d489-4831-8ed7-9a28e0ecef6c",
   "metadata": {
    "tags": []
   },
   "outputs": [
    {
     "data": {
      "text/plain": [
       "[(1, 1), (5, 5), (3, 9), (8, 10), (35, 40)]"
      ]
     },
     "execution_count": 275,
     "metadata": {},
     "output_type": "execute_result"
    }
   ],
   "source": [
    "list_3 = []\n",
    "for i in zip(list_1, list_2):\n",
    "    list_3.append(i)\n",
    "list_3\n",
    "    "
   ]
  },
  {
   "cell_type": "code",
   "execution_count": 277,
   "id": "a1c926a1-937c-4aa9-aa53-12956aabe557",
   "metadata": {
    "tags": []
   },
   "outputs": [
    {
     "name": "stdout",
     "output_type": "stream",
     "text": [
      "1276.28\n",
      "1377.01\n"
     ]
    }
   ],
   "source": [
    "def final_balance(init_sum, interest_rate, years, round_num=2):\n",
    "    return round(init_sum * ((100 + interest_rate)/100) ** years, round_num)\n",
    "\n",
    "print(final_balance(init_sum = 1000, interest_rate=5, years=5))\n",
    "print(final_balance(init_sum = 700, interest_rate=7, years=10))"
   ]
  },
  {
   "cell_type": "code",
   "execution_count": 279,
   "id": "71c3db5b-5732-4911-bfa4-2ded33d8ec3a",
   "metadata": {
    "tags": []
   },
   "outputs": [
    {
     "name": "stdout",
     "output_type": "stream",
     "text": [
      "1109.7\n",
      "1382.19\n"
     ]
    }
   ],
   "source": [
    "def final_balance(init_sum, interest_rate, months, round_num=2):  \n",
    "    # Преобразование годовой процентной ставки в месячную  \n",
    "    monthly_rate = interest_rate / 12  \n",
    "    # Расчет конечного баланса за указанный период в месяцах  \n",
    "    return round(init_sum * ((1 + monthly_rate)) ** months, round_num)  \n",
    "\n",
    "# Примеры использования функции  \n",
    "print(final_balance(init_sum=1000, interest_rate=0.21, months=6))  # 5 лет = 60 месяцев  \n",
    "print(final_balance(init_sum=700, interest_rate=0.7, months=12))  # 10 лет = 120 месяцев"
   ]
  },
  {
   "cell_type": "code",
   "execution_count": 281,
   "id": "a72707d2-df81-48d2-97c9-697062e6ee64",
   "metadata": {
    "tags": []
   },
   "outputs": [
    {
     "name": "stdout",
     "output_type": "stream",
     "text": [
      "###\n",
      "[1, 8, 27, 64]\n",
      "###\n",
      "###\n",
      "[1, 1, 6, 1]\n",
      "###\n",
      "###\n",
      "[2, 3, 9, 5]\n",
      "###\n",
      "[2, 3, 9, 5]\n"
     ]
    }
   ],
   "source": [
    "def math_task(data):  \n",
    "    answer = []  \n",
    "    # возводим в третью степень  \n",
    "    for elem in data:  \n",
    "        answer.append(elem ** 3)  # Исправлено возведение в куб  \n",
    "    print(\"###\")  \n",
    "    print(answer)  \n",
    "    print(\"###\")  \n",
    "\n",
    "    # берем остаток от деления на 7  \n",
    "    for i in range(len(answer)):  \n",
    "        answer[i] = answer[i] % 7  # Исправлено на деление на 7  \n",
    "    print(\"###\")  \n",
    "    print(answer)  \n",
    "    print(\"###\")  \n",
    "\n",
    "    # прибавляем к остатку изначальный массив  \n",
    "    for i in range(len(answer)):  \n",
    "        answer[i] = answer[i] + data[i]  \n",
    "    print(\"###\")  \n",
    "    print(answer)  \n",
    "    print(\"###\")  \n",
    "\n",
    "    # возвращаем результат  \n",
    "    return answer  \n",
    "\n",
    "# Пример данных для тестирования  \n",
    "test_data = [1, 2, 3, 4]  # Замените это на данные, которые будут выполнять проверку  \n",
    "result = math_task(test_data)  \n",
    "print(result)  # Печать финального результата"
   ]
  },
  {
   "cell_type": "code",
   "execution_count": 283,
   "id": "2d0fe0d7-459f-4d78-9dee-c509af10b3c6",
   "metadata": {
    "tags": []
   },
   "outputs": [
    {
     "name": "stdout",
     "output_type": "stream",
     "text": [
      "Все хорошо\n"
     ]
    },
    {
     "ename": "RuntimeError",
     "evalue": "Ошибка, после обращения дважды не получается исходный массив!",
     "output_type": "error",
     "traceback": [
      "\u001b[0;31m---------------------------------------------------------------------------\u001b[0m",
      "\u001b[0;31mRuntimeError\u001b[0m                              Traceback (most recent call last)",
      "Cell \u001b[0;32mIn[283], line 16\u001b[0m\n\u001b[1;32m     14\u001b[0m     \u001b[38;5;28mprint\u001b[39m(\u001b[38;5;124m\"\u001b[39m\u001b[38;5;124mВсе хорошо\u001b[39m\u001b[38;5;124m\"\u001b[39m)\n\u001b[1;32m     15\u001b[0m \u001b[38;5;28;01melse\u001b[39;00m:\n\u001b[0;32m---> 16\u001b[0m     \u001b[38;5;28;01mraise\u001b[39;00m \u001b[38;5;167;01mRuntimeError\u001b[39;00m(\u001b[38;5;124m\"\u001b[39m\u001b[38;5;124mОшибка, после обращения дважды не получается исходный массив!\u001b[39m\u001b[38;5;124m\"\u001b[39m)\n",
      "\u001b[0;31mRuntimeError\u001b[0m: Ошибка, после обращения дважды не получается исходный массив!"
     ]
    }
   ],
   "source": [
    "def reversed_(array):\n",
    "    rv = []\n",
    "    while array:\n",
    "        rv.append(array.pop())\n",
    "    return rv\n",
    "\n",
    "if reversed_(reversed_([1, 2, 3])) == [1, 2, 3]:\n",
    "    print(\"Все хорошо\")\n",
    "else:\n",
    "    raise RuntimeError(\"Ошибка, после обращения дважды не получается исходный массив!\")\n",
    "    \n",
    "arr = [1, 2, 3]\n",
    "if reversed_(reversed_(arr)) == arr:\n",
    "    print(\"Все хорошо\")\n",
    "else:\n",
    "    raise RuntimeError(\"Ошибка, после обращения дважды не получается исходный массив!\")"
   ]
  },
  {
   "cell_type": "code",
   "execution_count": 285,
   "id": "58355d8a-04e0-43d9-93a8-8092f00b733b",
   "metadata": {
    "tags": []
   },
   "outputs": [
    {
     "ename": "RuntimeError",
     "evalue": "Ошибка, после обращения дважды не получается исходный массив!",
     "output_type": "error",
     "traceback": [
      "\u001b[0;31m---------------------------------------------------------------------------\u001b[0m",
      "\u001b[0;31mRuntimeError\u001b[0m                              Traceback (most recent call last)",
      "Cell \u001b[0;32mIn[285], line 5\u001b[0m\n\u001b[1;32m      3\u001b[0m     \u001b[38;5;28mprint\u001b[39m(\u001b[38;5;124m\"\u001b[39m\u001b[38;5;124mВсе хорошо\u001b[39m\u001b[38;5;124m\"\u001b[39m)\n\u001b[1;32m      4\u001b[0m \u001b[38;5;28;01melse\u001b[39;00m:\n\u001b[0;32m----> 5\u001b[0m     \u001b[38;5;28;01mraise\u001b[39;00m \u001b[38;5;167;01mRuntimeError\u001b[39;00m(\u001b[38;5;124m\"\u001b[39m\u001b[38;5;124mОшибка, после обращения дважды не получается исходный массив!\u001b[39m\u001b[38;5;124m\"\u001b[39m)\n",
      "\u001b[0;31mRuntimeError\u001b[0m: Ошибка, после обращения дважды не получается исходный массив!"
     ]
    }
   ],
   "source": [
    "arr = [1, 2, 3]\n",
    "if reversed_(reversed_(arr)) == arr:\n",
    "    print(\"Все хорошо\")\n",
    "else:\n",
    "    raise RuntimeError(\"Ошибка, после обращения дважды не получается исходный массив!\")"
   ]
  },
  {
   "cell_type": "code",
   "execution_count": 287,
   "id": "3a8ee582-b2ff-4a84-8fbd-34b1d83aaac8",
   "metadata": {
    "tags": []
   },
   "outputs": [],
   "source": [
    "def reversed_(array):  \n",
    "    rv = []  \n",
    "    for item in array:  \n",
    "        rv.insert(item)  # Вставляем элемент в начало нового списка  \n",
    "    return rv  "
   ]
  },
  {
   "cell_type": "code",
   "execution_count": 289,
   "id": "50b9dc8f-8297-4c41-a660-80409b992619",
   "metadata": {
    "tags": []
   },
   "outputs": [
    {
     "name": "stdout",
     "output_type": "stream",
     "text": [
      "{1: 2, 2: 2, 3: 2, 4: 1, 10: 2, 100: 4}\n"
     ]
    }
   ],
   "source": [
    "list = [1,2,3,4,3,1,10,100,10,100,100,100,2]\n",
    "d = {}\n",
    "for i in list:\n",
    "    if i in d:\n",
    "        d[i]+=1\n",
    "    else:\n",
    "        d[i]=1\n",
    "print(d)"
   ]
  },
  {
   "cell_type": "code",
   "execution_count": 291,
   "id": "4eacb496-b2e0-43f8-8998-71b525670415",
   "metadata": {
    "tags": []
   },
   "outputs": [
    {
     "data": {
      "text/plain": [
       "Counter({100: 4, 1: 2, 2: 2, 3: 2, 10: 2, 4: 1})"
      ]
     },
     "execution_count": 291,
     "metadata": {},
     "output_type": "execute_result"
    }
   ],
   "source": [
    "from collections import Counter\n",
    "\n",
    "Counter(list)"
   ]
  },
  {
   "cell_type": "code",
   "execution_count": null,
   "id": "e569bf19-bdee-41ba-b20e-8510bc48bb24",
   "metadata": {},
   "outputs": [],
   "source": []
  }
 ],
 "metadata": {
  "kernelspec": {
   "display_name": "Python 3 (ipykernel)",
   "language": "python",
   "name": "python3"
  },
  "language_info": {
   "codemirror_mode": {
    "name": "ipython",
    "version": 3
   },
   "file_extension": ".py",
   "mimetype": "text/x-python",
   "name": "python",
   "nbconvert_exporter": "python",
   "pygments_lexer": "ipython3",
   "version": "3.11.7"
  },
  "toc-autonumbering": false
 },
 "nbformat": 4,
 "nbformat_minor": 5
}
