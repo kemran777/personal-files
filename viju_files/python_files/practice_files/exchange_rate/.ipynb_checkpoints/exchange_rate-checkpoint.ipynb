{
 "cells": [
  {
   "cell_type": "code",
   "execution_count": 5,
   "id": "6c1026c9-883a-4cb7-9f31-7733f158c33e",
   "metadata": {
    "tags": []
   },
   "outputs": [],
   "source": [
    "import pandas as pd\n",
    "import psycopg2\n",
    "import matplotlib.pyplot as plt\n",
    "import matplotlib.ticker as ticker\n",
    "import numpy as np\n",
    "import seaborn as sns \n",
    "import statsmodels.stats.proportion as proportion\n",
    "from scipy.stats import ttest_ind,mannwhitneyu,shapiro,norm\n",
    "from statsmodels.stats.weightstats import ztest\n",
    "from tqdm import tqdm\n",
    "import timeit\n",
    "from scipy import stats\n",
    "import math\n",
    "from datetime import date, datetime, timedelta\n",
    "import time\n",
    "from sqlalchemy import create_engine, text\n",
    "from sqlalchemy.orm import sessionmaker\n",
    "import clickhouse_connect  "
   ]
  },
  {
   "cell_type": "code",
   "execution_count": 7,
   "id": "3500a90b-1a1a-449a-82f8-0e563ba2fa42",
   "metadata": {
    "tags": []
   },
   "outputs": [],
   "source": [
    "import gspread\n",
    "from gspread_dataframe import get_as_dataframe\n",
    "from google.oauth2.service_account import Credentials\n",
    "import requests\n",
    "import xml.etree.ElementTree as ET\n",
    "from oauth2client.service_account import ServiceAccountCredentials"
   ]
  },
  {
   "cell_type": "markdown",
   "id": "eb2241f6-afc6-4348-992a-d8a94ee7760b",
   "metadata": {},
   "source": [
    "# Код для прогрузки диапазона дат"
   ]
  },
  {
   "cell_type": "code",
   "execution_count": 10,
   "id": "52df9b0a-eb3e-49c1-b97c-acbab84c2a98",
   "metadata": {
    "tags": []
   },
   "outputs": [
    {
     "name": "stdout",
     "output_type": "stream",
     "text": [
      "Курс JPY на 01/01/2025: 0.643746\n",
      "Курс успешно записан в Google Sheets.\n",
      "Курс JPY на 02/01/2025: 0.643746\n",
      "Курс успешно записан в Google Sheets.\n",
      "Курс JPY на 03/01/2025: 0.643746\n",
      "Курс успешно записан в Google Sheets.\n",
      "Курс JPY на 04/01/2025: 0.643746\n",
      "Курс успешно записан в Google Sheets.\n",
      "Курс JPY на 05/01/2025: 0.643746\n",
      "Курс успешно записан в Google Sheets.\n",
      "Курс JPY на 06/01/2025: 0.643746\n",
      "Курс успешно записан в Google Sheets.\n",
      "Курс JPY на 07/01/2025: 0.643746\n",
      "Курс успешно записан в Google Sheets.\n",
      "Курс JPY на 08/01/2025: 0.643746\n",
      "Курс успешно записан в Google Sheets.\n",
      "Курс JPY на 09/01/2025: 0.643746\n",
      "Курс успешно записан в Google Sheets.\n",
      "Курс JPY на 10/01/2025: 0.646063\n",
      "Курс успешно записан в Google Sheets.\n",
      "Курс JPY на 11/01/2025: 0.6434000000000001\n",
      "Курс успешно записан в Google Sheets.\n",
      "Курс JPY на 12/01/2025: 0.6434000000000001\n",
      "Курс успешно записан в Google Sheets.\n",
      "Курс JPY на 13/01/2025: 0.6434000000000001\n",
      "Курс успешно записан в Google Sheets.\n",
      "Курс JPY на 14/01/2025: 0.6484099999999999\n",
      "Курс успешно записан в Google Sheets.\n",
      "Курс JPY на 15/01/2025: 0.6565819999999999\n",
      "Курс успешно записан в Google Sheets.\n",
      "Курс JPY на 16/01/2025: 0.650518\n",
      "Курс успешно записан в Google Sheets.\n",
      "Курс JPY на 17/01/2025: 0.654747\n",
      "Курс успешно записан в Google Sheets.\n",
      "Курс JPY на 18/01/2025: 0.660095\n",
      "Курс успешно записан в Google Sheets.\n",
      "Курс JPY на 19/01/2025: 0.660095\n",
      "Курс успешно записан в Google Sheets.\n",
      "Курс JPY на 20/01/2025: 0.660095\n",
      "Курс успешно записан в Google Sheets.\n",
      "Курс JPY на 21/01/2025: 0.6533669999999999\n",
      "Курс успешно записан в Google Sheets.\n",
      "Курс JPY на 22/01/2025: 0.64036\n",
      "Курс успешно записан в Google Sheets.\n",
      "Курс JPY на 23/01/2025: 0.632028\n",
      "Курс успешно записан в Google Sheets.\n"
     ]
    }
   ],
   "source": [
    "# Функция для получения курса йены  \n",
    "def get_jpy_rate(date):  \n",
    "    formatted_date = date.strftime(\"%d/%m/%Y\")  \n",
    "    url = f\"https://www.cbr.ru/scripts/XML_daily.asp?date_req={formatted_date}\"  \n",
    "    response = requests.get(url)  \n",
    "    response.raise_for_status()  \n",
    "    \n",
    "    tree = ET.fromstring(response.content)  \n",
    "    for currency in tree.findall('Valute'):  \n",
    "        char_code = currency.find('CharCode').text  \n",
    "        if char_code == \"JPY\":  \n",
    "            rate = currency.find('Value').text   \n",
    "            return float(rate.replace(',', '.')) / 100  # Преобразуем строку в число с плавающей запятой  \n",
    "    return None  # Если курс не найден, возвращаем None  \n",
    "\n",
    "def write_to_google_sheets(sheet_name, date, value):\n",
    "    # Авторизация Google Sheets API\n",
    "    scope = [\"https://spreadsheets.google.com/feeds\", \"https://www.googleapis.com/auth/drive\"]\n",
    "    creds = ServiceAccountCredentials.from_json_keyfile_name(\"exchange-rate.json\", scope)\n",
    "    client = gspread.authorize(creds)\n",
    "\n",
    "    # Открытие нужного Google Sheets файла\n",
    "    spreadsheet = client.open(sheet_name)\n",
    "    \n",
    "    # Открытие листа по имени 'exchange_rate'\n",
    "    sheet = spreadsheet.worksheet(\"exchange_rate\")\n",
    "    \n",
    "    # Преобразование даты в формат 'YYYY-MM-DD'\n",
    "    formatted_date = date.strftime(\"%Y-%m-%d\")\n",
    "    sheet.append_row([formatted_date, value], value_input_option=\"USER_ENTERED\")\n",
    "\n",
    "\n",
    "# Основной блок  \n",
    "if __name__ == \"__main__\":  \n",
    "    try:  \n",
    "        start_date = datetime(2025, 1, 1)  # Начальная дата  \n",
    "        end_date = datetime.now()  # Текущая дата  \n",
    "\n",
    "        # Проходим по датам от 01/01/2025 до текущей даты  \n",
    "        current_date = start_date  \n",
    "        while current_date <= end_date:  \n",
    "            jpy_rate = get_jpy_rate(current_date)  \n",
    "            if jpy_rate is not None:  \n",
    "                print(f\"Курс JPY на {current_date.strftime('%d/%m/%Y')}: {jpy_rate}\")  \n",
    "                write_to_google_sheets(\"Japan_trip\", current_date, jpy_rate)  \n",
    "                print(\"Курс успешно записан в Google Sheets.\")  \n",
    "            else:  \n",
    "                print(f\"Курс JPY на {current_date.strftime('%d/%m/%Y')} не найден.\")  \n",
    "            current_date += timedelta(days=1)  # Переход к следующему дню  \n",
    "\n",
    "    except Exception as e:  \n",
    "        print(f\"Ошибка: {e}\")"
   ]
  },
  {
   "cell_type": "markdown",
   "id": "bdb98ceb-cd64-4496-bec2-b8c055c7792a",
   "metadata": {},
   "source": [
    "# Код для прогрузки текущей даты "
   ]
  },
  {
   "cell_type": "code",
   "execution_count": 15,
   "id": "9df88e64-7de9-4174-ad7f-e76891576f76",
   "metadata": {
    "tags": []
   },
   "outputs": [
    {
     "name": "stdout",
     "output_type": "stream",
     "text": [
      "Курс JPY на 20/01/2025: 0.660095\n",
      "Курс успешно записан в Google Sheets.\n"
     ]
    }
   ],
   "source": [
    "# Функция для получения курса йены  \n",
    "def get_jpy_rate(date):  \n",
    "    formatted_date = date.strftime(\"%d/%m/%Y\")  \n",
    "    url = f\"https://www.cbr.ru/scripts/XML_daily.asp?date_req={formatted_date}\"  \n",
    "    response = requests.get(url)  \n",
    "    response.raise_for_status()  \n",
    "    \n",
    "    # Разбор XML  \n",
    "    tree = ET.fromstring(response.content)  \n",
    "    for currency in tree.findall('Valute'):  \n",
    "        char_code = currency.find('CharCode').text  \n",
    "        if char_code == \"JPY\":  \n",
    "            rate = currency.find('Value').text   \n",
    "            return float(rate.replace(',', '.')) / 100  # Преобразуем строку в число с плавающей запятой  \n",
    "    return None  # Если курс не найден, возвращаем None  \n",
    "\n",
    "def write_to_google_sheets(sheet_name, date, value):  \n",
    "    # Авторизация Google Sheets API  \n",
    "    scope = [\"https://spreadsheets.google.com/feeds\", \"https://www.googleapis.com/auth/drive\"]  \n",
    "    creds = ServiceAccountCredentials.from_json_keyfile_name(\"/Users/kemran/Desktop/work_files/python_files/practice_files/exchange_rate/exchange-rate.json\", scope)  \n",
    "    client = gspread.authorize(creds)  \n",
    "\n",
    "    # Открытие нужного Google Sheets файла  \n",
    "    spreadsheet = client.open(sheet_name)  \n",
    "    \n",
    "    # Открытие листа по имени 'exchange_rate'  \n",
    "    sheet = spreadsheet.worksheet(\"exchange_rate\")  \n",
    "    \n",
    "    # Преобразование даты в формат 'YYYY-MM-DD'  \n",
    "    formatted_date = date.strftime(\"%Y-%m-%d\")  \n",
    "    sheet.append_row([formatted_date, value], value_input_option=\"USER_ENTERED\")  \n",
    "\n",
    "# Основной блок  \n",
    "if __name__ == \"__main__\":  \n",
    "    try:  \n",
    "        today = datetime.now()  # Сегодняшняя дата  \n",
    "        jpy_rate = get_jpy_rate(today)  # Получение курса JPY  \n",
    "        \n",
    "        if jpy_rate is not None:  \n",
    "            print(f\"Курс JPY на {today.strftime('%d/%m/%Y')}: {jpy_rate}\")  \n",
    "            write_to_google_sheets(\"Japan_trip\", today, jpy_rate)  \n",
    "            print(\"Курс успешно записан в Google Sheets.\")  \n",
    "        else:  \n",
    "            print(f\"Курс JPY на {today.strftime('%d/%m/%Y')} не найден.\")  \n",
    "\n",
    "    except Exception as e:  \n",
    "        print(f\"Ошибка: {e}\")\n"
   ]
  },
  {
   "cell_type": "code",
   "execution_count": null,
   "id": "89022f6e-d991-4bab-9ceb-69ea0f00366f",
   "metadata": {},
   "outputs": [],
   "source": [
    "!which python"
   ]
  },
  {
   "cell_type": "code",
   "execution_count": 11,
   "id": "23971e97-5bcb-4ebd-a907-781e5eb80325",
   "metadata": {
    "tags": []
   },
   "outputs": [
    {
     "data": {
      "text/plain": [
       "'/Users/kemran/Desktop/work_files/python_files/practice_files/exchange_rate'"
      ]
     },
     "execution_count": 11,
     "metadata": {},
     "output_type": "execute_result"
    }
   ],
   "source": [
    "pwd"
   ]
  },
  {
   "cell_type": "code",
   "execution_count": null,
   "id": "41ca2ab6-2bc5-4cfc-b6b0-41da1ac93c25",
   "metadata": {},
   "outputs": [],
   "source": []
  }
 ],
 "metadata": {
  "kernelspec": {
   "display_name": "Python 3 (ipykernel)",
   "language": "python",
   "name": "python3"
  },
  "language_info": {
   "codemirror_mode": {
    "name": "ipython",
    "version": 3
   },
   "file_extension": ".py",
   "mimetype": "text/x-python",
   "name": "python",
   "nbconvert_exporter": "python",
   "pygments_lexer": "ipython3",
   "version": "3.11.7"
  }
 },
 "nbformat": 4,
 "nbformat_minor": 5
}
