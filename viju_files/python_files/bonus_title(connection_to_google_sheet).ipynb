{
 "cells": [
  {
   "cell_type": "code",
   "execution_count": 19,
   "id": "a3c86203-6ef9-4f71-a77d-dca314d3c4af",
   "metadata": {
    "tags": []
   },
   "outputs": [],
   "source": [
    "import pandas as pd\n",
    "import psycopg2\n",
    "import matplotlib.pyplot as plt\n",
    "import matplotlib.ticker as ticker\n",
    "import numpy as np\n",
    "import seaborn as sns \n",
    "import statsmodels.stats.proportion as proportion\n",
    "from scipy.stats import ttest_ind,mannwhitneyu,shapiro,norm\n",
    "from statsmodels.stats.weightstats import ztest\n",
    "from tqdm import tqdm\n",
    "import timeit\n",
    "from scipy import stats\n",
    "import math\n",
    "from datetime import date, datetime, timedelta\n",
    "import time\n",
    "from sqlalchemy import create_engine, text\n",
    "from sqlalchemy.orm import sessionmaker\n",
    "import warnings\n",
    "warnings.filterwarnings(\"ignore\")\n",
    "import clickhouse_connect  \n",
    "\n",
    "from credential import postgres_secret,clickhouse_dwh_secret\n",
    "\n",
    "def get_engine(user):\n",
    "    if user == postgres_secret['user']:\n",
    "        db_name = postgres_secret['db_name']\n",
    "        password = postgres_secret['password']\n",
    "        host = postgres_secret['host']\n",
    "        engine = create_engine(f'postgresql://{user}:{password}@{host}:6432/{db_name}')\n",
    "    elif user == clickhouse_dwh_secret['user']:\n",
    "            db_name = clickhouse_dwh_secret['db_name'] \n",
    "            password = clickhouse_dwh_secret['password']\n",
    "            host = clickhouse_dwh_secret['host']\n",
    "            engine = create_engine(f'clickhouse://{user}:{password}@{host}:8123/{db_name}')\n",
    "    return engine\n",
    "    \n",
    "connection_clickhouse = clickhouse_connect.get_client(\n",
    "    host = clickhouse_dwh_secret['host'],\n",
    "    port= '8123',\n",
    "    username = clickhouse_dwh_secret['user'],\n",
    "    password = clickhouse_dwh_secret['password'],\n",
    "    database='sandbox'\n",
    "    )\n",
    "\n",
    "    \n",
    "def execute(SQL, user):\n",
    "    start_time = time.time()  # запоминаем время начала выполнения функции\n",
    "    engine = get_engine(user)\n",
    "    Session = sessionmaker(bind=engine)  # sessions factory ()\n",
    "    with Session() as session: # open session\n",
    "        result = session.execute(text(SQL))\n",
    "        df = pd.DataFrame(result.fetchall(), columns=result.keys())\n",
    "        \n",
    "    end_time = time.time()  # запоминаем время окончания выполнения функции\n",
    "    execution_time = round(end_time - start_time,4) # вычисляем время выполнения   \n",
    "    \n",
    "    print(f\"Время выполнения функции: {execution_time} секунд\")\n",
    "    print()\n",
    "    return df"
   ]
  },
  {
   "cell_type": "code",
   "execution_count": 21,
   "id": "d97218f9-2740-46fa-b258-e73b8c56b080",
   "metadata": {
    "tags": []
   },
   "outputs": [],
   "source": [
    "import gspread\n",
    "from gspread_dataframe import get_as_dataframe\n",
    "from google.oauth2.service_account import Credentials"
   ]
  },
  {
   "cell_type": "code",
   "execution_count": 23,
   "id": "26d076ca-0350-4aec-8f46-acd38e73296f",
   "metadata": {
    "tags": []
   },
   "outputs": [
    {
     "data": {
      "text/plain": [
       "'/Users/kemran/Desktop/work_files/python_files'"
      ]
     },
     "execution_count": 23,
     "metadata": {},
     "output_type": "execute_result"
    }
   ],
   "source": [
    "pwd"
   ]
  },
  {
   "cell_type": "markdown",
   "id": "7ccfae69-ae65-4e21-bdc8-3662a1c6a5d1",
   "metadata": {
    "tags": []
   },
   "source": [
    "# Шаг 1: Настройка доступа к Google Sheets API\n",
    "\n",
    "Для работы с Google Sheets через `pandas` нужно создать **сервисный аккаунт** и получить файл с учётными данными, которые позволят Python-скрипту взаимодействовать с вашим Google Sheets. Следуйте этим шагам:\n",
    "\n",
    "### 1.1 Создайте проект в Google Cloud Console\n",
    "\n",
    "1. Перейдите в [Google Cloud Console](https://console.developers.google.com/).\n",
    "2. Если у вас уже есть проект, можно использовать его. Если нет, нажмите **Select a project** в верхнем меню и выберите **New Project** (Новый проект).\n",
    "3. Дайте проекту имя, выберите местоположение, и нажмите **Create** (Создать).\n",
    "\n",
    "### 1.2 Включите Google Sheets API для проекта\n",
    "\n",
    "1. В левом меню перейдите в **Library** (Библиотека).\n",
    "2. В строке поиска введите **Google Sheets API** и выберите его из списка.\n",
    "3. Нажмите **Enable** (Включить) для активации API.\n",
    "\n",
    "### 1.3 Создайте сервисный аккаунт\n",
    "\n",
    "1. В меню слева выберите **APIs & Services** → **Credentials** (Учётные данные).\n",
    "2. Нажмите **Create Credentials** (Создать учётные данные) и выберите **Service Account** (Сервисный аккаунт).\n",
    "3. Укажите имя аккаунта и описание, затем нажмите **Create and Continue** (Создать и продолжить).\n",
    "4. На следующем шаге настройте права доступа. В большинстве случаев их можно оставить по умолчанию и нажать **Done**.\n",
    "\n",
    "После создания сервисного аккаунта вы увидите его в списке на странице Credentials.\n",
    "\n",
    "### 1.4 Скачайте JSON-файл с учётными данными\n",
    "\n",
    "1. Найдите созданный сервисный аккаунт в списке, нажмите на его название.\n",
    "2. Перейдите на вкладку **Keys** (Ключи) и выберите **Add Key** (Добавить ключ) → **Create New Key** (Создать новый ключ).\n",
    "3. Выберите **JSON** и нажмите **Create** (Создать). Файл будет автоматически загружен на ваш компьютер. Этот JSON-файл будет использоваться в вашем Python-скрипте для аутентификации.\n",
    "\n",
    "### 1.5 Настройте доступ к вашему Google Sheets документу\n",
    "\n",
    "1. Откройте Google Sheets, с которым вы хотите работать.\n",
    "2. Нажмите **Share** (Поделиться) в правом верхнем углу.\n",
    "3. Вставьте email адрес сервисного аккаунта (он указан в JSON-файле, который вы скачали, и имеет вид `your-service-account@your-project-id.iam.gserviceaccount.com`) и дайте доступ **Editor** (Редактор).\n",
    "4. Нажмите **Send** (Отправить).\n",
    "\n",
    "Теперь у вашего сервисного аккаунта есть доступ к этому документу, и Python-скрипт сможет его открывать и редактировать.\n"
   ]
  },
  {
   "cell_type": "code",
   "execution_count": 11,
   "id": "e4e3e974-a9ce-42f4-b8b3-943310fb221f",
   "metadata": {
    "tags": []
   },
   "outputs": [],
   "source": [
    "# Укажите путь к вашему JSON-файлу с учётными данными\n",
    "credentials_path = '../python_files/product-analytics-96609-bd42b7d7f66a.json'\n",
    "scope = [\"https://www.googleapis.com/auth/spreadsheets\"]\n",
    "\n",
    "# Создание аутентификации\n",
    "credentials = Credentials.from_service_account_file(credentials_path, scopes=scope)\n",
    "gc = gspread.authorize(credentials)\n",
    "\n",
    "# Откройте Google Sheet по URL или по его ID\n",
    "spreadsheet_url = \"https://https://docs.google.com/spreadsheets/d/1AvO-X0sK34o-WizFlqD-xhBdrTz7PwMT2XW9dQmpoOU/edit?gid=0#gid=0\"\n",
    "spreadsheet = gc.open_by_url(spreadsheet_url)\n",
    "\n",
    "# Откройте конкретный лист по имени\n",
    "worksheet = spreadsheet.worksheet(\"Лист1\")\n",
    "\n",
    "# Импортируйте данные из листа в DataFrame\n",
    "df = get_as_dataframe(worksheet)"
   ]
  },
  {
   "cell_type": "code",
   "execution_count": 12,
   "id": "3fc1f094-fb4c-430f-8ff1-60805c188c49",
   "metadata": {
    "tags": []
   },
   "outputs": [
    {
     "data": {
      "text/html": [
       "<div>\n",
       "<style scoped>\n",
       "    .dataframe tbody tr th:only-of-type {\n",
       "        vertical-align: middle;\n",
       "    }\n",
       "\n",
       "    .dataframe tbody tr th {\n",
       "        vertical-align: top;\n",
       "    }\n",
       "\n",
       "    .dataframe thead th {\n",
       "        text-align: right;\n",
       "    }\n",
       "</style>\n",
       "<table border=\"1\" class=\"dataframe\">\n",
       "  <thead>\n",
       "    <tr style=\"text-align: right;\">\n",
       "      <th></th>\n",
       "      <th>bonus_title_old</th>\n",
       "      <th>bonus_title_new</th>\n",
       "    </tr>\n",
       "  </thead>\n",
       "  <tbody>\n",
       "    <tr>\n",
       "      <th>0</th>\n",
       "      <td>14 дней за 1 рубль.  Промостраницы</td>\n",
       "      <td>Яндекс. Промостраницы</td>\n",
       "    </tr>\n",
       "    <tr>\n",
       "      <th>1</th>\n",
       "      <td>35ZA1 Кампания \"Хватит\"</td>\n",
       "      <td>Реклама. Все источники</td>\n",
       "    </tr>\n",
       "    <tr>\n",
       "      <th>2</th>\n",
       "      <td>45DAYS-уникальные (2)</td>\n",
       "      <td>EMAIL</td>\n",
       "    </tr>\n",
       "    <tr>\n",
       "      <th>3</th>\n",
       "      <td>Bloggers JUNE Mediacube 2024</td>\n",
       "      <td>Bloggers</td>\n",
       "    </tr>\n",
       "    <tr>\n",
       "      <th>4</th>\n",
       "      <td>C2H5OH</td>\n",
       "      <td>Промокод для \"своих\"</td>\n",
       "    </tr>\n",
       "    <tr>\n",
       "      <th>...</th>\n",
       "      <td>...</td>\n",
       "      <td>...</td>\n",
       "    </tr>\n",
       "    <tr>\n",
       "      <th>119</th>\n",
       "      <td>Промокод без привязки карты на 12 мес (Армения...</td>\n",
       "      <td>Others</td>\n",
       "    </tr>\n",
       "    <tr>\n",
       "      <th>120</th>\n",
       "      <td>Промокод без привязки карты на 12 мес (тест)</td>\n",
       "      <td>TEST</td>\n",
       "    </tr>\n",
       "    <tr>\n",
       "      <th>121</th>\n",
       "      <td>Промокод для сторов и моб кампаний, март</td>\n",
       "      <td>Mobile</td>\n",
       "    </tr>\n",
       "    <tr>\n",
       "      <th>122</th>\n",
       "      <td>Таттелеком_Тестовые_коды_3мес_10июл2024</td>\n",
       "      <td>TEST</td>\n",
       "    </tr>\n",
       "    <tr>\n",
       "      <th>123</th>\n",
       "      <td>фильмы и сериалы по подписке (магнит) 1 млн</td>\n",
       "      <td>Ставропольцев</td>\n",
       "    </tr>\n",
       "  </tbody>\n",
       "</table>\n",
       "<p>124 rows × 2 columns</p>\n",
       "</div>"
      ],
      "text/plain": [
       "                                       bonus_title_old         bonus_title_new\n",
       "0                   14 дней за 1 рубль.  Промостраницы   Яндекс. Промостраницы\n",
       "1                              35ZA1 Кампания \"Хватит\"  Реклама. Все источники\n",
       "2                                45DAYS-уникальные (2)                   EMAIL\n",
       "3                         Bloggers JUNE Mediacube 2024                Bloggers\n",
       "4                                               C2H5OH    Промокод для \"своих\"\n",
       "..                                                 ...                     ...\n",
       "119  Промокод без привязки карты на 12 мес (Армения...                  Others\n",
       "120       Промокод без привязки карты на 12 мес (тест)                    TEST\n",
       "121           Промокод для сторов и моб кампаний, март                  Mobile\n",
       "122            Таттелеком_Тестовые_коды_3мес_10июл2024                    TEST\n",
       "123        фильмы и сериалы по подписке (магнит) 1 млн           Ставропольцев\n",
       "\n",
       "[124 rows x 2 columns]"
      ]
     },
     "execution_count": 12,
     "metadata": {},
     "output_type": "execute_result"
    }
   ],
   "source": [
    "df"
   ]
  },
  {
   "cell_type": "code",
   "execution_count": 15,
   "id": "6c5917e5-26e7-443c-bed0-f9c854219f53",
   "metadata": {
    "tags": []
   },
   "outputs": [
    {
     "name": "stdout",
     "output_type": "stream",
     "text": [
      "Время выполнения функции: 1.1083 секунд\n",
      "\n"
     ]
    },
    {
     "data": {
      "text/html": [
       "<div>\n",
       "<style scoped>\n",
       "    .dataframe tbody tr th:only-of-type {\n",
       "        vertical-align: middle;\n",
       "    }\n",
       "\n",
       "    .dataframe tbody tr th {\n",
       "        vertical-align: top;\n",
       "    }\n",
       "\n",
       "    .dataframe thead th {\n",
       "        text-align: right;\n",
       "    }\n",
       "</style>\n",
       "<table border=\"1\" class=\"dataframe\">\n",
       "  <thead>\n",
       "    <tr style=\"text-align: right;\">\n",
       "      <th></th>\n",
       "      <th>host</th>\n",
       "      <th>port</th>\n",
       "      <th>status</th>\n",
       "      <th>error</th>\n",
       "      <th>num_hosts_remaining</th>\n",
       "      <th>num_hosts_active</th>\n",
       "    </tr>\n",
       "  </thead>\n",
       "  <tbody>\n",
       "    <tr>\n",
       "      <th>0</th>\n",
       "      <td>dwh02</td>\n",
       "      <td>9000.0</td>\n",
       "      <td>253.0</td>\n",
       "      <td>Code: 253. DB::Exception: Replica /clickhouse/...</td>\n",
       "      <td>3.0</td>\n",
       "      <td>0.0</td>\n",
       "    </tr>\n",
       "    <tr>\n",
       "      <th>1</th>\n",
       "      <td>dwh03</td>\n",
       "      <td>9000.0</td>\n",
       "      <td>253.0</td>\n",
       "      <td>Code: 253. DB::Exception: Replica /clickhouse/...</td>\n",
       "      <td>2.0</td>\n",
       "      <td>0.0</td>\n",
       "    </tr>\n",
       "    <tr>\n",
       "      <th>2</th>\n",
       "      <td>dwh01</td>\n",
       "      <td>9000.0</td>\n",
       "      <td>253.0</td>\n",
       "      <td>Code: 253. DB::Exception: Replica /clickhouse/...</td>\n",
       "      <td>1.0</td>\n",
       "      <td>0.0</td>\n",
       "    </tr>\n",
       "    <tr>\n",
       "      <th>3</th>\n",
       "      <td>dwh04</td>\n",
       "      <td>9000.0</td>\n",
       "      <td>253.0</td>\n",
       "      <td>Code: 253. DB::Exception: Replica /clickhouse/...</td>\n",
       "      <td>0.0</td>\n",
       "      <td>0.0</td>\n",
       "    </tr>\n",
       "    <tr>\n",
       "      <th>4</th>\n",
       "      <td>Code: 253. DB::Exception: There was an error o...</td>\n",
       "      <td>NaN</td>\n",
       "      <td>NaN</td>\n",
       "      <td>None</td>\n",
       "      <td>NaN</td>\n",
       "      <td>NaN</td>\n",
       "    </tr>\n",
       "  </tbody>\n",
       "</table>\n",
       "</div>"
      ],
      "text/plain": [
       "                                                host    port  status  \\\n",
       "0                                              dwh02  9000.0   253.0   \n",
       "1                                              dwh03  9000.0   253.0   \n",
       "2                                              dwh01  9000.0   253.0   \n",
       "3                                              dwh04  9000.0   253.0   \n",
       "4  Code: 253. DB::Exception: There was an error o...     NaN     NaN   \n",
       "\n",
       "                                               error  num_hosts_remaining  \\\n",
       "0  Code: 253. DB::Exception: Replica /clickhouse/...                  3.0   \n",
       "1  Code: 253. DB::Exception: Replica /clickhouse/...                  2.0   \n",
       "2  Code: 253. DB::Exception: Replica /clickhouse/...                  1.0   \n",
       "3  Code: 253. DB::Exception: Replica /clickhouse/...                  0.0   \n",
       "4                                               None                  NaN   \n",
       "\n",
       "   num_hosts_active  \n",
       "0               0.0  \n",
       "1               0.0  \n",
       "2               0.0  \n",
       "3               0.0  \n",
       "4               NaN  "
      ]
     },
     "execution_count": 15,
     "metadata": {},
     "output_type": "execute_result"
    }
   ],
   "source": [
    "query = '''CREATE TABLE sandbox.mekhtiev_bonus_local ON CLUSTER 'viasat_cluster'\n",
    "            (\n",
    "                bonus_title_old String,\n",
    "                bonus_title_new String\n",
    "                )\n",
    "             ENGINE = ReplicatedMergeTree('/clickhouse/tables/{shard}/mekhtiev_bonus_local', '{replica}')\n",
    "             ORDER BY bonus_title_old\n",
    "             '''\n",
    "execute(query,user = 'kmekhtiev')"
   ]
  },
  {
   "cell_type": "code",
   "execution_count": null,
   "id": "b384279d-90d1-43bd-92c6-96e02d6d8878",
   "metadata": {
    "tags": []
   },
   "outputs": [],
   "source": [
    "query = f'''CREATE TABLE datamarts.mekhtiev_bonus ON CLUSTER 'viasat_cluster'\n",
    "            (\n",
    "                bonus_title_old String,\n",
    "                bonus_title_new String\n",
    "                )\n",
    "             \n",
    "             ENGINE = Distributed(viasat_cluster, datamarts, mekhtiev_bonus_local, rand())\n",
    "             '''\n",
    "execute(query,user = 'kmekhtiev')"
   ]
  },
  {
   "cell_type": "code",
   "execution_count": 25,
   "id": "cc9a1c2f-7790-4c08-a1a2-dabe2ee75eca",
   "metadata": {
    "tags": []
   },
   "outputs": [
    {
     "name": "stdout",
     "output_type": "stream",
     "text": [
      "Время выполнения функции: 0.7528 секунд\n",
      "\n",
      "Данные залиты\n"
     ]
    }
   ],
   "source": [
    "execute(SQL = f\" TRUNCATE TABLE sandbox.mekhtiev_bonus2_local ON CLUSTER 'viasat_cluster' \", user='kmekhtiev')\n",
    "connection_clickhouse.insert_df('mekhtiev_bonus2', df)\n",
    "\n",
    "print(\"Данные залиты\")"
   ]
  },
  {
   "cell_type": "code",
   "execution_count": null,
   "id": "28eb9d3b-be56-438b-a022-3b8164a4326f",
   "metadata": {},
   "outputs": [],
   "source": []
  }
 ],
 "metadata": {
  "kernelspec": {
   "display_name": "Python 3 (ipykernel)",
   "language": "python",
   "name": "python3"
  },
  "language_info": {
   "codemirror_mode": {
    "name": "ipython",
    "version": 3
   },
   "file_extension": ".py",
   "mimetype": "text/x-python",
   "name": "python",
   "nbconvert_exporter": "python",
   "pygments_lexer": "ipython3",
   "version": "3.11.7"
  }
 },
 "nbformat": 4,
 "nbformat_minor": 5
}
