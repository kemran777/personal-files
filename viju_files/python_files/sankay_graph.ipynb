{
 "cells": [
  {
   "cell_type": "code",
   "execution_count": 1,
   "id": "df184874-e1fc-42e6-aea5-6447014b7a83",
   "metadata": {
    "tags": []
   },
   "outputs": [],
   "source": [
    "import pandas as pd\n",
    "import psycopg2\n",
    "import matplotlib.pyplot as plt\n",
    "import matplotlib.ticker as ticker\n",
    "import numpy as np\n",
    "import seaborn as sns \n",
    "import statsmodels.stats.proportion as proportion\n",
    "from scipy.stats import ttest_ind,mannwhitneyu,shapiro,norm\n",
    "from statsmodels.stats.weightstats import ztest\n",
    "from tqdm import tqdm\n",
    "import timeit\n",
    "from scipy import stats\n",
    "import math\n",
    "from datetime import date, datetime, timedelta\n",
    "import time\n",
    "from sqlalchemy import create_engine, text\n",
    "from sqlalchemy.orm import sessionmaker\n",
    "import warnings\n",
    "warnings.filterwarnings(\"ignore\")\n",
    "import clickhouse_connect  \n",
    "\n",
    "from credential import postgres_secret,clickhouse_dwh_secret\n",
    "\n",
    "def get_engine(user):\n",
    "    if user == postgres_secret['user']:\n",
    "        db_name = postgres_secret['db_name']\n",
    "        password = postgres_secret['password']\n",
    "        host = postgres_secret['host']\n",
    "        engine = create_engine(f'postgresql://{user}:{password}@{host}:6432/{db_name}')\n",
    "    elif user == clickhouse_dwh_secret['user']:\n",
    "            db_name = clickhouse_dwh_secret['db_name'] \n",
    "            password = clickhouse_dwh_secret['password']\n",
    "            host = clickhouse_dwh_secret['host']\n",
    "            engine = create_engine(f'clickhouse://{user}:{password}@{host}:8123/{db_name}')\n",
    "    return engine\n",
    "    \n",
    "connection_clickhouse = clickhouse_connect.get_client(\n",
    "    host = clickhouse_dwh_secret['host'],\n",
    "    port= '8123',\n",
    "    username = clickhouse_dwh_secret['user'],\n",
    "    password = clickhouse_dwh_secret['password'],\n",
    "    database='datamarts'\n",
    "    )\n",
    "\n",
    "    \n",
    "def execute(SQL, user):\n",
    "    start_time = time.time()  # запоминаем время начала выполнения функции\n",
    "    engine = get_engine(user)\n",
    "    Session = sessionmaker(bind=engine)  # sessions factory ()\n",
    "    with Session() as session: # open session\n",
    "        result = session.execute(text(SQL))\n",
    "        df = pd.DataFrame(result.fetchall(), columns=result.keys())\n",
    "        \n",
    "    end_time = time.time()  # запоминаем время окончания выполнения функции\n",
    "    execution_time = round(end_time - start_time,4) # вычисляем время выполнения   \n",
    "    \n",
    "    print(f\"Время выполнения функции: {execution_time} секунд\")\n",
    "    print()\n",
    "    return df"
   ]
  },
  {
   "cell_type": "code",
   "execution_count": null,
   "id": "4c0083ce-8fc3-4434-bc11-816a2e8db68c",
   "metadata": {
    "tags": []
   },
   "outputs": [],
   "source": [
    "import gspread\n",
    "from gspread_dataframe import get_as_dataframe\n",
    "from google.oauth2.service_account import Credentials\n",
    "\n",
    "# Укажите путь к вашему JSON-файлу с учётными данными\n",
    "credentials_path = '../python_files/credential_google_sheet.json'\n",
    "scope = [\"https://www.googleapis.com/auth/spreadsheets\"]\n",
    "\n",
    "# Создание аутентификации\n",
    "credentials = Credentials.from_service_account_file(credentials_path, scopes=scope)\n",
    "gc = gspread.authorize(credentials)\n",
    "\n",
    "# Откройте Google Sheet по URL или по его ID\n",
    "spreadsheet_url = \"https://docs.google.com/spreadsheets/d/1iWqOdNvOdy7Km3JINBSo2wAo6yoPxpQapMShCG1VElQ/edit?gid=0#gid=0\" \n",
    "spreadsheet = gc.open_by_url(spreadsheet_url)\n",
    "\n",
    "# Откройте конкретный лист по имени\n",
    "worksheet = spreadsheet.worksheet(\"Лист1\")\n",
    "\n",
    "# Импортируйте данные из листа в DataFrame\n",
    "df = get_as_dataframe(worksheet)"
   ]
  },
  {
   "cell_type": "code",
   "execution_count": null,
   "id": "58006af7-2a57-4a24-bfd7-392b1d99f881",
   "metadata": {
    "tags": []
   },
   "outputs": [],
   "source": [
    "df"
   ]
  },
  {
   "cell_type": "code",
   "execution_count": null,
   "id": "e66eb4b1-ec77-42b3-9ae3-370565b724a7",
   "metadata": {
    "tags": []
   },
   "outputs": [],
   "source": [
    "delete = '''DROP TABLE datamarts.mekhtiev_events_cjm_local ON CLUSTER 'viasat_cluster' sync '''\n",
    "execute(delete,user = 'kmekhtiev')\n",
    "\n",
    "query = '''CREATE TABLE datamarts.mekhtiev_events_cjm_local ON CLUSTER 'viasat_cluster'\n",
    "            (\n",
    "                events String,\n",
    "                description String,\n",
    "                type String,\n",
    "                page String\n",
    "                )\n",
    "             ENGINE = ReplicatedMergeTree('/clickhouse/tables/{shard}/mekhtiev_events_cjm_local', '{replica}')\n",
    "             ORDER BY events\n",
    "             '''\n",
    "execute(query,user = 'kmekhtiev')"
   ]
  },
  {
   "cell_type": "code",
   "execution_count": null,
   "id": "f6cc103a-b0a3-45bc-be1c-8fadc7d269cc",
   "metadata": {
    "tags": []
   },
   "outputs": [],
   "source": [
    "delete = '''DROP TABLE datamarts.mekhtiev_events_cjm_distr ON CLUSTER 'viasat_cluster' sync '''\n",
    "execute(delete,user = 'kmekhtiev')\n",
    "\n",
    "query = f'''CREATE TABLE datamarts.mekhtiev_events_cjm_distr ON CLUSTER 'viasat_cluster'\n",
    "            (\n",
    "                events String,\n",
    "                description String,\n",
    "                type String,\n",
    "                page String\n",
    "                )\n",
    "             \n",
    "             ENGINE = Distributed(viasat_cluster, datamarts, mekhtiev_events_cjm_local, rand())\n",
    "             '''\n",
    "execute(query,user = 'kmekhtiev')"
   ]
  },
  {
   "cell_type": "code",
   "execution_count": null,
   "id": "bb1b64ec-1411-4aed-b932-2a2ae06cae21",
   "metadata": {
    "tags": []
   },
   "outputs": [],
   "source": [
    "execute(SQL = f\" TRUNCATE TABLE datamarts.mekhtiev_events_cjm_local ON CLUSTER 'viasat_cluster' \", user='kmekhtiev')\n",
    "connection_clickhouse.insert_df('mekhtiev_events_cjm_distr', df)\n",
    "\n",
    "print(\"Данные залиты\")"
   ]
  },
  {
   "cell_type": "markdown",
   "id": "ff1d57a0-f627-456c-8e18-fc88330b7c50",
   "metadata": {},
   "source": [
    "# Функции для реализации графика Sankay"
   ]
  },
  {
   "cell_type": "code",
   "execution_count": 3,
   "id": "dabf6da3-a5a8-468e-89aa-389a24bd7bcc",
   "metadata": {
    "tags": []
   },
   "outputs": [],
   "source": [
    "def add_features(new_data):\n",
    "    \n",
    "    \"\"\"Функция генерации новых столбцов для исходной таблицы\n",
    "\n",
    "    Args:\n",
    "        df (pd.DataFrame): исходная таблица.\n",
    "    Returns:\n",
    "        pd.DataFrame: таблица с новыми признаками.\n",
    "    \"\"\"\n",
    "    \n",
    "    sorted_mobile = new_data.sort_values(by=['session_id', 'date']).copy()\n",
    "    # добавляем шаги событий\n",
    "    sorted_mobile['step'] = sorted_mobile.groupby('profile_id').cumcount() + 1\n",
    "    \n",
    "    # добавляем узлы-источники и целевые узлы\n",
    "    # узлы-источники - это сами события\n",
    "    sorted_mobile['source'] = sorted_mobile['event_name']\n",
    "    # добавляем целевые узлы\n",
    "    sorted_mobile['target'] = sorted_mobile.groupby('session_id')['source'].shift(-1)\n",
    "    \n",
    "    return sorted_mobile.drop(['event_name'], axis=1)"
   ]
  },
  {
   "cell_type": "code",
   "execution_count": 75,
   "id": "7e73a4f1-a7cb-4bbc-a7f6-31ed36b2d372",
   "metadata": {
    "tags": []
   },
   "outputs": [],
   "source": [
    "def add_features(new_data,id):\n",
    "    \n",
    "    \"\"\"Функция генерации новых столбцов для исходной таблицы\n",
    "\n",
    "    Args:\n",
    "        df (pd.DataFrame): исходная таблица.\n",
    "    Returns:\n",
    "        pd.DataFrame: таблица с новыми признаками.\n",
    "    \"\"\"\n",
    "    \n",
    "    sorted_mobile = new_data.sort_values(by=['session_id', 'date']).copy()\n",
    "    # добавляем шаги событий\n",
    "    sorted_mobile['step'] = sorted_mobile.groupby(id).cumcount() + 1\n",
    "    \n",
    "    # добавляем узлы-источники и целевые узлы\n",
    "    # узлы-источники - это сами события\n",
    "    sorted_mobile['source'] = sorted_mobile['event_name']\n",
    "    # добавляем целевые узлы\n",
    "    sorted_mobile['target'] = sorted_mobile.groupby('session_id')['source'].shift(-1)\n",
    "    \n",
    "    return sorted_mobile.drop(['event_name'], axis=1)"
   ]
  },
  {
   "cell_type": "code",
   "execution_count": 5,
   "id": "ed5d2a6a-8d4a-411b-9ba4-8baba8b8f8f9",
   "metadata": {
    "tags": []
   },
   "outputs": [],
   "source": [
    "def get_source_index(new_data):\n",
    "    \n",
    "    \"\"\"Функция генерации индексов source\n",
    "\n",
    "    Args:\n",
    "        df (pd.DataFrame): исходная таблица с признаками step, source, target.\n",
    "    Returns:\n",
    "        dict: словарь с индексами, именами и соответсвиями индексов именам source.\n",
    "    \"\"\"\n",
    "    \n",
    "    res_dict = {}\n",
    "    \n",
    "    count = 0\n",
    "    # получаем индексы источников\n",
    "    for no, step in enumerate(new_data['step'].unique().tolist()):\n",
    "        # получаем уникальные наименования для шага\n",
    "        res_dict[no+1] = {}\n",
    "        res_dict[no+1]['sources'] = new_data[new_data['step'] == step]['source'].unique().tolist()\n",
    "        res_dict[no+1]['sources_index'] = []\n",
    "        for i in range(len(res_dict[no+1]['sources'])):\n",
    "            res_dict[no+1]['sources_index'].append(count)\n",
    "            count += 1\n",
    "            \n",
    "    # соединим списки\n",
    "    for key in res_dict:\n",
    "        res_dict[key]['sources_dict'] = {}\n",
    "        for name, no in zip(res_dict[key]['sources'], res_dict[key]['sources_index']):\n",
    "            res_dict[key]['sources_dict'][name] = no\n",
    "    return res_dict"
   ]
  },
  {
   "cell_type": "code",
   "execution_count": 7,
   "id": "09d9ed75-b3bb-486e-aee3-b9bfa9d43c1d",
   "metadata": {
    "tags": []
   },
   "outputs": [],
   "source": [
    "def generate_random_color():\n",
    "    \n",
    "    \"\"\"Случайная генерация цветов rgba\n",
    "\n",
    "    Args:\n",
    "        \n",
    "    Returns:\n",
    "        str: Строка со сгенерированными параметрами цвета\n",
    "    \"\"\"\n",
    "    \n",
    "    # сгенерим значение для каждого канала\n",
    "    r, g, b = np.random.randint(255, size=3)\n",
    "    return f'rgba({r}, {g}, {b}, 1)'"
   ]
  },
  {
   "cell_type": "code",
   "execution_count": 9,
   "id": "1c5043ed-ec24-4bdd-838a-bf00e49d9c4b",
   "metadata": {
    "tags": []
   },
   "outputs": [],
   "source": [
    "def colors_for_sources(mode):\n",
    "    \n",
    "    \"\"\"Генерация цветов rgba\n",
    "\n",
    "    Args:\n",
    "        mode (str): сгенерировать случайные цвета, если 'random', а если 'custom' - \n",
    "                    использовать заранее подготовленные\n",
    "    Returns:\n",
    "        dict: словарь с цветами, соответствующими каждому индексу\n",
    "    \"\"\"\n",
    "    # словарь, в который сложим цвета в соответствии с индексом\n",
    "    colors_dict = {}\n",
    "    \n",
    "    if mode == 'random':\n",
    "        # генерим случайные цвета\n",
    "        for label in df_comp['source'].unique():\n",
    "            r, g, b = np.random.randint(255, size=3)            \n",
    "            colors_dict[label] = f'rgba({r}, {g}, {b}, 1)'\n",
    "            \n",
    "    elif mode == 'custom':\n",
    "        # присваиваем ранее подготовленные цвета\n",
    "        colors = {\"custom_colors\": [\"rgba(42, 157, 143, 1)\", \"rgba(38, 70, 83, 1)\", \"rgba(233, 196, 106, 1)\", \"rgba(244, 162, 97, 1)\", \"rgba(231, 111, 81, 1)\", \"rgba(230, 57, 70, 1)\", \"rgba(168, 218, 220, 1)\", \"rgba(69, 123, 157, 1)\", \"rgba(29, 53, 87, 1)\", \"rgba(107, 112, 92, 1)\", \"rgba(183, 183, 164, 1)\", \"rgba(221, 190, 169, 1)\", \"rgba(142, 202, 230, 1)\", \"rgba(33, 158, 188, 1)\", \"rgba(2, 48, 71, 1)\", \"rgba(255, 183, 3, 1)\", \"rgba(251, 133, 0, 1)\", \"rgba(153, 217, 140, 1)\", \"rgba(118, 200, 147, 1)\", \"rgba(52, 160, 164, 1)\", \"rgba(26, 117, 159, 1)\", \"rgba(247, 37, 133, 1)\", \"rgba(181, 23, 158, 1)\", \"rgba(114, 9, 183, 1)\", \"rgba(86, 11, 173, 1)\", \"rgba(72, 149, 239, 1)\", \"rgba(76, 201, 240, 1)\", \"rgba(242, 132, 130, 1)\", \"rgba(132, 165, 157, 1)\", \"rgba(246, 189, 96, 1)\", \"rgba(187, 62, 3, 1)\", \"rgba(204, 213, 174, 1)\", \"rgba(233, 237, 201, 1)\", \"rgba(254, 250, 224, 1)\", \"rgba(212, 163, 115, 1)\", \"rgba(96, 108, 56, 1)\", \"rgba(40, 54, 24, 1)\", \"rgba(249, 199, 79, 1)\", \"rgba(144, 190, 109, 1)\", \"rgba(67, 170, 139, 1)\", \"rgba(77, 144, 142, 1)\", \"rgba(87, 117, 144, 1)\", \"rgba(39, 125, 161, 1)\", \"rgba(239, 71, 111, 1)\", \"rgba(255, 209, 102, 1)\", \"rgba(6, 214, 160, 1)\", \"rgba(17, 138, 178, 1)\", \"rgba(7, 59, 76, 1)\", \"rgba(0, 53, 102, 1)\", \"rgba(226, 175, 255, 1)\", \"rgba(248, 173, 157, 1)\", \"rgba(211, 211, 211, 1)\", \"rgba(254, 228, 64, 1)\", \"rgba(241, 91, 181, 1)\", \"rgba(155, 93, 229, 1)\", \"rgba(0, 187, 249, 1)\", \"rgba(0, 245, 212, 1)\", \"rgba(130, 192, 204, 1)\", \"rgba(128, 185, 24, 1)\", \"rgba(43, 147, 72, 1)\"]}\n",
    "        for no, label in enumerate(df_comp['source'].unique()):\n",
    "            colors_dict[label] = colors['custom_colors'][no]\n",
    "            \n",
    "    return colors_dict"
   ]
  },
  {
   "cell_type": "code",
   "execution_count": 11,
   "id": "6781bf01-8d9e-40ef-a8dc-06395c7de85b",
   "metadata": {
    "tags": []
   },
   "outputs": [],
   "source": [
    "def percent_users(sources, targets, values):\n",
    "    \n",
    "    \"\"\"\n",
    "    Расчет уникальных id в процентах (для вывода в hover text каждого узла)\n",
    "    \n",
    "    Args:\n",
    "        sources (list): список с индексами source.\n",
    "        targets (list): список с индексами target.\n",
    "        values (list): список с \"объемами\" потоков.\n",
    "        \n",
    "    Returns:\n",
    "        list: список с \"объемами\" потоков в процентах\n",
    "    \"\"\"\n",
    "    \n",
    "    # объединим источники и метки и найдем пары\n",
    "    zip_lists = list(zip(sources, targets, values))\n",
    "    \n",
    "    new_list = []\n",
    "    \n",
    "    # подготовим список словарь с общим объемом трафика в узлах\n",
    "    unique_dict = {}\n",
    "    \n",
    "    # проходим по каждому узлу\n",
    "    for source, target, value in zip_lists:\n",
    "        if source not in unique_dict:\n",
    "            # находим все источники и считаем общий трафик\n",
    "            unique_dict[source] = 0\n",
    "            for sr, tg, vl in zip_lists:\n",
    "                if sr == source:\n",
    "                    unique_dict[source] += vl\n",
    "                    \n",
    "    # считаем проценты\n",
    "    for source, target, value in zip_lists:\n",
    "        new_list.append(round(100 * value / unique_dict[source], 1))\n",
    "    \n",
    "    return new_list"
   ]
  },
  {
   "cell_type": "code",
   "execution_count": 13,
   "id": "458757f3-fd3d-4485-a1c7-cc4ec0b8bab7",
   "metadata": {
    "tags": []
   },
   "outputs": [],
   "source": [
    "from plotly import graph_objects as go\n",
    "import plotly.io as pio  \n",
    "\n",
    "def lists_for_plot(source_indexes, colors, frac=30):\n",
    "    \n",
    "    \"\"\"\n",
    "    Создаем необходимые для отрисовки диаграммы переменные списков и возвращаем\n",
    "    их в виде словаря\n",
    "    \n",
    "    Args:\n",
    "        source_indexes (dict): словарь с именами и индексами source.\n",
    "        colors (dict): словарь с цветами source.\n",
    "        frac (int): ограничение на минимальный \"объем\" между узлами.\n",
    "        \n",
    "    Returns:\n",
    "        dict: словарь со списками, необходимыми для диаграммы.\n",
    "    \"\"\"\n",
    "    \n",
    "    sources = []\n",
    "    targets = []\n",
    "    values = []\n",
    "    labels = []\n",
    "    link_color = []\n",
    "    link_text = []\n",
    "    \n",
    "\n",
    "    # проходим по каждому шагу\n",
    "    for step in tqdm(sorted(df_comp['step'].unique()), desc='Шаг'):\n",
    "        if step + 1 not in source_indexes:\n",
    "            continue\n",
    "        \n",
    "\n",
    "        # получаем индекс источника\n",
    "        temp_dict_source = source_indexes[step]['sources_dict']\n",
    "\n",
    "        # получаем индексы цели\n",
    "        temp_dict_target = source_indexes[step+1]['sources_dict']\n",
    "\n",
    "        # проходим по каждой возможной паре, считаем количество таких пар\n",
    "        for source, index_source in (temp_dict_source.items()):\n",
    "            for target, index_target in temp_dict_target.items():\n",
    "                # делаем срез данных и считаем количество id            \n",
    "                temp_df = df_comp[(df_comp['step'] == step)&(df_comp['source'] == source)&(df_comp['target'] == target)]\n",
    "                value = len(temp_df)\n",
    "                # проверяем минимальный объем потока и добавляем нужные данные\n",
    "                if value > frac:\n",
    "                    sources.append(index_source)\n",
    "                    targets.append(index_target)\n",
    "                    values.append(value)\n",
    "                    # делаем поток прозрачным для лучшего отображения\n",
    "                    link_color.append(colors[source].replace(', 1)', ', 0.2)'))\n",
    "                    \n",
    "    labels = []\n",
    "    colors_labels = []\n",
    "    for key in source_indexes:\n",
    "        for name in source_indexes[key]['sources']:\n",
    "            labels.append(name)\n",
    "            colors_labels.append(colors[name])\n",
    "            \n",
    "    # посчитаем проценты всех потоков\n",
    "    perc_values = percent_users(sources, targets, values)\n",
    "    \n",
    "    # добавим значения процентов для howertext\n",
    "    link_text = []\n",
    "    for perc in perc_values:\n",
    "        link_text.append(f\"{perc}%\")\n",
    "    \n",
    "    # возвратим словарь с вложенными списками\n",
    "    return {'sources': sources, \n",
    "            'targets': targets, \n",
    "            'values': values, \n",
    "            'labels': labels, \n",
    "            'colors_labels': colors_labels, \n",
    "            'link_color': link_color, \n",
    "            'link_text': link_text}"
   ]
  },
  {
   "cell_type": "code",
   "execution_count": 15,
   "id": "32e7e55c-d477-4274-8e2a-a635e8bfeb93",
   "metadata": {
    "tags": []
   },
   "outputs": [],
   "source": [
    "def plot_senkey_diagram(data_dict, file_name=\"sankey_diagram.html\",chart_name='Sankay Diagram'):    \n",
    "    \n",
    "    \"\"\"\n",
    "    Функция для генерации объекта диаграммы Сенкей \n",
    "    \n",
    "    Args:\n",
    "        data_dict (dict): словарь со списками данных для построения.\n",
    "        \n",
    "    Returns:\n",
    "        plotly.graph_objs._figure.Figure: объект изображения.\n",
    "    \"\"\"\n",
    "    \n",
    "    fig = go.Figure(data=[go.Sankey(\n",
    "        domain = dict(\n",
    "          x =  [0,1],\n",
    "          y =  [0,1]\n",
    "        ),\n",
    "        orientation = \"h\",\n",
    "        valueformat = \".0f\",\n",
    "        node = dict(\n",
    "          pad = 50,\n",
    "          thickness = 15,\n",
    "          line = dict(color = \"black\", width = 0.1),\n",
    "          label = data_dict['labels'],\n",
    "          color = data_dict['colors_labels']\n",
    "        ),\n",
    "        link = dict(\n",
    "          source = data_dict['sources'],\n",
    "          target = data_dict['targets'],\n",
    "          value = data_dict['values'],\n",
    "          label = data_dict['link_text'],\n",
    "          color = data_dict['link_color']\n",
    "      ))])\n",
    "    fig.update_layout(title_text=chart_name, font_size=10, width=1500, height=800)\n",
    "    \n",
    "    # Сохраняем график в HTML файл  \n",
    "    pio.write_html(fig, file=file_name, auto_open=True)  \n",
    "    \n",
    "    # возвращаем объект диаграммы\n",
    "    return fig.show()"
   ]
  },
  {
   "cell_type": "markdown",
   "id": "352a57fa-822b-4fe7-b37c-8224c021cdf0",
   "metadata": {},
   "source": [
    "# Загружаем датасет"
   ]
  },
  {
   "cell_type": "code",
   "execution_count": 77,
   "id": "670e2598-55e0-44c7-b828-a519ee84fc38",
   "metadata": {
    "tags": []
   },
   "outputs": [
    {
     "name": "stdout",
     "output_type": "stream",
     "text": [
      "Время выполнения функции: 10.2925 секунд\n",
      "\n"
     ]
    }
   ],
   "source": [
    "query = f'''\n",
    "            SELECT \n",
    "            date,\n",
    "            utc_timestamp,\n",
    "            visitor_id,\n",
    "            profile_id,\n",
    "            session_id,\n",
    "            event_name,\n",
    "            client_type\n",
    "            FROM datamarts.sandbox_data_distr AS t1\n",
    "            INNER JOIN (SELECT * FROM datamarts.mekhtiev_events_cjm_distr -- WHERE type='flow_chart'\n",
    "            ) AS t2  ON t1.event_name = t2.events\n",
    "            WHERE date BETWEEN '2024-09-20'  AND '2024-12-20'  -- Изменение дат!!!!!!!!!!!!!!\n",
    "            AND profile_id IS NOT NULL AND client_type IN ('web_desktop')\n",
    "'''\n",
    "\n",
    "df = execute(query,user='kmekhtiev')"
   ]
  },
  {
   "cell_type": "code",
   "execution_count": 95,
   "id": "6e6b44a8-e9a0-4e59-98f5-c82021ca94b1",
   "metadata": {
    "tags": []
   },
   "outputs": [
    {
     "name": "stdout",
     "output_type": "stream",
     "text": [
      "Время выполнения функции: 2.1429 секунд\n",
      "\n"
     ]
    }
   ],
   "source": [
    "query = f'''\n",
    "  SELECT \n",
    "            date,\n",
    "            utc_timestamp,\n",
    "            visitor_id,\n",
    "            profile_id,\n",
    "            session_id,\n",
    "            event_name,\n",
    "            JSONExtractString(payload,'from') AS from_payload,\n",
    "            client_type\n",
    "            FROM datamarts.clean_event AS t1\n",
    "            WHERE date BETWEEN '2024-12-20'  AND '2024-12-25'  -- Изменение дат!!!!!!!!!!!!!!\n",
    "            AND event_name in ('goto_auth_page','click_auth_continue','show_login_password_page','auto_auth_success_authorization')\n",
    "            AND client_type IN ('web_desktop','web_mobile')\n",
    "'''\n",
    "\n",
    "df = execute(query,user='kmekhtiev')"
   ]
  },
  {
   "cell_type": "code",
   "execution_count": 107,
   "id": "e0a21afd-25ff-4c9e-92d5-dd81dc77c02b",
   "metadata": {
    "tags": []
   },
   "outputs": [],
   "source": [
    "df_wo_dublicate = df.drop_duplicates(subset=['session_id','event_name'])\n",
    "\n",
    "df_add = add_features(df_wo_dublicate,id='visitor_id') # 1-ая функция\n",
    "# plt.figure(figsize=(10,6))\n",
    "# sns.histplot(df_add['step'])\n",
    "# plt.xticks(range(int(df_add['step'].min()), int(df_add['step'].max()) + 1,5),rotation=45)  \n",
    "# plt.yticks(range(0, int(df_add['step'].value_counts().max())+500,500))\n",
    "# plt.show()"
   ]
  },
  {
   "cell_type": "code",
   "execution_count": 109,
   "id": "2133fe9a-d90f-4422-882a-290e7e6a912a",
   "metadata": {
    "tags": []
   },
   "outputs": [
    {
     "data": {
      "text/plain": [
       "array(['click_auth_continue', 'goto_auth_page',\n",
       "       'show_login_password_page', 'auto_auth_success_authorization'],\n",
       "      dtype=object)"
      ]
     },
     "execution_count": 109,
     "metadata": {},
     "output_type": "execute_result"
    }
   ],
   "source": [
    "df['event_name'].unique()"
   ]
  },
  {
   "cell_type": "code",
   "execution_count": 113,
   "id": "133bd7b5-364e-4ef1-9595-11a5982c2348",
   "metadata": {
    "tags": []
   },
   "outputs": [
    {
     "data": {
      "text/html": [
       "<div>\n",
       "<style scoped>\n",
       "    .dataframe tbody tr th:only-of-type {\n",
       "        vertical-align: middle;\n",
       "    }\n",
       "\n",
       "    .dataframe tbody tr th {\n",
       "        vertical-align: top;\n",
       "    }\n",
       "\n",
       "    .dataframe thead th {\n",
       "        text-align: right;\n",
       "    }\n",
       "</style>\n",
       "<table border=\"1\" class=\"dataframe\">\n",
       "  <thead>\n",
       "    <tr style=\"text-align: right;\">\n",
       "      <th></th>\n",
       "      <th>date</th>\n",
       "      <th>utc_timestamp</th>\n",
       "      <th>visitor_id</th>\n",
       "      <th>profile_id</th>\n",
       "      <th>session_id</th>\n",
       "      <th>from_payload</th>\n",
       "      <th>client_type</th>\n",
       "      <th>step</th>\n",
       "      <th>source</th>\n",
       "      <th>target</th>\n",
       "    </tr>\n",
       "  </thead>\n",
       "  <tbody>\n",
       "    <tr>\n",
       "      <th>1854</th>\n",
       "      <td>2024-12-21</td>\n",
       "      <td>2024-12-21 14:30:10</td>\n",
       "      <td>842db7da-8326-4b15-9bc5-bd8da3810b0e</td>\n",
       "      <td>None</td>\n",
       "      <td>0009b5b3-4942-4d78-bdad-0f5427fb14ac</td>\n",
       "      <td></td>\n",
       "      <td>web_mobile</td>\n",
       "      <td>1</td>\n",
       "      <td>click_auth_continue</td>\n",
       "      <td>NaN</td>\n",
       "    </tr>\n",
       "    <tr>\n",
       "      <th>11343</th>\n",
       "      <td>2024-12-23</td>\n",
       "      <td>2024-12-23 01:50:05</td>\n",
       "      <td>43160ea6-4bd7-4e77-8711-2623490b0496</td>\n",
       "      <td>None</td>\n",
       "      <td>001beb98-9125-4979-88ae-c6b5e1152f8a</td>\n",
       "      <td></td>\n",
       "      <td>web_mobile</td>\n",
       "      <td>1</td>\n",
       "      <td>click_auth_continue</td>\n",
       "      <td>NaN</td>\n",
       "    </tr>\n",
       "    <tr>\n",
       "      <th>14331</th>\n",
       "      <td>2024-12-25</td>\n",
       "      <td>2024-12-25 14:34:27</td>\n",
       "      <td>d045540b-8091-40d0-b9c3-378d558023b2</td>\n",
       "      <td>None</td>\n",
       "      <td>00261c81-65a7-470c-b790-223dac8523d4</td>\n",
       "      <td></td>\n",
       "      <td>web_mobile</td>\n",
       "      <td>1</td>\n",
       "      <td>click_auth_continue</td>\n",
       "      <td>NaN</td>\n",
       "    </tr>\n",
       "    <tr>\n",
       "      <th>4562</th>\n",
       "      <td>2024-12-23</td>\n",
       "      <td>2024-12-23 15:43:10</td>\n",
       "      <td>a60749e2-db25-4cb4-9bc2-5d0d43de663e</td>\n",
       "      <td>None</td>\n",
       "      <td>00424e63-e589-42fa-889d-2f9739ed6f21</td>\n",
       "      <td></td>\n",
       "      <td>web_mobile</td>\n",
       "      <td>1</td>\n",
       "      <td>click_auth_continue</td>\n",
       "      <td>NaN</td>\n",
       "    </tr>\n",
       "    <tr>\n",
       "      <th>1554</th>\n",
       "      <td>2024-12-21</td>\n",
       "      <td>2024-12-21 12:35:46</td>\n",
       "      <td>e6c28f42-c675-451d-bd10-7dfffa2a8803</td>\n",
       "      <td>None</td>\n",
       "      <td>0055671e-c203-4b0e-8c21-5cdacf2949f1</td>\n",
       "      <td>sign_in</td>\n",
       "      <td>web_mobile</td>\n",
       "      <td>1</td>\n",
       "      <td>goto_auth_page</td>\n",
       "      <td>NaN</td>\n",
       "    </tr>\n",
       "    <tr>\n",
       "      <th>...</th>\n",
       "      <td>...</td>\n",
       "      <td>...</td>\n",
       "      <td>...</td>\n",
       "      <td>...</td>\n",
       "      <td>...</td>\n",
       "      <td>...</td>\n",
       "      <td>...</td>\n",
       "      <td>...</td>\n",
       "      <td>...</td>\n",
       "      <td>...</td>\n",
       "    </tr>\n",
       "    <tr>\n",
       "      <th>5484</th>\n",
       "      <td>2024-12-22</td>\n",
       "      <td>2024-12-22 12:12:14</td>\n",
       "      <td>98341d21-eaee-46b6-87bb-d6f30cb66cab</td>\n",
       "      <td>None</td>\n",
       "      <td>ffea37c8-b7a4-43dc-9f1a-2535bfeae733</td>\n",
       "      <td></td>\n",
       "      <td>web_desktop</td>\n",
       "      <td>4</td>\n",
       "      <td>show_login_password_page</td>\n",
       "      <td>NaN</td>\n",
       "    </tr>\n",
       "    <tr>\n",
       "      <th>6301</th>\n",
       "      <td>2024-12-20</td>\n",
       "      <td>2024-12-20 09:23:43</td>\n",
       "      <td>d53abab0-de5d-49b2-be37-5ecd65012fd4</td>\n",
       "      <td>None</td>\n",
       "      <td>fff73c70-5341-4045-9fb3-fa0d5005ec61</td>\n",
       "      <td></td>\n",
       "      <td>web_desktop</td>\n",
       "      <td>1</td>\n",
       "      <td>click_auth_continue</td>\n",
       "      <td>NaN</td>\n",
       "    </tr>\n",
       "    <tr>\n",
       "      <th>9711</th>\n",
       "      <td>2024-12-24</td>\n",
       "      <td>2024-12-24 07:02:38</td>\n",
       "      <td>623527cc-37bb-42fa-a3db-d30be421288f</td>\n",
       "      <td>None</td>\n",
       "      <td>fff90f3c-53e0-4ff7-bfc4-eb29bacccdd4</td>\n",
       "      <td></td>\n",
       "      <td>web_mobile</td>\n",
       "      <td>1</td>\n",
       "      <td>click_auth_continue</td>\n",
       "      <td>auto_auth_success_authorization</td>\n",
       "    </tr>\n",
       "    <tr>\n",
       "      <th>11195</th>\n",
       "      <td>2024-12-24</td>\n",
       "      <td>2024-12-24 07:02:44</td>\n",
       "      <td>623527cc-37bb-42fa-a3db-d30be421288f</td>\n",
       "      <td>4531afb4-3006-4d8e-8161-ca027f2a6085</td>\n",
       "      <td>fff90f3c-53e0-4ff7-bfc4-eb29bacccdd4</td>\n",
       "      <td></td>\n",
       "      <td>web_mobile</td>\n",
       "      <td>2</td>\n",
       "      <td>auto_auth_success_authorization</td>\n",
       "      <td>show_login_password_page</td>\n",
       "    </tr>\n",
       "    <tr>\n",
       "      <th>11461</th>\n",
       "      <td>2024-12-24</td>\n",
       "      <td>2024-12-24 07:02:38</td>\n",
       "      <td>623527cc-37bb-42fa-a3db-d30be421288f</td>\n",
       "      <td>None</td>\n",
       "      <td>fff90f3c-53e0-4ff7-bfc4-eb29bacccdd4</td>\n",
       "      <td></td>\n",
       "      <td>web_mobile</td>\n",
       "      <td>3</td>\n",
       "      <td>show_login_password_page</td>\n",
       "      <td>NaN</td>\n",
       "    </tr>\n",
       "  </tbody>\n",
       "</table>\n",
       "<p>13755 rows × 10 columns</p>\n",
       "</div>"
      ],
      "text/plain": [
       "             date        utc_timestamp                            visitor_id  \\\n",
       "1854   2024-12-21  2024-12-21 14:30:10  842db7da-8326-4b15-9bc5-bd8da3810b0e   \n",
       "11343  2024-12-23  2024-12-23 01:50:05  43160ea6-4bd7-4e77-8711-2623490b0496   \n",
       "14331  2024-12-25  2024-12-25 14:34:27  d045540b-8091-40d0-b9c3-378d558023b2   \n",
       "4562   2024-12-23  2024-12-23 15:43:10  a60749e2-db25-4cb4-9bc2-5d0d43de663e   \n",
       "1554   2024-12-21  2024-12-21 12:35:46  e6c28f42-c675-451d-bd10-7dfffa2a8803   \n",
       "...           ...                  ...                                   ...   \n",
       "5484   2024-12-22  2024-12-22 12:12:14  98341d21-eaee-46b6-87bb-d6f30cb66cab   \n",
       "6301   2024-12-20  2024-12-20 09:23:43  d53abab0-de5d-49b2-be37-5ecd65012fd4   \n",
       "9711   2024-12-24  2024-12-24 07:02:38  623527cc-37bb-42fa-a3db-d30be421288f   \n",
       "11195  2024-12-24  2024-12-24 07:02:44  623527cc-37bb-42fa-a3db-d30be421288f   \n",
       "11461  2024-12-24  2024-12-24 07:02:38  623527cc-37bb-42fa-a3db-d30be421288f   \n",
       "\n",
       "                                 profile_id  \\\n",
       "1854                                   None   \n",
       "11343                                  None   \n",
       "14331                                  None   \n",
       "4562                                   None   \n",
       "1554                                   None   \n",
       "...                                     ...   \n",
       "5484                                   None   \n",
       "6301                                   None   \n",
       "9711                                   None   \n",
       "11195  4531afb4-3006-4d8e-8161-ca027f2a6085   \n",
       "11461                                  None   \n",
       "\n",
       "                                 session_id from_payload  client_type  step  \\\n",
       "1854   0009b5b3-4942-4d78-bdad-0f5427fb14ac                web_mobile     1   \n",
       "11343  001beb98-9125-4979-88ae-c6b5e1152f8a                web_mobile     1   \n",
       "14331  00261c81-65a7-470c-b790-223dac8523d4                web_mobile     1   \n",
       "4562   00424e63-e589-42fa-889d-2f9739ed6f21                web_mobile     1   \n",
       "1554   0055671e-c203-4b0e-8c21-5cdacf2949f1      sign_in   web_mobile     1   \n",
       "...                                     ...          ...          ...   ...   \n",
       "5484   ffea37c8-b7a4-43dc-9f1a-2535bfeae733               web_desktop     4   \n",
       "6301   fff73c70-5341-4045-9fb3-fa0d5005ec61               web_desktop     1   \n",
       "9711   fff90f3c-53e0-4ff7-bfc4-eb29bacccdd4                web_mobile     1   \n",
       "11195  fff90f3c-53e0-4ff7-bfc4-eb29bacccdd4                web_mobile     2   \n",
       "11461  fff90f3c-53e0-4ff7-bfc4-eb29bacccdd4                web_mobile     3   \n",
       "\n",
       "                                source                           target  \n",
       "1854               click_auth_continue                              NaN  \n",
       "11343              click_auth_continue                              NaN  \n",
       "14331              click_auth_continue                              NaN  \n",
       "4562               click_auth_continue                              NaN  \n",
       "1554                    goto_auth_page                              NaN  \n",
       "...                                ...                              ...  \n",
       "5484          show_login_password_page                              NaN  \n",
       "6301               click_auth_continue                              NaN  \n",
       "9711               click_auth_continue  auto_auth_success_authorization  \n",
       "11195  auto_auth_success_authorization         show_login_password_page  \n",
       "11461         show_login_password_page                              NaN  \n",
       "\n",
       "[13755 rows x 10 columns]"
      ]
     },
     "execution_count": 113,
     "metadata": {},
     "output_type": "execute_result"
    }
   ],
   "source": [
    "df_add"
   ]
  },
  {
   "cell_type": "code",
   "execution_count": 111,
   "id": "373f5de8-6aa3-45ae-ad4b-277f77c876c3",
   "metadata": {
    "tags": []
   },
   "outputs": [
    {
     "name": "stderr",
     "output_type": "stream",
     "text": [
      "Шаг: 100%|██████████| 6/6 [00:00<00:00, 67.95it/s]\n"
     ]
    },
    {
     "data": {
      "application/vnd.plotly.v1+json": {
       "config": {
        "plotlyServerURL": "https://plot.ly"
       },
       "data": [
        {
         "domain": {
          "x": [
           0,
           1
          ],
          "y": [
           0,
           1
          ]
         },
         "link": {
          "color": [
           "rgba(42, 157, 143, 0.2)",
           "rgba(42, 157, 143, 0.2)",
           "rgba(42, 157, 143, 0.2)",
           "rgba(38, 70, 83, 0.2)",
           "rgba(38, 70, 83, 0.2)",
           "rgba(38, 70, 83, 0.2)",
           "rgba(233, 196, 106, 0.2)",
           "rgba(233, 196, 106, 0.2)",
           "rgba(233, 196, 106, 0.2)",
           "rgba(244, 162, 97, 0.2)",
           "rgba(244, 162, 97, 0.2)",
           "rgba(244, 162, 97, 0.2)",
           "rgba(42, 157, 143, 0.2)",
           "rgba(42, 157, 143, 0.2)",
           "rgba(42, 157, 143, 0.2)",
           "rgba(38, 70, 83, 0.2)",
           "rgba(38, 70, 83, 0.2)",
           "rgba(38, 70, 83, 0.2)",
           "rgba(244, 162, 97, 0.2)",
           "rgba(244, 162, 97, 0.2)",
           "rgba(244, 162, 97, 0.2)",
           "rgba(233, 196, 106, 0.2)",
           "rgba(233, 196, 106, 0.2)",
           "rgba(233, 196, 106, 0.2)",
           "rgba(42, 157, 143, 0.2)",
           "rgba(42, 157, 143, 0.2)",
           "rgba(42, 157, 143, 0.2)",
           "rgba(244, 162, 97, 0.2)",
           "rgba(244, 162, 97, 0.2)",
           "rgba(244, 162, 97, 0.2)",
           "rgba(233, 196, 106, 0.2)",
           "rgba(233, 196, 106, 0.2)",
           "rgba(233, 196, 106, 0.2)",
           "rgba(38, 70, 83, 0.2)",
           "rgba(38, 70, 83, 0.2)",
           "rgba(38, 70, 83, 0.2)",
           "rgba(233, 196, 106, 0.2)",
           "rgba(233, 196, 106, 0.2)",
           "rgba(38, 70, 83, 0.2)",
           "rgba(42, 157, 143, 0.2)",
           "rgba(42, 157, 143, 0.2)",
           "rgba(42, 157, 143, 0.2)",
           "rgba(244, 162, 97, 0.2)",
           "rgba(244, 162, 97, 0.2)",
           "rgba(244, 162, 97, 0.2)",
           "rgba(38, 70, 83, 0.2)",
           "rgba(38, 70, 83, 0.2)",
           "rgba(42, 157, 143, 0.2)",
           "rgba(42, 157, 143, 0.2)",
           "rgba(233, 196, 106, 0.2)",
           "rgba(244, 162, 97, 0.2)"
          ],
          "label": [
           "38.8%",
           "22.1%",
           "39.1%",
           "69.1%",
           "18.9%",
           "12.0%",
           "54.4%",
           "10.6%",
           "35.1%",
           "38.4%",
           "19.1%",
           "42.5%",
           "42.3%",
           "41.8%",
           "15.9%",
           "32.9%",
           "29.4%",
           "37.6%",
           "45.0%",
           "38.5%",
           "16.5%",
           "42.7%",
           "43.7%",
           "13.6%",
           "38.3%",
           "37.7%",
           "24.1%",
           "33.8%",
           "27.2%",
           "39.1%",
           "24.2%",
           "42.7%",
           "33.1%",
           "31.0%",
           "38.0%",
           "31.0%",
           "79.4%",
           "20.6%",
           "100.0%",
           "23.3%",
           "63.3%",
           "13.3%",
           "34.8%",
           "34.8%",
           "30.4%",
           "56.2%",
           "43.8%",
           "52.6%",
           "47.4%",
           "100.0%",
           "100.0%"
          ],
          "source": [
           0,
           0,
           0,
           1,
           1,
           1,
           2,
           2,
           2,
           3,
           3,
           3,
           4,
           4,
           4,
           5,
           5,
           5,
           6,
           6,
           6,
           7,
           7,
           7,
           8,
           8,
           8,
           9,
           9,
           9,
           10,
           10,
           10,
           11,
           11,
           11,
           12,
           12,
           13,
           14,
           14,
           14,
           15,
           15,
           15,
           16,
           16,
           17,
           17,
           18,
           19
          ],
          "target": [
           5,
           6,
           7,
           4,
           6,
           7,
           4,
           5,
           6,
           4,
           5,
           7,
           9,
           10,
           11,
           8,
           9,
           10,
           8,
           10,
           11,
           8,
           9,
           11,
           12,
           13,
           15,
           12,
           13,
           14,
           13,
           14,
           15,
           12,
           14,
           15,
           17,
           19,
           17,
           16,
           18,
           19,
           16,
           17,
           18,
           20,
           21,
           22,
           23,
           20,
           20
          ],
          "value": [
           272,
           155,
           274,
           299,
           82,
           52,
           262,
           51,
           169,
           167,
           83,
           185,
           165,
           163,
           62,
           56,
           50,
           64,
           161,
           138,
           59,
           163,
           167,
           52,
           62,
           61,
           39,
           51,
           41,
           59,
           43,
           76,
           59,
           44,
           54,
           44,
           27,
           7,
           7,
           14,
           38,
           8,
           8,
           8,
           7,
           9,
           7,
           10,
           9,
           15,
           6
          ]
         },
         "node": {
          "color": [
           "rgba(42, 157, 143, 1)",
           "rgba(38, 70, 83, 1)",
           "rgba(233, 196, 106, 1)",
           "rgba(244, 162, 97, 1)",
           "rgba(42, 157, 143, 1)",
           "rgba(38, 70, 83, 1)",
           "rgba(244, 162, 97, 1)",
           "rgba(233, 196, 106, 1)",
           "rgba(42, 157, 143, 1)",
           "rgba(244, 162, 97, 1)",
           "rgba(233, 196, 106, 1)",
           "rgba(38, 70, 83, 1)",
           "rgba(233, 196, 106, 1)",
           "rgba(38, 70, 83, 1)",
           "rgba(42, 157, 143, 1)",
           "rgba(244, 162, 97, 1)",
           "rgba(38, 70, 83, 1)",
           "rgba(42, 157, 143, 1)",
           "rgba(233, 196, 106, 1)",
           "rgba(244, 162, 97, 1)",
           "rgba(42, 157, 143, 1)",
           "rgba(244, 162, 97, 1)",
           "rgba(233, 196, 106, 1)",
           "rgba(38, 70, 83, 1)"
          ],
          "label": [
           "click_auth_continue",
           "goto_auth_page",
           "show_login_password_page",
           "auto_auth_success_authorization",
           "click_auth_continue",
           "goto_auth_page",
           "auto_auth_success_authorization",
           "show_login_password_page",
           "click_auth_continue",
           "auto_auth_success_authorization",
           "show_login_password_page",
           "goto_auth_page",
           "show_login_password_page",
           "goto_auth_page",
           "click_auth_continue",
           "auto_auth_success_authorization",
           "goto_auth_page",
           "click_auth_continue",
           "show_login_password_page",
           "auto_auth_success_authorization",
           "click_auth_continue",
           "auto_auth_success_authorization",
           "show_login_password_page",
           "goto_auth_page"
          ],
          "line": {
           "color": "black",
           "width": 0.1
          },
          "pad": 50,
          "thickness": 15
         },
         "orientation": "h",
         "type": "sankey",
         "valueformat": ".0f"
        }
       ],
       "layout": {
        "font": {
         "size": 10
        },
        "height": 800,
        "template": {
         "data": {
          "bar": [
           {
            "error_x": {
             "color": "#2a3f5f"
            },
            "error_y": {
             "color": "#2a3f5f"
            },
            "marker": {
             "line": {
              "color": "#E5ECF6",
              "width": 0.5
             },
             "pattern": {
              "fillmode": "overlay",
              "size": 10,
              "solidity": 0.2
             }
            },
            "type": "bar"
           }
          ],
          "barpolar": [
           {
            "marker": {
             "line": {
              "color": "#E5ECF6",
              "width": 0.5
             },
             "pattern": {
              "fillmode": "overlay",
              "size": 10,
              "solidity": 0.2
             }
            },
            "type": "barpolar"
           }
          ],
          "carpet": [
           {
            "aaxis": {
             "endlinecolor": "#2a3f5f",
             "gridcolor": "white",
             "linecolor": "white",
             "minorgridcolor": "white",
             "startlinecolor": "#2a3f5f"
            },
            "baxis": {
             "endlinecolor": "#2a3f5f",
             "gridcolor": "white",
             "linecolor": "white",
             "minorgridcolor": "white",
             "startlinecolor": "#2a3f5f"
            },
            "type": "carpet"
           }
          ],
          "choropleth": [
           {
            "colorbar": {
             "outlinewidth": 0,
             "ticks": ""
            },
            "type": "choropleth"
           }
          ],
          "contour": [
           {
            "colorbar": {
             "outlinewidth": 0,
             "ticks": ""
            },
            "colorscale": [
             [
              0,
              "#0d0887"
             ],
             [
              0.1111111111111111,
              "#46039f"
             ],
             [
              0.2222222222222222,
              "#7201a8"
             ],
             [
              0.3333333333333333,
              "#9c179e"
             ],
             [
              0.4444444444444444,
              "#bd3786"
             ],
             [
              0.5555555555555556,
              "#d8576b"
             ],
             [
              0.6666666666666666,
              "#ed7953"
             ],
             [
              0.7777777777777778,
              "#fb9f3a"
             ],
             [
              0.8888888888888888,
              "#fdca26"
             ],
             [
              1,
              "#f0f921"
             ]
            ],
            "type": "contour"
           }
          ],
          "contourcarpet": [
           {
            "colorbar": {
             "outlinewidth": 0,
             "ticks": ""
            },
            "type": "contourcarpet"
           }
          ],
          "heatmap": [
           {
            "colorbar": {
             "outlinewidth": 0,
             "ticks": ""
            },
            "colorscale": [
             [
              0,
              "#0d0887"
             ],
             [
              0.1111111111111111,
              "#46039f"
             ],
             [
              0.2222222222222222,
              "#7201a8"
             ],
             [
              0.3333333333333333,
              "#9c179e"
             ],
             [
              0.4444444444444444,
              "#bd3786"
             ],
             [
              0.5555555555555556,
              "#d8576b"
             ],
             [
              0.6666666666666666,
              "#ed7953"
             ],
             [
              0.7777777777777778,
              "#fb9f3a"
             ],
             [
              0.8888888888888888,
              "#fdca26"
             ],
             [
              1,
              "#f0f921"
             ]
            ],
            "type": "heatmap"
           }
          ],
          "heatmapgl": [
           {
            "colorbar": {
             "outlinewidth": 0,
             "ticks": ""
            },
            "colorscale": [
             [
              0,
              "#0d0887"
             ],
             [
              0.1111111111111111,
              "#46039f"
             ],
             [
              0.2222222222222222,
              "#7201a8"
             ],
             [
              0.3333333333333333,
              "#9c179e"
             ],
             [
              0.4444444444444444,
              "#bd3786"
             ],
             [
              0.5555555555555556,
              "#d8576b"
             ],
             [
              0.6666666666666666,
              "#ed7953"
             ],
             [
              0.7777777777777778,
              "#fb9f3a"
             ],
             [
              0.8888888888888888,
              "#fdca26"
             ],
             [
              1,
              "#f0f921"
             ]
            ],
            "type": "heatmapgl"
           }
          ],
          "histogram": [
           {
            "marker": {
             "pattern": {
              "fillmode": "overlay",
              "size": 10,
              "solidity": 0.2
             }
            },
            "type": "histogram"
           }
          ],
          "histogram2d": [
           {
            "colorbar": {
             "outlinewidth": 0,
             "ticks": ""
            },
            "colorscale": [
             [
              0,
              "#0d0887"
             ],
             [
              0.1111111111111111,
              "#46039f"
             ],
             [
              0.2222222222222222,
              "#7201a8"
             ],
             [
              0.3333333333333333,
              "#9c179e"
             ],
             [
              0.4444444444444444,
              "#bd3786"
             ],
             [
              0.5555555555555556,
              "#d8576b"
             ],
             [
              0.6666666666666666,
              "#ed7953"
             ],
             [
              0.7777777777777778,
              "#fb9f3a"
             ],
             [
              0.8888888888888888,
              "#fdca26"
             ],
             [
              1,
              "#f0f921"
             ]
            ],
            "type": "histogram2d"
           }
          ],
          "histogram2dcontour": [
           {
            "colorbar": {
             "outlinewidth": 0,
             "ticks": ""
            },
            "colorscale": [
             [
              0,
              "#0d0887"
             ],
             [
              0.1111111111111111,
              "#46039f"
             ],
             [
              0.2222222222222222,
              "#7201a8"
             ],
             [
              0.3333333333333333,
              "#9c179e"
             ],
             [
              0.4444444444444444,
              "#bd3786"
             ],
             [
              0.5555555555555556,
              "#d8576b"
             ],
             [
              0.6666666666666666,
              "#ed7953"
             ],
             [
              0.7777777777777778,
              "#fb9f3a"
             ],
             [
              0.8888888888888888,
              "#fdca26"
             ],
             [
              1,
              "#f0f921"
             ]
            ],
            "type": "histogram2dcontour"
           }
          ],
          "mesh3d": [
           {
            "colorbar": {
             "outlinewidth": 0,
             "ticks": ""
            },
            "type": "mesh3d"
           }
          ],
          "parcoords": [
           {
            "line": {
             "colorbar": {
              "outlinewidth": 0,
              "ticks": ""
             }
            },
            "type": "parcoords"
           }
          ],
          "pie": [
           {
            "automargin": true,
            "type": "pie"
           }
          ],
          "scatter": [
           {
            "fillpattern": {
             "fillmode": "overlay",
             "size": 10,
             "solidity": 0.2
            },
            "type": "scatter"
           }
          ],
          "scatter3d": [
           {
            "line": {
             "colorbar": {
              "outlinewidth": 0,
              "ticks": ""
             }
            },
            "marker": {
             "colorbar": {
              "outlinewidth": 0,
              "ticks": ""
             }
            },
            "type": "scatter3d"
           }
          ],
          "scattercarpet": [
           {
            "marker": {
             "colorbar": {
              "outlinewidth": 0,
              "ticks": ""
             }
            },
            "type": "scattercarpet"
           }
          ],
          "scattergeo": [
           {
            "marker": {
             "colorbar": {
              "outlinewidth": 0,
              "ticks": ""
             }
            },
            "type": "scattergeo"
           }
          ],
          "scattergl": [
           {
            "marker": {
             "colorbar": {
              "outlinewidth": 0,
              "ticks": ""
             }
            },
            "type": "scattergl"
           }
          ],
          "scattermapbox": [
           {
            "marker": {
             "colorbar": {
              "outlinewidth": 0,
              "ticks": ""
             }
            },
            "type": "scattermapbox"
           }
          ],
          "scatterpolar": [
           {
            "marker": {
             "colorbar": {
              "outlinewidth": 0,
              "ticks": ""
             }
            },
            "type": "scatterpolar"
           }
          ],
          "scatterpolargl": [
           {
            "marker": {
             "colorbar": {
              "outlinewidth": 0,
              "ticks": ""
             }
            },
            "type": "scatterpolargl"
           }
          ],
          "scatterternary": [
           {
            "marker": {
             "colorbar": {
              "outlinewidth": 0,
              "ticks": ""
             }
            },
            "type": "scatterternary"
           }
          ],
          "surface": [
           {
            "colorbar": {
             "outlinewidth": 0,
             "ticks": ""
            },
            "colorscale": [
             [
              0,
              "#0d0887"
             ],
             [
              0.1111111111111111,
              "#46039f"
             ],
             [
              0.2222222222222222,
              "#7201a8"
             ],
             [
              0.3333333333333333,
              "#9c179e"
             ],
             [
              0.4444444444444444,
              "#bd3786"
             ],
             [
              0.5555555555555556,
              "#d8576b"
             ],
             [
              0.6666666666666666,
              "#ed7953"
             ],
             [
              0.7777777777777778,
              "#fb9f3a"
             ],
             [
              0.8888888888888888,
              "#fdca26"
             ],
             [
              1,
              "#f0f921"
             ]
            ],
            "type": "surface"
           }
          ],
          "table": [
           {
            "cells": {
             "fill": {
              "color": "#EBF0F8"
             },
             "line": {
              "color": "white"
             }
            },
            "header": {
             "fill": {
              "color": "#C8D4E3"
             },
             "line": {
              "color": "white"
             }
            },
            "type": "table"
           }
          ]
         },
         "layout": {
          "annotationdefaults": {
           "arrowcolor": "#2a3f5f",
           "arrowhead": 0,
           "arrowwidth": 1
          },
          "autotypenumbers": "strict",
          "coloraxis": {
           "colorbar": {
            "outlinewidth": 0,
            "ticks": ""
           }
          },
          "colorscale": {
           "diverging": [
            [
             0,
             "#8e0152"
            ],
            [
             0.1,
             "#c51b7d"
            ],
            [
             0.2,
             "#de77ae"
            ],
            [
             0.3,
             "#f1b6da"
            ],
            [
             0.4,
             "#fde0ef"
            ],
            [
             0.5,
             "#f7f7f7"
            ],
            [
             0.6,
             "#e6f5d0"
            ],
            [
             0.7,
             "#b8e186"
            ],
            [
             0.8,
             "#7fbc41"
            ],
            [
             0.9,
             "#4d9221"
            ],
            [
             1,
             "#276419"
            ]
           ],
           "sequential": [
            [
             0,
             "#0d0887"
            ],
            [
             0.1111111111111111,
             "#46039f"
            ],
            [
             0.2222222222222222,
             "#7201a8"
            ],
            [
             0.3333333333333333,
             "#9c179e"
            ],
            [
             0.4444444444444444,
             "#bd3786"
            ],
            [
             0.5555555555555556,
             "#d8576b"
            ],
            [
             0.6666666666666666,
             "#ed7953"
            ],
            [
             0.7777777777777778,
             "#fb9f3a"
            ],
            [
             0.8888888888888888,
             "#fdca26"
            ],
            [
             1,
             "#f0f921"
            ]
           ],
           "sequentialminus": [
            [
             0,
             "#0d0887"
            ],
            [
             0.1111111111111111,
             "#46039f"
            ],
            [
             0.2222222222222222,
             "#7201a8"
            ],
            [
             0.3333333333333333,
             "#9c179e"
            ],
            [
             0.4444444444444444,
             "#bd3786"
            ],
            [
             0.5555555555555556,
             "#d8576b"
            ],
            [
             0.6666666666666666,
             "#ed7953"
            ],
            [
             0.7777777777777778,
             "#fb9f3a"
            ],
            [
             0.8888888888888888,
             "#fdca26"
            ],
            [
             1,
             "#f0f921"
            ]
           ]
          },
          "colorway": [
           "#636efa",
           "#EF553B",
           "#00cc96",
           "#ab63fa",
           "#FFA15A",
           "#19d3f3",
           "#FF6692",
           "#B6E880",
           "#FF97FF",
           "#FECB52"
          ],
          "font": {
           "color": "#2a3f5f"
          },
          "geo": {
           "bgcolor": "white",
           "lakecolor": "white",
           "landcolor": "#E5ECF6",
           "showlakes": true,
           "showland": true,
           "subunitcolor": "white"
          },
          "hoverlabel": {
           "align": "left"
          },
          "hovermode": "closest",
          "mapbox": {
           "style": "light"
          },
          "paper_bgcolor": "white",
          "plot_bgcolor": "#E5ECF6",
          "polar": {
           "angularaxis": {
            "gridcolor": "white",
            "linecolor": "white",
            "ticks": ""
           },
           "bgcolor": "#E5ECF6",
           "radialaxis": {
            "gridcolor": "white",
            "linecolor": "white",
            "ticks": ""
           }
          },
          "scene": {
           "xaxis": {
            "backgroundcolor": "#E5ECF6",
            "gridcolor": "white",
            "gridwidth": 2,
            "linecolor": "white",
            "showbackground": true,
            "ticks": "",
            "zerolinecolor": "white"
           },
           "yaxis": {
            "backgroundcolor": "#E5ECF6",
            "gridcolor": "white",
            "gridwidth": 2,
            "linecolor": "white",
            "showbackground": true,
            "ticks": "",
            "zerolinecolor": "white"
           },
           "zaxis": {
            "backgroundcolor": "#E5ECF6",
            "gridcolor": "white",
            "gridwidth": 2,
            "linecolor": "white",
            "showbackground": true,
            "ticks": "",
            "zerolinecolor": "white"
           }
          },
          "shapedefaults": {
           "line": {
            "color": "#2a3f5f"
           }
          },
          "ternary": {
           "aaxis": {
            "gridcolor": "white",
            "linecolor": "white",
            "ticks": ""
           },
           "baxis": {
            "gridcolor": "white",
            "linecolor": "white",
            "ticks": ""
           },
           "bgcolor": "#E5ECF6",
           "caxis": {
            "gridcolor": "white",
            "linecolor": "white",
            "ticks": ""
           }
          },
          "title": {
           "x": 0.05
          },
          "xaxis": {
           "automargin": true,
           "gridcolor": "white",
           "linecolor": "white",
           "ticks": "",
           "title": {
            "standoff": 15
           },
           "zerolinecolor": "white",
           "zerolinewidth": 2
          },
          "yaxis": {
           "automargin": true,
           "gridcolor": "white",
           "linecolor": "white",
           "ticks": "",
           "title": {
            "standoff": 15
           },
           "zerolinecolor": "white",
           "zerolinewidth": 2
          }
         }
        },
        "title": {
         "text": "Потоки по ивентам главной страниц (минимум 50 человек между узлами) за 3 месяца"
        },
        "width": 1500
       }
      },
      "image/png": "[encoded data removed]",
      "text/html": [
       "<div>                            <div id=\"967ca864-84c1-4849-b0ef-13f81d56a1ad\" class=\"plotly-graph-div\" style=\"height:800px; width:1500px;\"></div>            <script type=\"text/javascript\">                require([\"plotly\"], function(Plotly) {                    window.PLOTLYENV=window.PLOTLYENV || {};                                    if (document.getElementById(\"967ca864-84c1-4849-b0ef-13f81d56a1ad\")) {                    Plotly.newPlot(                        \"967ca864-84c1-4849-b0ef-13f81d56a1ad\",                        [{\"domain\":{\"x\":[0,1],\"y\":[0,1]},\"link\":{\"color\":[\"rgba(42, 157, 143, 0.2)\",\"rgba(42, 157, 143, 0.2)\",\"rgba(42, 157, 143, 0.2)\",\"rgba(38, 70, 83, 0.2)\",\"rgba(38, 70, 83, 0.2)\",\"rgba(38, 70, 83, 0.2)\",\"rgba(233, 196, 106, 0.2)\",\"rgba(233, 196, 106, 0.2)\",\"rgba(233, 196, 106, 0.2)\",\"rgba(244, 162, 97, 0.2)\",\"rgba(244, 162, 97, 0.2)\",\"rgba(244, 162, 97, 0.2)\",\"rgba(42, 157, 143, 0.2)\",\"rgba(42, 157, 143, 0.2)\",\"rgba(42, 157, 143, 0.2)\",\"rgba(38, 70, 83, 0.2)\",\"rgba(38, 70, 83, 0.2)\",\"rgba(38, 70, 83, 0.2)\",\"rgba(244, 162, 97, 0.2)\",\"rgba(244, 162, 97, 0.2)\",\"rgba(244, 162, 97, 0.2)\",\"rgba(233, 196, 106, 0.2)\",\"rgba(233, 196, 106, 0.2)\",\"rgba(233, 196, 106, 0.2)\",\"rgba(42, 157, 143, 0.2)\",\"rgba(42, 157, 143, 0.2)\",\"rgba(42, 157, 143, 0.2)\",\"rgba(244, 162, 97, 0.2)\",\"rgba(244, 162, 97, 0.2)\",\"rgba(244, 162, 97, 0.2)\",\"rgba(233, 196, 106, 0.2)\",\"rgba(233, 196, 106, 0.2)\",\"rgba(233, 196, 106, 0.2)\",\"rgba(38, 70, 83, 0.2)\",\"rgba(38, 70, 83, 0.2)\",\"rgba(38, 70, 83, 0.2)\",\"rgba(233, 196, 106, 0.2)\",\"rgba(233, 196, 106, 0.2)\",\"rgba(38, 70, 83, 0.2)\",\"rgba(42, 157, 143, 0.2)\",\"rgba(42, 157, 143, 0.2)\",\"rgba(42, 157, 143, 0.2)\",\"rgba(244, 162, 97, 0.2)\",\"rgba(244, 162, 97, 0.2)\",\"rgba(244, 162, 97, 0.2)\",\"rgba(38, 70, 83, 0.2)\",\"rgba(38, 70, 83, 0.2)\",\"rgba(42, 157, 143, 0.2)\",\"rgba(42, 157, 143, 0.2)\",\"rgba(233, 196, 106, 0.2)\",\"rgba(244, 162, 97, 0.2)\"],\"label\":[\"38.8%\",\"22.1%\",\"39.1%\",\"69.1%\",\"18.9%\",\"12.0%\",\"54.4%\",\"10.6%\",\"35.1%\",\"38.4%\",\"19.1%\",\"42.5%\",\"42.3%\",\"41.8%\",\"15.9%\",\"32.9%\",\"29.4%\",\"37.6%\",\"45.0%\",\"38.5%\",\"16.5%\",\"42.7%\",\"43.7%\",\"13.6%\",\"38.3%\",\"37.7%\",\"24.1%\",\"33.8%\",\"27.2%\",\"39.1%\",\"24.2%\",\"42.7%\",\"33.1%\",\"31.0%\",\"38.0%\",\"31.0%\",\"79.4%\",\"20.6%\",\"100.0%\",\"23.3%\",\"63.3%\",\"13.3%\",\"34.8%\",\"34.8%\",\"30.4%\",\"56.2%\",\"43.8%\",\"52.6%\",\"47.4%\",\"100.0%\",\"100.0%\"],\"source\":[0,0,0,1,1,1,2,2,2,3,3,3,4,4,4,5,5,5,6,6,6,7,7,7,8,8,8,9,9,9,10,10,10,11,11,11,12,12,13,14,14,14,15,15,15,16,16,17,17,18,19],\"target\":[5,6,7,4,6,7,4,5,6,4,5,7,9,10,11,8,9,10,8,10,11,8,9,11,12,13,15,12,13,14,13,14,15,12,14,15,17,19,17,16,18,19,16,17,18,20,21,22,23,20,20],\"value\":[272,155,274,299,82,52,262,51,169,167,83,185,165,163,62,56,50,64,161,138,59,163,167,52,62,61,39,51,41,59,43,76,59,44,54,44,27,7,7,14,38,8,8,8,7,9,7,10,9,15,6]},\"node\":{\"color\":[\"rgba(42, 157, 143, 1)\",\"rgba(38, 70, 83, 1)\",\"rgba(233, 196, 106, 1)\",\"rgba(244, 162, 97, 1)\",\"rgba(42, 157, 143, 1)\",\"rgba(38, 70, 83, 1)\",\"rgba(244, 162, 97, 1)\",\"rgba(233, 196, 106, 1)\",\"rgba(42, 157, 143, 1)\",\"rgba(244, 162, 97, 1)\",\"rgba(233, 196, 106, 1)\",\"rgba(38, 70, 83, 1)\",\"rgba(233, 196, 106, 1)\",\"rgba(38, 70, 83, 1)\",\"rgba(42, 157, 143, 1)\",\"rgba(244, 162, 97, 1)\",\"rgba(38, 70, 83, 1)\",\"rgba(42, 157, 143, 1)\",\"rgba(233, 196, 106, 1)\",\"rgba(244, 162, 97, 1)\",\"rgba(42, 157, 143, 1)\",\"rgba(244, 162, 97, 1)\",\"rgba(233, 196, 106, 1)\",\"rgba(38, 70, 83, 1)\"],\"label\":[\"click_auth_continue\",\"goto_auth_page\",\"show_login_password_page\",\"auto_auth_success_authorization\",\"click_auth_continue\",\"goto_auth_page\",\"auto_auth_success_authorization\",\"show_login_password_page\",\"click_auth_continue\",\"auto_auth_success_authorization\",\"show_login_password_page\",\"goto_auth_page\",\"show_login_password_page\",\"goto_auth_page\",\"click_auth_continue\",\"auto_auth_success_authorization\",\"goto_auth_page\",\"click_auth_continue\",\"show_login_password_page\",\"auto_auth_success_authorization\",\"click_auth_continue\",\"auto_auth_success_authorization\",\"show_login_password_page\",\"goto_auth_page\"],\"line\":{\"color\":\"black\",\"width\":0.1},\"pad\":50,\"thickness\":15},\"orientation\":\"h\",\"valueformat\":\".0f\",\"type\":\"sankey\"}],                        {\"template\":{\"data\":{\"histogram2dcontour\":[{\"type\":\"histogram2dcontour\",\"colorbar\":{\"outlinewidth\":0,\"ticks\":\"\"},\"colorscale\":[[0.0,\"#0d0887\"],[0.1111111111111111,\"#46039f\"],[0.2222222222222222,\"#7201a8\"],[0.3333333333333333,\"#9c179e\"],[0.4444444444444444,\"#bd3786\"],[0.5555555555555556,\"#d8576b\"],[0.6666666666666666,\"#ed7953\"],[0.7777777777777778,\"#fb9f3a\"],[0.8888888888888888,\"#fdca26\"],[1.0,\"#f0f921\"]]}],\"choropleth\":[{\"type\":\"choropleth\",\"colorbar\":{\"outlinewidth\":0,\"ticks\":\"\"}}],\"histogram2d\":[{\"type\":\"histogram2d\",\"colorbar\":{\"outlinewidth\":0,\"ticks\":\"\"},\"colorscale\":[[0.0,\"#0d0887\"],[0.1111111111111111,\"#46039f\"],[0.2222222222222222,\"#7201a8\"],[0.3333333333333333,\"#9c179e\"],[0.4444444444444444,\"#bd3786\"],[0.5555555555555556,\"#d8576b\"],[0.6666666666666666,\"#ed7953\"],[0.7777777777777778,\"#fb9f3a\"],[0.8888888888888888,\"#fdca26\"],[1.0,\"#f0f921\"]]}],\"heatmap\":[{\"type\":\"heatmap\",\"colorbar\":{\"outlinewidth\":0,\"ticks\":\"\"},\"colorscale\":[[0.0,\"#0d0887\"],[0.1111111111111111,\"#46039f\"],[0.2222222222222222,\"#7201a8\"],[0.3333333333333333,\"#9c179e\"],[0.4444444444444444,\"#bd3786\"],[0.5555555555555556,\"#d8576b\"],[0.6666666666666666,\"#ed7953\"],[0.7777777777777778,\"#fb9f3a\"],[0.8888888888888888,\"#fdca26\"],[1.0,\"#f0f921\"]]}],\"heatmapgl\":[{\"type\":\"heatmapgl\",\"colorbar\":{\"outlinewidth\":0,\"ticks\":\"\"},\"colorscale\":[[0.0,\"#0d0887\"],[0.1111111111111111,\"#46039f\"],[0.2222222222222222,\"#7201a8\"],[0.3333333333333333,\"#9c179e\"],[0.4444444444444444,\"#bd3786\"],[0.5555555555555556,\"#d8576b\"],[0.6666666666666666,\"#ed7953\"],[0.7777777777777778,\"#fb9f3a\"],[0.8888888888888888,\"#fdca26\"],[1.0,\"#f0f921\"]]}],\"contourcarpet\":[{\"type\":\"contourcarpet\",\"colorbar\":{\"outlinewidth\":0,\"ticks\":\"\"}}],\"contour\":[{\"type\":\"contour\",\"colorbar\":{\"outlinewidth\":0,\"ticks\":\"\"},\"colorscale\":[[0.0,\"#0d0887\"],[0.1111111111111111,\"#46039f\"],[0.2222222222222222,\"#7201a8\"],[0.3333333333333333,\"#9c179e\"],[0.4444444444444444,\"#bd3786\"],[0.5555555555555556,\"#d8576b\"],[0.6666666666666666,\"#ed7953\"],[0.7777777777777778,\"#fb9f3a\"],[0.8888888888888888,\"#fdca26\"],[1.0,\"#f0f921\"]]}],\"surface\":[{\"type\":\"surface\",\"colorbar\":{\"outlinewidth\":0,\"ticks\":\"\"},\"colorscale\":[[0.0,\"#0d0887\"],[0.1111111111111111,\"#46039f\"],[0.2222222222222222,\"#7201a8\"],[0.3333333333333333,\"#9c179e\"],[0.4444444444444444,\"#bd3786\"],[0.5555555555555556,\"#d8576b\"],[0.6666666666666666,\"#ed7953\"],[0.7777777777777778,\"#fb9f3a\"],[0.8888888888888888,\"#fdca26\"],[1.0,\"#f0f921\"]]}],\"mesh3d\":[{\"type\":\"mesh3d\",\"colorbar\":{\"outlinewidth\":0,\"ticks\":\"\"}}],\"scatter\":[{\"fillpattern\":{\"fillmode\":\"overlay\",\"size\":10,\"solidity\":0.2},\"type\":\"scatter\"}],\"parcoords\":[{\"type\":\"parcoords\",\"line\":{\"colorbar\":{\"outlinewidth\":0,\"ticks\":\"\"}}}],\"scatterpolargl\":[{\"type\":\"scatterpolargl\",\"marker\":{\"colorbar\":{\"outlinewidth\":0,\"ticks\":\"\"}}}],\"bar\":[{\"error_x\":{\"color\":\"#2a3f5f\"},\"error_y\":{\"color\":\"#2a3f5f\"},\"marker\":{\"line\":{\"color\":\"#E5ECF6\",\"width\":0.5},\"pattern\":{\"fillmode\":\"overlay\",\"size\":10,\"solidity\":0.2}},\"type\":\"bar\"}],\"scattergeo\":[{\"type\":\"scattergeo\",\"marker\":{\"colorbar\":{\"outlinewidth\":0,\"ticks\":\"\"}}}],\"scatterpolar\":[{\"type\":\"scatterpolar\",\"marker\":{\"colorbar\":{\"outlinewidth\":0,\"ticks\":\"\"}}}],\"histogram\":[{\"marker\":{\"pattern\":{\"fillmode\":\"overlay\",\"size\":10,\"solidity\":0.2}},\"type\":\"histogram\"}],\"scattergl\":[{\"type\":\"scattergl\",\"marker\":{\"colorbar\":{\"outlinewidth\":0,\"ticks\":\"\"}}}],\"scatter3d\":[{\"type\":\"scatter3d\",\"line\":{\"colorbar\":{\"outlinewidth\":0,\"ticks\":\"\"}},\"marker\":{\"colorbar\":{\"outlinewidth\":0,\"ticks\":\"\"}}}],\"scattermapbox\":[{\"type\":\"scattermapbox\",\"marker\":{\"colorbar\":{\"outlinewidth\":0,\"ticks\":\"\"}}}],\"scatterternary\":[{\"type\":\"scatterternary\",\"marker\":{\"colorbar\":{\"outlinewidth\":0,\"ticks\":\"\"}}}],\"scattercarpet\":[{\"type\":\"scattercarpet\",\"marker\":{\"colorbar\":{\"outlinewidth\":0,\"ticks\":\"\"}}}],\"carpet\":[{\"aaxis\":{\"endlinecolor\":\"#2a3f5f\",\"gridcolor\":\"white\",\"linecolor\":\"white\",\"minorgridcolor\":\"white\",\"startlinecolor\":\"#2a3f5f\"},\"baxis\":{\"endlinecolor\":\"#2a3f5f\",\"gridcolor\":\"white\",\"linecolor\":\"white\",\"minorgridcolor\":\"white\",\"startlinecolor\":\"#2a3f5f\"},\"type\":\"carpet\"}],\"table\":[{\"cells\":{\"fill\":{\"color\":\"#EBF0F8\"},\"line\":{\"color\":\"white\"}},\"header\":{\"fill\":{\"color\":\"#C8D4E3\"},\"line\":{\"color\":\"white\"}},\"type\":\"table\"}],\"barpolar\":[{\"marker\":{\"line\":{\"color\":\"#E5ECF6\",\"width\":0.5},\"pattern\":{\"fillmode\":\"overlay\",\"size\":10,\"solidity\":0.2}},\"type\":\"barpolar\"}],\"pie\":[{\"automargin\":true,\"type\":\"pie\"}]},\"layout\":{\"autotypenumbers\":\"strict\",\"colorway\":[\"#636efa\",\"#EF553B\",\"#00cc96\",\"#ab63fa\",\"#FFA15A\",\"#19d3f3\",\"#FF6692\",\"#B6E880\",\"#FF97FF\",\"#FECB52\"],\"font\":{\"color\":\"#2a3f5f\"},\"hovermode\":\"closest\",\"hoverlabel\":{\"align\":\"left\"},\"paper_bgcolor\":\"white\",\"plot_bgcolor\":\"#E5ECF6\",\"polar\":{\"bgcolor\":\"#E5ECF6\",\"angularaxis\":{\"gridcolor\":\"white\",\"linecolor\":\"white\",\"ticks\":\"\"},\"radialaxis\":{\"gridcolor\":\"white\",\"linecolor\":\"white\",\"ticks\":\"\"}},\"ternary\":{\"bgcolor\":\"#E5ECF6\",\"aaxis\":{\"gridcolor\":\"white\",\"linecolor\":\"white\",\"ticks\":\"\"},\"baxis\":{\"gridcolor\":\"white\",\"linecolor\":\"white\",\"ticks\":\"\"},\"caxis\":{\"gridcolor\":\"white\",\"linecolor\":\"white\",\"ticks\":\"\"}},\"coloraxis\":{\"colorbar\":{\"outlinewidth\":0,\"ticks\":\"\"}},\"colorscale\":{\"sequential\":[[0.0,\"#0d0887\"],[0.1111111111111111,\"#46039f\"],[0.2222222222222222,\"#7201a8\"],[0.3333333333333333,\"#9c179e\"],[0.4444444444444444,\"#bd3786\"],[0.5555555555555556,\"#d8576b\"],[0.6666666666666666,\"#ed7953\"],[0.7777777777777778,\"#fb9f3a\"],[0.8888888888888888,\"#fdca26\"],[1.0,\"#f0f921\"]],\"sequentialminus\":[[0.0,\"#0d0887\"],[0.1111111111111111,\"#46039f\"],[0.2222222222222222,\"#7201a8\"],[0.3333333333333333,\"#9c179e\"],[0.4444444444444444,\"#bd3786\"],[0.5555555555555556,\"#d8576b\"],[0.6666666666666666,\"#ed7953\"],[0.7777777777777778,\"#fb9f3a\"],[0.8888888888888888,\"#fdca26\"],[1.0,\"#f0f921\"]],\"diverging\":[[0,\"#8e0152\"],[0.1,\"#c51b7d\"],[0.2,\"#de77ae\"],[0.3,\"#f1b6da\"],[0.4,\"#fde0ef\"],[0.5,\"#f7f7f7\"],[0.6,\"#e6f5d0\"],[0.7,\"#b8e186\"],[0.8,\"#7fbc41\"],[0.9,\"#4d9221\"],[1,\"#276419\"]]},\"xaxis\":{\"gridcolor\":\"white\",\"linecolor\":\"white\",\"ticks\":\"\",\"title\":{\"standoff\":15},\"zerolinecolor\":\"white\",\"automargin\":true,\"zerolinewidth\":2},\"yaxis\":{\"gridcolor\":\"white\",\"linecolor\":\"white\",\"ticks\":\"\",\"title\":{\"standoff\":15},\"zerolinecolor\":\"white\",\"automargin\":true,\"zerolinewidth\":2},\"scene\":{\"xaxis\":{\"backgroundcolor\":\"#E5ECF6\",\"gridcolor\":\"white\",\"linecolor\":\"white\",\"showbackground\":true,\"ticks\":\"\",\"zerolinecolor\":\"white\",\"gridwidth\":2},\"yaxis\":{\"backgroundcolor\":\"#E5ECF6\",\"gridcolor\":\"white\",\"linecolor\":\"white\",\"showbackground\":true,\"ticks\":\"\",\"zerolinecolor\":\"white\",\"gridwidth\":2},\"zaxis\":{\"backgroundcolor\":\"#E5ECF6\",\"gridcolor\":\"white\",\"linecolor\":\"white\",\"showbackground\":true,\"ticks\":\"\",\"zerolinecolor\":\"white\",\"gridwidth\":2}},\"shapedefaults\":{\"line\":{\"color\":\"#2a3f5f\"}},\"annotationdefaults\":{\"arrowcolor\":\"#2a3f5f\",\"arrowhead\":0,\"arrowwidth\":1},\"geo\":{\"bgcolor\":\"white\",\"landcolor\":\"#E5ECF6\",\"subunitcolor\":\"white\",\"showland\":true,\"showlakes\":true,\"lakecolor\":\"white\"},\"title\":{\"x\":0.05},\"mapbox\":{\"style\":\"light\"}}},\"title\":{\"text\":\"\\u041f\\u043e\\u0442\\u043e\\u043a\\u0438 \\u043f\\u043e \\u0438\\u0432\\u0435\\u043d\\u0442\\u0430\\u043c \\u0433\\u043b\\u0430\\u0432\\u043d\\u043e\\u0439 \\u0441\\u0442\\u0440\\u0430\\u043d\\u0438\\u0446 (\\u043c\\u0438\\u043d\\u0438\\u043c\\u0443\\u043c 50 \\u0447\\u0435\\u043b\\u043e\\u0432\\u0435\\u043a \\u043c\\u0435\\u0436\\u0434\\u0443 \\u0443\\u0437\\u043b\\u0430\\u043c\\u0438) \\u0437\\u0430 3 \\u043c\\u0435\\u0441\\u044f\\u0446\\u0430\"},\"font\":{\"size\":10},\"width\":1500,\"height\":800},                        {\"responsive\": true}                    ).then(function(){\n",
       "                            \n",
       "var gd = document.getElementById('967ca864-84c1-4849-b0ef-13f81d56a1ad');\n",
       "var x = new MutationObserver(function (mutations, observer) {{\n",
       "        var display = window.getComputedStyle(gd).display;\n",
       "        if (!display || display === 'none') {{\n",
       "            console.log([gd, 'removed!']);\n",
       "            Plotly.purge(gd);\n",
       "            observer.disconnect();\n",
       "        }}\n",
       "}});\n",
       "\n",
       "// Listen for the removal of the full notebook cells\n",
       "var notebookContainer = gd.closest('#notebook-container');\n",
       "if (notebookContainer) {{\n",
       "    x.observe(notebookContainer, {childList: true});\n",
       "}}\n",
       "\n",
       "// Listen for the clearing of the current output cell\n",
       "var outputEl = gd.closest('.output');\n",
       "if (outputEl) {{\n",
       "    x.observe(outputEl, {childList: true});\n",
       "}}\n",
       "\n",
       "                        })                };                });            </script>        </div>"
      ]
     },
     "metadata": {},
     "output_type": "display_data"
    }
   ],
   "source": [
    "# Ставим ограничение на число шагов в сценарии\n",
    "df_comp = df_add[(df_add['step']<7].copy().reset_index(drop=True)\n",
    "\n",
    "# создаем словарь\n",
    "source_indexes = get_source_index(df_comp) # 2-ая функция\n",
    "\n",
    "# генерю цвета из своего списка\n",
    "colors_dict = colors_for_sources(mode='custom') # 3-ая функция\n",
    "\n",
    " \n",
    "data_for_plot = lists_for_plot(source_indexes,colors_dict, frac = 5)  # 4-ая функция. Задаем число пользователей \n",
    "\n",
    "# Рисуем график\n",
    "senkey_diagram = plot_senkey_diagram(data_for_plot,file_name=\"sankey_diagram_main_events.html\", chart_name = 'Потоки по ивентам главной страниц (минимум 50 человек между узлами) за 3 месяца') # финальная 5-ая функция "
   ]
  },
  {
   "cell_type": "code",
   "execution_count": null,
   "id": "031b1fe7-507d-4797-9ba2-ff9b9e2394a8",
   "metadata": {
    "tags": []
   },
   "outputs": [],
   "source": [
    "# Ставим ограничение на число шагов в сценарии\n",
    "df_comp = df_add[df_add['step']<7].copy().reset_index(drop=True)\n",
    "\n",
    "# создаем словарь\n",
    "source_indexes = get_source_index(df_comp) # 2-ая функция\n",
    "\n",
    "# генерю цвета из своего списка\n",
    "colors_dict = colors_for_sources(mode='custom') # 3-ая функция\n",
    "\n",
    " \n",
    "data_for_plot = lists_for_plot(source_indexes,colors_dict, frac = 50)  # 4-ая функция. Задаем число пользователей \n",
    "\n",
    "# Рисуем график\n",
    "senkey_diagram = plot_senkey_diagram(data_for_plot,file_name=\"sankey_diagram_all_events.html\", chart_name = 'Потоки по всем ивентам (минимум 50 человек между узлами) за 3 месяца') # финальная 5-ая функция "
   ]
  },
  {
   "cell_type": "code",
   "execution_count": null,
   "id": "cef33022-c43d-42ca-aa8f-2708537242e7",
   "metadata": {
    "tags": []
   },
   "outputs": [],
   "source": [
    "df_comp['source'].unique()"
   ]
  },
  {
   "cell_type": "code",
   "execution_count": null,
   "id": "be44bc5b-e989-42e6-af94-9e1baea6819d",
   "metadata": {
    "tags": []
   },
   "outputs": [],
   "source": [
    "scenario = ['show_subscribe_offer_page','goto_main_page','goto_tv_page']\n",
    "\n",
    "\n",
    "sorter = pd.DataFrame({'source':scenario,'key':range(len(scenario))})\n",
    "\n",
    "\n",
    "test = df_comp[(df_comp['source']== sorter.iloc[0,0]) & (df_comp['step']==1)]['profile_id'].unique()\n",
    "u = df_comp[df_comp['profile_id'].isin(test)]\n",
    "\n",
    "values=[]\n",
    "values.append(test.shape[0])\n",
    "for i in sorter['source'].unique()[1:]:\n",
    "    test = u[u['source']==i].profile_id.unique()\n",
    "    u = u[u['profile_id'].isin(test)]\n",
    "    values.append(test.shape[0])\n",
    "    \n",
    "sorter['profile_id'] = values\n",
    "sorter = sorter[sorter['profile_id']>0]\n",
    "\n",
    "#Построим воронку по сценарию с учетом перехода от одного действия к следующему\n",
    "fig2 = go.Figure()\n",
    "fig2.add_trace(go.Funnel(\n",
    "y=sorter['source'],\n",
    "    x=sorter['profile_id'],\n",
    "    textinfo='value+percent initial'\n",
    "))\n",
    "fig2.update_layout(title_text='Воронка по сценарию')\n",
    "fig2.show()"
   ]
  },
  {
   "cell_type": "code",
   "execution_count": null,
   "id": "d7f6f648-b49b-4efb-bd84-53fc83fe1937",
   "metadata": {},
   "outputs": [],
   "source": []
  }
 ],
 "metadata": {
  "kernelspec": {
   "display_name": "Python 3 (ipykernel)",
   "language": "python",
   "name": "python3"
  },
  "language_info": {
   "codemirror_mode": {
    "name": "ipython",
    "version": 3
   },
   "file_extension": ".py",
   "mimetype": "text/x-python",
   "name": "python",
   "nbconvert_exporter": "python",
   "pygments_lexer": "ipython3",
   "version": "3.11.7"
  }
 },
 "nbformat": 4,
 "nbformat_minor": 5
}
