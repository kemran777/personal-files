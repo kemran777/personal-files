{
 "cells": [
  {
   "cell_type": "code",
   "execution_count": 3,
   "id": "befeb2dc-3c45-4976-ba3d-1958e4cdc7c2",
   "metadata": {
    "tags": []
   },
   "outputs": [],
   "source": [
    "import pandas as pd\n",
    "import psycopg2\n",
    "import matplotlib.pyplot as plt\n",
    "import matplotlib.ticker as ticker\n",
    "import numpy as np\n",
    "import seaborn as sns \n",
    "import statsmodels .stats.proportion as proportion\n",
    "from scipy.stats import ttest_ind,mannwhitneyu,shapiro,norm\n",
    "from statsmodels.stats.weightstats import ztest\n",
    "from tqdm import tqdm\n",
    "import timeit\n",
    "from scipy import stats\n",
    "import math\n",
    "from datetime import date, datetime, timedelta\n",
    "import time\n",
    "from sqlalchemy import create_engine, text\n",
    "from sqlalchemy.orm import sessionmaker\n",
    "import warnings\n",
    "warnings.filterwarnings(\"ignore\")\n",
    "\n",
    "from credential import postgres_secret,clickhouse_dwh_secret\n",
    "\n",
    "def get_engine(user):\n",
    "    if user == postgres_secret['user']:\n",
    "        db_name = postgres_secret['db_name']\n",
    "        password = postgres_secret['password']\n",
    "        host = postgres_secret['host']\n",
    "        engine = create_engine(f'postgresql://{user}:{password}@{host}:6432/{db_name}')\n",
    "    elif user == clickhouse_dwh_secret['user']:\n",
    "            db_name = clickhouse_dwh_secret['db_name'] \n",
    "            password = clickhouse_dwh_secret['password']\n",
    "            host = clickhouse_dwh_secret['host']\n",
    "            engine = create_engine(f'clickhouse://{user}:{password}@{host}:8123/{db_name}')\n",
    "    return engine\n",
    "    \n",
    "\n",
    "    \n",
    "def execute(SQL, user):\n",
    "    start_time = time.time()  # запоминаем время начала выполнения функции\n",
    "    engine = get_engine(user)\n",
    "    Session = sessionmaker(bind=engine)  # sessions factory ()\n",
    "    with Session() as session: # open session\n",
    "        result = session.execute(text(SQL))\n",
    "        df = pd.DataFrame(result.fetchall(), columns=result.keys())\n",
    "        \n",
    "    end_time = time.time()  # запоминаем время окончания выполнения функции\n",
    "    execution_time = round(end_time - start_time,4) # вычисляем время выполнения   \n",
    "    \n",
    "    print(f\"Время выполнения функции: {execution_time} секунд\")\n",
    "    print()\n",
    "    return df"
   ]
  },
  {
   "cell_type": "code",
   "execution_count": 94,
   "id": "88eb4d42-6e32-4487-a11f-ed747fe52a12",
   "metadata": {
    "tags": []
   },
   "outputs": [
    {
     "name": "stdout",
     "output_type": "stream",
     "text": [
      "Время выполнения функции: 0.5715 секунд\n",
      "\n",
      "Дата '2024-09-01' загружена\n",
      "\n",
      "Время выполнения функции: 0.5909 секунд\n",
      "\n",
      "Дата '2024-10-01' загружена\n",
      "\n",
      "Время выполнения функции: 0.5489 секунд\n",
      "\n",
      "Дата '2024-11-01' загружена\n",
      "\n",
      "Время выполнения функции: 0.5499 секунд\n",
      "\n",
      "Дата '2024-12-01' загружена\n",
      "\n",
      "Время выполнения функции: 0.6723 секунд\n",
      "\n",
      "Дата '2025-01-01' загружена\n",
      "\n",
      "Время выполнения функции: 0.5657 секунд\n",
      "\n",
      "Дата '2025-02-01' загружена\n",
      "\n",
      "Время выполнения функции: 0.6351 секунд\n",
      "\n",
      "Дата '2025-03-01' загружена\n",
      "\n",
      "Время выполнения функции: 0.5525 секунд\n",
      "\n",
      "Дата '2025-04-01' загружена\n",
      "\n",
      "Время выполнения функции: 0.5413 секунд\n",
      "\n",
      "Дата '2025-05-01' загружена\n",
      "\n"
     ]
    }
   ],
   "source": [
    "list_date = pd.date_range(\"2024-09-01\", \"2025-05-01\", freq='MS',normalize=True)\n",
    "result = []\n",
    "for date in list_date:\n",
    "    date_str = date.strftime('%Y-%m-%d')\n",
    "    query = f'''\n",
    "            SELECT \n",
    "                '{date_str}' AS trial_month,\n",
    "                paid_date,\n",
    "                t1.user_id AS user_id,\n",
    "                t1.subscription_id AS subscription_id,\n",
    "                t2.created_at::date AS created_date,\n",
    "                t2.first_prolong_date::date AS first_prolong_date,\n",
    "                t1.reg_source AS reg_source,\n",
    "                t1.reg_medium AS reg_medium,\n",
    "                t1.bonus_title AS bonus_title,\n",
    "                t1.free_days AS free_days,\n",
    "                b2b_b2c,\n",
    "                t2.offer_duration,\n",
    "                payment\n",
    "                FROM datamarts.finance AS t1\n",
    "                INNER JOIN (SELECT \n",
    "                           user_id,\n",
    "                           first_prolong_date::date AS first_prolong_date,\n",
    "                           created_at::date AS created_at,\n",
    "                           promo_type,\n",
    "                           offer_duration\n",
    "                           FROM datamarts.marketing_dash\n",
    "                           WHERE DATE_TRUNC('month', first_prolong_date)='{date_str}'\n",
    "                           ) AS t2 \n",
    "                        ON t1.user_id=t2.user_id\n",
    "                WHERE paid_date BETWEEN '{date_str}' AND '2025-05-31'\n",
    " \n",
    "            '''\n",
    "    df_temp = execute(query,user = 'kmekhtiev')   \n",
    "    result.append(df_temp)\n",
    "    print(f\"\"\"Дата '{date_str}' загружена\"\"\")\n",
    "    print()\n",
    "\n",
    "df = pd.concat(result)\n",
    "df['paid_date'] = df['paid_date'].astype('datetime64[ns]')\n",
    "df['trial_month'] = df['trial_month'].astype('datetime64[ns]')\n",
    "df['payment'] = df['payment'].astype('int32')"
   ]
  },
  {
   "cell_type": "code",
   "execution_count": null,
   "id": "cd283380-a641-4923-bb9c-4b8332bc99bc",
   "metadata": {},
   "outputs": [],
   "source": [
    "# t = df[df['bonus_title'].str.contains('lockto',case=False)].groupby(['bonus_title','reg_medium','reg_source'])['user_id'].nunique().reset_index()\n",
    "# pivot_table = pd.pivot(data=t,index=['reg_source','reg_medium'],columns='bonus_title',values='user_id').fillna(0)\n",
    "\n",
    "# pivot_table = pivot_table.astype(int) \n",
    "# def highlight_non_zero(val):  \n",
    "#     # Выделяем все значения, которые не равны нулю  \n",
    "#     return 'background-color: lightgreen' if val != 0 else ''  \n",
    "\n",
    "# # Применение стиля к сводной таблице  \n",
    "# styled_pivot = pivot_table.style.applymap(highlight_non_zero)  \n",
    "\n",
    "# # Для отображения в Jupyter Notebook  \n",
    "# styled_pivot"
   ]
  },
  {
   "cell_type": "code",
   "execution_count": null,
   "id": "7c00ea5f-338f-423a-ae56-60877054268c",
   "metadata": {},
   "outputs": [],
   "source": [
    "# Flocktory оставляем только\n",
    "# df = df[df['bonus_title'].str.contains('lockto',case=False)]\n",
    "# df['bonus_title2'] = df['bonus_title'].str.split(' ', expand=True)[1]\n",
    "# df = df[df['bonus_title2'].isin(['BSP','Exchange'])]"
   ]
  },
  {
   "cell_type": "code",
   "execution_count": null,
   "id": "9fec0b3b-2d2f-4e1c-a798-c96fd9853dd6",
   "metadata": {
    "scrolled": true
   },
   "outputs": [],
   "source": [
    "# query = f'''            SELECT\n",
    "#                         date_trunc('month',created_at::date) AS trial_month,\n",
    "#                         free_days,\n",
    "#                         reg_source,\n",
    "#                         reg_medium,\n",
    "#                         first_prolong_date,\n",
    "#                         bonus_title,\n",
    "#                         user_id\n",
    "#                         FROM datamarts.marketing_dash\n",
    "#                         WHERE bonus_title like '%lockto%'\n",
    "#                         AND created_at BETWEEN '2023-12-01' AND '2025-01-01'\n",
    "#             '''\n",
    "# df_flocktory = execute(query,user = 'kmekhtiev')   \n",
    "# df_flocktory['trial_month'] = df_flocktory['trial_month'].astype('datetime64[ns]')"
   ]
  },
  {
   "cell_type": "code",
   "execution_count": null,
   "id": "fd65fe0f-7b85-4794-838f-5adf7c439b3b",
   "metadata": {},
   "outputs": [],
   "source": [
    "# df_flocktory = df_flocktory[df_flocktory['bonus_title'].str.contains('lockto',case=False)]\n",
    "# df_flocktory['bonus_title2'] = df_flocktory['bonus_title'].str.split(' ', expand=True)[1]\n",
    "# df_flocktory = df_flocktory[df_flocktory['bonus_title2'].isin(['BSP','Exchange'])]"
   ]
  },
  {
   "cell_type": "code",
   "execution_count": null,
   "id": "d8638596-7eb4-4076-8ed3-015b1497152a",
   "metadata": {
    "tags": []
   },
   "outputs": [],
   "source": [
    "# df_flocktory['cac'] = df_flocktory.apply(lambda t: 375 if t.trial_month<pd.Timestamp('2024-09-01') else (415 if t.trial_month>=pd.Timestamp('2024-09-01') and t.bonus_title=='exhcnage' else 375),axis=1)\n",
    "\n",
    "# df_flocktory['cnt_user'] = df_flocktory.groupby(['trial_month','bonus_title2'])['user_id'].transform('count')\n",
    "\n",
    "# df_flocktory['cnt_paid_user'] = df_flocktory[df_flocktory['first_prolong_date']!='1970-01-01'].groupby(['trial_month','bonus_title2'])['user_id'].transform('count')\n",
    "# df_flocktory['cnt_paid_user'] = df_flocktory['cnt_paid_user'].fillna(0)\n",
    "# df_flocktory['cnt_paid_user'] = df_flocktory['cnt_paid_user'].astype('int32')\n",
    "\n",
    "# df_flocktory"
   ]
  },
  {
   "cell_type": "code",
   "execution_count": null,
   "id": "912c4454-8cf2-4c7b-9749-196a85a78443",
   "metadata": {},
   "outputs": [],
   "source": [
    "# df_flocktory['cac'] = df_flocktory.apply(lambda t: 375 if t.trial_month<pd.Timestamp('2024-09-01') else (415 if t.trial_month>=pd.Timestamp('2024-09-01') and t.bonus_title=='exhcnage' else 375),axis=1)\n",
    "\n",
    "# df_flocktory['cnt_user'] = df_flocktory.groupby(['trial_month','bonus_title2'])['user_id'].transform('count')\n",
    "\n",
    "# df_flocktory['cnt_paid_user'] = df_flocktory[df_flocktory['first_prolong_date']!='1970-01-01'].groupby(['trial_month','bonus_title2'])['user_id'].transform('count')\n",
    "# df_flocktory['cnt_paid_user'] = df_flocktory['cnt_paid_user'].fillna(0)\n",
    "# df_flocktory['cnt_paid_user'] = df_flocktory['cnt_paid_user'].astype('int32')\n",
    "\n",
    "# df_flocktory['total_cost'] = df_flocktory['cac'] * df_flocktory['cnt_user']\n",
    "# df_flocktory['cac_paid_user'] = df_flocktory.apply(lambda x : x.total_cost//x.cnt_paid_user if x.cnt_paid_user>0 else x.total_cost,axis=1)\n",
    "# #df_flocktory.groupby(['trial_month','reg_source','reg_medium'])[['cnt_user','cnt_paid_user','total_cost']].max().reset_index().sort_values(by='trial_month')"
   ]
  },
  {
   "cell_type": "code",
   "execution_count": null,
   "id": "2b99541c-9fed-4fb5-ac9d-25493af40ffd",
   "metadata": {},
   "outputs": [],
   "source": [
    "# df_flocktory.groupby(['trial_month','bonus_title'])[['cnt_user','cnt_paid_user']].mean()"
   ]
  },
  {
   "cell_type": "code",
   "execution_count": null,
   "id": "cecfa189-c4b0-4adb-a0b9-965e845c38fc",
   "metadata": {},
   "outputs": [],
   "source": [
    "# df_merge = pd.merge(df[(df['trial_month']!='2024-09-01')],df_flocktory[['user_id','cac_paid_user']],how='left',on=['user_id'])"
   ]
  },
  {
   "cell_type": "code",
   "execution_count": null,
   "id": "558c5836-e28f-4858-b516-07b36ef6fa25",
   "metadata": {},
   "outputs": [],
   "source": [
    "# df_flocktory[(df_flocktory['first_prolong_date']!='1970-01-01')].groupby('trial_month')['cac_paid_user'].sum()/df_flocktory[(df_flocktory['first_prolong_date']!='1970-01-01')].groupby('trial_month')['user_id'].count()"
   ]
  },
  {
   "cell_type": "code",
   "execution_count": 101,
   "id": "1a89e7e0-995b-4d93-8ef2-58300d18b26a",
   "metadata": {
    "tags": []
   },
   "outputs": [
    {
     "data": {
      "text/html": [
       "<div>\n",
       "<style scoped>\n",
       "    .dataframe tbody tr th:only-of-type {\n",
       "        vertical-align: middle;\n",
       "    }\n",
       "\n",
       "    .dataframe tbody tr th {\n",
       "        vertical-align: top;\n",
       "    }\n",
       "\n",
       "    .dataframe thead th {\n",
       "        text-align: right;\n",
       "    }\n",
       "</style>\n",
       "<table border=\"1\" class=\"dataframe\">\n",
       "  <thead>\n",
       "    <tr style=\"text-align: right;\">\n",
       "      <th></th>\n",
       "      <th>trial_month</th>\n",
       "      <th>paid_date</th>\n",
       "      <th>user_id</th>\n",
       "      <th>subscription_id</th>\n",
       "      <th>created_date</th>\n",
       "      <th>first_prolong_date</th>\n",
       "      <th>reg_source</th>\n",
       "      <th>reg_medium</th>\n",
       "      <th>bonus_title</th>\n",
       "      <th>free_days</th>\n",
       "      <th>b2b_b2c</th>\n",
       "      <th>offer_duration</th>\n",
       "      <th>payment</th>\n",
       "      <th>paid_month</th>\n",
       "    </tr>\n",
       "  </thead>\n",
       "  <tbody>\n",
       "    <tr>\n",
       "      <th>0</th>\n",
       "      <td>2024-09-01</td>\n",
       "      <td>2025-02-18</td>\n",
       "      <td>d62a0c16-3623-4a68-8e38-38f5441d09f2</td>\n",
       "      <td>8022d51f-b830-4137-8fc2-80b7b3466040</td>\n",
       "      <td>2024-08-14</td>\n",
       "      <td>2024-09-18</td>\n",
       "      <td>none</td>\n",
       "      <td>none</td>\n",
       "      <td>Flocktory Exchange 2</td>\n",
       "      <td>35</td>\n",
       "      <td>b2c</td>\n",
       "      <td>1 month</td>\n",
       "      <td>299</td>\n",
       "      <td>2025-02</td>\n",
       "    </tr>\n",
       "    <tr>\n",
       "      <th>1</th>\n",
       "      <td>2024-09-01</td>\n",
       "      <td>2025-02-18</td>\n",
       "      <td>fa9d049d-7cf9-43eb-9c34-66384d0ad773</td>\n",
       "      <td>a9c53aed-5d21-4fc6-8b60-ee3b005079c0</td>\n",
       "      <td>2024-08-14</td>\n",
       "      <td>2024-09-18</td>\n",
       "      <td>none</td>\n",
       "      <td>none</td>\n",
       "      <td>Flocktory Exchange 2</td>\n",
       "      <td>35</td>\n",
       "      <td>b2c</td>\n",
       "      <td>1 month</td>\n",
       "      <td>299</td>\n",
       "      <td>2025-02</td>\n",
       "    </tr>\n",
       "    <tr>\n",
       "      <th>2</th>\n",
       "      <td>2024-09-01</td>\n",
       "      <td>2025-02-18</td>\n",
       "      <td>78e56dd2-2d81-4218-863c-9c73fdb43fb5</td>\n",
       "      <td>21ac9990-b12d-4bb5-a2ae-5ca97f8e99fc</td>\n",
       "      <td>2024-09-18</td>\n",
       "      <td>2024-09-18</td>\n",
       "      <td>none</td>\n",
       "      <td>none</td>\n",
       "      <td></td>\n",
       "      <td>14</td>\n",
       "      <td>b2c</td>\n",
       "      <td>1 month</td>\n",
       "      <td>299</td>\n",
       "      <td>2025-02</td>\n",
       "    </tr>\n",
       "    <tr>\n",
       "      <th>3</th>\n",
       "      <td>2024-09-01</td>\n",
       "      <td>2025-02-18</td>\n",
       "      <td>60b9c591-345e-4ff8-949d-6734862340f1</td>\n",
       "      <td>fd8f71bf-c852-4879-8e75-b2fb268224e4</td>\n",
       "      <td>2024-08-14</td>\n",
       "      <td>2024-09-18</td>\n",
       "      <td>none</td>\n",
       "      <td>none</td>\n",
       "      <td>Flocktory Exchange 2</td>\n",
       "      <td>35</td>\n",
       "      <td>b2c</td>\n",
       "      <td>1 month</td>\n",
       "      <td>299</td>\n",
       "      <td>2025-02</td>\n",
       "    </tr>\n",
       "    <tr>\n",
       "      <th>4</th>\n",
       "      <td>2024-09-01</td>\n",
       "      <td>2025-02-18</td>\n",
       "      <td>219da1c5-005a-4095-8186-9f03464e9365</td>\n",
       "      <td>e1f55f70-078a-43e9-bf49-6689b5ae8548</td>\n",
       "      <td>2024-09-04</td>\n",
       "      <td>2024-09-18</td>\n",
       "      <td>none</td>\n",
       "      <td>none</td>\n",
       "      <td></td>\n",
       "      <td>14</td>\n",
       "      <td>b2c</td>\n",
       "      <td>1 month</td>\n",
       "      <td>299</td>\n",
       "      <td>2025-02</td>\n",
       "    </tr>\n",
       "    <tr>\n",
       "      <th>...</th>\n",
       "      <td>...</td>\n",
       "      <td>...</td>\n",
       "      <td>...</td>\n",
       "      <td>...</td>\n",
       "      <td>...</td>\n",
       "      <td>...</td>\n",
       "      <td>...</td>\n",
       "      <td>...</td>\n",
       "      <td>...</td>\n",
       "      <td>...</td>\n",
       "      <td>...</td>\n",
       "      <td>...</td>\n",
       "      <td>...</td>\n",
       "      <td>...</td>\n",
       "    </tr>\n",
       "    <tr>\n",
       "      <th>3126</th>\n",
       "      <td>2025-05-01</td>\n",
       "      <td>2025-05-31</td>\n",
       "      <td>ae4e73de-a054-43d9-9bc6-72101d7d1533</td>\n",
       "      <td>f1a4e805-6adf-4c18-8f33-90093fce332d</td>\n",
       "      <td>2025-04-27</td>\n",
       "      <td>2025-05-31</td>\n",
       "      <td>flocktory</td>\n",
       "      <td>exchange</td>\n",
       "      <td>Flocktory: Exchange 365 (3&amp;399) ver 2 (act)</td>\n",
       "      <td>35</td>\n",
       "      <td>b2c</td>\n",
       "      <td>3 month</td>\n",
       "      <td>399</td>\n",
       "      <td>2025-05</td>\n",
       "    </tr>\n",
       "    <tr>\n",
       "      <th>3127</th>\n",
       "      <td>2025-05-01</td>\n",
       "      <td>2025-05-31</td>\n",
       "      <td>1a85d2db-5a29-4f6c-a56a-2485322c077f</td>\n",
       "      <td>cba3fe11-6e6f-4186-a22a-36af7693b22c</td>\n",
       "      <td>2025-05-29</td>\n",
       "      <td>2025-05-31</td>\n",
       "      <td>none</td>\n",
       "      <td>none</td>\n",
       "      <td></td>\n",
       "      <td>3</td>\n",
       "      <td>b2c</td>\n",
       "      <td>3 month</td>\n",
       "      <td>649</td>\n",
       "      <td>2025-05</td>\n",
       "    </tr>\n",
       "    <tr>\n",
       "      <th>3128</th>\n",
       "      <td>2025-05-01</td>\n",
       "      <td>2025-05-31</td>\n",
       "      <td>efd69072-1ba1-4e35-b966-b387545e7636</td>\n",
       "      <td>5447f7ab-4cbe-4fcf-8b6c-dfc3256549d0</td>\n",
       "      <td>2025-05-31</td>\n",
       "      <td>2025-05-31</td>\n",
       "      <td>none</td>\n",
       "      <td>none</td>\n",
       "      <td>Flocktory: Exchange. 29 руб/месяц - act</td>\n",
       "      <td>37</td>\n",
       "      <td>b2c</td>\n",
       "      <td>1 month</td>\n",
       "      <td>29</td>\n",
       "      <td>2025-05</td>\n",
       "    </tr>\n",
       "    <tr>\n",
       "      <th>3129</th>\n",
       "      <td>2025-05-01</td>\n",
       "      <td>2025-05-31</td>\n",
       "      <td>8f4c6559-7248-4726-a81d-f83038703179</td>\n",
       "      <td>a548818b-127c-4f1e-bbab-e9dffc654679</td>\n",
       "      <td>2025-05-29</td>\n",
       "      <td>2025-05-31</td>\n",
       "      <td>none</td>\n",
       "      <td>none</td>\n",
       "      <td></td>\n",
       "      <td>3</td>\n",
       "      <td>b2c</td>\n",
       "      <td>12 month</td>\n",
       "      <td>1550</td>\n",
       "      <td>2025-05</td>\n",
       "    </tr>\n",
       "    <tr>\n",
       "      <th>3130</th>\n",
       "      <td>2025-05-01</td>\n",
       "      <td>2025-05-31</td>\n",
       "      <td>200b9638-3f2d-4bad-9fa6-3e175c48ac15</td>\n",
       "      <td>20ba4d07-0b70-483c-b90b-56210c7403e9</td>\n",
       "      <td>2025-04-27</td>\n",
       "      <td>2025-05-31</td>\n",
       "      <td>none</td>\n",
       "      <td>none</td>\n",
       "      <td>PROMO35</td>\n",
       "      <td>35</td>\n",
       "      <td>b2c</td>\n",
       "      <td>3 month</td>\n",
       "      <td>399</td>\n",
       "      <td>2025-05</td>\n",
       "    </tr>\n",
       "  </tbody>\n",
       "</table>\n",
       "<p>34288 rows × 14 columns</p>\n",
       "</div>"
      ],
      "text/plain": [
       "     trial_month  paid_date                               user_id  \\\n",
       "0     2024-09-01 2025-02-18  d62a0c16-3623-4a68-8e38-38f5441d09f2   \n",
       "1     2024-09-01 2025-02-18  fa9d049d-7cf9-43eb-9c34-66384d0ad773   \n",
       "2     2024-09-01 2025-02-18  78e56dd2-2d81-4218-863c-9c73fdb43fb5   \n",
       "3     2024-09-01 2025-02-18  60b9c591-345e-4ff8-949d-6734862340f1   \n",
       "4     2024-09-01 2025-02-18  219da1c5-005a-4095-8186-9f03464e9365   \n",
       "...          ...        ...                                   ...   \n",
       "3126  2025-05-01 2025-05-31  ae4e73de-a054-43d9-9bc6-72101d7d1533   \n",
       "3127  2025-05-01 2025-05-31  1a85d2db-5a29-4f6c-a56a-2485322c077f   \n",
       "3128  2025-05-01 2025-05-31  efd69072-1ba1-4e35-b966-b387545e7636   \n",
       "3129  2025-05-01 2025-05-31  8f4c6559-7248-4726-a81d-f83038703179   \n",
       "3130  2025-05-01 2025-05-31  200b9638-3f2d-4bad-9fa6-3e175c48ac15   \n",
       "\n",
       "                           subscription_id created_date first_prolong_date  \\\n",
       "0     8022d51f-b830-4137-8fc2-80b7b3466040   2024-08-14         2024-09-18   \n",
       "1     a9c53aed-5d21-4fc6-8b60-ee3b005079c0   2024-08-14         2024-09-18   \n",
       "2     21ac9990-b12d-4bb5-a2ae-5ca97f8e99fc   2024-09-18         2024-09-18   \n",
       "3     fd8f71bf-c852-4879-8e75-b2fb268224e4   2024-08-14         2024-09-18   \n",
       "4     e1f55f70-078a-43e9-bf49-6689b5ae8548   2024-09-04         2024-09-18   \n",
       "...                                    ...          ...                ...   \n",
       "3126  f1a4e805-6adf-4c18-8f33-90093fce332d   2025-04-27         2025-05-31   \n",
       "3127  cba3fe11-6e6f-4186-a22a-36af7693b22c   2025-05-29         2025-05-31   \n",
       "3128  5447f7ab-4cbe-4fcf-8b6c-dfc3256549d0   2025-05-31         2025-05-31   \n",
       "3129  a548818b-127c-4f1e-bbab-e9dffc654679   2025-05-29         2025-05-31   \n",
       "3130  20ba4d07-0b70-483c-b90b-56210c7403e9   2025-04-27         2025-05-31   \n",
       "\n",
       "     reg_source reg_medium                                  bonus_title  \\\n",
       "0          none       none                         Flocktory Exchange 2   \n",
       "1          none       none                         Flocktory Exchange 2   \n",
       "2          none       none                                                \n",
       "3          none       none                         Flocktory Exchange 2   \n",
       "4          none       none                                                \n",
       "...         ...        ...                                          ...   \n",
       "3126  flocktory   exchange  Flocktory: Exchange 365 (3&399) ver 2 (act)   \n",
       "3127       none       none                                                \n",
       "3128       none       none      Flocktory: Exchange. 29 руб/месяц - act   \n",
       "3129       none       none                                                \n",
       "3130       none       none                                      PROMO35   \n",
       "\n",
       "     free_days b2b_b2c offer_duration  payment paid_month  \n",
       "0           35     b2c        1 month      299    2025-02  \n",
       "1           35     b2c        1 month      299    2025-02  \n",
       "2           14     b2c        1 month      299    2025-02  \n",
       "3           35     b2c        1 month      299    2025-02  \n",
       "4           14     b2c        1 month      299    2025-02  \n",
       "...        ...     ...            ...      ...        ...  \n",
       "3126        35     b2c        3 month      399    2025-05  \n",
       "3127         3     b2c        3 month      649    2025-05  \n",
       "3128        37     b2c        1 month       29    2025-05  \n",
       "3129         3     b2c       12 month     1550    2025-05  \n",
       "3130        35     b2c        3 month      399    2025-05  \n",
       "\n",
       "[34288 rows x 14 columns]"
      ]
     },
     "execution_count": 101,
     "metadata": {},
     "output_type": "execute_result"
    }
   ],
   "source": [
    "df"
   ]
  },
  {
   "cell_type": "code",
   "execution_count": 103,
   "id": "1b35fdf4-cca2-407e-a53c-7512150bcbc3",
   "metadata": {
    "tags": []
   },
   "outputs": [
    {
     "data": {
      "image/png": "[encoded data removed]",
      "text/plain": [
       "<Figure size 2000x800 with 1 Axes>"
      ]
     },
     "metadata": {},
     "output_type": "display_data"
    }
   ],
   "source": [
    "df['paid_month'] = df['paid_date'].dt.to_period('M')\n",
    "\n",
    "df_agg = df[df['offer_duration']=='1 month'].groupby(['trial_month','paid_month']).agg({'payment':'sum','user_id':'count'}).reset_index()\n",
    "\n",
    "# Расчет кумулятивной суммы, и добавления поля по числу пользователей когорты \n",
    "df_agg['cumulative'] = df_agg.groupby('trial_month')['payment'].cumsum()\n",
    "df_agg['uniq_user'] = df_agg.groupby('trial_month')['user_id'].transform('max')\n",
    "\n",
    "#Расчет ltv\n",
    "df_agg['ltv'] = df_agg.cumulative/df_agg.uniq_user\n",
    "\n",
    "# Нумерация месяцев\n",
    "df_agg['num_of_month'] = df_agg.groupby('trial_month')['paid_month'].rank(method='first').astype('int')\n",
    "df_agg = df_agg[df_agg['num_of_month']<10] # Ограничиваем 6-ью месяцами\n",
    "\n",
    "# Сделаем pivot \n",
    "df_pivot = pd.pivot(data = df_agg,index = 'trial_month',columns = 'num_of_month',values = 'ltv')\n",
    "df_pivot['uniq_user'] = df_agg.groupby('trial_month')['uniq_user'].max()\n",
    "\n",
    "# Создаем DataFrame с данными для расчета средневзвешенного LTV\n",
    "weighted_ltv = df_agg.pivot(index='trial_month', columns='num_of_month', values='ltv')\n",
    "user_counts = df_agg.pivot(index='trial_month', columns='num_of_month', values='uniq_user')\n",
    "\n",
    "# Рассчитываем средневзвешенное значение LTV для каждого 'num_of_month'\n",
    "weighted_avg_ltv = ((weighted_ltv * user_counts).sum() / user_counts.sum()).round().astype('int')\n",
    "\n",
    "\n",
    "weighted_avg_ltv = weighted_avg_ltv.reset_index()\n",
    "weighted_avg_ltv = weighted_avg_ltv.rename(columns={0:'cumsum'})\n",
    "\n",
    "# Построение графика месячного LTV\n",
    "plt.figure(figsize=(20,8))\n",
    "plt.plot(weighted_avg_ltv['num_of_month'], weighted_avg_ltv['cumsum'], marker='o', linestyle='-', color='#005f80',markerfacecolor='white',alpha=0.8)\n",
    "\n",
    "for i in range(len(weighted_avg_ltv['num_of_month'])):  \n",
    "    plt.text(weighted_avg_ltv['num_of_month'][i], weighted_avg_ltv['cumsum'][i]+10,\n",
    "             str(weighted_avg_ltv['cumsum'][i]),\n",
    "             ha='center', fontsize=10,color='purple')  \n",
    "plt.xlabel('Месяцы')\n",
    "plt.ylabel('Руб')\n",
    "plt.title('LTV по месяцам')\n",
    "plt.grid(True,linewidth=0.4)\n",
    "plt.xticks(rotation=45)\n",
    "plt.show()"
   ]
  },
  {
   "cell_type": "code",
   "execution_count": 75,
   "id": "6c8fcbc5-7342-4fb1-828f-d0136bfefa72",
   "metadata": {
    "tags": []
   },
   "outputs": [
    {
     "name": "stdout",
     "output_type": "stream",
     "text": [
      "Время выполнения функции: 0.8324 секунд\n",
      "\n",
      "Дата '2024-12-01' загружена\n",
      "\n",
      "Время выполнения функции: 1.0258 секунд\n",
      "\n",
      "Дата '2025-01-01' загружена\n",
      "\n",
      "Время выполнения функции: 1.1108 секунд\n",
      "\n",
      "Дата '2025-02-01' загружена\n",
      "\n",
      "Время выполнения функции: 1.0035 секунд\n",
      "\n",
      "Дата '2025-03-01' загружена\n",
      "\n",
      "Время выполнения функции: 0.7771 секунд\n",
      "\n",
      "Дата '2025-04-01' загружена\n",
      "\n",
      "Время выполнения функции: 0.819 секунд\n",
      "\n",
      "Дата '2025-05-01' загружена\n",
      "\n"
     ]
    }
   ],
   "source": [
    "list_date = pd.date_range(\"2024-12-01\", \"2025-05-01\", freq='MS',normalize=True)\n",
    "result = []\n",
    "for date in list_date:\n",
    "    date_str = date.strftime('%Y-%m-%d')\n",
    "    query = f'''\n",
    "            SELECT \n",
    "                '{date_str}' AS trial_month,\n",
    "                paid_date,\n",
    "                t1.user_id AS user_id,\n",
    "                t1.subscription_id AS subscription_id,\n",
    "                t2.created_at::date AS created_date,\n",
    "                t2.first_prolong_date::date AS first_prolong_date,\n",
    "                t1.reg_source AS reg_source,\n",
    "                t1.reg_medium AS reg_medium,\n",
    "                t1.bonus_title AS bonus_title,\n",
    "                t1.free_days AS free_days,\n",
    "                b2b_b2c,\n",
    "                t2.offer_duration,\n",
    "                payment\n",
    "                FROM datamarts.finance AS t1\n",
    "                INNER JOIN (SELECT \n",
    "                           user_id,\n",
    "                           first_prolong_date::date AS first_prolong_date,\n",
    "                           created_at::date AS created_at,\n",
    "                           promo_type,\n",
    "                           offer_duration\n",
    "                           FROM datamarts.marketing_dash\n",
    "                           WHERE DATE_TRUNC('month', first_prolong_date)='{date_str}'\n",
    "                           ) AS t2 \n",
    "                        ON t1.user_id=t2.user_id\n",
    "                WHERE paid_date BETWEEN '{date_str}' AND '2025-05-31'\n",
    " \n",
    "            '''\n",
    "    df_temp = execute(query,user = 'kmekhtiev')   \n",
    "    result.append(df_temp)\n",
    "    print(f\"\"\"Дата '{date_str}' загружена\"\"\")\n",
    "    print()\n",
    "\n",
    "df = pd.concat(result)\n",
    "df['paid_date'] = df['paid_date'].astype('datetime64[ns]')\n",
    "df['trial_month'] = df['trial_month'].astype('datetime64[ns]')\n",
    "df['payment'] = df['payment'].astype('int32')"
   ]
  },
  {
   "cell_type": "code",
   "execution_count": null,
   "id": "f9febed2-b23a-4189-90ae-15561acfed0e",
   "metadata": {
    "tags": []
   },
   "outputs": [],
   "source": [
    "df['paid_month'] = df['paid_date'].dt.to_period('M')\n",
    "df_agg = df.groupby(['trial_month','paid_month']).agg({'payment':'sum','user_id':'count','cac_paid_user':'sum'}).reset_index()\n",
    "\n",
    "# Расчет кумулятивной суммы, и добавления поля по числу пользователей когорты \n",
    "df_agg['cumulative'] = df_agg.groupby('trial_month')['payment'].cumsum()\n",
    "df_agg['uniq_user'] = df_agg.groupby('trial_month')['user_id'].transform('max')\n",
    "df_agg['cac_cohort'] = df_agg.groupby('trial_month')['cac_paid_user'].transform('max')\n",
    "\n",
    "#Расчет ltv\n",
    "df_agg['ltv'] = df_agg.cumulative/df_agg.uniq_user\n",
    "\n",
    "# Нумерация месяцев\n",
    "df_agg['num_of_month'] = df_agg.groupby('trial_month')['paid_month'].rank(method='first').astype('int')\n",
    "df_agg = df_agg[df_agg['num_of_month']<7] # Ограничиваем 6-ью месяцами\n",
    "\n",
    "# Сделаем pivot \n",
    "df_pivot = pd.pivot(data = df_agg,index = 'trial_month',columns = 'num_of_month',values = 'ltv')\n",
    "df_pivot['uniq_user'] = df_agg.groupby('trial_month')['uniq_user'].max()\n",
    "\n",
    "# Создаем DataFrame с данными для расчета средневзвешенного LTV\n",
    "weighted_ltv = df_agg.pivot(index='trial_month', columns='num_of_month', values='ltv')\n",
    "user_counts = df_agg.pivot(index='trial_month', columns='num_of_month', values='uniq_user')\n",
    "\n",
    "# Рассчитываем средневзвешенное значение LTV для каждого 'num_of_month'\n",
    "weighted_avg_ltv = ((weighted_ltv * user_counts).sum() / user_counts.sum()).round().astype('int')\n",
    "\n",
    "\n",
    "weighted_avg_ltv = weighted_avg_ltv.reset_index()\n",
    "weighted_avg_ltv = weighted_avg_ltv.rename(columns={0:'cumsum'})\n",
    "\n",
    "# Построение графика месячного LTV\n",
    "plt.figure(figsize=(20,8))\n",
    "plt.plot(weighted_avg_ltv['num_of_month'], weighted_avg_ltv['cumsum'], marker='o', linestyle='-', color='#005f80',markerfacecolor='white',alpha=0.8)\n",
    "\n",
    "for i in range(len(weighted_avg_ltv['num_of_month'])):  \n",
    "    plt.text(weighted_avg_ltv['num_of_month'][i], weighted_avg_ltv['cumsum'][i]+10,\n",
    "             str(weighted_avg_ltv['cumsum'][i]),\n",
    "             ha='center', fontsize=10,color='purple')  \n",
    "plt.xlabel('Месяцы')\n",
    "plt.ylabel('Руб')\n",
    "plt.title('Кумулятивная сумма на пользователя по месяцам (Flocktory)')\n",
    "plt.grid(True,linewidth=0.4)\n",
    "plt.xticks(rotation=45)\n",
    "plt.show()"
   ]
  },
  {
   "cell_type": "code",
   "execution_count": null,
   "id": "8eb26853-63a5-46e5-99c2-a95b3d282ba4",
   "metadata": {},
   "outputs": [],
   "source": [
    "# Расчет кумулятивной суммы, и добавления поля по числу пользователей когорты \n",
    "df_agg['cumulative'] = df_agg.groupby('trial_month')['payment'].cumsum()\n",
    "df_agg['uniq_user'] = df_agg.groupby('trial_month')['user_id'].transform('max')\n",
    "df_agg['cac_cohort'] = df_agg.groupby('trial_month')['cac_paid_user'].transform('max')\n",
    "\n",
    "#Расчет ltv\n",
    "df_agg['ltv'] = df_agg.cumulative/df_agg.uniq_user"
   ]
  },
  {
   "cell_type": "code",
   "execution_count": null,
   "id": "a6b60ca0-8efa-45b1-b5e2-de12df37aa43",
   "metadata": {
    "tags": []
   },
   "outputs": [],
   "source": [
    "df_agg"
   ]
  },
  {
   "cell_type": "code",
   "execution_count": null,
   "id": "960417ec-bb73-4ae4-835e-cb3cf0b9f7ff",
   "metadata": {},
   "outputs": [],
   "source": [
    "weighted_avg_ltv"
   ]
  },
  {
   "cell_type": "code",
   "execution_count": null,
   "id": "56d4df11-6b4c-4d60-b22f-0532669a2bcc",
   "metadata": {
    "tags": []
   },
   "outputs": [],
   "source": [
    "df_merge['paid_month'] = df_merge['paid_date'].dt.to_period('M')\n",
    "df_agg = df_merge.groupby(['trial_month','paid_month']).agg({'payment':'sum','user_id':'count','cac_paid_user':'sum'}).reset_index()\n",
    "\n",
    "# Расчет кумулятивной суммы и добавления поля по числу пользователей когорты \n",
    "df_agg['cumulative'] = df_agg.groupby('trial_month')['payment'].cumsum()\n",
    "df_agg['uniq_user'] = df_agg.groupby('trial_month')['user_id'].transform('max')\n",
    "df_agg['cac_cohort'] = df_agg.groupby('trial_month')['cac_paid_user'].transform('max')\n",
    "\n",
    "#Расчет ltv\n",
    "df_agg['ltv'] = (df_agg['cumulative'] - df_agg['cac_cohort']) / df_agg['uniq_user']\n",
    "\n",
    "# Нумерация месяцев\n",
    "df_agg['num_of_month'] = df_agg.groupby('trial_month')['paid_month'].rank(method='first').astype('int')\n",
    "df_agg = df_agg[df_agg['num_of_month']<7] # Ограничиваем 6-ью месяцами\n",
    "\n",
    "# Сделаем pivot \n",
    "df_pivot = pd.pivot(data = df_agg,index = 'trial_month',columns = 'num_of_month',values = 'ltv')\n",
    "df_pivot['uniq_user'] = df_agg.groupby('trial_month')['uniq_user'].max()\n",
    "\n",
    "# Создаем DataFrame с данными для расчета средневзвешенного LTV\n",
    "weighted_ltv = df_agg.pivot(index='trial_month', columns='num_of_month', values='ltv')\n",
    "user_counts = df_agg.pivot(index='trial_month', columns='num_of_month', values='uniq_user')\n",
    "\n",
    "# Рассчитываем средневзвешенное значение LTV для каждого 'num_of_month'\n",
    "weighted_avg_ltv = ((weighted_ltv * user_counts).sum() / user_counts.sum()).round().astype('int')\n",
    "\n",
    "\n",
    "weighted_avg_ltv = weighted_avg_ltv.reset_index()\n",
    "weighted_avg_ltv = weighted_avg_ltv.rename(columns={0:'ltv'})\n",
    "# weighted_avg_ltv['ltv']=weighted_avg_ltv['cumsum'] - weighted_avg_ltv['cac']\n",
    "\n",
    "# Построение графика месячного LTV\n",
    "plt.figure(figsize=(20,8))\n",
    "plt.plot(weighted_avg_ltv['num_of_month'], weighted_avg_ltv['ltv'], marker='o', linestyle='-', color='#005f80',markerfacecolor='white',alpha=0.8)\n",
    "for i in range(len(weighted_avg_ltv['num_of_month'])):\n",
    "    plt.text(weighted_avg_ltv['num_of_month'][i], weighted_avg_ltv['ltv'][i]+10,\n",
    "             str(weighted_avg_ltv['ltv'][i]),\n",
    "             ha='center', fontsize=10,color='purple')  \n",
    "plt.xlabel('Месяцы')\n",
    "plt.ylabel('Руб')\n",
    "plt.title('Изменение LTV по месяцам (Flocktory)')\n",
    "plt.grid(True,linewidth=0.4)\n",
    "plt.xticks(rotation=45)\n",
    "plt.show()"
   ]
  },
  {
   "cell_type": "code",
   "execution_count": null,
   "id": "dfd725b7-4c46-49dc-a545-5d3134fb54c7",
   "metadata": {},
   "outputs": [],
   "source": []
  },
  {
   "cell_type": "code",
   "execution_count": null,
   "id": "834038ad-90d2-4956-bd03-7dc685755a88",
   "metadata": {},
   "outputs": [],
   "source": [
    "weighted_ltv"
   ]
  },
  {
   "cell_type": "code",
   "execution_count": null,
   "id": "7aec11ad-b3a8-4e16-a170-af72f006205b",
   "metadata": {},
   "outputs": [],
   "source": [
    "user_counts"
   ]
  },
  {
   "cell_type": "code",
   "execution_count": null,
   "id": "b80544ed-f817-4e36-9fe2-150c887d9dee",
   "metadata": {},
   "outputs": [],
   "source": [
    "weighted_avg_ltv"
   ]
  },
  {
   "cell_type": "code",
   "execution_count": null,
   "id": "512e538f-a979-4f4c-90f8-c46f022b798a",
   "metadata": {},
   "outputs": [],
   "source": [
    "df_agg['cumsum'] = (df_agg['cumulative']) / df_agg['uniq_user']\n",
    "df_agg"
   ]
  },
  {
   "cell_type": "code",
   "execution_count": null,
   "id": "88e7325f-e09b-49fb-9e6d-2b49dd4c2bad",
   "metadata": {},
   "outputs": [],
   "source": [
    "pd.pivot(data=df_agg,index='num_of_month',columns='trial_month',values='ltv')"
   ]
  },
  {
   "cell_type": "markdown",
   "id": "7110526b-da26-4dad-84d5-a9e5cff0e43b",
   "metadata": {},
   "source": [
    "# Помесячная выручка"
   ]
  },
  {
   "cell_type": "code",
   "execution_count": null,
   "id": "e25c64de-a0a2-4426-aa8a-f51aacf1eaaf",
   "metadata": {},
   "outputs": [],
   "source": [
    "list_date = pd.date_range(\"2024-01-01\", \"2024-08-01\", freq='MS',normalize=True)\n",
    "result = []\n",
    "for date in list_date:\n",
    "    date_str = date.strftime('%Y-%m-%d')\n",
    "    query = f'''\n",
    "            SELECT \n",
    "                '{date_str}' AS date_month,\n",
    "                paid_at::date AS paid_date,\n",
    "                s.user_id AS user_id,\n",
    "                i.subscription_id AS subscription_id,\n",
    "                s.created_at::date AS created_date,\n",
    "                sum(i.price_cents)/100 AS payment\n",
    "                FROM  product_x.invoices i\n",
    "                LEFT JOIN product_x.subscriptions s\n",
    "                ON s.id = i.subscription_id\n",
    "                LEFT JOIN product_x.users u \n",
    "                ON u.id = s.user_id\n",
    "                WHERE u.user_type = 'regular'\n",
    "                      AND u.vipplay = FALSE\n",
    "                      AND s.state in ('normal_period','trial','canceled','grace_period')\n",
    "                      AND DATE_TRUNC('month', paid_at::date)='{date_str}'\n",
    "                      AND i.state in ('success')\n",
    "                      AND i.price_cents > 100\n",
    "                      AND i.price_currency = 'RUB'\n",
    "                GROUP BY 1,2,3,4,5\n",
    "            '''\n",
    "    df_temp = execute(query,user = 'kmekhtiev')   \n",
    "    result.append(df_temp)\n",
    "    print(f\"\"\"Дата '{date_str}' загружена\"\"\")\n",
    "    print()\n",
    "\n",
    "df = pd.concat(result)\n",
    "df['paid_date'] = df['paid_date'].astype('datetime64[ns]')\n",
    "df['payment'] = df['payment'].astype('int32')"
   ]
  },
  {
   "cell_type": "code",
   "execution_count": null,
   "id": "1f18e261-9cbc-4943-9f08-3f802f886398",
   "metadata": {
    "tags": []
   },
   "outputs": [],
   "source": [
    "df.groupby(['date_month'])['paid_date'].nunique().reset_index()"
   ]
  },
  {
   "cell_type": "code",
   "execution_count": null,
   "id": "f24a6fe1-ba9a-4543-94c6-e54a45e0e430",
   "metadata": {
    "tags": []
   },
   "outputs": [],
   "source": [
    "df.groupby('date_month').agg({'payment':'sum','subscription_id':'nunique'}).reset_index()"
   ]
  },
  {
   "cell_type": "markdown",
   "id": "d107857a-c5ad-461d-9e94-8ad10cceb1d5",
   "metadata": {},
   "source": [
    "# Выручка за 6 месяцев "
   ]
  },
  {
   "cell_type": "code",
   "execution_count": null,
   "id": "7c648b3b-62c0-4025-9dc6-69aec364464b",
   "metadata": {
    "tags": []
   },
   "outputs": [],
   "source": [
    "list_date = pd.date_range(\"2024-07-01\", \"2024-08-01\", freq='D')\n",
    "result = []\n",
    "for date in list_date:\n",
    "    date_str = date.strftime('%Y-%m-%d')\n",
    "    query = f'''\n",
    "            SELECT \n",
    "                '{date_str}' AS date,\n",
    "                paid_at::date AS paid_date,\n",
    "                s.user_id AS user_id,\n",
    "                i.subscription_id AS subscription_id,\n",
    "                s.created_at::date AS created_date,\n",
    "                sum(i.price_cents)/100 AS payment\n",
    "                FROM  product_x.invoices i\n",
    "                LEFT JOIN product_x.subscriptions s\n",
    "                ON s.id = i.subscription_id\n",
    "                LEFT JOIN product_x.users u \n",
    "                ON u.id = s.user_id\n",
    "                WHERE u.user_type = 'regular'\n",
    "                      AND u.vipplay = FALSE\n",
    "                      AND s.state in ('normal_period','trial','canceled','grace_period')\n",
    "                      AND paid_date BETWEEN '{date}'::date - INTERVAL '179' DAY and '{date}'::date\n",
    "                      AND i.state in ('success','refunded')\n",
    "                      AND i.price_cents > 100\n",
    "                      AND i.price_currency = 'RUB'\n",
    "                GROUP BY 1,2,3,4,5\n",
    "            '''\n",
    "    df_temp = execute(query,user = 'kmekhtiev')   \n",
    "    result.append(df_temp)\n",
    "    print(f\"\"\"Дата '{date_str}' загружена\"\"\")\n",
    "    print()\n",
    "\n",
    "df = pd.concat(result)\n",
    "df['paid_date'] = df['paid_date'].astype('datetime64[ns]')\n",
    "df['payment'] = df['payment'].astype('int32')"
   ]
  },
  {
   "cell_type": "code",
   "execution_count": null,
   "id": "16902f11-d055-4152-9f83-5a9326ee2655",
   "metadata": {
    "tags": []
   },
   "outputs": [],
   "source": [
    "df.groupby(['date'])['paid_date'].nunique().reset_index()"
   ]
  },
  {
   "cell_type": "code",
   "execution_count": null,
   "id": "fc946078-f091-43bf-b97c-6619dae6b8df",
   "metadata": {
    "tags": []
   },
   "outputs": [],
   "source": [
    "df.groupby('date').agg({'payment':'sum','subscription_id':'nunique'}).reset_index()"
   ]
  },
  {
   "cell_type": "markdown",
   "id": "8afa4c1f-4032-40e5-b51b-a2b1ab65ba13",
   "metadata": {},
   "source": [
    "# Выручка помесячно и число посетителей помесячно "
   ]
  },
  {
   "cell_type": "code",
   "execution_count": null,
   "id": "508c426e-2349-46aa-8331-21519eae66d9",
   "metadata": {
    "tags": []
   },
   "outputs": [],
   "source": [
    "list_date = pd.date_range(\"2024-06-30\", \"2024-07-30\", freq='D')\n",
    "result = []\n",
    "for date in list_date:\n",
    "    date_str = date.strftime('%Y-%m-%d')\n",
    "    query = f'''\n",
    "            SELECT \n",
    "                '{date_str}' AS date_month,\n",
    "                paid_at::date AS paid_date,\n",
    "                s.user_id AS user_id,\n",
    "                i.subscription_id AS subscription_id,\n",
    "                s.created_at::date AS created_date,\n",
    "                sum(i.price_cents)/100 AS payment\n",
    "                FROM  product_x.invoices i\n",
    "                LEFT JOIN product_x.subscriptions s\n",
    "                ON s.id = i.subscription_id\n",
    "                LEFT JOIN product_x.users u \n",
    "                ON u.id = s.user_id\n",
    "                WHERE u.user_type = 'regular'\n",
    "                      AND u.vipplay = FALSE\n",
    "                      --AND s.state in ('normal_period','trial','canceled','grace_period')\n",
    "                      AND state in ('trial')\n",
    "                      AND i.deleted_at is null\n",
    "                      AND paid_date BETWEEN '{date}'::date - INTERVAL '29' DAY and '{date}'::date\n",
    "                      AND i.state in ('success')\n",
    "                      AND i.price_cents > 100\n",
    "                      AND i.price_currency = 'RUB'\n",
    "                GROUP BY 1,2,3,4,5\n",
    "            '''\n",
    "    df_temp = execute(query,user = 'kmekhtiev')   \n",
    "    result.append(df_temp)\n",
    "    print(f\"\"\"Дата '{date_str}' загружена\"\"\")\n",
    "    print()\n",
    "\n",
    "df_revenue = pd.concat(result)\n",
    "df_revenue['paid_date'] = df_revenue['paid_date'].astype('datetime64[ns]')\n",
    "df_revenue['date_month'] = df_revenue['date_month'].astype('datetime64[ns]')\n",
    "df_revenue['payment'] = df_revenue['payment'].astype('int32')"
   ]
  },
  {
   "cell_type": "code",
   "execution_count": null,
   "id": "c9f68a26-0d2b-4983-afef-6872ead54bf5",
   "metadata": {
    "tags": []
   },
   "outputs": [],
   "source": [
    "df_revenue"
   ]
  },
  {
   "cell_type": "code",
   "execution_count": null,
   "id": "1823f6d5-c520-4c76-8f43-6b8f1c220183",
   "metadata": {
    "tags": []
   },
   "outputs": [],
   "source": [
    "list_date = pd.date_range(\"2024-06-30\", \"2024-07-29\", freq='D')\n",
    "result = []\n",
    "for date in list_date:\n",
    "    date_str = date.strftime('%Y-%m-%d')\n",
    "    query = f'''\n",
    "            SELECT \n",
    "                '{date_str}' AS date_month,\n",
    "                paid_at::date AS paid_date,\n",
    "                s.user_id AS user_id,\n",
    "                i.subscription_id AS subscription_id,\n",
    "                s.created_at::date AS created_date,\n",
    "                i.price_cents/100 AS payment,\n",
    "                count(s.user_id) OVER (partition by s.user_id,'{date_str}') as cnt_profile\n",
    "                FROM  product_x.invoices i\n",
    "                LEFT JOIN product_x.subscriptions s\n",
    "                ON s.id = i.subscription_id\n",
    "                LEFT JOIN product_x.users u \n",
    "                ON u.id = s.user_id\n",
    "                WHERE u.user_type = 'regular'\n",
    "                      AND u.vipplay = FALSE\n",
    "                      AND s.state in ('normal_period','trial','canceled','grace_period')\n",
    "                      AND paid_date BETWEEN '{date}'::date - INTERVAL '29' DAY and '{date}'::date\n",
    "                      AND i.state in ('success')\n",
    "                      AND i.price_cents > 100\n",
    "                      AND i.price_currency = 'RUB'\n",
    "                      AND (u.email NOT LIKE '%@test%' OR u.email IS NULL)\n",
    "            '''\n",
    "    df_temp = execute(query,user = 'kmekhtiev')   \n",
    "    result.append(df_temp)\n",
    "    print(f\"\"\"Дата '{date_str}' загружена\"\"\")\n",
    "    print()\n",
    "\n",
    "df_revenue2 = pd.concat(result)\n",
    "df_revenue2['paid_date'] = df_revenue2['paid_date'].astype('datetime64[ns]')\n",
    "df_revenue2['date_month'] = df_revenue2['date_month'].astype('datetime64[ns]')\n",
    "df_revenue2['payment'] = df_revenue2['payment'].astype('int32')"
   ]
  },
  {
   "cell_type": "code",
   "execution_count": null,
   "id": "31b6c29a-c5bf-4b38-9a45-bcc5baa83dc1",
   "metadata": {
    "tags": []
   },
   "outputs": [],
   "source": [
    "list_date = pd.date_range(\"2024-06-30\", \"2024-07-30\", freq='D')\n",
    "result = []\n",
    "for date in list_date:\n",
    "    date_str = date.strftime('%Y-%m-%d')\n",
    "    query = f'''\n",
    "            SELECT \n",
    "            date_month,\n",
    "            COUNT(DISTINCT visitor_id) AS cnt_visitor\n",
    "            FROM\n",
    "                (SELECT\n",
    "                '{date_str}' AS date_month,\n",
    "                date,\n",
    "                visitor_id\n",
    "                FROM\n",
    "                datamarts.sandbox_data_distr\n",
    "                WHERE client_type!='backend' \n",
    "                AND date BETWEEN '{date}'::date - interval '29' DAY AND '{date}'::date\n",
    "                GROUP BY 1,2,3\n",
    "                )\n",
    "            GROUP BY 1\n",
    "            '''\n",
    "    df_temp = execute(query,user = 'kmekhtiev')   \n",
    "    result.append(df_temp)\n",
    "    print(f\"\"\"Дата '{date_str}' загружена\"\"\")\n",
    "    print()\n",
    "\n",
    "df_visitor = pd.concat(result)\n",
    "df_visitor['date_month'] = df_visitor['date_month'].astype('datetime64[ns]')"
   ]
  },
  {
   "cell_type": "code",
   "execution_count": null,
   "id": "c9a36a0e-8f68-483e-98f5-46fdefc083ac",
   "metadata": {
    "tags": []
   },
   "outputs": [],
   "source": [
    "list_date = pd.date_range(\"2024-01-01\", \"2024-08-01\", freq='MS',normalize=True)\n",
    "result = []\n",
    "for date in list_date:\n",
    "    date_str = date.strftime('%Y-%m-%d')\n",
    "    query = f'''\n",
    "    SELECT \n",
    "            date_month,\n",
    "            COUNT(DISTINCT visitor_id) AS cnt_visitor\n",
    "            FROM\n",
    "                (SELECT\n",
    "                '{date_str}' AS date_month,\n",
    "                date,\n",
    "                visitor_id\n",
    "                FROM\n",
    "                datamarts.sandbox_data_distr\n",
    "                WHERE client_type!='backend' \n",
    "                AND DATE_TRUNC('month', date::date)='{date_str}'\n",
    "                GROUP BY 1,2,3\n",
    "                )\n",
    "            GROUP BY 1\n",
    "            '''\n",
    "    df_temp = execute(query,user = 'kmekhtiev')   \n",
    "    result.append(df_temp)\n",
    "    print(f\"\"\"Дата '{date_str}' загружена\"\"\")\n",
    "    print()\n",
    "\n",
    "df_visitor2 = pd.concat(result)\n",
    "df_visitor2['date_month'] = df_visitor2['date_month'].astype('datetime64[ns]')"
   ]
  },
  {
   "cell_type": "code",
   "execution_count": null,
   "id": "970b78da-5f42-4378-9392-167d95c1e252",
   "metadata": {
    "tags": []
   },
   "outputs": [],
   "source": [
    "df_visitor"
   ]
  },
  {
   "cell_type": "code",
   "execution_count": null,
   "id": "473ed402-0046-41c5-82db-edee3c5a0ca9",
   "metadata": {
    "tags": []
   },
   "outputs": [],
   "source": [
    "df_visitor2"
   ]
  },
  {
   "cell_type": "code",
   "execution_count": null,
   "id": "04b6fd88-732f-4a3b-a262-3b706cf78f9a",
   "metadata": {
    "tags": []
   },
   "outputs": [],
   "source": [
    "df_revenue.groupby(['date_month'])['paid_date'].nunique().reset_index()"
   ]
  },
  {
   "cell_type": "code",
   "execution_count": null,
   "id": "3d791435-c635-4c2c-a984-2d7eb9df2fd7",
   "metadata": {
    "tags": []
   },
   "outputs": [],
   "source": [
    "df_revenue_agg = df_revenue.groupby('date_month').agg({'payment':'sum','subscription_id':'nunique'}).reset_index()\n",
    "df_revenue_agg['ARPPU'] = df_revenue_agg.payment / df_revenue_agg.subscription_id\n",
    "df_revenue_agg[df_revenue_agg.date_month>='2024-07-25']"
   ]
  },
  {
   "cell_type": "code",
   "execution_count": null,
   "id": "316d7f01-2d65-4147-8a09-142d2fca7e26",
   "metadata": {
    "tags": []
   },
   "outputs": [],
   "source": [
    "df_revenue_agg = df_revenue2.groupby('date_month').agg({'payment':'sum','subscription_id':'nunique','user_id':'nunique'}).reset_index()\n",
    "df_revenue_agg['ARPPU'] = df_revenue_agg.payment / df_revenue_agg.subscription_id\n",
    "df_revenue_agg[df_revenue_agg.date_month>='2024-07-25']"
   ]
  },
  {
   "cell_type": "code",
   "execution_count": null,
   "id": "404b2a31-0c4c-428f-a225-89eaa571deaf",
   "metadata": {
    "tags": []
   },
   "outputs": [],
   "source": [
    "df_revenue_agg = df_revenue2[df_revenue2.cnt_profile==1].groupby('date_month').agg({'payment':'sum','subscription_id':'nunique','user_id':'nunique'}).reset_index()\n",
    "df_revenue_agg['ARPPU'] = df_revenue_agg.payment / df_revenue_agg.subscription_id\n",
    "df_revenue_agg[df_revenue_agg.date_month>='2024-07-25']"
   ]
  },
  {
   "cell_type": "code",
   "execution_count": null,
   "id": "006d6bbb-ef01-44ac-ac0d-329a93f717bc",
   "metadata": {
    "tags": []
   },
   "outputs": [],
   "source": [
    "dt = (df_revenue2[df_revenue2.date_month=='2024-07-27']\n",
    "        .groupby('user_id')['user_id']\n",
    "        .size()\n",
    "        .reset_index(name='count')\n",
    "     )\n",
    "dt[dt['count']>1]"
   ]
  },
  {
   "cell_type": "code",
   "execution_count": null,
   "id": "8e9dae99-4eca-48c3-ab43-88b27073ceb6",
   "metadata": {
    "tags": []
   },
   "outputs": [],
   "source": [
    "df_revenue_agg = df_revenue.groupby('date_month').agg({'payment':'sum','subscription_id':'nunique','subscription_id':'count'}).reset_index()\n",
    "df_revenue_agg['ARPPU'] = df_revenue_agg.payment / df_revenue_agg.subscription_id\n",
    "df_revenue_agg"
   ]
  },
  {
   "cell_type": "code",
   "execution_count": null,
   "id": "e3ad2bcb-7b26-4b95-899e-aa55875848b1",
   "metadata": {
    "tags": []
   },
   "outputs": [],
   "source": [
    "df_revenue_agg = df_revenue.groupby('date_month').agg({'payment':'sum','subscription_id':'count'}).reset_index()\n",
    "df_revenue_agg"
   ]
  },
  {
   "cell_type": "code",
   "execution_count": null,
   "id": "ca7c6155-2d10-47e5-a5e2-b67153fd914c",
   "metadata": {
    "tags": []
   },
   "outputs": [],
   "source": [
    "df_revenue_agg2 = pd.merge(df_revenue_agg,df_visitor,how='left',on='date_month')[['date_month','payment','subscription_id','cnt_visitor','ARPPU']]\n",
    "df_revenue_agg2['ARPU'] = df_revenue_agg2['payment'] / df_revenue_agg2['cnt_visitor']\n",
    "df_revenue_agg2"
   ]
  },
  {
   "cell_type": "code",
   "execution_count": null,
   "id": "d68ef61e-453c-4199-a19c-76a00536cc5e",
   "metadata": {
    "tags": []
   },
   "outputs": [],
   "source": [
    "list_date = pd.date_range(\"2024-06-30\", \"2024-07-30\", freq='D')\n",
    "result = []\n",
    "for date in list_date:\n",
    "    date_str = date.strftime('%Y-%m-%d')\n",
    "    query = f'''\n",
    "            SELECT \n",
    "                    '{date}' AS date,\n",
    "                     profile_id,\n",
    "                     user_id,\n",
    "                     first_prolong_date::date AS first_prolong_date,\n",
    "                     ends_at,\n",
    "                     ends_at - first_prolong_date AS lt\n",
    "                     FROM datamarts.marketing_dash_distr\n",
    "                     WHERE first_prolong_date BETWEEN '{date}'::date - interval '179' DAY AND '{date}'::date\n",
    "                     AND payer=1 \n",
    "            '''\n",
    "    df_temp = execute(query,user = 'kmekhtiev')   \n",
    "    result.append(df_temp)\n",
    "    print(f\"\"\"Дата '{date_str}' загружена\"\"\")\n",
    "    print()\n",
    "\n",
    "df_lt = pd.concat(result)\n",
    "df_lt['date'] = df_lt['date'].astype('datetime64[ns]')"
   ]
  },
  {
   "cell_type": "code",
   "execution_count": null,
   "id": "fe12952b-6214-4b72-b816-20e96f1c8186",
   "metadata": {},
   "outputs": [],
   "source": [
    "def sum_of_digits(N):\n",
    "    sum_digits = 0\n",
    "    while N > 0:\n",
    "        sum_digits += N % 10\n",
    "        N //= 10\n",
    "    return sum_digits\n",
    "\n",
    "# Пример использования:\n",
    "N = -3\n",
    "print(sum_of_digits(N))  # Вывод: 6"
   ]
  },
  {
   "cell_type": "code",
   "execution_count": null,
   "id": "bd11508d-7d98-48a5-bfbe-69b3dccaee44",
   "metadata": {
    "tags": []
   },
   "outputs": [],
   "source": [
    "sum_digits = 0\n",
    "N= -123\n",
    "sum_digits += N % 10\n",
    "N //= 10\n",
    "print(sum_digits)\n",
    "print(N)"
   ]
  },
  {
   "cell_type": "code",
   "execution_count": null,
   "id": "24c9902b-6bed-4c7e-ba10-0fa5b2ee9632",
   "metadata": {
    "tags": []
   },
   "outputs": [],
   "source": [
    "-123 % 10"
   ]
  },
  {
   "cell_type": "code",
   "execution_count": null,
   "id": "18b9162d-e94c-49d2-ae18-5cf98c06972c",
   "metadata": {},
   "outputs": [],
   "source": []
  }
 ],
 "metadata": {
  "kernelspec": {
   "display_name": "Python 3 (ipykernel)",
   "language": "python",
   "name": "python3"
  },
  "language_info": {
   "codemirror_mode": {
    "name": "ipython",
    "version": 3
   },
   "file_extension": ".py",
   "mimetype": "text/x-python",
   "name": "python",
   "nbconvert_exporter": "python",
   "pygments_lexer": "ipython3",
   "version": "3.11.7"
  }
 },
 "nbformat": 4,
 "nbformat_minor": 5
}
