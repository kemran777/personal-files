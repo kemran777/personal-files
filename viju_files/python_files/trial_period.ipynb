{
 "cells": [
  {
   "cell_type": "code",
   "execution_count": null,
   "id": "2d5b2ae8-c0b6-47a8-b9b0-217291a274fa",
   "metadata": {
    "tags": []
   },
   "outputs": [],
   "source": [
    "import pandas as pd\n",
    "import psycopg2\n",
    "import matplotlib.pyplot as plt\n",
    "import matplotlib.ticker as ticker\n",
    "import numpy as np\n",
    "import seaborn as sns \n",
    "import statsmodels.stats.proportion as proportion\n",
    "from scipy.stats import ttest_ind,mannwhitneyu,shapiro,norm\n",
    "from statsmodels.stats.weightstats import ztest\n",
    "from tqdm import tqdm\n",
    "import timeit\n",
    "from scipy import stats\n",
    "import math\n",
    "from datetime import date, datetime, timedelta\n",
    "import time\n",
    "from sqlalchemy import create_engine, text\n",
    "from sqlalchemy.orm import sessionmaker\n",
    "import warnings\n",
    "warnings.filterwarnings(\"ignore\")\n",
    "\n",
    "from credential import postgres_secret,clickhouse_dwh_secret\n",
    "\n",
    "def get_engine(user):\n",
    "    if user == postgres_secret['user']:\n",
    "        db_name = postgres_secret['db_name']\n",
    "        password = postgres_secret['password']\n",
    "        host = postgres_secret['host']\n",
    "        engine = create_engine(f'postgresql://{user}:{password}@{host}:6432/{db_name}')\n",
    "    elif user == clickhouse_dwh_secret['user']:\n",
    "            db_name = clickhouse_dwh_secret['db_name'] \n",
    "            password = clickhouse_dwh_secret['password']\n",
    "            host = clickhouse_dwh_secret['host']\n",
    "            engine = create_engine(f'clickhouse://{user}:{password}@{host}:8123/{db_name}')\n",
    "    return engine\n",
    "    \n",
    "\n",
    "        \n",
    "def execute(SQL, user):\n",
    "    start_time = time.time()  # запоминаем время начала выполнения функции\n",
    "    engine = get_engine(user)\n",
    "    Session = sessionmaker(bind=engine)  # sessions factory ()\n",
    "    with Session() as session: # open session\n",
    "        result = session.execute(text(SQL))\n",
    "        df = pd.DataFrame(result.fetchall(), columns=result.keys())\n",
    "        \n",
    "    end_time = time.time()  # запоминаем время окончания выполнения функции\n",
    "    execution_time = round(end_time - start_time,4) # вычисляем время выполнения   \n",
    "    \n",
    "    print(f\"Время выполнения функции: {execution_time} секунд\")\n",
    "    print()\n",
    "    return df"
   ]
  },
  {
   "cell_type": "code",
   "execution_count": null,
   "id": "b3002b10-ef0b-4260-86a7-f4034095e39e",
   "metadata": {
    "tags": []
   },
   "outputs": [],
   "source": [
    "query = '''CREATE TABLE datamarts.mekhtiev_watchtime_days_local ON CLUSTER 'viasat_cluster'\n",
    "            (\n",
    "                date Date,\n",
    "                profile_id UUID,\n",
    "                item_title String,\n",
    "                item_type String,\n",
    "                watchtime Int32\n",
    "             )\n",
    "             ENGINE = ReplicatedMergeTree('/clickhouse/tables/{shard}/datamarts.mekhtiev_watchtime_days_local', '{replica}')\n",
    "             ORDER BY date\n",
    "             '''\n",
    "execute(query,user = 'kmekhtiev')\n",
    "\n",
    "query = '''CREATE TABLE datamarts.mekhtiev_watchtime_days_distr ON CLUSTER 'viasat_cluster'\n",
    "            (\n",
    "                date Date,\n",
    "                profile_id UUID,\n",
    "                item_title String,\n",
    "                item_type String,\n",
    "                watchtime Int32\n",
    "             )\n",
    "            ENGINE = Distributed(viasat_cluster, datamarts, mekhtiev_watchtime_days_local, rand())\n",
    "             '''\n",
    "execute(query,user = 'kmekhtiev')"
   ]
  },
  {
   "cell_type": "code",
   "execution_count": null,
   "id": "96a51ce9-9ec1-485a-9d28-2c04e4c488ff",
   "metadata": {
    "tags": []
   },
   "outputs": [],
   "source": [
    "query_truncate = \"\"\"TRUNCATE TABLE datamarts.mekhtiev_watchtime_days_local  ON CLUSTER 'viasat_cluster' \"\"\"\n",
    "execute(query_truncate,user='kmekhtiev')\n",
    "\n",
    "\n",
    "query = \"\"\" INSERT INTO datamarts.mekhtiev_watchtime_days_distr\n",
    "                                        SELECT \n",
    "                                                date,\n",
    "                                                profile_id,\n",
    "                                                item_title,\n",
    "                                                item_type,\n",
    "                                                sum(viewing_time) AS watchtime\n",
    "                                                FROM \n",
    "                                                    (SELECT \n",
    "                                                                date,\n",
    "                                                                profile_id,                                                      \n",
    "                                                                event_page,\n",
    "                                                            JSONExtractInt(payload,'duration') AS duration,\n",
    "                                                            JSONExtractString(payload,'item_type') AS item_type,\n",
    "                                                            JSONExtractString(payload,'item_title') AS item_title,\n",
    "                                                            CASE WHEN event_page<>'tvchannel'\n",
    "                                                                      AND JSONExtractInt(payload,'viewing_time')<= JSONExtractInt(payload,'duration') \n",
    "                                                                      THEN JSONExtractInt(payload,'viewing_time')\n",
    "                                                                 WHEN event_page='tvchannel' \n",
    "                                                                      AND JSONExtractInt(payload,'viewing_time') <18000 \n",
    "                                                                      THEN JSONExtractInt(payload,'viewing_time')\n",
    "                                                            END AS viewing_time                                \n",
    "                                                            FROM datamarts.sandbox_data_distr AS t1\n",
    "                                                            LEFT JOIN product_x.users AS u ON t1.user_id=u.id\n",
    "                                                            WHERE date BETWEEN '2024-04-01'  AND '2024-08-15'\n",
    "                                                            AND event_name IN ('auto_player_streaming','auto_kinom_streaming')\n",
    "                                                            AND viewing_time IS NOT NULL   \n",
    "                                                            AND (promo_type IS NULL OR promo_type!='cards')\n",
    "                                                            AND (u.email NOT LIKE '%@test%' OR u.email IS NULL)\n",
    "                                                            AND created_at>='2024-04-01'\n",
    "                                                            and reg_date>='2024-04-01'\n",
    "                                                          )\n",
    "                                                          GROUP BY 1,2,3,4\n",
    "\"\"\"\n",
    "execute(query,user='kmekhtiev')"
   ]
  },
  {
   "cell_type": "code",
   "execution_count": null,
   "id": "3a143e25-5d57-4b12-9034-aa6243615ca9",
   "metadata": {
    "tags": []
   },
   "outputs": [],
   "source": [
    "query = '''CREATE TABLE datamarts.mekhtiev_trial_user_local ON CLUSTER 'viasat_cluster'\n",
    "            (\n",
    "                profile_id UUID,\n",
    "                reg_date Date,\n",
    "                trial_start Date,\n",
    "                trial_end Date,\n",
    "                first_prolong_date Date,\n",
    "                free_days Int32,\n",
    "                subs_type Int32\n",
    "             )\n",
    "             ENGINE = ReplicatedMergeTree('/clickhouse/tables/{shard}/datamarts.mekhtiev_trial_user_local', '{replica}')\n",
    "             ORDER BY reg_date\n",
    "             '''\n",
    "execute(query,user = 'kmekhtiev')\n",
    "\n",
    "\n",
    "\n",
    "query = '''CREATE TABLE datamarts.mekhtiev_trial_user_distr ON CLUSTER 'viasat_cluster'\n",
    "            (\n",
    "                profile_id UUID,\n",
    "                reg_date Date,\n",
    "                trial_start Date,\n",
    "                trial_end Date,\n",
    "                first_prolong_date Date,\n",
    "                free_days Int32,\n",
    "                subs_type Int32\n",
    "             )\n",
    "            ENGINE = Distributed(viasat_cluster, datamarts, mekhtiev_trial_user_local, rand())\n",
    "             '''\n",
    "execute(query,user = 'kmekhtiev')"
   ]
  },
  {
   "cell_type": "code",
   "execution_count": null,
   "id": "93e822d7-4128-4089-b8f6-ba7888aa867f",
   "metadata": {
    "tags": []
   },
   "outputs": [],
   "source": [
    "query_truncate = \"\"\"TRUNCATE TABLE datamarts.mekhtiev_trial_user_distr  ON CLUSTER 'viasat_cluster' \"\"\"\n",
    "execute(query_truncate,user='kmekhtiev')\n",
    "\n",
    "query = \"\"\" INSERT INTO datamarts.mekhtiev_trial_user_distr\n",
    "                SELECT\n",
    "                    profile_id,\n",
    "                    reg_date,\n",
    "                    created_at::date AS trial_start,\n",
    "                    trial_start + free_days AS trial_end,\n",
    "                    first_prolong_date,\n",
    "                    free_days,\n",
    "                    CASE WHEN first_prolong_date='1970-01-01' THEN 0 ELSE 1 END AS subs_type\n",
    "                    FROM datamarts.marketing_dash_distr AS t1\n",
    "                    LEFT JOIN product_x.users AS u ON t1.user_id=u.id\n",
    "                    WHERE created_at>='2024-04-01' \n",
    "                    AND reg_date>='2024-04-01'\n",
    "                    AND free_days IN (3,14,30,35,45)\n",
    "                    AND (promo_type IS NULL OR promo_type!='cards')\n",
    "                    AND (u.email NOT LIKE '%@test%' OR u.email IS NULL)\n",
    "\"\"\"\n",
    "execute(query,user='kmekhtiev')"
   ]
  },
  {
   "cell_type": "code",
   "execution_count": null,
   "id": "79ed5f24-c490-448a-a324-9e15921a2a81",
   "metadata": {
    "tags": []
   },
   "outputs": [],
   "source": [
    "df_watchtime = execute(\"\"\" SELECT * FROM datamarts.mekhtiev_watchtime_days_distr\"\"\",user='kmekhtiev')\n",
    "df_trial_user = execute(\"\"\" SELECT * FROM datamarts.mekhtiev_trial_user_distr\"\"\",user='kmekhtiev')"
   ]
  },
  {
   "cell_type": "code",
   "execution_count": null,
   "id": "651f63c2-bf9f-4112-8fb6-3ce4680b4ef2",
   "metadata": {
    "tags": []
   },
   "outputs": [],
   "source": [
    "df_merge = (pd.merge(df_trial_user[['profile_id','free_days','trial_start','trial_end','subs_type']]\n",
    "                     ,df_watchtime[['date','profile_id','watchtime','item_title','item_type']]\n",
    "                     ,how='left'\n",
    "                     ,on='profile_id'\n",
    "                     ,indicator = 'profile_type')\n",
    "           )\n",
    "df_merge['watchtime'].fillna(0,inplace=True)\n",
    "df_merge_agg = (df_merge[(df_merge.date<=df_merge.trial_end) & (df_merge.date>=df_merge.trial_start) & (df_merge.watchtime>=0)]\n",
    "                .groupby(['profile_id','free_days','trial_start','trial_end','subs_type'])\n",
    "                .agg({'watchtime':'sum','item_title':'nunique'})\n",
    "                .reset_index()\n",
    "               )\n",
    "df_merge_agg['watchtime']=df_merge_agg.watchtime/60"
   ]
  },
  {
   "cell_type": "code",
   "execution_count": null,
   "id": "b2eaba5d-4f1a-4f4f-b855-a52cc07518df",
   "metadata": {
    "tags": []
   },
   "outputs": [],
   "source": [
    "df_merge_agg[df_merge_agg.watchtime<np.percentile(df_merge_agg['watchtime'],95)]['watchtime'].hist()"
   ]
  },
  {
   "cell_type": "code",
   "execution_count": null,
   "id": "7425b933-cffd-43ec-b2f6-0cea0e855458",
   "metadata": {
    "tags": []
   },
   "outputs": [],
   "source": [
    "df_merge_agg = df_merge_agg[df_merge_agg.watchtime<np.percentile(df_merge_agg['watchtime'],95)]\n",
    "                 "
   ]
  },
  {
   "cell_type": "markdown",
   "id": "4daecb73-c5a5-4ef6-8774-91faa61f977d",
   "metadata": {},
   "source": [
    "## Коэффициент Корреляции между watchtime и булевым значением заплатит/ не заплатит"
   ]
  },
  {
   "cell_type": "code",
   "execution_count": null,
   "id": "31a32390-a710-47f7-aa0b-62bc055e5e18",
   "metadata": {
    "tags": []
   },
   "outputs": [],
   "source": [
    "print('Коэффициент корреляции Спирмена для:')\n",
    "for i in (3,14,30,35,45):\n",
    "        df_merge_agg_3 = df_merge_agg[df_merge_agg.free_days==i]\n",
    "        corr,p_value = stats.pearsonr(df_merge_agg_3['watchtime'], df_merge_agg_3['subs_type'])\n",
    "\n",
    "        print(f'триал {i}:',round(corr,3))"
   ]
  },
  {
   "cell_type": "markdown",
   "id": "9547b312-c03e-4996-930e-1c19158398c3",
   "metadata": {},
   "source": [
    "## Коэффициент Корреляции между числом просмотренного контента и булевым значением заплатит/ не заплатит"
   ]
  },
  {
   "cell_type": "code",
   "execution_count": null,
   "id": "bfcfc628-acb5-4af3-9090-fdf364852456",
   "metadata": {
    "tags": []
   },
   "outputs": [],
   "source": [
    "print('Коэффициент корреляции Спирмена для:')\n",
    "for i in (3,14,30,35,45):\n",
    "        df_merge_agg_3 = df_merge_agg[df_merge_agg.free_days==i]\n",
    "        corr,p_value = stats.pearsonr(df_merge_agg_3['item_title'], df_merge_agg_3['subs_type'])\n",
    "\n",
    "        print(f'триал {i}:',round(corr,3))"
   ]
  }
 ],
 "metadata": {
  "kernelspec": {
   "display_name": "Python 3 (ipykernel)",
   "language": "python",
   "name": "python3"
  },
  "language_info": {
   "codemirror_mode": {
    "name": "ipython",
    "version": 3
   },
   "file_extension": ".py",
   "mimetype": "text/x-python",
   "name": "python",
   "nbconvert_exporter": "python",
   "pygments_lexer": "ipython3",
   "version": "3.11.7"
  }
 },
 "nbformat": 4,
 "nbformat_minor": 5
}
