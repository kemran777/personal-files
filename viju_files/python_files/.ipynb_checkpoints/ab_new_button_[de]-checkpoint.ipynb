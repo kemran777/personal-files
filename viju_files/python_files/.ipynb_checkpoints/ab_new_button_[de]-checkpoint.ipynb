{
 "cells": [
  {
   "cell_type": "code",
   "execution_count": 413,
   "id": "cfaea661-ecaa-462a-b3c8-46568d6e70a1",
   "metadata": {
    "tags": []
   },
   "outputs": [],
   "source": [
    "import pandas as pd\n",
    "import psycopg2\n",
    "import matplotlib.pyplot as plt\n",
    "import matplotlib.ticker as ticker\n",
    "import numpy as np\n",
    "import seaborn as sns \n",
    "import statsmodels.stats.proportion as proportion\n",
    "from statsmodels.stats.proportion import proportions_ztest\n",
    "from scipy.stats import ttest_ind,mannwhitneyu,shapiro,norm\n",
    "from statsmodels.stats.weightstats import ztest\n",
    "from tqdm import tqdm\n",
    "import timeit\n",
    "from scipy import stats\n",
    "import math\n",
    "from datetime import date, datetime, timedelta\n",
    "import time\n",
    "from sqlalchemy import create_engine, text\n",
    "from sqlalchemy.orm import sessionmaker\n",
    "import warnings\n",
    "warnings.filterwarnings(\"ignore\")\n",
    "import clickhouse_connect  \n",
    "\n",
    "\n",
    "\n",
    "from credential import postgres_secret,clickhouse_dwh_secret\n",
    "\n",
    "def get_engine(user):\n",
    "    if user == postgres_secret['user']:\n",
    "        db_name = postgres_secret['db_name']\n",
    "        password = postgres_secret['password']\n",
    "        host = postgres_secret['host']\n",
    "        engine = create_engine(f'postgresql://{user}:{password}@{host}:6432/{db_name}')\n",
    "    elif user == clickhouse_dwh_secret['user']:\n",
    "            db_name = clickhouse_dwh_secret['db_name'] \n",
    "            password = clickhouse_dwh_secret['password']\n",
    "            host = clickhouse_dwh_secret['host']\n",
    "            engine = create_engine(f'clickhouse://{user}:{password}@{host}:8123/{db_name}')\n",
    "    return engine\n",
    "    \n",
    "connection_clickhouse = clickhouse_connect.get_client(\n",
    "    host = clickhouse_dwh_secret['host'],\n",
    "    port= '8123',\n",
    "    username = clickhouse_dwh_secret['user'],\n",
    "    password = clickhouse_dwh_secret['password'],\n",
    "    database='datamarts'\n",
    "    )\n",
    "\n",
    "    \n",
    "def execute(SQL, user):\n",
    "    start_time = time.time()  # запоминаем время начала выполнения функции\n",
    "    engine = get_engine(user)\n",
    "    Session = sessionmaker(bind=engine)  # sessions factory ()\n",
    "    with Session() as session: # open session\n",
    "        result = session.execute(text(SQL))\n",
    "        df = pd.DataFrame(result.fetchall(), columns=result.keys())\n",
    "        \n",
    "    end_time = time.time()  # запоминаем время окончания выполнения функции\n",
    "    execution_time = round(end_time - start_time,4) # вычисляем время выполнения   \n",
    "    \n",
    "    print(f\"Время выполнения функции: {execution_time} секунд\")\n",
    "    print()\n",
    "    return df"
   ]
  },
  {
   "cell_type": "code",
   "execution_count": 291,
   "id": "6cf7ef10-c2e6-4a9f-bb5a-e097bfb1cb0a",
   "metadata": {
    "tags": []
   },
   "outputs": [
    {
     "name": "stdout",
     "output_type": "stream",
     "text": [
      "Время выполнения функции: 1.3257 секунд\n",
      "\n"
     ]
    }
   ],
   "source": [
    "end_date = datetime.strptime('2024-11-05', '%Y-%m-%d')\n",
    "begin_date = end_date - timedelta(days=27)\n",
    "\n",
    "\n",
    "query =f'''\n",
    "SELECT \n",
    "user_id,\n",
    "reg_date,\n",
    "device,\n",
    "t1.bonus_title AS bonus_title,\n",
    "t2.bonus_title_new AS bonus_title_new,\n",
    "created_at::date AS created_date,\n",
    "CASE WHEN created_at='1970-01-01' THEN 0 ELSE 1 END trial_type\n",
    "FROM datamarts.marketing_dash_distr AS t1\n",
    "LEFT JOIN datamarts.mekhtiev_bonus_distr AS t2\n",
    "on t1.bonus_title=t2.bonus_title_old\n",
    "WHERE reg_date BETWEEN '{begin_date.date()}' AND '{end_date.date()}'\n",
    "\n",
    "                    '''\n",
    "\n",
    "df = execute(query,user = 'kmekhtiev')\n",
    "df['reg_date'] = df['reg_date'].astype('datetime64[ns]')"
   ]
  },
  {
   "cell_type": "code",
   "execution_count": 293,
   "id": "3e020d10-4012-4c8b-b871-1a0b26aafd33",
   "metadata": {
    "tags": []
   },
   "outputs": [
    {
     "name": "stdout",
     "output_type": "stream",
     "text": [
      "<class 'pandas.core.frame.DataFrame'>\n",
      "RangeIndex: 24428 entries, 0 to 24427\n",
      "Data columns (total 7 columns):\n",
      " #   Column           Non-Null Count  Dtype         \n",
      "---  ------           --------------  -----         \n",
      " 0   user_id          24428 non-null  object        \n",
      " 1   reg_date         24428 non-null  datetime64[ns]\n",
      " 2   device           24428 non-null  object        \n",
      " 3   bonus_title      24428 non-null  object        \n",
      " 4   bonus_title_new  24428 non-null  object        \n",
      " 5   created_date     24428 non-null  object        \n",
      " 6   trial_type       24428 non-null  int64         \n",
      "dtypes: datetime64[ns](1), int64(1), object(5)\n",
      "memory usage: 1.3+ MB\n"
     ]
    }
   ],
   "source": [
    "df.info()"
   ]
  },
  {
   "cell_type": "code",
   "execution_count": 295,
   "id": "3d7125a4-ee12-480e-ae06-5ca788a53769",
   "metadata": {
    "tags": []
   },
   "outputs": [
    {
     "name": "stdout",
     "output_type": "stream",
     "text": [
      "Девайс          Период (дни)         Количество с подпиской    Количество без подписки   Общее число пользователей\n",
      "web             7                    1478                      3620                      5098                     \n",
      "web             14                   2806                      6695                      9501                     \n",
      "web             21                   4159                      9766                      13925                    \n",
      "web             28                   5376                      12747                     18123                    \n",
      "\n",
      "android         7                    215                       986                       1201                     \n",
      "android         14                   380                       1855                      2235                     \n",
      "android         21                   566                       2797                      3363                     \n",
      "android         28                   729                       3735                      4464                     \n",
      "\n",
      "android_tablet  7                    6                         60                        66                       \n",
      "android_tablet  14                   14                        108                       122                      \n",
      "android_tablet  21                   17                        168                       185                      \n",
      "android_tablet  28                   25                        203                       228                      \n",
      "\n",
      "apple           7                    61                        297                       358                      \n",
      "apple           14                   127                       610                       737                      \n",
      "apple           21                   213                       916                       1129                     \n",
      "apple           28                   279                       1213                      1492                     \n",
      "\n",
      "tv              7                    7                         23                        30                       \n",
      "tv              14                   17                        39                        56                       \n",
      "tv              21                   30                        64                        94                       \n",
      "tv              28                   32                        84                        116                      \n",
      "\n",
      "                7                    0                         1                         1                        \n",
      "                14                   0                         1                         1                        \n",
      "                21                   0                         4                         4                        \n",
      "                28                   0                         5                         5                        \n",
      "\n"
     ]
    }
   ],
   "source": [
    "period = [6,13,20,27]\n",
    "device = df['device'].unique()\n",
    "\n",
    "print(f'{\"Девайс\":<15} {\"Период (дни)\":20} {\"Количество с подпиской\":<25} {\"Количество без подписки\":<25} {\"Общее число пользователей\":<25}')  \n",
    "for i in device:\n",
    "    for j in period:\n",
    "        count = df[(df['reg_date'] >= end_date - timedelta(days=j)) & (df['device']==i)]['trial_type'].value_counts()  \n",
    "        print(f'{i:<15} {j + 1:<20} {count.get(1, 0):<25} {count.get(0, 0):<25} {count.get(1,0) + count.get(0,0):<25}')\n",
    "    print()"
   ]
  },
  {
   "cell_type": "markdown",
   "id": "30982032-07e5-44d6-96ae-18faef236992",
   "metadata": {},
   "source": [
    "# Основные вводные"
   ]
  },
  {
   "cell_type": "code",
   "execution_count": 298,
   "id": "7e03adf1-10b4-4773-b32e-b925973f19e8",
   "metadata": {
    "tags": []
   },
   "outputs": [],
   "source": [
    "num_of_bucket = 2\n",
    "device = 'web'"
   ]
  },
  {
   "cell_type": "markdown",
   "id": "d6b9cbae-a5f4-478c-bf2e-cba4cb352382",
   "metadata": {
    "tags": []
   },
   "source": [
    "## Функция расчета абсолютного и относительного MDE конверсинной метрики"
   ]
  },
  {
   "cell_type": "code",
   "execution_count": 301,
   "id": "4d3ef2b1-d3a4-4ad0-9f24-926da18c3c5e",
   "metadata": {
    "tags": []
   },
   "outputs": [],
   "source": [
    "def mde_estimated_absolute (ttl_users,var,alpha,beta):\n",
    "        t_alpha = stats.norm.ppf(1 - alpha /(num_of_bucket - 1) / 2, loc=0, scale=1)\n",
    "        t_beta = stats.norm.ppf(1 - beta, loc=0, scale=1)\n",
    "        var = var * 2\n",
    "        MDE=(t_alpha+t_beta) * np.sqrt(var  / ttl_users)\n",
    "        return MDE"
   ]
  },
  {
   "cell_type": "code",
   "execution_count": 303,
   "id": "ab6b0161-aa24-4475-9d21-cfadb77856bd",
   "metadata": {
    "tags": []
   },
   "outputs": [
    {
     "name": "stdout",
     "output_type": "stream",
     "text": [
      "\u001b[1mПериод (дни) - 7 дней\u001b[0m\n",
      "\n",
      "MDE абсолютный: 0.0356\n",
      "MDE относительный: 0.1228\n",
      "Средняя конверсия в триал за неделю: 0.2899\n",
      "Дисперсия: 0.2059\n",
      "Число пользователей в группе: 2549\n",
      "\n",
      "==================================================\n",
      "\u001b[1mПериод (дни) - 14 дней\u001b[0m\n",
      "\n",
      "MDE абсолютный: 0.0262\n",
      "MDE относительный: 0.0888\n",
      "Средняя конверсия в триал за неделю: 0.2953\n",
      "Дисперсия: 0.2081\n",
      "Число пользователей в группе: 4751\n",
      "\n",
      "==================================================\n",
      "\u001b[1mПериод (дни) - 21 дней\u001b[0m\n",
      "\n",
      "MDE абсолютный: 0.0217\n",
      "MDE относительный: 0.0728\n",
      "Средняя конверсия в триал за неделю: 0.2987\n",
      "Дисперсия: 0.2095\n",
      "Число пользователей в группе: 6963\n",
      "\n",
      "==================================================\n",
      "\u001b[1mПериод (дни) - 28 дней\u001b[0m\n",
      "\n",
      "MDE абсолютный: 0.019\n",
      "MDE относительный: 0.0641\n",
      "Средняя конверсия в триал за неделю: 0.2966\n",
      "Дисперсия: 0.2087\n",
      "Число пользователей в группе: 9062\n",
      "\n",
      "==================================================\n"
     ]
    }
   ],
   "source": [
    "BOLD = \"\\033[1m\"  \n",
    "END = \"\\033[0m\"  \n",
    "for i in period:\n",
    "        df_agg = df[(df['device']==device) & (df['reg_date'] >= end_date - timedelta(days=i))]\n",
    "\n",
    "        ttl_users = math.ceil(df_agg['user_id'].count() / num_of_bucket)\n",
    "        var = df_agg['trial_type'].var()\n",
    "        mean = df_agg['trial_type'].mean()\n",
    "\n",
    "        mde_absolute=mde_estimated_absolute(ttl_users,var,0.05,0.2)\n",
    "        MDE = mde_absolute / mean\n",
    "        print(f\"{BOLD}Период (дни) - {i+1} дней{END}\") \n",
    "        print()\n",
    "        print('MDE абсолютный:',round(mde_absolute,4))\n",
    "        print('MDE относительный:',round(MDE,4))\n",
    "        print('Средняя конверсия в триал за неделю:',round(mean,4))\n",
    "        print('Дисперсия:',round(var,4)) \n",
    "        print('Число пользователей в группе:',math.ceil(ttl_users))\n",
    "        print()\n",
    "        print(\"=\"*50)"
   ]
  },
  {
   "cell_type": "markdown",
   "id": "e398d4f8-fab8-4918-9d92-54d8b3751c80",
   "metadata": {
    "tags": []
   },
   "source": [
    "# Удаление выбросов"
   ]
  },
  {
   "cell_type": "markdown",
   "id": "b871c2c6-592a-4ba4-add3-cc93df339285",
   "metadata": {},
   "source": [
    "## Квантильный анализ"
   ]
  },
  {
   "cell_type": "markdown",
   "id": "9bfa70fb-d4af-43b7-8662-157477e6c29e",
   "metadata": {
    "tags": []
   },
   "source": [
    "# Постстратификация"
   ]
  },
  {
   "cell_type": "code",
   "execution_count": 462,
   "id": "748235d9-803c-4e87-a360-83fa74c29d81",
   "metadata": {
    "tags": []
   },
   "outputs": [],
   "source": [
    "df_population = df[(df['device']==device)]\n",
    "weights = df_population['bonus_title_new'].value_counts(normalize=True).to_dict()"
   ]
  },
  {
   "cell_type": "code",
   "execution_count": 324,
   "id": "605ce47c-99a6-4747-a3e8-ebf74d8796a9",
   "metadata": {
    "tags": []
   },
   "outputs": [],
   "source": [
    "def calculate_mean(df):\n",
    "    return df['trial_type'].mean()\n",
    "\n",
    "\n",
    "def calculate_stratified_mean(df, weights):\n",
    "    strat_mean = df.groupby('bonus_title_new')['trial_type'].mean()\n",
    "    df_means_weights = pd.merge(\n",
    "        strat_mean,\n",
    "        pd.Series(weights, name='weight'),\n",
    "        how='inner',\n",
    "        left_index=True,\n",
    "        right_index=True\n",
    "    )\n",
    "    # если в данных df не было каких-то страт, то часть weights затрётся и сумма весов будет меньше 1\n",
    "    df_means_weights['weight'] = df_means_weights['weight'] / df_means_weights['weight'].sum()\n",
    "    mean_strat = (df_means_weights['weight'] * df_means_weights['trial_type']).sum()\n",
    "    return mean_strat"
   ]
  },
  {
   "cell_type": "code",
   "execution_count": 390,
   "id": "c06454ab-6d77-41a5-855c-d1e1a93eab30",
   "metadata": {
    "tags": []
   },
   "outputs": [],
   "source": [
    "def calculate_strat_var(df, weights):\n",
    "    \"\"\"Вычисляет стратифицированную дисперсию.\"\"\"\n",
    "    strat_vars = df.groupby('bonus_title_new')['trial_type'].var()\n",
    "    df_vars_weights = pd.merge(\n",
    "        strat_vars,\n",
    "        pd.Series(weights, name='weight'),\n",
    "        how='inner',\n",
    "        left_index=True,\n",
    "        right_index=True\n",
    "    )\n",
    "    # если в данных df не было каких-то страт, то часть weights затрётся и сумма весов будет меньше 1\n",
    "    df_vars_weights['weight'] = df_vars_weights['weight'] / df_vars_weights['weight'].sum()\n",
    "    var_strat = (df_vars_weights['weight'] * df_vars_weights['trial_type']).sum()\n",
    "    return var_strat\n",
    "\n",
    "\n",
    "def check_stratified_test(df_control, df_pilot, weights):\n",
    "    \"\"\"Проверяет гипотезу о равенстве средних для стратифицированного среднего.\n",
    "    \n",
    "    return - pvalue.\n",
    "    \"\"\"\n",
    "    mean_strat_control = calculate_stratified_mean(df_control, weights)\n",
    "    mean_strat_pilot = calculate_stratified_mean(df_pilot, weights)\n",
    "    var_strat_control = calculate_strat_var(df_control, weights)\n",
    "    var_strat_pilot = calculate_strat_var(df_pilot, weights)\n",
    "    delta_mean_strat = mean_strat_pilot - mean_strat_control\n",
    "    std_mean_strat = (var_strat_pilot / len(df_pilot) + var_strat_control / len(df_control)) ** 0.5\n",
    "    t = delta_mean_strat / std_mean_strat\n",
    "    pvalue = (1 - stats.norm.cdf(np.abs(t))) * 2\n",
    "    return pvalue"
   ]
  },
  {
   "cell_type": "code",
   "execution_count": null,
   "id": "c2cec30c-d51a-4d27-aa9c-3dd74a05acc4",
   "metadata": {},
   "outputs": [],
   "source": [
    "prop_control = success_control / n_control\n",
    "prop_pilot = success_pilot / n_pilot\n",
    "\n",
    "\n",
    "prop_combined = (success_control + success_pilot) / (n_control + n_pilot)\n",
    "se = np.sqrt(prop_combined * (1 - prop_combined) * (1/n_control + 1/n_pilot) )\n",
    "\n",
    "z_stat = (prop_control - prop_pilot) / se\n",
    "p_value = 2 * (1 - norm.cdf(abs(z_stat)))"
   ]
  },
  {
   "cell_type": "markdown",
   "id": "d80c2214-9f86-4637-9b0d-0dcc29947ac9",
   "metadata": {},
   "source": [
    "# CUPED"
   ]
  },
  {
   "cell_type": "markdown",
   "id": "af6fa245-1f2a-48af-a8b7-ce1800edc10e",
   "metadata": {},
   "source": [
    "# Симмуляция Монте-Карло АА-теста "
   ]
  },
  {
   "cell_type": "markdown",
   "id": "ae2015b0-3147-48c7-81ab-4cb47c404efe",
   "metadata": {},
   "source": [
    "## Критерий  z-test "
   ]
  },
  {
   "cell_type": "code",
   "execution_count": 206,
   "id": "2e00cf52-5556-46db-a596-8b714f8185c9",
   "metadata": {
    "tags": []
   },
   "outputs": [
    {
     "name": "stderr",
     "output_type": "stream",
     "text": [
      "100%|██████████| 1000/1000 [00:01<00:00, 911.28it/s]\n"
     ]
    },
    {
     "name": "stdout",
     "output_type": "stream",
     "text": [
      "\n",
      "Период (дни) - 21 дней\n",
      "Итераций с p_value<0.05: 796\n",
      "Число пользователей всего: 13926\n"
     ]
    },
    {
     "data": {
      "image/png": "[encoded data removed]",
      "text/plain": [
       "<Figure size 1500x800 with 1 Axes>"
      ]
     },
     "metadata": {},
     "output_type": "display_data"
    }
   ],
   "source": [
    "day=20\n",
    "effect = 0.0722\n",
    "\n",
    "ttl_users = math.ceil(df[(df['device']==device) & (df['reg_date'] >= end_date - timedelta(days=day))]['user_id'].nunique() / num_of_bucket)\n",
    "pvalues_ttest = []\n",
    "for i in tqdm(range(1000)):\n",
    "    \n",
    "        df_control = df_agg.sample(n=ttl_users,replace=True)\n",
    "        df_pilot = df_agg.sample(n=ttl_users,replace=True)\n",
    "        \n",
    "        success_control = df_control['trial_type'].sum()\n",
    "        success_pilot = df_pilot['trial_type'].sum() * (1 + effect)\n",
    "        n_control = len(df_control)\n",
    "        n_pilot = len(df_pilot)\n",
    " \n",
    "        _, p_value = proportions_ztest([success_control, success_pilot], [n_control, n_pilot])\n",
    "        pvalues_ttest.append(p_value)\n",
    "        \n",
    "list_pvalues = [pvalues_ttest]\n",
    "list_titles = ['ttest_initital']\n",
    "print()\n",
    "print(f\"Период (дни) - {day+1} дней\")\n",
    "print(f'Итераций с p_value<0.05:',len([p for p in pvalues_ttest if p<0.05]))\n",
    "print(f'Число пользователей всего:', ttl_users * 2)\n",
    "plt.figure(figsize=(15,8))\n",
    "\n",
    "X = np.linspace(0, 1, 1000)\n",
    "for pvalues, title in zip(reversed(list_pvalues), reversed(list_titles)):\n",
    "    pvalues = np.array(pvalues)\n",
    "    Y = [np.mean(pvalues < x) for x in X]\n",
    "    plt.plot(X, Y, alpha=0.5, linewidth=3, label=title)\n",
    "plt.xlabel('pvalue')\n",
    "x_values = [0.05]\n",
    "plt.vlines(x_values, ymin=0, ymax=1, linestyles='dotted', colors='gray')\n",
    "plt.axhline(y=0.8, color='gray', linestyle='dotted')\n",
    "plt.xlim([-0.05, 1])\n",
    "plt.xlabel('p-value', size=14)\n",
    "plt.ylabel('Probability', size=14)\n",
    "plt.plot([0, 1], [0, 1], 'k')\n",
    "plt.legend(loc=5)\n",
    "plt.show()"
   ]
  },
  {
   "cell_type": "markdown",
   "id": "130f829d-8bf8-4162-9c1f-55c369ead418",
   "metadata": {},
   "source": [
    "## Критерий  t-test"
   ]
  },
  {
   "cell_type": "code",
   "execution_count": 401,
   "id": "6044edcd-c6a3-4c82-8055-2fc767842836",
   "metadata": {
    "tags": []
   },
   "outputs": [
    {
     "name": "stderr",
     "output_type": "stream",
     "text": [
      "100%|██████████| 1000/1000 [00:00<00:00, 1747.43it/s]"
     ]
    },
    {
     "name": "stdout",
     "output_type": "stream",
     "text": [
      "\n",
      "Период (дни) - 7 дней\n",
      "Итераций с p_value<0.05: 760\n",
      "Число пользователей всего: 5098\n"
     ]
    },
    {
     "name": "stderr",
     "output_type": "stream",
     "text": [
      "\n"
     ]
    },
    {
     "data": {
      "text/plain": [
       "<matplotlib.legend.Legend at 0x314a976d0>"
      ]
     },
     "execution_count": 401,
     "metadata": {},
     "output_type": "execute_result"
    },
    {
     "data": {
      "image/png": "[encoded data removed]",
      "text/plain": [
       "<Figure size 1500x800 with 1 Axes>"
      ]
     },
     "metadata": {},
     "output_type": "display_data"
    }
   ],
   "source": [
    "day = 6\n",
    "effect = 0.1228\n",
    "\n",
    "\n",
    "ttl_users = math.ceil(df[(df['device'] == device) & (df['reg_date'] >= end_date - timedelta(days=day))]['user_id'].nunique() / num_of_bucket)\n",
    "pvalues_ttest = []\n",
    "for i in tqdm(range(1000)):\n",
    "    \n",
    "    df_control = df_agg.sample(n=ttl_users, replace=True)\n",
    "    df_pilot = df_agg.sample(n=ttl_users, replace=True)\n",
    "    df_pilot = df_pilot['trial_type'] * (1 + effect)\n",
    "    \n",
    "    \n",
    "    # Проведение t-теста\n",
    "    _,p_value = ttest_ind(df_control['trial_type'], df_pilot)\n",
    "    pvalues_ttest.append(p_value)\n",
    "        \n",
    "list_pvalues = [pvalues_ttest]\n",
    "list_titles = ['ttest_initial']\n",
    "print()\n",
    "print(f\"Период (дни) - {day+1} дней\")\n",
    "print(f'Итераций с p_value<0.05:', len([p for p in pvalues_ttest if p < 0.05]))\n",
    "print(f'Число пользователей всего:', ttl_users * 2)\n",
    "plt.figure(figsize=(15, 8))\n",
    "\n",
    "X = np.linspace(0, 1, 1000)\n",
    "for pvalues, title in zip(reversed(list_pvalues), reversed(list_titles)):\n",
    "    pvalues = np.array(pvalues)\n",
    "    Y = [np.mean(pvalues < x) for x in X]\n",
    "    plt.plot(X, Y, alpha=0.5, linewidth=3, label=title)\n",
    "plt.xlabel('pvalue')\n",
    "x_values = [0.05]\n",
    "plt.vlines(x_values, ymin=0, ymax=1, linestyles='dotted', colors='gray')\n",
    "plt.axhline(y=0.8, color='gray', linestyle='dotted')\n",
    "plt.xlim([-0.05, 1])\n",
    "plt.xlabel('p-value', size=14)\n",
    "plt.ylabel('Probability', size=14)\n",
    "plt.plot([0, 1], [0, 1], 'k')\n",
    "plt.legend(loc=5)\n"
   ]
  },
  {
   "cell_type": "code",
   "execution_count": 460,
   "id": "60388180-15e6-4470-8671-0f0f6c74b4d9",
   "metadata": {
    "tags": []
   },
   "outputs": [
    {
     "ename": "NameError",
     "evalue": "name 'df_watchtime_2' is not defined",
     "output_type": "error",
     "traceback": [
      "\u001b[0;31m---------------------------------------------------------------------------\u001b[0m",
      "\u001b[0;31mNameError\u001b[0m                                 Traceback (most recent call last)",
      "Cell \u001b[0;32mIn[460], line 1\u001b[0m\n\u001b[0;32m----> 1\u001b[0m weights \u001b[38;5;241m=\u001b[39m df_watchtime_2[\u001b[38;5;124m'\u001b[39m\u001b[38;5;124mdevice_model\u001b[39m\u001b[38;5;124m'\u001b[39m]\u001b[38;5;241m.\u001b[39mvalue_counts(normalize\u001b[38;5;241m=\u001b[39m\u001b[38;5;28;01mTrue\u001b[39;00m)\u001b[38;5;241m.\u001b[39mto_dict()\n\u001b[1;32m      2\u001b[0m df_agg \u001b[38;5;241m=\u001b[39m math\u001b[38;5;241m.\u001b[39mceil(df[(df[\u001b[38;5;124m'\u001b[39m\u001b[38;5;124mdevice\u001b[39m\u001b[38;5;124m'\u001b[39m] \u001b[38;5;241m==\u001b[39m device) \u001b[38;5;241m&\u001b[39m (df[\u001b[38;5;124m'\u001b[39m\u001b[38;5;124mreg_date\u001b[39m\u001b[38;5;124m'\u001b[39m] \u001b[38;5;241m>\u001b[39m\u001b[38;5;241m=\u001b[39m end_date \u001b[38;5;241m-\u001b[39m timedelta(days\u001b[38;5;241m=\u001b[39mday))])\n\u001b[1;32m      4\u001b[0m ttl_users \u001b[38;5;241m=\u001b[39m math\u001b[38;5;241m.\u001b[39mceil(df_agg[\u001b[38;5;124m'\u001b[39m\u001b[38;5;124muser_id\u001b[39m\u001b[38;5;124m'\u001b[39m]\u001b[38;5;241m.\u001b[39mnunique() \u001b[38;5;241m/\u001b[39m num_of_bucket)\n",
      "\u001b[0;31mNameError\u001b[0m: name 'df_watchtime_2' is not defined"
     ]
    }
   ],
   "source": [
    "df_agg = math.ceil(df[(df['device'] == device) & (df['reg_date'] >= end_date - timedelta(days=6))])\n",
    "\n",
    "ttl_users = math.ceil(df_agg['user_id'].nunique() / num_of_bucket)\n",
    "\n",
    "effect = 0\n",
    "\n",
    "pvalues_ttest = []\n",
    "pvalues_ttest_strat = []\n",
    "var_initial = []\n",
    "var_strat = []\n",
    "mean_initial = []\n",
    "mean_strat = []\n",
    "\n",
    "\n",
    "for i in tqdm(range(1000)):\n",
    "    \n",
    "        df_control = df_agg.sample(n=ttl_users, replace=True)\n",
    "        df_pilot = df_agg.sample(n=ttl_users, replace=True)\n",
    "        df_pilot['trial_type'] = df_pilot['trial_type'] * (1 + effect)\n",
    "        mean = df_pilot.mean()\n",
    "        var = df_pilot.var()\n",
    "        pvalue = ttest_ind(df_control['trial_type'], df_pilot['trial_type'])[1]\n",
    "\n",
    "        \n",
    "        df_control = df_agg.sample(n=ttl_users, replace=True)\n",
    "        df_pilot = df_agg.sample(n=ttl_users, replace=True)\n",
    "        df_pilot['trial_type'] = df_pilot['trial_type'] * (1 + effect)\n",
    "        mean2 = calculate_stratified_mean(df_pilot,weights)\n",
    "        var2 = calculate_strat_var(df,weights)\n",
    "        pvalue_strat = check_stratified_test(df_control, df_pilot, weights)\n",
    "        \n",
    "    \n",
    "        \n",
    "        pvalues_ttest.append(pvalue)\n",
    "        pvalues_ttest_strat.append(pvalue_strat)\n",
    "        \n",
    "        var_initial.append(var)\n",
    "        var_strat.append(var2)\n",
    "        \n",
    "        mean_initial.append(mean)\n",
    "        mean_strat.append(mean2)\n",
    "\n",
    "list_pvalues = [pvalues_ttest, pvalues_ttest_strat]\n",
    "list_titles = ['ttest_initital', 'ttest with strat',]\n",
    "\n",
    "print(\"Среднее значение выборочных дисперсий:\",np.mean(var_initial))\n",
    "print(\"Среднее значение выборочных дисперсий с применением постратификации:\",np.mean(var_strat))  \n",
    "print()\n",
    "print(\"Среднее значение выборочных средних:\",np.mean(mean_initial))\n",
    "print(\"Среднее значение выборочных средних c применением постстратификации :\",np.mean(mean_strat))\n",
    "\n",
    "plt.figure(figsize=(15,8))\n",
    "\n",
    "X = np.linspace(0, 1, 1000)\n",
    "for pvalues, title in zip(reversed(list_pvalues), reversed(list_titles)):\n",
    "    pvalues = np.array(pvalues)\n",
    "    Y = [np.mean(pvalues < x) for x in X]\n",
    "    plt.plot(X, Y, alpha=0.5, linewidth=3, label=title)\n",
    "plt.xlabel('pvalue')\n",
    "x_values = [0.05]\n",
    "plt.vlines(x_values, ymin=0, ymax=1, linestyles='dotted', colors='gray')\n",
    "plt.axhline(y=0.8, color='gray', linestyle='dotted')\n",
    "plt.xlim([-0.05, 1])\n",
    "plt.xlabel('p-value', size=14)\n",
    "plt.ylabel('Probability', size=14)\n",
    "plt.plot([0, 1], [0, 1], 'k')\n",
    "plt.legend(loc=5)\n",
    "plt.show()"
   ]
  },
  {
   "cell_type": "code",
   "execution_count": 458,
   "id": "ead74fd8-62c5-471e-9b1b-7a3a6880d48d",
   "metadata": {
    "tags": []
   },
   "outputs": [
    {
     "data": {
      "text/plain": [
       "0.05896898377505977"
      ]
     },
     "execution_count": 458,
     "metadata": {},
     "output_type": "execute_result"
    }
   ],
   "source": [
    "df_control = df_agg.sample(n=ttl_users, replace=True)\n",
    "df_pilot = df_agg.sample(n=ttl_users, replace=True)\n",
    "df_pilot['trial_type'] = df_pilot['trial_type'] * (1 + effect)\n",
    "means_strat = calculate_stratified_mean(df_pilot,weights)\n",
    "var = calculate_strat_var(df,weights)\n",
    "pvalue_strat = check_stratified_test(df_control, df_pilot, weights)\n",
    "\n",
    "\n",
    "var"
   ]
  },
  {
   "cell_type": "code",
   "execution_count": 442,
   "id": "770ab091-26b9-4ed6-ab58-54450bc7ba4c",
   "metadata": {
    "tags": []
   },
   "outputs": [],
   "source": [
    "df_control = df_agg.sample(n=ttl_users, replace=True)\n",
    "df_pilot = df_agg.sample(n=ttl_users, replace=True)\n",
    "# Обновляем существующий столбец  \n",
    "df_pilot['trial_type'] = df_pilot['trial_type'] * (1 + effect)"
   ]
  },
  {
   "cell_type": "code",
   "execution_count": 444,
   "id": "add7408f-3695-4661-a88f-51ede1f64049",
   "metadata": {
    "tags": []
   },
   "outputs": [
    {
     "data": {
      "text/html": [
       "<div>\n",
       "<style scoped>\n",
       "    .dataframe tbody tr th:only-of-type {\n",
       "        vertical-align: middle;\n",
       "    }\n",
       "\n",
       "    .dataframe tbody tr th {\n",
       "        vertical-align: top;\n",
       "    }\n",
       "\n",
       "    .dataframe thead th {\n",
       "        text-align: right;\n",
       "    }\n",
       "</style>\n",
       "<table border=\"1\" class=\"dataframe\">\n",
       "  <thead>\n",
       "    <tr style=\"text-align: right;\">\n",
       "      <th></th>\n",
       "      <th>user_id</th>\n",
       "      <th>reg_date</th>\n",
       "      <th>device</th>\n",
       "      <th>bonus_title</th>\n",
       "      <th>bonus_title_new</th>\n",
       "      <th>created_date</th>\n",
       "      <th>trial_type</th>\n",
       "    </tr>\n",
       "  </thead>\n",
       "  <tbody>\n",
       "    <tr>\n",
       "      <th>8141</th>\n",
       "      <td>2f2cb1df-df03-45f7-a198-9e678d62951f</td>\n",
       "      <td>2024-11-01</td>\n",
       "      <td>web</td>\n",
       "      <td>Flocktory: Exchange 365 (3&amp;399)</td>\n",
       "      <td>Flocktory</td>\n",
       "      <td>2024-11-01</td>\n",
       "      <td>1.1228</td>\n",
       "    </tr>\n",
       "    <tr>\n",
       "      <th>3506</th>\n",
       "      <td>3e8345e2-e9ee-4e41-b637-d80797e70acf</td>\n",
       "      <td>2024-11-02</td>\n",
       "      <td>web</td>\n",
       "      <td></td>\n",
       "      <td></td>\n",
       "      <td>2024-11-02</td>\n",
       "      <td>1.1228</td>\n",
       "    </tr>\n",
       "    <tr>\n",
       "      <th>14490</th>\n",
       "      <td>0c16a4af-18e1-407d-8e0a-f3ad68bbbc9b</td>\n",
       "      <td>2024-11-02</td>\n",
       "      <td>web</td>\n",
       "      <td>Flocktory: Exchange 365 (3&amp;399)</td>\n",
       "      <td>Flocktory</td>\n",
       "      <td>2024-11-02</td>\n",
       "      <td>1.1228</td>\n",
       "    </tr>\n",
       "    <tr>\n",
       "      <th>20928</th>\n",
       "      <td>b998f092-1522-4874-819b-a2fb839acccf</td>\n",
       "      <td>2024-10-30</td>\n",
       "      <td>web</td>\n",
       "      <td></td>\n",
       "      <td></td>\n",
       "      <td>1970-01-01</td>\n",
       "      <td>0.0000</td>\n",
       "    </tr>\n",
       "    <tr>\n",
       "      <th>16151</th>\n",
       "      <td>88e9c3f1-a86b-43e0-82ba-c573e0a6f650</td>\n",
       "      <td>2024-11-03</td>\n",
       "      <td>web</td>\n",
       "      <td></td>\n",
       "      <td></td>\n",
       "      <td>1970-01-01</td>\n",
       "      <td>0.0000</td>\n",
       "    </tr>\n",
       "    <tr>\n",
       "      <th>...</th>\n",
       "      <td>...</td>\n",
       "      <td>...</td>\n",
       "      <td>...</td>\n",
       "      <td>...</td>\n",
       "      <td>...</td>\n",
       "      <td>...</td>\n",
       "      <td>...</td>\n",
       "    </tr>\n",
       "    <tr>\n",
       "      <th>16408</th>\n",
       "      <td>3a113717-eb06-40dc-a479-0b03ce0258d4</td>\n",
       "      <td>2024-11-03</td>\n",
       "      <td>web</td>\n",
       "      <td></td>\n",
       "      <td></td>\n",
       "      <td>1970-01-01</td>\n",
       "      <td>0.0000</td>\n",
       "    </tr>\n",
       "    <tr>\n",
       "      <th>21830</th>\n",
       "      <td>35dfb4c4-0de7-44fd-8bca-42423eb6c534</td>\n",
       "      <td>2024-11-05</td>\n",
       "      <td>web</td>\n",
       "      <td></td>\n",
       "      <td></td>\n",
       "      <td>1970-01-01</td>\n",
       "      <td>0.0000</td>\n",
       "    </tr>\n",
       "    <tr>\n",
       "      <th>20983</th>\n",
       "      <td>aad6d7cf-54b8-4fe4-8943-2c73b38bb3fe</td>\n",
       "      <td>2024-10-30</td>\n",
       "      <td>web</td>\n",
       "      <td>Flocktory: BSP</td>\n",
       "      <td>Flocktory</td>\n",
       "      <td>2024-10-30</td>\n",
       "      <td>1.1228</td>\n",
       "    </tr>\n",
       "    <tr>\n",
       "      <th>11308</th>\n",
       "      <td>55e9f2c8-162b-41b9-b94e-bcc1aaa4eef5</td>\n",
       "      <td>2024-10-30</td>\n",
       "      <td>web</td>\n",
       "      <td></td>\n",
       "      <td></td>\n",
       "      <td>1970-01-01</td>\n",
       "      <td>0.0000</td>\n",
       "    </tr>\n",
       "    <tr>\n",
       "      <th>501</th>\n",
       "      <td>14d26439-7b74-4804-8525-97276f9a63af</td>\n",
       "      <td>2024-11-01</td>\n",
       "      <td>web</td>\n",
       "      <td></td>\n",
       "      <td></td>\n",
       "      <td>1970-01-01</td>\n",
       "      <td>0.0000</td>\n",
       "    </tr>\n",
       "  </tbody>\n",
       "</table>\n",
       "<p>2549 rows × 7 columns</p>\n",
       "</div>"
      ],
      "text/plain": [
       "                                    user_id   reg_date device  \\\n",
       "8141   2f2cb1df-df03-45f7-a198-9e678d62951f 2024-11-01    web   \n",
       "3506   3e8345e2-e9ee-4e41-b637-d80797e70acf 2024-11-02    web   \n",
       "14490  0c16a4af-18e1-407d-8e0a-f3ad68bbbc9b 2024-11-02    web   \n",
       "20928  b998f092-1522-4874-819b-a2fb839acccf 2024-10-30    web   \n",
       "16151  88e9c3f1-a86b-43e0-82ba-c573e0a6f650 2024-11-03    web   \n",
       "...                                     ...        ...    ...   \n",
       "16408  3a113717-eb06-40dc-a479-0b03ce0258d4 2024-11-03    web   \n",
       "21830  35dfb4c4-0de7-44fd-8bca-42423eb6c534 2024-11-05    web   \n",
       "20983  aad6d7cf-54b8-4fe4-8943-2c73b38bb3fe 2024-10-30    web   \n",
       "11308  55e9f2c8-162b-41b9-b94e-bcc1aaa4eef5 2024-10-30    web   \n",
       "501    14d26439-7b74-4804-8525-97276f9a63af 2024-11-01    web   \n",
       "\n",
       "                           bonus_title bonus_title_new created_date  \\\n",
       "8141   Flocktory: Exchange 365 (3&399)       Flocktory   2024-11-01   \n",
       "3506                                                     2024-11-02   \n",
       "14490  Flocktory: Exchange 365 (3&399)       Flocktory   2024-11-02   \n",
       "20928                                                    1970-01-01   \n",
       "16151                                                    1970-01-01   \n",
       "...                                ...             ...          ...   \n",
       "16408                                                    1970-01-01   \n",
       "21830                                                    1970-01-01   \n",
       "20983                   Flocktory: BSP       Flocktory   2024-10-30   \n",
       "11308                                                    1970-01-01   \n",
       "501                                                      1970-01-01   \n",
       "\n",
       "       trial_type  \n",
       "8141       1.1228  \n",
       "3506       1.1228  \n",
       "14490      1.1228  \n",
       "20928      0.0000  \n",
       "16151      0.0000  \n",
       "...           ...  \n",
       "16408      0.0000  \n",
       "21830      0.0000  \n",
       "20983      1.1228  \n",
       "11308      0.0000  \n",
       "501        0.0000  \n",
       "\n",
       "[2549 rows x 7 columns]"
      ]
     },
     "execution_count": 444,
     "metadata": {},
     "output_type": "execute_result"
    }
   ],
   "source": [
    "df_pilot"
   ]
  },
  {
   "cell_type": "code",
   "execution_count": null,
   "id": "22383241-0160-490c-b37b-713a9e8ff142",
   "metadata": {},
   "outputs": [],
   "source": []
  }
 ],
 "metadata": {
  "kernelspec": {
   "display_name": "Python 3 (ipykernel)",
   "language": "python",
   "name": "python3"
  },
  "language_info": {
   "codemirror_mode": {
    "name": "ipython",
    "version": 3
   },
   "file_extension": ".py",
   "mimetype": "text/x-python",
   "name": "python",
   "nbconvert_exporter": "python",
   "pygments_lexer": "ipython3",
   "version": "3.11.7"
  }
 },
 "nbformat": 4,
 "nbformat_minor": 5
}
