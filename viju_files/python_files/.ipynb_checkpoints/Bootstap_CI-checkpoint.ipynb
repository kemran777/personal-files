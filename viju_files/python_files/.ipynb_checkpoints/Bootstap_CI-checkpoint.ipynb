{
 "cells": [
  {
   "cell_type": "code",
   "execution_count": 2,
   "id": "767f08ab-fff6-4201-9011-6fd4bb0a0d45",
   "metadata": {
    "tags": []
   },
   "outputs": [],
   "source": [
    "import pandas as pd\n",
    "import psycopg2\n",
    "import matplotlib.pyplot as plt\n",
    "import matplotlib.ticker as ticker\n",
    "import numpy as np\n",
    "import seaborn as sns \n",
    "import statsmodels.stats.proportion as proportion\n",
    "from scipy.stats import ttest_ind,mannwhitneyu,shapiro,norm\n",
    "from statsmodels.stats.weightstats import ztest\n",
    "from tqdm import tqdm\n",
    "import timeit\n",
    "from scipy import stats\n",
    "from sqlalchemy import create_engine\n",
    "import math\n",
    "from datetime import date, datetime, timedelta\n",
    "import time\n",
    "from sqlalchemy import create_engine, text\n",
    "from sqlalchemy.orm import sessionmaker\n",
    "import warnings\n",
    "warnings.filterwarnings(\"ignore\")\n",
    "\n",
    "from credential import postgres_secret,clickhouse_dwh_secret\n",
    "\n",
    "def get_engine(user):\n",
    "    if user == postgres_secret['user']:\n",
    "        db_name = postgres_secret['db_name']\n",
    "        password = postgres_secret['password']\n",
    "        host = postgres_secret['host']\n",
    "        engine = create_engine(f'postgresql://{user}:{password}@{host}:6432/{db_name}')\n",
    "    elif user == clickhouse_dwh_secret['user']:\n",
    "            db_name = clickhouse_dwh_secret['db_name'] \n",
    "            password = clickhouse_dwh_secret['password']\n",
    "            host = clickhouse_dwh_secret['host']\n",
    "            engine = create_engine(f'clickhouse://{user}:{password}@{host}:8123/{db_name}')\n",
    "    return engine\n",
    "    \n",
    "\n",
    "    \n",
    "def execute(SQL, user):\n",
    "    start_time = time.time()  # запоминаем время начала выполнения функции\n",
    "    engine = get_engine(user)\n",
    "    Session = sessionmaker(bind=engine)  # sessions factory ()\n",
    "    with Session() as session: # open session\n",
    "        result = session.execute(text(SQL))\n",
    "        df = pd.DataFrame(result.fetchall(), columns=result.keys())\n",
    "        \n",
    "    end_time = time.time()  # запоминаем время окончания выполнения функции\n",
    "    execution_time = round(end_time - start_time,4) # вычисляем время выполнения   \n",
    "    \n",
    "    print(f\"Время выполнения функции: {execution_time} секунд\")\n",
    "    print()\n",
    "    return df"
   ]
  },
  {
   "cell_type": "code",
   "execution_count": 41,
   "id": "a55319f4-bf3d-4445-b3eb-10895b297326",
   "metadata": {
    "tags": []
   },
   "outputs": [
    {
     "data": {
      "image/png": "[encoded data removed]",
      "text/plain": [
       "<Figure size 640x480 with 1 Axes>"
      ]
     },
     "metadata": {},
     "output_type": "display_data"
    }
   ],
   "source": [
    "data = np.random.exponential(scale=1/0.01,size=5000)\n",
    "plt.hist(data,bins=30,density=True,color='skyblue',edgecolor='black')\n",
    "plt.show()"
   ]
  },
  {
   "cell_type": "markdown",
   "id": "9fd34f7d-36cf-4c34-98d3-6b984017c682",
   "metadata": {},
   "source": [
    "# Функция бутстрапа для среднего значения"
   ]
  },
  {
   "cell_type": "code",
   "execution_count": 51,
   "id": "93495a31-f5fc-4761-b9bc-3a18453a05aa",
   "metadata": {
    "tags": []
   },
   "outputs": [],
   "source": [
    "def bootstrap_mean(data,alpha):\n",
    "        boot_metric = np.array([])\n",
    "        mean = data.mean()\n",
    "        for _ in tqdm(range(10000)):\n",
    "                t = np.random.choice(data,size = len(data),replace=True)\n",
    "                boot_metric = np.append(boot_metric,t.mean())\n",
    "\n",
    "        se_boot = np.std(boot_metric) # Стандартное отклонение по бустрапной выборке\n",
    "        se = np.std(data) # Стандартное отклонение по изначальной выборке\n",
    "        bs_mean = boot_metric.mean()\n",
    "        c = stats.norm.ppf(1 - alpha / 2)\n",
    "        left_bound_boot,right_bound_boot = mean - c * se_boot,mean + c * se_boot\n",
    "        left_bound,right_bound = mean - c * se/np.sqrt(len(data)),mean + c * se/np.sqrt(len(data))\n",
    "        \n",
    "        stat,p_value = shapiro(boot_metric)\n",
    "        print(f'Доверительный интервал для среднего по изначальной выборке:', [round(left_bound,2), round(right_bound,2)])\n",
    "        print(f'Доверительный интервал для среднего по бутстрапной выборке выборке:', [round(left_bound_boot,2), round(right_bound_boot,2)])\n",
    "        print(f'Точечная оцена среднего значения выборки:', round(mean,2))\n",
    "        print(f'Точечная оцена среднего значения бутстрапной выборки:', round(bs_mean,2))\n",
    "        print(f'Станданртное отклонение бутстрапной выборки (выборочного среднего)',round(se,2))\n",
    "        print(f'Статистика теста Шапиро: {round(stat,3)} и p_value:{round(p_value,3)}')\n",
    "        \n",
    "        plt.hist(boot_metric,bins=30,density=True,color='lightgreen',edgecolor='black')\n",
    "        plt.show()"
   ]
  },
  {
   "cell_type": "code",
   "execution_count": 53,
   "id": "4ea29820-1178-4518-ab88-3a463c48e7af",
   "metadata": {
    "tags": []
   },
   "outputs": [
    {
     "name": "stderr",
     "output_type": "stream",
     "text": [
      "100%|██████████| 10000/10000 [00:00<00:00, 10851.78it/s]"
     ]
    },
    {
     "name": "stdout",
     "output_type": "stream",
     "text": [
      "Доверительный интервал для среднего по изначальной выборке: [95.98, 101.43]\n",
      "Доверительный интервал для среднего по бутстрапной выборке выборке: [95.99, 101.42]\n",
      "Точечная оцена среднего значения выборки: 98.71\n",
      "Точечная оцена среднего значения бутстрапной выборки: 98.73\n",
      "Станданртное отклонение бутстрапной выборки (выборочного среднего) 98.24\n",
      "Статистика теста Шапиро: 1.0 и p_value:0.613\n"
     ]
    },
    {
     "name": "stderr",
     "output_type": "stream",
     "text": [
      "\n"
     ]
    },
    {
     "data": {
      "image/png": "[encoded data removed]",
      "text/plain": [
       "<Figure size 640x480 with 1 Axes>"
      ]
     },
     "metadata": {},
     "output_type": "display_data"
    }
   ],
   "source": [
    "bootstrap_mean(data=data,alpha=0.05)"
   ]
  },
  {
   "cell_type": "markdown",
   "id": "1894a7eb-a96d-428b-8659-1730713b03ba",
   "metadata": {},
   "source": [
    "##### Для построения ДИ нужно использовать точечную оценку статистики,а не значение статистики из бутстрепной подвыборки,<br> \n",
    "\n",
    "##### Для построения ДИ статистики среднее - можно использовать формулу со стандартной ошибкой среднего,вместо бутстрапа"
   ]
  },
  {
   "cell_type": "markdown",
   "id": "30fb41a9-301c-4d84-8162-a5f69da4da4b",
   "metadata": {
    "tags": []
   },
   "source": [
    "# Функция бутстрапа для персентиля "
   ]
  },
  {
   "cell_type": "code",
   "execution_count": 37,
   "id": "4e108d36-c48b-4802-9192-07b86db1f1f9",
   "metadata": {
    "tags": []
   },
   "outputs": [],
   "source": [
    "def bootstrap_percentile(data,alpha,percentile):\n",
    "    point_estimate = np.quantile(data,percentile)\n",
    "    boot_metric = np.array([])\n",
    "    for _ in tqdm(range(10000)):\n",
    "        bs = np.random.choice(data,size = len(data),replace=True)\n",
    "        boot_metric = np.append(boot_metric,np.quantile(bs,percentile))\n",
    "        \n",
    "    se = np.std(boot_metric)\n",
    "    left_bound,right_bound = np.quantile(boot_metric, [ alpha/2, 1 - alpha/2 ])\n",
    "    stat,p_value = shapiro(boot_metric)\n",
    "    print(f'Доверительный интервал для персентиля {int(percentile*100)}:', [round(left_bound,2), round(right_bound,2)])\n",
    "    print(f'Точечная оцена персентиля {int(percentile*100)}:', round(point_estimate,2))\n",
    "    print(f'Станданртное отклонение бутстрапной выборки персентиля {int(percentile*100)}:',round(se,2))\n",
    "    print(f'Статистика теста Шапиро: {round(stat,3)} и p_value:{round(p_value,3)}')\n",
    "    \n",
    "    plt.hist(boot_metric,bins=30,color='lightgreen',edgecolor='black')\n",
    "    plt.title(f'Распределение пересентиля {int(percentile*100)}')\n",
    "    plt.show()"
   ]
  },
  {
   "cell_type": "code",
   "execution_count": 39,
   "id": "d4def05c-4e1d-4d1a-9a3b-b0006ecfe4e9",
   "metadata": {
    "tags": []
   },
   "outputs": [
    {
     "name": "stderr",
     "output_type": "stream",
     "text": [
      "100%|██████████| 10000/10000 [00:02<00:00, 4401.48it/s]\n"
     ]
    },
    {
     "name": "stdout",
     "output_type": "stream",
     "text": [
      "Доверительный интервал для персентиля 75: [132.01, 140.82]\n",
      "Точечная оцена персентиля 75: 137.13\n",
      "Станданртное отклонение бутстрапной выборки персентиля 75: 2.37\n",
      "Статистика теста Шапиро: 0.987 и p_value:0.0\n"
     ]
    },
    {
     "data": {
      "image/png": "[encoded data removed]",
      "text/plain": [
       "<Figure size 640x480 with 1 Axes>"
      ]
     },
     "metadata": {},
     "output_type": "display_data"
    }
   ],
   "source": [
    "bootstrap_percentile(data=data,alpha=0.05,percentile=0.75)"
   ]
  },
  {
   "cell_type": "code",
   "execution_count": null,
   "id": "23a65bc0-c346-4fd2-b1d2-059c3f457d2b",
   "metadata": {},
   "outputs": [],
   "source": []
  }
 ],
 "metadata": {
  "kernelspec": {
   "display_name": "Python 3 (ipykernel)",
   "language": "python",
   "name": "python3"
  },
  "language_info": {
   "codemirror_mode": {
    "name": "ipython",
    "version": 3
   },
   "file_extension": ".py",
   "mimetype": "text/x-python",
   "name": "python",
   "nbconvert_exporter": "python",
   "pygments_lexer": "ipython3",
   "version": "3.11.7"
  }
 },
 "nbformat": 4,
 "nbformat_minor": 5
}
