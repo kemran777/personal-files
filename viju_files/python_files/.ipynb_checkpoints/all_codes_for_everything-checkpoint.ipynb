{
 "cells": [
  {
   "cell_type": "code",
   "execution_count": 2,
   "id": "3828b404-d59d-4a4a-bbf0-b210c5deeed0",
   "metadata": {
    "tags": []
   },
   "outputs": [],
   "source": [
    "import pandas as pd\n",
    "import psycopg2\n",
    "import matplotlib.pyplot as plt\n",
    "import matplotlib.ticker as ticker\n",
    "import numpy as np\n",
    "import seaborn as sns \n",
    "import statsmodels.stats.proportion as proportion\n",
    "from scipy.stats import ttest_ind,mannwhitneyu,shapiro,norm\n",
    "from statsmodels.stats.weightstats import ztest\n",
    "from tqdm import tqdm\n",
    "import timeit\n",
    "from scipy import stats\n",
    "import math\n",
    "from datetime import date, datetime, timedelta\n",
    "import time\n",
    "from sqlalchemy import create_engine, text\n",
    "from sqlalchemy.orm import sessionmaker\n",
    "import warnings\n",
    "warnings.filterwarnings(\"ignore\")\n",
    "import clickhouse_connect  \n",
    "\n",
    "\n",
    "\n",
    "from credential import postgres_secret,clickhouse_dwh_secret\n",
    "\n",
    "def get_engine(user):\n",
    "    if user == postgres_secret['user']:\n",
    "        db_name = postgres_secret['db_name']\n",
    "        password = postgres_secret['password']\n",
    "        host = postgres_secret['host']\n",
    "        engine = create_engine(f'postgresql://{user}:{password}@{host}:6432/{db_name}')\n",
    "    elif user == clickhouse_dwh_secret['user']:\n",
    "            db_name = clickhouse_dwh_secret['db_name'] \n",
    "            password = clickhouse_dwh_secret['password']\n",
    "            host = clickhouse_dwh_secret['host']\n",
    "            engine = create_engine(f'clickhouse://{user}:{password}@{host}:8123/{db_name}')\n",
    "    return engine\n",
    "    \n",
    "connection_clickhouse = clickhouse_connect.get_client(\n",
    "    host = clickhouse_dwh_secret['host'],\n",
    "    port= '8123',\n",
    "    username = clickhouse_dwh_secret['user'],\n",
    "    password = clickhouse_dwh_secret['password'],\n",
    "    database='datamarts'\n",
    "    )\n",
    "\n",
    "    \n",
    "def execute(SQL, user):\n",
    "    start_time = time.time()  # запоминаем время начала выполнения функции\n",
    "    engine = get_engine(user)\n",
    "    Session = sessionmaker(bind=engine)  # sessions factory ()\n",
    "    with Session() as session: # open session\n",
    "        result = session.execute(text(SQL))\n",
    "        df = pd.DataFrame(result.fetchall(), columns=result.keys())\n",
    "        \n",
    "    end_time = time.time()  # запоминаем время окончания выполнения функции\n",
    "    execution_time = round(end_time - start_time,4) # вычисляем время выполнения   \n",
    "    \n",
    "    print(f\"Время выполнения функции: {execution_time} секунд\")\n",
    "    print()\n",
    "    return df"
   ]
  },
  {
   "cell_type": "code",
   "execution_count": 3,
   "id": "80d71032-3b15-4dc3-8e77-b85163c2a7f6",
   "metadata": {
    "tags": []
   },
   "outputs": [
    {
     "data": {
      "text/plain": [
       "'/Users/kemran/Desktop/work_files/python_files'"
      ]
     },
     "execution_count": 3,
     "metadata": {},
     "output_type": "execute_result"
    }
   ],
   "source": [
    "pwd"
   ]
  },
  {
   "cell_type": "code",
   "execution_count": null,
   "id": "6160b588-4ede-4722-8d2d-da73b1374689",
   "metadata": {
    "tags": []
   },
   "outputs": [],
   "source": [
    "query = f'''\n",
    "                    SELECT \n",
    "                    t4.title AS bonus_title,\n",
    "                    t1.title AS title,\n",
    "                    JSONExtractInt(t4.metadata,'duration') AS duration,\n",
    "                    JSONExtractString(t4.metadata,'duration_unit') AS duration_unit,\n",
    "                    t3.activated_at AS bonus_activated_at,\n",
    "                    t3.activated_at::date AS bonus_start_at,\n",
    "                    t3.activated_at::date + JSONExtractInt(t4.metadata,'duration') AS bonus_end_at\n",
    "\n",
    "                    FROM product_x.promo_codes AS t1\n",
    "\n",
    "                    LEFT JOIN (SELECT * FROM product_x.bonus_programs bp \n",
    "                                ) t4\n",
    "                    ON t1.bonus_program_id=t4.id\n",
    "\n",
    "                    LEFT JOIN (SELECT * FROM product_x.promo_code_activations\n",
    "                               ) AS t2\n",
    "                    ON \tt1.id=t2.promo_code_id\n",
    "\n",
    "\n",
    "                    LEFT JOIN (SELECT * FROM  product_x.user_bonuses\n",
    "                              ) AS t3\n",
    "                    ON t2.user_bonus_id=t3.id\n",
    "\n",
    "                    WHERE bonus_activated_at BETWEEN'2024-01-01' AND '2024-08-01'\n",
    "         '''\n",
    "\n",
    "df = execute(query,user = 'kmekhtiev')\n",
    "# df_retention = execute(query_retention,user = 'kmekhtiev')\n",
    "# df_retention['reg_date'] = df_retention['reg_date'].astype('datetime64[ns]')"
   ]
  },
  {
   "cell_type": "code",
   "execution_count": null,
   "id": "11ec0264-97f3-4858-8461-e459d51294fd",
   "metadata": {
    "tags": []
   },
   "outputs": [],
   "source": [
    "df.to_excel('Активированные коды с января по ферваль.xlsx',index=False)"
   ]
  },
  {
   "cell_type": "markdown",
   "id": "a3d7ac40-389a-4328-9767-7675957d61d3",
   "metadata": {},
   "source": [
    "## Watchtime "
   ]
  },
  {
   "cell_type": "code",
   "execution_count": null,
   "id": "9af96a93-08d6-4128-891a-d6ae4cfbe109",
   "metadata": {
    "tags": []
   },
   "outputs": [],
   "source": [
    "query = '''CREATE TABLE datamarts.mekhtiev_watchtime_by_day_local ON CLUSTER 'viasat_cluster'\n",
    "            (\n",
    "                date Date,\n",
    "                profile_id UUID,\n",
    "                client_type_general String,\n",
    "                client_type_w_sberdevice String,\n",
    "                bonus_title String,\n",
    "                item_type String,\n",
    "                b2c_b2b String,\n",
    "                user_type String,\n",
    "                free_days String,\n",
    "                app_version String,\n",
    "                watchtime Int32,\n",
    "                watchtime_session_watch Int32,\n",
    "                promo_type String,\n",
    "                session_cnt Int32,\n",
    "                session_watch Int32,\n",
    "                session_cnt_ttl Int32,\n",
    "                session_watch_ttl Int32\n",
    "             )\n",
    "             ENGINE = ReplicatedMergeTree('/clickhouse/tables/{shard}/mekhtiev_watchtime_by_day_local', '{replica}')\n",
    "             ORDER BY date\n",
    "             '''\n",
    "execute(query,user = 'kmekhtiev')"
   ]
  },
  {
   "cell_type": "code",
   "execution_count": null,
   "id": "7c15ace2-b132-4ef7-90fb-21b538cc1f73",
   "metadata": {
    "tags": []
   },
   "outputs": [],
   "source": [
    "query = '''CREATE TABLE datamarts.mekhtiev_watchtime_by_day_distr ON CLUSTER 'viasat_cluster'\n",
    "            (\n",
    "                date Date,\n",
    "                profile_id UUID,\n",
    "                client_type_general String,\n",
    "                client_type_w_sberdevice String,\n",
    "                bonus_title String,\n",
    "                item_type String,\n",
    "                b2c_b2b String,\n",
    "                user_type String,\n",
    "                free_days String,\n",
    "                app_version String,\n",
    "                watchtime Int32,\n",
    "                watchtime_session_watch Int32,\n",
    "                promo_type String,\n",
    "                session_cnt Int32,\n",
    "                session_watch Int32,\n",
    "                session_cnt_ttl Int32,\n",
    "                session_watch_ttl Int32\n",
    "             )\n",
    "             ENGINE = Distributed(viasat_cluster, datamarts, mekhtiev_watchtime_by_day_local, rand())\n",
    "             '''\n",
    "execute(query,user = 'kmekhtiev')"
   ]
  },
  {
   "cell_type": "code",
   "execution_count": 22,
   "id": "b5b59e36-4deb-4054-9ae5-b900a6bb5aff",
   "metadata": {
    "scrolled": true,
    "tags": []
   },
   "outputs": [
    {
     "name": "stdout",
     "output_type": "stream",
     "text": [
      "Время выполнения функции: 7.0054 секунд\n",
      "\n",
      " Дата 2024-11-01 удалена из таблицы\n",
      "Время выполнения функции: 27.707 секунд\n",
      "\n",
      "Дата '2024-11-01' загружена\n",
      "\n",
      "Время выполнения функции: 2.1314 секунд\n",
      "\n",
      " Дата 2024-11-02 удалена из таблицы\n",
      "Время выполнения функции: 12.5056 секунд\n",
      "\n",
      "Дата '2024-11-02' загружена\n",
      "\n",
      "Время выполнения функции: 8.6158 секунд\n",
      "\n",
      " Дата 2024-11-03 удалена из таблицы\n",
      "Время выполнения функции: 3.0357 секунд\n",
      "\n",
      "Дата '2024-11-03' загружена\n",
      "\n",
      "Время выполнения функции: 6.6377 секунд\n",
      "\n",
      " Дата 2024-11-04 удалена из таблицы\n",
      "Время выполнения функции: 2.545 секунд\n",
      "\n",
      "Дата '2024-11-04' загружена\n",
      "\n",
      "Время выполнения функции: 7.4882 секунд\n",
      "\n",
      " Дата 2024-11-05 удалена из таблицы\n",
      "Время выполнения функции: 2.5821 секунд\n",
      "\n",
      "Дата '2024-11-05' загружена\n",
      "\n",
      "Время выполнения функции: 6.2407 секунд\n",
      "\n",
      " Дата 2024-11-06 удалена из таблицы\n",
      "Время выполнения функции: 2.4653 секунд\n",
      "\n",
      "Дата '2024-11-06' загружена\n",
      "\n",
      "Время выполнения функции: 6.7295 секунд\n",
      "\n",
      " Дата 2024-11-07 удалена из таблицы\n",
      "Время выполнения функции: 2.6826 секунд\n",
      "\n",
      "Дата '2024-11-07' загружена\n",
      "\n"
     ]
    }
   ],
   "source": [
    "list_date = pd.date_range(\"2024-11-01\", \"2024-11-07\", freq='D')\n",
    "result = []\n",
    "for date in list_date:\n",
    "    date_str = date.strftime('%Y-%m-%d')\n",
    "    query_delete = f\" DELETE FROM datamarts.mekhtiev_watchtime_by_day_local ON CLUSTER 'viasat_cluster' WHERE date = '{date}'::date\"\n",
    "    execute(query_delete,user = 'kmekhtiev')\n",
    "    print(f\" Дата {date_str} удалена из таблицы\")\n",
    "    query = f''' INSERT INTO datamarts.mekhtiev_watchtime_by_day_distr\n",
    "           SELECT \n",
    "                t1.date,\n",
    "                t1.profile_id,\n",
    "                t1.client_type,\n",
    "                t1.client_type_w_sberdevice,\n",
    "                t1.bonus_title,\n",
    "                t2.item_type,\n",
    "                t1.b2c_b2b,\n",
    "                t1.user_type,\n",
    "                t1.free_days,\n",
    "                t1.app_version,\n",
    "                t2.watchtime2 AS watchtime,\n",
    "                t2.watchtime_session_watch,\n",
    "                t1.promo_type,\n",
    "                t1.session_cnt,\n",
    "                t2.watch_session2 AS session_watch,\n",
    "                t1.session_cnt_ttl,\n",
    "                t2.session_watch_ttl\n",
    "                FROM\n",
    "                (SELECT  \n",
    "                    date,  \n",
    "                    t1.profile_id AS profile_id,  \n",
    "                    client_type,\n",
    "                    client_type_w_sberdevice,\n",
    "                    promo_type, \n",
    "                    bonus_title,\n",
    "                    CASE WHEN item_type LIKE '' THEN 'kinom'\n",
    "                         WHEN item_type IN ('series','movie','tvchannel') THEN item_type\n",
    "                         ELSE 'other'\n",
    "                    END AS item_type,                    \n",
    "                    CASE WHEN promo_type='cards' THEN 'b2b' ELSE 'b2c' END AS b2c_b2b,\n",
    "                    CASE WHEN first_prolong_date!='1970-01-01' AND date>=first_prolong_date AND ends_at>=date THEN 'subs'\n",
    "                         WHEN date>=trial_start AND ends_at>=date (first_prolong_date='1970-01-01' OR first_prolong_date>date) THEN 'trial'\n",
    "                         WHEN date>=reg_date AND (trial_start='1970-01-01' OR trial_start>date) THEN 'reg'\n",
    "                    END AS user_type,\n",
    "                    CASE WHEN free_days in (3,14,30,35,45) THEN toString(free_days)\n",
    "                         WHEN free_days=0 AND promo_type='cards' THEN 'no_trial_b2b' \n",
    "                         WHEN free_days=0 AND promo_type!='cards' THEN 'no_trial_b2c'\n",
    "                         ELSE 'other_trial'\n",
    "                    END AS free_days,\n",
    "                    session_cnt_ttl,\n",
    "                    max(app_version) AS app_version,\n",
    "                    uniq(session_id) AS session_cnt\n",
    "                    FROM (SELECT date,profile_id,user_id,promo_type,client_type,event_name,event_page,payload,app_version,session_id,reg_date,bonus_title,\n",
    "                          created_at::date AS trial_start,free_days,trial_start+free_days AS trial_end,first_prolong_date::date AS first_prolong_date,ends_at,\n",
    "                          JSONExtractString(payload,'item_type') AS item_type,\n",
    "                          JSONExtractInt(payload,'duration') AS duration,\n",
    "                          CASE WHEN app_version like '%sber%' THEN 'sber_device' \n",
    "                               WHEN app_version not like '%sber%' AND client_type='android_tv' THEN 'android_tv (without sber)' \n",
    "                               ELSE client_type \n",
    "                          END AS client_type_w_sberdevice,\n",
    "                          uniq(session_id) OVER (PARTITION BY date,profile_id) as session_cnt_ttl\n",
    "                          FROM datamarts.sandbox_data_distr \n",
    "                          WHERE date='{date}'::date\n",
    "                          AND client_type != 'backend'  \n",
    "                          AND reg_date!='1970-01-01'\n",
    "                          AND profile_id IS NOT NULL\n",
    "                         ) AS t1\n",
    "                    GROUP BY  1,2,3,4,5,6,7,8,9,10,11\n",
    "                    ) AS t1\n",
    "                    \n",
    "LEFT JOIN  (SELECT \n",
    "                       date,\n",
    "                       profile_id,\n",
    "                       client_type,\n",
    "                       item_type,\n",
    "                       user_type,\n",
    "                       bonus_title,\n",
    "                       free_days,\n",
    "                       session_watch_ttl,\n",
    "                       uniq(CASE WHEN watch_session=1 THEN session_id END) AS watch_session2,\n",
    "                       COALESCE(sum(CASE WHEN watch_session=1 THEN watchtime END),0) AS watchtime_session_watch,\n",
    "                       sum(watchtime) AS watchtime2\n",
    "                       FROM \n",
    "                           (SELECT \n",
    "                            date,\n",
    "                            client_type,\n",
    "                            profile_id,\n",
    "                            item_type,\n",
    "                            session_id,\n",
    "                            bonus_title,\n",
    "                            user_type,\n",
    "                            free_days,\n",
    "                            CASE WHEN item_type='kinom' AND duration>0 AND watchtime>=30 THEN 1\n",
    "                                 WHEN item_type='tvchannel' AND watchtime>=30 THEN 1\n",
    "                                 WHEN item_type='series' AND duration>600 AND watchtime>=duration*0.05 THEN 1\n",
    "                                 WHEN item_type='movie' AND duration>600 AND watchtime>=duration*0.05 THEN  1\n",
    "                                 ELSE 0\n",
    "                            END AS watch_session,                           \n",
    "                            watchtime,\n",
    "                            uniq(CASE WHEN watch_session=1 THEN session_id END) OVER (PARTITION BY date,profile_id) AS session_watch_ttl\n",
    "                            FROM\n",
    "                            (SELECT \n",
    "                                date,\n",
    "                                profile_id,\n",
    "                                client_type,\n",
    "                                bonus_title,\n",
    "                                CASE WHEN item_type LIKE '' THEN 'kinom'\n",
    "                                     WHEN item_type IN ('series','movie','tvchannel') THEN item_type\n",
    "                                     ELSE 'other'\n",
    "                                END AS item_type,\n",
    "                                item_title,\n",
    "                                duration,\n",
    "                                session_id,\n",
    "                                user_type,\n",
    "                                free_days,\n",
    "                                sum(viewing_time) AS watchtime\n",
    "                                FROM \n",
    "                                 (SELECT\n",
    "                                   date,\n",
    "                                   utc_timestamp,\n",
    "                                   t1.profile_id AS profile_id,\n",
    "                                   client_type,\n",
    "                                   bonus_title,\n",
    "                                   event_name,\n",
    "                                   event_page,\n",
    "                                   session_id,\n",
    "                                   reg_date,\n",
    "                                   trial_start,\n",
    "                                   trial_end\n",
    "                                   first_prolong_date,\n",
    "                                   ends_at,\n",
    "                                   free_days,\n",
    "                                   CASE WHEN first_prolong_date!='1970-01-01' AND date>=first_prolong_date AND ends_at>=date THEN 'subs'\n",
    "                                        WHEN date>=trial_start AND ends_at>=date (first_prolong_date='1970-01-01' OR first_prolong_date>date) THEN 'trial'\n",
    "                                        WHEN date>=reg_date AND (trial_start='1970-01-01' OR trial_start>date) THEN 'reg'\n",
    "                                   END AS user_type,\n",
    "                                   JSONExtractInt(payload,'duration') AS duration,\n",
    "                                   JSONExtractString(payload,'item_type') AS item_type,\n",
    "                                   JSONExtractString(payload,'item_title') AS item_title,\n",
    "                                   JSONExtractString(payload,'season') AS item_season, \n",
    "                                   JSONExtractString(payload,'episode') AS item_episode,          \n",
    "                                   CASE WHEN event_page<>'tvchannel'\n",
    "                                        AND JSONExtractInt(payload,'viewing_time')<= JSONExtractInt(payload,'duration') \n",
    "                                   THEN JSONExtractInt(payload,'viewing_time')\n",
    "                                   WHEN event_page='tvchannel' \n",
    "                                        AND JSONExtractInt(payload,'viewing_time') <18000 \n",
    "                                   THEN JSONExtractInt(payload,'viewing_time')\n",
    "                                   END AS viewing_time,\n",
    "                                   count(DISTINCT item_title) OVER (PARTITION BY date,profile_id) AS viewing_cnt,\n",
    "                                   sum(viewing_time) OVER (PARTITION BY date,profile_id,item_title) AS viewing_time_per_item\n",
    "                                   FROM (SELECT date,utc_timestamp,profile_id,user_id,client_type,event_name,event_page,payload,app_version,session_id,reg_date,bonus_title,\n",
    "                                         created_at::date AS trial_start,free_days,trial_start+free_days AS trial_end,first_prolong_date::date AS first_prolong_date,ends_at\n",
    "                                         FROM datamarts.sandbox_data_distr \n",
    "                                         WHERE date='{date}'::date\n",
    "                                         AND event_name IN ('auto_player_streaming','auto_kinom_streaming')\n",
    "                                         AND reg_date!='1970-01-01' \n",
    "                                         )AS t1\n",
    "\n",
    "                                   WHERE viewing_time IS NOT NULL   \n",
    "                                 )\n",
    "                                 GROUP BY 1,2,3,4,5,6,7,8,9,10\n",
    "                             )      \n",
    "                          )\n",
    "                          GROUP BY 1,2,3,4,5,6,7,8       \n",
    "                ) AS t2\n",
    "ON  t1.date=t2.date\n",
    "AND t1.profile_id=t2.profile_id\n",
    "AND t1.client_type=t2.client_type\n",
    "AND t1.user_type=t2.user_type\n",
    "AND t1.item_type=t2.item_type\n",
    "'''\n",
    "    \n",
    "    \n",
    "    df_temp = execute(query,user = 'kmekhtiev')   \n",
    "    result.append(df_temp)\n",
    "    print(f\"\"\"Дата '{date_str}' загружена\"\"\")\n",
    "    print()"
   ]
  },
  {
   "cell_type": "code",
   "execution_count": null,
   "id": "57ee0f73-a3b9-4e53-8a40-f5c75d4dbf5e",
   "metadata": {
    "tags": []
   },
   "outputs": [],
   "source": [
    "query = ''' SELECT date,sum(watchtime)/3600  AS watchtime,uniq(profile_id) AS cnt_user FROM datamarts.mekhtiev_watchtime_by_day_distr WHERE date>='2024-01-01' GROUP BY 1'''\n",
    "df = execute(query,user='kmekhtiev')\n",
    "\n",
    "\n",
    "query2 = '''SELECT date,sum(watchtime)/3600 AS watchtime,uniq(profile_id) AS cnt_user FROM datamarts.mekhtiev_watchtime_by_day_distr2 WHERE date>='2024-01-01' GROUP BY 1'''\n",
    "df2 = execute(query2,user='kmekhtiev')\n"
   ]
  },
  {
   "cell_type": "code",
   "execution_count": null,
   "id": "3fecda21-e986-4ece-8940-04f23a71f8d9",
   "metadata": {
    "tags": []
   },
   "outputs": [],
   "source": [
    "plt.figure(figsize=(20,8),dpi=150)\n",
    "\n",
    "sns.lineplot(data=df,x='date',y='watchtime',legend='auto')\n",
    "sns.lineplot(data=df2,x='date',y='watchtime',legend='auto')\n",
    "\n",
    "plt.legend()\n",
    "\n",
    "plt.show()"
   ]
  },
  {
   "cell_type": "markdown",
   "id": "101b1b1f-218a-411f-ba52-a2898727dc15",
   "metadata": {},
   "source": [
    "## Квантили смотрения ТВ каналов"
   ]
  },
  {
   "cell_type": "code",
   "execution_count": null,
   "id": "19660c98-44ef-49c5-8abd-55267bf851f1",
   "metadata": {
    "tags": []
   },
   "outputs": [],
   "source": [
    "start_date = \"2024-09-01\"\n",
    "end_date = datetime.now().date() - timedelta(days=1)\n",
    "query  = f''' SELECT date,\n",
    "                     profile_id,\n",
    "                     event_page,\n",
    "                     viewing_time\n",
    "                     FROM\n",
    "                            (SELECT\n",
    "                                        utc_timestamp::date AS date,\n",
    "                                        profile_id,\n",
    "                                        client_type,\n",
    "                                        event_page,\n",
    "                                        JSONExtractInt(payload,'viewing_time') AS viewing_time,\n",
    "                                        JSONExtractInt(payload,'duration') AS duration,\n",
    "                                        JSONExtractString(payload,'item_type') AS item_type,\n",
    "                                        payload\n",
    "                                    FROM\n",
    "                                    datamarts.sandbox_data_distr x \n",
    "                                    WHERE event_name IN ('auto_player_streaming','auto_kinom_streaming')\n",
    "                                    AND utc_timestamp::date BETWEEN '{start_date}' AND '{end_date}'\n",
    "                                    AND reg_date!='1970-01-01'\n",
    "                                    AND profile_id IS NOT NULL\n",
    "                                    AND viewing_time>=0\n",
    "                                    ) as t1\n",
    "                                    WHERE event_page='tvchannel'\n",
    "              \n",
    "                                    '''\n",
    "df_tv = execute(query,user = 'kmekhtiev')\n",
    "df_tv['date'] = df_tv['date'].astype('datetime64[ns]')"
   ]
  },
  {
   "cell_type": "code",
   "execution_count": null,
   "id": "6604d8e2-41bf-4d8b-9abe-521842a07142",
   "metadata": {
    "tags": []
   },
   "outputs": [],
   "source": [
    "df_tv"
   ]
  },
  {
   "cell_type": "code",
   "execution_count": null,
   "id": "bd0ec39a-a697-401c-99cd-a611146ad86f",
   "metadata": {
    "tags": []
   },
   "outputs": [],
   "source": [
    "df_tv[df_tv['viewing_time']>18000]['profile_id'].nunique()/df_tv['profile_id'].nunique()"
   ]
  },
  {
   "cell_type": "code",
   "execution_count": null,
   "id": "1aa941dc-4615-4212-a5e4-a4f5765f1163",
   "metadata": {
    "tags": []
   },
   "outputs": [],
   "source": [
    "df_tv['profile_id'].nunique()"
   ]
  },
  {
   "cell_type": "code",
   "execution_count": null,
   "id": "2c3915da-2d16-48f1-b8b0-ea34d334faea",
   "metadata": {
    "tags": []
   },
   "outputs": [],
   "source": [
    "quantiles=[1,2,3,4,5,6,7,8,9,10,25,50,75,80,85,90,91,92,93,94,95,96,97,98,99,99.1,99.2,99.3,99.4,99.5,99.6,99.8,99.9]\n",
    "columns = ['viewing_time']\n",
    "\n",
    "\n",
    "# пустой df для хранения результатов\n",
    "quantiles_data = pd.DataFrame(index=quantiles, columns=columns)\n",
    "\n",
    "for i in columns:\n",
    "    quantile_values = np.percentile(df_tv['viewing_time'], quantiles)\n",
    "    quantiles_data[i] = quantile_values\n",
    "\n",
    "quantiles_data"
   ]
  },
  {
   "cell_type": "markdown",
   "id": "41127eb6-0d42-4e7a-b992-40a705b08cf0",
   "metadata": {},
   "source": [
    "## Retention по регистрации и оформлению подписки"
   ]
  },
  {
   "cell_type": "code",
   "execution_count": null,
   "id": "94cf759c-5717-4c90-9f19-7f957c8240f1",
   "metadata": {
    "tags": []
   },
   "outputs": [],
   "source": [
    "query = '''CREATE TABLE datamarts.mekhtiev_retention_local ON CLUSTER 'viasat_cluster'\n",
    "            (\n",
    "                date Date,\n",
    "                profile_id UUID,\n",
    "                event_name String,\n",
    "                reg_date Date,\n",
    "                bonus_title String,\n",
    "                retention_day Int32\n",
    "            ) \n",
    "            --ENGINE = MergeTree()\n",
    "            ENGINE = ReplicatedMergeTree('/clickhouse/tables/{shard}/datamarts.mekhtiev_retention_local', '{replica}')\n",
    "            ORDER BY reg_date\n",
    "'''\n",
    "execute(query, user='kmekhtiev')"
   ]
  },
  {
   "cell_type": "code",
   "execution_count": null,
   "id": "a1eb540e-5489-4357-8a03-140f892d3965",
   "metadata": {},
   "outputs": [],
   "source": [
    "query = '''CREATE TABLE datamarts.mekhtiev_retention_distr ON CLUSTER 'viasat_cluster'\n",
    "            (\n",
    "                date Date,\n",
    "                profile_id UUID,\n",
    "                event_name String,\n",
    "                reg_date Date,\n",
    "                bonus_title String,\n",
    "                retention_day Int32\n",
    "             )\n",
    "             ENGINE = Distributed(viasat_cluster, datamarts, mekhtiev_retention_local, rand())\n",
    "             '''\n",
    "execute(query,user = 'kmekhtiev')"
   ]
  },
  {
   "cell_type": "code",
   "execution_count": 23,
   "id": "5e7c8974-d174-41fd-84b9-c19e5e805ede",
   "metadata": {
    "tags": []
   },
   "outputs": [
    {
     "name": "stdout",
     "output_type": "stream",
     "text": [
      "Время выполнения функции: 6.1605 секунд\n",
      "\n",
      "Таблица очищена\n",
      "Время выполнения функции: 20.3887 секунд\n",
      "\n",
      "Данные залиты\n"
     ]
    }
   ],
   "source": [
    "start_date = \"2024-01-01\"\n",
    "end_date = datetime.now().date() - timedelta(days=1)\n",
    "\n",
    "query_delete = ''' TRUNCATE TABLE datamarts.mekhtiev_retention_local  ON CLUSTER 'viasat_cluster' '''\n",
    "execute(query_delete,user = 'kmekhtiev')\n",
    "print ('Таблица очищена')\n",
    "\n",
    "\n",
    "\n",
    "query_retention = f'''INSERT INTO datamarts.mekhtiev_retention_distr\n",
    "                        SELECT\n",
    "                        utc_timestamp::date AS date,\n",
    "                        profile_id,\n",
    "                        event_name,\n",
    "                        reg_date,\n",
    "                        bonus_title,\n",
    "                        date - reg_date AS retention_day\n",
    "                        FROM datamarts.sandbox_data_distr AS t1\n",
    "                        LEFT JOIN product_x.users AS u ON t1.user_id=u.id\n",
    "                        WHERE utc_timestamp::date BETWEEN '{start_date}' AND '{end_date}'\n",
    "                        AND reg_date::date BETWEEN '2023-09-01' AND yesterday()\n",
    "                        AND profile_id IS NOT NULL\n",
    "                        GROUP BY 1,2,3,4,5,6\n",
    "         '''\n",
    "\n",
    "execute(query_retention,user = 'kmekhtiev')\n",
    "print('Данные залиты')"
   ]
  },
  {
   "cell_type": "code",
   "execution_count": null,
   "id": "840a5266-ef3f-450d-aec7-3206c0db5bfe",
   "metadata": {
    "tags": []
   },
   "outputs": [],
   "source": [
    "query = '''CREATE TABLE datamarts.mekhtiev_retention_created_local ON CLUSTER 'viasat_cluster'\n",
    "            (\n",
    "                date Date,\n",
    "                profile_id UUID,\n",
    "                event_name String,\n",
    "                created_date Date,\n",
    "                bonus_title String,\n",
    "                retention_day Int32\n",
    "            ) \n",
    "            --ENGINE = MergeTree()\n",
    "            ENGINE = ReplicatedMergeTree('/clickhouse/tables/{shard}/datamarts.mekhtiev_retention_created_local', '{replica}')\n",
    "            ORDER BY created_date\n",
    "'''\n",
    "execute(query, user='kmekhtiev')"
   ]
  },
  {
   "cell_type": "code",
   "execution_count": null,
   "id": "cc4621a8-b5fa-4ad2-85b1-075559797cd9",
   "metadata": {
    "tags": []
   },
   "outputs": [],
   "source": [
    "query = '''CREATE TABLE datamarts.mekhtiev_retention_created_distr ON CLUSTER 'viasat_cluster'\n",
    "            (\n",
    "                date Date,\n",
    "                profile_id UUID,\n",
    "                event_name String,\n",
    "                created_date Date,\n",
    "                bonus_title String,\n",
    "                retention_day Int32\n",
    "             )\n",
    "             ENGINE = Distributed(viasat_cluster, datamarts, mekhtiev_retention_created_local, rand())\n",
    "             '''\n",
    "execute(query,user = 'kmekhtiev')"
   ]
  },
  {
   "cell_type": "code",
   "execution_count": 24,
   "id": "1535a0ef-f036-4c8c-b0cb-1a4828c1afbe",
   "metadata": {
    "tags": []
   },
   "outputs": [
    {
     "name": "stdout",
     "output_type": "stream",
     "text": [
      "Время выполнения функции: 6.9516 секунд\n",
      "\n",
      "Таблица очищена\n",
      "Время выполнения функции: 10.707 секунд\n",
      "\n",
      "Данные залиты\n"
     ]
    }
   ],
   "source": [
    "start_date = \"2024-01-01\"\n",
    "end_date = datetime.now().date() - timedelta(days=1)\n",
    "\n",
    "query_delete = ''' TRUNCATE TABLE datamarts.mekhtiev_retention_created_local  ON CLUSTER 'viasat_cluster' '''\n",
    "execute(query_delete,user = 'kmekhtiev')\n",
    "print ('Таблица очищена')\n",
    "\n",
    "\n",
    "\n",
    "query_retention = f'''INSERT INTO datamarts.mekhtiev_retention_created_distr\n",
    "                        SELECT\n",
    "                        utc_timestamp::date AS date,\n",
    "                        profile_id,\n",
    "                        event_name,\n",
    "                        created_at AS created_date,\n",
    "                        bonus_title,\n",
    "                        date - created_at::date AS retention_day\n",
    "                        FROM datamarts.sandbox_data_distr AS t1\n",
    "                        LEFT JOIN product_x.users AS u ON t1.user_id=u.id\n",
    "                        WHERE utc_timestamp::date BETWEEN '{start_date}' AND '{end_date}'\n",
    "                        AND created_at::date BETWEEN '2023-09-01' AND yesterday()\n",
    "                        AND profile_id IS NOT NULL\n",
    "                        GROUP BY 1,2,3,4,5,6\n",
    "         '''\n",
    "\n",
    "execute(query_retention,user = 'kmekhtiev')\n",
    "print('Данные залиты')"
   ]
  },
  {
   "cell_type": "markdown",
   "id": "9b15d5d0-3079-4185-abe6-d077774840ed",
   "metadata": {},
   "source": [
    "## DAU"
   ]
  },
  {
   "cell_type": "code",
   "execution_count": null,
   "id": "b26eec06-e69e-4b9b-b004-f993f566f391",
   "metadata": {},
   "outputs": [],
   "source": [
    "#b2c_b2b нет, так как считаем их по полю promo_type, а это поле есть только у зарегов\n",
    "query = '''CREATE TABLE datamarts.mekhtiev_dau_local ON CLUSTER 'viasat_cluster'\n",
    "            (\n",
    "                date Date,\n",
    "                visitor_id UUID,\n",
    "                profile_id UUID,\n",
    "                reg_date Date,\n",
    "                created_date Date,\n",
    "                first_prolong_date Date,\n",
    "                bonus_title String,\n",
    "                client_type String,\n",
    "                free_day String,\n",
    "                user_type String\n",
    "            ) \n",
    "            ENGINE = ReplicatedMergeTree('/clickhouse/tables/{shard}/datamarts.mekhtiev_dau_local', '{replica}')\n",
    "            ORDER BY date\n",
    "'''\n",
    "execute(query, user='kmekhtiev')\n"
   ]
  },
  {
   "cell_type": "code",
   "execution_count": null,
   "id": "98f6d9bf-f5d9-434d-b76e-202c822cd2c4",
   "metadata": {
    "tags": []
   },
   "outputs": [],
   "source": [
    "query = '''CREATE TABLE datamarts.mekhtiev_dau_distr ON CLUSTER 'viasat_cluster'\n",
    "            (\n",
    "                date Date,\n",
    "                visitor_id UUID,\n",
    "                profile_id UUID,\n",
    "                reg_date Date,\n",
    "                created_date Date,\n",
    "                first_prolong_date Date,\n",
    "                bonus_title String,\n",
    "                client_type String,\n",
    "                free_day String,\n",
    "                user_type String\n",
    "             )\n",
    "             ENGINE = Distributed(viasat_cluster, datamarts, mekhtiev_dau_local, rand())\n",
    "             '''\n",
    "execute(query,user = 'kmekhtiev')"
   ]
  },
  {
   "cell_type": "code",
   "execution_count": 25,
   "id": "bfcd9659-08d1-4e84-bec1-2f4935ce79c2",
   "metadata": {
    "scrolled": true
   },
   "outputs": [
    {
     "name": "stdout",
     "output_type": "stream",
     "text": [
      "Время выполнения функции: 7.4601 секунд\n",
      "\n",
      " Дата 2024-11-01 удалена из таблицы\n",
      "Время выполнения функции: 1.2601 секунд\n",
      "\n",
      "Дата '2024-11-01' загружена\n",
      "\n",
      "Время выполнения функции: 7.9809 секунд\n",
      "\n",
      " Дата 2024-11-02 удалена из таблицы\n",
      "Время выполнения функции: 1.3448 секунд\n",
      "\n",
      "Дата '2024-11-02' загружена\n",
      "\n",
      "Время выполнения функции: 7.3019 секунд\n",
      "\n",
      " Дата 2024-11-03 удалена из таблицы\n",
      "Время выполнения функции: 1.2988 секунд\n",
      "\n",
      "Дата '2024-11-03' загружена\n",
      "\n",
      "Время выполнения функции: 7.7545 секунд\n",
      "\n",
      " Дата 2024-11-04 удалена из таблицы\n",
      "Время выполнения функции: 1.2331 секунд\n",
      "\n",
      "Дата '2024-11-04' загружена\n",
      "\n",
      "Время выполнения функции: 7.7163 секунд\n",
      "\n",
      " Дата 2024-11-05 удалена из таблицы\n",
      "Время выполнения функции: 1.2921 секунд\n",
      "\n",
      "Дата '2024-11-05' загружена\n",
      "\n",
      "Время выполнения функции: 3.1243 секунд\n",
      "\n",
      " Дата 2024-11-06 удалена из таблицы\n",
      "Время выполнения функции: 5.348 секунд\n",
      "\n",
      "Дата '2024-11-06' загружена\n",
      "\n",
      "Время выполнения функции: 3.6585 секунд\n",
      "\n",
      " Дата 2024-11-07 удалена из таблицы\n",
      "Время выполнения функции: 1.2743 секунд\n",
      "\n",
      "Дата '2024-11-07' загружена\n",
      "\n"
     ]
    }
   ],
   "source": [
    "list_date = pd.date_range(\"2024-11-01\", \"2024-11-07\", freq='D')\n",
    "result=[]\n",
    "for date in list_date:\n",
    "        date_str = date.strftime('%Y-%m-%d')\n",
    "        query_delete = f\" DELETE FROM datamarts.mekhtiev_dau_local ON CLUSTER 'viasat_cluster' WHERE date = '{date}'::date\"\n",
    "        execute(query_delete,user = 'kmekhtiev')\n",
    "        print(f\" Дата {date_str} удалена из таблицы\")\n",
    "        query = f'''INSERT INTO datamarts.mekhtiev_dau_distr\n",
    "                       SELECT\n",
    "                                    date,\n",
    "                                    visitor_id,\n",
    "                                    profile_id,\n",
    "                                    reg_date,\n",
    "                                    created_date,\n",
    "                                    first_prolong_date,\n",
    "                                    bonus_title,\n",
    "                                    client_type,\n",
    "                                    free_days,\n",
    "                                    CASE\n",
    "                                        WHEN first_prolong_date!='1970-01-01' AND first_prolong_date<=date THEN 'subs'\n",
    "                                        WHEN created_date!='1970-01-01' AND created_date<=date THEN 'trial'\n",
    "                                        WHEN reg_date!='1970-01-01' AND reg_date<=date THEN 'reg'\n",
    "                                        ELSE 'visitor'\n",
    "                                    END AS user_type\n",
    "                                    FROM\n",
    "                                        (SELECT\n",
    "                                        date,\n",
    "                                        visitor_id,\n",
    "                                        profile_id,\n",
    "                                        bonus_title,\n",
    "                                        client_type,\n",
    "                                        free_days,\n",
    "                                        profile_id,\n",
    "                                        reg_date,\n",
    "                                        promo_type,\n",
    "                                        created_at::date AS created_date,\n",
    "                                        first_prolong_date::date AS first_prolong_date\n",
    "                                        FROM datamarts.sandbox_data_distr\n",
    "                                        WHERE date='{date}'::date AND client_type !='backend'\n",
    "                                        GROUP BY 1,2,3,4,5,6,7,8,9,10,11\n",
    "                                        )\n",
    "\n",
    "                                '''\n",
    "        df_temp = execute(query,user = 'kmekhtiev')   \n",
    "        result.append(df_temp)\n",
    "        print(f\"\"\"Дата '{date_str}' загружена\"\"\")\n",
    "        print()"
   ]
  },
  {
   "cell_type": "markdown",
   "id": "ff91a2ff-ad50-4ce0-b8a6-960c4ff3a762",
   "metadata": {},
   "source": [
    "## MAU"
   ]
  },
  {
   "cell_type": "code",
   "execution_count": null,
   "id": "ec0480d5-bc2a-4b53-babb-32877d9a4a26",
   "metadata": {},
   "outputs": [],
   "source": [
    "query = '''CREATE TABLE datamarts.mekhtiev_mau_local ON CLUSTER 'viasat_cluster'\n",
    "            (\n",
    "                date Date,\n",
    "                visitor_id UUID,\n",
    "                profile_id UUID,\n",
    "                reg_date Date,\n",
    "                created_date Date,\n",
    "                first_prolong_date Date,\n",
    "                bonus_title String,\n",
    "                client_type String,\n",
    "                free_day String,\n",
    "                user_type String\n",
    "            ) \n",
    "            ENGINE = ReplicatedMergeTree('/clickhouse/tables/{shard}/datamarts.mekhtiev_mau_local', '{replica}')\n",
    "            ORDER BY date\n",
    "'''\n",
    "execute(query, user='kmekhtiev')\n"
   ]
  },
  {
   "cell_type": "code",
   "execution_count": null,
   "id": "7007f50e-89df-4ecf-b6d3-f678477f3951",
   "metadata": {},
   "outputs": [],
   "source": [
    "query = '''CREATE TABLE datamarts.mekhtiev_mau_distr ON CLUSTER 'viasat_cluster'\n",
    "            (\n",
    "                date Date,\n",
    "                visitor_id UUID,\n",
    "                profile_id UUID,\n",
    "                reg_date Date,\n",
    "                created_date Date,\n",
    "                first_prolong_date Date,\n",
    "                bonus_title String,\n",
    "                client_type String,\n",
    "                free_day String,\n",
    "                user_type String\n",
    "             )\n",
    "             ENGINE = Distributed(viasat_cluster, datamarts, mekhtiev_mau_local, rand())\n",
    "             '''\n",
    "execute(query,user = 'kmekhtiev')"
   ]
  },
  {
   "cell_type": "code",
   "execution_count": 26,
   "id": "afc33679-dca7-4b3a-8fb9-9f148aafc540",
   "metadata": {
    "scrolled": true,
    "tags": []
   },
   "outputs": [
    {
     "name": "stdout",
     "output_type": "stream",
     "text": [
      "Время выполнения функции: 8.6149 секунд\n",
      "\n",
      " Дата 2024-11-01 удалена из таблицы\n",
      "Время выполнения функции: 6.5259 секунд\n",
      "\n",
      "Дата '2024-11-01' загружена\n",
      "\n",
      "Время выполнения функции: 3.5123 секунд\n",
      "\n",
      " Дата 2024-11-02 удалена из таблицы\n",
      "Время выполнения функции: 6.5574 секунд\n",
      "\n",
      "Дата '2024-11-02' загружена\n",
      "\n",
      "Время выполнения функции: 3.9198 секунд\n",
      "\n",
      " Дата 2024-11-03 удалена из таблицы\n",
      "Время выполнения функции: 6.2992 секунд\n",
      "\n",
      "Дата '2024-11-03' загружена\n",
      "\n",
      "Время выполнения функции: 3.6862 секунд\n",
      "\n",
      " Дата 2024-11-04 удалена из таблицы\n",
      "Время выполнения функции: 6.1366 секунд\n",
      "\n",
      "Дата '2024-11-04' загружена\n",
      "\n",
      "Время выполнения функции: 4.2433 секунд\n",
      "\n",
      " Дата 2024-11-05 удалена из таблицы\n",
      "Время выполнения функции: 5.1217 секунд\n",
      "\n",
      "Дата '2024-11-05' загружена\n",
      "\n",
      "Время выполнения функции: 4.8062 секунд\n",
      "\n",
      " Дата 2024-11-06 удалена из таблицы\n",
      "Время выполнения функции: 4.6752 секунд\n",
      "\n",
      "Дата '2024-11-06' загружена\n",
      "\n",
      "Время выполнения функции: 9.3634 секунд\n",
      "\n",
      " Дата 2024-11-07 удалена из таблицы\n",
      "Время выполнения функции: 2.1936 секунд\n",
      "\n",
      "Дата '2024-11-07' загружена\n",
      "\n"
     ]
    }
   ],
   "source": [
    "list_date = pd.date_range(\"2024-11-01\", \"2024-11-07\", freq='D')\n",
    "result=[]\n",
    "for date in list_date:\n",
    "        date_str = date.strftime('%Y-%m-%d')\n",
    "        query_delete = f\" DELETE FROM datamarts.mekhtiev_mau_local ON CLUSTER 'viasat_cluster' WHERE date = '{date}'::date\"\n",
    "        execute(query_delete,user = 'kmekhtiev')\n",
    "        print(f\" Дата {date_str} удалена из таблицы\")\n",
    "        query = f'''INSERT INTO datamarts.mekhtiev_mau_distr\n",
    "                      SELECT\n",
    "                            dt_month AS date,\n",
    "                            visitor_id,\n",
    "                            profile_id,\n",
    "                            reg_date,\n",
    "                            created_date,\n",
    "                            first_prolong_date,\n",
    "                            bonus_title,\n",
    "                            client_type,\n",
    "                            free_days,\n",
    "                            CASE\n",
    "                                WHEN first_prolong_date!='1970-01-01'  THEN 'subs'\n",
    "                                WHEN created_date!='1970-01-01' THEN 'trial'\n",
    "                                WHEN reg_date!='1970-01-01' THEN 'reg'\n",
    "                                ELSE 'visitor'\n",
    "                            END AS user_type\n",
    "                            FROM\n",
    "                                (SELECT\n",
    "                                '{date}'::date as dt_month,\n",
    "                                visitor_id,\n",
    "                                profile_id,\n",
    "                                client_type,\n",
    "                                free_days,\n",
    "                                profile_id,\n",
    "                                reg_date,\n",
    "                                bonus_title,\n",
    "                                promo_type,\n",
    "                                created_at::date AS created_date,\n",
    "                                first_prolong_date::date AS first_prolong_date\n",
    "                                FROM datamarts.sandbox_data_distr\n",
    "                                WHERE date BETWEEN '{date}'::date - interval '30' DAY AND '{date}'::date \n",
    "                                AND client_type !='backend'\n",
    "                                GROUP BY 1,2,3,4,5,6,7,8,9,10,11\n",
    "                            )\n",
    "                                '''\n",
    "        df_temp = execute(query,user = 'kmekhtiev')   \n",
    "        result.append(df_temp)\n",
    "        print(f\"\"\"Дата '{date_str}' загружена\"\"\")\n",
    "        print()"
   ]
  },
  {
   "cell_type": "markdown",
   "id": "6b755f96-4ccd-4c21-a3a9-f928ffa2f793",
   "metadata": {},
   "source": [
    "## Первый день захода в приложение "
   ]
  },
  {
   "cell_type": "code",
   "execution_count": null,
   "id": "431abfba-6be5-48f7-9327-96248e579b60",
   "metadata": {
    "tags": []
   },
   "outputs": [],
   "source": [
    "query = '''CREATE TABLE datamarts.mekhtiev_min_date_visitor_profile_local ON CLUSTER 'viasat_cluster'\n",
    "            (\n",
    "                min_date_visitor Date,\n",
    "                min_date_profile Date,\n",
    "                visitor_id UUID,\n",
    "                client_type_general String,\n",
    "                bonus_title String,\n",
    "                user_id Nullable(UUID),\n",
    "                profile_id Nullable(UUID),\n",
    "                promo_type String,\n",
    "                app_version String\n",
    "                )\n",
    "             ENGINE = ReplicatedMergeTree('/clickhouse/tables/{shard}/mekhtiev_min_date_visitor_profile_local', '{replica}')\n",
    "             ORDER BY min_date_visitor\n",
    "             '''\n",
    "execute(query,user = 'kmekhtiev')"
   ]
  },
  {
   "cell_type": "code",
   "execution_count": null,
   "id": "a81f6520-6942-4cc6-99e2-11c7610f033d",
   "metadata": {
    "tags": []
   },
   "outputs": [],
   "source": [
    "query = f'''CREATE TABLE datamarts.mekhtiev_min_date_visitor_profile_distr ON CLUSTER 'viasat_cluster'\n",
    "            (\n",
    "                min_date_visitor Date,\n",
    "                min_date_profile Date,\n",
    "                visitor_id UUID,\n",
    "                client_type_general String,\n",
    "                bonus_title String,\n",
    "                user_id Nullable(UUID),\n",
    "                profile_id Nullable(UUID),\n",
    "                promo_type String,\n",
    "                app_version String\n",
    "                )\n",
    "             \n",
    "             ENGINE = Distributed(viasat_cluster, datamarts, mekhtiev_min_date_visitor_profile_local, rand())\n",
    "             '''\n",
    "execute(query,user = 'kmekhtiev')"
   ]
  },
  {
   "cell_type": "code",
   "execution_count": 27,
   "id": "9d109508-2f63-4d85-91ae-107b6d32b39e",
   "metadata": {
    "scrolled": true,
    "tags": []
   },
   "outputs": [
    {
     "name": "stdout",
     "output_type": "stream",
     "text": [
      "Время выполнения функции: 8.3857 секунд\n",
      "\n",
      "Дата 2024-07-01 удалена из таблицы\n",
      "Время выполнения функции: 30.2234 секунд\n",
      "\n",
      "Дата '2024-07-01' загружена\n",
      "\n",
      "Время выполнения функции: 7.9971 секунд\n",
      "\n",
      "Дата 2024-07-02 удалена из таблицы\n",
      "Время выполнения функции: 33.99 секунд\n",
      "\n",
      "Дата '2024-07-02' загружена\n",
      "\n",
      "Время выполнения функции: 0.7369 секунд\n",
      "\n",
      "Дата 2024-07-03 удалена из таблицы\n",
      "Время выполнения функции: 14.211 секунд\n",
      "\n",
      "Дата '2024-07-03' загружена\n",
      "\n",
      "Время выполнения функции: 4.5489 секунд\n",
      "\n",
      "Дата 2024-07-04 удалена из таблицы\n",
      "Время выполнения функции: 14.1405 секунд\n",
      "\n",
      "Дата '2024-07-04' загружена\n",
      "\n",
      "Время выполнения функции: 8.9606 секунд\n",
      "\n",
      "Дата 2024-07-05 удалена из таблицы\n",
      "Время выполнения функции: 12.5729 секунд\n",
      "\n",
      "Дата '2024-07-05' загружена\n",
      "\n",
      "Время выполнения функции: 5.826 секунд\n",
      "\n",
      "Дата 2024-07-06 удалена из таблицы\n",
      "Время выполнения функции: 13.1734 секунд\n",
      "\n",
      "Дата '2024-07-06' загружена\n",
      "\n",
      "Время выполнения функции: 7.3816 секунд\n",
      "\n",
      "Дата 2024-07-07 удалена из таблицы\n",
      "Время выполнения функции: 12.6294 секунд\n",
      "\n",
      "Дата '2024-07-07' загружена\n",
      "\n",
      "Время выполнения функции: 6.9788 секунд\n",
      "\n",
      "Дата 2024-07-08 удалена из таблицы\n",
      "Время выполнения функции: 13.1626 секунд\n",
      "\n",
      "Дата '2024-07-08' загружена\n",
      "\n",
      "Время выполнения функции: 0.768 секунд\n",
      "\n",
      "Дата 2024-07-09 удалена из таблицы\n",
      "Время выполнения функции: 14.3479 секунд\n",
      "\n",
      "Дата '2024-07-09' загружена\n",
      "\n",
      "Время выполнения функции: 4.1716 секунд\n",
      "\n",
      "Дата 2024-07-10 удалена из таблицы\n",
      "Время выполнения функции: 14.7581 секунд\n",
      "\n",
      "Дата '2024-07-10' загружена\n",
      "\n",
      "Время выполнения функции: 9.2772 секунд\n",
      "\n",
      "Дата 2024-07-11 удалена из таблицы\n",
      "Время выполнения функции: 13.3687 секунд\n",
      "\n",
      "Дата '2024-07-11' загружена\n",
      "\n",
      "Время выполнения функции: 5.7978 секунд\n",
      "\n",
      "Дата 2024-07-12 удалена из таблицы\n",
      "Время выполнения функции: 13.1327 секунд\n",
      "\n",
      "Дата '2024-07-12' загружена\n",
      "\n",
      "Время выполнения функции: 0.9304 секунд\n",
      "\n",
      "Дата 2024-07-13 удалена из таблицы\n",
      "Время выполнения функции: 13.9503 секунд\n",
      "\n",
      "Дата '2024-07-13' загружена\n",
      "\n",
      "Время выполнения функции: 2.3206 секунд\n",
      "\n",
      "Дата 2024-07-14 удалена из таблицы\n",
      "Время выполнения функции: 12.4606 секунд\n",
      "\n",
      "Дата '2024-07-14' загружена\n",
      "\n",
      "Время выполнения функции: 6.2903 секунд\n",
      "\n",
      "Дата 2024-07-15 удалена из таблицы\n",
      "Время выполнения функции: 14.9605 секунд\n",
      "\n",
      "Дата '2024-07-15' загружена\n",
      "\n",
      "Время выполнения функции: 5.3468 секунд\n",
      "\n",
      "Дата 2024-07-16 удалена из таблицы\n",
      "Время выполнения функции: 13.5783 секунд\n",
      "\n",
      "Дата '2024-07-16' загружена\n",
      "\n",
      "Время выполнения функции: 3.6566 секунд\n",
      "\n",
      "Дата 2024-07-17 удалена из таблицы\n",
      "Время выполнения функции: 11.1305 секунд\n",
      "\n",
      "Дата '2024-07-17' загружена\n",
      "\n",
      "Время выполнения функции: 7.8015 секунд\n",
      "\n",
      "Дата 2024-07-18 удалена из таблицы\n",
      "Время выполнения функции: 11.0826 секунд\n",
      "\n",
      "Дата '2024-07-18' загружена\n",
      "\n",
      "Время выполнения функции: 8.4042 секунд\n",
      "\n",
      "Дата 2024-07-19 удалена из таблицы\n",
      "Время выполнения функции: 15.7683 секунд\n",
      "\n",
      "Дата '2024-07-19' загружена\n",
      "\n",
      "Время выполнения функции: 20.0578 секунд\n",
      "\n",
      "Дата 2024-07-20 удалена из таблицы\n",
      "Время выполнения функции: 13.8167 секунд\n",
      "\n",
      "Дата '2024-07-20' загружена\n",
      "\n",
      "Время выполнения функции: 5.7318 секунд\n",
      "\n",
      "Дата 2024-07-21 удалена из таблицы\n",
      "Время выполнения функции: 11.4191 секунд\n",
      "\n",
      "Дата '2024-07-21' загружена\n",
      "\n",
      "Время выполнения функции: 2.6557 секунд\n",
      "\n",
      "Дата 2024-07-22 удалена из таблицы\n",
      "Время выполнения функции: 13.9823 секунд\n",
      "\n",
      "Дата '2024-07-22' загружена\n",
      "\n",
      "Время выполнения функции: 3.8951 секунд\n",
      "\n",
      "Дата 2024-07-23 удалена из таблицы\n",
      "Время выполнения функции: 15.7055 секунд\n",
      "\n",
      "Дата '2024-07-23' загружена\n",
      "\n",
      "Время выполнения функции: 3.7001 секунд\n",
      "\n",
      "Дата 2024-07-24 удалена из таблицы\n",
      "Время выполнения функции: 15.764 секунд\n",
      "\n",
      "Дата '2024-07-24' загружена\n",
      "\n",
      "Время выполнения функции: 12.5778 секунд\n",
      "\n",
      "Дата 2024-07-25 удалена из таблицы\n",
      "Время выполнения функции: 17.8996 секунд\n",
      "\n",
      "Дата '2024-07-25' загружена\n",
      "\n",
      "Время выполнения функции: 7.2007 секунд\n",
      "\n",
      "Дата 2024-07-26 удалена из таблицы\n",
      "Время выполнения функции: 29.3076 секунд\n",
      "\n",
      "Дата '2024-07-26' загружена\n",
      "\n",
      "Время выполнения функции: 7.1704 секунд\n",
      "\n",
      "Дата 2024-07-27 удалена из таблицы\n",
      "Время выполнения функции: 14.7687 секунд\n",
      "\n",
      "Дата '2024-07-27' загружена\n",
      "\n",
      "Время выполнения функции: 4.4451 секунд\n",
      "\n",
      "Дата 2024-07-28 удалена из таблицы\n",
      "Время выполнения функции: 13.2889 секунд\n",
      "\n",
      "Дата '2024-07-28' загружена\n",
      "\n",
      "Время выполнения функции: 5.925 секунд\n",
      "\n",
      "Дата 2024-07-29 удалена из таблицы\n",
      "Время выполнения функции: 14.3385 секунд\n",
      "\n",
      "Дата '2024-07-29' загружена\n",
      "\n",
      "Время выполнения функции: 6.4792 секунд\n",
      "\n",
      "Дата 2024-07-30 удалена из таблицы\n",
      "Время выполнения функции: 14.3666 секунд\n",
      "\n",
      "Дата '2024-07-30' загружена\n",
      "\n",
      "Время выполнения функции: 6.9173 секунд\n",
      "\n",
      "Дата 2024-07-31 удалена из таблицы\n"
     ]
    },
    {
     "ename": "DatabaseException",
     "evalue": "Orig exception: Code: 241. DB::Exception: Memory limit (total) exceeded: would use 14.08 GiB (attempt to allocate chunk of 0 bytes), maximum: 14.06 GiB. OvercommitTracker decision: Memory overcommit has freed not enough memory.: While executing AggregatingTransform. (MEMORY_LIMIT_EXCEEDED) (version 23.3.1.2823 (official build))\n",
     "output_type": "error",
     "traceback": [
      "\u001b[0;31m---------------------------------------------------------------------------\u001b[0m",
      "\u001b[0;31mDatabaseException\u001b[0m                         Traceback (most recent call last)",
      "Cell \u001b[0;32mIn[27], line 47\u001b[0m\n\u001b[1;32m      7\u001b[0m \u001b[38;5;28mprint\u001b[39m(\u001b[38;5;124mf\u001b[39m\u001b[38;5;124m'\u001b[39m\u001b[38;5;124mДата \u001b[39m\u001b[38;5;132;01m{\u001b[39;00mdate_str\u001b[38;5;132;01m}\u001b[39;00m\u001b[38;5;124m удалена из таблицы\u001b[39m\u001b[38;5;124m'\u001b[39m)\n\u001b[1;32m      8\u001b[0m query \u001b[38;5;241m=\u001b[39m \u001b[38;5;124mf\u001b[39m\u001b[38;5;124m'''\u001b[39m\n\u001b[1;32m      9\u001b[0m \u001b[38;5;124mINSERT INTO datamarts.mekhtiev_min_date_visitor_profile_distr\u001b[39m\n\u001b[1;32m     10\u001b[0m \u001b[38;5;124mSELECT\u001b[39m\n\u001b[0;32m   (...)\u001b[0m\n\u001b[1;32m     45\u001b[0m \n\u001b[1;32m     46\u001b[0m \u001b[38;5;124m        \u001b[39m\u001b[38;5;124m'''\u001b[39m\n\u001b[0;32m---> 47\u001b[0m df_temp \u001b[38;5;241m=\u001b[39m execute(query,user \u001b[38;5;241m=\u001b[39m \u001b[38;5;124m'\u001b[39m\u001b[38;5;124mkmekhtiev\u001b[39m\u001b[38;5;124m'\u001b[39m)   \n\u001b[1;32m     48\u001b[0m result\u001b[38;5;241m.\u001b[39mappend(df_temp)\n\u001b[1;32m     49\u001b[0m \u001b[38;5;28mprint\u001b[39m(\u001b[38;5;124mf\u001b[39m\u001b[38;5;124m\"\"\"\u001b[39m\u001b[38;5;124mДата \u001b[39m\u001b[38;5;124m'\u001b[39m\u001b[38;5;132;01m{\u001b[39;00mdate_str\u001b[38;5;132;01m}\u001b[39;00m\u001b[38;5;124m'\u001b[39m\u001b[38;5;124m загружена\u001b[39m\u001b[38;5;124m\"\"\"\u001b[39m)\n",
      "Cell \u001b[0;32mIn[2], line 53\u001b[0m, in \u001b[0;36mexecute\u001b[0;34m(SQL, user)\u001b[0m\n\u001b[1;32m     51\u001b[0m Session \u001b[38;5;241m=\u001b[39m sessionmaker(bind\u001b[38;5;241m=\u001b[39mengine)  \u001b[38;5;66;03m# sessions factory ()\u001b[39;00m\n\u001b[1;32m     52\u001b[0m \u001b[38;5;28;01mwith\u001b[39;00m Session() \u001b[38;5;28;01mas\u001b[39;00m session: \u001b[38;5;66;03m# open session\u001b[39;00m\n\u001b[0;32m---> 53\u001b[0m     result \u001b[38;5;241m=\u001b[39m session\u001b[38;5;241m.\u001b[39mexecute(text(SQL))\n\u001b[1;32m     54\u001b[0m     df \u001b[38;5;241m=\u001b[39m pd\u001b[38;5;241m.\u001b[39mDataFrame(result\u001b[38;5;241m.\u001b[39mfetchall(), columns\u001b[38;5;241m=\u001b[39mresult\u001b[38;5;241m.\u001b[39mkeys())\n\u001b[1;32m     56\u001b[0m end_time \u001b[38;5;241m=\u001b[39m time\u001b[38;5;241m.\u001b[39mtime()  \u001b[38;5;66;03m# запоминаем время окончания выполнения функции\u001b[39;00m\n",
      "File \u001b[0;32m/opt/anaconda3/lib/python3.11/site-packages/sqlalchemy/orm/session.py:2308\u001b[0m, in \u001b[0;36mSession.execute\u001b[0;34m(self, statement, params, execution_options, bind_arguments, _parent_execute_state, _add_event)\u001b[0m\n\u001b[1;32m   2247\u001b[0m \u001b[38;5;28;01mdef\u001b[39;00m \u001b[38;5;21mexecute\u001b[39m(\n\u001b[1;32m   2248\u001b[0m     \u001b[38;5;28mself\u001b[39m,\n\u001b[1;32m   2249\u001b[0m     statement: Executable,\n\u001b[0;32m   (...)\u001b[0m\n\u001b[1;32m   2255\u001b[0m     _add_event: Optional[Any] \u001b[38;5;241m=\u001b[39m \u001b[38;5;28;01mNone\u001b[39;00m,\n\u001b[1;32m   2256\u001b[0m ) \u001b[38;5;241m-\u001b[39m\u001b[38;5;241m>\u001b[39m Result[Any]:\n\u001b[1;32m   2257\u001b[0m \u001b[38;5;250m    \u001b[39m\u001b[38;5;124mr\u001b[39m\u001b[38;5;124;03m\"\"\"Execute a SQL expression construct.\u001b[39;00m\n\u001b[1;32m   2258\u001b[0m \n\u001b[1;32m   2259\u001b[0m \u001b[38;5;124;03m    Returns a :class:`_engine.Result` object representing\u001b[39;00m\n\u001b[0;32m   (...)\u001b[0m\n\u001b[1;32m   2306\u001b[0m \n\u001b[1;32m   2307\u001b[0m \u001b[38;5;124;03m    \"\"\"\u001b[39;00m\n\u001b[0;32m-> 2308\u001b[0m     \u001b[38;5;28;01mreturn\u001b[39;00m \u001b[38;5;28mself\u001b[39m\u001b[38;5;241m.\u001b[39m_execute_internal(\n\u001b[1;32m   2309\u001b[0m         statement,\n\u001b[1;32m   2310\u001b[0m         params,\n\u001b[1;32m   2311\u001b[0m         execution_options\u001b[38;5;241m=\u001b[39mexecution_options,\n\u001b[1;32m   2312\u001b[0m         bind_arguments\u001b[38;5;241m=\u001b[39mbind_arguments,\n\u001b[1;32m   2313\u001b[0m         _parent_execute_state\u001b[38;5;241m=\u001b[39m_parent_execute_state,\n\u001b[1;32m   2314\u001b[0m         _add_event\u001b[38;5;241m=\u001b[39m_add_event,\n\u001b[1;32m   2315\u001b[0m     )\n",
      "File \u001b[0;32m/opt/anaconda3/lib/python3.11/site-packages/sqlalchemy/orm/session.py:2199\u001b[0m, in \u001b[0;36mSession._execute_internal\u001b[0;34m(self, statement, params, execution_options, bind_arguments, _parent_execute_state, _add_event, _scalar_result)\u001b[0m\n\u001b[1;32m   2190\u001b[0m     result: Result[Any] \u001b[38;5;241m=\u001b[39m compile_state_cls\u001b[38;5;241m.\u001b[39morm_execute_statement(\n\u001b[1;32m   2191\u001b[0m         \u001b[38;5;28mself\u001b[39m,\n\u001b[1;32m   2192\u001b[0m         statement,\n\u001b[0;32m   (...)\u001b[0m\n\u001b[1;32m   2196\u001b[0m         conn,\n\u001b[1;32m   2197\u001b[0m     )\n\u001b[1;32m   2198\u001b[0m \u001b[38;5;28;01melse\u001b[39;00m:\n\u001b[0;32m-> 2199\u001b[0m     result \u001b[38;5;241m=\u001b[39m conn\u001b[38;5;241m.\u001b[39mexecute(\n\u001b[1;32m   2200\u001b[0m         statement, params \u001b[38;5;129;01mor\u001b[39;00m {}, execution_options\u001b[38;5;241m=\u001b[39mexecution_options\n\u001b[1;32m   2201\u001b[0m     )\n\u001b[1;32m   2203\u001b[0m \u001b[38;5;28;01mif\u001b[39;00m _scalar_result:\n\u001b[1;32m   2204\u001b[0m     \u001b[38;5;28;01mreturn\u001b[39;00m result\u001b[38;5;241m.\u001b[39mscalar()\n",
      "File \u001b[0;32m/opt/anaconda3/lib/python3.11/site-packages/sqlalchemy/engine/base.py:1416\u001b[0m, in \u001b[0;36mConnection.execute\u001b[0;34m(self, statement, parameters, execution_options)\u001b[0m\n\u001b[1;32m   1414\u001b[0m     \u001b[38;5;28;01mraise\u001b[39;00m exc\u001b[38;5;241m.\u001b[39mObjectNotExecutableError(statement) \u001b[38;5;28;01mfrom\u001b[39;00m \u001b[38;5;21;01merr\u001b[39;00m\n\u001b[1;32m   1415\u001b[0m \u001b[38;5;28;01melse\u001b[39;00m:\n\u001b[0;32m-> 1416\u001b[0m     \u001b[38;5;28;01mreturn\u001b[39;00m meth(\n\u001b[1;32m   1417\u001b[0m         \u001b[38;5;28mself\u001b[39m,\n\u001b[1;32m   1418\u001b[0m         distilled_parameters,\n\u001b[1;32m   1419\u001b[0m         execution_options \u001b[38;5;129;01mor\u001b[39;00m NO_OPTIONS,\n\u001b[1;32m   1420\u001b[0m     )\n",
      "File \u001b[0;32m/opt/anaconda3/lib/python3.11/site-packages/sqlalchemy/sql/elements.py:517\u001b[0m, in \u001b[0;36mClauseElement._execute_on_connection\u001b[0;34m(self, connection, distilled_params, execution_options)\u001b[0m\n\u001b[1;32m    515\u001b[0m     \u001b[38;5;28;01mif\u001b[39;00m TYPE_CHECKING:\n\u001b[1;32m    516\u001b[0m         \u001b[38;5;28;01massert\u001b[39;00m \u001b[38;5;28misinstance\u001b[39m(\u001b[38;5;28mself\u001b[39m, Executable)\n\u001b[0;32m--> 517\u001b[0m     \u001b[38;5;28;01mreturn\u001b[39;00m connection\u001b[38;5;241m.\u001b[39m_execute_clauseelement(\n\u001b[1;32m    518\u001b[0m         \u001b[38;5;28mself\u001b[39m, distilled_params, execution_options\n\u001b[1;32m    519\u001b[0m     )\n\u001b[1;32m    520\u001b[0m \u001b[38;5;28;01melse\u001b[39;00m:\n\u001b[1;32m    521\u001b[0m     \u001b[38;5;28;01mraise\u001b[39;00m exc\u001b[38;5;241m.\u001b[39mObjectNotExecutableError(\u001b[38;5;28mself\u001b[39m)\n",
      "File \u001b[0;32m/opt/anaconda3/lib/python3.11/site-packages/sqlalchemy/engine/base.py:1639\u001b[0m, in \u001b[0;36mConnection._execute_clauseelement\u001b[0;34m(self, elem, distilled_parameters, execution_options)\u001b[0m\n\u001b[1;32m   1627\u001b[0m compiled_cache: Optional[CompiledCacheType] \u001b[38;5;241m=\u001b[39m execution_options\u001b[38;5;241m.\u001b[39mget(\n\u001b[1;32m   1628\u001b[0m     \u001b[38;5;124m\"\u001b[39m\u001b[38;5;124mcompiled_cache\u001b[39m\u001b[38;5;124m\"\u001b[39m, \u001b[38;5;28mself\u001b[39m\u001b[38;5;241m.\u001b[39mengine\u001b[38;5;241m.\u001b[39m_compiled_cache\n\u001b[1;32m   1629\u001b[0m )\n\u001b[1;32m   1631\u001b[0m compiled_sql, extracted_params, cache_hit \u001b[38;5;241m=\u001b[39m elem\u001b[38;5;241m.\u001b[39m_compile_w_cache(\n\u001b[1;32m   1632\u001b[0m     dialect\u001b[38;5;241m=\u001b[39mdialect,\n\u001b[1;32m   1633\u001b[0m     compiled_cache\u001b[38;5;241m=\u001b[39mcompiled_cache,\n\u001b[0;32m   (...)\u001b[0m\n\u001b[1;32m   1637\u001b[0m     linting\u001b[38;5;241m=\u001b[39m\u001b[38;5;28mself\u001b[39m\u001b[38;5;241m.\u001b[39mdialect\u001b[38;5;241m.\u001b[39mcompiler_linting \u001b[38;5;241m|\u001b[39m compiler\u001b[38;5;241m.\u001b[39mWARN_LINTING,\n\u001b[1;32m   1638\u001b[0m )\n\u001b[0;32m-> 1639\u001b[0m ret \u001b[38;5;241m=\u001b[39m \u001b[38;5;28mself\u001b[39m\u001b[38;5;241m.\u001b[39m_execute_context(\n\u001b[1;32m   1640\u001b[0m     dialect,\n\u001b[1;32m   1641\u001b[0m     dialect\u001b[38;5;241m.\u001b[39mexecution_ctx_cls\u001b[38;5;241m.\u001b[39m_init_compiled,\n\u001b[1;32m   1642\u001b[0m     compiled_sql,\n\u001b[1;32m   1643\u001b[0m     distilled_parameters,\n\u001b[1;32m   1644\u001b[0m     execution_options,\n\u001b[1;32m   1645\u001b[0m     compiled_sql,\n\u001b[1;32m   1646\u001b[0m     distilled_parameters,\n\u001b[1;32m   1647\u001b[0m     elem,\n\u001b[1;32m   1648\u001b[0m     extracted_params,\n\u001b[1;32m   1649\u001b[0m     cache_hit\u001b[38;5;241m=\u001b[39mcache_hit,\n\u001b[1;32m   1650\u001b[0m )\n\u001b[1;32m   1651\u001b[0m \u001b[38;5;28;01mif\u001b[39;00m has_events:\n\u001b[1;32m   1652\u001b[0m     \u001b[38;5;28mself\u001b[39m\u001b[38;5;241m.\u001b[39mdispatch\u001b[38;5;241m.\u001b[39mafter_execute(\n\u001b[1;32m   1653\u001b[0m         \u001b[38;5;28mself\u001b[39m,\n\u001b[1;32m   1654\u001b[0m         elem,\n\u001b[0;32m   (...)\u001b[0m\n\u001b[1;32m   1658\u001b[0m         ret,\n\u001b[1;32m   1659\u001b[0m     )\n",
      "File \u001b[0;32m/opt/anaconda3/lib/python3.11/site-packages/sqlalchemy/engine/base.py:1848\u001b[0m, in \u001b[0;36mConnection._execute_context\u001b[0;34m(self, dialect, constructor, statement, parameters, execution_options, *args, **kw)\u001b[0m\n\u001b[1;32m   1843\u001b[0m     \u001b[38;5;28;01mreturn\u001b[39;00m \u001b[38;5;28mself\u001b[39m\u001b[38;5;241m.\u001b[39m_exec_insertmany_context(\n\u001b[1;32m   1844\u001b[0m         dialect,\n\u001b[1;32m   1845\u001b[0m         context,\n\u001b[1;32m   1846\u001b[0m     )\n\u001b[1;32m   1847\u001b[0m \u001b[38;5;28;01melse\u001b[39;00m:\n\u001b[0;32m-> 1848\u001b[0m     \u001b[38;5;28;01mreturn\u001b[39;00m \u001b[38;5;28mself\u001b[39m\u001b[38;5;241m.\u001b[39m_exec_single_context(\n\u001b[1;32m   1849\u001b[0m         dialect, context, statement, parameters\n\u001b[1;32m   1850\u001b[0m     )\n",
      "File \u001b[0;32m/opt/anaconda3/lib/python3.11/site-packages/sqlalchemy/engine/base.py:1988\u001b[0m, in \u001b[0;36mConnection._exec_single_context\u001b[0;34m(self, dialect, context, statement, parameters)\u001b[0m\n\u001b[1;32m   1985\u001b[0m     result \u001b[38;5;241m=\u001b[39m context\u001b[38;5;241m.\u001b[39m_setup_result_proxy()\n\u001b[1;32m   1987\u001b[0m \u001b[38;5;28;01mexcept\u001b[39;00m \u001b[38;5;167;01mBaseException\u001b[39;00m \u001b[38;5;28;01mas\u001b[39;00m e:\n\u001b[0;32m-> 1988\u001b[0m     \u001b[38;5;28mself\u001b[39m\u001b[38;5;241m.\u001b[39m_handle_dbapi_exception(\n\u001b[1;32m   1989\u001b[0m         e, str_statement, effective_parameters, cursor, context\n\u001b[1;32m   1990\u001b[0m     )\n\u001b[1;32m   1992\u001b[0m \u001b[38;5;28;01mreturn\u001b[39;00m result\n",
      "File \u001b[0;32m/opt/anaconda3/lib/python3.11/site-packages/sqlalchemy/engine/base.py:2347\u001b[0m, in \u001b[0;36mConnection._handle_dbapi_exception\u001b[0;34m(self, e, statement, parameters, cursor, context, is_sub_exec)\u001b[0m\n\u001b[1;32m   2345\u001b[0m     \u001b[38;5;28;01melse\u001b[39;00m:\n\u001b[1;32m   2346\u001b[0m         \u001b[38;5;28;01massert\u001b[39;00m exc_info[\u001b[38;5;241m1\u001b[39m] \u001b[38;5;129;01mis\u001b[39;00m \u001b[38;5;129;01mnot\u001b[39;00m \u001b[38;5;28;01mNone\u001b[39;00m\n\u001b[0;32m-> 2347\u001b[0m         \u001b[38;5;28;01mraise\u001b[39;00m exc_info[\u001b[38;5;241m1\u001b[39m]\u001b[38;5;241m.\u001b[39mwith_traceback(exc_info[\u001b[38;5;241m2\u001b[39m])\n\u001b[1;32m   2348\u001b[0m \u001b[38;5;28;01mfinally\u001b[39;00m:\n\u001b[1;32m   2349\u001b[0m     \u001b[38;5;28;01mdel\u001b[39;00m \u001b[38;5;28mself\u001b[39m\u001b[38;5;241m.\u001b[39m_reentrant_error\n",
      "File \u001b[0;32m/opt/anaconda3/lib/python3.11/site-packages/sqlalchemy/engine/base.py:1969\u001b[0m, in \u001b[0;36mConnection._exec_single_context\u001b[0;34m(self, dialect, context, statement, parameters)\u001b[0m\n\u001b[1;32m   1967\u001b[0m                 \u001b[38;5;28;01mbreak\u001b[39;00m\n\u001b[1;32m   1968\u001b[0m     \u001b[38;5;28;01mif\u001b[39;00m \u001b[38;5;129;01mnot\u001b[39;00m evt_handled:\n\u001b[0;32m-> 1969\u001b[0m         \u001b[38;5;28mself\u001b[39m\u001b[38;5;241m.\u001b[39mdialect\u001b[38;5;241m.\u001b[39mdo_execute(\n\u001b[1;32m   1970\u001b[0m             cursor, str_statement, effective_parameters, context\n\u001b[1;32m   1971\u001b[0m         )\n\u001b[1;32m   1973\u001b[0m \u001b[38;5;28;01mif\u001b[39;00m \u001b[38;5;28mself\u001b[39m\u001b[38;5;241m.\u001b[39m_has_events \u001b[38;5;129;01mor\u001b[39;00m \u001b[38;5;28mself\u001b[39m\u001b[38;5;241m.\u001b[39mengine\u001b[38;5;241m.\u001b[39m_has_events:\n\u001b[1;32m   1974\u001b[0m     \u001b[38;5;28mself\u001b[39m\u001b[38;5;241m.\u001b[39mdispatch\u001b[38;5;241m.\u001b[39mafter_cursor_execute(\n\u001b[1;32m   1975\u001b[0m         \u001b[38;5;28mself\u001b[39m,\n\u001b[1;32m   1976\u001b[0m         cursor,\n\u001b[0;32m   (...)\u001b[0m\n\u001b[1;32m   1980\u001b[0m         context\u001b[38;5;241m.\u001b[39mexecutemany,\n\u001b[1;32m   1981\u001b[0m     )\n",
      "File \u001b[0;32m/opt/anaconda3/lib/python3.11/site-packages/clickhouse_sqlalchemy/drivers/base.py:459\u001b[0m, in \u001b[0;36mClickHouseDialect.do_execute\u001b[0;34m(self, cursor, statement, parameters, context)\u001b[0m\n\u001b[1;32m    458\u001b[0m \u001b[38;5;28;01mdef\u001b[39;00m \u001b[38;5;21mdo_execute\u001b[39m(\u001b[38;5;28mself\u001b[39m, cursor, statement, parameters, context\u001b[38;5;241m=\u001b[39m\u001b[38;5;28;01mNone\u001b[39;00m):\n\u001b[0;32m--> 459\u001b[0m     cursor\u001b[38;5;241m.\u001b[39mexecute(statement, parameters, context\u001b[38;5;241m=\u001b[39mcontext)\n",
      "File \u001b[0;32m/opt/anaconda3/lib/python3.11/site-packages/clickhouse_sqlalchemy/drivers/http/connector.py:133\u001b[0m, in \u001b[0;36mCursor.execute\u001b[0;34m(self, operation, parameters, context)\u001b[0m\n\u001b[1;32m    130\u001b[0m raw_sql \u001b[38;5;241m=\u001b[39m \u001b[38;5;28mself\u001b[39m\u001b[38;5;241m.\u001b[39m_prepare(raw_sql, context)\n\u001b[1;32m    131\u001b[0m response_gen \u001b[38;5;241m=\u001b[39m transport\u001b[38;5;241m.\u001b[39mexecute(raw_sql, params\u001b[38;5;241m=\u001b[39mparams)\n\u001b[0;32m--> 133\u001b[0m \u001b[38;5;28mself\u001b[39m\u001b[38;5;241m.\u001b[39m_process_response(response_gen)\n\u001b[1;32m    134\u001b[0m \u001b[38;5;28mself\u001b[39m\u001b[38;5;241m.\u001b[39m_end_query()\n",
      "File \u001b[0;32m/opt/anaconda3/lib/python3.11/site-packages/clickhouse_sqlalchemy/drivers/http/connector.py:232\u001b[0m, in \u001b[0;36mCursor._process_response\u001b[0;34m(self, response)\u001b[0m\n\u001b[1;32m    229\u001b[0m \u001b[38;5;28;01mdef\u001b[39;00m \u001b[38;5;21m_process_response\u001b[39m(\u001b[38;5;28mself\u001b[39m, response):\n\u001b[1;32m    230\u001b[0m     response \u001b[38;5;241m=\u001b[39m \u001b[38;5;28miter\u001b[39m(response)\n\u001b[0;32m--> 232\u001b[0m     \u001b[38;5;28mself\u001b[39m\u001b[38;5;241m.\u001b[39m_columns \u001b[38;5;241m=\u001b[39m \u001b[38;5;28mnext\u001b[39m(response, \u001b[38;5;28;01mNone\u001b[39;00m)\n\u001b[1;32m    233\u001b[0m     \u001b[38;5;28mself\u001b[39m\u001b[38;5;241m.\u001b[39m_types \u001b[38;5;241m=\u001b[39m \u001b[38;5;28mnext\u001b[39m(response, \u001b[38;5;28;01mNone\u001b[39;00m)\n\u001b[1;32m    234\u001b[0m     \u001b[38;5;28mself\u001b[39m\u001b[38;5;241m.\u001b[39m_response \u001b[38;5;241m=\u001b[39m response\n",
      "File \u001b[0;32m/opt/anaconda3/lib/python3.11/site-packages/clickhouse_sqlalchemy/drivers/http/transport.py:133\u001b[0m, in \u001b[0;36mRequestsTransport.execute\u001b[0;34m(self, query, params)\u001b[0m\n\u001b[1;32m    128\u001b[0m \u001b[38;5;28;01mdef\u001b[39;00m \u001b[38;5;21mexecute\u001b[39m(\u001b[38;5;28mself\u001b[39m, query, params\u001b[38;5;241m=\u001b[39m\u001b[38;5;28;01mNone\u001b[39;00m):\n\u001b[1;32m    129\u001b[0m \u001b[38;5;250m    \u001b[39m\u001b[38;5;124;03m\"\"\"\u001b[39;00m\n\u001b[1;32m    130\u001b[0m \u001b[38;5;124;03m    Query is returning rows and these rows should be parsed or\u001b[39;00m\n\u001b[1;32m    131\u001b[0m \u001b[38;5;124;03m    there is nothing to return.\u001b[39;00m\n\u001b[1;32m    132\u001b[0m \u001b[38;5;124;03m    \"\"\"\u001b[39;00m\n\u001b[0;32m--> 133\u001b[0m     r \u001b[38;5;241m=\u001b[39m \u001b[38;5;28mself\u001b[39m\u001b[38;5;241m.\u001b[39m_send(query, params\u001b[38;5;241m=\u001b[39mparams, stream\u001b[38;5;241m=\u001b[39m\u001b[38;5;28;01mTrue\u001b[39;00m)\n\u001b[1;32m    134\u001b[0m     lines \u001b[38;5;241m=\u001b[39m r\u001b[38;5;241m.\u001b[39miter_lines()\n\u001b[1;32m    135\u001b[0m     \u001b[38;5;28;01mtry\u001b[39;00m:\n",
      "File \u001b[0;32m/opt/anaconda3/lib/python3.11/site-packages/clickhouse_sqlalchemy/drivers/http/transport.py:179\u001b[0m, in \u001b[0;36mRequestsTransport._send\u001b[0;34m(self, data, params, stream)\u001b[0m\n\u001b[1;32m    177\u001b[0m     orig \u001b[38;5;241m=\u001b[39m HTTPException(r\u001b[38;5;241m.\u001b[39mtext)\n\u001b[1;32m    178\u001b[0m     orig\u001b[38;5;241m.\u001b[39mcode \u001b[38;5;241m=\u001b[39m r\u001b[38;5;241m.\u001b[39mstatus_code\n\u001b[0;32m--> 179\u001b[0m     \u001b[38;5;28;01mraise\u001b[39;00m DatabaseException(orig)\n\u001b[1;32m    180\u001b[0m \u001b[38;5;28;01mreturn\u001b[39;00m r\n",
      "\u001b[0;31mDatabaseException\u001b[0m: Orig exception: Code: 241. DB::Exception: Memory limit (total) exceeded: would use 14.08 GiB (attempt to allocate chunk of 0 bytes), maximum: 14.06 GiB. OvercommitTracker decision: Memory overcommit has freed not enough memory.: While executing AggregatingTransform. (MEMORY_LIMIT_EXCEEDED) (version 23.3.1.2823 (official build))\n"
     ]
    }
   ],
   "source": [
    "list_date = pd.date_range(\"2024-07-01\", \"2024-11-07\", freq='D')\n",
    "result = []\n",
    "for date in list_date:\n",
    "    date_str = date.strftime('%Y-%m-%d')\n",
    "    query_delete = f\" DELETE FROM datamarts.mekhtiev_min_date_visitor_profile_local ON CLUSTER 'viasat_cluster' WHERE min_date_visitor = '{date_str}'\"\n",
    "    execute(query_delete,user = 'kmekhtiev')\n",
    "    print(f'Дата {date_str} удалена из таблицы')\n",
    "    query = f'''\n",
    "    INSERT INTO datamarts.mekhtiev_min_date_visitor_profile_distr\n",
    "    SELECT\n",
    "    min_date_visitor,\n",
    "    min(min_date_visitor) OVER (PARTITION BY profile_id) AS min_date_profile,\n",
    "    visitor_id,\n",
    "    client_type2 AS client_type,\n",
    "    bonus_title,\n",
    "    user_id2 AS user_id,\n",
    "    profile_id2 AS profile_id,\n",
    "    promo_type2 AS promo_type,\n",
    "    app_version2 AS app_version\n",
    "    FROM\n",
    "        (SELECT\n",
    "        min(utc_timestamp::date) AS min_date_visitor,\n",
    "        visitor_id,\n",
    "        user_id,\n",
    "        promo_type,\n",
    "        profile_id,\n",
    "        client_type,\n",
    "        bonus_title,\n",
    "        app_version,\n",
    "        first_value(client_type) OVER (PARTITION BY visitor_id) AS client_type2,\n",
    "        first_value(user_id) OVER (PARTITION BY visitor_id) AS user_id2,\n",
    "        first_value(promo_type) OVER (PARTITION BY visitor_id) AS promo_type2,\n",
    "        first_value(profile_id) OVER (PARTITION BY visitor_id) AS profile_id2,\n",
    "        first_value(app_version) OVER (PARTITION BY visitor_id) AS app_version2\n",
    "        FROM datamarts.sandbox_data_distr x\n",
    "        LEFT JOIN product_x.users AS u ON x.user_id=u.id\n",
    "        WHERE client_type!='backend'\n",
    "        AND utc_timestamp::date>='2023-09-01'\n",
    "        AND (u.email NOT LIKE '%@test%' OR u.email IS NULL)\n",
    "        GROUP BY 2,3,4,5,6,7,8\n",
    "        )\n",
    "    WHERE min_date_visitor='{date_str}' \n",
    "    GROUP BY 1,3,4,5,6,7,8,9\n",
    "                \n",
    "\n",
    "            '''\n",
    "    df_temp = execute(query,user = 'kmekhtiev')   \n",
    "    result.append(df_temp)\n",
    "    print(f\"\"\"Дата '{date_str}' загружена\"\"\")\n",
    "    print()\n",
    "    \n",
    "df_registration = pd.concat(result)"
   ]
  },
  {
   "cell_type": "markdown",
   "id": "b59bbf41-6df1-46fd-be46-4470f7d25355",
   "metadata": {},
   "source": [
    "# LTV"
   ]
  },
  {
   "cell_type": "code",
   "execution_count": null,
   "id": "f4132eb6-9894-4c87-a379-9d01378521e2",
   "metadata": {
    "tags": []
   },
   "outputs": [],
   "source": [
    "list_date = pd.date_range(\"2024-01-01\", \"2024-09-01\", freq='MS',normalize=True)\n",
    "result = []\n",
    "for date in list_date:\n",
    "    date_str = date.strftime('%Y-%m-%d')\n",
    "    query = f'''\n",
    "            SELECT \n",
    "                '{date_str}' AS trial_month,\n",
    "                paid_at::date AS paid_date,\n",
    "                paid_at,\n",
    "                date_trunc('month',paid_date) AS paid_month,\n",
    "                s.user_id AS user_id,\n",
    "                t2.free_days AS free_days,\n",
    "                i.subscription_id AS subscription_id,\n",
    "                s.created_at::date AS created_date,\n",
    "                t2.first_prolong_date::date AS first_prolong_date,\n",
    "                t2.reg_source AS reg_source,\n",
    "                t2.reg_medium AS reg_medium,\n",
    "                t2.bonus_title AS bonus_title,\n",
    "                CASE WHEN t2.promo_type='cards' THEN 'b2b' ELSE 'b2c' END AS b2c_b2b,\n",
    "                i.price_currency AS price_currency,\n",
    "                sum(CASE WHEN i.price_currency='USD' THEN i.price_cents*90/100\n",
    "                         WHEN i.price_currency='AMD' THEN i.price_cents*0.25/100\n",
    "                         ELSE i.price_cents/100\n",
    "                    END) AS payment\n",
    "                FROM  product_x.invoices i\n",
    "                LEFT JOIN product_x.subscriptions s ON s.id = i.subscription_id\n",
    "                LEFT JOIN product_x.users u ON u.id = s.user_id\n",
    "                INNER JOIN (SELECT \n",
    "                           user_id,\n",
    "                           first_prolong_date::date AS first_prolong_date,\n",
    "                           reg_source,\n",
    "                           reg_medium,\n",
    "                           bonus_title,\n",
    "                           free_days,\n",
    "                           promo_type\n",
    "                           FROM datamarts.marketing_dash_distr\n",
    "                           WHERE DATE_TRUNC('month', first_prolong_date)='{date_str}'\n",
    "                           GROUP BY 1,2,3,4,5,6,7\n",
    "                           ) AS t2 \n",
    "                        ON s.user_id=t2.user_id\n",
    "                WHERE u.user_type = 'regular'\n",
    "                AND u.vipplay = FALSE\n",
    "                AND s.state in ('normal_period','trial','canceled','grace_period')\n",
    "                AND i.paid_at BETWEEN '{date_str}' AND '2024-10-01'\n",
    "                AND i.state in ('success')\n",
    "                AND ((u.email NOT ILIKE '%%@test%%' AND u.email NOT ILIKE '%%@viasat%%') OR (u.email IS NULL AND u.phone_number IS NOT NULL))\n",
    "                AND i.price_cents > 100\n",
    "                GROUP BY 1,2,3,4,5,6,7,8,9,10,11,12,13,14\n",
    "            '''\n",
    "    df_temp = execute(query,user = 'kmekhtiev')   \n",
    "    result.append(df_temp)\n",
    "    print(f\"\"\"Дата '{date_str}' загружена\"\"\")\n",
    "    print()\n",
    "\n",
    "df = pd.concat(result)\n",
    "df['paid_date'] = df['paid_date'].astype('datetime64[ns]')\n",
    "df['paid_month'] = df['paid_month'].astype('datetime64[ns]')\n",
    "df['trial_month'] = df['trial_month'].astype('datetime64[ns]')\n",
    "df['payment'] = df['payment'].astype('int32')\n",
    "df.sort_values(by='paid_at',inplace=True)"
   ]
  },
  {
   "cell_type": "code",
   "execution_count": null,
   "id": "9aff5a62-d0fa-41ab-8ff3-ae4cdcad715d",
   "metadata": {
    "tags": []
   },
   "outputs": [],
   "source": [
    "# LTV общий \n",
    "df_agg = df.groupby(['trial_month','paid_month']).agg({'payment':'sum','user_id':'count'}).reset_index()\n",
    "\n",
    "# Расчет кумулятивной суммы, и добавления поля по числу пользователей когорты \n",
    "df_agg['cumulative'] = df_agg.groupby('trial_month')['payment'].cumsum()\n",
    "df_agg['uniq_user'] = df_agg.groupby('trial_month')['user_id'].transform('max')\n",
    "\n",
    "#Расчет ltv\n",
    "df_agg['ltv'] = df_agg.cumulative/df_agg.uniq_user\n",
    "\n",
    "# Нумерация месяцев\n",
    "df_agg['num_of_month'] = df_agg.groupby('trial_month')['paid_month'].rank(method='first').astype('int')\n",
    "df_agg = df_agg[df_agg['num_of_month']<7] # Ограничиваем 6-ью месяцами\n",
    "\n",
    "# Сделаем pivot \n",
    "df_pivot = pd.pivot(data = df_agg,index = 'trial_month',columns = 'num_of_month',values = 'ltv')\n",
    "df_pivot['uniq_user'] = df_agg.groupby('trial_month')['uniq_user'].max()\n",
    "\n",
    "# Создаем DataFrame с данными для расчета средневзвешенного LTV\n",
    "weighted_ltv = df_agg.pivot(index='trial_month', columns='num_of_month', values='ltv')\n",
    "user_counts = df_agg.pivot(index='trial_month', columns='num_of_month', values='uniq_user')\n",
    "\n",
    "# Рассчитываем средневзвешенное значение LTV для каждого 'num_of_month'\n",
    "weighted_avg_ltv = ((weighted_ltv * user_counts).sum() / user_counts.sum()).round().astype('int')\n",
    "\n",
    "\n",
    "weighted_avg_ltv = weighted_avg_ltv.reset_index()\n",
    "weighted_avg_ltv = weighted_avg_ltv.rename(columns={0:'ltv'})\n",
    "\n",
    "\n",
    "# Построение графика месячного LTV\n",
    "plt.figure(figsize=(20,8))\n",
    "plt.plot(weighted_avg_ltv['num_of_month'], weighted_avg_ltv['ltv'], marker='o', linestyle='-', color='#005f80',markerfacecolor='white',alpha=0.8)\n",
    "\n",
    "for i in range(len(weighted_avg_ltv['num_of_month'])):  \n",
    "    plt.text(weighted_avg_ltv['num_of_month'][i], weighted_avg_ltv['ltv'][i]+10,\n",
    "             str(weighted_avg_ltv['ltv'][i]),\n",
    "             ha='center', fontsize=10,color='purple')  \n",
    "plt.xlabel('Месяцы')\n",
    "plt.ylabel('Руб')\n",
    "plt.title('Кумулятивная сумма на пользователя по месяцам (Flocktory)')\n",
    "plt.grid(True,linewidth=0.4)\n",
    "plt.xticks(rotation=45)\n",
    "plt.show()"
   ]
  },
  {
   "cell_type": "code",
   "execution_count": null,
   "id": "07b34c69-3d7b-4dbb-ac7d-8462eb1238a1",
   "metadata": {
    "tags": []
   },
   "outputs": [],
   "source": [
    "query = '''CREATE TABLE datamarts.mekhtiev_ltv_local ON CLUSTER 'viasat_cluster'\n",
    "            (\n",
    "                num_of_month Int32,\n",
    "                ltv Int32\n",
    "                )\n",
    "             ENGINE = ReplicatedMergeTree('/clickhouse/tables/{shard}/mekhtiev_ltv_local', '{replica}')\n",
    "             ORDER BY num_of_month\n",
    "             '''\n",
    "execute(query,user = 'kmekhtiev')"
   ]
  },
  {
   "cell_type": "code",
   "execution_count": null,
   "id": "e4450572-d537-462d-8eac-e5eb65dc0648",
   "metadata": {
    "tags": []
   },
   "outputs": [],
   "source": [
    "query = f'''CREATE TABLE datamarts.mekhtiev_ltv_distr ON CLUSTER 'viasat_cluster'\n",
    "            (\n",
    "                num_of_month Int32,\n",
    "                ltv Int32\n",
    "                )\n",
    "             \n",
    "             ENGINE = Distributed(viasat_cluster, datamarts, mekhtiev_ltv_local, rand())\n",
    "             '''\n",
    "execute(query,user = 'kmekhtiev')"
   ]
  },
  {
   "cell_type": "code",
   "execution_count": null,
   "id": "508ad94b-12cf-4ed0-900a-d41e291435d2",
   "metadata": {
    "tags": []
   },
   "outputs": [],
   "source": [
    "execute(SQL = f\" TRUNCATE TABLE datamarts.mekhtiev_ltv_local ON CLUSTER 'viasat_cluster' \", user='kmekhtiev')\n",
    "connection_clickhouse.insert_df('mekhtiev_ltv_distr', weighted_avg_ltv)\n",
    "\n",
    "print(\"Данные залиты\")"
   ]
  },
  {
   "cell_type": "code",
   "execution_count": null,
   "id": "edb2aa72-99e2-4383-ab75-6e9764a48fa2",
   "metadata": {
    "tags": []
   },
   "outputs": [],
   "source": [
    "df['free_days'].unique()"
   ]
  },
  {
   "cell_type": "code",
   "execution_count": null,
   "id": "3c9e4361-c823-45b7-a25c-c8308fae4168",
   "metadata": {
    "tags": []
   },
   "outputs": [],
   "source": [
    "# LTV в разбивке b2c_b2b\n",
    "df_agg = df[df['free_days'].isin([3,14,30,35,45])].groupby(['trial_month','paid_month','free_days']).agg({'payment':'sum','user_id':'count'}).reset_index()\n",
    "\n",
    "# Расчет кумулятивной суммы, и добавления поля по числу пользователей когорты \n",
    "df_agg['cumulative'] = df_agg.groupby(['trial_month','free_days'])['payment'].cumsum()\n",
    "df_agg['uniq_user'] = df_agg.groupby(['trial_month','free_days'])['user_id'].transform('max')\n",
    "\n",
    "#Расчет ltv\n",
    "df_agg['ltv'] = df_agg.cumulative/df_agg.uniq_user\n",
    "\n",
    "# Нумерация месяцев\n",
    "df_agg['num_of_month'] = df_agg.groupby(['trial_month','free_days'])['paid_month'].rank(method='first').astype('int')\n",
    "df_agg = df_agg[df_agg['num_of_month']<7] # Ограничиваем 6-ью месяцами\n",
    "\n",
    "# Сделаем pivot \n",
    "df_pivot = pd.pivot(data = df_agg,index = ['trial_month','free_days'],columns = 'num_of_month',values = 'ltv')\n",
    "df_pivot['uniq_user'] = df_agg.groupby(['trial_month','free_days'])['uniq_user'].max()\n",
    "\n",
    "# Создаем DataFrame с данными для расчета средневзвешенного LTV\n",
    "weighted_ltv = df_agg.pivot(index='trial_month', columns='num_of_month', values='ltv')\n",
    "user_counts = df_agg.pivot(index='trial_month', columns='num_of_month', values='uniq_user')\n",
    "\n",
    "# Рассчитываем средневзвешенное значение LTV для каждого 'num_of_month'\n",
    "weighted_avg_ltv = ((weighted_ltv * user_counts).sum() / user_counts.sum()).round().astype('int')\n",
    "\n",
    "\n",
    "weighted_avg_ltv = weighted_avg_ltv.reset_index()\n",
    "weighted_avg_ltv = weighted_avg_ltv.rename(columns={0:'cumsum'})\n",
    "\n",
    "\n",
    "# Построение графика месячного LTV\n",
    "plt.figure(figsize=(20,8))\n",
    "plt.plot(weighted_avg_ltv['num_of_month'], weighted_avg_ltv['cumsum'], marker='o', linestyle='-', color='#005f80',markerfacecolor='white',alpha=0.8)\n",
    "\n",
    "for i in range(len(weighted_avg_ltv['num_of_month'])):  \n",
    "    plt.text(weighted_avg_ltv['num_of_month'][i], weighted_avg_ltv['cumsum'][i]+10,\n",
    "             str(weighted_avg_ltv['cumsum'][i]),\n",
    "             ha='center', fontsize=10,color='purple')  \n",
    "plt.xlabel('Месяцы')\n",
    "plt.ylabel('Руб')\n",
    "plt.title('Кумулятивная сумма на пользователя по месяцам (Flocktory)')\n",
    "plt.grid(True,linewidth=0.4)\n",
    "plt.xticks(rotation=45)\n",
    "plt.show()"
   ]
  },
  {
   "cell_type": "code",
   "execution_count": null,
   "id": "24e434f6-7219-461a-b76f-9ab499c87325",
   "metadata": {
    "tags": []
   },
   "outputs": [],
   "source": [
    "df_agg = df[df['free_days'].isin([3,14,30,35,45])].groupby(['trial_month','paid_month','free_days']).agg({'payment':'sum','user_id':'count'}).reset_index()\n",
    "\n",
    "# Расчет кумулятивной суммы, и добавления поля по числу пользователей когорты \n",
    "df_agg['cumulative'] = df_agg.groupby(['trial_month','free_days'])['payment'].cumsum()\n",
    "df_agg['uniq_user'] = df_agg.groupby(['trial_month','free_days'])['user_id'].transform('max')\n",
    "\n",
    "#Расчет ltv\n",
    "df_agg['ltv'] = df_agg.cumulative/df_agg.uniq_user\n",
    "\n",
    "\n",
    "df_agg['num_of_month'] = df_agg.groupby(['trial_month','free_days'])['paid_month'].rank(method='first').astype('int')\n",
    "\n",
    "df_agg['diff'] = ((df_agg['paid_month'] - df_agg['paid_month'].min()) / pd.offsets.MonthEnd(1)).astype(int)\n",
    "df_agg = df_agg[df_agg['num_of_month']<7] # Ограничиваем 6-ью месяцами\n",
    "\n",
    "df_agg[df_agg['free_days']==14]"
   ]
  },
  {
   "cell_type": "code",
   "execution_count": null,
   "id": "1ae41807-ff8e-4d67-8ef0-481fc0904319",
   "metadata": {},
   "outputs": [],
   "source": [
    " 'paid_month': ['2024-02-01', '2024-03-01']  \n",
    "}  \n",
    "df = pd.DataFrame(data)  \n",
    "\n",
    "# Преобразование строк в формат даты\n",
    "df['paid_month'] = pd.to_datetime(df['paid_month'])  \n",
    "\n",
    "# Добавление нового столбца, который содержит разницу в месяцах\n",
    "df['difference'] = (df['paid_month'].shift(-1) - df['paid_month']).dt.days //30# Выбор только первой строки разницыresult = df['difference'].dropna().astype(int).iloc[0]  \n",
    "\n"
   ]
  },
  {
   "cell_type": "code",
   "execution_count": null,
   "id": "852ad1f5-4dd6-4f18-aba6-a591f02e9434",
   "metadata": {
    "tags": []
   },
   "outputs": [],
   "source": [
    "df[df['b2c_b2b']=='b2c'].groupby(['paid_month']).agg({'payment':'sum','user_id':'count'}).reset_index()"
   ]
  },
  {
   "cell_type": "code",
   "execution_count": null,
   "id": "cd6ca9f2-0009-47e8-853f-e5769d7cf4c7",
   "metadata": {
    "tags": []
   },
   "outputs": [],
   "source": [
    "df.groupby(['paid_month','b2c_b2b'])['user_id'].count()"
   ]
  },
  {
   "cell_type": "code",
   "execution_count": null,
   "id": "8df064f4-8d6f-4220-a266-9f435feee3cf",
   "metadata": {
    "tags": []
   },
   "outputs": [],
   "source": [
    "df_agg = df.groupby(['trial_month','paid_month','b2c_b2b']).agg({'payment':'sum','user_id':'count'}).reset_index()\n",
    "\n",
    "# Расчет кумулятивной суммы, и добавления поля по числу пользователей когорты \n",
    "df_agg['cumulative'] = df_agg.groupby(['trial_month','b2c_b2b'])['payment'].cumsum()\n",
    "df_agg['uniq_user'] = df_agg.groupby(['trial_month','b2c_b2b'])['user_id'].transform('max')\n",
    "\n",
    "#Расчет ltv\n",
    "df_agg['ltv'] = df_agg.cumulative/df_agg.uniq_user\n",
    "\n",
    "\n",
    "# Нумерация месяцев\n",
    "df_agg['num_of_month'] = df_agg.groupby(['trial_month','b2c_b2b'])['paid_month'].rank(method='first').astype('int')\n",
    "df_agg = df_agg[df_agg['num_of_month']<7] # Ограничиваем 6-ью месяцами\n",
    "\n",
    "df_pivot = pd.pivot(data = df_agg,index = ['trial_month','b2c_b2b'],columns = 'num_of_month',values = 'ltv')\n",
    "df_pivot['uniq_user'] = df_agg.groupby(['trial_month','b2c_b2b'])['uniq_user'].max()\n",
    "\n",
    "df_pivot"
   ]
  },
  {
   "cell_type": "code",
   "execution_count": null,
   "id": "fae34f5e-a932-4f67-a052-10246e3d7f89",
   "metadata": {
    "tags": []
   },
   "outputs": [],
   "source": [
    "df_pivot"
   ]
  },
  {
   "cell_type": "code",
   "execution_count": null,
   "id": "aa460a78-beab-438c-8dda-9dc370e36490",
   "metadata": {
    "tags": []
   },
   "outputs": [],
   "source": [
    "df[(df['trial_month']=='2024-04-01') & (df['user_id']=='583943d4-7048-4c4b-91ca-6edfb27f492b')]"
   ]
  },
  {
   "cell_type": "code",
   "execution_count": null,
   "id": "f17c6aee-194a-4b6b-ae42-f8767db3dbc2",
   "metadata": {
    "tags": []
   },
   "outputs": [],
   "source": [
    "df['cumsum'] = df.groupby('user_id')['payment'].cumsum()\n",
    "df['cnt_user'] = df.groupby('trial_month')['user_id'].transform('nunique').astype('int32')"
   ]
  },
  {
   "cell_type": "code",
   "execution_count": null,
   "id": "75b87dda-4e5f-4733-b306-c7cc487a5663",
   "metadata": {
    "tags": []
   },
   "outputs": [],
   "source": [
    "df.groupby('trial_month')['user_id'].nunique()"
   ]
  },
  {
   "cell_type": "code",
   "execution_count": null,
   "id": "843aa3ca-efca-4086-a1e4-7e05e624f95e",
   "metadata": {
    "tags": []
   },
   "outputs": [],
   "source": [
    "df.groupby(['trial_month','paid_month'])['cumsum'].sum()"
   ]
  },
  {
   "cell_type": "code",
   "execution_count": null,
   "id": "e1697f7b-feba-488a-a9f6-51caebfd8fb9",
   "metadata": {
    "tags": []
   },
   "outputs": [],
   "source": [
    "df.groupby(['trial_month','paid_month'])['cumsum'].sum()"
   ]
  },
  {
   "cell_type": "code",
   "execution_count": null,
   "id": "3e4385d6-ebf7-411d-8640-5878d29d4dfd",
   "metadata": {
    "tags": []
   },
   "outputs": [],
   "source": [
    "list_date = pd.date_range(\"2024-06-01\", \"2024-07-22\", freq='D')\n",
    "result = []\n",
    "for date in list_date:\n",
    "    date_str = date.strftime('%Y-%m-%d')\n",
    "    query = f'''\n",
    "                        SELECT \n",
    "                        '{date_str}' AS date,\n",
    "                        trial_duration,\n",
    "                        count(DISTINCT profile_id) as cnt_user\n",
    "                        FROM datamarts.marketing_dash_distr\n",
    "                        WHERE created_at::date BETWEEN '{date_str}'::date - interval '6' DAY AND '{date_str}'::date\n",
    "                        AND first_prolong_date!='1970-01-01'\n",
    "                        GROUP BY 1,2\n",
    "                        '''\n",
    "    df_temp = execute(query,user = 'kmekhtiev')   \n",
    "    result.append(df_temp)\n",
    "    print(f\"\"\"Дата '{date_str}' загружена\"\"\")\n",
    "    print()\n",
    "    \n",
    "df_registration = pd.concat(result)       "
   ]
  },
  {
   "cell_type": "code",
   "execution_count": null,
   "id": "8770ce4e-7d61-45c3-9b38-57ce8417e462",
   "metadata": {
    "tags": []
   },
   "outputs": [],
   "source": [
    "t1 = (pd.pivot(data=df_registration[df_registration.trial_duration.isin([0,3,14])],\n",
    "              index='date',\n",
    "              columns='trial_duration')\n",
    "     )\n",
    "t1"
   ]
  },
  {
   "cell_type": "code",
   "execution_count": null,
   "id": "34b0f50a-3840-4c29-9097-4a8275b5f917",
   "metadata": {
    "tags": []
   },
   "outputs": [],
   "source": [
    "list_date = pd.date_range(\"2024-06-01\", \"2024-07-22\", freq='D')\n",
    "result = []\n",
    "for date in list_date:\n",
    "    date_str = date.strftime('%Y-%m-%d')\n",
    "    query = f'''\n",
    "                        SELECT \n",
    "                        '{date_str}' AS date,\n",
    "                        trial_duration,\n",
    "                        count(DISTINCT profile_id) as cnt_user\n",
    "                        FROM datamarts.marketing_dash_distr\n",
    "                        WHERE first_prolong_date::date BETWEEN '{date_str}'::date - interval '6' DAY AND '{date_str}'::date\n",
    "                        GROUP BY 1,2\n",
    "                        '''\n",
    "    df_temp = execute(query,user = 'kmekhtiev')   \n",
    "    result.append(df_temp)\n",
    "    print(f\"\"\"Дата '{date_str}' загружена\"\"\")\n",
    "    print()\n",
    "    \n",
    "df_subs = pd.concat(result)       "
   ]
  },
  {
   "cell_type": "code",
   "execution_count": null,
   "id": "3e8fb82e-8846-4a38-9a0e-fe5bd52ce2db",
   "metadata": {
    "tags": []
   },
   "outputs": [],
   "source": [
    "t2 = (pd.pivot(data=df_subs[df_subs.trial_duration.isin([0,3,14,35])],\n",
    "              index='date',\n",
    "              columns='trial_duration')\n",
    "     )\n",
    "t2"
   ]
  },
  {
   "cell_type": "code",
   "execution_count": null,
   "id": "ba0de471-4fb7-4e6a-bcd2-ccffc2cfd3a3",
   "metadata": {
    "tags": []
   },
   "outputs": [],
   "source": [
    "list_date = pd.date_range(\"2024-01-01\", \"2024-07-22\", freq='D')\n",
    "result = []\n",
    "for date in list_date:\n",
    "    date_str = date.strftime('%Y-%m-%d')\n",
    "    query = f'''\n",
    "                        SELECT \n",
    "                        '{date_str}' AS date,\n",
    "                        trial_duration,\n",
    "                        created_at::date AS created_at,\n",
    "                        first_prolong_date::date AS first_prolong_date,\n",
    "                        profile_id\n",
    "                        FROM datamarts.marketing_dash_distr\n",
    "                        WHERE first_prolong_date::date BETWEEN '{date_str}'::date - interval '6' DAY AND '{date_str}'::date\n",
    "                        GROUP BY 1,2,3,4,5\n",
    "                        '''\n",
    "    df_temp = execute(query,user = 'kmekhtiev')   \n",
    "    result.append(df_temp)\n",
    "    print(f\"\"\"Дата '{date_str}' загружена\"\"\")\n",
    "    print()\n",
    "    \n",
    "df_subs_dt = pd.concat(result) \n",
    "df_subs_dt['first_prolong_date'] = df_subs_dt['first_prolong_date'].astype('datetime64[ns]')\n",
    "df_subs_dt['created_at'] = df_subs_dt['created_at'].astype('datetime64[ns]')\n",
    "df_subs_dt['dt'] = (df_subs_dt.first_prolong_date - df_subs_dt.created_at).dt.days"
   ]
  },
  {
   "cell_type": "code",
   "execution_count": null,
   "id": "860492a9-1a3c-47da-85e7-33c6905fa275",
   "metadata": {
    "tags": []
   },
   "outputs": [],
   "source": [
    "df_subs_dt_agg = (df_subs_dt[#(df_registration2.first_prolong_date == '2024-07-20') &\n",
    "                    #& (df_registration2['dt']==35)]\n",
    "                     (df_subs_dt['trial_duration']==3)]\n",
    "    .groupby(['dt'])['profile_id'] \n",
    "    .nunique() \n",
    "    .reset_index() \n",
    ")\n",
    "df_subs_dt_agg = df_subs_dt_agg[df_subs_dt_agg.dt<50]\n",
    "\n",
    "# Столбчатая диаграмма  \n",
    "plt.figure(figsize=(15, 8))  \n",
    "plt.bar(df_subs_dt_agg['dt'], df_subs_dt_agg['profile_id'], color='skyblue')  \n",
    "plt.ylabel('Число пользователей')\n",
    "plt.xlabel('Число дней между началом триала и первым списанием')\n",
    "plt.xticks(rotation=45)\n",
    "plt.grid()\n",
    "plt.show() "
   ]
  },
  {
   "cell_type": "code",
   "execution_count": null,
   "id": "4ad7079d-efe8-401b-9915-ff357ab913d9",
   "metadata": {
    "tags": []
   },
   "outputs": [],
   "source": [
    "import matplotlib.dates as mdates\n",
    "from matplotlib.ticker import FuncFormatter, MultipleLocator\n",
    "df = (df_subs_dt[(df_subs_dt.dt.isin([3,45])) & (df_subs_dt.trial_duration==3)]\n",
    "        .groupby(['date','dt'])['profile_id']\n",
    "        .nunique()\n",
    "        .reset_index()\n",
    "        )\n",
    "\n",
    "df['sum'] = df.groupby('date')['profile_id'].transform('sum')\n",
    "df['frac'] = df['profile_id']/df['sum']\n",
    "\n",
    "df_pivot = df.pivot(index='date', columns='dt', values='frac').fillna(0)\n",
    "\n",
    "# Построение столбчатой диаграммы\n",
    "colors = ['#2E8B57', '#98FB98']  # Темно-зеленый и светло-зеленый\n",
    "ax = df_pivot.plot(kind='bar', stacked=True, figsize=(15, 8),color=colors)\n",
    "ax.yaxis.set_major_locator(MultipleLocator(0.1))\n",
    "ax.yaxis.set_major_formatter(FuncFormatter(lambda y, _: f'{int(y * 100)}%'))\n",
    "ax.xaxis.set_major_locator(mdates.WeekdayLocator(interval=1))\n",
    "plt.legend(title='dt', loc='upper right')\n",
    "plt.xticks(rotation=45)  # Поворот меток даты для улучшения читаемости\n",
    "plt.show()"
   ]
  },
  {
   "cell_type": "markdown",
   "id": "e7ab44d8-fb4e-48fa-b9e1-e8f6df973b51",
   "metadata": {},
   "source": [
    "# Watchtime общий "
   ]
  },
  {
   "cell_type": "code",
   "execution_count": null,
   "id": "2e5b4ab8-bf8c-4536-bec4-d0ad35c7e7e0",
   "metadata": {
    "tags": []
   },
   "outputs": [],
   "source": [
    "def watchtime (df,client_type_general=None):\n",
    "        if client_type_general:\n",
    "            result = df.groupby(['date','client_type_general']).agg({'watchtime':'sum','profile_id':'nunique','active_day':'sum','watch_day':'sum'}).reset_index()\n",
    "            result.rename(columns={'profile_id':'cnt_all_user'},inplace=True)\n",
    "            \n",
    "            cnt_watch_user = df[df['watchtime'] != 0].groupby(['date','client_type_general'])['profile_id'].nunique()\n",
    "            result = pd.merge(result,cnt_watch_user,on=['date','client_type_general'],how='left')\n",
    "            result.rename(columns={'profile_id':'cnt_watch_user'},inplace=True)\n",
    "            \n",
    "        else:\n",
    "            result = df.groupby('date').agg({'watchtime':'sum','profile_id':'nunique','active_day':'sum','watch_day':'sum'}).reset_index()\n",
    "            result.rename(columns={'profile_id':'cnt_all_user'},inplace=True)\n",
    "                          \n",
    "            cnt_watch_user = df[df['watchtime'] != 0].groupby(['date'])['profile_id'].nunique()\n",
    "            result = pd.merge(result,cnt_watch_user,on=['date'],how='left')\n",
    "            result.rename(columns={'profile_id':'cnt_watch_user'},inplace=True)\n",
    "        return result"
   ]
  },
  {
   "cell_type": "code",
   "execution_count": null,
   "id": "8223f4f0-44a2-4243-ba6a-d599b8985275",
   "metadata": {
    "tags": []
   },
   "outputs": [],
   "source": [
    "data = watchtime(df)\n",
    "plt.figure(figsize=(20, 8))  # Устанавливаем размер графика\n",
    "plt.plot(data['date'], data['watchtime']/3600, marker='o',markerfacecolor='white',alpha=0.8)  # Добавляем точки на график\n",
    "plt.xlabel('Date')\n",
    "plt.ylabel('Watchtime (hours)')\n",
    "plt.title('Watchtime over 7 days')\n",
    "plt.grid()\n",
    "plt.xticks(rotation=45)  # Поворачиваем подписи оси X для лучшей читаемости\n",
    "plt.show()"
   ]
  },
  {
   "cell_type": "code",
   "execution_count": null,
   "id": "213175e4-2ceb-4962-99a6-a898fb211738",
   "metadata": {
    "tags": []
   },
   "outputs": [],
   "source": [
    "data = watchtime(df,'client_type_general')\n",
    "grouped_data = data.groupby('client_type_general')\n",
    "\n",
    "plt.figure(figsize=(20, 10))  # Устанавливаем размер графика\n",
    "\n",
    "# Перебираем каждую группу и строим график для каждого client_type\n",
    "for client_type, data in grouped_data:\n",
    "    plt.plot(data['date'], data['watchtime']/3600, label=client_type,marker='o',alpha=0.8,markerfacecolor='white')\n",
    "\n",
    "plt.xlabel('Date')\n",
    "plt.ylabel('Watchtime (hours)')\n",
    "plt.title('Watchtime over 7 days')\n",
    "plt.legend()  \n",
    "plt.grid()\n",
    "plt.xticks(rotation=45)  # Поворачиваем подписи оси X для лучшей читаемости\n",
    "plt.show()"
   ]
  },
  {
   "cell_type": "markdown",
   "id": "0325bdae-d000-43a7-aa99-35ee3ce1b998",
   "metadata": {
    "tags": []
   },
   "source": [
    "# Watchtime на пользователя"
   ]
  },
  {
   "cell_type": "code",
   "execution_count": null,
   "id": "8ea5a70a-7660-4cf6-8028-8cc4145a78f6",
   "metadata": {},
   "outputs": [],
   "source": [
    "data = watchtime(df)\n",
    "\n",
    "data['watchtime_per_user'] = data['watchtime']/data['cnt_all_user']\n",
    "\n",
    "plt.figure(figsize=(20, 8))  # Устанавливаем размер графика\n",
    "plt.plot(data['date'], data['watchtime_per_user']/3600, marker='o',markerfacecolor='white',alpha=0.8)  # Добавляем точки на график\n",
    "plt.ylabel('Watchtime per user (hour)')\n",
    "plt.title('Watchtime per user over 7 days')\n",
    "plt.grid()\n",
    "plt.xticks(rotation=45)  # Поворачиваем подписи оси X для лучшей читаемости\n",
    "plt.show()"
   ]
  },
  {
   "cell_type": "code",
   "execution_count": null,
   "id": "d042798f-db2e-4404-948c-2edd7350e8df",
   "metadata": {
    "tags": []
   },
   "outputs": [],
   "source": [
    "data = watchtime(df,'client_type_general')\n",
    "data['watchtime_per_user'] = data['watchtime']/data['cnt_all_user']\n",
    "grouped_data = data.groupby('client_type_general')\n",
    "\n",
    "plt.figure(figsize=(20, 10))  # Устанавливаем ра\"змер графика\n",
    "\n",
    "# Перебираем каждую группу и строим график для каждого client_type\n",
    "for client_type, data in grouped_data:\n",
    "    plt.plot(data['date'], data['watchtime_per_user']/3600, label=client_type,marker='o',alpha=0.8,markerfacecolor='white')\n",
    "\n",
    "plt.ylabel('Watchtime per user (hour)')\n",
    "plt.title('Watchtime per user over 7 days')\n",
    "plt.legend()  \n",
    "plt.grid()\n",
    "plt.xticks(rotation=45)  # Поворачиваем подписи оси X для лучшей читаемости\n",
    "plt.show()"
   ]
  },
  {
   "cell_type": "markdown",
   "id": "900571d5-e2f8-4c78-930d-9ab6998211ca",
   "metadata": {},
   "source": [
    "# Число пользователей "
   ]
  },
  {
   "cell_type": "code",
   "execution_count": null,
   "id": "04ac728c-d3cb-4424-b61d-042a439a2ec1",
   "metadata": {
    "tags": []
   },
   "outputs": [],
   "source": [
    "data = watchtime(df)\n",
    "\n",
    "plt.figure(figsize=(20, 8))  # Устанавливаем размер графика\n",
    "plt.plot(data['date'], data['cnt_all_user'], marker='o',markerfacecolor='white',alpha=0.8)  # Добавляем точки на график\n",
    "plt.xlabel('Date')\n",
    "plt.ylabel('Users')\n",
    "plt.title('Число пользователей')\n",
    "plt.grid()\n",
    "plt.xticks(rotation=45)  # Поворачиваем подписи оси X для лучшей читаемости\n",
    "plt.show()"
   ]
  },
  {
   "cell_type": "code",
   "execution_count": null,
   "id": "ce0b9ef1-1b65-4a1c-b484-7c90e8e84697",
   "metadata": {
    "tags": []
   },
   "outputs": [],
   "source": [
    "data = watchtime(df,'client_type_general')\n",
    "grouped_data = data.groupby('client_type_general')\n",
    "\n",
    "plt.figure(figsize=(20, 10))  # Устанавливаем размер графика\n",
    "\n",
    "# Перебираем каждую группу и строим график для каждого client_type\n",
    "for client_type, data in grouped_data:\n",
    "    plt.plot(data['date'], data['cnt_all_user'], label=client_type,marker='o',alpha=0.8,markerfacecolor='white')\n",
    "\n",
    "plt.ylabel('Users')\n",
    "plt.title('Число пользователей')\n",
    "plt.legend()  \n",
    "plt.grid()\n",
    "plt.xticks(rotation=45)  # Поворачиваем подписи оси X для лучшей читаемости\n",
    "plt.show()"
   ]
  },
  {
   "cell_type": "markdown",
   "id": "4b78228a-bba1-44d3-8c6e-55e83c0fc324",
   "metadata": {},
   "source": [
    "# Число активных дней "
   ]
  },
  {
   "cell_type": "code",
   "execution_count": null,
   "id": "c54c8993-6458-4925-b619-bc6eb53e3719",
   "metadata": {
    "tags": []
   },
   "outputs": [],
   "source": [
    "data = watchtime(df)\n",
    "data['active_day_per_user'] = data['active_day']/data['cnt_all_user']\n",
    "\n",
    "plt.figure(figsize=(20, 8))  # Устанавливаем размер графика\n",
    "plt.plot(data['date'], data['active_day_per_user'], marker='o',markerfacecolor='white',alpha=0.8)  # Добавляем точки на график\n",
    "plt.ylabel('Число дней')\n",
    "plt.title('Число активных дней на пользователя')\n",
    "plt.grid()\n",
    "plt.xticks(rotation=45)  # Поворачиваем подписи оси X для лучшей читаемости\n",
    "plt.show()"
   ]
  },
  {
   "cell_type": "code",
   "execution_count": null,
   "id": "1aa8780b-15ad-46f5-8643-f59a6ed1795f",
   "metadata": {
    "tags": []
   },
   "outputs": [],
   "source": [
    "data = watchtime(df,'client_type_general')\n",
    "grouped_data = data.groupby('client_type_general')\n",
    "data['active_day_per_user'] = data['active_day']/data['cnt_all_user']\n",
    "\n",
    "plt.figure(figsize=(20, 10))  # Устанавливаем размер графика\n",
    "\n",
    "# Перебираем каждую группу и строим график для каждого client_type\n",
    "for client_type, data in grouped_data:\n",
    "    plt.plot(data['date'], data['active_day_per_user'], label=client_type,marker='o',alpha=0.8,markerfacecolor='white')\n",
    "\n",
    "plt.xlabel('Date')\n",
    "plt.ylabel('Число дней')\n",
    "plt.title('Число активных дней на пользователя')\n",
    "plt.legend()  \n",
    "plt.grid()\n",
    "plt.xticks(rotation=45)  # Поворачиваем подписи оси X для лучшей читаемости\n",
    "plt.show()"
   ]
  },
  {
   "cell_type": "markdown",
   "id": "49b2b61e-80fa-40aa-a92d-fd8f34d57ee8",
   "metadata": {
    "tags": []
   },
   "source": [
    "# Конверсия в день просмотр из активного дня "
   ]
  },
  {
   "cell_type": "code",
   "execution_count": null,
   "id": "934a5656-594f-40e8-81f6-cc894acc91c7",
   "metadata": {
    "tags": []
   },
   "outputs": [],
   "source": [
    "import matplotlib.ticker as mticker\n",
    "data = watchtime(df)\n",
    "data['watch_day_%'] = data['watch_day']/data['active_day'] * 100\n",
    "\n",
    "plt.figure(figsize=(20, 8))  # Устанавливаем размер графика\n",
    "plt.plot(data['date'], data['watch_day_%'], marker='o',markerfacecolor='white',alpha=0.8)  # Добавляем точки на график\n",
    "plt.ylabel('%')\n",
    "plt.title('Конверсия из активного дня в дни с просмотром')\n",
    "plt.grid()\n",
    "plt.xticks(rotation=45)  # Поворачиваем подписи оси X для лучшей читаемости\n",
    "plt.gca().yaxis.set_major_formatter(mticker.PercentFormatter())\n",
    "plt.show()"
   ]
  },
  {
   "cell_type": "code",
   "execution_count": null,
   "id": "30fc9250-af30-40f1-b299-3d9f5e9bab61",
   "metadata": {
    "tags": []
   },
   "outputs": [],
   "source": [
    "data = watchtime(df,'client_type_general')\n",
    "data['watch_day_%'] = data['watch_day']/data['active_day'] * 100\n",
    "grouped_data = data.groupby('client_type_general')\n",
    "\n",
    "\n",
    "plt.figure(figsize=(20, 10))  # Устанавливаем размер графика\n",
    "\n",
    "# Перебираем каждую группу и строим график для каждого client_type\n",
    "for client_type, data in grouped_data:\n",
    "    plt.plot(data['date'], data['watch_day_%'], label=client_type,marker='o',alpha=0.8,markerfacecolor='white')\n",
    "\n",
    "plt.xlabel('Date')\n",
    "plt.ylabel('%')\n",
    "plt.title('Конверсия из активного дня в дни с просмотром')\n",
    "plt.legend()  \n",
    "plt.grid()\n",
    "plt.xticks(rotation=45)  # Поворачиваем подписи оси X для лучшей читаемости\n",
    "plt.xticks(rotation=45)  # Поворачиваем подписи оси X для лучшей читаемости\n",
    "plt.gca().yaxis.set_major_formatter(mticker.PercentFormatter())\n",
    "plt.show()"
   ]
  },
  {
   "cell_type": "markdown",
   "id": "75c8c618-844d-401a-aa70-538b1638501f",
   "metadata": {},
   "source": [
    "# Watchtime на смотрящих пользователей"
   ]
  },
  {
   "cell_type": "code",
   "execution_count": null,
   "id": "84d4dde1-3c7e-401e-9573-e21b362d118e",
   "metadata": {
    "tags": []
   },
   "outputs": [],
   "source": [
    "data = watchtime(df)\n",
    "\n",
    "data['watchtime_per_user'] = data['watchtime']/data['cnt_watch_user']\n",
    "\n",
    "plt.figure(figsize=(20, 8))  # Устанавливаем размер графика\n",
    "plt.plot(data['date'], data['watchtime_per_user']/3600, marker='o',markerfacecolor='white',alpha=0.8)  # Добавляем точки на график\n",
    "plt.xlabel('Date')\n",
    "plt.ylabel('Watchtime per user (hour)')\n",
    "plt.title('Watchtime на смотрящего пользователя за 7 дней')\n",
    "plt.grid()\n",
    "plt.xticks(rotation=45)  # Поворачиваем подписи оси X для лучшей читаемости\n",
    "plt.show()"
   ]
  },
  {
   "cell_type": "code",
   "execution_count": null,
   "id": "2ae275bc-a300-42cc-9643-f80f3ac6252b",
   "metadata": {
    "tags": []
   },
   "outputs": [],
   "source": [
    "data = watchtime(df,'client_type_general')\n",
    "data['watchtime_per_user'] = data['watchtime']/data['cnt_watch_user']\n",
    "grouped_data = data.groupby('client_type_general')\n",
    "\n",
    "plt.figure(figsize=(20, 10))  # Устанавливаем размер графика\n",
    "\n",
    "# Перебираем каждую группу и строим график для каждого client_type\n",
    "for client_type, data in grouped_data:\n",
    "    plt.plot(data['date'], data['watchtime_per_user']/3600, label=client_type,marker='o',alpha=0.8,markerfacecolor='white')\n",
    "\n",
    "plt.ylabel('hour')\n",
    "plt.title('Watchtime на смотрящего пользователя за 7 дней')\n",
    "plt.legend()  \n",
    "plt.grid()\n",
    "plt.xticks(rotation=45)  # Поворачиваем подписи оси X для лучшей читаемости\n",
    "plt.show()"
   ]
  },
  {
   "cell_type": "code",
   "execution_count": null,
   "id": "0e7a4782-94d3-47df-940b-3dc054ff001c",
   "metadata": {
    "tags": []
   },
   "outputs": [],
   "source": [
    "plt.figure(figsize=(20, 10))  # Устанавливаем размер графика\n",
    "\n",
    "# Перебираем каждую группу и строим график для каждого client_type\n",
    "for col in df_retention.iloc[:,7:]:\n",
    "        plt.plot(df_retention['reg_date'], df_retention[col]*100, label=col,marker='o',alpha=0.8,markerfacecolor='whi†te')\n",
    "\n",
    "plt.xlabel('Date')\n",
    "plt.ylabel('%')\n",
    "plt.title('Retention')\n",
    "plt.legend()  \n",
    "plt.grid()\n",
    "plt.xticks(rotation=45)  # Поворачиваем подписи оси X для лучшей читаемости\n",
    "plt.gca().yaxis.set_major_formatter(mticker.PercentFormatter())\n",
    "plt.show()"
   ]
  },
  {
   "cell_type": "markdown",
   "id": "424d870b-7349-47a2-be04-85e39070f99e",
   "metadata": {},
   "source": [
    "# Новые пользователи и конверсии в регистрацию/триал/подписку"
   ]
  },
  {
   "cell_type": "code",
   "execution_count": null,
   "id": "ad8ebf55-f582-462e-8db8-5e2b0c604360",
   "metadata": {
    "tags": []
   },
   "outputs": [],
   "source": [
    "df_registration[df_registration.cnt_profile<2].groupby('date')['visitor_id'].nunique().reset_index()"
   ]
  },
  {
   "cell_type": "code",
   "execution_count": null,
   "id": "b410d642-1424-48da-ad70-dc0482b42134",
   "metadata": {
    "tags": []
   },
   "outputs": [],
   "source": [
    "df_registration[(df_registration.reg_date!='1970-01-01') & (df_registration.min_date<=df_registration.reg_date) & (df_registration.cnt_profile<2)].groupby('date_reg')['profile_id'].nunique().reset_index()"
   ]
  },
  {
   "cell_type": "code",
   "execution_count": null,
   "id": "53ebc233-2156-4569-a58e-9ce4e1cbc911",
   "metadata": {
    "tags": []
   },
   "outputs": [],
   "source": [
    "df_registration[(df_registration.created_date!='1970-01-01') & (df_registration.min_date<=df_registration.created_date) & (df_registration.cnt_profile<2)].groupby('date')['profile_id'].nunique().reset_index()"
   ]
  },
  {
   "cell_type": "code",
   "execution_count": null,
   "id": "ef4c7ea7-344a-4374-aea8-a56ea2a1c41d",
   "metadata": {
    "tags": []
   },
   "outputs": [],
   "source": [
    "df_registration[(df_registration.first_prolong_date!='1970-01-01') & (df_registration.reg_date!='1970-01-01') & (df_registration.cnt_profile<2)].groupby(['date_reg','trial_duration'])['profile_id'].nunique().reset_index()"
   ]
  },
  {
   "cell_type": "code",
   "execution_count": null,
   "id": "4864b90c-3bd4-4f45-8327-9077c4f6cbee",
   "metadata": {
    "tags": []
   },
   "outputs": [],
   "source": [
    "df_registration_agg = df_registration.groupby('date')['visitor_id'].nunique().reset_index()\n",
    "\n",
    "t1 = df_registration[(df_registration.reg_date!='1970-01-01') & (df_registration.cnt_profile<2)].groupby('date')['profile_id'].nunique().reset_index()\n",
    "t1 = t1.rename(columns={'profile_id':'registration_cnt'})\n",
    "\n",
    "t2 = df_registration[(df_registration.created_date!='1970-01-01') & (df_registration.cnt_profile<2)].groupby('date')['profile_id'].nunique().reset_index()\n",
    "t2 = t2.rename(columns={'profile_id':'trial_cnt'})\n",
    "\n",
    "\n",
    "t3 = df_registration[(df_registration.first_prolong_date!='1970-01-01') & (df_registration.reg_date!='1970-01-01') & (df_registration.cnt_profile<2) & (df_registration.trial_duration==0)].groupby('date')['profile_id'].nunique().reset_index()\n",
    "t3 = t3.rename(columns={'profile_id':'payd_cnt_0_trial'})\n",
    "\n",
    "t4 = df_registration[(df_registration.first_prolong_date!='1970-01-01') & (df_registration.reg_date!='1970-01-01') & (df_registration.cnt_profile<2) & (df_registration.trial_duration==3)].groupby('date')['profile_id'].nunique().reset_index()\n",
    "t4 = t4.rename(columns={'profile_id':'payd_cnt_3_trial'})\n",
    "\n",
    "t5 = df_registration[(df_registration.first_prolong_date!='1970-01-01') & (df_registration.reg_date!='1970-01-01') & (df_registration.cnt_profile<2) & (df_registration.trial_duration==14)].groupby('date')['profile_id'].nunique().reset_index()\n",
    "t5 = t5.rename(columns={'profile_id':'payd_cnt_14_trial'})\n",
    "\n",
    "t6 = df_registration[(df_registration.first_prolong_date!='1970-01-01') & (df_registration.reg_date!='1970-01-01') & (df_registration.cnt_profile<2) & (df_registration.trial_duration==35)].groupby('date')['profile_id'].nunique().reset_index()\n",
    "t6 = t6.rename(columns={'profile_id':'payd_cnt_35_trial'})\n",
    "\n",
    "# Объединение данных с помощью метода merge\n",
    "df_registration_agg = df_registration_agg.merge(t1, on='date', how='left')\n",
    "df_registration_agg = df_registration_agg.merge(t2, on='date', how='left')\n",
    "df_registration_agg = df_registration_agg.merge(t3, on='date', how='left')\n",
    "df_registration_agg = df_registration_agg.merge(t4, on='date', how='left')\n",
    "df_registration_agg = df_registration_agg.merge(t5, on='date', how='left')\n",
    "df_registration_agg = df_registration_agg.merge(t6, on='date', how='left')\n",
    "\n",
    "\n",
    "df_registration_agg.columns = ['date', 'visitor_id', 'registration_cnt','trial_cnt','payd_cnt_0_trial','payd_cnt_3_trial','payd_cnt_14_trial','payd_cnt_35_trial']"
   ]
  },
  {
   "cell_type": "code",
   "execution_count": null,
   "id": "de22bdd1-e6c8-4bb4-a722-30195d00eb2b",
   "metadata": {
    "tags": []
   },
   "outputs": [],
   "source": [
    "df_registration[(df_registration.first_prolong_date!='1970-01-01')].groupby('trial_duration')['profile_id'].nunique()"
   ]
  },
  {
   "cell_type": "code",
   "execution_count": null,
   "id": "62a73897-272e-49cc-872b-80ed240e9719",
   "metadata": {
    "tags": []
   },
   "outputs": [],
   "source": [
    "df_registration_agg['register_frac'] = df_registration_agg.registration_cnt/df_registration_agg.visitor_id * 100\n",
    "df_registration_agg['trial_frac'] = df_registration_agg.trial_cnt/df_registration_agg.registration_cnt * 100\n",
    "df_registration_agg['payd_0_day_frac'] = df_registration_agg.payd_cnt_0_trial/df_registration_agg.trial_cnt * 100\n",
    "df_registration_agg['payd_3_day_frac'] = df_registration_agg.payd_cnt_3_trial/df_registration_agg.trial_cnt * 100\n",
    "df_registration_agg['payd_14_day_frac'] = df_registration_agg.payd_cnt_14_trial/df_registration_agg.trial_cnt * 100\n",
    "\n"
   ]
  },
  {
   "cell_type": "code",
   "execution_count": null,
   "id": "31555ac1-a342-4477-832b-3ecd44368813",
   "metadata": {
    "tags": []
   },
   "outputs": [],
   "source": [
    "df_registration_agg"
   ]
  },
  {
   "cell_type": "code",
   "execution_count": null,
   "id": "27fb5b11-1f52-46bb-8366-a954ece357bb",
   "metadata": {
    "tags": []
   },
   "outputs": [],
   "source": [
    "import copy\n",
    "fig, axs = plt.subplots(6, figsize=(20, 25))\n",
    "\n",
    "# График 1: visitor_id\n",
    "axs[0].plot(df_registration_agg['date'], df_registration_agg['visitor_id'], color='blue', marker='s', alpha=0.7,markerfacecolor='white')\n",
    "axs[0].set_title('Новые пользователи')\n",
    "axs[0].set_ylabel('Число пользователей')\n",
    "axs[0].tick_params(axis='x', rotation=45)\n",
    "axs[0].grid()\n",
    "\n",
    "# График 2: registration_cnt\n",
    "axs[1].plot(df_registration_agg['date'], df_registration_agg['registration_cnt'], color='green', marker='s', alpha=0.7,markerfacecolor='white')\n",
    "axs[1].set_title('Зарегистрированные')\n",
    "axs[1].set_ylabel('Число пользователей')\n",
    "axs[1].tick_params(axis='x', rotation=45)\n",
    "axs[1].grid()\n",
    "\n",
    "# График 3: trial_cnt\n",
    "axs[2].plot(df_registration_agg['date'], df_registration_agg['trial_cnt'], color='red', marker='s', alpha=0.7,markerfacecolor='white')\n",
    "axs[2].set_title('Триал')\n",
    "axs[2].set_ylabel('Число пользователей')\n",
    "axs[2].tick_params(axis='x', rotation=45)\n",
    "axs[2].grid()\n",
    "\n",
    "# Создайте копию исходного DataFrame\n",
    "df_plot4 = df_registration_agg.copy()\n",
    "\n",
    "\n",
    "# График 4: trial_cnt_3_day\n",
    "axs[3].plot(df_plot4['date'], df_plot4['payd_cnt_0_trial'], color='brown', marker='s', alpha=0.7,markerfacecolor='white')\n",
    "axs[3].set_title('Подписчики c триалом 0 дней')\n",
    "axs[3].set_ylabel('Число пользователей')\n",
    "axs[3].tick_params(axis='x', rotation=45)\n",
    "axs[3].grid()\n",
    "\n",
    "df_plot4 = df_plot4[df_plot4['date'] <= (datetime.now() - timedelta(days=4))]\n",
    "\n",
    "# График 5: trial_cnt_3_day\n",
    "axs[4].plot(df_plot4['date'], df_plot4['payd_cnt_3_trial'], color='brown', marker='s', alpha=0.7,markerfacecolor='white')\n",
    "axs[4].set_title('Подписчики с триалом 3 дня')\n",
    "axs[4].set_ylabel('Число пользователей')\n",
    "axs[4].tick_params(axis='x', rotation=45)\n",
    "axs[4].grid()\n",
    "\n",
    "# Создайте копию исходного DataFrame\n",
    "df_plot5 = df_registration_agg.copy()\n",
    "\n",
    "\n",
    "df_plot5 = df_plot4[df_plot4['date'] <= (datetime.now() - timedelta(days=15))]\n",
    "\n",
    "# График 6: trial_cnttrial_cnt_14_day\n",
    "axs[5].plot(df_plot5['date'], df_plot5['payd_cnt_14_trial'], color='brown', marker='s', alpha=0.7,markerfacecolor='white')\n",
    "axs[5].set_title('Подписчики с триалом 14 дней')\n",
    "axs[5].set_ylabel('Число пользователей')\n",
    "axs[5].tick_params(axis='x', rotation=45)\n",
    "axs[5].grid()\n",
    "\n",
    "\n",
    "# # График 6: trial_cnttrial_cnt_35_day\n",
    "# axs[5].plot(df_registration_agg['min_date'], df_registration_agg['payd_cnt_35_trial'], color='brown', marker='s', alpha=0.7,markerfacecolor='white')\n",
    "# axs[5].set_title('Подписчики')\n",
    "# axs[5].set_ylabel('trial_cnt')\n",
    "# axs[5].tick_params(axis='x', rotation=45)\n",
    "# axs[5].grid()\n",
    "\n",
    "\n",
    "# Увеличение расстояния между графиками\n",
    "plt.subplots_adjust(hspace=0.8)\n",
    "\n",
    "\n",
    "plt.tight_layout()\n",
    "plt.show()"
   ]
  },
  {
   "cell_type": "code",
   "execution_count": null,
   "id": "d10bc14b-c091-47c4-a15e-12da597ab9de",
   "metadata": {
    "tags": []
   },
   "outputs": [],
   "source": [
    "import copy\n",
    "fig, axs = plt.subplots(5, figsize=(20, 25))\n",
    "\n",
    "\n",
    "# График 1: registration_cnt\n",
    "axs[0].plot(df_registration_agg['date'], df_registration_agg['register_frac'], color='green', marker='s', alpha=0.7,markerfacecolor='white')\n",
    "axs[0].set_title('Доля регистраций')\n",
    "axs[0].set_ylabel('%')\n",
    "axs[0].tick_params(axis='x', rotation=45)\n",
    "axs[0].grid()\n",
    "\n",
    "# График 2: trial_cnt\n",
    "axs[1].plot(df_registration_agg['date'], df_registration_agg['trial_frac'], color='red', marker='s', alpha=0.7,markerfacecolor='white')\n",
    "axs[1].set_title('Доля триальщиков')\n",
    "axs[1].set_ylabel('%')\n",
    "axs[1].tick_params(axis='x', rotation=45)\n",
    "axs[1].grid()\n",
    "\n",
    "\n",
    "# График 3: trial_cnttrial_cnt_14_day\n",
    "axs[2].plot(df_plot4['date'], df_plot4['payd_0_day_frac'], color='brown', marker='s', alpha=0.7,markerfacecolor='white')\n",
    "axs[2].set_title('Подписчики с триалом 0 дней')\n",
    "axs[2].set_ylabel('%')\n",
    "axs[2].tick_params(axis='x', rotation=45)\n",
    "axs[2].grid()\n",
    "\n",
    "\n",
    "# График 4: trial_cnttrial_cnt_35_day\n",
    "axs[3].plot(df_plot5['date'], df_plot5['payd_3_day_frac'], color='brown', marker='s', alpha=0.7,markerfacecolor='white')\n",
    "axs[3].set_title('Подписчики с триалом 3 дня')\n",
    "axs[3].set_ylabel('%')\n",
    "axs[3].tick_params(axis='x', rotation=45)\n",
    "axs[3].grid()\n",
    "\n",
    "# График 5: trial_cnttrial_cnt_35_day\n",
    "axs[4].plot(df_plot5['date'], df_plot5['payd_14_day_frac'], color='brown', marker='s', alpha=0.7,markerfacecolor='white')\n",
    "axs[4].set_title('Подписчики c триалом 14 дней')\n",
    "axs[4].set_ylabel('%')\n",
    "axs[4].tick_params(axis='x', rotation=45)\n",
    "axs[4].grid()\n",
    "\n",
    "\n",
    "# Увеличение расстояния между графиками\n",
    "plt.subplots_adjust(hspace=0.8)\n",
    "\n",
    "\n",
    "plt.tight_layout()\n",
    "plt.show()"
   ]
  },
  {
   "cell_type": "code",
   "execution_count": null,
   "id": "3f5c522c-5380-42de-b838-2e3d55ebe45b",
   "metadata": {},
   "outputs": [],
   "source": [
    "query =\"\"\"\n",
    "                SELECT  *\n",
    "                    FROM datamarts.marketing_dash_distr\n",
    "                    WHERE  first_prolong_date between '2024-07-09' and '2024-08-14' \n",
    "                    AND  bonus_title like '%GetBlogger%'\n",
    "                    AND payer = 1 \n",
    "\"\"\"\n",
    "df = execute(query,user='kmekhtiev')\n",
    "\n",
    "df.to_excel('getbloggers_payers_0709_0814.xlsx',index=False)"
   ]
  },
  {
   "cell_type": "code",
   "execution_count": null,
   "id": "7c61da5f-77c5-456b-8688-59c20626f071",
   "metadata": {},
   "outputs": [],
   "source": [
    "query =\"\"\"\n",
    "SELECT \n",
    "user_id, \n",
    "bonus_title, \n",
    "promo, \n",
    "reg_source,\n",
    "reg_campaign, \n",
    "reg_medium,device\n",
    "FROM datamarts.marketing_dash_distr mdd \n",
    "WHERE device='web' AND reg_date>='2024-08-10'\n",
    "\"\"\"\n",
    "df = execute(query,user='kmekhtiev')\n",
    "\n",
    "df.to_excel('Выгрузка_зарегов1508_1208.xlsx',index=False)"
   ]
  },
  {
   "cell_type": "code",
   "execution_count": null,
   "id": "fd27ca91-45f3-4799-8bec-bb828336380b",
   "metadata": {
    "tags": []
   },
   "outputs": [],
   "source": [
    "query = \"\"\"\n",
    "                    SELECT  *\n",
    "                    FROM datamarts.marketing_dash_distr\n",
    "                    WHERE  first_prolong_date between '2024-08-01' and '2024-08-15' \n",
    "                    --AND  bonus_title like '%GetBlogger%'\n",
    "                    AND payer = 1 \n",
    "                \"\"\"\n",
    "\n",
    "df = execute(query,user='kmekhtiev')\n",
    "df.to_excel('first_pay_0108_1508.xlsx',index=False)"
   ]
  },
  {
   "cell_type": "code",
   "execution_count": null,
   "id": "82e1bc51-2851-4bfc-af35-9acecee148cc",
   "metadata": {},
   "outputs": [],
   "source": []
  }
 ],
 "metadata": {
  "kernelspec": {
   "display_name": "Python 3 (ipykernel)",
   "language": "python",
   "name": "python3"
  },
  "language_info": {
   "codemirror_mode": {
    "name": "ipython",
    "version": 3
   },
   "file_extension": ".py",
   "mimetype": "text/x-python",
   "name": "python",
   "nbconvert_exporter": "python",
   "pygments_lexer": "ipython3",
   "version": "3.11.7"
  },
  "toc-autonumbering": false
 },
 "nbformat": 4,
 "nbformat_minor": 5
}
