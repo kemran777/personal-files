{
 "cells": [
  {
   "cell_type": "code",
   "execution_count": 1,
   "id": "9366db98-f729-423d-945e-9753590989be",
   "metadata": {
    "tags": []
   },
   "outputs": [
    {
     "name": "stderr",
     "output_type": "stream",
     "text": [
      "2024-06-14 20:59:42,035 [INFO] Base - Initialised: AppStore('us', 'x', 333903271)\n",
      "2024-06-14 20:59:42,036 [INFO] Base - Ready to fetch reviews from: https://apps.apple.com/us/app/x/id333903271\n",
      "2024-06-14 20:59:47,399 [INFO] Base - [id:333903271] Fetched 189 reviews (189 fetched in total)\n",
      "2024-06-14 20:59:53,057 [INFO] Base - [id:333903271] Fetched 321 reviews (321 fetched in total)\n",
      "2024-06-14 20:59:58,781 [INFO] Base - [id:333903271] Fetched 442 reviews (442 fetched in total)\n",
      "2024-06-14 21:00:04,661 [INFO] Base - [id:333903271] Fetched 559 reviews (559 fetched in total)\n",
      "2024-06-14 21:00:10,504 [INFO] Base - [id:333903271] Fetched 688 reviews (688 fetched in total)\n",
      "2024-06-14 21:00:16,166 [INFO] Base - [id:333903271] Fetched 814 reviews (814 fetched in total)\n",
      "2024-06-14 21:00:22,040 [INFO] Base - [id:333903271] Fetched 943 reviews (943 fetched in total)\n",
      "2024-06-14 21:00:27,896 [INFO] Base - [id:333903271] Fetched 1088 reviews (1088 fetched in total)\n",
      "2024-06-14 21:00:33,899 [INFO] Base - [id:333903271] Fetched 1202 reviews (1202 fetched in total)\n",
      "2024-06-14 21:00:53,413 [ERROR] Base - Something went wrong: HTTPSConnectionPool(host='amp-api.apps.apple.com', port=443): Max retries exceeded with url: /v1/catalog/us/apps/333903271/reviews?l=en-GB&offset=2000&limit=20&platform=web&additionalPlatforms=appletv%2Cipad%2Ciphone%2Cmac (Caused by ResponseError('too many 429 error responses'))\n",
      "2024-06-14 21:00:53,418 [INFO] Base - [id:333903271] Fetched 1218 reviews (1218 fetched in total)\n"
     ]
    }
   ],
   "source": [
    "from app_store_scraper.app_store import AppStore\n",
    "import pandas as pd\n",
    "from datetime import datetime\n",
    "x_twitter_app_id = 333903271\n",
    "review_fetcher = AppStore(country='us', app_name=\"X\", app_id=x_twitter_app_id)\n",
    "review_fetcher.review(after=datetime(2022, 1, 1), how_many=50000, sleep=0.1)\n",
    "pd.DataFrame.from_records(review_fetcher.reviews).to_csv(\" \n",
    "                                                         \", index=False)"
   ]
  },
  {
   "cell_type": "code",
   "execution_count": null,
   "id": "e42845aa-cdab-41ed-9cf1-16ad747213ef",
   "metadata": {
    "tags": []
   },
   "outputs": [],
   "source": [
    "pip install app_store_scraper"
   ]
  },
  {
   "cell_type": "code",
   "execution_count": null,
   "id": "6bef8cdc-7cbd-4617-9d30-be22d38158e2",
   "metadata": {},
   "outputs": [],
   "source": []
  }
 ],
 "metadata": {
  "kernelspec": {
   "display_name": "Python 3 (ipykernel)",
   "language": "python",
   "name": "python3"
  },
  "language_info": {
   "codemirror_mode": {
    "name": "ipython",
    "version": 3
   },
   "file_extension": ".py",
   "mimetype": "text/x-python",
   "name": "python",
   "nbconvert_exporter": "python",
   "pygments_lexer": "ipython3",
   "version": "3.11.7"
  }
 },
 "nbformat": 4,
 "nbformat_minor": 5
}
