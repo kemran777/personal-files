{
 "cells": [
  {
   "cell_type": "code",
   "execution_count": 2,
   "id": "34c8daa9-773f-4f97-82fa-e0af5ce428cb",
   "metadata": {
    "tags": []
   },
   "outputs": [],
   "source": [
    "import pandas as pd\n",
    "import psycopg2\n",
    "import matplotlib.pyplot as plt\n",
    "import matplotlib.ticker as ticker\n",
    "import numpy as np\n",
    "import seaborn as sns \n",
    "import statsmodels.stats.proportion as proportion\n",
    "from scipy.stats import ttest_ind,mannwhitneyu,shapiro,norm\n",
    "from statsmodels.stats.weightstats import ztest\n",
    "from tqdm import tqdm\n",
    "import timeit\n",
    "from scipy import stats\n",
    "import math\n",
    "from datetime import date, datetime, timedelta\n",
    "import time\n",
    "from sqlalchemy import create_engine, text\n",
    "from sqlalchemy.orm import sessionmaker\n",
    "import warnings\n",
    "warnings.filterwarnings(\"ignore\")\n",
    "\n",
    "from credential import postgres_secret,clickhouse_dwh_secret\n",
    "\n",
    "def get_engine(user):\n",
    "    if user == postgres_secret['user']:\n",
    "        db_name = postgres_secret['db_name']\n",
    "        password = postgres_secret['password']\n",
    "        host = postgres_secret['host']\n",
    "        engine = create_engine(f'postgresql://{user}:{password}@{host}:6432/{db_name}')\n",
    "    elif user == clickhouse_dwh_secret['user']:\n",
    "            db_name = clickhouse_dwh_secret['db_name'] \n",
    "            password = clickhouse_dwh_secret['password']\n",
    "            host = clickhouse_dwh_secret['host']\n",
    "            engine = create_engine(f'clickhouse://{user}:{password}@{host}:8123/{db_name}')\n",
    "    return engine\n",
    "    \n",
    "\n",
    "    \n",
    "def execute(SQL, user):\n",
    "    start_time = time.time()  # запоминаем время начала выполнения функции\n",
    "    engine = get_engine(user)\n",
    "    Session = sessionmaker(bind=engine)  # sessions factory ()\n",
    "    with Session() as session: # open session\n",
    "        result = session.execute(text(SQL))\n",
    "        df = pd.DataFrame(result.fetchall(), columns=result.keys())\n",
    "        \n",
    "    end_time = time.time()  # запоминаем время окончания выполнения функции\n",
    "    execution_time = round(end_time - start_time,4) # вычисляем время выполнения   \n",
    "    \n",
    "    print(f\"Время выполнения функции: {execution_time} секунд\")\n",
    "    print()\n",
    "    return df"
   ]
  },
  {
   "cell_type": "code",
   "execution_count": 11,
   "id": "06aca3c5-268e-4a2e-89e4-2b75dab21cb0",
   "metadata": {
    "tags": []
   },
   "outputs": [
    {
     "name": "stdout",
     "output_type": "stream",
     "text": [
      "Время выполнения функции: 208.3685 секунд\n",
      "\n"
     ]
    }
   ],
   "source": [
    "query = '''\n",
    "                SELECT \n",
    "                                   date,\n",
    "                                   t1.profile_id AS profile_id,\n",
    "                                   CASE WHEN client_type='android_tv' THEN 'android_tv'\n",
    "                                   WHEN client_type='web_mobile' THEN 'web_mobile'\n",
    "                                   WHEN client_type='web_desktop' THEN 'web_desktop'\n",
    "                                   WHEN client_type='Smart TV' THEN 'smart_tv'\n",
    "                                   ELSE lower(client_type)\n",
    "                                   END AS client_type_general,\n",
    "                                   event_name,\n",
    "                                   event_page,\n",
    "                                   session_id,\n",
    "                                   u.email,\n",
    "                                   reg_date,\n",
    "                                   t2.trial_start AS trial_start,\n",
    "                                   t2.trial_end AS trial_end,\n",
    "                                   t2.first_prolong_date::date AS first_prolong_date,\n",
    "                                   t2.ends_at AS ends_at,\n",
    "                                   t2.free_days AS free_days,\n",
    "                                   CASE WHEN first_prolong_date!='1970-01-01' AND date>=first_prolong_date AND ends_at>=date THEN 'subs'\n",
    "                                        WHEN date>=trial_start AND ends_at>=date (first_prolong_date='1970-01-01' OR first_prolong_date>date) THEN 'trial'\n",
    "                                        WHEN date>=reg_date AND (trial_start='1970-01-01' OR trial_start>date) THEN 'reg'\n",
    "                                   END AS user_type,\n",
    "                                   JSONExtractInt(payload,'duration') AS duration,\n",
    "                                   JSONExtractString(payload,'item_type') AS item_type,\n",
    "                                   JSONExtractString(payload,'item_title') AS item_title,\n",
    "                                   CASE WHEN event_page<>'tvchannel'\n",
    "                                        AND JSONExtractInt(payload,'viewing_time')<= JSONExtractInt(payload,'duration') \n",
    "                                   THEN JSONExtractInt(payload,'viewing_time')\n",
    "                                   WHEN event_page='tvchannel' \n",
    "                                        AND JSONExtractInt(payload,'viewing_time') <18000 \n",
    "                                   THEN JSONExtractInt(payload,'viewing_time')\n",
    "                                   END AS viewing_time,\n",
    "                                   count(DISTINCT item_title) OVER (PARTITION BY date,profile_id) AS viewing_cnt,\n",
    "                                   sum(viewing_time) OVER (PARTITION BY date,profile_id,item_title) AS viewing_time_per_item\n",
    "                                   FROM (SELECT date,profile_id,user_id,client_type,event_name,event_page,payload,app_version,session_id\n",
    "                                         FROM datamarts.sandbox_data_distr \n",
    "                                         WHERE date>='2024-06-01'\n",
    "                                         AND event_name IN ('auto_player_streaming','auto_kinom_streaming')\n",
    "                                         AND reg_date!='1970-01-01'\n",
    "                                         )AS t1\n",
    "                                   LEFT JOIN product_x.users AS u ON t1.user_id=u.id\n",
    "                                   LEFT JOIN (SELECT\n",
    "                                             profile_id,\n",
    "                                             reg_date,\n",
    "                                             created_at::date AS trial_start,\n",
    "                                             trial_start + free_days AS trial_end,\n",
    "                                             first_prolong_date,\n",
    "                                             ends_at,\n",
    "                                             free_days\n",
    "                                             FROM datamarts.marketing_dash_distr AS t1\n",
    "                                             WHERE reg_date!='1970-01-01'\n",
    "                                             ) AS t2\n",
    "                                   ON t1.profile_id=t2.profile_id\n",
    "                                   WHERE (u.email NOT LIKE '%@test%' OR u.email IS NULL)\n",
    "                                   AND viewing_time IS NOT NULL   \n",
    "                                 \n",
    "                             \n",
    "                             '''\n",
    "\n",
    "df = execute(query,user='kmekhtiev')"
   ]
  },
  {
   "cell_type": "code",
   "execution_count": 17,
   "id": "9dd00df8-7757-4ca0-83e5-47a9fb758031",
   "metadata": {
    "tags": []
   },
   "outputs": [
    {
     "data": {
      "text/html": [
       "<div>\n",
       "<style scoped>\n",
       "    .dataframe tbody tr th:only-of-type {\n",
       "        vertical-align: middle;\n",
       "    }\n",
       "\n",
       "    .dataframe tbody tr th {\n",
       "        vertical-align: top;\n",
       "    }\n",
       "\n",
       "    .dataframe thead th {\n",
       "        text-align: right;\n",
       "    }\n",
       "</style>\n",
       "<table border=\"1\" class=\"dataframe\">\n",
       "  <thead>\n",
       "    <tr style=\"text-align: right;\">\n",
       "      <th></th>\n",
       "      <th>date</th>\n",
       "      <th>profile_id</th>\n",
       "      <th>client_type_general</th>\n",
       "      <th>event_name</th>\n",
       "      <th>event_page</th>\n",
       "      <th>session_id</th>\n",
       "      <th>u.email</th>\n",
       "      <th>reg_date</th>\n",
       "      <th>trial_start</th>\n",
       "      <th>trial_end</th>\n",
       "      <th>first_prolong_date</th>\n",
       "      <th>ends_at</th>\n",
       "      <th>free_days</th>\n",
       "      <th>user_type</th>\n",
       "      <th>duration</th>\n",
       "      <th>item_type</th>\n",
       "      <th>item_title</th>\n",
       "      <th>viewing_time</th>\n",
       "      <th>viewing_cnt</th>\n",
       "      <th>viewing_time_per_item</th>\n",
       "    </tr>\n",
       "  </thead>\n",
       "  <tbody>\n",
       "    <tr>\n",
       "      <th>0</th>\n",
       "      <td>2024-06-01</td>\n",
       "      <td>13ec494f-e809-4f4b-8001-49014f8fcabb</td>\n",
       "      <td>web_mobile</td>\n",
       "      <td>auto_kinom_streaming</td>\n",
       "      <td>main</td>\n",
       "      <td>f14dd168-e469-4d54-928c-5baf464d3b95</td>\n",
       "      <td>None</td>\n",
       "      <td>2024-06-01</td>\n",
       "      <td>1970-01-01</td>\n",
       "      <td>1970-01-01</td>\n",
       "      <td>1970-01-01</td>\n",
       "      <td>1970-01-01</td>\n",
       "      <td>0</td>\n",
       "      <td>reg</td>\n",
       "      <td>19</td>\n",
       "      <td></td>\n",
       "      <td>viju дайджест</td>\n",
       "      <td>1</td>\n",
       "      <td>1</td>\n",
       "      <td>1</td>\n",
       "    </tr>\n",
       "    <tr>\n",
       "      <th>1</th>\n",
       "      <td>2024-06-01</td>\n",
       "      <td>3eeeb914-79ca-4e52-8006-98de7751a179</td>\n",
       "      <td>web_mobile</td>\n",
       "      <td>auto_kinom_streaming</td>\n",
       "      <td>main</td>\n",
       "      <td>4e804b14-6a5a-4900-a596-36d1eef35b29</td>\n",
       "      <td>annamaru1@yandex.ru</td>\n",
       "      <td>2024-06-01</td>\n",
       "      <td>2024-06-01</td>\n",
       "      <td>2024-07-06</td>\n",
       "      <td>1970-01-01</td>\n",
       "      <td>2024-07-06</td>\n",
       "      <td>35</td>\n",
       "      <td>trial</td>\n",
       "      <td>90</td>\n",
       "      <td></td>\n",
       "      <td>Рони, дочь разбойника</td>\n",
       "      <td>2</td>\n",
       "      <td>1</td>\n",
       "      <td>2</td>\n",
       "    </tr>\n",
       "    <tr>\n",
       "      <th>2</th>\n",
       "      <td>2024-06-01</td>\n",
       "      <td>29909ef8-82c4-460a-801c-fab0ae1ff6fe</td>\n",
       "      <td>android</td>\n",
       "      <td>auto_kinom_streaming</td>\n",
       "      <td>kinom</td>\n",
       "      <td>805537b6-1b07-426a-8d37-398d15450b38</td>\n",
       "      <td>None</td>\n",
       "      <td>2024-05-26</td>\n",
       "      <td>1970-01-01</td>\n",
       "      <td>1970-01-01</td>\n",
       "      <td>1970-01-01</td>\n",
       "      <td>1970-01-01</td>\n",
       "      <td>0</td>\n",
       "      <td>reg</td>\n",
       "      <td>70</td>\n",
       "      <td></td>\n",
       "      <td>Гнев во спасение</td>\n",
       "      <td>62</td>\n",
       "      <td>6</td>\n",
       "      <td>62</td>\n",
       "    </tr>\n",
       "    <tr>\n",
       "      <th>3</th>\n",
       "      <td>2024-06-01</td>\n",
       "      <td>29909ef8-82c4-460a-801c-fab0ae1ff6fe</td>\n",
       "      <td>android</td>\n",
       "      <td>auto_kinom_streaming</td>\n",
       "      <td>kinom</td>\n",
       "      <td>805537b6-1b07-426a-8d37-398d15450b38</td>\n",
       "      <td>None</td>\n",
       "      <td>2024-05-26</td>\n",
       "      <td>1970-01-01</td>\n",
       "      <td>1970-01-01</td>\n",
       "      <td>1970-01-01</td>\n",
       "      <td>1970-01-01</td>\n",
       "      <td>0</td>\n",
       "      <td>reg</td>\n",
       "      <td>60</td>\n",
       "      <td></td>\n",
       "      <td>Костолом</td>\n",
       "      <td>52</td>\n",
       "      <td>6</td>\n",
       "      <td>52</td>\n",
       "    </tr>\n",
       "    <tr>\n",
       "      <th>4</th>\n",
       "      <td>2024-06-01</td>\n",
       "      <td>29909ef8-82c4-460a-801c-fab0ae1ff6fe</td>\n",
       "      <td>android</td>\n",
       "      <td>auto_kinom_streaming</td>\n",
       "      <td>kinom</td>\n",
       "      <td>805537b6-1b07-426a-8d37-398d15450b38</td>\n",
       "      <td>None</td>\n",
       "      <td>2024-05-26</td>\n",
       "      <td>1970-01-01</td>\n",
       "      <td>1970-01-01</td>\n",
       "      <td>1970-01-01</td>\n",
       "      <td>1970-01-01</td>\n",
       "      <td>0</td>\n",
       "      <td>reg</td>\n",
       "      <td>90</td>\n",
       "      <td></td>\n",
       "      <td>Лавстори</td>\n",
       "      <td>77</td>\n",
       "      <td>6</td>\n",
       "      <td>77</td>\n",
       "    </tr>\n",
       "    <tr>\n",
       "      <th>...</th>\n",
       "      <td>...</td>\n",
       "      <td>...</td>\n",
       "      <td>...</td>\n",
       "      <td>...</td>\n",
       "      <td>...</td>\n",
       "      <td>...</td>\n",
       "      <td>...</td>\n",
       "      <td>...</td>\n",
       "      <td>...</td>\n",
       "      <td>...</td>\n",
       "      <td>...</td>\n",
       "      <td>...</td>\n",
       "      <td>...</td>\n",
       "      <td>...</td>\n",
       "      <td>...</td>\n",
       "      <td>...</td>\n",
       "      <td>...</td>\n",
       "      <td>...</td>\n",
       "      <td>...</td>\n",
       "      <td>...</td>\n",
       "    </tr>\n",
       "    <tr>\n",
       "      <th>1547641</th>\n",
       "      <td>2024-09-12</td>\n",
       "      <td>1c41f15b-e02e-4ec1-be79-ed1b9a299f5d</td>\n",
       "      <td>android</td>\n",
       "      <td>auto_player_streaming</td>\n",
       "      <td>movie</td>\n",
       "      <td>97acb60b-ff56-43b1-8ea3-342d35948ecb</td>\n",
       "      <td>None</td>\n",
       "      <td>2024-09-10</td>\n",
       "      <td>2024-09-10</td>\n",
       "      <td>2024-09-24</td>\n",
       "      <td>1970-01-01</td>\n",
       "      <td>2024-09-24</td>\n",
       "      <td>14</td>\n",
       "      <td>trial</td>\n",
       "      <td>6008</td>\n",
       "      <td>movie</td>\n",
       "      <td>Скиф</td>\n",
       "      <td>4</td>\n",
       "      <td>6</td>\n",
       "      <td>6040</td>\n",
       "    </tr>\n",
       "    <tr>\n",
       "      <th>1547642</th>\n",
       "      <td>2024-09-12</td>\n",
       "      <td>1c41f15b-e02e-4ec1-be79-ed1b9a299f5d</td>\n",
       "      <td>android</td>\n",
       "      <td>auto_player_streaming</td>\n",
       "      <td>movie</td>\n",
       "      <td>97acb60b-ff56-43b1-8ea3-342d35948ecb</td>\n",
       "      <td>None</td>\n",
       "      <td>2024-09-10</td>\n",
       "      <td>2024-09-10</td>\n",
       "      <td>2024-09-24</td>\n",
       "      <td>1970-01-01</td>\n",
       "      <td>2024-09-24</td>\n",
       "      <td>14</td>\n",
       "      <td>trial</td>\n",
       "      <td>6008</td>\n",
       "      <td>movie</td>\n",
       "      <td>Скиф</td>\n",
       "      <td>6</td>\n",
       "      <td>6</td>\n",
       "      <td>6040</td>\n",
       "    </tr>\n",
       "    <tr>\n",
       "      <th>1547643</th>\n",
       "      <td>2024-09-12</td>\n",
       "      <td>1c41f15b-e02e-4ec1-be79-ed1b9a299f5d</td>\n",
       "      <td>android</td>\n",
       "      <td>auto_player_streaming</td>\n",
       "      <td>movie</td>\n",
       "      <td>97acb60b-ff56-43b1-8ea3-342d35948ecb</td>\n",
       "      <td>None</td>\n",
       "      <td>2024-09-10</td>\n",
       "      <td>2024-09-10</td>\n",
       "      <td>2024-09-24</td>\n",
       "      <td>1970-01-01</td>\n",
       "      <td>2024-09-24</td>\n",
       "      <td>14</td>\n",
       "      <td>trial</td>\n",
       "      <td>6008</td>\n",
       "      <td>movie</td>\n",
       "      <td>Скиф</td>\n",
       "      <td>2</td>\n",
       "      <td>6</td>\n",
       "      <td>6040</td>\n",
       "    </tr>\n",
       "    <tr>\n",
       "      <th>1547644</th>\n",
       "      <td>2024-09-12</td>\n",
       "      <td>1c41f15b-e02e-4ec1-be79-ed1b9a299f5d</td>\n",
       "      <td>android</td>\n",
       "      <td>auto_player_streaming</td>\n",
       "      <td>movie</td>\n",
       "      <td>97acb60b-ff56-43b1-8ea3-342d35948ecb</td>\n",
       "      <td>None</td>\n",
       "      <td>2024-09-10</td>\n",
       "      <td>2024-09-10</td>\n",
       "      <td>2024-09-24</td>\n",
       "      <td>1970-01-01</td>\n",
       "      <td>2024-09-24</td>\n",
       "      <td>14</td>\n",
       "      <td>trial</td>\n",
       "      <td>6008</td>\n",
       "      <td>movie</td>\n",
       "      <td>Скиф</td>\n",
       "      <td>2</td>\n",
       "      <td>6</td>\n",
       "      <td>6040</td>\n",
       "    </tr>\n",
       "    <tr>\n",
       "      <th>1547645</th>\n",
       "      <td>2024-09-12</td>\n",
       "      <td>1c41f15b-e02e-4ec1-be79-ed1b9a299f5d</td>\n",
       "      <td>android</td>\n",
       "      <td>auto_player_streaming</td>\n",
       "      <td>movie</td>\n",
       "      <td>97acb60b-ff56-43b1-8ea3-342d35948ecb</td>\n",
       "      <td>None</td>\n",
       "      <td>2024-09-10</td>\n",
       "      <td>2024-09-10</td>\n",
       "      <td>2024-09-24</td>\n",
       "      <td>1970-01-01</td>\n",
       "      <td>2024-09-24</td>\n",
       "      <td>14</td>\n",
       "      <td>trial</td>\n",
       "      <td>4292</td>\n",
       "      <td>movie</td>\n",
       "      <td>Три богатыря: Ход конем</td>\n",
       "      <td>15</td>\n",
       "      <td>6</td>\n",
       "      <td>15</td>\n",
       "    </tr>\n",
       "  </tbody>\n",
       "</table>\n",
       "<p>1547646 rows × 20 columns</p>\n",
       "</div>"
      ],
      "text/plain": [
       "               date                            profile_id client_type_general  \\\n",
       "0        2024-06-01  13ec494f-e809-4f4b-8001-49014f8fcabb          web_mobile   \n",
       "1        2024-06-01  3eeeb914-79ca-4e52-8006-98de7751a179          web_mobile   \n",
       "2        2024-06-01  29909ef8-82c4-460a-801c-fab0ae1ff6fe             android   \n",
       "3        2024-06-01  29909ef8-82c4-460a-801c-fab0ae1ff6fe             android   \n",
       "4        2024-06-01  29909ef8-82c4-460a-801c-fab0ae1ff6fe             android   \n",
       "...             ...                                   ...                 ...   \n",
       "1547641  2024-09-12  1c41f15b-e02e-4ec1-be79-ed1b9a299f5d             android   \n",
       "1547642  2024-09-12  1c41f15b-e02e-4ec1-be79-ed1b9a299f5d             android   \n",
       "1547643  2024-09-12  1c41f15b-e02e-4ec1-be79-ed1b9a299f5d             android   \n",
       "1547644  2024-09-12  1c41f15b-e02e-4ec1-be79-ed1b9a299f5d             android   \n",
       "1547645  2024-09-12  1c41f15b-e02e-4ec1-be79-ed1b9a299f5d             android   \n",
       "\n",
       "                    event_name event_page  \\\n",
       "0         auto_kinom_streaming       main   \n",
       "1         auto_kinom_streaming       main   \n",
       "2         auto_kinom_streaming      kinom   \n",
       "3         auto_kinom_streaming      kinom   \n",
       "4         auto_kinom_streaming      kinom   \n",
       "...                        ...        ...   \n",
       "1547641  auto_player_streaming      movie   \n",
       "1547642  auto_player_streaming      movie   \n",
       "1547643  auto_player_streaming      movie   \n",
       "1547644  auto_player_streaming      movie   \n",
       "1547645  auto_player_streaming      movie   \n",
       "\n",
       "                                   session_id              u.email  \\\n",
       "0        f14dd168-e469-4d54-928c-5baf464d3b95                 None   \n",
       "1        4e804b14-6a5a-4900-a596-36d1eef35b29  annamaru1@yandex.ru   \n",
       "2        805537b6-1b07-426a-8d37-398d15450b38                 None   \n",
       "3        805537b6-1b07-426a-8d37-398d15450b38                 None   \n",
       "4        805537b6-1b07-426a-8d37-398d15450b38                 None   \n",
       "...                                       ...                  ...   \n",
       "1547641  97acb60b-ff56-43b1-8ea3-342d35948ecb                 None   \n",
       "1547642  97acb60b-ff56-43b1-8ea3-342d35948ecb                 None   \n",
       "1547643  97acb60b-ff56-43b1-8ea3-342d35948ecb                 None   \n",
       "1547644  97acb60b-ff56-43b1-8ea3-342d35948ecb                 None   \n",
       "1547645  97acb60b-ff56-43b1-8ea3-342d35948ecb                 None   \n",
       "\n",
       "           reg_date trial_start   trial_end first_prolong_date     ends_at  \\\n",
       "0        2024-06-01  1970-01-01  1970-01-01         1970-01-01  1970-01-01   \n",
       "1        2024-06-01  2024-06-01  2024-07-06         1970-01-01  2024-07-06   \n",
       "2        2024-05-26  1970-01-01  1970-01-01         1970-01-01  1970-01-01   \n",
       "3        2024-05-26  1970-01-01  1970-01-01         1970-01-01  1970-01-01   \n",
       "4        2024-05-26  1970-01-01  1970-01-01         1970-01-01  1970-01-01   \n",
       "...             ...         ...         ...                ...         ...   \n",
       "1547641  2024-09-10  2024-09-10  2024-09-24         1970-01-01  2024-09-24   \n",
       "1547642  2024-09-10  2024-09-10  2024-09-24         1970-01-01  2024-09-24   \n",
       "1547643  2024-09-10  2024-09-10  2024-09-24         1970-01-01  2024-09-24   \n",
       "1547644  2024-09-10  2024-09-10  2024-09-24         1970-01-01  2024-09-24   \n",
       "1547645  2024-09-10  2024-09-10  2024-09-24         1970-01-01  2024-09-24   \n",
       "\n",
       "         free_days user_type  duration item_type               item_title  \\\n",
       "0                0       reg        19                      viju дайджест   \n",
       "1               35     trial        90              Рони, дочь разбойника   \n",
       "2                0       reg        70                   Гнев во спасение   \n",
       "3                0       reg        60                           Костолом   \n",
       "4                0       reg        90                           Лавстори   \n",
       "...            ...       ...       ...       ...                      ...   \n",
       "1547641         14     trial      6008     movie                     Скиф   \n",
       "1547642         14     trial      6008     movie                     Скиф   \n",
       "1547643         14     trial      6008     movie                     Скиф   \n",
       "1547644         14     trial      6008     movie                     Скиф   \n",
       "1547645         14     trial      4292     movie  Три богатыря: Ход конем   \n",
       "\n",
       "         viewing_time  viewing_cnt  viewing_time_per_item  \n",
       "0                   1            1                      1  \n",
       "1                   2            1                      2  \n",
       "2                  62            6                     62  \n",
       "3                  52            6                     52  \n",
       "4                  77            6                     77  \n",
       "...               ...          ...                    ...  \n",
       "1547641             4            6                   6040  \n",
       "1547642             6            6                   6040  \n",
       "1547643             2            6                   6040  \n",
       "1547644             2            6                   6040  \n",
       "1547645            15            6                     15  \n",
       "\n",
       "[1547646 rows x 20 columns]"
      ]
     },
     "execution_count": 17,
     "metadata": {},
     "output_type": "execute_result"
    }
   ],
   "source": [
    "df"
   ]
  },
  {
   "cell_type": "code",
   "execution_count": 24,
   "id": "bd67a69c-1a43-4d08-8e5d-8cacc1267965",
   "metadata": {
    "tags": []
   },
   "outputs": [
    {
     "data": {
      "text/plain": [
       "item_type\n",
       "                                                     736463\n",
       "series                                               508621\n",
       "movie                                                193825\n",
       "tvchannel                                            108462\n",
       "tv_channel                                               25\n",
       "                                                      ...  \n",
       "Проклятые сокровища                                       1\n",
       "Атлантида                                                 1\n",
       "Морские глубины: Чудеса Кораллового треугольника          1\n",
       "Необъяснимая Земля                                        1\n",
       "Кин                                                       1\n",
       "Name: count, Length: 181, dtype: int64"
      ]
     },
     "execution_count": 24,
     "metadata": {},
     "output_type": "execute_result"
    }
   ],
   "source": [
    "df['item_type'].value_counts()"
   ]
  },
  {
   "cell_type": "code",
   "execution_count": null,
   "id": "89399e2c-6b47-4cdb-9c53-37ac76aac398",
   "metadata": {},
   "outputs": [],
   "source": [
    " CASE WHEN item_type LIKE '' THEN 'kinom'\n",
    "                                 WHEN item_type IN ('series','movie','tvchannel') THEN item_type\n",
    "                                 ELSE 'other'\n",
    "                            END AS item_type,"
   ]
  },
  {
   "cell_type": "code",
   "execution_count": 45,
   "id": "f6cc53d7-de2e-42f4-8546-adc1c7b62ec6",
   "metadata": {
    "tags": []
   },
   "outputs": [],
   "source": [
    "def item(str):\n",
    "    if str=='series':\n",
    "        return 'series'\n",
    "    elif str=='movie':\n",
    "        return 'movie'\n",
    "    elif str=='tvchannel':\n",
    "        return 'tvchannel'\n",
    "    elif str=='':\n",
    "        return 'kinom'\n",
    "    else:\n",
    "        return 'other'\n",
    "        "
   ]
  },
  {
   "cell_type": "code",
   "execution_count": 55,
   "id": "ad17626b-1912-493c-b540-d046b740b0a3",
   "metadata": {
    "tags": []
   },
   "outputs": [],
   "source": [
    "df['item_type2'] = df['item_type'].apply(item)"
   ]
  },
  {
   "cell_type": "code",
   "execution_count": 57,
   "id": "7ca96429-3ff3-4f9c-babf-bebaf274e283",
   "metadata": {
    "tags": []
   },
   "outputs": [
    {
     "data": {
      "text/plain": [
       "item_type2\n",
       "kinom        736463\n",
       "series       508621\n",
       "movie        193825\n",
       "tvchannel    108462\n",
       "other           275\n",
       "Name: count, dtype: int64"
      ]
     },
     "execution_count": 57,
     "metadata": {},
     "output_type": "execute_result"
    }
   ],
   "source": [
    "df.item_type2.value_counts()"
   ]
  },
  {
   "cell_type": "code",
   "execution_count": 63,
   "id": "94e9b631-d4ca-49b9-9bbc-8af2d8e3845d",
   "metadata": {
    "tags": []
   },
   "outputs": [
    {
     "data": {
      "text/plain": [
       "item_type2\n",
       "kinom         0\n",
       "movie         0\n",
       "other         0\n",
       "series       42\n",
       "tvchannel     0\n",
       "Name: duration, dtype: int64"
      ]
     },
     "execution_count": 63,
     "metadata": {},
     "output_type": "execute_result"
    }
   ],
   "source": [
    "df.groupby('item_type2')['duration'].min()"
   ]
  },
  {
   "cell_type": "code",
   "execution_count": 99,
   "id": "bb844118-4063-404b-8a92-1bad80f2fa82",
   "metadata": {
    "tags": []
   },
   "outputs": [],
   "source": [
    "df_agg = df[(df['duration']>0) & (df['item_title']!='')].groupby(['item_type2','item_title'])['duration'].min().reset_index()"
   ]
  },
  {
   "cell_type": "code",
   "execution_count": 95,
   "id": "1415a9da-4810-4cb2-bbdf-0ec21f167f03",
   "metadata": {
    "tags": []
   },
   "outputs": [
    {
     "data": {
      "text/plain": [
       "2132"
      ]
     },
     "execution_count": 95,
     "metadata": {},
     "output_type": "execute_result"
    }
   ],
   "source": [
    "df['item_title'].nunique()"
   ]
  },
  {
   "cell_type": "code",
   "execution_count": 103,
   "id": "63ade7fa-3b91-471a-a45f-616ad51cd054",
   "metadata": {
    "tags": []
   },
   "outputs": [
    {
     "data": {
      "text/plain": [
       "item_title\n",
       " Право на ошибку                2\n",
       "(UN)Ideal Man                   1\n",
       "(НЕ)идеальный мужчина           2\n",
       "10 Days Without Mum             1\n",
       "10 дней без мамы в Куршевеле    1\n",
       "                               ..\n",
       "Я тебя никому не отдам          1\n",
       "Я тоже хочу                     1\n",
       "Я худею                         2\n",
       "Ярослав. Тысячу лет назад       2\n",
       "Яя и Зук                        1\n",
       "Name: item_title, Length: 2117, dtype: int64"
      ]
     },
     "execution_count": 103,
     "metadata": {},
     "output_type": "execute_result"
    }
   ],
   "source": [
    "df_agg.groupby('item_title')['item_title'].count()"
   ]
  },
  {
   "cell_type": "code",
   "execution_count": 111,
   "id": "bebba9fc-6b7b-4941-ae59-586e381644c4",
   "metadata": {
    "tags": []
   },
   "outputs": [],
   "source": [
    "df_pivot = pd.pivot(data=df_agg,index='item_title',columns='item_type2').reset_index()"
   ]
  },
  {
   "cell_type": "code",
   "execution_count": 133,
   "id": "59cde11e-5ad0-4424-b8c9-97092e004ff1",
   "metadata": {
    "tags": []
   },
   "outputs": [
    {
     "data": {
      "text/plain": [
       "478.0"
      ]
     },
     "execution_count": 133,
     "metadata": {},
     "output_type": "execute_result"
    }
   ],
   "source": [
    "df_pivot['duration']['kinom'].max()"
   ]
  },
  {
   "cell_type": "code",
   "execution_count": 250,
   "id": "73122c3e-33f4-4e71-972c-202e5cd3df04",
   "metadata": {
    "tags": []
   },
   "outputs": [
    {
     "name": "stdout",
     "output_type": "stream",
     "text": [
      "Мода: 20\n"
     ]
    },
    {
     "data": {
      "image/png": "[encoded data removed]",
      "text/plain": [
       "<Figure size 640x480 with 1 Axes>"
      ]
     },
     "metadata": {},
     "output_type": "display_data"
    }
   ],
   "source": [
    "# Киномы\n",
    "df_agg[(df_agg['duration']<=300) & (df_agg['item_type2']=='kinom')]['duration'].hist()\n",
    "\n",
    "plt.xlabel('длительность')\n",
    "plt.ylabel('частота')\n",
    "plt.title('Распределение длительности киномов')\n",
    "\n",
    "print('Мода:',df_agg[(df_agg['duration'] <= 300) & (df_agg['item_type2'] == 'kinom')]['duration'].mode()[0])\n",
    "plt.show()"
   ]
  },
  {
   "cell_type": "code",
   "execution_count": 248,
   "id": "b55d70ec-92ea-429b-b114-332dc8e135ac",
   "metadata": {
    "tags": []
   },
   "outputs": [
    {
     "name": "stdout",
     "output_type": "stream",
     "text": [
      "Мода: 2591\n"
     ]
    },
    {
     "data": {
      "image/png": "[encoded data removed]",
      "text/plain": [
       "<Figure size 640x480 with 1 Axes>"
      ]
     },
     "metadata": {},
     "output_type": "display_data"
    }
   ],
   "source": [
    "# сериалы\n",
    "df_agg[(df_agg['duration'] >= 1500) & (df_agg['duration'] <= 5100) & (df_agg['item_type2'] == 'series')]['duration'].hist() \n",
    "plt.xlabel('длительность')\n",
    "plt.ylabel('частот')\n",
    "plt.title('Распределение длительности сериалов')\n",
    "print('Мода:',df_agg[(df_agg['duration'] >= 1500) & (df_agg['duration'] <= 3100) & (df_agg['item_type2'] == 'series')]['duration'].mode()[0])"
   ]
  },
  {
   "cell_type": "code",
   "execution_count": 254,
   "id": "e1c0f583-3a63-46b7-8951-4e812f60b8cc",
   "metadata": {
    "tags": []
   },
   "outputs": [
    {
     "name": "stdout",
     "output_type": "stream",
     "text": [
      "Мода: 5645\n"
     ]
    },
    {
     "data": {
      "image/png": "[encoded data removed]",
      "text/plain": [
       "<Figure size 640x480 with 1 Axes>"
      ]
     },
     "metadata": {},
     "output_type": "display_data"
    }
   ],
   "source": [
    "# фильмы\n",
    "df_agg[(df_agg['duration'] >= 4500) & (df_agg['duration'] <= 11000) & (df_agg['item_type2'] == 'movie')]['duration'].hist() \n",
    "plt.xlabel('длительность')\n",
    "plt.ylabel('частота')\n",
    "plt.title('Распределение длительности фильмов')\n",
    "print('Мода:',df_agg[(df_agg['duration'] >= 4500) & (df_agg['duration'] <= 11000) & (df_agg['item_type2'] == 'movie')]['duration'].mode()[0])"
   ]
  },
  {
   "cell_type": "code",
   "execution_count": 292,
   "id": "26829722-b271-4375-a0e6-99586687d12b",
   "metadata": {
    "tags": []
   },
   "outputs": [
    {
     "data": {
      "text/plain": [
       "client_type_general\n",
       "android    363\n",
       "ios         31\n",
       "Name: count, dtype: int64"
      ]
     },
     "execution_count": 292,
     "metadata": {},
     "output_type": "execute_result"
    }
   ],
   "source": [
    "df[(df['duration']==0) & (df['item_type']!='tvchannel') & (df['event_name']=='auto_player_streaming')]['client_type_general'].value_counts()"
   ]
  },
  {
   "cell_type": "code",
   "execution_count": 294,
   "id": "cde50b69-b662-4fae-a7cb-c5130c781ead",
   "metadata": {
    "tags": []
   },
   "outputs": [
    {
     "data": {
      "text/html": [
       "<div>\n",
       "<style scoped>\n",
       "    .dataframe tbody tr th:only-of-type {\n",
       "        vertical-align: middle;\n",
       "    }\n",
       "\n",
       "    .dataframe tbody tr th {\n",
       "        vertical-align: top;\n",
       "    }\n",
       "\n",
       "    .dataframe thead th {\n",
       "        text-align: right;\n",
       "    }\n",
       "</style>\n",
       "<table border=\"1\" class=\"dataframe\">\n",
       "  <thead>\n",
       "    <tr style=\"text-align: right;\">\n",
       "      <th></th>\n",
       "      <th>client_type_general</th>\n",
       "      <th>item_type</th>\n",
       "      <th>count</th>\n",
       "    </tr>\n",
       "  </thead>\n",
       "  <tbody>\n",
       "    <tr>\n",
       "      <th>0</th>\n",
       "      <td>ios</td>\n",
       "      <td>tv_channel</td>\n",
       "      <td>25</td>\n",
       "    </tr>\n",
       "    <tr>\n",
       "      <th>1</th>\n",
       "      <td>ios</td>\n",
       "      <td></td>\n",
       "      <td>8</td>\n",
       "    </tr>\n",
       "  </tbody>\n",
       "</table>\n",
       "</div>"
      ],
      "text/plain": [
       "  client_type_general   item_type  count\n",
       "0                 ios  tv_channel     25\n",
       "1                 ios                  8"
      ]
     },
     "execution_count": 294,
     "metadata": {},
     "output_type": "execute_result"
    }
   ],
   "source": [
    "df[(df['duration']==0) & (df['item_type']!='tvchannel') & (df['client_type_general']=='ios')][['client_type_general','item_type']].value_counts().reset_index()"
   ]
  },
  {
   "cell_type": "code",
   "execution_count": 286,
   "id": "eca84099-12a5-438f-8b43-11c740040a1a",
   "metadata": {
    "tags": []
   },
   "outputs": [
    {
     "data": {
      "text/html": [
       "<div>\n",
       "<style scoped>\n",
       "    .dataframe tbody tr th:only-of-type {\n",
       "        vertical-align: middle;\n",
       "    }\n",
       "\n",
       "    .dataframe tbody tr th {\n",
       "        vertical-align: top;\n",
       "    }\n",
       "\n",
       "    .dataframe thead th {\n",
       "        text-align: right;\n",
       "    }\n",
       "</style>\n",
       "<table border=\"1\" class=\"dataframe\">\n",
       "  <thead>\n",
       "    <tr style=\"text-align: right;\">\n",
       "      <th></th>\n",
       "      <th>client_type_general</th>\n",
       "      <th>item_type</th>\n",
       "      <th>count</th>\n",
       "    </tr>\n",
       "  </thead>\n",
       "  <tbody>\n",
       "    <tr>\n",
       "      <th>0</th>\n",
       "      <td>web_mobile</td>\n",
       "      <td>series</td>\n",
       "      <td>131729</td>\n",
       "    </tr>\n",
       "    <tr>\n",
       "      <th>1</th>\n",
       "      <td>web_mobile</td>\n",
       "      <td></td>\n",
       "      <td>86417</td>\n",
       "    </tr>\n",
       "    <tr>\n",
       "      <th>2</th>\n",
       "      <td>web_mobile</td>\n",
       "      <td>movie</td>\n",
       "      <td>34289</td>\n",
       "    </tr>\n",
       "  </tbody>\n",
       "</table>\n",
       "</div>"
      ],
      "text/plain": [
       "  client_type_general item_type   count\n",
       "0          web_mobile    series  131729\n",
       "1          web_mobile             86417\n",
       "2          web_mobile     movie   34289"
      ]
     },
     "execution_count": 286,
     "metadata": {},
     "output_type": "execute_result"
    }
   ],
   "source": [
    "df[(df['item_type']!='tvchannel') & (df['client_type_general']=='web_mobile')][['client_type_general','item_type']].value_counts().reset_index()"
   ]
  },
  {
   "cell_type": "code",
   "execution_count": null,
   "id": "c695cc8c-94c3-4759-8860-32045936d5ff",
   "metadata": {},
   "outputs": [],
   "source": []
  }
 ],
 "metadata": {
  "kernelspec": {
   "display_name": "Python 3 (ipykernel)",
   "language": "python",
   "name": "python3"
  },
  "language_info": {
   "codemirror_mode": {
    "name": "ipython",
    "version": 3
   },
   "file_extension": ".py",
   "mimetype": "text/x-python",
   "name": "python",
   "nbconvert_exporter": "python",
   "pygments_lexer": "ipython3",
   "version": "3.11.7"
  }
 },
 "nbformat": 4,
 "nbformat_minor": 5
}
