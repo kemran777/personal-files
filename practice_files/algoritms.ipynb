{
 "cells": [
  {
   "cell_type": "code",
   "execution_count": 1,
   "id": "d77c1d90-4457-4d30-bcbe-823b64941a5e",
   "metadata": {
    "tags": []
   },
   "outputs": [],
   "source": [
    "import pandas as pd\n",
    "import psycopg2\n",
    "import matplotlib.pyplot as plt\n",
    "import matplotlib.ticker as ticker\n",
    "import numpy as np\n",
    "import seaborn as sns \n",
    "import statsmodels.stats.proportion as proportion\n",
    "from scipy.stats import ttest_ind,mannwhitneyu,shapiro,norm\n",
    "from statsmodels.stats.weightstats import ztest\n",
    "from tqdm import tqdm\n",
    "import timeit\n",
    "from scipy import stats\n",
    "import math\n",
    "from datetime import date, datetime, timedelta\n",
    "import time\n",
    "from sqlalchemy import create_engine, text\n",
    "from sqlalchemy.orm import sessionmaker\n",
    "import warnings\n",
    "warnings.filterwarnings(\"ignore\")\n",
    "import clickhouse_connect  \n",
    "\n",
    "\n",
    "sys.path.append('/Users/kemran/Desktop/work_files/python_files') \n",
    "from credential import postgres_secret,clickhouse_dwh_secret\n",
    "\n",
    "def get_engine(user):\n",
    "    if user == postgres_secret['user']:\n",
    "        db_name = postgres_secret['db_name']\n",
    "        password = postgres_secret['password']\n",
    "        host = postgres_secret['host']\n",
    "        engine = create_engine(f'postgresql://{user}:{password}@{host}:6432/{db_name}')\n",
    "    elif user == clickhouse_dwh_secret['user']:\n",
    "            db_name = clickhouse_dwh_secret['db_name'] \n",
    "            password = clickhouse_dwh_secret['password']\n",
    "            host = clickhouse_dwh_secret['host']\n",
    "            engine = create_engine(f'clickhouse://{user}:{password}@{host}:8123/{db_name}')\n",
    "    return engine\n",
    "    \n",
    "connection_clickhouse = clickhouse_connect.get_client(\n",
    "    host = clickhouse_dwh_secret['host'],\n",
    "    port= '8123',\n",
    "    username = clickhouse_dwh_secret['user'],\n",
    "    password = clickhouse_dwh_secret['password'],\n",
    "    database='datamarts'\n",
    "    )\n",
    "\n",
    "    \n",
    "def execute(SQL, user):\n",
    "    start_time = time.time()  # запоминаем время начала выполнения функции\n",
    "    engine = get_engine(user)\n",
    "    Session = sessionmaker(bind=engine)  # sessions factory ()\n",
    "    with Session() as session: # open session\n",
    "        result = session.execute(text(SQL))\n",
    "        df = pd.DataFrame(result.fetchall(), columns=result.keys())\n",
    "        \n",
    "    end_time = time.time()  # запоминаем время окончания выполнения функции\n",
    "    execution_time = round(end_time - start_time,4) # вычисляем время выполнения   \n",
    "    \n",
    "    print(f\"Время выполнения функции: {execution_time} секунд\")\n",
    "    print()\n",
    "    return df"
   ]
  },
  {
   "cell_type": "markdown",
   "id": "55a5ce16-117b-4794-8b6c-7e043697c84e",
   "metadata": {},
   "source": [
    "# Two Sum  \n",
    "\n",
    "**Difficulty**: Easy  \n",
    "\n",
    "**Topics**: Array, Hash Table  \n",
    "\n",
    "**Companies**: Google, Facebook, Amazon, Microsoft  \n",
    "\n",
    "**Hint**: Given an array of integers `nums` and an integer `target`, return indices of the two numbers such that they add up to `target`.  \n",
    "\n",
    "You may assume that each input would have exactly one solution, and you may not use the same element twice.  \n",
    "\n",
    "You can return the answer in any order.  \n",
    "\n",
    "\n",
    "\n",
    "**Input**:   \n",
    "nums = [2, 7, 11, 15], target = 9 [0, 1]  \n",
    "\n",
    "nums = [3, 2, 4], target = 6  [1, 2]  "
   ]
  },
  {
   "cell_type": "code",
   "execution_count": 60,
   "id": "e54f6778-37fa-4921-b5e5-408b381dcf8e",
   "metadata": {
    "tags": []
   },
   "outputs": [],
   "source": [
    "def two_sum(l: list[int],n: int)->list[int]:\n",
    "    d = {}\n",
    "    for i,val in enumerate(l):\n",
    "        diff = n - val\n",
    "        if diff in d:\n",
    "            return (d[diff],i)\n",
    "        else:\n",
    "            d[val] = i\n",
    "            \n",
    "        \n",
    "    return (d[dif],i)"
   ]
  },
  {
   "cell_type": "code",
   "execution_count": 64,
   "id": "705f99d0-9db3-4d85-b8a3-cd94e0d38f08",
   "metadata": {
    "tags": []
   },
   "outputs": [
    {
     "data": {
      "text/plain": [
       "(0, 4)"
      ]
     },
     "execution_count": 64,
     "metadata": {},
     "output_type": "execute_result"
    }
   ],
   "source": [
    "l = [1,3,5,6,2]\n",
    "k = 3\n",
    "\n",
    "two_sum(l,k)"
   ]
  },
  {
   "cell_type": "markdown",
   "id": "daa85e12-d8d9-4ccc-9347-a3b4acf4ed18",
   "metadata": {},
   "source": [
    "# Написать фукнцию,  которая определеяет простое число или нет "
   ]
  },
  {
   "cell_type": "code",
   "execution_count": 9,
   "id": "0cf3e89d-0369-4ec1-9cd2-c463e1331129",
   "metadata": {
    "tags": []
   },
   "outputs": [],
   "source": [
    "# Функция определения простого числа\n",
    "def prime_number(n: int)-> bool:\n",
    "    for i in range(2,n//2 + 1):\n",
    "        if n % i == 0:\n",
    "            return False\n",
    "    return True"
   ]
  },
  {
   "cell_type": "code",
   "execution_count": 11,
   "id": "701cab5c-8c38-4208-836f-cade20d30279",
   "metadata": {
    "tags": []
   },
   "outputs": [
    {
     "name": "stdout",
     "output_type": "stream",
     "text": [
      "[1, 2, 3, 5, 7, 11, 13, 17, 19, 23, 29, 31, 37, 41, 43, 47, 53, 59, 61, 67, 71, 73, 79, 83, 89, 97]\n"
     ]
    }
   ],
   "source": [
    "# Все простые числа до 100\n",
    "l = []\n",
    "for i in range(1,100):\n",
    "    if prime_number(i)== True:\n",
    "        l.append(i)\n",
    "\n",
    "print(l)"
   ]
  },
  {
   "cell_type": "markdown",
   "id": "2474ef58-8a94-4c1e-99ba-8d5a632a54a7",
   "metadata": {},
   "source": [
    "# Палиндромное число  \n",
    "\n",
    "**Уровень:** Легкий  \n",
    "**Темы:**  \n",
    "**Компании:**  \n",
    "\n",
    "Дано целое число `x`. Верните `true`, если `x` является палиндромом, и `false` в противном случае.  \n",
    "\n",
    "  \n",
    "\n",
    "**Ввод:** `x = 121`  \n",
    "**Вывод:** `true`  \n",
    "**Объяснение:** 121 читается как 121 слева направо и справа налево.  \n",
    "\n",
    "\n",
    "**Ввод:** `x = -121`  \n",
    "**Вывод:** `false`  \n",
    "**Объяснение:** Слева направо читается как -121. Справа налево будет 121-, следовательно, это не палиндром.  \n",
    "\n",
    "\n",
    "**Ввод:** `x = 10`  \n",
    "**Вывод:** `false`  \n",
    "**Объяснение:** Читается как 01 справа налево. Следовательно, это не палиндром.  "
   ]
  },
  {
   "cell_type": "code",
   "execution_count": 14,
   "id": "17a02372-d67c-4935-85aa-e3b9f1222130",
   "metadata": {
    "tags": []
   },
   "outputs": [],
   "source": [
    "# простой вариант через string\n",
    "\n",
    "def palindrom(p: int)->bool:\n",
    "    s = str(p)\n",
    "    if s[::-1]== s:\n",
    "        return True\n",
    "    return False \n",
    "\n",
    "# Сложный вариант без string\n",
    "\n",
    "def palindrome2(n: int)->bool:\n",
    "    if n < 0 or n % 10 == 0:\n",
    "        return False\n",
    "    half = 0\n",
    "    while half < n:\n",
    "        half = half*10 + n % 10\n",
    "        n = n // 10\n",
    "    if half == n or n == half // 10:\n",
    "        return True\n",
    "    return False\n",
    "    "
   ]
  },
  {
   "cell_type": "code",
   "execution_count": 16,
   "id": "c8798655-ce09-4a65-a521-85187a95e325",
   "metadata": {
    "tags": []
   },
   "outputs": [
    {
     "data": {
      "text/plain": [
       "True"
      ]
     },
     "execution_count": 16,
     "metadata": {},
     "output_type": "execute_result"
    }
   ],
   "source": [
    "palindrome2(121)"
   ]
  },
  {
   "cell_type": "markdown",
   "id": "8ae51ea1-039c-4d07-a6f6-20642df3b7fd",
   "metadata": {},
   "source": [
    "# Слияние двух отсортированных списков  \n",
    "\n",
    "**Уровень:** Легкий  \n",
    "**Темы:**  \n",
    "**Компании:**  \n",
    "\n",
    "Вы получаете головы двух отсортированных связанных списков `list1` и `list2`.  \n",
    "\n",
    "Слейте два списка в один отсортированный список. Список должен быть составлен из соединения узлов первых двух списков.  \n",
    "\n",
    "Верните голову объединенного связного списка.  \n",
    "\n",
    "\n",
    "\n",
    "\n",
    "**Ввод:** `list1 = [1, 2, 4]`, `list2 = [1, 3, 4]`  \n",
    "**Вывод:** `[1, 1, 2, 3, 4, 4]`  \n",
    "\n",
    "\n",
    "**Ввод:** `list1 = []`, `list2 = []`  \n",
    "**Вывод:** `[]`  \n",
    "\n",
    "\n",
    "**Ввод:** `list1 = []`, `list2 = [0]`  \n",
    "**Вывод:** `[0]`  "
   ]
  },
  {
   "cell_type": "code",
   "execution_count": 19,
   "id": "9c229362-caa0-4a6a-8a1d-5be0cf949514",
   "metadata": {
    "tags": []
   },
   "outputs": [],
   "source": [
    "# первый вариант с сортировкой, но тут будет O((n+m)log(n+m))\n",
    "def merge_two_list(l1: list[int],l2: list[int])-> list[int]:\n",
    "    print(sorted(l1+l2))"
   ]
  },
  {
   "cell_type": "code",
   "execution_count": 21,
   "id": "110d8c06-38da-43ed-a56c-880bc7ca7a68",
   "metadata": {
    "tags": []
   },
   "outputs": [],
   "source": [
    "# Второй вариант более сложный \n",
    "def merge_two_list(l1: list[int], l2: list[int])-> list[int]:\n",
    "    l_total = []\n",
    "    i,j = 0,0\n",
    "    while i < len(l1) and j < len(l2):\n",
    "        if l1[i] < l2[j]:\n",
    "            l_total.append(l1[i])\n",
    "            i += 1\n",
    "        else:\n",
    "            l_total.append(l2[j])\n",
    "            j +=1\n",
    "    l_total += l1[i:]\n",
    "    l_total += l2[j:]\n",
    "    return l_total\n",
    "        "
   ]
  },
  {
   "cell_type": "code",
   "execution_count": 23,
   "id": "58637755-b69f-4b3c-bd68-ceb7fb93ef72",
   "metadata": {
    "tags": []
   },
   "outputs": [
    {
     "data": {
      "text/plain": [
       "[1, 2, 2, 3, 3, 5, 5, 6, 7, 10, 10]"
      ]
     },
     "execution_count": 23,
     "metadata": {},
     "output_type": "execute_result"
    }
   ],
   "source": [
    "l1 = [1,2,3,5,6,10]\n",
    "l2 = [2,3,5,7,10]\n",
    "\n",
    "merge_two_list(l1,l2)"
   ]
  },
  {
   "cell_type": "markdown",
   "id": "d3bd2cb7-c440-4bdc-9d11-77eb7db29109",
   "metadata": {},
   "source": [
    "# Remove Duplicates from Sorted Array  \n",
    "**Easy**  \n",
    "\n",
    "- Companies  \n",
    "- Hint  \n",
    "\n",
    "Given an integer array `nums` sorted in non-decreasing order, remove the duplicates in-place such that each unique element appears only once. The relative order of the elements should be kept the same. Then return the number of unique elements in `nums`.  \n",
    "\n",
    "Consider the number of unique elements of `nums` to be `k`. To get accepted, you need to do the following things:  \n",
    "\n",
    "1. Change the array `nums` such that the first `k` elements of `nums` contain the unique elements in the order they were present in `nums` initially. The remaining elements of `nums` are not important as well as the size of `nums`.  \n",
    "2. Return `k`.  \n",
    "\n",
    "\n",
    "The judge will test your solution with the following code:  \n",
    "\n",
    "```java  \n",
    "int[] nums = [...]; // Input array  \n",
    "int[] expectedNums = [...]; // The expected answer with correct length  \n",
    "\n",
    "int k = removeDuplicates(nums); // Calls your implementation  \n",
    "\n",
    "assert k == expectedNums.length;  \n",
    "for (int i = 0; i < k; i++) {  \n",
    "assert nums[i] == expectedNums[i];  \n",
    "}  "
   ]
  },
  {
   "cell_type": "code",
   "execution_count": 26,
   "id": "b38a88b7-6697-4a02-bf27-f59c0caefa5e",
   "metadata": {
    "tags": []
   },
   "outputs": [],
   "source": [
    "# Первый вариант через множество и сортировка\n",
    "#Здесь мы создаем новое множество\n",
    "def remove_duplicate (l: list[int])-> list[int]:\n",
    "    k = len(set(l))\n",
    "    return k"
   ]
  },
  {
   "cell_type": "code",
   "execution_count": 28,
   "id": "13480f87-94ba-4f73-aaa4-9ab60b5e6628",
   "metadata": {
    "tags": []
   },
   "outputs": [
    {
     "data": {
      "text/plain": [
       "8"
      ]
     },
     "execution_count": 28,
     "metadata": {},
     "output_type": "execute_result"
    }
   ],
   "source": [
    "s = [1,2,4,5,5,5,6,8,10,12,12]\n",
    "remove_duplicate(s)"
   ]
  },
  {
   "cell_type": "code",
   "execution_count": 30,
   "id": "14b6e8f0-8a0b-40e2-9ab1-41fbb1007e7b",
   "metadata": {
    "tags": []
   },
   "outputs": [],
   "source": [
    "# Используем технику 2-х указаталей\n",
    "def remove_duplicate(l: list[int])-> list[int]:\n",
    "    i = 1\n",
    "    for j in range(1,len(l)):\n",
    "        if l[j] != l[j-1]:\n",
    "            l[i] = l[j]\n",
    "            i +=1\n",
    "    return i,l[:i]"
   ]
  },
  {
   "cell_type": "code",
   "execution_count": 32,
   "id": "d4f37ef1-fd3e-4bd6-a341-4fb9dbca6600",
   "metadata": {
    "tags": []
   },
   "outputs": [
    {
     "data": {
      "text/plain": [
       "(5, [1, 2, 3, 4, 5])"
      ]
     },
     "execution_count": 32,
     "metadata": {},
     "output_type": "execute_result"
    }
   ],
   "source": [
    "s = [1,2,2,3,4,4,5,5,5]\n",
    "remove_duplicate(s)"
   ]
  },
  {
   "cell_type": "markdown",
   "id": "5ea0ebae-d6bf-4c9f-83ae-532c236af850",
   "metadata": {},
   "source": [
    "# Remove Element  \n",
    "\n",
    "\n",
    "Given an integer array `nums` and an integer `val`, remove all occurrences of `val` in `nums` in-place. The order of the elements may be changed. Then return the number of elements in `nums` which are not equal to `val`.  \n",
    "\n",
    "Consider the number of elements in `nums` which are not equal to `val` be `k`. To get accepted, you need to do the following:  \n",
    "\n",
    "1. Change the array `nums` such that the first `k` elements of `nums` contain the elements which are not equal to `val`. The remaining elements of `nums` are not important as well as the size of `nums`.  \n",
    "2. Return `k`.  \n",
    "\n",
    "Example 1:\n",
    "\n",
    "Input: nums = [3,2,2,3], val = 3\n",
    "Output: 2, nums = [2,2,_,_]\n",
    "Explanation: Your function should return k = 2, with the first two elements of nums being 2.\n",
    "It does not matter what you leave beyond the returned k (hence they are underscores).\n",
    "Example 2:\n",
    "\n",
    "Input: nums = [0,1,2,2,3,0,4,2], val = 2\n",
    "Output: 5, nums = [0,1,4,0,3,_,_,_]\n",
    "Explanation: Your function should return k = 5, with the first five elements of nums containing 0, 0, 1, 3, and 4.\n",
    "Note that the five elements can be returned in any order.\n",
    "It does not matter what you leave beyond the returned k (hence they are underscores)."
   ]
  },
  {
   "cell_type": "code",
   "execution_count": 35,
   "id": "b7fc327e-0464-49cf-a8f3-db923656cdce",
   "metadata": {
    "tags": []
   },
   "outputs": [],
   "source": [
    "# Используем технику 2-х указаталей\n",
    "# цикл for пробегается по всем элементам и если этот значение != нашему таргету, то оставляем в списке\n",
    "def removeElement(nums: list[int], val: int) -> int:\n",
    "    j = 0\n",
    "    for i in range(len(nums)):\n",
    "        if nums[i] != val:\n",
    "            nums[j] = nums[i]\n",
    "            j += 1\n",
    "    return j, nums[:j]"
   ]
  },
  {
   "cell_type": "code",
   "execution_count": 37,
   "id": "e8b3172f-5acb-4de5-89a1-7067d076f130",
   "metadata": {
    "tags": []
   },
   "outputs": [
    {
     "data": {
      "text/plain": [
       "(8, [0, 1, 1, 2, 2, 4, 5, 3])"
      ]
     },
     "execution_count": 37,
     "metadata": {},
     "output_type": "execute_result"
    }
   ],
   "source": [
    "l = [0,1,1,2,2,4,5,6,3,6,6,6]\n",
    "\n",
    "removeElement(l, val = 6)"
   ]
  },
  {
   "cell_type": "markdown",
   "id": "b1fe81ba-43db-4e0d-954e-706fc227d97c",
   "metadata": {},
   "source": [
    "# Найти Индекс Первого Вхождения в Строке  \n",
    "\n",
    "Дано два строки: `needle` и `haystack`, верните индекс первого вхождения `needle` в `haystack`, или -1, если `needle` не является частью `haystack`.  \n",
    "\n",
    "\n",
    "**Вход**:  \n",
    "`haystack = \"sadbutsad\"`  \n",
    "`needle = \"sad\"`  \n",
    "\n",
    "**Выход**:  \n",
    "`0`  \n",
    "\n",
    "**Объяснение**:  \n",
    "\"**sad**\" встречается на индексах 0 и 6. Первое вхождение находится на индексе 0, поэтому мы возвращаем 0.  \n",
    "  \n",
    "**Вход**:  \n",
    "`haystack = \"leetcode\"`  \n",
    "`needle = \"leeto\"`  \n",
    "\n",
    "**Выход**:  \n",
    "`-1`  \n",
    "\n",
    "**Объяснение**:  \n",
    "\"**leeto**\" не встречается в \"leetcode\", поэтому мы возвращаем -1.  "
   ]
  },
  {
   "cell_type": "code",
   "execution_count": 40,
   "id": "bf3f1ca3-59cb-476c-bfd6-89531197ad58",
   "metadata": {
    "tags": []
   },
   "outputs": [],
   "source": [
    "# Используем скользящее окно \n",
    "def strStr(h : str, n: str) ->int:\n",
    "    for i in range(len(h)):\n",
    "        if h[i:i + len(n)] == n:\n",
    "            return i\n",
    "    return -1"
   ]
  },
  {
   "cell_type": "code",
   "execution_count": 42,
   "id": "2624f98d-f9b2-455c-8051-9afa0e278e4d",
   "metadata": {
    "tags": []
   },
   "outputs": [
    {
     "data": {
      "text/plain": [
       "4"
      ]
     },
     "execution_count": 42,
     "metadata": {},
     "output_type": "execute_result"
    }
   ],
   "source": [
    "strStr(h='chelsea', n = 'sea')"
   ]
  },
  {
   "cell_type": "markdown",
   "id": "cc2b77e9-aa96-42e2-aeb0-e6795abfc669",
   "metadata": {},
   "source": [
    "# Search Insert Position  \n",
    "**Difficulty:** Easy  \n",
    "**Topics:** Array, Binary Search  \n",
    "**Companies:** [Example Company List]  \n",
    "\n",
    "Given a sorted array of distinct integers and a target value, return the index if the target is found. If not, return the index where it would be if it were inserted in order.  \n",
    "\n",
    "You must write an algorithm with **O(log n)** runtime complexity.  \n",
    "\n",
    " \n",
    "\n",
    "\n",
    "- **Input:** `nums = [1, 3, 5, 6]`, `target = 5`  \n",
    "- **Output:** `2`  \n",
    "\n",
    "\n",
    "- **Input:** `nums = [1, 3, 5, 6]`, `target = 2`  \n",
    "- **Output:** `1`  \n",
    "\n",
    "\n",
    "- **Input:** `nums = [1, 3, 5, 6]`, `target = 7`  \n",
    "- **Output:** `4`  "
   ]
  },
  {
   "cell_type": "code",
   "execution_count": 66,
   "id": "5720210d-08d0-4c11-b906-97921787ea58",
   "metadata": {
    "tags": []
   },
   "outputs": [],
   "source": [
    "# Поиск через цикл for, сложность временная O(n)\n",
    "def insert_num(nums: list[int], t: int)->int:\n",
    "    for i in range(len(nums)):\n",
    "        if nums[i] >= t:\n",
    "            return i\n",
    "    return len(nums)\n"
   ]
  },
  {
   "cell_type": "code",
   "execution_count": 72,
   "id": "7bcd4d76-b5f1-418a-8778-caa93ba2050c",
   "metadata": {
    "tags": []
   },
   "outputs": [
    {
     "data": {
      "text/plain": [
       "2"
      ]
     },
     "execution_count": 72,
     "metadata": {},
     "output_type": "execute_result"
    }
   ],
   "source": [
    "l = [2,5,6,9,10,20]\n",
    "insert_num( nums = l, t = 6)"
   ]
  },
  {
   "cell_type": "code",
   "execution_count": 49,
   "id": "eb7258d8-d8d8-4248-8280-174e46062fd6",
   "metadata": {
    "tags": []
   },
   "outputs": [],
   "source": [
    "# Так как список отсортирован можем использовать бинарнй поиск, который имеет O(logn)\n",
    "# Почему O(logn) : n / 2^k = 1 -> n = 2^k -> k = logn\n",
    "def binary_search (nums: list[int], t: int) -> int:\n",
    "    left,right = 0, len(nums) - 1\n",
    "    while left <= right:\n",
    "        m = (left + right) // 2\n",
    "        if nums[m] == t:\n",
    "            return m\n",
    "        elif nums[m] < t:\n",
    "            left = m + 1\n",
    "        else:\n",
    "            right = m - 1\n",
    "    return left\n",
    "            "
   ]
  },
  {
   "cell_type": "code",
   "execution_count": 51,
   "id": "6602ff87-33c0-41f7-a83b-3fd1824d2b31",
   "metadata": {
    "tags": []
   },
   "outputs": [
    {
     "data": {
      "text/plain": [
       "5"
      ]
     },
     "execution_count": 51,
     "metadata": {},
     "output_type": "execute_result"
    }
   ],
   "source": [
    "l = [2,5,6,9,10]\n",
    "binary_search(nums = l, t = 11)"
   ]
  },
  {
   "cell_type": "markdown",
   "id": "f5127ba4-ee36-4c8f-b73e-e5792466b896",
   "metadata": {},
   "source": [
    "# Length of Last Word  \n",
    "\n",
    "\n",
    "\n",
    "\n",
    "Given a string `s` consisting of words and spaces, return the length of the last word in the string.  \n",
    "\n",
    "A word is a maximal substring consisting of non-space characters only.  \n",
    "\n",
    "  \n",
    "\n",
    "- **Input**: `s = \"Hello World\"`  \n",
    "- **Output**: `5`  \n",
    "- **Explanation**: The last word is \"World\" with length 5.  \n",
    "\n",
    " \n",
    "- **Input**: `s = \"   fly me   to   the moon  \"`  \n",
    "- **Output**: `4`  \n",
    "- **Explanation**: The last word is \"moon\" with length 4.  \n",
    "\n",
    "- **Input**: `s = \"luffy is still joyboy\"`  \n",
    "- **Output**: `6`  \n",
    "- **Explanation**: The last word is \"joyboy\" with length 6.  "
   ]
  },
  {
   "cell_type": "code",
   "execution_count": 54,
   "id": "1bcf9364-c88d-4231-b7a7-fccbf55daf94",
   "metadata": {
    "tags": []
   },
   "outputs": [],
   "source": [
    "def lengthOfLastWord(s: str) -> int:\n",
    "    t = s.split()\n",
    "    last_word = t[-1]\n",
    "    return len(last_word)"
   ]
  },
  {
   "cell_type": "code",
   "execution_count": 56,
   "id": "38136c24-e15a-451c-b448-18858bf3aa34",
   "metadata": {
    "tags": []
   },
   "outputs": [
    {
     "data": {
      "text/plain": [
       "6"
      ]
     },
     "execution_count": 56,
     "metadata": {},
     "output_type": "execute_result"
    }
   ],
   "source": [
    "t = 'efihfi ifhifgh difhdf'\n",
    "\n",
    "lengthOfLastWord(t)"
   ]
  },
  {
   "cell_type": "markdown",
   "id": "e9085a88-25d1-4bb7-a326-0c2e01aa68fa",
   "metadata": {},
   "source": [
    "# Move Zeroes  \n",
    "\n",
    "\n",
    "\n",
    "Given an integer array `nums`, move all 0's to the end of it while maintaining the relative order of the non-zero elements.  \n",
    "\n",
    "Note that you must do this in-place without making a copy of the array.  \n",
    "\n",
    "\n",
    "\n",
    "**Example 1:**  \n",
    "- Input: `nums = [0, 1, 0, 3, 12]`  \n",
    "- Output: `[1, 3, 12, 0, 0]`  \n",
    "\n",
    "**Example 2:**  \n",
    "- Input: `nums = [0]`  \n",
    "- Output: `[0]`  "
   ]
  },
  {
   "cell_type": "code",
   "execution_count": 74,
   "id": "53328f1a-0605-40f7-a0e8-e7fa74a5240d",
   "metadata": {
    "tags": []
   },
   "outputs": [],
   "source": [
    "def moveZeroes(nums: list[int]) -> list[int]:\n",
    "    left = 0\n",
    "    for right in range(len(nums)):\n",
    "        if nums[right] != 0:\n",
    "            nums[right],nums[left] = nums[left],nums[right]\n",
    "            left +=1\n",
    "    return nums"
   ]
  },
  {
   "cell_type": "code",
   "execution_count": 78,
   "id": "ec9ef123-a671-4f0f-9a68-7a153ad896c6",
   "metadata": {
    "tags": []
   },
   "outputs": [
    {
     "data": {
      "text/plain": [
       "[9, 10, 10, 2, 0, 0, 0, 0, 0]"
      ]
     },
     "execution_count": 78,
     "metadata": {},
     "output_type": "execute_result"
    }
   ],
   "source": [
    "l = [0,0,9,0,0,0,10,10,2]\n",
    "moveZeroes(l)"
   ]
  },
  {
   "cell_type": "code",
   "execution_count": null,
   "id": "75c84267-542e-40ad-9a58-f4a9a536957c",
   "metadata": {
    "tags": []
   },
   "outputs": [],
   "source": [
    "def moveZeroes(nums: list[int], t: int) -> list[int]:\n",
    "    i = 0\n",
    "    for j in range(len(nums)):\n",
    "        if nums[j] != t:\n",
    "            nums[j],nums[i] = nums[i], nums[j]\n",
    "            i +=1\n",
    "    return nums"
   ]
  },
  {
   "cell_type": "code",
   "execution_count": null,
   "id": "442803b7-9286-4f9e-a5fa-6f3261073ebb",
   "metadata": {
    "tags": []
   },
   "outputs": [],
   "source": [
    "l = [0,0,9,0,0,0,10,10,2]\n",
    "moveZeroes(l,10)"
   ]
  },
  {
   "cell_type": "markdown",
   "id": "ac76ede7-a137-4965-b3d0-2d09a20df7cc",
   "metadata": {},
   "source": [
    "# Find Numbers with Even Number of Digits  \n",
    "\n",
    " \n",
    "Given an array `nums` of integers, return how many of them contain an even number of digits.  \n",
    "\n",
    "\n",
    "\n",
    "**Input:**  \n",
    "`nums = [12, 345, 2, 6, 7896]`  \n",
    "\n",
    "**Output:**  \n",
    "`2`  \n",
    "\n",
    "**Explanation:**  \n",
    "- `12` contains 2 digits (even number of digits).  \n",
    "- `345` contains 3 digits (odd number of digits).  \n",
    "- `2` contains 1 digit (odd number of digits).  \n",
    "- `6` contains 1 digit (odd number of digits).  \n",
    "- `7896` contains 4 digits (even number of digits).  \n",
    "\n",
    "Therefore, only `12` and `7896` contain an even number of digits.  \n",
    "\n",
    "---  \n",
    "\n",
    " \n",
    "**Input:**  \n",
    "`nums = [555, 901, 482, 1771]`  \n",
    "\n",
    "**Output:**  \n",
    "`1`  \n",
    "\n",
    "**Explanation:**  \n",
    "Only `1771` contains an even number of digits.  "
   ]
  },
  {
   "cell_type": "code",
   "execution_count": 66,
   "id": "49ca5301-e505-4be6-83d1-e53c7755f681",
   "metadata": {
    "tags": []
   },
   "outputs": [],
   "source": [
    "# Функция которая считает количество чисел, которые состоят из четного числа цифр\n",
    "def findNumbers(nums: list[int]) -> int:\n",
    "    count = 0\n",
    "    for i in nums:\n",
    "        if len(str(i)) % 2 == 0:\n",
    "            count += 1\n",
    "    return count"
   ]
  },
  {
   "cell_type": "code",
   "execution_count": 68,
   "id": "27ee54db-ac7c-4d25-ad3a-7bc6a9ad09d8",
   "metadata": {
    "jp-MarkdownHeadingCollapsed": true,
    "tags": []
   },
   "outputs": [
    {
     "data": {
      "text/plain": [
       "2"
      ]
     },
     "execution_count": 68,
     "metadata": {},
     "output_type": "execute_result"
    }
   ],
   "source": [
    "l =[11,22,345,430]\n",
    "\n",
    "findNumbers(l)"
   ]
  },
  {
   "cell_type": "markdown",
   "id": "9fc4fbea-2e95-426f-ab57-38ba3a81a6a0",
   "metadata": {
    "tags": []
   },
   "source": [
    "# Majority Element  \n",
    "\n",
    "\n",
    "Description  \n",
    "\n",
    "Given an array `nums` of size `n`, return the majority element.  \n",
    "\n",
    "The **majority element** is the element that appears more than ⌊n / 2⌋ times. You may assume that the majority element always exists in the array.  \n",
    " \n",
    "\n",
    " Example 1:  \n",
    "**Input:** `nums = [3,2,3]`  \n",
    "**Output:** `3`  \n",
    "\n",
    " Example 2:  \n",
    "**Input:** `nums = [2,2,1,1,1,2,2]`  \n",
    "**Output:** `2`  "
   ]
  },
  {
   "cell_type": "code",
   "execution_count": 71,
   "id": "b100d856-65d3-4245-b6eb-d41859cfe356",
   "metadata": {
    "tags": []
   },
   "outputs": [],
   "source": [
    "# Сделаем через словарь и найдем в нем максимальный элемент. Чисел может быть несколько, поэтому выведем список\n",
    "def majorityElement(nums: list[int])->int:\n",
    "    d = {}\n",
    "    for i in nums:\n",
    "        if i in d:\n",
    "            d[i] += 1\n",
    "        else:\n",
    "            d[i] = 1\n",
    "    \n",
    "    max_count = 0\n",
    "    most_frequent = []\n",
    "    \n",
    "    for num,count in d.items():\n",
    "        if count > max_count:\n",
    "            max_count = count\n",
    "            most_frequent = [num]\n",
    "        elif count == max_count:\n",
    "            most_frequent.append(num)\n",
    "    \n",
    "    return most_frequent\n",
    "        \n",
    "    "
   ]
  },
  {
   "cell_type": "code",
   "execution_count": 73,
   "id": "87c0e3e7-6aa4-4e76-b51e-d39bf8fb1395",
   "metadata": {
    "tags": []
   },
   "outputs": [],
   "source": [
    "# Сделаем через словарь и найдем в нем элемент наиболее частовстречаемый. Без списка \n",
    "def majorityElement(nums: list[int])->int:\n",
    "    d = {}\n",
    "    for i in nums:\n",
    "        if i in d:\n",
    "            d[i] += 1\n",
    "        else:\n",
    "            d[i] = 1\n",
    "    \n",
    "    max_count = 0\n",
    "    \n",
    "    for num,count in d.items():\n",
    "        if count > max_count:\n",
    "            max_count = count\n",
    "            most_frequent = num\n",
    "\n",
    "    return most_frequent\n",
    "        \n",
    "    "
   ]
  },
  {
   "cell_type": "code",
   "execution_count": 75,
   "id": "896d86c2-bb54-4059-9a03-c3a2935c3589",
   "metadata": {
    "tags": []
   },
   "outputs": [],
   "source": [
    "# Сделаем через словарь и найдем в нем элемент который встречается более n/2. Без списка \n",
    "def majorityElement(nums: list[int])->int:\n",
    "    d = {}\n",
    "    res = nums[0]\n",
    "    max_count = 0\n",
    "    for i in nums:\n",
    "        d[i] = d.get(i,0) + 1\n",
    "        if d[i] > max_count:\n",
    "            max_count = d[i]\n",
    "            res = i\n",
    "    return res\n",
    "#     for num,count in d.items():\n",
    "#         if count > len(nums) // 2:\n",
    "#                 return num\n",
    "        \n",
    "    \n",
    "    \n",
    "# Сделаем по памяти O(1) без словаря. Временная сложность останется O(n)\n",
    "def majorityElement(nums: list[int])->int:\n",
    "    count = 0\n",
    "    res = None\n",
    "    for i in nums:\n",
    "        if count == 0:\n",
    "            res = i\n",
    "            count += 1\n",
    "        elif res == i:\n",
    "            count += 1\n",
    "        else:\n",
    "            count -= 1\n",
    "    return res"
   ]
  },
  {
   "cell_type": "code",
   "execution_count": 77,
   "id": "5735a457-f434-4f4a-967d-434239db647f",
   "metadata": {
    "tags": []
   },
   "outputs": [
    {
     "data": {
      "text/plain": [
       "4"
      ]
     },
     "execution_count": 77,
     "metadata": {},
     "output_type": "execute_result"
    }
   ],
   "source": [
    "majorityElement([1,1,2,3,4,4,4,5])"
   ]
  },
  {
   "cell_type": "markdown",
   "id": "c1340e60-9abd-4488-9fda-87dff08395c2",
   "metadata": {},
   "source": [
    "# Функция по нахождению максимального числа"
   ]
  },
  {
   "cell_type": "code",
   "execution_count": 80,
   "id": "fbe16746-c19a-4cf9-87e0-88bb9b2ac586",
   "metadata": {
    "tags": []
   },
   "outputs": [],
   "source": [
    "def max1(nums: list[int])->int:\n",
    "    maxn = nums[0]\n",
    "    for i in nums:\n",
    "        if i>maxn:\n",
    "            maxn = i\n",
    "    return maxn"
   ]
  },
  {
   "cell_type": "code",
   "execution_count": 82,
   "id": "a13e8872-f4de-49f2-a0e1-fcc6259881eb",
   "metadata": {
    "tags": []
   },
   "outputs": [
    {
     "data": {
      "text/plain": [
       "100"
      ]
     },
     "execution_count": 82,
     "metadata": {},
     "output_type": "execute_result"
    }
   ],
   "source": [
    "l = [1,2,4,5,6,5,6,7,6,6,100]\n",
    "max1(l)"
   ]
  },
  {
   "cell_type": "markdown",
   "id": "92d72dc6-d814-433e-a7a0-4a4d6ce249d6",
   "metadata": {},
   "source": [
    "# Функция нахождения 2 максимума в списке "
   ]
  },
  {
   "cell_type": "code",
   "execution_count": 96,
   "id": "279fd621-c24e-423d-8eb9-f70ef5a69e8c",
   "metadata": {
    "tags": []
   },
   "outputs": [],
   "source": [
    "# Сделаем через сортировку \n",
    "# Но временная сложность O(nlogn)\n",
    "def twoMax(nums: list[int]) ->int:\n",
    "    return sorted(nums,reverse = True)"
   ]
  },
  {
   "cell_type": "code",
   "execution_count": 104,
   "id": "1ad49f34-e465-4aca-83b2-1542d9c04002",
   "metadata": {
    "tags": []
   },
   "outputs": [
    {
     "data": {
      "text/plain": [
       "[1001, 1012]"
      ]
     },
     "execution_count": 104,
     "metadata": {},
     "output_type": "execute_result"
    }
   ],
   "source": [
    "sorted([1000,40,4,1012,31,1001,0,30])[-2:]"
   ]
  },
  {
   "cell_type": "code",
   "execution_count": 87,
   "id": "431c6e89-3468-479a-a767-e0f8b52ba054",
   "metadata": {
    "tags": []
   },
   "outputs": [],
   "source": [
    "# Тут требуется два пробега \n",
    "def TwoMax(nums: list[int])->int:\n",
    "    max1 = max(nums)\n",
    "    nums.remove(max1)\n",
    "    max2 = max(nums)"
   ]
  },
  {
   "cell_type": "code",
   "execution_count": 89,
   "id": "22fbda97-3a11-4bbf-8b99-181496b7bcaf",
   "metadata": {
    "tags": []
   },
   "outputs": [
    {
     "data": {
      "text/plain": [
       "[1012, 1001]"
      ]
     },
     "execution_count": 89,
     "metadata": {},
     "output_type": "execute_result"
    }
   ],
   "source": [
    "l = [1000,40,4,1012,31,1001,0,30]\n",
    "twoMax(l)"
   ]
  },
  {
   "cell_type": "code",
   "execution_count": 91,
   "id": "d6f62123-29a0-4bb4-8180-5dd1254f6396",
   "metadata": {
    "tags": []
   },
   "outputs": [],
   "source": [
    "# За 1 пробег можем найти 2 максимума \n",
    "def twoMax(nums: list[int]) ->int:\n",
    "    \n",
    "    if nums[1] > nums[0]:\n",
    "        max1,max2 = nums[1],nums[0]\n",
    "    else:\n",
    "        max1,max2 = nums[0],nums[1]\n",
    "    \n",
    "    for i in nums[2:]:\n",
    "        if i > max1:\n",
    "            max2 = max1\n",
    "            max1 = i\n",
    "        elif i > max2:\n",
    "            max2 = i\n",
    "    return max1,max2"
   ]
  },
  {
   "cell_type": "code",
   "execution_count": 93,
   "id": "c2cece8c-a813-45f3-883f-e39e83d56f24",
   "metadata": {
    "tags": []
   },
   "outputs": [
    {
     "data": {
      "text/plain": [
       "(1003, 40)"
      ]
     },
     "execution_count": 93,
     "metadata": {},
     "output_type": "execute_result"
    }
   ],
   "source": [
    "l = [10,40,4,1003,31,10,30]\n",
    "twoMax(l)"
   ]
  },
  {
   "cell_type": "markdown",
   "id": "6c098cc1-cc9b-4260-b187-8f393b2c34f8",
   "metadata": {},
   "source": [
    "# Valid Palindrome  \n",
    "\n",
    "Topics  \n",
    "- String Manipulation  \n",
    "- Two Pointers  \n",
    "\n",
    "Problem Statement  \n",
    "A phrase is a palindrome if, after converting all uppercase letters into lowercase letters and removing all non-alphanumeric characters, it reads the same forward and backward. Alphanumeric characters include letters and numbers.  \n",
    "\n",
    "Given a string `s`, return `true` if it is a palindrome, or `false` otherwise.  \n",
    "  \n",
    "\n",
    " Example 1  \n",
    "- **Input:** `s = \"A man, a plan, a canal: Panama\"`  \n",
    "- **Output:** `true`  \n",
    "- **Explanation:** `\"amanaplanacanalpanama\"` is a palindrome.  \n",
    "\n",
    " Example 2  \n",
    "- **Input:** `s = \"race a car\"`  \n",
    "- **Output:** `false`  \n",
    "- **Explanation:** `\"raceacar\"` is not a palindrome.  \n",
    "\n",
    "Example 3  \n",
    "- **Input:** `s = \" \"`  \n",
    "- **Output:** `true`  \n",
    "- **Explanation:** `s` is an empty string `\"\"` after removing non-alphanumeric characters. Since an empty string reads the same forward and backward, it is a palindrome.  "
   ]
  },
  {
   "cell_type": "code",
   "execution_count": 96,
   "id": "8db46788-68a6-4bcb-a4ab-7b8b53faa39a",
   "metadata": {
    "tags": []
   },
   "outputs": [],
   "source": [
    "def palindrom(s: str)->bool:\n",
    "    l,r = 0, len(s) - 1\n",
    "    \n",
    "    while l < r:\n",
    "        if s[l] != s[r]:\n",
    "            return False\n",
    "        \n",
    "        else:\n",
    "            l += 1\n",
    "            r -= 1     \n",
    "        return True       "
   ]
  },
  {
   "cell_type": "code",
   "execution_count": 98,
   "id": "30983493-1a9b-477b-9a0e-9002b8bd4647",
   "metadata": {
    "tags": []
   },
   "outputs": [
    {
     "data": {
      "text/plain": [
       "True"
      ]
     },
     "execution_count": 98,
     "metadata": {},
     "output_type": "execute_result"
    }
   ],
   "source": [
    "l = 'дадад дадад'\n",
    "\n",
    "palindrom(l)"
   ]
  },
  {
   "cell_type": "markdown",
   "id": "f4797ad1-d0e3-4fc6-ae7e-1883c6d22f39",
   "metadata": {},
   "source": [
    "# Напиши функцию, которая вернет сумму всех чисел кратных 3 или 5, ниже задонного значения target"
   ]
  },
  {
   "cell_type": "code",
   "execution_count": 101,
   "id": "507b0528-8c4f-4ff7-8fa4-6957715f9e2f",
   "metadata": {
    "tags": []
   },
   "outputs": [],
   "source": [
    "# Решили через цикл for. Сложность 0(n)\n",
    "def sum_numbers(target: int) ->int:\n",
    "    sum = 0\n",
    "    for i in range(1,target):\n",
    "        if i % 3 == 0 or i % 5 == 0:\n",
    "            sum += i\n",
    "    return sum"
   ]
  },
  {
   "cell_type": "code",
   "execution_count": 103,
   "id": "0f81d7eb-324c-40db-ba34-6921ff30ff00",
   "metadata": {
    "tags": []
   },
   "outputs": [],
   "source": [
    "# Решим без цикла с сложность О(1) через сумму арифметической прогресссии\n",
    "def sum_number(target: int)->int:\n",
    "    count_3 = (target - 1) // 3\n",
    "    count_5 = (target - 1) // 5\n",
    "    count_15 = (target - 1) // 15\n",
    "\n",
    "# Sn = n / 2 * (2a + (n - 1) * d\n",
    "    \n",
    "    s = count_3/2 * (2*3 + (count_3 - 1) * 3) + count_5/2 * (2*5 + (count_5 - 1) * 5) - count_15/2 * (2*15 + (count_15 - 1) * 15)  \n",
    "    \n",
    "    return s\n",
    "\n"
   ]
  },
  {
   "cell_type": "code",
   "execution_count": 105,
   "id": "ef5368ee-3746-497a-bc7d-8dcfe6e067e7",
   "metadata": {
    "tags": []
   },
   "outputs": [
    {
     "data": {
      "text/plain": [
       "23.0"
      ]
     },
     "execution_count": 105,
     "metadata": {},
     "output_type": "execute_result"
    }
   ],
   "source": [
    "sum_number(10)"
   ]
  },
  {
   "cell_type": "markdown",
   "id": "1b271984-697a-47c7-80a2-8925c3850562",
   "metadata": {},
   "source": [
    "# Longest Subarray of 1's After Deleting One Element  \n",
    "**Medium**  \n",
    "\n",
    "**Topics:**  \n",
    "Companies  \n",
    "\n",
    "**Hint:**  \n",
    "Given a binary array `nums`, you should delete one element from it.  \n",
    "\n",
    "Return the size of the longest non-empty subarray containing only 1's in the resulting array. Return 0 if there is no such subarray.  \n",
    "\n",
    "\n",
    "**Example 1:**  \n",
    "\n",
    "```plaintext  \n",
    "Input: nums = [1,1,0,1]  \n",
    "Output: 3  \n",
    "Explanation: After deleting the number in position 2, [1,1,1] contains 3 numbers with value of 1's.  \n",
    "\n",
    "Input: nums = [0,1,1,1,0,1,1,0,1]  \n",
    "Output: 5  \n",
    "Explanation: After deleting the number in position 4, [0,1,1,1,1,1,0,1] longest subarray with value of 1's is [1,1,1,1,1].  \n",
    "\n",
    "Input: nums = [1,1,1]  \n",
    "Output: 2  \n",
    "Explanation: You must delete one element.  "
   ]
  },
  {
   "cell_type": "code",
   "execution_count": 108,
   "id": "7b910d0b-ffac-4439-9547-66a2f090c8b6",
   "metadata": {
    "tags": []
   },
   "outputs": [],
   "source": [
    "# Идея алгоритма:\n",
    "# Используем два указателя: left и right — границы окна.\n",
    "\n",
    "# Внутри окна разрешаем только один 0 (так как мы можем \"удалить\" один 0).\n",
    "\n",
    "# Если количество 0 в окне > 1, то сдвигаем left, пока снова не будет ≤1 нуля.\n",
    "\n",
    "# После каждой итерации обновляем max_array как длину текущего допустимого окна (right - left)\n",
    "\n",
    "def longestSubarray(nums: list[int]) -> int:\n",
    "    left = 0\n",
    "    zero_count = 0\n",
    "    max_val = 0\n",
    "\n",
    "    for right in range(len(nums)):\n",
    "        if nums[right] == 0:\n",
    "            zero_count += 1\n",
    "\n",
    "        while zero_count > 1:\n",
    "            if nums[left] == 0:\n",
    "                zero_count -= 1\n",
    "            left += 1\n",
    "\n",
    "        max_val = max(max_val, right - left)\n",
    "\n",
    "    return max_val"
   ]
  },
  {
   "cell_type": "code",
   "execution_count": 110,
   "id": "82e81fde-7681-4e94-9bf9-3dd70fdbdbbe",
   "metadata": {
    "tags": []
   },
   "outputs": [
    {
     "data": {
      "text/plain": [
       "4"
      ]
     },
     "execution_count": 110,
     "metadata": {},
     "output_type": "execute_result"
    }
   ],
   "source": [
    "longestSubarray([1,1,1,0,1,0,0])"
   ]
  },
  {
   "cell_type": "markdown",
   "id": "b9b38460-8fe1-4d55-a69c-d118319b9688",
   "metadata": {
    "tags": []
   },
   "source": [
    "# Intersection of Two Arrays\n",
    "\n",
    "**Easy**\n",
    "\n",
    "Topics\n",
    "- Arrays\n",
    "- Hash Tables\n",
    "\n",
    "Problem\n",
    "\n",
    "Given two integer arrays `nums1` and `nums2`, return an array of their intersection.  \n",
    "Each element in the result must be unique and the order of the result does not matter.\n",
    "```plaintext  \n",
    "Input: nums1 = [1, 2, 2, 1], nums2 = [2, 2]  \n",
    "Output: [2]  \n",
    "\n",
    "Input: nums1 = [4, 9, 5], nums2 = [9, 4, 9, 8, 4]  \n",
    "Output: [9, 4]  "
   ]
  },
  {
   "cell_type": "code",
   "execution_count": 113,
   "id": "129095e4-dd8a-4d6d-a2a5-a125544db381",
   "metadata": {
    "tags": []
   },
   "outputs": [],
   "source": [
    "def intersection(nums1: list[int], nums2: list[int]):\n",
    "    set1 = set(nums1)\n",
    "    set2 = set(nums2)\n",
    "    return list(set2 & set1)"
   ]
  },
  {
   "cell_type": "code",
   "execution_count": 115,
   "id": "b9c3aeaf-85a2-47bd-bfb6-d665a6a6d7c5",
   "metadata": {
    "tags": []
   },
   "outputs": [
    {
     "data": {
      "text/plain": [
       "[1, 2, 20, 5]"
      ]
     },
     "execution_count": 115,
     "metadata": {},
     "output_type": "execute_result"
    }
   ],
   "source": [
    "l = [1,2,5,5,5,5,5,6,2,2,1,20]\n",
    "r = [1,2,5,5,5,4,20,20]\n",
    "intersection(l,r)"
   ]
  },
  {
   "cell_type": "code",
   "execution_count": 117,
   "id": "430dc02d-3fa2-455b-91c6-8cf820c76eaf",
   "metadata": {
    "tags": []
   },
   "outputs": [],
   "source": [
    "def intersection(nums1: list[int], nums2: list[int]) -> list[int]:\n",
    "    res = []\n",
    "    d = {}\n",
    "    for i in nums1:\n",
    "        d[i] = d.get(i,0) + 1\n",
    "    \n",
    "    for i in nums2:\n",
    "        if i in d and d[i] > 0:\n",
    "            res.append(i)\n",
    "            d[i] -= 1\n",
    "    return res"
   ]
  },
  {
   "cell_type": "code",
   "execution_count": 119,
   "id": "c7da9c64-766d-4c28-8576-6ddef7d70f78",
   "metadata": {
    "tags": []
   },
   "outputs": [
    {
     "data": {
      "text/plain": [
       "[1, 2, 5, 5, 5, 20]"
      ]
     },
     "execution_count": 119,
     "metadata": {},
     "output_type": "execute_result"
    }
   ],
   "source": [
    "intersection(l,r)"
   ]
  },
  {
   "cell_type": "markdown",
   "id": "615f3b26-7128-42c5-a3f9-8daca28d9150",
   "metadata": {},
   "source": [
    "# Longest Substring Without Repeating Characters\n",
    "\n",
    "Given a string `s`, find the length of the longest substring without repeating characters.\n",
    "\n",
    "\n",
    "```plaintext  \n",
    "Input: s = \"abcabcbb\"  \n",
    "Output: 3  \n",
    "Explanation: The longest substring without repeating characters is \"abc\", with length 3. \n",
    "\n",
    "Input: s = \"bbbbb\"  \n",
    "Output: 1  \n",
    "Explanation: The longest substring without repeating characters is \"b\", with length 1.  "
   ]
  },
  {
   "cell_type": "code",
   "execution_count": 122,
   "id": "d48454a4-ccfc-4aac-baf7-e4348411ce0b",
   "metadata": {
    "tags": []
   },
   "outputs": [],
   "source": [
    "def lengthOfLongestSubstring(s: str) -> int:\n",
    "    result = 0\n",
    "    left = 0\n",
    "    known_chars = set()\n",
    "    \n",
    "    for right, right_char in enumerate(s):\n",
    "        while right_char in known_chars:\n",
    "            known_chars.remove(s[left])\n",
    "            left += 1\n",
    "        known_chars.add(right_char)\n",
    "        result = max(result, right - left + 1)\n",
    "    return result"
   ]
  },
  {
   "cell_type": "code",
   "execution_count": 124,
   "id": "2db84bc7-8174-474a-b896-9786d28f7e1a",
   "metadata": {
    "tags": []
   },
   "outputs": [
    {
     "data": {
      "text/plain": [
       "4"
      ]
     },
     "execution_count": 124,
     "metadata": {},
     "output_type": "execute_result"
    }
   ],
   "source": [
    "lengthOfLongestSubstring('trcgrerer')"
   ]
  },
  {
   "cell_type": "markdown",
   "id": "c6905123-684c-4c9f-9cc8-e42543363440",
   "metadata": {},
   "source": [
    "# Valid Anagram\n",
    "**Easy**\n",
    "\n",
    "**Topics:** Companies\n",
    "\n",
    "Given two strings `s` and `t`, return `true` if `t` is an anagram of `s`, and `false` otherwise.\n",
    "\n",
    "\n",
    "\n",
    "**Example 1:**\n",
    "\n",
    "```plaintext  \n",
    "Input: s = \"anagram\", t = \"nagaram\"  \n",
    "Output: true\n",
    "\n",
    "Input: s = \"rat\", t = \"car\"  \n",
    "Output: false  "
   ]
  },
  {
   "cell_type": "code",
   "execution_count": 127,
   "id": "2c3bcad1-44bc-473d-a777-303d078971b1",
   "metadata": {
    "tags": []
   },
   "outputs": [],
   "source": [
    "def isAnagram(s: str, t: str) -> bool:\n",
    "    if len(s) != len(t):\n",
    "        return False\n",
    "    \n",
    "    d = {}\n",
    "    for i in s:\n",
    "        d[i] = d.get(i,0) + 1\n",
    "        \n",
    "    for i in t:\n",
    "        if i not in d or d[i] == 0:\n",
    "            return False\n",
    "        d[i] -= 1\n",
    "        \n",
    "    return True\n",
    "        "
   ]
  },
  {
   "cell_type": "code",
   "execution_count": 129,
   "id": "1599c20f-8881-4c13-9ab6-bba5b8f96c2c",
   "metadata": {
    "tags": []
   },
   "outputs": [
    {
     "data": {
      "text/plain": [
       "True"
      ]
     },
     "execution_count": 129,
     "metadata": {},
     "output_type": "execute_result"
    }
   ],
   "source": [
    "isAnagram('арка','кара')"
   ]
  },
  {
   "cell_type": "markdown",
   "id": "c1cd647e-2d97-4c6e-b558-5bb29a2d5c54",
   "metadata": {},
   "source": [
    "# Best Time to Buy and Sell Stock\n",
    "**Easy**\n",
    "\n",
    "- Companies\n",
    "\n",
    "You are given an array `prices` where `prices[i]` is the price of a given stock on day `i`.\n",
    "\n",
    "Your goal is to maximize your profit by choosing a single day to buy one stock and a future day to sell that stock.\n",
    "\n",
    "Return the maximum profit possible from this transaction. If no profit can be made, return 0.\n",
    "\n",
    "---\n",
    "\n",
    "```plaintext  \n",
    "Input: prices = [7,1,5,3,6,4]  \n",
    "Output: 5  \n",
    "Explanation: Buy on day 2 (price = 1) and sell on day 5 (price = 6), profit = 6 - 1 = 5.  \n",
    "Note: Buying on day 2 and selling on day 1 is not allowed because the sell day must come after the buy day.  \n",
    "\n",
    "Input: prices = [7,6,4,3,1]  \n",
    "Output: 0  \n",
    "Explanation: No profitable transaction is possible, so max profit = 0.  "
   ]
  },
  {
   "cell_type": "code",
   "execution_count": 132,
   "id": "82a41ed0-790d-4a4c-b860-fc22c5897ecc",
   "metadata": {
    "tags": []
   },
   "outputs": [],
   "source": [
    "def maxProfit(prices: list[int]) -> int:\n",
    "    res = 0 \n",
    "    lowest = prices[0]\n",
    "    \n",
    "    for i in prices:\n",
    "        if i < lowest:\n",
    "            lowest = i\n",
    "        res = max(res, i - lowest)\n",
    "    \n",
    "    return res"
   ]
  },
  {
   "cell_type": "code",
   "execution_count": 134,
   "id": "7626b09c-acd1-48d3-b332-3f26b2ee43e6",
   "metadata": {
    "tags": []
   },
   "outputs": [
    {
     "data": {
      "text/plain": [
       "6"
      ]
     },
     "execution_count": 134,
     "metadata": {},
     "output_type": "execute_result"
    }
   ],
   "source": [
    "prices = [1,2,7,3,2]\n",
    "\n",
    "maxProfit(prices)"
   ]
  },
  {
   "cell_type": "code",
   "execution_count": 136,
   "id": "0e4cde60-99f3-421c-b4d9-17035f1030e0",
   "metadata": {
    "tags": []
   },
   "outputs": [
    {
     "data": {
      "text/plain": [
       "range(0, 6)"
      ]
     },
     "execution_count": 136,
     "metadata": {},
     "output_type": "execute_result"
    }
   ],
   "source": [
    "l =[0,1,2,5,3]\n",
    "range(len(l)+1)"
   ]
  },
  {
   "cell_type": "markdown",
   "id": "2b000fe9-91c9-4d96-95f5-6aff5df1ac2b",
   "metadata": {},
   "source": [
    "# Missing Number\n",
    "\n",
    "**Easy**  \n",
    "*Topics*: Arrays, Mathematics\n",
    "\n",
    "---\n",
    "\n",
    "Given an array `nums` containing `n` **distinct** numbers in the range `[0, n]`, return the one number in this range that is missing from the array.\n",
    "\n",
    "---\n",
    "\n",
    "```plaintext  \n",
    "Input: nums = [3, 0, 1]  \n",
    "Output: 2  \n",
    "\n",
    "Input: nums = [0, 1]  \n",
    "Output: 2 \n",
    "Explanation:\n",
    "\n",
    "n = 2.\n",
    "The range [0, 2] includes 0, 1, 2.\n",
    "0 and 1 are present, so 2 is missing."
   ]
  },
  {
   "cell_type": "code",
   "execution_count": 139,
   "id": "6838467d-7545-414d-83d7-2618e263a8d4",
   "metadata": {
    "tags": []
   },
   "outputs": [],
   "source": [
    "# Через сортировку O(nlogn)\n",
    "def missingNumber(nums: list[int]) -> int:\n",
    "    nums.sort()  # Сортируем массив\n",
    "\n",
    "    for i in range(len(nums)):\n",
    "        if nums[i] != i:\n",
    "            return i  # Нашли расхождение — это и есть пропущенное число\n",
    "\n",
    "    return len(nums)  # Если все элементы на месте, то пропущено число n\n"
   ]
  },
  {
   "cell_type": "code",
   "execution_count": 141,
   "id": "792ddd39-48a4-4a1c-b175-98fc5c954750",
   "metadata": {
    "tags": []
   },
   "outputs": [
    {
     "data": {
      "text/plain": [
       "4"
      ]
     },
     "execution_count": 141,
     "metadata": {},
     "output_type": "execute_result"
    }
   ],
   "source": [
    "l =[0,1,2,5,3]\n",
    "missingNumber(l)"
   ]
  },
  {
   "cell_type": "code",
   "execution_count": 115,
   "id": "878c5086-bc0d-4c29-8466-36163674e11e",
   "metadata": {
    "tags": []
   },
   "outputs": [],
   "source": [
    "# Без сортировки \n",
    "def missingNumber(nums: list[int]) -> int:\n",
    "    return sum(range(len(nums) + 1)) - sum(nums)"
   ]
  },
  {
   "cell_type": "code",
   "execution_count": 117,
   "id": "d0a7d056-a93b-405f-94b5-b64dea57f175",
   "metadata": {
    "tags": []
   },
   "outputs": [
    {
     "data": {
      "text/plain": [
       "4"
      ]
     },
     "execution_count": 117,
     "metadata": {},
     "output_type": "execute_result"
    }
   ],
   "source": [
    "l =[0,1,2,5,3]\n",
    "missingNumber(l)"
   ]
  },
  {
   "cell_type": "code",
   "execution_count": 124,
   "id": "4393109e-82ad-40a1-8794-d6de7e6006ae",
   "metadata": {
    "tags": []
   },
   "outputs": [
    {
     "data": {
      "text/plain": [
       "range(0, 5)"
      ]
     },
     "execution_count": 124,
     "metadata": {},
     "output_type": "execute_result"
    }
   ],
   "source": [
    "range(len([0,1,2,5,3]))"
   ]
  },
  {
   "cell_type": "markdown",
   "id": "0d5e48d4-d76b-4d47-b7c2-cb4768a5185e",
   "metadata": {},
   "source": [
    "# Maximize Distance to Closest Person\n",
    "**Solved**  \n",
    "**Medium**  \n",
    "**Topics:** Array, Greedy\n",
    "\n",
    "---\n",
    "\n",
    "**Problem Statement**\n",
    "\n",
    "You are given an array `seats` representing a row of seats, where:\n",
    "- `seats[i] = 1` indicates a seat occupied by a person,\n",
    "- `seats[i] = 0` indicates an empty seat.\n",
    "\n",
    "There is at least **one empty seat** and **at least one person sitting**.\n",
    "\n",
    "Alex wants to sit in an empty seat such that the **distance to the closest person** to him is **maximized**.\n",
    "\n",
    "Return the **maximum** such distance.\n",
    "\n",
    "**Example Explanation**\n",
    "\n",
    "For the input:\n",
    "\n",
    "```python  \n",
    "seats = [1, 0, 0, 0, 1, 0, 1]\n",
    "output 2"
   ]
  },
  {
   "cell_type": "code",
   "execution_count": 148,
   "id": "885558f7-d47b-42aa-957f-cf9bc6f73594",
   "metadata": {
    "tags": []
   },
   "outputs": [],
   "source": [
    "def maxDistToClosest(seats: list[int]) -> int:\n",
    "    res, prev = 0, -1\n",
    "    for i in range(len(seats)):\n",
    "        if seats[i] == 1:\n",
    "            dist = i if prev == -1 else (i - prev)//2\n",
    "            res = max(res, dist)\n",
    "            prev = i\n",
    "                \n",
    "    if seats[i] == 0: #check last seat edge-case\n",
    "        res = max(res, i - prev)\n",
    "\n",
    "    return res\n",
    "            \n",
    "    "
   ]
  },
  {
   "cell_type": "code",
   "execution_count": 150,
   "id": "33e4d1b8-fae2-4884-b408-d1a855cf67fc",
   "metadata": {
    "tags": []
   },
   "outputs": [
    {
     "data": {
      "text/plain": [
       "3"
      ]
     },
     "execution_count": 150,
     "metadata": {},
     "output_type": "execute_result"
    }
   ],
   "source": [
    "l = [1,0,0,0,0,0,0,1,0,0,0]\n",
    "maxDistToClosest(l)"
   ]
  },
  {
   "cell_type": "markdown",
   "id": "0f99021a-a78e-418c-ae35-41066aabb0c3",
   "metadata": {},
   "source": [
    "# Функция по определенеию работающих клавиш\n",
    "\n",
    "\n",
    "   Хорошо работаю клавиши: a = a. Плохо работающие клавиши: b = bb. Плохая клавиша всегда дублирует значение. На входе строка. Вывести ТОЧНО правильно работающие клавиши\n",
    "   \n",
    "\n",
    "Ввод: abbccb\n",
    "Вывод: ab\n"
   ]
  },
  {
   "cell_type": "code",
   "execution_count": 306,
   "id": "786329eb-e479-4c1c-a34d-b4ddb09b511e",
   "metadata": {
    "tags": []
   },
   "outputs": [],
   "source": [
    "def find_good_keys(s: str) -> str:\n",
    "    result = ''\n",
    "    i = 0\n",
    "    while i < len(s):\n",
    "        # если есть дубликат (плохая клавиша)\n",
    "        if i + 1 < len(s) and s[i] == s[i + 1]:\n",
    "            i += 2  # пропускаем оба\n",
    "        else:\n",
    "            result += s[i]\n",
    "            i += 1\n",
    "    return result"
   ]
  },
  {
   "cell_type": "code",
   "execution_count": null,
   "id": "3c23d29b-9694-4b06-853f-ef89dd30fb4f",
   "metadata": {},
   "outputs": [],
   "source": []
  },
  {
   "cell_type": "markdown",
   "id": "14963d7b-a936-4ce4-91ca-be9f5b4b1c06",
   "metadata": {
    "tags": []
   },
   "source": [
    "# Функция бутстрапа"
   ]
  },
  {
   "cell_type": "code",
   "execution_count": 381,
   "id": "26d4c343-0ee1-48c4-aa9e-afa68a3f5ebb",
   "metadata": {
    "tags": []
   },
   "outputs": [],
   "source": [
    "def bootstrap(arr,alpha=0.05,percentile=50):\n",
    "    result = []\n",
    "    for _ in range(1,1000):\n",
    "        a = np.random.choice(arr,size = 1000, replace = True)\n",
    "        result.append(np.percentile(a,percentile))\n",
    "    \n",
    "    c = stats.norm.ppf(1 - alpha / 2)\n",
    "    std = np.std(result)\n",
    "    stat = np.percentile(a,percentile)\n",
    "    left,right = stat - c * std, stat + c * std ## Нормальный доверительный интервал\n",
    "    \n",
    "    l,r =  np.percentile(result, 100 * alpha / 2), np.percentile(result, 100 * (1 - alpha / 2)) # Персентильный доверительный интервал\n",
    "\n",
    "    return left,right,l,r"
   ]
  },
  {
   "cell_type": "code",
   "execution_count": 383,
   "id": "335e7493-acde-4982-847d-bae57b75b2f4",
   "metadata": {
    "tags": []
   },
   "outputs": [
    {
     "data": {
      "text/plain": [
       "(12.60064291489222, 14.752591961144255, 12.741295426502077, 14.56511756387822)"
      ]
     },
     "execution_count": 383,
     "metadata": {},
     "output_type": "execute_result"
    }
   ],
   "source": [
    "arr = np.random.exponential(scale = 10, size = 1000)\n",
    "bootstrap(arr,percentile = 75)"
   ]
  },
  {
   "cell_type": "code",
   "execution_count": 51,
   "id": "8a2f2ceb-736a-40b5-affe-63677d99029d",
   "metadata": {},
   "outputs": [],
   "source": [
    "def d(word: str,letter: str) -> int:\n",
    "    d = {}\n",
    "    for i in word:\n",
    "        d[i] = d.get(i,0) + 1\n",
    "    return d[letter]"
   ]
  },
  {
   "cell_type": "code",
   "execution_count": 57,
   "id": "d6e98cd8-6645-4c08-a9b3-dfac8a786ae1",
   "metadata": {
    "tags": []
   },
   "outputs": [
    {
     "data": {
      "text/plain": [
       "1"
      ]
     },
     "execution_count": 57,
     "metadata": {},
     "output_type": "execute_result"
    }
   ],
   "source": [
    "d('параллепипед','д')"
   ]
  },
  {
   "cell_type": "code",
   "execution_count": null,
   "id": "72010352-c7d9-4693-bafe-c9e86790818c",
   "metadata": {},
   "outputs": [],
   "source": []
  }
 ],
 "metadata": {
  "kernelspec": {
   "display_name": "Python 3 (ipykernel)",
   "language": "python",
   "name": "python3"
  },
  "language_info": {
   "codemirror_mode": {
    "name": "ipython",
    "version": 3
   },
   "file_extension": ".py",
   "mimetype": "text/x-python",
   "name": "python",
   "nbconvert_exporter": "python",
   "pygments_lexer": "ipython3",
   "version": "3.11.7"
  },
  "toc-autonumbering": false
 },
 "nbformat": 4,
 "nbformat_minor": 5
}
