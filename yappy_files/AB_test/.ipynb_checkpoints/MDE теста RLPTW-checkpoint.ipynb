{
 "cells": [
  {
   "cell_type": "code",
   "execution_count": 1,
   "id": "1fc12b8e-6063-48df-90b6-68f0859f859f",
   "metadata": {
    "tags": []
   },
   "outputs": [],
   "source": [
    "import pandas as pd\n",
    "import psycopg2\n",
    "import matplotlib.pyplot as plt\n",
    "import matplotlib.ticker as ticker\n",
    "import numpy as np\n",
    "import seaborn as sns \n",
    "import statsmodels.stats.proportion as proportion\n",
    "from scipy.stats import ttest_ind,mannwhitneyu,shapiro,norm\n",
    "from statsmodels.stats.weightstats import ztest\n",
    "from tqdm import tqdm\n",
    "import timeit\n",
    "from scipy import stats\n",
    "from sqlalchemy import create_engine\n",
    "import math\n",
    "from datetime import date, datetime, timedelta\n",
    "import time\n",
    "from sqlalchemy import create_engine, text\n",
    "from sqlalchemy.orm import sessionmaker\n",
    "\n",
    "import warnings\n",
    "warnings.filterwarnings(\"ignore\")\n",
    "\n",
    "def get_engine(db_name):\n",
    "    if db_name == 'antares':\n",
    "        user='k.mekhtiev'\n",
    "        password='Geehu8kie8heo7aikohquohkeiX3Oa'\n",
    "        host='10.250.201.21'\n",
    "        engine = create_engine(f'postgresql://{user}:{password}@{host}:5432/{db_name}')\n",
    "    elif db_name == 'dwh':\n",
    "        user='k.mekhtiev'\n",
    "        password='fsOwuFsj1XIU'\n",
    "        host='10.250.201.241'\n",
    "        dbname='dwh'\n",
    "        engine = create_engine(f'postgresql://{user}:{password}@{host}:5432/{db_name}')\n",
    "    return engine\n",
    "        \n",
    "\n",
    "\n",
    "\n",
    "def execute(SQL, db_name = 'dwh'):\n",
    "    start_time = time.time()  # запоминаем время начала выполнения функции\n",
    "    engine = get_engine(db_name)\n",
    "    Session = sessionmaker(bind=engine)  # sessions factory ()\n",
    "    with Session() as session: # open session\n",
    "        result = session.execute(text(SQL))\n",
    "        df = pd.DataFrame(result.fetchall(), columns=result.keys())\n",
    "        \n",
    "    end_time = time.time()  # запоминаем время окончания выполнения функции\n",
    "    execution_time = end_time - start_time  # вычисляем время выполнения   \n",
    "    \n",
    "    print(f\"Время выполнения функции: {execution_time} секунд\")\n",
    "    return df\n",
    "    "
   ]
  },
  {
   "cell_type": "code",
   "execution_count": 2,
   "id": "15ba592c-7a65-4422-af43-a4e3f8238346",
   "metadata": {
    "tags": []
   },
   "outputs": [
    {
     "name": "stdout",
     "output_type": "stream",
     "text": [
      "Время выполнения функции: 8.975752353668213 секунд\n"
     ]
    }
   ],
   "source": [
    "begin_date = datetime.strptime('2024-04-10', '%Y-%m-%d')\n",
    "end_date = datetime.strptime('2024-04-16', '%Y-%m-%d')\n",
    "cuped_date = begin_date - timedelta(days = 7) \n",
    "\n",
    "\n",
    "query =f''' SELECT\n",
    "                    date_msk,\n",
    "                    lower(device_id) AS device_id,\n",
    "                    CASE WHEN profile_uuid IS NOT NULL THEN 'Зарег' ELSE 'Незарег' END profile_type,\n",
    "                    score_str,\n",
    "                    client AS os_name,\n",
    "                    bot_flag,\n",
    "                    sum(ttl_depth_ms)/1000 AS watchtime,\n",
    "                    count(DISTINCT date_msk)  AS cnt_day\n",
    "                    FROM dds.fct_dds_backend_streams_watchtime_by_user\n",
    "                    WHERE reference=1 AND date_msk BETWEEN '{cuped_date}' AND '{end_date}'\n",
    "                    GROUP BY 1,2,3,4,5,6\n",
    "\n",
    "                    '''\n",
    "\n",
    "df_watchtime = execute(query,db_name='dwh')\n",
    "df_watchtime['date_msk'] = df_watchtime['date_msk'].astype('datetime64[ns]')\n",
    "df_watchtime = df_watchtime.dropna(subset=['watchtime'])\n",
    "df_watchtime['watchtime'] = df_watchtime['watchtime'].astype('float')"
   ]
  },
  {
   "cell_type": "code",
   "execution_count": 3,
   "id": "9cb97a82-f408-4798-9bb8-dfd3b4262d18",
   "metadata": {
    "tags": []
   },
   "outputs": [
    {
     "name": "stdout",
     "output_type": "stream",
     "text": [
      "Время выполнения функции: 21.658643007278442 секунд\n"
     ]
    }
   ],
   "source": [
    "query2 =  f''' SELECT  \n",
    "                    yappy_device_uuid::TEXT,\n",
    "                    max(os_name) AS os_name,\n",
    "                    max(device_manufacturer) AS device_manufacturer,\n",
    "                    max(country_type) AS  country_type,\n",
    "                    max(device_model) AS device_model,\n",
    "                    max(app_version_name) AS app_version_name\n",
    "                    FROM dds.fct_dds_clear_appm_events\n",
    "                    WHERE event_date_msk BETWEEN '{cuped_date}' AND '{end_date}'\n",
    "                    AND event_name IN ('video_visible','video_watch','video_watched','video_add_like','video_add_comment','video_share')\n",
    "                    AND reference='tape'\n",
    "                    group by 1\n",
    "                    '''\n",
    "\n",
    "df_appmetrica = execute(query2,db_name='dwh')"
   ]
  },
  {
   "cell_type": "code",
   "execution_count": 4,
   "id": "37a7c5df-202e-4a52-9e04-776d5b72d6b5",
   "metadata": {
    "tags": []
   },
   "outputs": [
    {
     "name": "stdout",
     "output_type": "stream",
     "text": [
      "Время выполнения функции: 1.467519760131836 секунд\n"
     ]
    }
   ],
   "source": [
    "query3 = f''' SELECT yappy_device_uuid::TEXT FROM dds.fct_dds_appm_first_event_device_uuid_app_open\n",
    "                   WHERE event_date_msk BETWEEN '{cuped_date}' AND '{end_date}'\n",
    "                    '''\n",
    "\n",
    "df_new_user = execute(query3,db_name='dwh')"
   ]
  },
  {
   "cell_type": "markdown",
   "id": "de9e1ef4-3510-453f-aef0-077a2337ff24",
   "metadata": {},
   "source": [
    "# Код для просмотра watchtime за неделю "
   ]
  },
  {
   "cell_type": "code",
   "execution_count": null,
   "id": "f7f4d677-29ab-4b3e-a7d2-32030c0d5d0d",
   "metadata": {
    "tags": []
   },
   "outputs": [],
   "source": [
    "# list_date = pd.date_range('2024-01-01', '2024-02-22', freq='D')"
   ]
  },
  {
   "cell_type": "code",
   "execution_count": null,
   "id": "4659c8c9-e27e-49be-b509-4c3a63e14965",
   "metadata": {
    "tags": []
   },
   "outputs": [],
   "source": [
    "# import psycopg2\n",
    "# connection =psycopg2.connect(\n",
    "#                              database=\"dwh\",\n",
    "#                              host=\"10.250.201.241\",\n",
    "#                              password=\"fsOwuFsj1XIU\",\n",
    "#                              port=\"5432\",\n",
    "#                              user=\"k.mekhtiev\",\n",
    "#                              ) \n",
    "# with connection.cursor() as cursor:\n",
    "#     for date in list_date:\n",
    "#             query_delete = f\"delete from sandbox.mekhtiev_watcthime_7_days where date_msk = '{date}'\"\n",
    "#             cursor.execute(query_delete)\n",
    "#             print(f'Дата {date} удалена из таблицы')\n",
    "#             query = f\"\"\"INSERT INTO sandbox.mekhtiev_watcthime_7_days\n",
    "#                             SELECT \n",
    "#                                 '{date}'::date AS date_msk,\n",
    "#                                  CASE WHEN profile_uuid IS NULL THEN 0 ELSE 1 END AS profile_type,\n",
    "#                                  sum(CASE WHEN date_msk<'2024-01-18' THEN  ttl_depth*1000 ELSE ttl_depth_ms END)/1000 AS watchtime,\n",
    "#                                  sum(cnt_video) AS broadcast,\n",
    "#                                  count(distinct device_id) AS cnt_user \n",
    "#                             FROM dds.fct_dds_backend_streams_watchtime_by_user\n",
    "#                             WHERE \n",
    "#                                reference=1 AND bot_flag=0 AND  date_msk BETWEEN '{date}'::date - interval '6' DAY AND '{date}'::date\n",
    "#                                group by 1,2\"\"\"\n",
    "#             cursor.execute(query)\n",
    "#             print(f'Дата {date} загружена в таблицу') \n",
    "\n",
    "# connection.commit()\n",
    "# connection.close()"
   ]
  },
  {
   "cell_type": "markdown",
   "id": "c2e70b55-2bf4-4074-8d65-abec79dcd9fd",
   "metadata": {},
   "source": [
    "# Объединим фреймворки"
   ]
  },
  {
   "cell_type": "code",
   "execution_count": 5,
   "id": "ff84dfc1-2f24-436d-9218-fa5f9f044698",
   "metadata": {
    "tags": []
   },
   "outputs": [
    {
     "data": {
      "text/html": [
       "<div>\n",
       "<style scoped>\n",
       "    .dataframe tbody tr th:only-of-type {\n",
       "        vertical-align: middle;\n",
       "    }\n",
       "\n",
       "    .dataframe tbody tr th {\n",
       "        vertical-align: top;\n",
       "    }\n",
       "\n",
       "    .dataframe thead th {\n",
       "        text-align: right;\n",
       "    }\n",
       "</style>\n",
       "<table border=\"1\" class=\"dataframe\">\n",
       "  <thead>\n",
       "    <tr style=\"text-align: right;\">\n",
       "      <th></th>\n",
       "      <th>date_msk</th>\n",
       "      <th>device_id</th>\n",
       "      <th>profile_type</th>\n",
       "      <th>os_name</th>\n",
       "      <th>score_str</th>\n",
       "      <th>bot_flag</th>\n",
       "      <th>device_manufacturer</th>\n",
       "      <th>country_type</th>\n",
       "      <th>device_model</th>\n",
       "      <th>app_version_name</th>\n",
       "      <th>watchtime</th>\n",
       "    </tr>\n",
       "  </thead>\n",
       "  <tbody>\n",
       "    <tr>\n",
       "      <th>0</th>\n",
       "      <td>2024-04-11</td>\n",
       "      <td>fd9e7893-1afa-3881-a657-42a96343d859</td>\n",
       "      <td>Незарег</td>\n",
       "      <td>1</td>\n",
       "      <td>ok</td>\n",
       "      <td>0</td>\n",
       "      <td>Infinix</td>\n",
       "      <td>Россия</td>\n",
       "      <td>Infinix X6831</td>\n",
       "      <td>1.49.0</td>\n",
       "      <td>58.750</td>\n",
       "    </tr>\n",
       "    <tr>\n",
       "      <th>1</th>\n",
       "      <td>2024-04-11</td>\n",
       "      <td>265f07b2-31a7-3274-8f82-cbecee98d7ee</td>\n",
       "      <td>Зарег</td>\n",
       "      <td>1</td>\n",
       "      <td>low</td>\n",
       "      <td>0</td>\n",
       "      <td>Tecno</td>\n",
       "      <td>Россия</td>\n",
       "      <td>TECNO POVA 4 Pro</td>\n",
       "      <td>1.50.1</td>\n",
       "      <td>2069.876</td>\n",
       "    </tr>\n",
       "    <tr>\n",
       "      <th>2</th>\n",
       "      <td>2024-04-11</td>\n",
       "      <td>7436ad48-f683-3620-bf37-f675878ab52c</td>\n",
       "      <td>Незарег</td>\n",
       "      <td>1</td>\n",
       "      <td>low</td>\n",
       "      <td>0</td>\n",
       "      <td>Samsung</td>\n",
       "      <td>Россия</td>\n",
       "      <td>Galaxy M01s</td>\n",
       "      <td>1.53.0</td>\n",
       "      <td>8.984</td>\n",
       "    </tr>\n",
       "    <tr>\n",
       "      <th>3</th>\n",
       "      <td>2024-04-11</td>\n",
       "      <td>ae8a3914-d473-31e2-b30e-9eb742a39b62</td>\n",
       "      <td>Незарег</td>\n",
       "      <td>1</td>\n",
       "      <td>low</td>\n",
       "      <td>0</td>\n",
       "      <td>Redmi</td>\n",
       "      <td>Россия</td>\n",
       "      <td>Redmi 9C NFC</td>\n",
       "      <td>1.49.0</td>\n",
       "      <td>0.509</td>\n",
       "    </tr>\n",
       "    <tr>\n",
       "      <th>4</th>\n",
       "      <td>2024-04-11</td>\n",
       "      <td>086aa788-9760-445f-82bf-01b152ee8d03</td>\n",
       "      <td>Зарег</td>\n",
       "      <td>0</td>\n",
       "      <td>None</td>\n",
       "      <td>0</td>\n",
       "      <td>Apple</td>\n",
       "      <td>Россия</td>\n",
       "      <td>iPhone 13 Pro</td>\n",
       "      <td>1.54.0</td>\n",
       "      <td>1.002</td>\n",
       "    </tr>\n",
       "    <tr>\n",
       "      <th>...</th>\n",
       "      <td>...</td>\n",
       "      <td>...</td>\n",
       "      <td>...</td>\n",
       "      <td>...</td>\n",
       "      <td>...</td>\n",
       "      <td>...</td>\n",
       "      <td>...</td>\n",
       "      <td>...</td>\n",
       "      <td>...</td>\n",
       "      <td>...</td>\n",
       "      <td>...</td>\n",
       "    </tr>\n",
       "    <tr>\n",
       "      <th>1297227</th>\n",
       "      <td>2024-04-07</td>\n",
       "      <td>7069d449-3fb0-36e9-8186-4f04700ade31</td>\n",
       "      <td>Незарег</td>\n",
       "      <td>1</td>\n",
       "      <td>low</td>\n",
       "      <td>0</td>\n",
       "      <td>Realme</td>\n",
       "      <td>Россия</td>\n",
       "      <td>realme 10</td>\n",
       "      <td>1.49.0</td>\n",
       "      <td>0.000</td>\n",
       "    </tr>\n",
       "    <tr>\n",
       "      <th>1297228</th>\n",
       "      <td>2024-04-07</td>\n",
       "      <td>b56002e3-b9d4-3519-9beb-d3bcd5170fdb</td>\n",
       "      <td>Незарег</td>\n",
       "      <td>1</td>\n",
       "      <td>low</td>\n",
       "      <td>0</td>\n",
       "      <td>Redmi</td>\n",
       "      <td>Россия</td>\n",
       "      <td>Redmi 9C NFC</td>\n",
       "      <td>1.49.0</td>\n",
       "      <td>1599.690</td>\n",
       "    </tr>\n",
       "    <tr>\n",
       "      <th>1297229</th>\n",
       "      <td>2024-04-09</td>\n",
       "      <td>f0d7cabe-c244-3772-81b8-0c55c165be53</td>\n",
       "      <td>Незарег</td>\n",
       "      <td>1</td>\n",
       "      <td>low</td>\n",
       "      <td>0</td>\n",
       "      <td>Xiaomi</td>\n",
       "      <td>Россия</td>\n",
       "      <td>Mi 10i</td>\n",
       "      <td>1.49.0</td>\n",
       "      <td>284.433</td>\n",
       "    </tr>\n",
       "    <tr>\n",
       "      <th>1297230</th>\n",
       "      <td>2024-04-07</td>\n",
       "      <td>c0a7ff79-3f04-34aa-93b7-0728d8de7611</td>\n",
       "      <td>Незарег</td>\n",
       "      <td>1</td>\n",
       "      <td>low</td>\n",
       "      <td>0</td>\n",
       "      <td>Oppo</td>\n",
       "      <td>Россия</td>\n",
       "      <td>A52 中国版</td>\n",
       "      <td>1.49.0</td>\n",
       "      <td>19.845</td>\n",
       "    </tr>\n",
       "    <tr>\n",
       "      <th>1297231</th>\n",
       "      <td>2024-04-07</td>\n",
       "      <td>08eafbc6-1690-34ae-90ee-5e65dd8e5204</td>\n",
       "      <td>Зарег</td>\n",
       "      <td>1</td>\n",
       "      <td>low</td>\n",
       "      <td>0</td>\n",
       "      <td>POCO</td>\n",
       "      <td>Россия</td>\n",
       "      <td>POCO X3 Pro</td>\n",
       "      <td>1.52.0</td>\n",
       "      <td>67.789</td>\n",
       "    </tr>\n",
       "  </tbody>\n",
       "</table>\n",
       "<p>1297232 rows × 11 columns</p>\n",
       "</div>"
      ],
      "text/plain": [
       "          date_msk                             device_id profile_type  \\\n",
       "0       2024-04-11  fd9e7893-1afa-3881-a657-42a96343d859      Незарег   \n",
       "1       2024-04-11  265f07b2-31a7-3274-8f82-cbecee98d7ee        Зарег   \n",
       "2       2024-04-11  7436ad48-f683-3620-bf37-f675878ab52c      Незарег   \n",
       "3       2024-04-11  ae8a3914-d473-31e2-b30e-9eb742a39b62      Незарег   \n",
       "4       2024-04-11  086aa788-9760-445f-82bf-01b152ee8d03        Зарег   \n",
       "...            ...                                   ...          ...   \n",
       "1297227 2024-04-07  7069d449-3fb0-36e9-8186-4f04700ade31      Незарег   \n",
       "1297228 2024-04-07  b56002e3-b9d4-3519-9beb-d3bcd5170fdb      Незарег   \n",
       "1297229 2024-04-09  f0d7cabe-c244-3772-81b8-0c55c165be53      Незарег   \n",
       "1297230 2024-04-07  c0a7ff79-3f04-34aa-93b7-0728d8de7611      Незарег   \n",
       "1297231 2024-04-07  08eafbc6-1690-34ae-90ee-5e65dd8e5204        Зарег   \n",
       "\n",
       "         os_name score_str  bot_flag device_manufacturer country_type  \\\n",
       "0              1        ok         0             Infinix       Россия   \n",
       "1              1       low         0               Tecno       Россия   \n",
       "2              1       low         0             Samsung       Россия   \n",
       "3              1       low         0               Redmi       Россия   \n",
       "4              0      None         0               Apple       Россия   \n",
       "...          ...       ...       ...                 ...          ...   \n",
       "1297227        1       low         0              Realme       Россия   \n",
       "1297228        1       low         0               Redmi       Россия   \n",
       "1297229        1       low         0              Xiaomi       Россия   \n",
       "1297230        1       low         0                Oppo       Россия   \n",
       "1297231        1       low         0                POCO       Россия   \n",
       "\n",
       "             device_model app_version_name  watchtime  \n",
       "0           Infinix X6831           1.49.0     58.750  \n",
       "1        TECNO POVA 4 Pro           1.50.1   2069.876  \n",
       "2             Galaxy M01s           1.53.0      8.984  \n",
       "3            Redmi 9C NFC           1.49.0      0.509  \n",
       "4           iPhone 13 Pro           1.54.0      1.002  \n",
       "...                   ...              ...        ...  \n",
       "1297227         realme 10           1.49.0      0.000  \n",
       "1297228      Redmi 9C NFC           1.49.0   1599.690  \n",
       "1297229            Mi 10i           1.49.0    284.433  \n",
       "1297230           A52 中国版           1.49.0     19.845  \n",
       "1297231       POCO X3 Pro           1.52.0     67.789  \n",
       "\n",
       "[1297232 rows x 11 columns]"
      ]
     },
     "execution_count": 5,
     "metadata": {},
     "output_type": "execute_result"
    }
   ],
   "source": [
    "df_watchtime_merge = (pd.merge(df_watchtime,\n",
    "                              df_appmetrica[['yappy_device_uuid','device_manufacturer','country_type','device_model','app_version_name']],\n",
    "                              right_on='yappy_device_uuid',left_on='device_id',how='left')\n",
    "                              [['date_msk','device_id','profile_type','os_name','score_str','bot_flag','device_manufacturer','country_type','device_model','app_version_name','watchtime']]\n",
    "                     )\n",
    "df_watchtime_merge"
   ]
  },
  {
   "cell_type": "code",
   "execution_count": 6,
   "id": "f4c65418-2467-4eb1-b5ba-9cafe80e1ed0",
   "metadata": {
    "tags": []
   },
   "outputs": [],
   "source": [
    "df_watchtime_merge = (pd.merge(df_watchtime_merge,\n",
    "                              df_new_user,\n",
    "                              right_on='yappy_device_uuid',left_on='device_id',how='left',indicator='new_type')\n",
    "                              [['date_msk','device_id','profile_type','os_name','score_str','bot_flag','device_manufacturer','country_type','device_model','watchtime','new_type','app_version_name']]\n",
    "                     )\n",
    "df_watchtime_merge['new_type'].replace({'left_only':'Удержанные','right_only':'Удержанные','both':'Новые'},inplace=True)\n",
    "df_watchtime_merge['new_type'] = df_watchtime_merge['new_type'].astype('object')\n"
   ]
  },
  {
   "cell_type": "code",
   "execution_count": 7,
   "id": "cc71977c-cec4-40fb-be51-cdab9c41c4ea",
   "metadata": {
    "tags": []
   },
   "outputs": [
    {
     "data": {
      "text/html": [
       "<div>\n",
       "<style scoped>\n",
       "    .dataframe tbody tr th:only-of-type {\n",
       "        vertical-align: middle;\n",
       "    }\n",
       "\n",
       "    .dataframe tbody tr th {\n",
       "        vertical-align: top;\n",
       "    }\n",
       "\n",
       "    .dataframe thead th {\n",
       "        text-align: right;\n",
       "    }\n",
       "</style>\n",
       "<table border=\"1\" class=\"dataframe\">\n",
       "  <thead>\n",
       "    <tr style=\"text-align: right;\">\n",
       "      <th></th>\n",
       "      <th>profile_type</th>\n",
       "      <th>new_type</th>\n",
       "      <th>device_id</th>\n",
       "      <th>frac</th>\n",
       "    </tr>\n",
       "  </thead>\n",
       "  <tbody>\n",
       "    <tr>\n",
       "      <th>0</th>\n",
       "      <td>Зарег</td>\n",
       "      <td>Новые</td>\n",
       "      <td>27305</td>\n",
       "      <td>0.369036</td>\n",
       "    </tr>\n",
       "    <tr>\n",
       "      <th>1</th>\n",
       "      <td>Зарег</td>\n",
       "      <td>Удержанные</td>\n",
       "      <td>46685</td>\n",
       "      <td>0.630964</td>\n",
       "    </tr>\n",
       "    <tr>\n",
       "      <th>2</th>\n",
       "      <td>Незарег</td>\n",
       "      <td>Новые</td>\n",
       "      <td>212996</td>\n",
       "      <td>0.664968</td>\n",
       "    </tr>\n",
       "    <tr>\n",
       "      <th>3</th>\n",
       "      <td>Незарег</td>\n",
       "      <td>Удержанные</td>\n",
       "      <td>107314</td>\n",
       "      <td>0.335032</td>\n",
       "    </tr>\n",
       "  </tbody>\n",
       "</table>\n",
       "</div>"
      ],
      "text/plain": [
       "  profile_type    new_type  device_id      frac\n",
       "0        Зарег       Новые      27305  0.369036\n",
       "1        Зарег  Удержанные      46685  0.630964\n",
       "2      Незарег       Новые     212996  0.664968\n",
       "3      Незарег  Удержанные     107314  0.335032"
      ]
     },
     "execution_count": 7,
     "metadata": {},
     "output_type": "execute_result"
    }
   ],
   "source": [
    "# Проверка долей в разных срезах\n",
    "checking = df_watchtime_merge[(df_watchtime_merge['date_msk']>=begin_date) & (df_watchtime_merge['date_msk']<=end_date) & (df_watchtime_merge['bot_flag']==0)].groupby(['profile_type','new_type'])['device_id'].nunique().reset_index()\n",
    "checking['frac'] = checking['device_id'] / checking.groupby('profile_type')['device_id'].transform('sum')\n",
    "checking"
   ]
  },
  {
   "cell_type": "markdown",
   "id": "f2a3dc27-bbf6-49b8-b47a-e38457dcdea9",
   "metadata": {
    "tags": []
   },
   "source": [
    "## Число бакетов в тесте, % namespace и % события experiment_empty"
   ]
  },
  {
   "cell_type": "code",
   "execution_count": 8,
   "id": "985be356-0610-4452-b477-f59966a4bdc9",
   "metadata": {
    "tags": []
   },
   "outputs": [],
   "source": [
    "num_of_bucket = 2\n",
    "namespace = 1 # процент пользователей в тесте от всех пользователей \n",
    "gb_split = 0.55 # процент пользователей, кто получает событие experiment_empty  от всех тех, кто получил группу эксперимента"
   ]
  },
  {
   "cell_type": "markdown",
   "id": "39a0f5aa-6943-4ddf-8eb4-ee43dce1b32f",
   "metadata": {},
   "source": [
    "### Функция для сегментации "
   ]
  },
  {
   "cell_type": "code",
   "execution_count": 9,
   "id": "e12d999c-8acf-446a-8c4b-d1ee212e9a82",
   "metadata": {
    "tags": []
   },
   "outputs": [],
   "source": [
    "def segment(df, type, pre_experimental_week):\n",
    "    if type == 'Все пользователи' and pre_experimental_week == 'not_required':\n",
    "        return df[(df['date_msk'] >= begin_date) & (df['date_msk'] <= end_date) & (df['bot_flag'] == 0) & (~df['score_str'].isin(['mid', 'high'])) & (df['app_version_name'] != '1.49.0')]\n",
    "    elif type == 'Все пользователи' and pre_experimental_week == 'required':\n",
    "        return df[(df['date_msk'] >= cuped_date) & (df['date_msk'] < begin_date) & (df['bot_flag'] == 0) & (~df['score_str'].isin(['mid', 'high'])) & (df['app_version_name'] != '1.49.0')]\n",
    "    \n",
    "    elif type == 'Зареги' and pre_experimental_week == 'not_required':\n",
    "        return df[(df['date_msk'] >= begin_date) & (df['date_msk'] <= end_date) & (df['bot_flag'] == 0) & (~df['score_str'].isin(['mid', 'high'])) & (df['profile_type'] == 'Зарег') & (df['app_version_name'] != '1.49.0')]\n",
    "    elif type == 'Зареги' and pre_experimental_week == 'required':\n",
    "        return df[(df['date_msk'] >= cuped_date) & (df['date_msk'] < begin_date) & (df['bot_flag'] == 0) & (~df['score_str'].isin(['mid', 'high'])) & (df['profile_type'] == 'Зарег') & (df['app_version_name'] != '1.49.0')]\n",
    "    \n",
    "    elif type == 'Незареги' and pre_experimental_week == 'not_required':\n",
    "        return df[(df['date_msk'] >= begin_date) & (df['date_msk'] <= end_date) & (df['bot_flag'] == 0) & (~df['score_str'].isin(['mid', 'high'])) & (df['profile_type'] == 'Незарег') & (df['app_version_name'] != '1.49.0')]\n",
    "    elif type == 'Незареги' and pre_experimental_week == 'required':\n",
    "        return df[(df['date_msk'] >= cuped_date) & (df['date_msk'] < begin_date) & (df['bot_flag'] == 0) & (~df['score_str'].isin(['mid', 'high'])) & (df['profile_type'] == 'Незарег') & (df['app_version_name'] != '1.49.0')]\n",
    "    else:\n",
    "        return df"
   ]
  },
  {
   "cell_type": "markdown",
   "id": "1560dc99-5605-4845-9d3c-b5b1a076ca42",
   "metadata": {},
   "source": [
    "## Выбираем сегмент (\"Все пользователи\"/\"Зареги\"/\"Незареги\")"
   ]
  },
  {
   "cell_type": "code",
   "execution_count": 10,
   "id": "c499c8ba-512e-401a-aa23-0658101daa35",
   "metadata": {
    "tags": []
   },
   "outputs": [],
   "source": [
    "df_watchtime_2 = segment(df_watchtime_merge,type = 'Все пользователи',pre_experimental_week = 'not_required')\n",
    "df_watchtime_agg = df_watchtime_2.groupby(['device_id','os_name','device_manufacturer','country_type','device_model','new_type','app_version_name'])['watchtime'].sum().reset_index()"
   ]
  },
  {
   "cell_type": "code",
   "execution_count": 11,
   "id": "17a84158-ab30-4817-a39e-f9a5fb54b3b4",
   "metadata": {
    "tags": []
   },
   "outputs": [
    {
     "name": "stdout",
     "output_type": "stream",
     "text": [
      "     watchtime\n",
      "1      0.00000\n",
      "2      0.00000\n",
      "3      0.00000\n",
      "4      0.00000\n",
      "5      0.00000\n",
      "6      0.00000\n",
      "7      0.00000\n",
      "8      0.00000\n",
      "9      0.00000\n",
      "10     0.03200\n",
      "25     3.80300\n",
      "50    30.33800\n",
      "75   196.89900\n",
      "80   305.44760\n",
      "85   379.32980\n",
      "90   431.31300\n",
      "91   458.31336\n",
      "92   498.55160\n",
      "93   571.36848\n",
      "94   691.00644\n",
      "95   856.56440\n",
      "96  1091.72508\n",
      "97  1468.52020\n",
      "98  2138.55492\n",
      "99  3882.12820\n",
      "\n",
      "Дисперсия watchtime: 1156149\n",
      "Число пользователей: 150929\n",
      "Средний watchtime, мин: 4.277\n"
     ]
    }
   ],
   "source": [
    "quantiles=[1,2,3,4,5,6,7,8,9,10,25,50,75,80,85,90,91,92,93,94,95,96,97,98,99]\n",
    "columns = ['watchtime']\n",
    "\n",
    "\n",
    "# пустой df для хранения результатов\n",
    "quantiles_data = pd.DataFrame(index=quantiles, columns=columns)\n",
    "\n",
    "for i in columns:\n",
    "    data = df_watchtime_agg[i].dropna()\n",
    "    quantile_values = np.percentile(data, quantiles)\n",
    "    quantiles_data[i] = quantile_values\n",
    "\n",
    "print(quantiles_data)\n",
    "print()\n",
    "print('Дисперсия watchtime:',round(df_watchtime_agg['watchtime'].var()))\n",
    "print('Число пользователей:',round(df_watchtime_agg['device_id'].nunique()))\n",
    "print('Средний watchtime, мин:',round(df_watchtime_agg['watchtime'].mean()/60,3))"
   ]
  },
  {
   "cell_type": "markdown",
   "id": "f2c19917-8b48-482f-a527-a96efefbf31a",
   "metadata": {},
   "source": [
    "### Функция расчета абсолютного и относительного MDE при разных квантилях "
   ]
  },
  {
   "cell_type": "code",
   "execution_count": 12,
   "id": "4fa8215d-e881-40d2-93ec-06abf9da7d85",
   "metadata": {
    "tags": []
   },
   "outputs": [],
   "source": [
    "def mde_estimated_absolute (ttl_users,var,alpha,beta):\n",
    "        t_alpha = stats.norm.ppf(1 - alpha /(num_of_bucket - 1) / 2, loc=0, scale=1)\n",
    "        t_beta = stats.norm.ppf(1 - beta, loc=0, scale=1)\n",
    "        var = 2 * var\n",
    "        MDE=(t_alpha+t_beta) * np.sqrt(var  / ttl_users)\n",
    "        return MDE"
   ]
  },
  {
   "cell_type": "code",
   "execution_count": 13,
   "id": "6585324f-e317-43cc-8979-d4dd6bd864b0",
   "metadata": {
    "tags": []
   },
   "outputs": [
    {
     "name": "stdout",
     "output_type": "stream",
     "text": [
      "MDE абсолютный: 20.9108\n",
      "MDE относительный: 0.0815\n",
      "Средний watchtime за неделю: 256.6314\n",
      "Дисперсия 1156149.2207\n",
      "Число пользователей 41506\n"
     ]
    }
   ],
   "source": [
    "ttl_users = math.ceil(df_watchtime_agg['device_id'].nunique() * namespace * gb_split / num_of_bucket)\n",
    "var = df_watchtime_agg['watchtime'].var()\n",
    "mean = df_watchtime_agg['watchtime'].mean()\n",
    "\n",
    "mde_absolute=mde_estimated_absolute(ttl_users,var,0.05,0.2)\n",
    "MDE = mde_absolute / mean\n",
    "\n",
    "print('MDE абсолютный:',round(mde_absolute,4))\n",
    "print('MDE относительный:',round(MDE,4))\n",
    "print('Средний watchtime за неделю:',round(mean,4))\n",
    "print('Дисперсия',round(var,4)) \n",
    "print('Число пользователей',math.ceil(ttl_users))"
   ]
  },
  {
   "cell_type": "markdown",
   "id": "18865110-0e32-4923-978d-e3b8c340d867",
   "metadata": {},
   "source": [
    "## Исключение выбросов"
   ]
  },
  {
   "cell_type": "markdown",
   "id": "f37bed7f-a00d-44fa-9eb8-3009e399b149",
   "metadata": {},
   "source": [
    "### Квантильный анализ"
   ]
  },
  {
   "cell_type": "code",
   "execution_count": 14,
   "id": "47b01de2-fad6-492a-acc0-f5e5a2e4a629",
   "metadata": {
    "tags": []
   },
   "outputs": [
    {
     "name": "stdout",
     "output_type": "stream",
     "text": [
      "\n",
      "Квантиль: 99.99\n",
      "MDE абсолютный: 19.4657\n",
      "MDE относительный: 0.0771\n",
      "Средний watchtime за неделю: 252.6269\n",
      "Дисперсия 1001773.1438\n",
      "Число пользователей 41502\n",
      "\n",
      "Квантиль: 99.9\n",
      "MDE абсолютный: 15.2954\n",
      "MDE относительный: 0.0653\n",
      "Средний watchtime за неделю: 234.4002\n",
      "Дисперсия 617951.2609\n",
      "Число пользователей 41464\n",
      "\n",
      "Квантиль: 99\n",
      "MDE абсолютный: 7.5404\n",
      "MDE относительный: 0.0433\n",
      "Средний watchtime за неделю: 174.1819\n",
      "Дисперсия 148832.1071\n",
      "Число пользователей 41091\n",
      "\n",
      "Квантиль: 98\n",
      "MDE абсолютный: 5.3499\n",
      "MDE относительный: 0.0364\n",
      "Средний watchtime за неделю: 146.8917\n",
      "Дисперсия 74165.1122\n",
      "Число пользователей 40676\n",
      "\n",
      "Квантиль: 97\n",
      "MDE абсолютный: 4.296\n",
      "MDE относительный: 0.033\n",
      "Средний watchtime за неделю: 130.227\n",
      "Дисперсия 47334.8367\n",
      "Число пользователей 40261\n",
      "\n",
      "Квантиль: 96\n",
      "MDE абсолютный: 3.6725\n",
      "MDE относительный: 0.031\n",
      "Средний watchtime за неделю: 118.4391\n",
      "Дисперсия 34234.4828\n",
      "Число пользователей 39846\n",
      "\n",
      "Квантиль: 95\n",
      "MDE абсолютный: 3.2727\n",
      "MDE относительный: 0.0299\n",
      "Средний watchtime за неделю: 109.5168\n",
      "Дисперсия 26903.3663\n",
      "Число пользователей 39431\n"
     ]
    }
   ],
   "source": [
    "percentile = [99.99,99.9,99,98,97,96,95]\n",
    "var_df = pd.DataFrame(columns=['percentile','var','cnt_user'])\n",
    "\n",
    "for p in percentile:\n",
    "    qnt = df_watchtime_agg[(df_watchtime_agg['watchtime']<np.percentile(df_watchtime_agg['watchtime'],p))]\n",
    "    qnt_users = math.ceil(qnt['device_id'].nunique() * namespace * gb_split / num_of_bucket)\n",
    "    var = qnt['watchtime'].var()\n",
    "    mean = qnt['watchtime'].mean()\n",
    "    \n",
    "    mde_absolute=mde_estimated_absolute(qnt_users,var,0.05,0.2)\n",
    "    MDE = mde_absolute / mean\n",
    "    var_df.loc[len(var_df)] = [p, int(var),math.ceil(qnt_users)]\n",
    "    print()\n",
    "    print('Квантиль:',p)\n",
    "    print('MDE абсолютный:',round(mde_absolute,4))\n",
    "    print('MDE относительный:',round(MDE,4))\n",
    "    print('Средний watchtime за неделю:',round(mean,4))\n",
    "    print('Дисперсия',round(var,4)) \n",
    "    print('Число пользователей',math.ceil(qnt_users))"
   ]
  },
  {
   "cell_type": "code",
   "execution_count": 15,
   "id": "4e05281f-16f7-4cf0-b915-a69708ca1440",
   "metadata": {
    "tags": []
   },
   "outputs": [
    {
     "data": {
      "text/html": [
       "<div>\n",
       "<style scoped>\n",
       "    .dataframe tbody tr th:only-of-type {\n",
       "        vertical-align: middle;\n",
       "    }\n",
       "\n",
       "    .dataframe tbody tr th {\n",
       "        vertical-align: top;\n",
       "    }\n",
       "\n",
       "    .dataframe thead th {\n",
       "        text-align: right;\n",
       "    }\n",
       "</style>\n",
       "<table border=\"1\" class=\"dataframe\">\n",
       "  <thead>\n",
       "    <tr style=\"text-align: right;\">\n",
       "      <th></th>\n",
       "      <th>percentile</th>\n",
       "      <th>var</th>\n",
       "      <th>cnt_user</th>\n",
       "      <th>var_frac</th>\n",
       "    </tr>\n",
       "  </thead>\n",
       "  <tbody>\n",
       "    <tr>\n",
       "      <th>0</th>\n",
       "      <td>99.99</td>\n",
       "      <td>1001773.0</td>\n",
       "      <td>41502.0</td>\n",
       "      <td>1.000000</td>\n",
       "    </tr>\n",
       "    <tr>\n",
       "      <th>1</th>\n",
       "      <td>99.90</td>\n",
       "      <td>617951.0</td>\n",
       "      <td>41464.0</td>\n",
       "      <td>1.621120</td>\n",
       "    </tr>\n",
       "    <tr>\n",
       "      <th>2</th>\n",
       "      <td>99.00</td>\n",
       "      <td>148832.0</td>\n",
       "      <td>41091.0</td>\n",
       "      <td>6.730898</td>\n",
       "    </tr>\n",
       "    <tr>\n",
       "      <th>3</th>\n",
       "      <td>98.00</td>\n",
       "      <td>74165.0</td>\n",
       "      <td>40676.0</td>\n",
       "      <td>13.507355</td>\n",
       "    </tr>\n",
       "    <tr>\n",
       "      <th>4</th>\n",
       "      <td>97.00</td>\n",
       "      <td>47334.0</td>\n",
       "      <td>40261.0</td>\n",
       "      <td>21.163920</td>\n",
       "    </tr>\n",
       "    <tr>\n",
       "      <th>5</th>\n",
       "      <td>96.00</td>\n",
       "      <td>34234.0</td>\n",
       "      <td>39846.0</td>\n",
       "      <td>29.262517</td>\n",
       "    </tr>\n",
       "    <tr>\n",
       "      <th>6</th>\n",
       "      <td>95.00</td>\n",
       "      <td>26903.0</td>\n",
       "      <td>39431.0</td>\n",
       "      <td>37.236479</td>\n",
       "    </tr>\n",
       "  </tbody>\n",
       "</table>\n",
       "</div>"
      ],
      "text/plain": [
       "   percentile        var  cnt_user   var_frac\n",
       "0       99.99  1001773.0   41502.0   1.000000\n",
       "1       99.90   617951.0   41464.0   1.621120\n",
       "2       99.00   148832.0   41091.0   6.730898\n",
       "3       98.00    74165.0   40676.0  13.507355\n",
       "4       97.00    47334.0   40261.0  21.163920\n",
       "5       96.00    34234.0   39846.0  29.262517\n",
       "6       95.00    26903.0   39431.0  37.236479"
      ]
     },
     "execution_count": 15,
     "metadata": {},
     "output_type": "execute_result"
    }
   ],
   "source": [
    "var_df['var_frac'] = (1 - var_df['var']/var_df.iloc[0,1]) * 100\n",
    "var_df['var_frac'] = var_df.iloc[0,1] / var_df['var']\n",
    "var_df"
   ]
  },
  {
   "cell_type": "markdown",
   "id": "14059baa-2dbe-44f3-bd30-6391e322c798",
   "metadata": {},
   "source": [
    "### Создание датафрейма без выбросов"
   ]
  },
  {
   "cell_type": "code",
   "execution_count": 16,
   "id": "81a10522-c511-4d5a-9511-e0d3bd885927",
   "metadata": {
    "tags": []
   },
   "outputs": [
    {
     "data": {
      "image/png": "[encoded data removed]",
      "text/plain": [
       "<Figure size 1000x700 with 1 Axes>"
      ]
     },
     "metadata": {},
     "output_type": "display_data"
    }
   ],
   "source": [
    "df_watchtime_agg_wo_outlier = df_watchtime_agg[(df_watchtime_agg['watchtime']<np.percentile(df_watchtime_agg['watchtime'],95))]\n",
    "plt.figure(figsize=(10,7))\n",
    "sns.histplot(data = df_watchtime_agg_wo_outlier,x='watchtime')\n",
    "plt.show()"
   ]
  },
  {
   "cell_type": "code",
   "execution_count": 17,
   "id": "3f111230-e9c1-414f-aba8-08048975eb95",
   "metadata": {
    "tags": []
   },
   "outputs": [
    {
     "name": "stdout",
     "output_type": "stream",
     "text": [
      "MDE абсолютный: 3.2727\n",
      "MDE относительный: 0.0299\n",
      "Средний watchtime за неделю: 109.5168\n",
      "Дисперсия 26903.3663\n",
      "Число пользователей 39431\n"
     ]
    }
   ],
   "source": [
    "ttl_users = math.ceil(df_watchtime_agg_wo_outlier['device_id'].nunique() * namespace * gb_split / num_of_bucket)\n",
    "var = df_watchtime_agg_wo_outlier['watchtime'].var()\n",
    "mean = df_watchtime_agg_wo_outlier['watchtime'].mean()\n",
    "mde_absolute=mde_estimated_absolute(ttl_users,var,0.05,0.2)\n",
    "MDE = mde_absolute / mean\n",
    "\n",
    "print('MDE абсолютный:',round(mde_absolute,4))\n",
    "print('MDE относительный:',round(MDE,4))\n",
    "print('Средний watchtime за неделю:',round(mean,4))\n",
    "print('Дисперсия',round(var,4)) \n",
    "print('Число пользователей',math.ceil(ttl_users))"
   ]
  },
  {
   "cell_type": "code",
   "execution_count": 18,
   "id": "9833215e-87be-4642-a80a-b39d2ce135c0",
   "metadata": {
    "tags": []
   },
   "outputs": [],
   "source": [
    "# Проверка\n",
    "def estimate_sample_size(effect, var, alpha, beta):\n",
    "    \"\"\"Оценка необходимого размер групп.\"\"\"\n",
    "    t_alpha = stats.norm.ppf(1 - alpha /(num_of_bucket - 1) / 2, loc=0, scale=1)\n",
    "    t_beta = stats.norm.ppf(1 - beta, loc=0, scale=1)\n",
    "    var = 2 * var \n",
    "    sample_size = int((t_alpha + t_beta) ** 2 * var / (effect ** 2))\n",
    "    return sample_size\n"
   ]
  },
  {
   "cell_type": "code",
   "execution_count": 19,
   "id": "374fc5ab-1487-4e14-858d-25e251ea67cf",
   "metadata": {
    "tags": []
   },
   "outputs": [
    {
     "data": {
      "text/plain": [
       "39431"
      ]
     },
     "execution_count": 19,
     "metadata": {},
     "output_type": "execute_result"
    }
   ],
   "source": [
    "estimate_sample_size(mde_absolute,var,0.05,0.2)"
   ]
  },
  {
   "cell_type": "markdown",
   "id": "a9271a4a-babb-4696-995e-313563406d48",
   "metadata": {},
   "source": [
    "## Постстратификация + CUPED (только по удержанным)"
   ]
  },
  {
   "cell_type": "markdown",
   "id": "43371677-63b6-442e-b012-065f2a192880",
   "metadata": {},
   "source": [
    "### Функция для CUPED"
   ]
  },
  {
   "cell_type": "markdown",
   "id": "65cbff5b-e860-446c-b6dc-f6eb49286694",
   "metadata": {
    "tags": []
   },
   "source": [
    "### Подготовка датафрейма с предэксперементальной ковариатой (минус 1 неделя)  той же метрики"
   ]
  },
  {
   "cell_type": "code",
   "execution_count": 20,
   "id": "6fc26bab-e289-4973-8078-184e47f28001",
   "metadata": {
    "tags": []
   },
   "outputs": [],
   "source": [
    "df_watchtime_pre_1_week_agg = segment(df_watchtime_merge,type = 'Все пользователи',pre_experimental_week = 'required').groupby('device_id')['watchtime'].sum().reset_index()"
   ]
  },
  {
   "cell_type": "code",
   "execution_count": 21,
   "id": "ec45ff51-c8d2-4a34-a215-58c5ac3878cf",
   "metadata": {
    "tags": []
   },
   "outputs": [
    {
     "data": {
      "text/plain": [
       "new_type\n",
       "Новые         0.543653\n",
       "Удержанные    0.456347\n",
       "Name: proportion, dtype: float64"
      ]
     },
     "execution_count": 21,
     "metadata": {},
     "output_type": "execute_result"
    }
   ],
   "source": [
    "df_watchtime_agg['new_type'].value_counts(normalize=True)"
   ]
  },
  {
   "cell_type": "markdown",
   "id": "9f60cff2-72bb-4191-98f4-85f1b5970de9",
   "metadata": {},
   "source": [
    "### Объединение целевой метрики и ковариаты"
   ]
  },
  {
   "cell_type": "code",
   "execution_count": 22,
   "id": "74e05750-9892-4088-bc3b-6e765d6cf37c",
   "metadata": {
    "tags": []
   },
   "outputs": [],
   "source": [
    "df_watchtime_merge = pd.merge(df_watchtime_agg,df_watchtime_pre_1_week_agg,on='device_id',how='left')\n",
    "df_watchtime_merge.fillna(0,inplace=True)\n",
    "df_watchtime_merge.rename(columns = {'watchtime_x':'watchtime_experiment','watchtime_y':'watchtime_pre_experiment'},inplace=True)\n",
    "\n",
    "# df_watchtime_register_merge['pre_experiment_type'] = np.where(df_watchtime_register_merge['watchtime_pre_experiment'] != 0, 0, 1)"
   ]
  },
  {
   "cell_type": "code",
   "execution_count": 23,
   "id": "075a042c-cd6d-46ac-be16-bdb25425ef25",
   "metadata": {
    "tags": []
   },
   "outputs": [
    {
     "data": {
      "text/html": [
       "<div>\n",
       "<style scoped>\n",
       "    .dataframe tbody tr th:only-of-type {\n",
       "        vertical-align: middle;\n",
       "    }\n",
       "\n",
       "    .dataframe tbody tr th {\n",
       "        vertical-align: top;\n",
       "    }\n",
       "\n",
       "    .dataframe thead th {\n",
       "        text-align: right;\n",
       "    }\n",
       "</style>\n",
       "<table border=\"1\" class=\"dataframe\">\n",
       "  <thead>\n",
       "    <tr style=\"text-align: right;\">\n",
       "      <th></th>\n",
       "      <th>device_id</th>\n",
       "      <th>os_name</th>\n",
       "      <th>device_manufacturer</th>\n",
       "      <th>country_type</th>\n",
       "      <th>device_model</th>\n",
       "      <th>new_type</th>\n",
       "      <th>app_version_name</th>\n",
       "      <th>watchtime_experiment</th>\n",
       "      <th>watchtime_pre_experiment</th>\n",
       "    </tr>\n",
       "  </thead>\n",
       "  <tbody>\n",
       "    <tr>\n",
       "      <th>0</th>\n",
       "      <td>00005950-1375-30e7-9054-780bd6446bef</td>\n",
       "      <td>1</td>\n",
       "      <td>Huawei</td>\n",
       "      <td>Россия</td>\n",
       "      <td>DUA-LX9</td>\n",
       "      <td>Новые</td>\n",
       "      <td>1.53.0</td>\n",
       "      <td>6.951</td>\n",
       "      <td>0.0</td>\n",
       "    </tr>\n",
       "    <tr>\n",
       "      <th>2</th>\n",
       "      <td>00014a36-2e01-354a-a795-96cb689a21fe</td>\n",
       "      <td>1</td>\n",
       "      <td>POCO</td>\n",
       "      <td>Россия</td>\n",
       "      <td>POCO M4 Pro</td>\n",
       "      <td>Новые</td>\n",
       "      <td>1.52.0</td>\n",
       "      <td>135.713</td>\n",
       "      <td>0.0</td>\n",
       "    </tr>\n",
       "    <tr>\n",
       "      <th>3</th>\n",
       "      <td>0001e169-973d-3349-b125-8607b67e8dee</td>\n",
       "      <td>1</td>\n",
       "      <td>Samsung</td>\n",
       "      <td>Россия</td>\n",
       "      <td>Galaxy A03</td>\n",
       "      <td>Новые</td>\n",
       "      <td>1.53.0</td>\n",
       "      <td>61.675</td>\n",
       "      <td>0.0</td>\n",
       "    </tr>\n",
       "    <tr>\n",
       "      <th>4</th>\n",
       "      <td>0001e7b6-ce91-32fb-840e-1f2e49b26eef</td>\n",
       "      <td>1</td>\n",
       "      <td>Huawei</td>\n",
       "      <td>Россия</td>\n",
       "      <td>BTK-W09</td>\n",
       "      <td>Новые</td>\n",
       "      <td>1.53.0</td>\n",
       "      <td>34.371</td>\n",
       "      <td>0.0</td>\n",
       "    </tr>\n",
       "    <tr>\n",
       "      <th>5</th>\n",
       "      <td>00026be7-4d02-327c-92b7-17dd7f20dc6c</td>\n",
       "      <td>1</td>\n",
       "      <td>Redmi</td>\n",
       "      <td>Россия</td>\n",
       "      <td>Redmi Note 10 Pro</td>\n",
       "      <td>Удержанные</td>\n",
       "      <td>1.46.0</td>\n",
       "      <td>21.201</td>\n",
       "      <td>0.0</td>\n",
       "    </tr>\n",
       "    <tr>\n",
       "      <th>7</th>\n",
       "      <td>0003f3d1-e483-310c-9ab7-beb53ebd5b0b</td>\n",
       "      <td>1</td>\n",
       "      <td>Xiaomi</td>\n",
       "      <td>Россия</td>\n",
       "      <td>Xiaomi Pad 6</td>\n",
       "      <td>Удержанные</td>\n",
       "      <td>1.50.1</td>\n",
       "      <td>1.151</td>\n",
       "      <td>0.0</td>\n",
       "    </tr>\n",
       "    <tr>\n",
       "      <th>8</th>\n",
       "      <td>000417d7-b3d3-3842-9a06-d17175771d9b</td>\n",
       "      <td>1</td>\n",
       "      <td>POCO</td>\n",
       "      <td>Россия</td>\n",
       "      <td>POCO M4 5G</td>\n",
       "      <td>Удержанные</td>\n",
       "      <td>1.50.1</td>\n",
       "      <td>0.000</td>\n",
       "      <td>0.0</td>\n",
       "    </tr>\n",
       "    <tr>\n",
       "      <th>9</th>\n",
       "      <td>00046281-b84e-3ea0-956b-36604984b8e3</td>\n",
       "      <td>1</td>\n",
       "      <td>Redmi</td>\n",
       "      <td>Россия</td>\n",
       "      <td>Redmi 9A</td>\n",
       "      <td>Новые</td>\n",
       "      <td>1.52.0</td>\n",
       "      <td>0.000</td>\n",
       "      <td>0.0</td>\n",
       "    </tr>\n",
       "    <tr>\n",
       "      <th>10</th>\n",
       "      <td>0004d030-7c96-3d9b-b456-a421dd4cff07</td>\n",
       "      <td>1</td>\n",
       "      <td>POCO</td>\n",
       "      <td>Россия</td>\n",
       "      <td>POCO X3 Pro</td>\n",
       "      <td>Удержанные</td>\n",
       "      <td>1.50.1</td>\n",
       "      <td>0.109</td>\n",
       "      <td>0.0</td>\n",
       "    </tr>\n",
       "    <tr>\n",
       "      <th>11</th>\n",
       "      <td>0004eebe-dec3-3b7f-a118-2801521e7ca9</td>\n",
       "      <td>1</td>\n",
       "      <td>Redmi</td>\n",
       "      <td>Россия</td>\n",
       "      <td>Redmi Note 12</td>\n",
       "      <td>Новые</td>\n",
       "      <td>1.52.0</td>\n",
       "      <td>1.936</td>\n",
       "      <td>0.0</td>\n",
       "    </tr>\n",
       "    <tr>\n",
       "      <th>12</th>\n",
       "      <td>0004ff0d-bfd1-340c-bc86-e6fc07e7d198</td>\n",
       "      <td>1</td>\n",
       "      <td>Redmi</td>\n",
       "      <td>Россия</td>\n",
       "      <td>Redmi 12C</td>\n",
       "      <td>Удержанные</td>\n",
       "      <td>1.50.1</td>\n",
       "      <td>626.479</td>\n",
       "      <td>0.0</td>\n",
       "    </tr>\n",
       "    <tr>\n",
       "      <th>13</th>\n",
       "      <td>0005130f-10c4-3383-854b-37cd8f4f4249</td>\n",
       "      <td>1</td>\n",
       "      <td>Realme</td>\n",
       "      <td>Россия</td>\n",
       "      <td>realme C21-Y</td>\n",
       "      <td>Удержанные</td>\n",
       "      <td>1.50.1</td>\n",
       "      <td>128.646</td>\n",
       "      <td>0.0</td>\n",
       "    </tr>\n",
       "    <tr>\n",
       "      <th>14</th>\n",
       "      <td>00054252-bec0-3a57-ba58-b0b7b881a6ff</td>\n",
       "      <td>1</td>\n",
       "      <td>Vivo</td>\n",
       "      <td>СНГ</td>\n",
       "      <td>T1</td>\n",
       "      <td>Удержанные</td>\n",
       "      <td>1.50.1</td>\n",
       "      <td>0.000</td>\n",
       "      <td>0.0</td>\n",
       "    </tr>\n",
       "    <tr>\n",
       "      <th>16</th>\n",
       "      <td>0005f0a3-30d2-32b5-9e5a-84b055cceae1</td>\n",
       "      <td>1</td>\n",
       "      <td>Oppo</td>\n",
       "      <td>Россия</td>\n",
       "      <td>A52 中国版</td>\n",
       "      <td>Новые</td>\n",
       "      <td>1.53.0</td>\n",
       "      <td>29.617</td>\n",
       "      <td>0.0</td>\n",
       "    </tr>\n",
       "    <tr>\n",
       "      <th>17</th>\n",
       "      <td>00070502-4b3e-3b9e-b9b3-85fd8a7dc1d8</td>\n",
       "      <td>1</td>\n",
       "      <td>Samsung</td>\n",
       "      <td>Россия</td>\n",
       "      <td>Galaxy A73 5G</td>\n",
       "      <td>Новые</td>\n",
       "      <td>1.53.0</td>\n",
       "      <td>385.619</td>\n",
       "      <td>0.0</td>\n",
       "    </tr>\n",
       "    <tr>\n",
       "      <th>19</th>\n",
       "      <td>00085162-d3f3-3281-a4bf-8b68416925b6</td>\n",
       "      <td>1</td>\n",
       "      <td>POCO</td>\n",
       "      <td>Россия</td>\n",
       "      <td>POCO M3 Pro 5G</td>\n",
       "      <td>Удержанные</td>\n",
       "      <td>1.47.0</td>\n",
       "      <td>23.298</td>\n",
       "      <td>0.0</td>\n",
       "    </tr>\n",
       "    <tr>\n",
       "      <th>21</th>\n",
       "      <td>00088894-1205-317d-afad-e38fa017cb20</td>\n",
       "      <td>1</td>\n",
       "      <td>Oppo</td>\n",
       "      <td>Россия</td>\n",
       "      <td>A52</td>\n",
       "      <td>Новые</td>\n",
       "      <td>1.53.0</td>\n",
       "      <td>85.420</td>\n",
       "      <td>0.0</td>\n",
       "    </tr>\n",
       "    <tr>\n",
       "      <th>22</th>\n",
       "      <td>0008b3b7-2530-35d7-b0f2-d0d24547c8cf</td>\n",
       "      <td>1</td>\n",
       "      <td>Google</td>\n",
       "      <td>Россия</td>\n",
       "      <td>G013B</td>\n",
       "      <td>Новые</td>\n",
       "      <td>1.53.0</td>\n",
       "      <td>322.830</td>\n",
       "      <td>0.0</td>\n",
       "    </tr>\n",
       "    <tr>\n",
       "      <th>23</th>\n",
       "      <td>0009220c-0257-3b74-b0d6-2b40faa641c1</td>\n",
       "      <td>1</td>\n",
       "      <td>TECNO MOBILE LIMITED</td>\n",
       "      <td>Россия</td>\n",
       "      <td>TECNO KG5n</td>\n",
       "      <td>Новые</td>\n",
       "      <td>1.53.0</td>\n",
       "      <td>20.248</td>\n",
       "      <td>0.0</td>\n",
       "    </tr>\n",
       "    <tr>\n",
       "      <th>24</th>\n",
       "      <td>000a4130-5a7f-3395-8904-f513b4d133a6</td>\n",
       "      <td>1</td>\n",
       "      <td>Samsung</td>\n",
       "      <td>Россия</td>\n",
       "      <td>Galaxy J8</td>\n",
       "      <td>Новые</td>\n",
       "      <td>1.50.1</td>\n",
       "      <td>1386.115</td>\n",
       "      <td>0.0</td>\n",
       "    </tr>\n",
       "  </tbody>\n",
       "</table>\n",
       "</div>"
      ],
      "text/plain": [
       "                               device_id  os_name   device_manufacturer  \\\n",
       "0   00005950-1375-30e7-9054-780bd6446bef        1                Huawei   \n",
       "2   00014a36-2e01-354a-a795-96cb689a21fe        1                  POCO   \n",
       "3   0001e169-973d-3349-b125-8607b67e8dee        1               Samsung   \n",
       "4   0001e7b6-ce91-32fb-840e-1f2e49b26eef        1                Huawei   \n",
       "5   00026be7-4d02-327c-92b7-17dd7f20dc6c        1                 Redmi   \n",
       "7   0003f3d1-e483-310c-9ab7-beb53ebd5b0b        1                Xiaomi   \n",
       "8   000417d7-b3d3-3842-9a06-d17175771d9b        1                  POCO   \n",
       "9   00046281-b84e-3ea0-956b-36604984b8e3        1                 Redmi   \n",
       "10  0004d030-7c96-3d9b-b456-a421dd4cff07        1                  POCO   \n",
       "11  0004eebe-dec3-3b7f-a118-2801521e7ca9        1                 Redmi   \n",
       "12  0004ff0d-bfd1-340c-bc86-e6fc07e7d198        1                 Redmi   \n",
       "13  0005130f-10c4-3383-854b-37cd8f4f4249        1                Realme   \n",
       "14  00054252-bec0-3a57-ba58-b0b7b881a6ff        1                  Vivo   \n",
       "16  0005f0a3-30d2-32b5-9e5a-84b055cceae1        1                  Oppo   \n",
       "17  00070502-4b3e-3b9e-b9b3-85fd8a7dc1d8        1               Samsung   \n",
       "19  00085162-d3f3-3281-a4bf-8b68416925b6        1                  POCO   \n",
       "21  00088894-1205-317d-afad-e38fa017cb20        1                  Oppo   \n",
       "22  0008b3b7-2530-35d7-b0f2-d0d24547c8cf        1                Google   \n",
       "23  0009220c-0257-3b74-b0d6-2b40faa641c1        1  TECNO MOBILE LIMITED   \n",
       "24  000a4130-5a7f-3395-8904-f513b4d133a6        1               Samsung   \n",
       "\n",
       "   country_type       device_model    new_type app_version_name  \\\n",
       "0        Россия            DUA-LX9       Новые           1.53.0   \n",
       "2        Россия        POCO M4 Pro       Новые           1.52.0   \n",
       "3        Россия         Galaxy A03       Новые           1.53.0   \n",
       "4        Россия            BTK-W09       Новые           1.53.0   \n",
       "5        Россия  Redmi Note 10 Pro  Удержанные           1.46.0   \n",
       "7        Россия       Xiaomi Pad 6  Удержанные           1.50.1   \n",
       "8        Россия         POCO M4 5G  Удержанные           1.50.1   \n",
       "9        Россия           Redmi 9A       Новые           1.52.0   \n",
       "10       Россия        POCO X3 Pro  Удержанные           1.50.1   \n",
       "11       Россия      Redmi Note 12       Новые           1.52.0   \n",
       "12       Россия          Redmi 12C  Удержанные           1.50.1   \n",
       "13       Россия       realme C21-Y  Удержанные           1.50.1   \n",
       "14          СНГ                 T1  Удержанные           1.50.1   \n",
       "16       Россия            A52 中国版       Новые           1.53.0   \n",
       "17       Россия      Galaxy A73 5G       Новые           1.53.0   \n",
       "19       Россия     POCO M3 Pro 5G  Удержанные           1.47.0   \n",
       "21       Россия                A52       Новые           1.53.0   \n",
       "22       Россия              G013B       Новые           1.53.0   \n",
       "23       Россия         TECNO KG5n       Новые           1.53.0   \n",
       "24       Россия          Galaxy J8       Новые           1.50.1   \n",
       "\n",
       "    watchtime_experiment  watchtime_pre_experiment  \n",
       "0                  6.951                       0.0  \n",
       "2                135.713                       0.0  \n",
       "3                 61.675                       0.0  \n",
       "4                 34.371                       0.0  \n",
       "5                 21.201                       0.0  \n",
       "7                  1.151                       0.0  \n",
       "8                  0.000                       0.0  \n",
       "9                  0.000                       0.0  \n",
       "10                 0.109                       0.0  \n",
       "11                 1.936                       0.0  \n",
       "12               626.479                       0.0  \n",
       "13               128.646                       0.0  \n",
       "14                 0.000                       0.0  \n",
       "16                29.617                       0.0  \n",
       "17               385.619                       0.0  \n",
       "19                23.298                       0.0  \n",
       "21                85.420                       0.0  \n",
       "22               322.830                       0.0  \n",
       "23                20.248                       0.0  \n",
       "24              1386.115                       0.0  "
      ]
     },
     "execution_count": 23,
     "metadata": {},
     "output_type": "execute_result"
    }
   ],
   "source": [
    "df_watchtime_merge[df_watchtime_merge['watchtime_pre_experiment']==0][:20]"
   ]
  },
  {
   "cell_type": "code",
   "execution_count": 24,
   "id": "892bb5c2-0d25-4833-a88c-46c96507fe57",
   "metadata": {
    "tags": []
   },
   "outputs": [],
   "source": [
    "df_watchtime_agg_wo_outlier = df_watchtime_agg[(df_watchtime_agg['watchtime']<np.percentile(df_watchtime_agg['watchtime'],95))]\n",
    "df_watchtime_pre_1_week_agg_wo_oultier =  df_watchtime_pre_1_week_agg[(df_watchtime_pre_1_week_agg['watchtime']<np.percentile(df_watchtime_pre_1_week_agg['watchtime'],95))]\n",
    "\n",
    "\n",
    "df_watchtime_merge_wo_oultier = pd.merge(df_watchtime_agg_wo_outlier,df_watchtime_pre_1_week_agg_wo_oultier,on='device_id',how='left')\n",
    "df_watchtime_merge_wo_oultier.fillna(0,inplace=True)\n",
    "df_watchtime_merge_wo_oultier.rename(columns = {'watchtime_x':'watchtime_experiment','watchtime_y':'watchtime_pre_experiment'},inplace=True)"
   ]
  },
  {
   "cell_type": "markdown",
   "id": "bb0262a6-685e-45fe-a7da-d2fc10131728",
   "metadata": {},
   "source": [
    "### Функция для расчета CUPED и Постратификации "
   ]
  },
  {
   "cell_type": "code",
   "execution_count": 25,
   "id": "745470d2-97cf-44d3-80c0-00469065c835",
   "metadata": {
    "tags": []
   },
   "outputs": [],
   "source": [
    "def calculate_theta(y_control, y_pilot, x_control, x_pilot):\n",
    "    \"\"\"Вычисляем Theta по данным двух групп \"\"\"\n",
    "    y = np.hstack([y_control, y_pilot])\n",
    "    x = np.hstack([x_control, x_pilot])\n",
    "    covariance = np.cov(x, y)[0, 1]\n",
    "    variance = x.var()\n",
    "    theta = covariance / variance\n",
    "    return theta "
   ]
  },
  {
   "cell_type": "code",
   "execution_count": 26,
   "id": "52552c19-7bfb-4c7b-a33f-602400e8728c",
   "metadata": {
    "tags": []
   },
   "outputs": [
    {
     "name": "stdout",
     "output_type": "stream",
     "text": [
      "theta = 0.3040453166121646\n"
     ]
    }
   ],
   "source": [
    "ttl_users = math.ceil(df_watchtime_agg['device_id'].nunique() * namespace * gb_split / num_of_bucket)\n",
    "df_control_wo_outlier_strat_cuped = df_watchtime_merge_wo_oultier.sample(n=ttl_users, replace=True)\n",
    "df_pilot_wo_outlier_strat_cuped = df_watchtime_merge_wo_oultier.sample(n=ttl_users, replace=True)\n",
    "\n",
    "theta = calculate_theta (\n",
    "                        df_control_wo_outlier_strat_cuped[df_control_wo_outlier_strat_cuped['new_type']=='Удержанные']['watchtime_experiment'], df_pilot_wo_outlier_strat_cuped[df_pilot_wo_outlier_strat_cuped['new_type']=='Удержанные']['watchtime_experiment'],\n",
    "                        df_control_wo_outlier_strat_cuped[df_control_wo_outlier_strat_cuped['new_type']=='Удержанные']['watchtime_pre_experiment'], df_pilot_wo_outlier_strat_cuped[df_pilot_wo_outlier_strat_cuped['new_type']=='Удержанные']['watchtime_pre_experiment']\n",
    "                        )\n",
    "\n",
    "print(f'theta = {theta}')"
   ]
  },
  {
   "cell_type": "code",
   "execution_count": 27,
   "id": "f3c9a963-cc06-4d3c-b2fc-7643323613b8",
   "metadata": {
    "tags": []
   },
   "outputs": [
    {
     "name": "stderr",
     "output_type": "stream",
     "text": [
      "100%|██████████| 1000/1000 [00:01<00:00, 693.87it/s]\n"
     ]
    },
    {
     "data": {
      "image/png": "[encoded data removed]",
      "text/plain": [
       "<Figure size 600x300 with 1 Axes>"
      ]
     },
     "metadata": {},
     "output_type": "display_data"
    }
   ],
   "source": [
    "plt.figure(figsize=(6,3))\n",
    "thetas = np.linspace(0.0, 0.8, 1000)\n",
    "list_var_control = []\n",
    "list_var_pilot = []\n",
    "df_control_wo_outlier = df_watchtime_merge_wo_oultier.sample(n = ttl_users,replace=True)\n",
    "df_pilot_wo_outlier = df_watchtime_merge_wo_oultier.sample(n = ttl_users,replace=True)\n",
    "\n",
    "\n",
    "for theta_ in tqdm(thetas):\n",
    "    y_cuped_control = df_control_wo_outlier['watchtime_experiment'] - theta_ * df_control_wo_outlier['watchtime_pre_experiment']\n",
    "    y_cuped_pilot = df_pilot_wo_outlier['watchtime_experiment'] - theta_ * df_pilot_wo_outlier['watchtime_pre_experiment']\n",
    "    list_var_control.append(y_cuped_control.var())\n",
    "    list_var_pilot.append(y_cuped_pilot.var())\n",
    "\n",
    "plt.plot(thetas, list_var_control, label='var control')\n",
    "plt.plot(thetas, list_var_pilot, label='var pilot')\n",
    "plt.vlines(theta, 26000, 28000, label='theta_0', linewidth=4, alpha=0.5)\n",
    "plt.xlabel('$theta$')\n",
    "plt.ylabel('var')\n",
    "plt.legend()\n",
    "plt.show()"
   ]
  },
  {
   "cell_type": "code",
   "execution_count": 28,
   "id": "81904dbd-d476-49dd-8dd1-cdb99bee3967",
   "metadata": {
    "tags": []
   },
   "outputs": [],
   "source": [
    "def check_cuped_test(df_control, df_pilot):\n",
    "    \"\"\"Проверяет гипотезу о равенстве средних с использованием CUPED.\n",
    "\n",
    "    covariate_column - название стобца с ковариантой\n",
    "\n",
    "    return - pvalue.\n",
    "    \"\"\"\n",
    "    theta = calculate_theta(\n",
    "    df_control[df_control['new_type']=='Удержанные']['watchtime_experiment'], df_pilot[df_pilot['new_type']=='Удержанные']['watchtime_experiment'],\n",
    "    df_control[df_control['new_type']=='Удержанные']['watchtime_pre_experiment'], df_pilot[df_pilot['new_type']=='Удержанные']['watchtime_pre_experiment']\n",
    "    )\n",
    "     \n",
    "    df_pilot['watchtime_cuped'] = df_pilot['watchtime_experiment'] - theta * df_pilot['watchtime_pre_experiment']\n",
    "    df_control['watchtime_cuped'] = df_control['watchtime_experiment'] - theta * df_control['watchtime_pre_experiment']\n",
    "    var = df_pilot['watchtime_cuped'].var()\n",
    "    _, pvalue = stats.ttest_ind(df_pilot['watchtime_cuped'], df_control['watchtime_cuped'])\n",
    "    return pvalue,var"
   ]
  },
  {
   "cell_type": "code",
   "execution_count": 29,
   "id": "be618808-57c1-4aa4-93c2-25dd0f7448bf",
   "metadata": {
    "tags": []
   },
   "outputs": [],
   "source": [
    "def calculate_strat_var(df, weights, covariate_column):\n",
    "    \"\"\"Вычисляет стратифицированную дисперсию.\"\"\"\n",
    "    strat_vars = df.groupby('device_model')[covariate_column].var()\n",
    "    df_vars_weights = pd.merge(\n",
    "        strat_vars,\n",
    "        pd.Series(weights, name='weight'),\n",
    "        how='inner',\n",
    "        left_index=True,\n",
    "        right_index=True\n",
    "    )\n",
    "    # если в данных df не было каких-то страт, то часть weights затрётся и сумма весов будет меньше 1\n",
    "    df_vars_weights['weight'] = df_vars_weights['weight'] / df_vars_weights['weight'].sum()\n",
    "    var_strat = (df_vars_weights['weight'] * df_vars_weights[covariate_column]).sum()\n",
    "    return var_strat"
   ]
  },
  {
   "cell_type": "code",
   "execution_count": 30,
   "id": "d3ce4ccd-a1db-4313-9f56-e680bfdac9ad",
   "metadata": {
    "tags": []
   },
   "outputs": [],
   "source": [
    "def calculate_stratified_mean(df, weights, covariate_column):\n",
    "    \"\"\"Вычисляет стратифицированное среднее.\n",
    "\n",
    "    df - датафрейм с целевой метрикой и данными для стратификации\n",
    "    weights - словарь - {название страты: вес страты}\n",
    "\n",
    "    return: float, mean_strat\n",
    "    \"\"\"\n",
    "    strat_mean = df.groupby('device_model')[covariate_column].mean()\n",
    "    df_means_weights = pd.merge(\n",
    "        strat_mean,\n",
    "        pd.Series(weights, name='weight'),\n",
    "        how='inner',\n",
    "        left_index=True,\n",
    "        right_index=True\n",
    "    )\n",
    "    # если в данных df не было каких-то страт, то часть weights затрётся и сумма весов будет меньше 1\n",
    "    df_means_weights['weight'] = df_means_weights['weight'] / df_means_weights['weight'].sum()\n",
    "    mean_strat = (df_means_weights['weight'] * df_means_weights[covariate_column]).sum()\n",
    "    return mean_strat"
   ]
  },
  {
   "cell_type": "code",
   "execution_count": 31,
   "id": "c184e653-ad9a-46e5-b8ac-e4da73140f2e",
   "metadata": {
    "tags": []
   },
   "outputs": [],
   "source": [
    "def check_stratified_test(df_control, df_pilot, weights,covariate_column):\n",
    "    \"\"\"Проверяет гипотезу о равенстве средних для стратифицированного среднего.\n",
    "    \n",
    "    return - pvalue.\n",
    "    \"\"\"\n",
    "    theta = calculate_theta(\n",
    "    df_control[df_control['new_type']=='Удержанные']['watchtime_experiment'], df_pilot[df_pilot['new_type']=='Удержанные']['watchtime_experiment'],\n",
    "    df_control[df_control['new_type']=='Удержанные']['watchtime_pre_experiment'], df_pilot[df_pilot['new_type']=='Удержанные']['watchtime_pre_experiment']\n",
    "    )\n",
    "\n",
    "    df_pilot['watchtime_cuped'] = df_pilot['watchtime_experiment'] - theta * df_pilot['watchtime_pre_experiment']\n",
    "    df_control['watchtime_cuped'] = df_control['watchtime_experiment'] - theta * df_control['watchtime_pre_experiment']\n",
    "    \n",
    "    mean_strat_control = calculate_stratified_mean(df_control, weights, covariate_column)\n",
    "    mean_strat_pilot = calculate_stratified_mean(df_pilot, weights, covariate_column)\n",
    "    var_strat_control = calculate_strat_var(df_control, weights, covariate_column)\n",
    "    var_strat_pilot = calculate_strat_var(df_pilot, weights,covariate_column)\n",
    "    delta_mean_strat = mean_strat_pilot - mean_strat_control\n",
    "    std_mean_strat = (var_strat_pilot / len(df_pilot) + var_strat_control / len(df_control)) ** 0.5\n",
    "    t = delta_mean_strat / std_mean_strat\n",
    "    pvalue = (1 - stats.norm.cdf(np.abs(t))) * 2\n",
    "    return pvalue,var_strat_control"
   ]
  },
  {
   "cell_type": "code",
   "execution_count": 32,
   "id": "7061e431-9b45-474b-8982-368f71b82a8c",
   "metadata": {
    "tags": []
   },
   "outputs": [],
   "source": [
    "def check_stratified_cuped_test(df_control, df_pilot, weights,covariate_column):\n",
    "    \"\"\"Проверяет гипотезу о равенстве средних для стратифицированного среднего.\n",
    "    \n",
    "    return - pvalue.\n",
    "    \"\"\"\n",
    "    theta = calculate_theta(\n",
    "    df_control[df_control['new_type']=='Удержанные']['watchtime_experiment'], df_pilot[df_pilot['new_type']=='Удержанные']['watchtime_experiment'],\n",
    "    df_control[df_control['new_type']=='Удержанные']['watchtime_pre_experiment'], df_pilot[df_pilot['new_type']=='Удержанные']['watchtime_pre_experiment']\n",
    "    )\n",
    "     \n",
    "\n",
    "    df_pilot['watchtime_cuped'] = df_pilot['watchtime_experiment'] - theta * df_pilot['watchtime_pre_experiment']\n",
    "    df_control['watchtime_cuped'] = df_control['watchtime_experiment'] - theta * df_control['watchtime_pre_experiment']\n",
    "    \n",
    "    mean_strat_control = calculate_stratified_mean(df_control, weights,covariate_column)\n",
    "    mean_strat_pilot = calculate_stratified_mean(df_pilot, weights,covariate_column)\n",
    "    var_strat_control = calculate_strat_var(df_control, weights,covariate_column)\n",
    "    var_strat_pilot = calculate_strat_var(df_pilot, weights,covariate_column)\n",
    "    delta_mean_strat = mean_strat_pilot - mean_strat_control\n",
    "    std_mean_strat = (var_strat_pilot / len(df_pilot) + var_strat_control / len(df_control)) ** 0.5\n",
    "    t = delta_mean_strat / std_mean_strat\n",
    "    pvalue = (1 - stats.norm.cdf(np.abs(t))) * 2\n",
    "    return pvalue,var_strat_control,mean_strat_pilot"
   ]
  },
  {
   "cell_type": "markdown",
   "id": "8c7494a5-2e10-491c-ba73-5c017708aea9",
   "metadata": {
    "tags": []
   },
   "source": [
    "## Симмуляция Монте-Карло АА-теста "
   ]
  },
  {
   "cell_type": "code",
   "execution_count": 34,
   "id": "e0a1b7b4-1b9a-4ec9-a541-97bfdaa2be0a",
   "metadata": {
    "tags": []
   },
   "outputs": [
    {
     "name": "stderr",
     "output_type": "stream",
     "text": [
      "100%|██████████| 1000/1000 [02:57<00:00,  5.62it/s]\n"
     ]
    },
    {
     "name": "stdout",
     "output_type": "stream",
     "text": [
      "Среднее значение выборочных дисперсий без выбросов: 26913.320005676298\n",
      "Среднее значение выборочных дисперсий без выбросов с применением постратификации: 21556.31939968235\n",
      "Среднее значение выборочных дисперсий без выбросов с применением CUPED: 26711.963398143336\n",
      "Среднее значение выборочных дисперсий без выбросов с применением CUPED и постстратификации: 21901.192695308375\n",
      "\n",
      "Среднее значение выборочных средних без выбросов: 109.53366924668724\n",
      "Среднее значение выборочных средних без выбросов c применение CUPED и постстратификации : 108.30851124990903\n"
     ]
    },
    {
     "data": {
      "image/png": "[encoded data removed]",
      "text/plain": [
       "<Figure size 1500x800 with 1 Axes>"
      ]
     },
     "metadata": {},
     "output_type": "display_data"
    }
   ],
   "source": [
    "weights = df_watchtime_2['device_model'].value_counts(normalize=True).to_dict()\n",
    "\n",
    "ttl_users_1 = math.ceil(df_watchtime_2['device_id'].nunique() * namespace * gb_split / num_of_bucket)\n",
    "ttl_users_2 = math.ceil(df_watchtime_agg['device_id'].nunique() * namespace * gb_split / num_of_bucket)\n",
    "\n",
    "covariate_column='watchtime_experiment'\n",
    "covariate_column2='watchtime_cuped'\n",
    "\n",
    "effect = 0\n",
    "\n",
    "pvalues_ttest = []\n",
    "pvalues_wo_outliers = []\n",
    "pvalues_wo_outliers_strat = []\n",
    "pvalues_wo_outliers_cuped = []\n",
    "pvalues_wo_outliers_strat_cuped = []\n",
    "\n",
    "var_wo_outliers = []\n",
    "var_wo_outliers_strat = []\n",
    "var_wo_outliers_cuped = []\n",
    "var_wo_outliers_strat_cuped = []\n",
    "\n",
    "mean_wo_ouliers = []\n",
    "mean_wo_outliers_strat_cuped = []\n",
    "\n",
    "\n",
    "for i in tqdm(range(1000)):\n",
    "    \n",
    "        df_control = df_watchtime_agg.sample(n=ttl_users_1,replace=True)\n",
    "        df_pilot = df_watchtime_agg.sample(n=ttl_users_1,replace=True)\n",
    "        df_pilot['watchtime'] += effect\n",
    "        pvalue = stats.ttest_ind(df_control['watchtime'], df_pilot['watchtime'])[1]\n",
    "        \n",
    "        \n",
    "        df_control_wo_outlier = df_watchtime_merge_wo_oultier.sample(n=ttl_users_2,replace=True)\n",
    "        df_pilot_wo_outlier = df_watchtime_merge_wo_oultier.sample(n=ttl_users_2,replace=True)\n",
    "        df_pilot_wo_outlier['watchtime_experiment'] += effect\n",
    "        var = df_pilot_wo_outlier['watchtime_experiment'].var()\n",
    "        pvalue_wo_outliers = stats.ttest_ind(df_control_wo_outlier['watchtime_experiment'], df_pilot_wo_outlier['watchtime_experiment'])[1]\n",
    "\n",
    "        \n",
    "        df_control_wo_outlier_strat = df_watchtime_merge_wo_oultier.sample(n=ttl_users_2, replace=True)\n",
    "        df_pilot_wo_outlier_strat = df_watchtime_merge_wo_oultier.sample(n=ttl_users_2, replace=True)\n",
    "        df_pilot_wo_outlier_strat['watchtime_experiment'] += effect\n",
    "        means_wo_ouliers = df_pilot_wo_outlier_strat['watchtime_experiment'].mean()\n",
    "        pvalue_wo_outlier_strat = check_stratified_test(df_control_wo_outlier_strat, df_pilot_wo_outlier_strat, weights,covariate_column=covariate_column)\n",
    "        \n",
    "        \n",
    "        df_control_wo_outlier_cuped = df_watchtime_merge_wo_oultier.sample(n=ttl_users_2, replace=True)\n",
    "        df_pilot_wo_outlier_cuped = df_watchtime_merge_wo_oultier.sample(n=ttl_users_2, replace=True)\n",
    "        df_pilot_wo_outlier_cuped['watchtime_experiment'] += effect\n",
    "        pvalue_wo_outlier_cuped = check_cuped_test(df_control_wo_outlier_cuped, df_pilot_wo_outlier_cuped)\n",
    "        \n",
    "        df_control_wo_outlier_strat_cuped = df_watchtime_merge_wo_oultier.sample(n=ttl_users_2, replace=True)\n",
    "        df_pilot_wo_outlier_strat_cuped = df_watchtime_merge_wo_oultier.sample(n=ttl_users_2, replace=True)\n",
    "        df_pilot_wo_outlier_strat_cuped['watchtime_experiment'] += effect\n",
    "        pvalue_wo_outlier_strat_cuped = check_stratified_cuped_test(df_control_wo_outlier_strat_cuped, df_pilot_wo_outlier_strat_cuped, weights,covariate_column=covariate_column2)\n",
    "        \n",
    "        pvalues_ttest.append(pvalue)\n",
    "        pvalues_wo_outliers.append(pvalue_wo_outliers)\n",
    "        pvalues_wo_outliers_strat.append(pvalue_wo_outlier_strat[0])\n",
    "        pvalues_wo_outliers_cuped.append(pvalue_wo_outlier_cuped[0])\n",
    "        pvalues_wo_outliers_strat_cuped.append(pvalue_wo_outlier_strat_cuped[0])\n",
    "        \n",
    "        var_wo_outliers.append(var)\n",
    "        var_wo_outliers_strat.append(pvalue_wo_outlier_strat[1])\n",
    "        var_wo_outliers_cuped.append(pvalue_wo_outlier_cuped[1])\n",
    "        var_wo_outliers_strat_cuped.append(pvalue_wo_outlier_strat_cuped[1])\n",
    "        \n",
    "        mean_wo_ouliers.append(means_wo_ouliers)\n",
    "        mean_wo_outliers_strat_cuped.append(pvalue_wo_outlier_strat_cuped[2])\n",
    "\n",
    "list_pvalues = [pvalues_ttest, pvalues_wo_outliers,pvalues_wo_outliers_strat,pvalues_wo_outliers_cuped,pvalues_wo_outliers_strat_cuped]\n",
    "list_titles = ['ttest_initital', 'ttest without outlier','pvalue wo outliers strat','pvalue wo outliers cuped','pvalues wo outliers strat cuped']\n",
    "\n",
    "print(\"Среднее значение выборочных дисперсий без выбросов:\",np.mean(var_wo_outliers))\n",
    "print(\"Среднее значение выборочных дисперсий без выбросов с применением постратификации:\",np.mean(var_wo_outliers_strat))\n",
    "print(\"Среднее значение выборочных дисперсий без выбросов с применением CUPED:\",np.mean(var_wo_outliers_cuped))\n",
    "print(\"Среднее значение выборочных дисперсий без выбросов с применением CUPED и постстратификации:\",np.mean(var_wo_outliers_strat_cuped))   \n",
    "print()\n",
    "print(\"Среднее значение выборочных средних без выбросов:\",np.mean(mean_wo_ouliers))\n",
    "print(\"Среднее значение выборочных средних без выбросов c применение CUPED и постстратификации :\",np.mean(mean_wo_outliers_strat_cuped))\n",
    "\n",
    "plt.figure(figsize=(15,8))\n",
    "\n",
    "X = np.linspace(0, 1, 1000)\n",
    "for pvalues, title in zip(reversed(list_pvalues), reversed(list_titles)):\n",
    "    pvalues = np.array(pvalues)\n",
    "    Y = [np.mean(pvalues < x) for x in X]\n",
    "    plt.plot(X, Y, alpha=0.5, linewidth=3, label=title)\n",
    "plt.xlabel('pvalue')\n",
    "x_values = [0.05]\n",
    "plt.vlines(x_values, ymin=0, ymax=1, linestyles='dotted', colors='gray')\n",
    "plt.axhline(y=0.8, color='gray', linestyle='dotted')\n",
    "plt.xlim([-0.05, 1])\n",
    "plt.xlabel('p-value', size=14)\n",
    "plt.ylabel('Probability', size=14)\n",
    "plt.plot([0, 1], [0, 1], 'k')\n",
    "plt.legend(loc=5)\n",
    "plt.show()"
   ]
  },
  {
   "cell_type": "markdown",
   "id": "c6654c6c-c334-41b1-8eab-d2e2b1004ead",
   "metadata": {},
   "source": [
    "## Симуляция Монте-Карло АB теста"
   ]
  },
  {
   "cell_type": "code",
   "execution_count": 38,
   "id": "f717936a-84e4-4fc8-9730-6864137e388a",
   "metadata": {
    "tags": []
   },
   "outputs": [
    {
     "name": "stderr",
     "output_type": "stream",
     "text": [
      "100%|██████████| 5000/5000 [16:01<00:00,  5.20it/s]\n"
     ]
    },
    {
     "name": "stdout",
     "output_type": "stream",
     "text": [
      "Среднее значение выборочных дисперсий без выбросов: 26902.332886938464\n",
      "Среднее значение выборочных дисперсий без выбросов с применением постратификации: 21544.118473978866\n",
      "Среднее значение выборочных дисперсий без выбросов с применением CUPED: 26711.949921487805\n",
      "Среднее значение выборочных дисперсий без выбросов с применением CUPED и постстратификации: 21909.444626926368\n",
      "\n",
      "Среднее значение выборочных средних без выбросов: 112.79576361465813\n",
      "Среднее значение выборочных средних без выбросов c применение CUPED и постстратификации : 111.61799700165707\n"
     ]
    },
    {
     "data": {
      "image/png": "[encoded data removed]",
      "text/plain": [
       "<Figure size 1500x800 with 1 Axes>"
      ]
     },
     "metadata": {},
     "output_type": "display_data"
    }
   ],
   "source": [
    "weights = df_watchtime_2['device_model'].value_counts(normalize=True).to_dict()\n",
    "\n",
    "ttl_users_1 = math.ceil(df_watchtime_2['device_id'].nunique() * namespace * gb_split / num_of_bucket)\n",
    "ttl_users_2 = math.ceil(df_watchtime_agg['device_id'].nunique() * namespace * gb_split / num_of_bucket)\n",
    "\n",
    "covariate_column='watchtime_experiment'\n",
    "covariate_column2='watchtime_cuped'\n",
    "\n",
    "effect = 3.2733\n",
    "\n",
    "pvalues_ttest = []\n",
    "pvalues_wo_outliers = []\n",
    "pvalues_wo_outliers_strat = []\n",
    "pvalues_wo_outliers_cuped = []\n",
    "pvalues_wo_outliers_strat_cuped = []\n",
    "\n",
    "var_wo_outliers = []\n",
    "var_wo_outliers_strat = []\n",
    "var_wo_outliers_cuped = []\n",
    "var_wo_outliers_strat_cuped = []\n",
    "\n",
    "mean_wo_ouliers = []\n",
    "mean_wo_outliers_strat_cuped = []\n",
    "\n",
    "\n",
    "for i in tqdm(range(5000)):\n",
    "    \n",
    "        df_control = df_watchtime_agg.sample(n=ttl_users_1,replace=True)\n",
    "        df_pilot = df_watchtime_agg.sample(n=ttl_users_1,replace=True)\n",
    "        df_pilot['watchtime'] += effect\n",
    "        pvalue = stats.ttest_ind(df_control['watchtime'], df_pilot['watchtime'])[1]\n",
    "        \n",
    "        \n",
    "        df_control_wo_outlier = df_watchtime_merge_wo_oultier.sample(n=ttl_users_2,replace=True)\n",
    "        df_pilot_wo_outlier = df_watchtime_merge_wo_oultier.sample(n=ttl_users_2,replace=True)\n",
    "        df_pilot_wo_outlier['watchtime_experiment'] += effect\n",
    "        var = df_pilot_wo_outlier['watchtime_experiment'].var()\n",
    "        pvalue_wo_outliers = stats.ttest_ind(df_control_wo_outlier['watchtime_experiment'], df_pilot_wo_outlier['watchtime_experiment'])[1]\n",
    "\n",
    "        \n",
    "        df_control_wo_outlier_strat = df_watchtime_merge_wo_oultier.sample(n=ttl_users_2, replace=True)\n",
    "        df_pilot_wo_outlier_strat = df_watchtime_merge_wo_oultier.sample(n=ttl_users_2, replace=True)\n",
    "        df_pilot_wo_outlier_strat['watchtime_experiment'] += effect\n",
    "        means_wo_ouliers = df_pilot_wo_outlier_strat['watchtime_experiment'].mean()\n",
    "        pvalue_wo_outlier_strat = check_stratified_test(df_control_wo_outlier_strat, df_pilot_wo_outlier_strat, weights,covariate_column=covariate_column)\n",
    "        \n",
    "        \n",
    "        df_control_wo_outlier_cuped = df_watchtime_merge_wo_oultier.sample(n=ttl_users_2, replace=True)\n",
    "        df_pilot_wo_outlier_cuped = df_watchtime_merge_wo_oultier.sample(n=ttl_users_2, replace=True)\n",
    "        df_pilot_wo_outlier_cuped['watchtime_experiment'] += effect\n",
    "        pvalue_wo_outlier_cuped = check_cuped_test(df_control_wo_outlier_cuped, df_pilot_wo_outlier_cuped)\n",
    "        \n",
    "        df_control_wo_outlier_strat_cuped = df_watchtime_merge_wo_oultier.sample(n=ttl_users_2, replace=True)\n",
    "        df_pilot_wo_outlier_strat_cuped = df_watchtime_merge_wo_oultier.sample(n=ttl_users_2, replace=True)\n",
    "        df_pilot_wo_outlier_strat_cuped['watchtime_experiment'] += effect\n",
    "        pvalue_wo_outlier_strat_cuped = check_stratified_cuped_test(df_control_wo_outlier_strat_cuped, df_pilot_wo_outlier_strat_cuped, weights,covariate_column=covariate_column2)\n",
    "        \n",
    "        pvalues_ttest.append(pvalue)\n",
    "        pvalues_wo_outliers.append(pvalue_wo_outliers)\n",
    "        pvalues_wo_outliers_strat.append(pvalue_wo_outlier_strat[0])\n",
    "        pvalues_wo_outliers_cuped.append(pvalue_wo_outlier_cuped[0])\n",
    "        pvalues_wo_outliers_strat_cuped.append(pvalue_wo_outlier_strat_cuped[0])\n",
    "        \n",
    "        var_wo_outliers.append(var)\n",
    "        var_wo_outliers_strat.append(pvalue_wo_outlier_strat[1])\n",
    "        var_wo_outliers_cuped.append(pvalue_wo_outlier_cuped[1])\n",
    "        var_wo_outliers_strat_cuped.append(pvalue_wo_outlier_strat_cuped[1])\n",
    "        \n",
    "        mean_wo_ouliers.append(means_wo_ouliers)\n",
    "        mean_wo_outliers_strat_cuped.append(pvalue_wo_outlier_strat_cuped[2])\n",
    "\n",
    "list_pvalues = [pvalues_ttest, pvalues_wo_outliers,pvalues_wo_outliers_strat,pvalues_wo_outliers_cuped,pvalues_wo_outliers_strat_cuped]\n",
    "list_titles = ['ttest_initital', 'ttest without outlier','pvalue wo outliers strat','pvalue wo outliers cuped','pvalues wo outliers strat cuped']\n",
    "\n",
    "print(\"Среднее значение выборочных дисперсий без выбросов:\",np.mean(var_wo_outliers))\n",
    "print(\"Среднее значение выборочных дисперсий без выбросов с применением постратификации:\",np.mean(var_wo_outliers_strat))\n",
    "print(\"Среднее значение выборочных дисперсий без выбросов с применением CUPED:\",np.mean(var_wo_outliers_cuped))\n",
    "print(\"Среднее значение выборочных дисперсий без выбросов с применением CUPED и постстратификации:\",np.mean(var_wo_outliers_strat_cuped))   \n",
    "print()\n",
    "print(\"Среднее значение выборочных средних без выбросов:\",np.mean(mean_wo_ouliers))\n",
    "print(\"Среднее значение выборочных средних без выбросов c применение CUPED и постстратификации :\",np.mean(mean_wo_outliers_strat_cuped))\n",
    "\n",
    "plt.figure(figsize=(15,8))\n",
    "\n",
    "X = np.linspace(0, 1, 1000)\n",
    "for pvalues, title in zip(reversed(list_pvalues), reversed(list_titles)):\n",
    "    pvalues = np.array(pvalues)\n",
    "    Y = [np.mean(pvalues < x) for x in X]\n",
    "    plt.plot(X, Y, alpha=0.5, linewidth=3, label=title)\n",
    "plt.xlabel('pvalue')\n",
    "x_values = [0.05]\n",
    "plt.vlines(x_values, ymin=0, ymax=1, linestyles='dotted', colors='gray')\n",
    "plt.axhline(y=0.8, color='gray', linestyle='dotted')\n",
    "plt.xlim([-0.05, 1])\n",
    "plt.xlabel('p-value', size=14)\n",
    "plt.ylabel('Probability', size=14)\n",
    "plt.plot([0, 1], [0, 1], 'k')\n",
    "plt.legend(loc=5)\n",
    "plt.show()"
   ]
  },
  {
   "cell_type": "markdown",
   "id": "59f664cc-3b16-46cc-8e6c-3187528f0b37",
   "metadata": {},
   "source": [
    "## Итоговые результаты"
   ]
  },
  {
   "cell_type": "markdown",
   "id": "0504606a-e323-460a-9675-a9d0110fbaac",
   "metadata": {},
   "source": [
    "### Без удаления выбросов"
   ]
  },
  {
   "cell_type": "code",
   "execution_count": 35,
   "id": "522bef2e-26e9-41fe-8ccf-e686e3c1e629",
   "metadata": {
    "tags": []
   },
   "outputs": [
    {
     "name": "stdout",
     "output_type": "stream",
     "text": [
      "MDE абсолютный: 20.9108\n",
      "MDE относительный: 0.0815\n",
      "Средний watchtime за неделю: 256.6314\n",
      "Дисперсия 1156149.2207\n",
      "Число пользователей 41506\n"
     ]
    }
   ],
   "source": [
    "ttl_users = math.ceil(df_watchtime_agg['device_id'].nunique() * namespace * gb_split / num_of_bucket)\n",
    "var = df_watchtime_agg['watchtime'].var()\n",
    "mean = df_watchtime_agg['watchtime'].mean()\n",
    "\n",
    "mde_absolute=mde_estimated_absolute(ttl_users,var,0.05,0.2)\n",
    "MDE = mde_absolute / mean\n",
    "\n",
    "print('MDE абсолютный:',round(mde_absolute,4))\n",
    "print('MDE относительный:',round(MDE,4))\n",
    "print('Средний watchtime за неделю:',round(mean,4))\n",
    "print('Дисперсия',round(var,4)) \n",
    "print('Число пользователей',math.ceil(ttl_users))"
   ]
  },
  {
   "cell_type": "markdown",
   "id": "e4ae6341-000f-435d-bef7-433593d2eb46",
   "metadata": {},
   "source": [
    "### Удаление выбросов "
   ]
  },
  {
   "cell_type": "code",
   "execution_count": 36,
   "id": "52dcceb7-96b8-4454-aeeb-a06c46d904c6",
   "metadata": {
    "tags": []
   },
   "outputs": [
    {
     "name": "stdout",
     "output_type": "stream",
     "text": [
      "MDE абсолютный: 3.2733\n",
      "MDE относительный: 0.0299\n",
      "Средний watchtime за неделю: 109.5337\n",
      "Дисперсия 26913.32\n",
      "Число пользователей 39431\n"
     ]
    }
   ],
   "source": [
    "ttl_users = math.ceil(df_watchtime_agg_wo_outlier['device_id'].nunique() * namespace * gb_split / num_of_bucket)\n",
    "var = np.mean(var_wo_outliers)\n",
    "mean = np.mean(mean_wo_ouliers)\n",
    "mde_absolute=mde_estimated_absolute(ttl_users,var,0.05,0.2)\n",
    "MDE = mde_absolute / mean\n",
    "\n",
    "print('MDE абсолютный:',round(mde_absolute,4))\n",
    "print('MDE относительный:',round(MDE,4))\n",
    "print('Средний watchtime за неделю:',round(mean,4))\n",
    "print('Дисперсия',round(var,4)) \n",
    "print('Число пользователей',math.ceil(ttl_users))"
   ]
  },
  {
   "cell_type": "markdown",
   "id": "b086ac4a-214e-4965-8a57-d8cf4e2477a4",
   "metadata": {},
   "source": [
    "### Удаление выбросов и CUPED + постстратификация"
   ]
  },
  {
   "cell_type": "code",
   "execution_count": 37,
   "id": "113580ba-06c9-4086-9101-dceefb31d5c0",
   "metadata": {
    "tags": []
   },
   "outputs": [
    {
     "name": "stdout",
     "output_type": "stream",
     "text": [
      "MDE абсолютный: 2.9528\n",
      "MDE относительный: 0.0273\n",
      "Средний watchtime за неделю: 108.3085\n",
      "Дисперсия 21901.1927\n",
      "Число пользователей 39431\n"
     ]
    }
   ],
   "source": [
    "ttl_users = math.ceil(df_watchtime_agg_wo_outlier['device_id'].nunique() * namespace * gb_split / num_of_bucket)\n",
    "var = np.mean(var_wo_outliers_strat_cuped)\n",
    "mean = np.mean(mean_wo_outliers_strat_cuped)\n",
    "mde_absolute=mde_estimated_absolute(ttl_users,var,0.05,0.2)\n",
    "MDE = mde_absolute / mean\n",
    "\n",
    "print('MDE абсолютный:',round(mde_absolute,4))\n",
    "print('MDE относительный:',round(MDE,4))\n",
    "print('Средний watchtime за неделю:',round(mean,4))\n",
    "print('Дисперсия',round(var,4)) \n",
    "print('Число пользователей',math.ceil(ttl_users))"
   ]
  },
  {
   "cell_type": "code",
   "execution_count": null,
   "id": "377e32ce-9be6-4bf3-ae18-4757f1d5fa72",
   "metadata": {},
   "outputs": [],
   "source": []
  }
 ],
 "metadata": {
  "kernelspec": {
   "display_name": "Python 3 (ipykernel)",
   "language": "python",
   "name": "python3"
  },
  "language_info": {
   "codemirror_mode": {
    "name": "ipython",
    "version": 3
   },
   "file_extension": ".py",
   "mimetype": "text/x-python",
   "name": "python",
   "nbconvert_exporter": "python",
   "pygments_lexer": "ipython3",
   "version": "3.11.7"
  },
  "toc-autonumbering": true
 },
 "nbformat": 4,
 "nbformat_minor": 5
}
