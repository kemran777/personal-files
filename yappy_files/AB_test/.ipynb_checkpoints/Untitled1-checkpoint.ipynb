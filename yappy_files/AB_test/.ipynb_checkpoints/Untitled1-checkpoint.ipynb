{
 "cells": [
  {
   "cell_type": "code",
   "execution_count": 5,
   "id": "cd42d640-3349-4f92-899a-2789db30f168",
   "metadata": {
    "tags": []
   },
   "outputs": [],
   "source": [
    "postgres_secret = {\n",
    "    'db_name': 'product_x',\n",
    "    'user': 'product_x_ro',\n",
    "    'password': '9sNDZKJM5taKHfKZsoFvQMsMbtgSef',\n",
    "    'host': 'rc1a-yiz11yr42igms5a6.mdb.yandexcloud.net'\n",
    "}\n",
    "\n",
    "\n",
    "сlickhouse_dwh_secret = {\n",
    "    'db_name': 'product_x',\n",
    "    'user': 'kmekhtiev',\n",
    "    'password': 'mGsFX7fblCQxgcL8CuU8',\n",
    "    'host': '10.129.11.136'\n",
    "}"
   ]
  },
  {
   "cell_type": "code",
   "execution_count": null,
   "id": "cf4e299b-0a1a-42df-aa7d-cf0ae219d258",
   "metadata": {},
   "outputs": [],
   "source": []
  }
 ],
 "metadata": {
  "kernelspec": {
   "display_name": "Python 3 (ipykernel)",
   "language": "python",
   "name": "python3"
  },
  "language_info": {
   "codemirror_mode": {
    "name": "ipython",
    "version": 3
   },
   "file_extension": ".py",
   "mimetype": "text/x-python",
   "name": "python",
   "nbconvert_exporter": "python",
   "pygments_lexer": "ipython3",
   "version": "3.11.7"
  }
 },
 "nbformat": 4,
 "nbformat_minor": 5
}
