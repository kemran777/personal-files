{
 "cells": [
  {
   "cell_type": "code",
   "execution_count": null,
   "id": "0cb09b35-cf23-4a95-a44e-33392d719c8d",
   "metadata": {},
   "outputs": [],
   "source": [
    "postgres_secret = {\n",
    "    'db_name': 'product_x',\n",
    "    'user': 'product_x_ro',\n",
    "    'password': '9sNDZKJM5taKHfKZsoFvQMsMbtgSef',\n",
    "    'host': 'rc1a-yiz11yr42igms5a6.mdb.yandexcloud.net'\n",
    "}\n",
    "\n",
    "clickhouse_dwh_secret = {\n",
    "    'db_name': 'product_x',\n",
    "    'user': 'kmekhtiev',\n",
    "    'password': 'mGsFX7fblCQxgcL8CuU8',\n",
    "    'host': '10.129.11.136'\n",
    "}"
   ]
  }
 ],
 "metadata": {
  "kernelspec": {
   "display_name": "Python 3 (ipykernel)",
   "language": "python",
   "name": "python3"
  },
  "language_info": {
   "codemirror_mode": {
    "name": "ipython",
    "version": 3
   },
   "file_extension": ".py",
   "mimetype": "text/x-python",
   "name": "python",
   "nbconvert_exporter": "python",
   "pygments_lexer": "ipython3",
   "version": "3.11.7"
  }
 },
 "nbformat": 4,
 "nbformat_minor": 5
}
