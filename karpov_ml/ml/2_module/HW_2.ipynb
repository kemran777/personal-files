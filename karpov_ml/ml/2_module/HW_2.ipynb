{
 "cells": [
  {
   "cell_type": "code",
   "execution_count": 1,
   "id": "92c4bac1",
   "metadata": {
    "id": "81t4wEj-9sjI",
    "tags": []
   },
   "outputs": [],
   "source": [
    " import pandas as pd"
   ]
  },
  {
   "cell_type": "markdown",
   "id": "1899e1c3",
   "metadata": {
    "id": "Eir77xQk9sjK"
   },
   "source": [
    "**Научимся считать метрики в pandas-табличках**\n",
    "\n",
    "Представим, что 2 добрых и очень-очень умных гнома прокрались к нам в данные, описывающие различные поездки в такси.\n",
    "Далее, для каждого объекта (и его признаков, соответственно), гномы построили модели предсказания того, какая должна была быть у данных заказов длительность исполнения. Прогнозы своих моделей они положили соответственно в колонки **prediction_1** и **prediction_2**"
   ]
  },
  {
   "cell_type": "code",
   "execution_count": 4,
   "id": "0a32b52b",
   "metadata": {
    "id": "cF_CAFZ89sjL",
    "tags": []
   },
   "outputs": [],
   "source": [
    "df = pd.read_csv('taxi_dataset_with_predictions.csv', index_col=0)"
   ]
  },
  {
   "cell_type": "code",
   "execution_count": 6,
   "id": "31ea06e3",
   "metadata": {
    "id": "UlT5Cex79sjN",
    "tags": []
   },
   "outputs": [
    {
     "data": {
      "text/html": [
       "<div>\n",
       "<style scoped>\n",
       "    .dataframe tbody tr th:only-of-type {\n",
       "        vertical-align: middle;\n",
       "    }\n",
       "\n",
       "    .dataframe tbody tr th {\n",
       "        vertical-align: top;\n",
       "    }\n",
       "\n",
       "    .dataframe thead th {\n",
       "        text-align: right;\n",
       "    }\n",
       "</style>\n",
       "<table border=\"1\" class=\"dataframe\">\n",
       "  <thead>\n",
       "    <tr style=\"text-align: right;\">\n",
       "      <th></th>\n",
       "      <th>vendor_id</th>\n",
       "      <th>pickup_datetime</th>\n",
       "      <th>passenger_count</th>\n",
       "      <th>store_and_fwd_flag</th>\n",
       "      <th>trip_duration</th>\n",
       "      <th>distance_km</th>\n",
       "      <th>prediction_1</th>\n",
       "      <th>prediction_2</th>\n",
       "    </tr>\n",
       "    <tr>\n",
       "      <th>id</th>\n",
       "      <th></th>\n",
       "      <th></th>\n",
       "      <th></th>\n",
       "      <th></th>\n",
       "      <th></th>\n",
       "      <th></th>\n",
       "      <th></th>\n",
       "      <th></th>\n",
       "    </tr>\n",
       "  </thead>\n",
       "  <tbody>\n",
       "    <tr>\n",
       "      <th>id2875421</th>\n",
       "      <td>1</td>\n",
       "      <td>2016-03-14 17:24:55</td>\n",
       "      <td>930.399753</td>\n",
       "      <td>0</td>\n",
       "      <td>455.0</td>\n",
       "      <td>1.500479</td>\n",
       "      <td>578.156451</td>\n",
       "      <td>355.270710</td>\n",
       "    </tr>\n",
       "    <tr>\n",
       "      <th>id2377394</th>\n",
       "      <td>0</td>\n",
       "      <td>2016-06-12 00:43:35</td>\n",
       "      <td>930.399753</td>\n",
       "      <td>0</td>\n",
       "      <td>663.0</td>\n",
       "      <td>1.807119</td>\n",
       "      <td>962.657188</td>\n",
       "      <td>674.295781</td>\n",
       "    </tr>\n",
       "    <tr>\n",
       "      <th>id3858529</th>\n",
       "      <td>1</td>\n",
       "      <td>2016-01-19 11:35:24</td>\n",
       "      <td>930.399753</td>\n",
       "      <td>0</td>\n",
       "      <td>2124.0</td>\n",
       "      <td>6.392080</td>\n",
       "      <td>2546.180515</td>\n",
       "      <td>2422.132431</td>\n",
       "    </tr>\n",
       "    <tr>\n",
       "      <th>id3504673</th>\n",
       "      <td>1</td>\n",
       "      <td>2016-04-06 19:32:31</td>\n",
       "      <td>930.399753</td>\n",
       "      <td>0</td>\n",
       "      <td>429.0</td>\n",
       "      <td>1.487155</td>\n",
       "      <td>737.926214</td>\n",
       "      <td>795.992362</td>\n",
       "    </tr>\n",
       "    <tr>\n",
       "      <th>id2181028</th>\n",
       "      <td>1</td>\n",
       "      <td>2016-03-26 13:30:55</td>\n",
       "      <td>930.399753</td>\n",
       "      <td>0</td>\n",
       "      <td>435.0</td>\n",
       "      <td>1.189925</td>\n",
       "      <td>666.070794</td>\n",
       "      <td>-4.158492</td>\n",
       "    </tr>\n",
       "  </tbody>\n",
       "</table>\n",
       "</div>"
      ],
      "text/plain": [
       "           vendor_id      pickup_datetime  passenger_count  \\\n",
       "id                                                           \n",
       "id2875421          1  2016-03-14 17:24:55       930.399753   \n",
       "id2377394          0  2016-06-12 00:43:35       930.399753   \n",
       "id3858529          1  2016-01-19 11:35:24       930.399753   \n",
       "id3504673          1  2016-04-06 19:32:31       930.399753   \n",
       "id2181028          1  2016-03-26 13:30:55       930.399753   \n",
       "\n",
       "           store_and_fwd_flag  trip_duration  distance_km  prediction_1  \\\n",
       "id                                                                        \n",
       "id2875421                   0          455.0     1.500479    578.156451   \n",
       "id2377394                   0          663.0     1.807119    962.657188   \n",
       "id3858529                   0         2124.0     6.392080   2546.180515   \n",
       "id3504673                   0          429.0     1.487155    737.926214   \n",
       "id2181028                   0          435.0     1.189925    666.070794   \n",
       "\n",
       "           prediction_2  \n",
       "id                       \n",
       "id2875421    355.270710  \n",
       "id2377394    674.295781  \n",
       "id3858529   2422.132431  \n",
       "id3504673    795.992362  \n",
       "id2181028     -4.158492  "
      ]
     },
     "execution_count": 6,
     "metadata": {},
     "output_type": "execute_result"
    }
   ],
   "source": [
    "df.head()"
   ]
  },
  {
   "cell_type": "markdown",
   "id": "b9bd24a1",
   "metadata": {
    "id": "hJJOnoaw9sjO"
   },
   "source": [
    "Давайте попробуем оценить, насколько и вправду гномы оказались умными и осведомленными в области построения различных моделей машинного обучения, и найдем, насколько сильно их модели ошибаются на наших данных!"
   ]
  },
  {
   "cell_type": "markdown",
   "id": "718fbd56",
   "metadata": {
    "id": "ZSeEOdpP9sjO"
   },
   "source": [
    "В начале посчитайте **MSE** модели. Для этого нужно посчитать квадратичное отклонение на каждом объекте, а потом просто усредниться! Полезно иметь формулу перед глазами.\n",
    "\n",
    "$$\n",
    "MSE = \\frac{1}{n} \\sum_i^n (a(x_i)-y_i)^2\n",
    "$$\n",
    "\n",
    "Положите результаты в переменные *error_1* и *error_2* соответственно."
   ]
  },
  {
   "cell_type": "code",
   "execution_count": 16,
   "id": "25311ef7",
   "metadata": {
    "id": "ozhTh4ls9sjQ",
    "tags": []
   },
   "outputs": [],
   "source": [
    "### Your code is here\n",
    "error_1 = ((df['prediction_1'] - df['trip_duration'])**2).mean()\n",
    "error_2 = ((df['prediction_2'] - df['trip_duration'])**2).mean()"
   ]
  },
  {
   "cell_type": "code",
   "execution_count": 18,
   "id": "c5393ab0",
   "metadata": {
    "id": "_JbxQKWp9sjQ",
    "tags": []
   },
   "outputs": [
    {
     "name": "stdout",
     "output_type": "stream",
     "text": [
      "MSE первой модели равно: 99994\n",
      "MSE второй модели равно: 124936\n"
     ]
    }
   ],
   "source": [
    "###Распечатайте значения MSE для обеих моделей. Используйте эти значения для ответа на задание шага 5.\n",
    "print(f\"MSE первой модели равно: {int(error_1)}\")\n",
    "print(f\"MSE второй модели равно: {int(error_2)}\")"
   ]
  },
  {
   "cell_type": "markdown",
   "id": "4c4dd451",
   "metadata": {
    "id": "_AuLIFkJ9sjQ"
   },
   "source": [
    "Видно, что у MSE достаточно большой порядок. Как мы и говорили, глазам куда будет приятнее, если мы будем считать **RMSE**:\n",
    "\n",
    "$$\n",
    "RMSE = \\sqrt{MSE} = \\sqrt{\\frac{1}{n} \\sum_i^n (a(x_i)-y_i)^2}\n",
    "$$"
   ]
  },
  {
   "cell_type": "code",
   "execution_count": 41,
   "id": "212537d9",
   "metadata": {
    "id": "2VsDSCtz9sjS",
    "tags": []
   },
   "outputs": [],
   "source": [
    "### Your code is here\n",
    "error_1 = (((df['prediction_1'] - df['trip_duration'])**2).mean())**(1/2)\n",
    "error_2 = (((df['prediction_2'] - df['trip_duration'])**2).mean())**(1/2)"
   ]
  },
  {
   "cell_type": "code",
   "execution_count": 43,
   "id": "be918e2b",
   "metadata": {
    "id": "uefqnRqk9sjS",
    "tags": []
   },
   "outputs": [
    {
     "name": "stdout",
     "output_type": "stream",
     "text": [
      "RMSE первой модели равно: 316\n",
      "RMSE второй модели равно: 353\n"
     ]
    }
   ],
   "source": [
    "###Распечатайте значения RMSE для обеих моделей. Используйте эти значения для ответа на задание шага 6.\n",
    "\n",
    "print(f\"RMSE первой модели равно: {int(error_1)}\")\n",
    "print(f\"RMSE второй модели равно: {int(error_2)}\")"
   ]
  },
  {
   "cell_type": "markdown",
   "id": "bd7492c5",
   "metadata": {
    "id": "_4jKIu679sjT"
   },
   "source": [
    "Что можете сказать про модели первого и второго гнома? Чья оказалась лучше с точки зрения **MSE**? Давайте теперь замерим значения средней абсолютной ошибки, то есть **MAE**:\n",
    "\n",
    "$$\n",
    "MAE = \\frac{1}{n} \\sum_i^n |a(x_i)-y_i|\n",
    "$$\n",
    "\n",
    "Рассчитайте MAE для обеих моделей."
   ]
  },
  {
   "cell_type": "code",
   "execution_count": 37,
   "id": "263e1bc0",
   "metadata": {
    "id": "Y8smKMFb9sjU",
    "tags": []
   },
   "outputs": [],
   "source": [
    "### Your code is here\n",
    "absolute_error_1 = (abs(df['prediction_1'] - df['trip_duration'])).mean()\n",
    "absolute_error_2 = (abs(df['prediction_2'] - df['trip_duration'])).mean()"
   ]
  },
  {
   "cell_type": "code",
   "execution_count": 39,
   "id": "330ea196",
   "metadata": {
    "id": "JVmfwcBR9sjU",
    "tags": []
   },
   "outputs": [
    {
     "name": "stdout",
     "output_type": "stream",
     "text": [
      "MAE первой модели равно: 300\n",
      "MAE второй модели равно: 281\n"
     ]
    }
   ],
   "source": [
    "###Распечатайте значения MAE для обеих моделей. Используйте эти значения для ответа на задание шага 7.\n",
    "print(f\"MAE первой модели равно: {int(absolute_error_1)}\")\n",
    "print(f\"MAE второй модели равно: {int(absolute_error_2)}\")"
   ]
  },
  {
   "cell_type": "markdown",
   "id": "1a5c136d",
   "metadata": {
    "id": "4cT9-FyD9sjV"
   },
   "source": [
    "Если бы Вас попросили выбрать лучшую модель среди предложенных, на какой Вы бы остановились? Если брать за финальную метрику **MAE**, то поменяли бы Вы решение?\n",
    "\n",
    "Конечно! Мы наблюдаем ту самую ситуацию, когда, имея 2 разные модели с разными предсказаниями, финальный выбор однозначно сделать нельзя, например, сказав *\"Первая модель в среднем и в общем лучше второй!\"*. **Нет!** Все зависит от формы ошибки, которую мы выбираем. Иными словами, от вида той самой функции, которая наказывает наши модели и замеряет качество их прогнозов.\n",
    "\n",
    "Ситуация, когда **MAE** и **MSE**, выбирая между 2-х,  указывают на разные модели, знакома нам еще из лекции. \n",
    "\n",
    "Такое может происходить, когда в одной из моделей ошибка, в среднем, независимо от порядка чисел, чуть-чуть лучше, чем во второй. Но при этом если первая модель и ошибается, то куда суровее второй. \n",
    "\n",
    "Представьте: Петя и Миша играют в дартс. Петя в 9/10 случаев попадает в яблочко, но каждый 10-ый раз кидает дротик в потолок. Миша же, хоть и не так часто забрасывает в центр (всего 6/10), но при этом, оставшиеся 4 попытки реализует не совсем фатально: попадает всего-лишь немного дальше яблочка. \n",
    "\n",
    "В таком выдуманном сценарии Петя будет лучше с точки зрения **MAE**, а Миша - с точки зрения **MSE**, так как не допускает фатальных ошибок, хоть и в среднем набирает меньше очков. \n",
    "\n",
    "Давайте убедимся в том, что фатальных ошибок у второй модели больше. \n",
    "\n",
    "Посчитайте, в скольки случаях предсказания отклоняются от ответа более, чем на **500**, для первой и второй моделей!\n",
    "\n",
    "Назовите переменные *counter_1* и *counter_2*"
   ]
  },
  {
   "cell_type": "code",
   "execution_count": 73,
   "id": "72fe1b2f",
   "metadata": {
    "id": "wOwMclmm9sjV",
    "tags": []
   },
   "outputs": [],
   "source": [
    "### Your code is here\n",
    "counter_1 = (abs(df['prediction_1'] - df['trip_duration']))\n",
    "counter_1 = sum(1 for x in counter_1 if x>500)\n",
    "\n",
    "counter_2 = (abs(df['prediction_2'] - df['trip_duration']))\n",
    "counter_2 = sum(1 for x in counter_2 if x>500)\n"
   ]
  },
  {
   "cell_type": "code",
   "execution_count": 75,
   "id": "b477a71d",
   "metadata": {
    "id": "D9Q7WLOO9sjV",
    "tags": []
   },
   "outputs": [
    {
     "name": "stdout",
     "output_type": "stream",
     "text": [
      "Количество отклонений >= 500 от верного ответа для первой модели равно: 33061\n",
      "Количество отклонений >= 500 от верного ответа для второй модели равно: 228789\n"
     ]
    }
   ],
   "source": [
    "###Распечатайте значения для обеих моделей. Используйте эти значения для ответа на задание шага 8.\n",
    "print(f\"Количество отклонений >= 500 от верного ответа для первой модели равно: {counter_1}\")\n",
    "print(f\"Количество отклонений >= 500 от верного ответа для второй модели равно: {counter_2}\")"
   ]
  },
  {
   "cell_type": "markdown",
   "id": "7bdafc10",
   "metadata": {
    "id": "hn1-bXxK9sjV"
   },
   "source": [
    "**Несимметричные метрики**\n",
    "\n",
    "Зачастую, чтобы выбрать среди всего многообразия моделей, мы можем использовать несимметричные метрики. \n",
    "\n",
    "**MSE** и **MAE** относятся к симметричным. Они одинаково наказывают модель как за перепредсказание, так и за недопредсказание. Ошибки *+2* и *-2* переводятся **MSE** и **MAE** в одинаковую меру: **4** в первом случае и **2** во втором.\n",
    "\n",
    "В действительности же, можно придумать целый ряд задач, когда лучше выбирать несимметричную метрику.\n",
    "\n",
    "Представьте, что мы - дистрибьютор инсулина, и нам нужно построить модель, которая оптимизирует поставки. В таком случае кажется, что поставить лекарства на 2 единицы больше и на 2 единицы меньше - совершенно разные сценарии и разная интерпретация катастрофичности ошибки. \n",
    "\n",
    "В первом случае мы можем потерять немного прибыли, а во втором - лишить пациента жизненно важного лекарства. Поэтому хотелось бы научиться еще и по-разному оценивать *недо- и перепредсказания*. Для этого и используют несимметричные метрики! Одну из них предлагаю Вам посчитать ниже."
   ]
  },
  {
   "cell_type": "markdown",
   "id": "b633a2c3",
   "metadata": {
    "id": "q5y4RARv9sjW"
   },
   "source": [
    "Рассчитайте **RMSLE**. Придумайте, как проверить характер несимметричности данной метрики: за что она наказывает больше - за перепредсказания или за недопредсказания? Это нужно будет в тестовом теоретическом задании.\n",
    "\n",
    "$$\n",
    "\\text{RMSLE}(X, y, a) = \\sqrt{\\frac{1}{\\ell}\\sum_{i=1}^{\\ell} \\big(\\log{(y_i + 1)} - \\log{(a(x_i) + 1)}\\big)^2}\n",
    "$$\n",
    "\n",
    "Для взятия натурального логарифма используйте библиотеку **math**\n",
    "\n",
    "P.S. Очевидно, что для некоторых отрицательных предсказаний, формула не будет работать, так как логарифм от отрицательных значений взять нельзя. Поэтому давайте подкорректируем наши прогнозы: все отрицательные числа переведем в нули (лучше уж в нашей задаче предсказать *ноль секунд*, чем *минус 100 секунд*)\n",
    "\n",
    "Переменные с метриками назовите *rmsle_1*, *rmsle_2*. Округлите их до 3 знаков после точки."
   ]
  },
  {
   "cell_type": "code",
   "execution_count": 91,
   "id": "11266140",
   "metadata": {
    "id": "Ze18m7x69sjW",
    "tags": []
   },
   "outputs": [],
   "source": [
    "### Замените все отрицательные предсказания на 0\n",
    "### Your code is here\n",
    "\n",
    "df['prediction_1'] = df['prediction_1'].apply(lambda x : 0 if x<0 else x)\n",
    "df['prediction_2'] = df['prediction_2'].apply(lambda x : 0 if x<0 else x)"
   ]
  },
  {
   "cell_type": "code",
   "execution_count": 176,
   "id": "ecae675f",
   "metadata": {
    "id": "14Z6JTog9sjX",
    "tags": []
   },
   "outputs": [
    {
     "name": "stdout",
     "output_type": "stream",
     "text": [
      "0.5537581774590482\n",
      "1.5564340528341787\n"
     ]
    }
   ],
   "source": [
    "from math import log\n",
    "import numpy as np\n",
    "\n",
    "\n",
    "\n",
    "### Your code is here\n",
    "rmsle_1 = np.sqrt(((np.log(df['trip_duration']+1) - np.log(df['prediction_1']+1))**2).mean())\n",
    "rmsle_2 = np.sqrt(((np.log(df['trip_duration']+1) - np.log(df['prediction_2']+1))**2).mean())\n",
    "\n",
    "print(rmsle_1)\n",
    "print(rmsle_2)"
   ]
  },
  {
   "cell_type": "code",
   "execution_count": 180,
   "id": "f0feed6e-ddf9-403d-b28b-2c63e0e7df1a",
   "metadata": {
    "tags": []
   },
   "outputs": [
    {
     "data": {
      "text/plain": [
       "0.16173211864168036"
      ]
     },
     "execution_count": 180,
     "metadata": {},
     "output_type": "execute_result"
    }
   ],
   "source": [
    "(np.log(150+1) - np.log(100+1))**2"
   ]
  },
  {
   "cell_type": "code",
   "execution_count": 162,
   "id": "a39e3d99-fdfc-4e60-8c06-ac4ab4d94b42",
   "metadata": {
    "tags": []
   },
   "outputs": [
    {
     "data": {
      "text/html": [
       "<div>\n",
       "<style scoped>\n",
       "    .dataframe tbody tr th:only-of-type {\n",
       "        vertical-align: middle;\n",
       "    }\n",
       "\n",
       "    .dataframe tbody tr th {\n",
       "        vertical-align: top;\n",
       "    }\n",
       "\n",
       "    .dataframe thead th {\n",
       "        text-align: right;\n",
       "    }\n",
       "</style>\n",
       "<table border=\"1\" class=\"dataframe\">\n",
       "  <thead>\n",
       "    <tr style=\"text-align: right;\">\n",
       "      <th></th>\n",
       "      <th>vendor_id</th>\n",
       "      <th>pickup_datetime</th>\n",
       "      <th>passenger_count</th>\n",
       "      <th>store_and_fwd_flag</th>\n",
       "      <th>trip_duration</th>\n",
       "      <th>distance_km</th>\n",
       "      <th>prediction_1</th>\n",
       "      <th>prediction_2</th>\n",
       "      <th>new_model</th>\n",
       "      <th>delta</th>\n",
       "      <th>delta_1</th>\n",
       "      <th>delta_2</th>\n",
       "    </tr>\n",
       "    <tr>\n",
       "      <th>id</th>\n",
       "      <th></th>\n",
       "      <th></th>\n",
       "      <th></th>\n",
       "      <th></th>\n",
       "      <th></th>\n",
       "      <th></th>\n",
       "      <th></th>\n",
       "      <th></th>\n",
       "      <th></th>\n",
       "      <th></th>\n",
       "      <th></th>\n",
       "      <th></th>\n",
       "    </tr>\n",
       "  </thead>\n",
       "  <tbody>\n",
       "    <tr>\n",
       "      <th>id2875421</th>\n",
       "      <td>1</td>\n",
       "      <td>2016-03-14 17:24:55</td>\n",
       "      <td>930.399753</td>\n",
       "      <td>0</td>\n",
       "      <td>455.0</td>\n",
       "      <td>1.500479</td>\n",
       "      <td>578.156451</td>\n",
       "      <td>355.270710</td>\n",
       "      <td>0.057159</td>\n",
       "      <td>123.156451</td>\n",
       "      <td>123.156451</td>\n",
       "      <td>-99.729290</td>\n",
       "    </tr>\n",
       "    <tr>\n",
       "      <th>id2181028</th>\n",
       "      <td>1</td>\n",
       "      <td>2016-03-26 13:30:55</td>\n",
       "      <td>930.399753</td>\n",
       "      <td>0</td>\n",
       "      <td>435.0</td>\n",
       "      <td>1.189925</td>\n",
       "      <td>666.070794</td>\n",
       "      <td>0.000000</td>\n",
       "      <td>0.180841</td>\n",
       "      <td>231.070794</td>\n",
       "      <td>231.070794</td>\n",
       "      <td>-435.000000</td>\n",
       "    </tr>\n",
       "    <tr>\n",
       "      <th>id0801584</th>\n",
       "      <td>1</td>\n",
       "      <td>2016-01-30 22:01:40</td>\n",
       "      <td>1061.355223</td>\n",
       "      <td>0</td>\n",
       "      <td>443.0</td>\n",
       "      <td>1.100107</td>\n",
       "      <td>599.836514</td>\n",
       "      <td>229.013426</td>\n",
       "      <td>0.091505</td>\n",
       "      <td>156.836514</td>\n",
       "      <td>156.836514</td>\n",
       "      <td>-213.986574</td>\n",
       "    </tr>\n",
       "    <tr>\n",
       "      <th>id1436371</th>\n",
       "      <td>1</td>\n",
       "      <td>2016-05-10 22:08:41</td>\n",
       "      <td>930.399753</td>\n",
       "      <td>0</td>\n",
       "      <td>1274.0</td>\n",
       "      <td>3.810357</td>\n",
       "      <td>1496.241706</td>\n",
       "      <td>828.776541</td>\n",
       "      <td>0.025818</td>\n",
       "      <td>222.241706</td>\n",
       "      <td>222.241706</td>\n",
       "      <td>-445.223459</td>\n",
       "    </tr>\n",
       "    <tr>\n",
       "      <th>id2900608</th>\n",
       "      <td>1</td>\n",
       "      <td>2016-05-27 00:43:36</td>\n",
       "      <td>930.399753</td>\n",
       "      <td>0</td>\n",
       "      <td>1414.0</td>\n",
       "      <td>6.390020</td>\n",
       "      <td>1716.724014</td>\n",
       "      <td>1347.812200</td>\n",
       "      <td>0.037586</td>\n",
       "      <td>302.724014</td>\n",
       "      <td>302.724014</td>\n",
       "      <td>-66.187800</td>\n",
       "    </tr>\n",
       "    <tr>\n",
       "      <th>...</th>\n",
       "      <td>...</td>\n",
       "      <td>...</td>\n",
       "      <td>...</td>\n",
       "      <td>...</td>\n",
       "      <td>...</td>\n",
       "      <td>...</td>\n",
       "      <td>...</td>\n",
       "      <td>...</td>\n",
       "      <td>...</td>\n",
       "      <td>...</td>\n",
       "      <td>...</td>\n",
       "      <td>...</td>\n",
       "    </tr>\n",
       "    <tr>\n",
       "      <th>id0439281</th>\n",
       "      <td>1</td>\n",
       "      <td>2016-06-23 10:10:28</td>\n",
       "      <td>1070.232174</td>\n",
       "      <td>0</td>\n",
       "      <td>880.0</td>\n",
       "      <td>2.181047</td>\n",
       "      <td>1423.984611</td>\n",
       "      <td>493.990557</td>\n",
       "      <td>0.231225</td>\n",
       "      <td>543.984611</td>\n",
       "      <td>543.984611</td>\n",
       "      <td>-386.009443</td>\n",
       "    </tr>\n",
       "    <tr>\n",
       "      <th>id3109086</th>\n",
       "      <td>1</td>\n",
       "      <td>2016-06-24 10:33:51</td>\n",
       "      <td>930.399753</td>\n",
       "      <td>0</td>\n",
       "      <td>601.0</td>\n",
       "      <td>2.562701</td>\n",
       "      <td>923.664722</td>\n",
       "      <td>474.852752</td>\n",
       "      <td>0.184190</td>\n",
       "      <td>322.664722</td>\n",
       "      <td>322.664722</td>\n",
       "      <td>-126.147248</td>\n",
       "    </tr>\n",
       "    <tr>\n",
       "      <th>id0469946</th>\n",
       "      <td>1</td>\n",
       "      <td>2016-03-06 11:04:48</td>\n",
       "      <td>1005.458335</td>\n",
       "      <td>0</td>\n",
       "      <td>777.0</td>\n",
       "      <td>3.979754</td>\n",
       "      <td>1097.758972</td>\n",
       "      <td>24.278683</td>\n",
       "      <td>0.119170</td>\n",
       "      <td>320.758972</td>\n",
       "      <td>320.758972</td>\n",
       "      <td>-752.721317</td>\n",
       "    </tr>\n",
       "    <tr>\n",
       "      <th>id3445276</th>\n",
       "      <td>0</td>\n",
       "      <td>2016-04-03 13:51:25</td>\n",
       "      <td>1005.458335</td>\n",
       "      <td>0</td>\n",
       "      <td>972.0</td>\n",
       "      <td>5.264876</td>\n",
       "      <td>1440.967901</td>\n",
       "      <td>936.947639</td>\n",
       "      <td>0.154748</td>\n",
       "      <td>468.967901</td>\n",
       "      <td>468.967901</td>\n",
       "      <td>-35.052361</td>\n",
       "    </tr>\n",
       "    <tr>\n",
       "      <th>id1209952</th>\n",
       "      <td>0</td>\n",
       "      <td>2016-04-05 14:44:25</td>\n",
       "      <td>930.399753</td>\n",
       "      <td>0</td>\n",
       "      <td>198.0</td>\n",
       "      <td>1.135453</td>\n",
       "      <td>382.109137</td>\n",
       "      <td>150.075953</td>\n",
       "      <td>0.429045</td>\n",
       "      <td>184.109137</td>\n",
       "      <td>184.109137</td>\n",
       "      <td>-47.924047</td>\n",
       "    </tr>\n",
       "  </tbody>\n",
       "</table>\n",
       "<p>646866 rows × 12 columns</p>\n",
       "</div>"
      ],
      "text/plain": [
       "           vendor_id      pickup_datetime  passenger_count  \\\n",
       "id                                                           \n",
       "id2875421          1  2016-03-14 17:24:55       930.399753   \n",
       "id2181028          1  2016-03-26 13:30:55       930.399753   \n",
       "id0801584          1  2016-01-30 22:01:40      1061.355223   \n",
       "id1436371          1  2016-05-10 22:08:41       930.399753   \n",
       "id2900608          1  2016-05-27 00:43:36       930.399753   \n",
       "...              ...                  ...              ...   \n",
       "id0439281          1  2016-06-23 10:10:28      1070.232174   \n",
       "id3109086          1  2016-06-24 10:33:51       930.399753   \n",
       "id0469946          1  2016-03-06 11:04:48      1005.458335   \n",
       "id3445276          0  2016-04-03 13:51:25      1005.458335   \n",
       "id1209952          0  2016-04-05 14:44:25       930.399753   \n",
       "\n",
       "           store_and_fwd_flag  trip_duration  distance_km  prediction_1  \\\n",
       "id                                                                        \n",
       "id2875421                   0          455.0     1.500479    578.156451   \n",
       "id2181028                   0          435.0     1.189925    666.070794   \n",
       "id0801584                   0          443.0     1.100107    599.836514   \n",
       "id1436371                   0         1274.0     3.810357   1496.241706   \n",
       "id2900608                   0         1414.0     6.390020   1716.724014   \n",
       "...                       ...            ...          ...           ...   \n",
       "id0439281                   0          880.0     2.181047   1423.984611   \n",
       "id3109086                   0          601.0     2.562701    923.664722   \n",
       "id0469946                   0          777.0     3.979754   1097.758972   \n",
       "id3445276                   0          972.0     5.264876   1440.967901   \n",
       "id1209952                   0          198.0     1.135453    382.109137   \n",
       "\n",
       "           prediction_2  new_model       delta     delta_1     delta_2  \n",
       "id                                                                      \n",
       "id2875421    355.270710   0.057159  123.156451  123.156451  -99.729290  \n",
       "id2181028      0.000000   0.180841  231.070794  231.070794 -435.000000  \n",
       "id0801584    229.013426   0.091505  156.836514  156.836514 -213.986574  \n",
       "id1436371    828.776541   0.025818  222.241706  222.241706 -445.223459  \n",
       "id2900608   1347.812200   0.037586  302.724014  302.724014  -66.187800  \n",
       "...                 ...        ...         ...         ...         ...  \n",
       "id0439281    493.990557   0.231225  543.984611  543.984611 -386.009443  \n",
       "id3109086    474.852752   0.184190  322.664722  322.664722 -126.147248  \n",
       "id0469946     24.278683   0.119170  320.758972  320.758972 -752.721317  \n",
       "id3445276    936.947639   0.154748  468.967901  468.967901  -35.052361  \n",
       "id1209952    150.075953   0.429045  184.109137  184.109137  -47.924047  \n",
       "\n",
       "[646866 rows x 12 columns]"
      ]
     },
     "execution_count": 162,
     "metadata": {},
     "output_type": "execute_result"
    }
   ],
   "source": [
    "import matplotlib.pyplot as plt\n",
    "df['new_model'] = (np.log(df['trip_duration']+1) - np.log(df['prediction_1']+1))**2\n",
    "\n",
    "df['delta_1'] = df['prediction_1'] - df['trip_duration']\n",
    "df['delta_2'] = df['prediction_2'] - df['trip_duration']\n",
    "\n",
    "#df[df['delta_1']>0]\n",
    "df[df['delta_2']<0]"
   ]
  },
  {
   "cell_type": "code",
   "execution_count": 172,
   "id": "f1b3164a-e0ee-487b-98bd-9bb93891e784",
   "metadata": {
    "tags": []
   },
   "outputs": [
    {
     "name": "stdout",
     "output_type": "stream",
     "text": [
      "1923\n",
      "646866\n"
     ]
    }
   ],
   "source": [
    "print(len(df[df['delta_1']<0]))\n",
    "print(len(df[df['delta_2']<0]))"
   ]
  },
  {
   "cell_type": "code",
   "execution_count": 174,
   "id": "bbdc32fe-c2fb-44b1-800d-893096b852c1",
   "metadata": {
    "tags": []
   },
   "outputs": [
    {
     "name": "stdout",
     "output_type": "stream",
     "text": [
      "1456721\n",
      "811778\n"
     ]
    }
   ],
   "source": [
    "print(len(df[df['delta_1']>0]))\n",
    "print(len(df[df['delta_2']>0]))"
   ]
  },
  {
   "cell_type": "code",
   "execution_count": 118,
   "id": "ade4ea0d",
   "metadata": {
    "id": "A_IA-u2d9sjX",
    "tags": []
   },
   "outputs": [
    {
     "name": "stdout",
     "output_type": "stream",
     "text": [
      "RMSLE первой модели равно: 0.5537581774590482\n",
      "RMSLE второй модели равно: 1.5564340528341787\n"
     ]
    }
   ],
   "source": [
    "###Распечатайте значения для обеих моделей. Используйте эти значения для ответа на задание шага 9.\n",
    "print(f\"RMSLE первой модели равно: {rmsle_1}\")\n",
    "print(f\"RMSLE второй модели равно: {rmsle_2}\")"
   ]
  },
  {
   "cell_type": "markdown",
   "id": "95c1eb68",
   "metadata": {
    "id": "AlimEbB_9sjX"
   },
   "source": [
    "Посчитайте, для какого количества объектов первая модель сделала перепредсказания и недопредсказания\n",
    "\n",
    "Аналогичный расчет проведите для первой модели и недопредсказания.\n",
    "\n",
    "P.S. оставьте колонку с предсказанием такой, какой она оказалась после замены отрицательных значений\n",
    "\n",
    "Счетчики перепредсказаний и недопредсказаний назовите *over_predicted_1* и *under_predicted_1*"
   ]
  },
  {
   "cell_type": "code",
   "execution_count": null,
   "id": "623f4a1c",
   "metadata": {
    "id": "3JJUHCQU9sjY"
   },
   "outputs": [],
   "source": [
    "### Your code is here\n",
    "over_predicted_1\n",
    "\n"
   ]
  },
  {
   "cell_type": "code",
   "execution_count": null,
   "id": "046f6a2e",
   "metadata": {
    "id": "2MwyPvvM9sjY"
   },
   "outputs": [],
   "source": [
    "###Распечатайте значения для обеих моделей. Используйте эти значения для ответа на задание шага 10.\n",
    "print(f\"Предсказания первой модели оказались больше действительных в {over_predicted_1} случаях\")\n",
    "print(f\"Предсказания первой модели оказались меньше действительных в {under_predicted_1} случаях\")"
   ]
  },
  {
   "cell_type": "markdown",
   "id": "23e2bc81",
   "metadata": {
    "id": "YQ6Cds9a9sjY"
   },
   "source": [
    "Аналогично для второй модели\n",
    "\n",
    "\n",
    "Счетчики перепредсказаний и недопредсказаний назовите *over_predicted_2* и *under_predicted_2*"
   ]
  },
  {
   "cell_type": "code",
   "execution_count": null,
   "id": "302bd3b8",
   "metadata": {
    "id": "xphLYA3C9sjY"
   },
   "outputs": [],
   "source": [
    "### Your code is here"
   ]
  },
  {
   "cell_type": "code",
   "execution_count": null,
   "id": "c399c916",
   "metadata": {
    "id": "x8ee6qxn9sjZ"
   },
   "outputs": [],
   "source": [
    "###Распечатайте значения для обеих моделей. Используйте эти значения для ответа на задание шага 11.\n",
    "print(f\"Предсказания второй модели оказались больше действительных в {over_predicted_2} случаях\")\n",
    "print(f\"Предсказания второй модели оказались меньше действительных в {under_predicted_2} случаях\")"
   ]
  },
  {
   "cell_type": "markdown",
   "id": "8fd43a87",
   "metadata": {
    "id": "QfTRmevE9sjZ"
   },
   "source": [
    "Сравните две модели заново. Согласуется ли полученный результат с подсчетом **RMSLE** ранее?"
   ]
  }
 ],
 "metadata": {
  "colab": {
   "collapsed_sections": [],
   "name": "HW_2.ipynb",
   "provenance": []
  },
  "kernelspec": {
   "display_name": "Python 3 (ipykernel)",
   "language": "python",
   "name": "python3"
  },
  "language_info": {
   "codemirror_mode": {
    "name": "ipython",
    "version": 3
   },
   "file_extension": ".py",
   "mimetype": "text/x-python",
   "name": "python",
   "nbconvert_exporter": "python",
   "pygments_lexer": "ipython3",
   "version": "3.11.7"
  }
 },
 "nbformat": 4,
 "nbformat_minor": 5
}
