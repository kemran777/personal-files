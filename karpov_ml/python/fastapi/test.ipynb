{
 "cells": [
  {
   "cell_type": "code",
   "execution_count": null,
   "id": "65038980-15d3-4650-b034-6b8bf89f59de",
   "metadata": {
    "tags": []
   },
   "outputs": [],
   "source": [
    "from fastapi import FastAPI\n",
    "\n",
    "# Создаем экземпляр приложения FastAPI\n",
    "app = FastAPI()\n",
    "\n",
    "# Определяем endpoint для корня \"/\" с методом GET\n",
    "@app.get(\"/\")\n",
    "def read_root():\n",
    "    return \"hello, world\""
   ]
  },
  {
   "cell_type": "code",
   "execution_count": null,
   "id": "5d923d43-c77b-4e8f-8779-231061de3de6",
   "metadata": {
    "tags": []
   },
   "outputs": [],
   "source": [
    "pip install unicorn"
   ]
  },
  {
   "cell_type": "markdown",
   "id": "e6702a98-9ed6-4b10-8851-dfd25e842cae",
   "metadata": {},
   "source": [
    "Напишите endpoint GET /, который будет принимать два числа на вход и возвращать их сумму.\n",
    "\n",
    "Пример использования: GET /?a=5&b=3 вернет строку 8 и status_code=200\n",
    "\n",
    "Чтобы проверить у себя работоспособность, запустите сервис через uvicorn app:app --reload --port 8899, затем в Postman зайдите на http://localhost:8899/?a=5&b=3, должно вернуться 8. Вы можете также зайти по этой же ссылке в браузере и увидеть одну надпись 8 на белом фоне."
   ]
  },
  {
   "cell_type": "code",
   "execution_count": null,
   "id": "cb0d5fd5-75c8-45ad-bef3-7534c065f821",
   "metadata": {},
   "outputs": [],
   "source": [
    "from fastapi import FastAPI, Query\n",
    "\n",
    "app = FastAPI()\n",
    "\n",
    "@app.get(\"/\")\n",
    "def sum_two(a: int, b: int):\n",
    "    return a+b\n"
   ]
  },
  {
   "cell_type": "markdown",
   "id": "2f4f1ab2-f4c7-42c2-b961-c16804be7e6e",
   "metadata": {},
   "source": [
    "Потренируемся в валидации данных через указание типа переменной.\n",
    "\n",
    "Напишите endpoint GET /sum_date, который будет принимать два параметра: current_date и offset. current_date будет иметь вид YYYY-MM-DD - это дата в формате год-месяц-день (например, 2022-01-01). offset будет целым числом (может быть отрицательным).\n",
    "\n",
    "Ваш endpoint должен провалидировать, что current_date имеет тип datetime.date (используйте подсказку типов, когда будете указывать список аргументов функции!) и валидировать, что offset имеет тип int. Затем endpoint должен прибавить к дате current_date дни в количестве offset и вернуть ответом строку в формате год-месяц-день.\n",
    "\n",
    "Пример использования:\n",
    "\n",
    "GET /sum_date?current_date=2008-09-15&offset=2 вернет \"2008-09-17\""
   ]
  },
  {
   "cell_type": "code",
   "execution_count": null,
   "id": "bbff4ca1-733e-412e-acd2-1ecbecb62758",
   "metadata": {},
   "outputs": [],
   "source": [
    "from fastapi import FastAPI, HTTPException\n",
    "from datetime import datetime, timedelta\n",
    "\n",
    "app = FastAPI()\n",
    "\n",
    "@app.get(\"/sum_date\")\n",
    "def sum_date(current_date: datetime, offset: int) -> str:\n",
    "    # Проверка типов с использованием аннотаций и валидации\n",
    "    if not isinstance(current_date, datetime):\n",
    "        raise HTTPException(status_code=400, detail=\"current_date should be of type datetime.date\")\n",
    "    if not isinstance(offset, int):\n",
    "        raise HTTPException(status_code=400, detail=\"offset should be of type int\")\n",
    "    \n",
    "    # Прибавление количества дней (offset) к дате\n",
    "    new_date = current_date + timedelta(days=offset)\n",
    "    \n",
    "    # Возвращаем дату в формате YYYY-MM-DD\n",
    "    return new_date.strftime(\"%Y-%m-%d\")\n"
   ]
  },
  {
   "cell_type": "markdown",
   "id": "e23cf384-c62d-458c-b556-155da73635b5",
   "metadata": {
    "tags": []
   },
   "source": [
    "В этом задании потренируемся в валидации данных через модели (BaseModel из pydantic).\n",
    "\n",
    "В следующем задании нужно будет написать endpoint POST /user/validate, который будет принимать на вход JSON в формате:\n",
    "\n",
    "{\n",
    "  \"name\": <строка>,\n",
    "  \"surname\": <строка>,\n",
    "  \"age\": <число>,\n",
    "  \"registration_date\": <дата в формате YYYY-MM-DD>\n",
    "}\n",
    "\n",
    "\n",
    "Мы обязательно будем валидировать входные данные: ни один из ключей в JSON не должен быть пропущен и все они должны иметь тип, как указано выше. Для валидации воспользуемся моделями pydantic.\n",
    "\n",
    "В этом задании нужно написать класс User, который будет наследоваться от BaseModel из pydantic. Опишите в нем поля name, surname, age, registration_date, укажите их типы (через : - как вот name: str).\n",
    "\n",
    "Как обычно, пишите код в файле app.py. Для сдачи задания отправьте этот файл с описанием класса User."
   ]
  },
  {
   "cell_type": "code",
   "execution_count": null,
   "id": "2cb0d9ae-9522-4766-b51c-1d3fa2d32f83",
   "metadata": {},
   "outputs": [],
   "source": [
    "from fastapi import FastAPI\n",
    "from pydantic import BaseModel\n",
    "from datetime import date\n",
    "\n",
    "app = FastAPI()\n",
    "\n",
    "class User(BaseModel):\n",
    "    name: str\n",
    "    surname: str\n",
    "    age: int\n",
    "    registration_date: date\n",
    "\n",
    "@app.post(\"/user/validate\")\n",
    "def validate_user(user: User):\n",
    "    return {\"message\": \"User validated\", \"user\": user}"
   ]
  },
  {
   "cell_type": "code",
   "execution_count": 3,
   "id": "bc46209b-2847-4c7f-a323-0743b2128700",
   "metadata": {
    "tags": []
   },
   "outputs": [
    {
     "name": "stdout",
     "output_type": "stream",
     "text": [
      "Requirement already satisfied: fastapi in /opt/anaconda3/lib/python3.11/site-packages (0.115.6)\n",
      "Collecting asyncpg\n",
      "  Downloading asyncpg-0.30.0-cp311-cp311-macosx_11_0_arm64.whl.metadata (5.0 kB)\n",
      "Collecting uvicorn\n",
      "  Using cached uvicorn-0.33.0-py3-none-any.whl.metadata (6.6 kB)\n",
      "Requirement already satisfied: starlette<0.42.0,>=0.40.0 in /opt/anaconda3/lib/python3.11/site-packages (from fastapi) (0.41.3)\n",
      "Requirement already satisfied: pydantic!=1.8,!=1.8.1,!=2.0.0,!=2.0.1,!=2.1.0,<3.0.0,>=1.7.4 in /opt/anaconda3/lib/python3.11/site-packages (from fastapi) (1.10.12)\n",
      "Requirement already satisfied: typing-extensions>=4.8.0 in /opt/anaconda3/lib/python3.11/site-packages (from fastapi) (4.9.0)\n",
      "Requirement already satisfied: click>=7.0 in /opt/anaconda3/lib/python3.11/site-packages (from uvicorn) (8.1.7)\n",
      "Requirement already satisfied: h11>=0.8 in /opt/anaconda3/lib/python3.11/site-packages (from uvicorn) (0.14.0)\n",
      "Requirement already satisfied: anyio<5,>=3.4.0 in /opt/anaconda3/lib/python3.11/site-packages (from starlette<0.42.0,>=0.40.0->fastapi) (4.2.0)\n",
      "Requirement already satisfied: idna>=2.8 in /opt/anaconda3/lib/python3.11/site-packages (from anyio<5,>=3.4.0->starlette<0.42.0,>=0.40.0->fastapi) (2.10)\n",
      "Requirement already satisfied: sniffio>=1.1 in /opt/anaconda3/lib/python3.11/site-packages (from anyio<5,>=3.4.0->starlette<0.42.0,>=0.40.0->fastapi) (1.3.0)\n",
      "Downloading asyncpg-0.30.0-cp311-cp311-macosx_11_0_arm64.whl (645 kB)\n",
      "\u001b[2K   \u001b[90m━━━━━━━━━━━━━━━━━━━━━━━━━━━━━━━━━━━━━━━━\u001b[0m \u001b[32m645.9/645.9 kB\u001b[0m \u001b[31m2.2 MB/s\u001b[0m eta \u001b[36m0:00:00\u001b[0ma \u001b[36m0:00:01\u001b[0m\n",
      "\u001b[?25hUsing cached uvicorn-0.33.0-py3-none-any.whl (62 kB)\n",
      "Installing collected packages: uvicorn, asyncpg\n",
      "Successfully installed asyncpg-0.30.0 uvicorn-0.33.0\n",
      "Note: you may need to restart the kernel to use updated packages.\n"
     ]
    }
   ],
   "source": [
    "pip install fastapi asyncpg uvicorn"
   ]
  },
  {
   "cell_type": "code",
   "execution_count": 7,
   "id": "5aaba83f-bc15-4238-ac58-1d810eede645",
   "metadata": {
    "tags": []
   },
   "outputs": [
    {
     "name": "stdout",
     "output_type": "stream",
     "text": [
      "Requirement already satisfied: asyncpg in /opt/anaconda3/lib/python3.11/site-packages (0.30.0)\n",
      "Note: you may need to restart the kernel to use updated packages.\n"
     ]
    }
   ],
   "source": [
    "pip install asyncpg"
   ]
  },
  {
   "cell_type": "code",
   "execution_count": null,
   "id": "104a2f0d-54e3-4f61-bd43-839b6db984ce",
   "metadata": {},
   "outputs": [],
   "source": []
  }
 ],
 "metadata": {
  "kernelspec": {
   "display_name": "Python 3 (ipykernel)",
   "language": "python",
   "name": "python3"
  },
  "language_info": {
   "codemirror_mode": {
    "name": "ipython",
    "version": 3
   },
   "file_extension": ".py",
   "mimetype": "text/x-python",
   "name": "python",
   "nbconvert_exporter": "python",
   "pygments_lexer": "ipython3",
   "version": "3.11.7"
  }
 },
 "nbformat": 4,
 "nbformat_minor": 5
}
