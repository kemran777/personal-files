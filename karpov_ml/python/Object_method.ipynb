{
 "cells": [
  {
   "cell_type": "code",
   "execution_count": 99,
   "id": "b44b5164-2f19-4e27-b1d4-a583f37708cf",
   "metadata": {
    "tags": []
   },
   "outputs": [],
   "source": [
    "class Triangle:\n",
    "    n_dots=3\n",
    "    def __init__(self,a:float,b:float,c:float):\n",
    "        self.a=a\n",
    "        self.b=b\n",
    "        self.c=c"
   ]
  },
  {
   "cell_type": "code",
   "execution_count": 101,
   "id": "d60c82a0-fbaa-410f-aa6c-a70238730c5f",
   "metadata": {
    "tags": []
   },
   "outputs": [],
   "source": [
    "c = Triangle(3,10,5)"
   ]
  },
  {
   "cell_type": "code",
   "execution_count": 103,
   "id": "087c3d8e-2429-4796-9d7a-1ea0304a2669",
   "metadata": {
    "tags": []
   },
   "outputs": [
    {
     "data": {
      "text/plain": [
       "3"
      ]
     },
     "execution_count": 103,
     "metadata": {},
     "output_type": "execute_result"
    }
   ],
   "source": [
    "Triangle.n_dots"
   ]
  },
  {
   "cell_type": "code",
   "execution_count": 151,
   "id": "d32779a2-61ee-4787-a9af-20bb0bc2bae9",
   "metadata": {
    "tags": []
   },
   "outputs": [],
   "source": [
    "class Triangle:\n",
    "    n_dots=3\n",
    "    def __init__(self,a:float,b:float,c:float):\n",
    "        self.a=a\n",
    "        self.b=b\n",
    "        self.c=c\n",
    "    def area(self):\n",
    "        p = (self.a + self.b + self.c) / 2\n",
    "        return ((p - self.a) * (p - self.b) * (p - self.c) * p) ** 0.5\n",
    "\n"
   ]
  },
  {
   "cell_type": "code",
   "execution_count": 153,
   "id": "d35b85e4-7746-4937-b82f-2b422b9b9528",
   "metadata": {
    "tags": []
   },
   "outputs": [
    {
     "data": {
      "text/plain": [
       "<__main__.Triangle at 0x14aa20850>"
      ]
     },
     "execution_count": 153,
     "metadata": {},
     "output_type": "execute_result"
    }
   ],
   "source": [
    "Triangle(3,4,5)"
   ]
  },
  {
   "cell_type": "code",
   "execution_count": 199,
   "id": "d83ac362-637d-468d-b24b-532f9b2d1a8f",
   "metadata": {
    "tags": []
   },
   "outputs": [],
   "source": [
    "class Triangle:  \n",
    "    n_dots = 3  \n",
    "    \n",
    "    def __init__(self, a: float, b: float, c: float):  \n",
    "        if a + b <= c or a + c <= b or b + c <= a:\n",
    "            raise ValueError(\"triangle inequality does not hold\")  \n",
    "        \n",
    "        self.a = a  \n",
    "        self.b = b  \n",
    "        self.c = c  \n",
    "        self.p = (self.a + self.b + self.c) / 2  \n",
    "    \n",
    "    def area(self):  \n",
    "        return ((self.p - self.a) * (self.p - self.b) * (self.p - self.c) * self.p) ** 0.5"
   ]
  },
  {
   "cell_type": "code",
   "execution_count": 203,
   "id": "b647d4b9-9cda-4211-b0b7-77598646f588",
   "metadata": {
    "tags": []
   },
   "outputs": [],
   "source": [
    "tr_1 = Triangle(3,4,5)\n",
    "tr_2 = Triangle(3,4,6) \n",
    "\n",
    "square_1 = tr_1.area()\n",
    "square_2 = tr_2.area()"
   ]
  },
  {
   "cell_type": "code",
   "execution_count": 207,
   "id": "d9a5fc0d-f418-47f0-952e-7361106ea9e2",
   "metadata": {
    "tags": []
   },
   "outputs": [
    {
     "name": "stdout",
     "output_type": "stream",
     "text": [
      "6.0\n",
      "5.332682251925386\n"
     ]
    }
   ],
   "source": [
    "print(square_1)\n",
    "print(square_2)"
   ]
  },
  {
   "cell_type": "code",
   "execution_count": null,
   "id": "fc81ca05-02dc-46c5-a52d-24fa146fdd60",
   "metadata": {},
   "outputs": [],
   "source": []
  }
 ],
 "metadata": {
  "kernelspec": {
   "display_name": "Python 3 (ipykernel)",
   "language": "python",
   "name": "python3"
  },
  "language_info": {
   "codemirror_mode": {
    "name": "ipython",
    "version": 3
   },
   "file_extension": ".py",
   "mimetype": "text/x-python",
   "name": "python",
   "nbconvert_exporter": "python",
   "pygments_lexer": "ipython3",
   "version": "3.11.7"
  }
 },
 "nbformat": 4,
 "nbformat_minor": 5
}
