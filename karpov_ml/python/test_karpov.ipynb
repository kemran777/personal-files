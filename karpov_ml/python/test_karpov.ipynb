{
 "cells": [
  {
   "cell_type": "code",
   "execution_count": null,
   "id": "474d6b0e-bdb5-4cbb-be33-1473a940ea8e",
   "metadata": {
    "tags": []
   },
   "outputs": [],
   "source": [
    "import pandas as pd\n",
    "import psycopg2\n",
    "import matplotlib.pyplot as plt\n",
    "import matplotlib.ticker as ticker\n",
    "import numpy as np\n",
    "import seaborn as sns \n",
    "import statsmodels.stats.proportion as proportion\n",
    "from scipy.stats import ttest_ind,mannwhitneyu,shapiro,norm\n",
    "from statsmodels.stats.weightstats import ztest\n",
    "from tqdm import tqdm\n",
    "import timeit\n",
    "from scipy import stats\n",
    "import math\n",
    "from datetime import date, datetime, timedelta\n",
    "import time\n",
    "from sqlalchemy import create_engine, text\n",
    "from sqlalchemy.orm import sessionmaker\n",
    "import warnings\n",
    "warnings.filterwarnings(\"ignore\")\n",
    "\n",
    "from credential import postgres_secret,clickhouse_dwh_secret\n",
    "\n",
    "def get_engine(user):\n",
    "    if user == postgres_secret['user']:\n",
    "        db_name = postgres_secret['db_name']\n",
    "        password = postgres_secret['password']\n",
    "        host = postgres_secret['host']\n",
    "        engine = create_engine(f'postgresql://{user}:{password}@{host}:6432/{db_name}')\n",
    "    elif user == clickhouse_dwh_secret['user']:\n",
    "            db_name = clickhouse_dwh_secret['db_name'] \n",
    "            password = clickhouse_dwh_secret['password']\n",
    "            host = clickhouse_dwh_secret['host']\n",
    "            engine = create_engine(f'clickhouse://{user}:{password}@{host}:8123/{db_name}')\n",
    "    return engine\n",
    "    \n",
    "\n",
    "    \n",
    "def execute(SQL, user):\n",
    "    start_time = time.time()  # запоминаем время начала выполнения функции\n",
    "    engine = get_engine(user)\n",
    "    Session = sessionmaker(bind=engine)  # sessions factory ()\n",
    "    with Session() as session: # open session\n",
    "        result = session.execute(text(SQL))\n",
    "        df = pd.DataFrame(result.fetchall(), columns=result.keys())\n",
    "        \n",
    "    end_time = time.time()  # запоминаем время окончания выполнения функции\n",
    "    execution_time = round(end_time - start_time,4) # вычисляем время выполнения   \n",
    "    \n",
    "    print(f\"Время выполнения функции: {execution_time} секунд\")\n",
    "    print()\n",
    "    return df"
   ]
  },
  {
   "cell_type": "code",
   "execution_count": null,
   "id": "2e77b30e-7beb-4636-9d78-0d4be365890f",
   "metadata": {
    "tags": []
   },
   "outputs": [],
   "source": [
    "df = pd.read_csv('/Users/kemran/Downloads/data.csv',sep=',')"
   ]
  },
  {
   "cell_type": "code",
   "execution_count": null,
   "id": "d2645758-3f11-48ed-ab53-37295ebb7716",
   "metadata": {
    "tags": []
   },
   "outputs": [],
   "source": [
    "(df['dateAdded'].head())"
   ]
  },
  {
   "cell_type": "code",
   "execution_count": null,
   "id": "e7c87e81-e03d-4038-8350-fdec1c8f6808",
   "metadata": {
    "tags": []
   },
   "outputs": [],
   "source": [
    "df.head()"
   ]
  },
  {
   "cell_type": "code",
   "execution_count": null,
   "id": "d2effdbe-ef32-4cad-ba08-57699ab01891",
   "metadata": {
    "tags": []
   },
   "outputs": [],
   "source": [
    "df[df['city']=='California'].index"
   ]
  },
  {
   "cell_type": "code",
   "execution_count": null,
   "id": "2270f775-1084-43b6-9d32-d33ed0befefc",
   "metadata": {
    "tags": []
   },
   "outputs": [],
   "source": [
    "# Фильтруем DataFrame и получаем индексы  \n",
    "california_indexes = df[(df['city'] == 'California') & (df['name']=='Taco Bell')].index.tolist()  \n",
    "\n",
    "# Выводим индексы в виде списка  \n",
    "print(california_indexes)"
   ]
  },
  {
   "cell_type": "code",
   "execution_count": null,
   "id": "cabcfa5c-a6ee-4ed5-b76d-f25ad3dcfee8",
   "metadata": {
    "tags": []
   },
   "outputs": [],
   "source": [
    "df[((df['city'] == 'New York') | (df['name']=='Taco Bell')) & (~df['menus.name'].isin(['Volcano Taco','Fresco Soft Taco']))]\n"
   ]
  },
  {
   "cell_type": "code",
   "execution_count": null,
   "id": "51532e15-6d0e-444d-9fa2-fa3c6fe3071b",
   "metadata": {
    "tags": []
   },
   "outputs": [],
   "source": [
    "type(df[['categories']])"
   ]
  },
  {
   "cell_type": "code",
   "execution_count": null,
   "id": "dd840160-8985-49a1-aa43-8ac165683302",
   "metadata": {
    "tags": []
   },
   "outputs": [],
   "source": [
    "df.groupby(by = 'city',as_index=False).size()#.sort_values(by='id',ascending=False).head()['city'].tolist()"
   ]
  },
  {
   "cell_type": "code",
   "execution_count": null,
   "id": "f1baba97-a49f-434e-bb74-66133ee3eeb7",
   "metadata": {
    "tags": []
   },
   "outputs": [],
   "source": [
    "df.groupby(by = 'city')['id'].count().reset_index()"
   ]
  },
  {
   "cell_type": "code",
   "execution_count": null,
   "id": "4002f437-cc35-4c5b-b7f5-a99b044a4812",
   "metadata": {
    "tags": []
   },
   "outputs": [],
   "source": [
    "df['dateAdded'] = pd.to_datetime(df['dateAdded'])\n",
    "\n",
    "df[df['dateAdded'].dt.month==10].sort_values(by = 'dateAdded').index"
   ]
  },
  {
   "cell_type": "code",
   "execution_count": null,
   "id": "3b9c9f37-689e-41a6-afd3-ad62cfb1e59d",
   "metadata": {
    "tags": []
   },
   "outputs": [],
   "source": [
    "import pandas as pd  \n",
    "\n",
    "\n",
    "df['dateAdded'] = pd.to_datetime(df['dateAdded'])  \n",
    "result = df.groupby(df['dateAdded'].dt.month)['id'].nunique().reset_index()\n",
    "\n",
    "result = result.set_index('dateAdded')\n",
    "\n",
    "result"
   ]
  },
  {
   "cell_type": "code",
   "execution_count": null,
   "id": "91fde631-7593-4366-b2a3-92359267bb93",
   "metadata": {},
   "outputs": [],
   "source": [
    "import pandas as pd  \n",
    "\n",
    "# Убедимся, что даты имеют правильный формат  \n",
    "df['dateUpdated'] = pd.to_datetime(df['dateUpdated'])  \n",
    "df['dateAdded'] = pd.to_datetime(df['dateAdded'])  \n",
    "\n",
    "# Добавляем столбец update_delta, рассчитывающий разницу в днях  \n",
    "df['update_delta'] = (df['dateUpdated'] - df['dateAdded']).dt.days  \n",
    "\n",
    "# Группируем данные по городам и рассчитываем необходимые значения  \n",
    "result = df.groupby('city').agg(  \n",
    "    update_delta_mean=('update_delta', 'mean'),  \n",
    "    northern_latitude=('latitude', 'max')  # Предполагаем, что широта хранится в столбце 'latitude'  \n",
    ").reset_index()  \n",
    "\n",
    "# Вычисляем среднее значение update_delta для города Zephyrhills  \n",
    "zep_mean = result.loc[result['city'] == 'Zephyrhills', 'update_delta_mean'].values[0]  \n",
    "\n",
    "# Вывод результата  \n",
    "print(result)  \n",
    "print(\"Среднее значение update_delta для Zephyrhills:\", zep_mean)  "
   ]
  },
  {
   "cell_type": "code",
   "execution_count": null,
   "id": "0976814e-9f69-478b-8abb-26c74fc9b1fa",
   "metadata": {
    "tags": []
   },
   "outputs": [],
   "source": [
    "import pandas as pd  \n",
    "\n",
    "# Убедимся, что даты имеют правильный формат  \n",
    "df['dateUpdated'] = pd.to_datetime(df['dateUpdated'])  \n",
    "df['dateAdded'] = pd.to_datetime(df['dateAdded'])  \n",
    "\n",
    "# Добавляем столбец update_delta, рассчитывающий разницу в днях  \n",
    "df['update_delta'] = (df['dateUpdated'] - df['dateAdded']).dt.days  \n",
    "\n",
    "\n",
    "result = df.groupby('city').agg(  \n",
    "    update_delta=('update_delta', 'mean'),  \n",
    "    northern_latitude=('latitude', 'max')  # Предполагаем, что широта хранится в столбце 'latitude'  \n",
    ").reset_index()  \n",
    "\n",
    "result['zap_mean'] = result[result['city']=='Zephyrhills']['update_delta'].mean()\n",
    "\n",
    "result"
   ]
  },
  {
   "cell_type": "code",
   "execution_count": null,
   "id": "a32848d9-2824-45c1-926c-5f17aa694a54",
   "metadata": {
    "tags": []
   },
   "outputs": [],
   "source": [
    "import pandas as pd  \n",
    "\n",
    "# Убедимся, что даты имеют правильный формат  \n",
    "data['dateUpdated'] = pd.to_datetime(data['dateUpdated'])  \n",
    "data['dateAdded'] = pd.to_datetime(data['dateAdded'])  \n",
    "\n",
    "# Добавляем столбец update_delta, рассчитывающий разницу в днях  \n",
    "data['update_delta'] = (data['dateUpdated'] - data['dateAdded']).dt.days  \n",
    "\n",
    "\n",
    "result = data.groupby('city').agg(  \n",
    "    update_delta=('update_delta', 'mean'),  \n",
    "    northern_latitude=('latitude', 'max')  # Предполагаем, что широта хранится в столбце 'latitude'  \n",
    ").reset_index()  \n",
    "\n",
    "result['zap_mean'] = result[result['city']=='Zephyrhills']['update_delta'].mean()\n",
    "\n",
    "result"
   ]
  },
  {
   "cell_type": "code",
   "execution_count": null,
   "id": "65563eb8-4f05-4d6a-9944-620fa734f389",
   "metadata": {
    "tags": []
   },
   "outputs": [],
   "source": [
    "import pandas as pd  \n",
    "\n",
    "# Пример создания DataFrame (замените на ваш DataFrame data)  \n",
    "# data = pd.DataFrame({ ... })  \n",
    "\n",
    "# Фильтрация ресторанов, где в categories упоминается 'Pizza'  \n",
    "pizza_restaurants = df[df['categories'].str.contains('Pizza', na=False)]  \n",
    "\n",
    "# Получение индекса 3-го элемента после фильтрации  \n",
    "third_element_index = pizza_restaurants.index[2]  # Индексы начинаются с 0, поэтому 2 - это 3-й элемент  \n",
    "\n",
    "# Вывод индекса третьего элемента  \n",
    "print(third_element_index)"
   ]
  },
  {
   "cell_type": "code",
   "execution_count": null,
   "id": "83b7e34e-801f-4eab-b8e1-183c974e56f9",
   "metadata": {
    "tags": []
   },
   "outputs": [],
   "source": [
    "import pandas as pd  \n",
    "\n",
    "# Сначала мы предполагаем, что DataFrame data уже существует и содержит нужные колонки  \n",
    "# Пример: data = pd.DataFrame({ ... })   \n",
    "\n",
    "# Преобразование дат в формат datetime  \n",
    "df['dateUpdated'] = pd.to_datetime(df['dateUpdated'])  \n",
    "df['dateAdded'] = pd.to_datetime(df['dateAdded'])  \n",
    "\n",
    "# Добавляем столбец update_delta, рассчитывающий разницу в днях  \n",
    "df['update_delta'] = (df['dateUpdated'] - df['dateAdded']).dt.days  \n",
    "\n",
    "# Рассчитываем среднее и медиану для столбца update_delta  \n",
    "mean_update_delta = df['update_delta'].mean()  \n",
    "median_update_delta = df['update_delta'].median()  \n",
    "\n",
    "# Округляем до 2 знаков после запятой  \n",
    "mean_update_delta = round(mean_update_delta, 2)  \n",
    "median_update_delta = round(median_update_delta, 2)  \n",
    "\n",
    "# Выводим результаты через пробел  \n",
    "print(f\"{mean_update_delta} {median_update_delta}\")"
   ]
  },
  {
   "cell_type": "code",
   "execution_count": null,
   "id": "fb54dd31-b27f-40bc-9562-0b3200d66ea3",
   "metadata": {
    "tags": []
   },
   "outputs": [],
   "source": [
    "import pandas as pd  \n",
    "\n",
    "# Пример создания DataFrame (замените на ваш DataFrame data)  \n",
    "# data = pd.DataFrame({ ... })  \n",
    "\n",
    "# Предполагаем, что categories - это строка, где категории разделены запятыми  \n",
    "# Фильтруем записи с более чем 20 категориями  \n",
    "df['category_count'] = df['categories'].str.split(',').str.len()  # Предполагаем, что категории разделены запятыми  \n",
    "filtered_data = df[df['category_count'] > 20]  \n",
    "\n",
    "# Группируем по провинциям и вычисляем минимальную longitude  \n",
    "result = filtered_data.groupby('province')['longitude'].min().reset_index()  \n",
    "\n",
    "# Округляем значения longitude до 3-х знаков после запятой  \n",
    "result['longitude'] = result['longitude'].round(3)  \n",
    "\n",
    "# Сохранение в CSV с сепаратором ;  \n",
    "result.to_csv('filtered_data.csv', sep=';', index=False)  \n",
    "\n",
    "print(\"Файл успешно сохранен как 'filtered_df.csv'\")  "
   ]
  },
  {
   "cell_type": "code",
   "execution_count": null,
   "id": "b24fadb2-fe37-4ea5-8656-4b6836e7973a",
   "metadata": {
    "tags": []
   },
   "outputs": [],
   "source": [
    "df['dateAdded'].head(3)"
   ]
  },
  {
   "cell_type": "markdown",
   "id": "b603e37a-21c9-4800-97c3-8b7191980536",
   "metadata": {},
   "source": [
    "# Мини проект "
   ]
  },
  {
   "cell_type": "code",
   "execution_count": null,
   "id": "e84652c4-d612-40ef-9f77-a60e4507c5ae",
   "metadata": {
    "tags": []
   },
   "outputs": [],
   "source": [
    "df = pd.read_csv('/Users/kemran/Downloads/playstore.csv',sep=',')"
   ]
  },
  {
   "cell_type": "code",
   "execution_count": null,
   "id": "596bbedd-410c-476b-9c45-ed9337149ac9",
   "metadata": {
    "tags": []
   },
   "outputs": [],
   "source": [
    "df.shape"
   ]
  },
  {
   "cell_type": "code",
   "execution_count": null,
   "id": "f144065e-1d14-4319-9b62-f2fc03c4f6a5",
   "metadata": {
    "tags": []
   },
   "outputs": [],
   "source": [
    "df.info()"
   ]
  },
  {
   "cell_type": "code",
   "execution_count": null,
   "id": "58fd34b3-4474-4604-b2ba-56d98abfe0c8",
   "metadata": {
    "tags": []
   },
   "outputs": [],
   "source": [
    "df['App'].nunique()"
   ]
  },
  {
   "cell_type": "code",
   "execution_count": null,
   "id": "c6d836be-a4a3-4d1f-b93c-60b833d93c3e",
   "metadata": {
    "tags": []
   },
   "outputs": [],
   "source": [
    "df['Rating'].isna().sum()"
   ]
  },
  {
   "cell_type": "code",
   "execution_count": null,
   "id": "f26c1173-4c64-4df9-88a3-2c85c8de7398",
   "metadata": {
    "tags": []
   },
   "outputs": [],
   "source": [
    "slice1 = df.iloc[0:3]\n",
    "slice2 = df.iloc[5:8]\n",
    "slice3 = df.iloc[15:19]\n",
    "\n",
    "df_concat = pd.concat([slice1,slice2,slice3])\n",
    "result_df = df_concat[['App', 'Size', 'Genres', 'Current Ver']]\n",
    "result_df.to_csv('result.csv')"
   ]
  },
  {
   "cell_type": "code",
   "execution_count": null,
   "id": "63e6e813-6a23-410c-a157-8460c8790ab9",
   "metadata": {
    "tags": []
   },
   "outputs": [],
   "source": [
    "t = df.drop_duplicates(subset='App').reset_index(drop=True)"
   ]
  },
  {
   "cell_type": "code",
   "execution_count": null,
   "id": "d0572a2e-c173-48a4-b49f-2e7f0e145ebc",
   "metadata": {
    "tags": []
   },
   "outputs": [],
   "source": [
    "t_agg = t.groupby('Type')['App'].nunique().reset_index()\n",
    "\n",
    "t_agg['frac'] = t_agg['App'] / t_agg['App'].sum()\n",
    "\n",
    "t_agg"
   ]
  },
  {
   "cell_type": "code",
   "execution_count": null,
   "id": "37e889a3-6ebb-4de6-b333-e23205efb8ab",
   "metadata": {
    "tags": []
   },
   "outputs": [],
   "source": [
    "d = df.drop_duplicates(subset='App').reset_index(drop=True)\n",
    "d.columns = d.columns.str.lower().str.replace(' ', '_')\n",
    "\n",
    "d[(d['category']=='EDUCATION') & (d['reviews']>=1000)].reset_index(drop=True)"
   ]
  },
  {
   "cell_type": "code",
   "execution_count": null,
   "id": "f49a04c3-be4e-4aff-9066-8fe3d5c19eee",
   "metadata": {
    "tags": []
   },
   "outputs": [],
   "source": [
    "df.drop_duplicates(subset='App').reset_index(drop=True)"
   ]
  },
  {
   "cell_type": "code",
   "execution_count": null,
   "id": "2e596fc9-7c34-44b6-b357-659b770d21bd",
   "metadata": {
    "tags": []
   },
   "outputs": [],
   "source": [
    "d = df.drop_duplicates(subset='App').reset_index(drop=True)\n",
    "d.columns = d.columns.str.lower().str.replace(' ', '_')\n",
    "\n",
    "d[(d['category']=='EDUCATION') & (d['reviews']>=1000)].reset_index(drop=True)\n",
    "\n",
    "d['price'] = d['price'].str.replace('$', '').reset_index().astype('float')['price'].reset_index(drop=True)\n",
    "\n",
    "\n",
    "df_pivot = pd.pivot_table(data = d,\n",
    "                          index = ['category','type'],\n",
    "                          values = ['price','rating','reviews'],\n",
    "                          aggfunc = 'mean')\n",
    "\n",
    "df_pivot.rename(columns = {'price':'mean_price',\n",
    "                           'rating':'mean_rating',\n",
    "                           'reviews':'mean_reviews'},\n",
    "                inplace=True)\n",
    "\n",
    "df_pivot['mean_price'] = df_pivot['mean_price'].round(2)\n",
    "df_pivot['mean_reviews'] = df_pivot['mean_reviews'].round(2)\n",
    "df_pivot['mean_rating'] = df_pivot['mean_rating'].round(1)\n",
    "df_pivot.to_csv('final.csv',sep=',')"
   ]
  },
  {
   "cell_type": "code",
   "execution_count": null,
   "id": "4dcc29e8-a69a-4200-8b00-0557f26d26a1",
   "metadata": {
    "tags": []
   },
   "outputs": [],
   "source": [
    "t = d.groupby(['category','type'])[['price','rating','reviews']].mean()"
   ]
  },
  {
   "cell_type": "code",
   "execution_count": null,
   "id": "8e2247c5-20a9-46fe-9485-966cec2fa61e",
   "metadata": {
    "tags": []
   },
   "outputs": [],
   "source": [
    "type(t)"
   ]
  },
  {
   "cell_type": "code",
   "execution_count": null,
   "id": "e8c1ebda-7337-493d-a577-d12e52a091ac",
   "metadata": {
    "tags": []
   },
   "outputs": [],
   "source": [
    "df_pivot = pd.pivot_table(data = d,\n",
    "                          index = ['category','type'],\n",
    "                          values = ['price','rating','reviews'],\n",
    "                          aggfunc = 'mean')"
   ]
  },
  {
   "cell_type": "code",
   "execution_count": null,
   "id": "7ea16d84-d6c0-4ef2-9c70-61e8e4461d6b",
   "metadata": {
    "tags": []
   },
   "outputs": [],
   "source": [
    "type(df_pivot)"
   ]
  },
  {
   "cell_type": "markdown",
   "id": "f3a8d6ca-5680-4bd3-b0dd-1a307e22157a",
   "metadata": {},
   "source": [
    "# SQL"
   ]
  },
  {
   "cell_type": "code",
   "execution_count": 2,
   "id": "f87f6468-1e71-413a-8469-6f408c5ceaa0",
   "metadata": {
    "tags": []
   },
   "outputs": [
    {
     "data": {
      "text/html": [
       "<div>\n",
       "<style scoped>\n",
       "    .dataframe tbody tr th:only-of-type {\n",
       "        vertical-align: middle;\n",
       "    }\n",
       "\n",
       "    .dataframe tbody tr th {\n",
       "        vertical-align: top;\n",
       "    }\n",
       "\n",
       "    .dataframe thead th {\n",
       "        text-align: right;\n",
       "    }\n",
       "</style>\n",
       "<table border=\"1\" class=\"dataframe\">\n",
       "  <thead>\n",
       "    <tr style=\"text-align: right;\">\n",
       "      <th></th>\n",
       "      <th>user_id</th>\n",
       "      <th>post_id</th>\n",
       "      <th>action</th>\n",
       "      <th>time</th>\n",
       "    </tr>\n",
       "  </thead>\n",
       "  <tbody>\n",
       "    <tr>\n",
       "      <th>0</th>\n",
       "      <td>144732</td>\n",
       "      <td>3003</td>\n",
       "      <td>view</td>\n",
       "      <td>2021-12-01 00:00:00</td>\n",
       "    </tr>\n",
       "    <tr>\n",
       "      <th>1</th>\n",
       "      <td>108396</td>\n",
       "      <td>3246</td>\n",
       "      <td>view</td>\n",
       "      <td>2021-12-01 00:00:00</td>\n",
       "    </tr>\n",
       "    <tr>\n",
       "      <th>2</th>\n",
       "      <td>5215</td>\n",
       "      <td>3192</td>\n",
       "      <td>view</td>\n",
       "      <td>2021-12-01 00:00:01</td>\n",
       "    </tr>\n",
       "    <tr>\n",
       "      <th>3</th>\n",
       "      <td>150000</td>\n",
       "      <td>2997</td>\n",
       "      <td>view</td>\n",
       "      <td>2021-12-01 00:00:01</td>\n",
       "    </tr>\n",
       "    <tr>\n",
       "      <th>4</th>\n",
       "      <td>144732</td>\n",
       "      <td>3166</td>\n",
       "      <td>view</td>\n",
       "      <td>2021-12-01 00:00:01</td>\n",
       "    </tr>\n",
       "    <tr>\n",
       "      <th>...</th>\n",
       "      <td>...</td>\n",
       "      <td>...</td>\n",
       "      <td>...</td>\n",
       "      <td>...</td>\n",
       "    </tr>\n",
       "    <tr>\n",
       "      <th>95</th>\n",
       "      <td>51127</td>\n",
       "      <td>3246</td>\n",
       "      <td>view</td>\n",
       "      <td>2021-12-01 00:00:17</td>\n",
       "    </tr>\n",
       "    <tr>\n",
       "      <th>96</th>\n",
       "      <td>124979</td>\n",
       "      <td>3199</td>\n",
       "      <td>view</td>\n",
       "      <td>2021-12-01 00:00:17</td>\n",
       "    </tr>\n",
       "    <tr>\n",
       "      <th>97</th>\n",
       "      <td>147885</td>\n",
       "      <td>3177</td>\n",
       "      <td>view</td>\n",
       "      <td>2021-12-01 00:00:18</td>\n",
       "    </tr>\n",
       "    <tr>\n",
       "      <th>98</th>\n",
       "      <td>50516</td>\n",
       "      <td>3071</td>\n",
       "      <td>view</td>\n",
       "      <td>2021-12-01 00:00:18</td>\n",
       "    </tr>\n",
       "    <tr>\n",
       "      <th>99</th>\n",
       "      <td>120865</td>\n",
       "      <td>2959</td>\n",
       "      <td>view</td>\n",
       "      <td>2021-12-01 00:00:18</td>\n",
       "    </tr>\n",
       "  </tbody>\n",
       "</table>\n",
       "<p>100 rows × 4 columns</p>\n",
       "</div>"
      ],
      "text/plain": [
       "    user_id  post_id action                time\n",
       "0    144732     3003   view 2021-12-01 00:00:00\n",
       "1    108396     3246   view 2021-12-01 00:00:00\n",
       "2      5215     3192   view 2021-12-01 00:00:01\n",
       "3    150000     2997   view 2021-12-01 00:00:01\n",
       "4    144732     3166   view 2021-12-01 00:00:01\n",
       "..      ...      ...    ...                 ...\n",
       "95    51127     3246   view 2021-12-01 00:00:17\n",
       "96   124979     3199   view 2021-12-01 00:00:17\n",
       "97   147885     3177   view 2021-12-01 00:00:18\n",
       "98    50516     3071   view 2021-12-01 00:00:18\n",
       "99   120865     2959   view 2021-12-01 00:00:18\n",
       "\n",
       "[100 rows x 4 columns]"
      ]
     },
     "execution_count": 2,
     "metadata": {},
     "output_type": "execute_result"
    }
   ],
   "source": [
    "database=\"startml\",\n",
    "user=\"robot-startml-ro\",\n",
    "password=\"pheiph0hahj1Vaif\",\n",
    "host=\"postgres.lab.karpov.courses\",\n",
    "port=6432\n",
    "\n",
    "import pandas as pd\n",
    "\n",
    "feed_action = pd.read_sql(\n",
    "    \"\"\"SELECT * FROM \"feed_action\"  WHERE action='view' AND time::date>='2021-12-01' LIMIT 100 \"\"\",\n",
    "    con=\"postgresql://robot-startml-ro:pheiph0hahj1Vaif@\"\n",
    "        \"postgres.lab.karpov.courses:6432/startml\"\n",
    ")\n",
    "\n",
    "feed_action.head(100)"
   ]
  },
  {
   "cell_type": "code",
   "execution_count": 4,
   "id": "869c37fd-ebe2-4629-8776-78cf1286dc75",
   "metadata": {
    "tags": []
   },
   "outputs": [
    {
     "data": {
      "text/html": [
       "<div>\n",
       "<style scoped>\n",
       "    .dataframe tbody tr th:only-of-type {\n",
       "        vertical-align: middle;\n",
       "    }\n",
       "\n",
       "    .dataframe tbody tr th {\n",
       "        vertical-align: top;\n",
       "    }\n",
       "\n",
       "    .dataframe thead th {\n",
       "        text-align: right;\n",
       "    }\n",
       "</style>\n",
       "<table border=\"1\" class=\"dataframe\">\n",
       "  <thead>\n",
       "    <tr style=\"text-align: right;\">\n",
       "      <th></th>\n",
       "      <th>id</th>\n",
       "      <th>gender</th>\n",
       "      <th>age</th>\n",
       "      <th>country</th>\n",
       "      <th>city</th>\n",
       "      <th>exp_group</th>\n",
       "      <th>os</th>\n",
       "      <th>source</th>\n",
       "    </tr>\n",
       "  </thead>\n",
       "  <tbody>\n",
       "    <tr>\n",
       "      <th>0</th>\n",
       "      <td>200</td>\n",
       "      <td>1</td>\n",
       "      <td>34</td>\n",
       "      <td>Russia</td>\n",
       "      <td>Degtyarsk</td>\n",
       "      <td>3</td>\n",
       "      <td>Android</td>\n",
       "      <td>ads</td>\n",
       "    </tr>\n",
       "    <tr>\n",
       "      <th>1</th>\n",
       "      <td>201</td>\n",
       "      <td>0</td>\n",
       "      <td>37</td>\n",
       "      <td>Russia</td>\n",
       "      <td>Abakan</td>\n",
       "      <td>0</td>\n",
       "      <td>Android</td>\n",
       "      <td>ads</td>\n",
       "    </tr>\n",
       "    <tr>\n",
       "      <th>2</th>\n",
       "      <td>202</td>\n",
       "      <td>1</td>\n",
       "      <td>17</td>\n",
       "      <td>Russia</td>\n",
       "      <td>Smolensk</td>\n",
       "      <td>4</td>\n",
       "      <td>Android</td>\n",
       "      <td>ads</td>\n",
       "    </tr>\n",
       "    <tr>\n",
       "      <th>3</th>\n",
       "      <td>203</td>\n",
       "      <td>0</td>\n",
       "      <td>18</td>\n",
       "      <td>Russia</td>\n",
       "      <td>Moscow</td>\n",
       "      <td>1</td>\n",
       "      <td>iOS</td>\n",
       "      <td>ads</td>\n",
       "    </tr>\n",
       "    <tr>\n",
       "      <th>4</th>\n",
       "      <td>204</td>\n",
       "      <td>0</td>\n",
       "      <td>36</td>\n",
       "      <td>Russia</td>\n",
       "      <td>Anzhero-Sudzhensk</td>\n",
       "      <td>3</td>\n",
       "      <td>Android</td>\n",
       "      <td>ads</td>\n",
       "    </tr>\n",
       "  </tbody>\n",
       "</table>\n",
       "</div>"
      ],
      "text/plain": [
       "    id  gender  age country               city  exp_group       os source\n",
       "0  200       1   34  Russia          Degtyarsk          3  Android    ads\n",
       "1  201       0   37  Russia             Abakan          0  Android    ads\n",
       "2  202       1   17  Russia           Smolensk          4  Android    ads\n",
       "3  203       0   18  Russia             Moscow          1      iOS    ads\n",
       "4  204       0   36  Russia  Anzhero-Sudzhensk          3  Android    ads"
      ]
     },
     "execution_count": 4,
     "metadata": {},
     "output_type": "execute_result"
    }
   ],
   "source": [
    "user = pd.read_sql(\n",
    "    \"\"\"SELECT * FROM \"user\"  \"\"\",\n",
    "    con=\"postgresql://robot-startml-ro:pheiph0hahj1Vaif@\"\n",
    "        \"postgres.lab.karpov.courses:6432/startml\"\n",
    ")\n",
    "\n",
    "user.head()"
   ]
  },
  {
   "cell_type": "code",
   "execution_count": 6,
   "id": "3b05a6f8-cf2d-4429-be0e-cc1109320474",
   "metadata": {
    "tags": []
   },
   "outputs": [
    {
     "data": {
      "text/html": [
       "<div>\n",
       "<style scoped>\n",
       "    .dataframe tbody tr th:only-of-type {\n",
       "        vertical-align: middle;\n",
       "    }\n",
       "\n",
       "    .dataframe tbody tr th {\n",
       "        vertical-align: top;\n",
       "    }\n",
       "\n",
       "    .dataframe thead th {\n",
       "        text-align: right;\n",
       "    }\n",
       "</style>\n",
       "<table border=\"1\" class=\"dataframe\">\n",
       "  <thead>\n",
       "    <tr style=\"text-align: right;\">\n",
       "      <th></th>\n",
       "      <th>id</th>\n",
       "      <th>text</th>\n",
       "      <th>topic</th>\n",
       "    </tr>\n",
       "  </thead>\n",
       "  <tbody>\n",
       "    <tr>\n",
       "      <th>0</th>\n",
       "      <td>1</td>\n",
       "      <td>UK economy facing major risks\\n\\nThe UK manufa...</td>\n",
       "      <td>business</td>\n",
       "    </tr>\n",
       "    <tr>\n",
       "      <th>1</th>\n",
       "      <td>2</td>\n",
       "      <td>Aids and climate top Davos agenda\\n\\nClimate c...</td>\n",
       "      <td>business</td>\n",
       "    </tr>\n",
       "    <tr>\n",
       "      <th>2</th>\n",
       "      <td>3</td>\n",
       "      <td>Asian quake hits European shares\\n\\nShares in ...</td>\n",
       "      <td>business</td>\n",
       "    </tr>\n",
       "    <tr>\n",
       "      <th>3</th>\n",
       "      <td>4</td>\n",
       "      <td>India power shares jump on debut\\n\\nShares in ...</td>\n",
       "      <td>business</td>\n",
       "    </tr>\n",
       "    <tr>\n",
       "      <th>4</th>\n",
       "      <td>5</td>\n",
       "      <td>Lacroix label bought by US firm\\n\\nLuxury good...</td>\n",
       "      <td>business</td>\n",
       "    </tr>\n",
       "  </tbody>\n",
       "</table>\n",
       "</div>"
      ],
      "text/plain": [
       "   id                                               text     topic\n",
       "0   1  UK economy facing major risks\\n\\nThe UK manufa...  business\n",
       "1   2  Aids and climate top Davos agenda\\n\\nClimate c...  business\n",
       "2   3  Asian quake hits European shares\\n\\nShares in ...  business\n",
       "3   4  India power shares jump on debut\\n\\nShares in ...  business\n",
       "4   5  Lacroix label bought by US firm\\n\\nLuxury good...  business"
      ]
     },
     "execution_count": 6,
     "metadata": {},
     "output_type": "execute_result"
    }
   ],
   "source": [
    "post = pd.read_sql(\n",
    "    \"\"\"SELECT *\n",
    "        FROM \"post\"\n",
    "        \n",
    "        \"\"\",\n",
    "    con=\"postgresql://robot-startml-ro:pheiph0hahj1Vaif@\"\n",
    "        \"postgres.lab.karpov.courses:6432/startml\"\n",
    ")\n",
    "\n",
    "post.head()"
   ]
  },
  {
   "cell_type": "code",
   "execution_count": null,
   "id": "4104e707-3aa9-4766-8643-681103a86c5a",
   "metadata": {
    "tags": []
   },
   "outputs": [],
   "source": [
    "post['len'] = post['text'].str.len()\n",
    "\n",
    "post.groupby('topic')['len'].max()"
   ]
  },
  {
   "cell_type": "code",
   "execution_count": null,
   "id": "3ff34a7f-5234-48c3-b1e5-283c2ec790eb",
   "metadata": {
    "tags": []
   },
   "outputs": [],
   "source": [
    "user[(user['age']>=30) & (user['os']=='iOS')]"
   ]
  },
  {
   "cell_type": "code",
   "execution_count": null,
   "id": "81c13c2a-f358-4c50-bc3a-d4f15e5a2934",
   "metadata": {
    "tags": []
   },
   "outputs": [],
   "source": [
    "pd.read_csv('/Users/kemran/Downloads/sql (1).csv')"
   ]
  },
  {
   "cell_type": "code",
   "execution_count": null,
   "id": "e8ef6f9d-137e-4144-b08f-7d26eb2fde4c",
   "metadata": {
    "tags": []
   },
   "outputs": [],
   "source": [
    "user = pd.read_sql(\n",
    "    \"\"\" SELECT exp_group,city,avg(age) AS mean_age, count(id) AS cnt_user\n",
    "        FROM \"user\"\n",
    "        WHERE city='Omsk'\n",
    "        GROUP BY 1,2\n",
    "        --HAVING avg(age)>=27.2\n",
    "        \n",
    "    \"\"\",\n",
    "    con=\"postgresql://robot-startml-ro:pheiph0hahj1Vaif@\"\n",
    "        \"postgres.lab.karpov.courses:6432/startml\"\n",
    ")\n",
    "\n",
    "user.head(10)\n",
    "\n",
    "#user.to_csv('sql.csv',sep=',',index=False)"
   ]
  },
  {
   "cell_type": "markdown",
   "id": "eb1a35cb-5b78-4ee1-9517-f66851a76a70",
   "metadata": {},
   "source": [
    "## Для финального проекта"
   ]
  },
  {
   "cell_type": "code",
   "execution_count": null,
   "id": "8109f7dd-8ef0-4742-842f-058e7ec6a3b3",
   "metadata": {
    "tags": []
   },
   "outputs": [],
   "source": [
    "user = pd.read_sql(\n",
    "    \"\"\" SELECT t2.post_id,count(t1.id) AS cnt_like,count(distinct t1.id) as cnt_user,max(t2.time) as max_time\n",
    "        FROM (SELECT * FROM \"user\") t1\n",
    "        INNER JOIN (SELECT * FROM \"feed_action\" WHERE action='like') t2 on t1.id=t2.user_id\n",
    "        INNER JOIN (SELECT * FROM \"post\" WHERE topic='covid') t3 on t1.post_id=t2.id\n",
    "        GROUP BY 1\n",
    "        ORDER BY cnt_like DESC\n",
    "    \"\"\",\n",
    "    con=\"postgresql://robot-startml-ro:pheiph0hahj1Vaif@\"\n",
    "        \"postgres.lab.karpov.courses:6432/startml\"\n",
    ")\n",
    "\n",
    "user.head(100)\n",
    "\n",
    "#user.to_csv('sql.csv',sep=',',index=False)"
   ]
  },
  {
   "cell_type": "code",
   "execution_count": 16,
   "id": "09e33f80-d2c1-48a4-8ac6-b314dd9f1f15",
   "metadata": {
    "tags": []
   },
   "outputs": [
    {
     "data": {
      "text/html": [
       "<div>\n",
       "<style scoped>\n",
       "    .dataframe tbody tr th:only-of-type {\n",
       "        vertical-align: middle;\n",
       "    }\n",
       "\n",
       "    .dataframe tbody tr th {\n",
       "        vertical-align: top;\n",
       "    }\n",
       "\n",
       "    .dataframe thead th {\n",
       "        text-align: right;\n",
       "    }\n",
       "</style>\n",
       "<table border=\"1\" class=\"dataframe\">\n",
       "  <thead>\n",
       "    <tr style=\"text-align: right;\">\n",
       "      <th></th>\n",
       "      <th>post_id</th>\n",
       "      <th>cnt_like</th>\n",
       "      <th>cnt_user</th>\n",
       "      <th>max_time</th>\n",
       "    </tr>\n",
       "  </thead>\n",
       "  <tbody>\n",
       "    <tr>\n",
       "      <th>0</th>\n",
       "      <td>4866</td>\n",
       "      <td>31714</td>\n",
       "      <td>31714</td>\n",
       "      <td>2022-01-01 13:57:43</td>\n",
       "    </tr>\n",
       "    <tr>\n",
       "      <th>1</th>\n",
       "      <td>5127</td>\n",
       "      <td>29637</td>\n",
       "      <td>29637</td>\n",
       "      <td>2022-01-05 13:52:17</td>\n",
       "    </tr>\n",
       "    <tr>\n",
       "      <th>2</th>\n",
       "      <td>6448</td>\n",
       "      <td>27939</td>\n",
       "      <td>27939</td>\n",
       "      <td>2022-01-22 05:50:39</td>\n",
       "    </tr>\n",
       "    <tr>\n",
       "      <th>3</th>\n",
       "      <td>6498</td>\n",
       "      <td>27729</td>\n",
       "      <td>27729</td>\n",
       "      <td>2022-01-22 21:45:11</td>\n",
       "    </tr>\n",
       "    <tr>\n",
       "      <th>4</th>\n",
       "      <td>6513</td>\n",
       "      <td>27686</td>\n",
       "      <td>27686</td>\n",
       "      <td>2022-01-22 19:59:52</td>\n",
       "    </tr>\n",
       "    <tr>\n",
       "      <th>...</th>\n",
       "      <td>...</td>\n",
       "      <td>...</td>\n",
       "      <td>...</td>\n",
       "      <td>...</td>\n",
       "    </tr>\n",
       "    <tr>\n",
       "      <th>95</th>\n",
       "      <td>6281</td>\n",
       "      <td>14563</td>\n",
       "      <td>14563</td>\n",
       "      <td>2022-01-18 23:57:42</td>\n",
       "    </tr>\n",
       "    <tr>\n",
       "      <th>96</th>\n",
       "      <td>5659</td>\n",
       "      <td>14533</td>\n",
       "      <td>14533</td>\n",
       "      <td>2022-01-09 21:58:42</td>\n",
       "    </tr>\n",
       "    <tr>\n",
       "      <th>97</th>\n",
       "      <td>6737</td>\n",
       "      <td>14526</td>\n",
       "      <td>14526</td>\n",
       "      <td>2022-01-23 19:57:01</td>\n",
       "    </tr>\n",
       "    <tr>\n",
       "      <th>98</th>\n",
       "      <td>5166</td>\n",
       "      <td>14463</td>\n",
       "      <td>14463</td>\n",
       "      <td>2022-01-03 21:57:11</td>\n",
       "    </tr>\n",
       "    <tr>\n",
       "      <th>99</th>\n",
       "      <td>7077</td>\n",
       "      <td>14329</td>\n",
       "      <td>14329</td>\n",
       "      <td>2022-01-26 23:58:45</td>\n",
       "    </tr>\n",
       "  </tbody>\n",
       "</table>\n",
       "<p>100 rows × 4 columns</p>\n",
       "</div>"
      ],
      "text/plain": [
       "    post_id  cnt_like  cnt_user            max_time\n",
       "0      4866     31714     31714 2022-01-01 13:57:43\n",
       "1      5127     29637     29637 2022-01-05 13:52:17\n",
       "2      6448     27939     27939 2022-01-22 05:50:39\n",
       "3      6498     27729     27729 2022-01-22 21:45:11\n",
       "4      6513     27686     27686 2022-01-22 19:59:52\n",
       "..      ...       ...       ...                 ...\n",
       "95     6281     14563     14563 2022-01-18 23:57:42\n",
       "96     5659     14533     14533 2022-01-09 21:58:42\n",
       "97     6737     14526     14526 2022-01-23 19:57:01\n",
       "98     5166     14463     14463 2022-01-03 21:57:11\n",
       "99     7077     14329     14329 2022-01-26 23:58:45\n",
       "\n",
       "[100 rows x 4 columns]"
      ]
     },
     "execution_count": 16,
     "metadata": {},
     "output_type": "execute_result"
    }
   ],
   "source": [
    "user = pd.read_sql(\n",
    "    \"\"\" SELECT \n",
    "        t1.post_id,\n",
    "        count(t1.user_id) AS cnt_like,\n",
    "        count(distinct t1.user_id) as cnt_user,\n",
    "        max(t1.time) as max_time\n",
    "        FROM (SELECT * FROM \"feed_action\" WHERE action='like') AS t1\n",
    "        INNER JOIN (SELECT * FROM \"post\") AS  t2 on t1.post_id=t2.id\n",
    "        GROUP BY 1\n",
    "        ORDER BY 2 DESC \n",
    "    \"\"\",\n",
    "    con=\"postgresql://robot-startml-ro:pheiph0hahj1Vaif@\"\n",
    "        \"postgres.lab.karpov.courses:6432/startml\"\n",
    ")\n",
    "\n",
    "user.head(100)\n",
    "\n",
    "#user.to_csv('sql.csv',sep=',',index=False)"
   ]
  },
  {
   "cell_type": "code",
   "execution_count": null,
   "id": "92c9796f-a485-497a-8afb-15c7c2a24f55",
   "metadata": {
    "tags": []
   },
   "outputs": [],
   "source": [
    "user = pd.read_sql(\n",
    "    \"\"\" SELECT *\n",
    "        FROM \"feed_action\"\n",
    "        WHERE action='like'\n",
    "        LIMIT 100\n",
    "\n",
    "    \"\"\",\n",
    "    con=\"postgresql://robot-startml-ro:pheiph0hahj1Vaif@\"\n",
    "        \"postgres.lab.karpov.courses:6432/startml\"\n",
    ")\n",
    "\n",
    "user.head(100)"
   ]
  },
  {
   "cell_type": "code",
   "execution_count": null,
   "id": "d4bbc5c8-eb68-47db-9621-1233fd72093b",
   "metadata": {
    "tags": []
   },
   "outputs": [],
   "source": [
    "user.to_csv('sql2.csv',index=False)"
   ]
  },
  {
   "cell_type": "code",
   "execution_count": null,
   "id": "d86fdc4d-4c39-4494-92c9-4ae891af5c17",
   "metadata": {
    "tags": []
   },
   "outputs": [],
   "source": [
    "pd.read_csv('/Users/kemran/Downloads/sql2 (2).csv')"
   ]
  },
  {
   "cell_type": "code",
   "execution_count": null,
   "id": "cd9bf8cd-bb45-47f9-b48f-ff507310ffe5",
   "metadata": {},
   "outputs": [],
   "source": []
  }
 ],
 "metadata": {
  "kernelspec": {
   "display_name": "Python 3 (ipykernel)",
   "language": "python",
   "name": "python3"
  },
  "language_info": {
   "codemirror_mode": {
    "name": "ipython",
    "version": 3
   },
   "file_extension": ".py",
   "mimetype": "text/x-python",
   "name": "python",
   "nbconvert_exporter": "python",
   "pygments_lexer": "ipython3",
   "version": "3.11.7"
  }
 },
 "nbformat": 4,
 "nbformat_minor": 5
}
